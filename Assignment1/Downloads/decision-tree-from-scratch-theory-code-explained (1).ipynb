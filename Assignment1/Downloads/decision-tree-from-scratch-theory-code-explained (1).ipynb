{
 "cells": [
  {
   "cell_type": "markdown",
   "metadata": {},
   "source": [
    "\n",
    "# Decision Tree From Scratch\n",
    "\n",
    "## In this notebook we buid a Decision Tree for a classification problem.\n",
    "\n",
    "\n",
    "## Entropy - How does the decision tree make decisions?\n",
    "A Decision Tree breaks down a dataset into smaller subsets with increase in depth. Entropy controls how a Decision Tree decides to split the data. But what is Entropy? \n",
    "Don't be scared! It's actually quite simple :D"
   ]
  },
  {
   "cell_type": "code",
   "execution_count": 2,
   "metadata": {
    "_cell_guid": "79c7e3d0-c299-4dcb-8224-4455121ee9b0",
    "_uuid": "d629ff2d2480ee46fbb7e2d37f6b5fab8052498a"
   },
   "outputs": [
    {
     "data": {
      "text/html": [
       "<div>\n",
       "<style scoped>\n",
       "    .dataframe tbody tr th:only-of-type {\n",
       "        vertical-align: middle;\n",
       "    }\n",
       "\n",
       "    .dataframe tbody tr th {\n",
       "        vertical-align: top;\n",
       "    }\n",
       "\n",
       "    .dataframe thead th {\n",
       "        text-align: right;\n",
       "    }\n",
       "</style>\n",
       "<table border=\"1\" class=\"dataframe\">\n",
       "  <thead>\n",
       "    <tr style=\"text-align: right;\">\n",
       "      <th></th>\n",
       "      <th>Python Skills</th>\n",
       "      <th>Java Skills</th>\n",
       "      <th>Qualification</th>\n",
       "    </tr>\n",
       "  </thead>\n",
       "  <tbody>\n",
       "    <tr>\n",
       "      <th>0</th>\n",
       "      <td>False</td>\n",
       "      <td>False</td>\n",
       "      <td>not qualified</td>\n",
       "    </tr>\n",
       "    <tr>\n",
       "      <th>1</th>\n",
       "      <td>False</td>\n",
       "      <td>False</td>\n",
       "      <td>not qualified</td>\n",
       "    </tr>\n",
       "    <tr>\n",
       "      <th>2</th>\n",
       "      <td>False</td>\n",
       "      <td>False</td>\n",
       "      <td>not qualified</td>\n",
       "    </tr>\n",
       "    <tr>\n",
       "      <th>3</th>\n",
       "      <td>False</td>\n",
       "      <td>True</td>\n",
       "      <td>not qualified</td>\n",
       "    </tr>\n",
       "    <tr>\n",
       "      <th>4</th>\n",
       "      <td>True</td>\n",
       "      <td>False</td>\n",
       "      <td>qualified</td>\n",
       "    </tr>\n",
       "    <tr>\n",
       "      <th>5</th>\n",
       "      <td>True</td>\n",
       "      <td>True</td>\n",
       "      <td>qualified</td>\n",
       "    </tr>\n",
       "    <tr>\n",
       "      <th>6</th>\n",
       "      <td>True</td>\n",
       "      <td>True</td>\n",
       "      <td>qualified</td>\n",
       "    </tr>\n",
       "    <tr>\n",
       "      <th>7</th>\n",
       "      <td>True</td>\n",
       "      <td>False</td>\n",
       "      <td>qualified</td>\n",
       "    </tr>\n",
       "    <tr>\n",
       "      <th>8</th>\n",
       "      <td>True</td>\n",
       "      <td>True</td>\n",
       "      <td>qualified</td>\n",
       "    </tr>\n",
       "    <tr>\n",
       "      <th>9</th>\n",
       "      <td>True</td>\n",
       "      <td>True</td>\n",
       "      <td>qualified</td>\n",
       "    </tr>\n",
       "  </tbody>\n",
       "</table>\n",
       "</div>"
      ],
      "text/plain": [
       "   Python Skills  Java Skills  Qualification\n",
       "0          False        False  not qualified\n",
       "1          False        False  not qualified\n",
       "2          False        False  not qualified\n",
       "3          False         True  not qualified\n",
       "4           True        False      qualified\n",
       "5           True         True      qualified\n",
       "6           True         True      qualified\n",
       "7           True        False      qualified\n",
       "8           True         True      qualified\n",
       "9           True         True      qualified"
      ]
     },
     "execution_count": 2,
     "metadata": {},
     "output_type": "execute_result"
    }
   ],
   "source": [
    "import pandas as pd\n",
    "df = pd.DataFrame({'Python Skills':[False, False, False, False, True, True, True, True, True, True],\n",
    "                     'Java Skills':[False, False, False, True, False, True, True, False, True, True],\n",
    "                     'Qualification':['not qualified', 'not qualified', 'not qualified', 'not qualified', 'qualified', 'qualified', 'qualified', 'qualified', 'qualified', 'qualified']})\n",
    "df"
   ]
  },
  {
   "cell_type": "markdown",
   "metadata": {},
   "source": [
    "In this example, we are looking at a job's qualification data. It is easy for us to notice that all the candidates with python skills are qualified for the job, but how does the computer know? Before breaking up the data into smaller subsets, let's calculate the entropy for the whole qualification column before splitting. \n",
    "\n",
    "As we can see, out of 10 applicants, 6 are qualified and 4 are not. Thus the probability of being qualified is 0.6, and the probability of not being qualified is 0.4. The entropy can be derived as follows:  \n",
    "  \n",
    "<a href=\"https://www.codecogs.com/eqnedit.php?latex=\\dpi{150}&space;\\large&space;\\bg_white&space;Entropy\\;&space;H(X)&space;=&space;-0.6\\log_20.6-0.4\\log_20.4=0.97095...\" target=\"_blank\"><img src=\"https://latex.codecogs.com/gif.latex?\\dpi{150}&space;\\large&space;\\bg_white&space;Entropy\\;&space;H(X)&space;=&space;-0.6\\log_20.6-0.4\\log_20.4=0.97095...\" title=\"\\large \\bg_white Entropy\\; H(X) = -0.6\\log_20.6-0.4\\log_20.4=0.97095...\" /></a>  \n",
    "The higher the entropy the messier our data is, 0.97 is quite high, so we have a problem.\n",
    "The goal of our decision tree is to make the entropy go down as fast as possible while minimizing depth. In the world of machine learning, we prefer short trees, not tall ones.\n",
    "<img src=\"http://www.gardeningknowhow.com/wp-content/uploads/2015/03/tree-jasmine.jpg\"  width=500, height=500>\n",
    "Now lets break down the data into subsets, we can break up the data according to:\n",
    "- Python skills (True or False)\n",
    "- or Java skills (True or False)"
   ]
  },
  {
   "cell_type": "code",
   "execution_count": 3,
   "metadata": {},
   "outputs": [
    {
     "data": {
      "image/png": "[encoded data removed]",
      "text/plain": [
       "<IPython.core.display.Image object>"
      ]
     },
     "execution_count": 3,
     "metadata": {
      "image/png": {
       "height": 900,
       "width": 900
      }
     },
     "output_type": "execute_result"
    }
   ],
   "source": [
    "from IPython.display import Image\n",
    "Image(filename = \"pic2.png\", width=900, height=900)"
   ]
  },
  {
   "cell_type": "markdown",
   "metadata": {},
   "source": [
    "### Break according to Java skills"
   ]
  },
  {
   "cell_type": "code",
   "execution_count": 4,
   "metadata": {},
   "outputs": [
    {
     "data": {
      "text/html": [
       "<div>\n",
       "<style scoped>\n",
       "    .dataframe tbody tr th:only-of-type {\n",
       "        vertical-align: middle;\n",
       "    }\n",
       "\n",
       "    .dataframe tbody tr th {\n",
       "        vertical-align: top;\n",
       "    }\n",
       "\n",
       "    .dataframe thead th {\n",
       "        text-align: right;\n",
       "    }\n",
       "</style>\n",
       "<table border=\"1\" class=\"dataframe\">\n",
       "  <thead>\n",
       "    <tr style=\"text-align: right;\">\n",
       "      <th></th>\n",
       "      <th>Python Skills</th>\n",
       "      <th>Java Skills</th>\n",
       "      <th>Qualification</th>\n",
       "    </tr>\n",
       "  </thead>\n",
       "  <tbody>\n",
       "    <tr>\n",
       "      <th>3</th>\n",
       "      <td>False</td>\n",
       "      <td>True</td>\n",
       "      <td>not qualified</td>\n",
       "    </tr>\n",
       "    <tr>\n",
       "      <th>5</th>\n",
       "      <td>True</td>\n",
       "      <td>True</td>\n",
       "      <td>qualified</td>\n",
       "    </tr>\n",
       "    <tr>\n",
       "      <th>6</th>\n",
       "      <td>True</td>\n",
       "      <td>True</td>\n",
       "      <td>qualified</td>\n",
       "    </tr>\n",
       "    <tr>\n",
       "      <th>8</th>\n",
       "      <td>True</td>\n",
       "      <td>True</td>\n",
       "      <td>qualified</td>\n",
       "    </tr>\n",
       "    <tr>\n",
       "      <th>9</th>\n",
       "      <td>True</td>\n",
       "      <td>True</td>\n",
       "      <td>qualified</td>\n",
       "    </tr>\n",
       "  </tbody>\n",
       "</table>\n",
       "</div>"
      ],
      "text/plain": [
       "   Python Skills  Java Skills  Qualification\n",
       "3          False         True  not qualified\n",
       "5           True         True      qualified\n",
       "6           True         True      qualified\n",
       "8           True         True      qualified\n",
       "9           True         True      qualified"
      ]
     },
     "execution_count": 4,
     "metadata": {},
     "output_type": "execute_result"
    }
   ],
   "source": [
    "mask = df['Java Skills'] == True\n",
    "with_Java_df = df[mask]\n",
    "with_Java_df"
   ]
  },
  {
   "cell_type": "code",
   "execution_count": 5,
   "metadata": {},
   "outputs": [
    {
     "data": {
      "text/html": [
       "<div>\n",
       "<style scoped>\n",
       "    .dataframe tbody tr th:only-of-type {\n",
       "        vertical-align: middle;\n",
       "    }\n",
       "\n",
       "    .dataframe tbody tr th {\n",
       "        vertical-align: top;\n",
       "    }\n",
       "\n",
       "    .dataframe thead th {\n",
       "        text-align: right;\n",
       "    }\n",
       "</style>\n",
       "<table border=\"1\" class=\"dataframe\">\n",
       "  <thead>\n",
       "    <tr style=\"text-align: right;\">\n",
       "      <th></th>\n",
       "      <th>Python Skills</th>\n",
       "      <th>Java Skills</th>\n",
       "      <th>Qualification</th>\n",
       "    </tr>\n",
       "  </thead>\n",
       "  <tbody>\n",
       "    <tr>\n",
       "      <th>0</th>\n",
       "      <td>False</td>\n",
       "      <td>False</td>\n",
       "      <td>not qualified</td>\n",
       "    </tr>\n",
       "    <tr>\n",
       "      <th>1</th>\n",
       "      <td>False</td>\n",
       "      <td>False</td>\n",
       "      <td>not qualified</td>\n",
       "    </tr>\n",
       "    <tr>\n",
       "      <th>2</th>\n",
       "      <td>False</td>\n",
       "      <td>False</td>\n",
       "      <td>not qualified</td>\n",
       "    </tr>\n",
       "    <tr>\n",
       "      <th>4</th>\n",
       "      <td>True</td>\n",
       "      <td>False</td>\n",
       "      <td>qualified</td>\n",
       "    </tr>\n",
       "    <tr>\n",
       "      <th>7</th>\n",
       "      <td>True</td>\n",
       "      <td>False</td>\n",
       "      <td>qualified</td>\n",
       "    </tr>\n",
       "  </tbody>\n",
       "</table>\n",
       "</div>"
      ],
      "text/plain": [
       "   Python Skills  Java Skills  Qualification\n",
       "0          False        False  not qualified\n",
       "1          False        False  not qualified\n",
       "2          False        False  not qualified\n",
       "4           True        False      qualified\n",
       "7           True        False      qualified"
      ]
     },
     "execution_count": 5,
     "metadata": {},
     "output_type": "execute_result"
    }
   ],
   "source": [
    "# we can invert mask by adding ~\n",
    "without_java_df = df[~mask]\n",
    "without_java_df"
   ]
  },
  {
   "cell_type": "code",
   "execution_count": 14,
   "metadata": {},
   "outputs": [
    {
     "name": "stdout",
     "output_type": "stream",
     "text": [
      "before_split 0.9709505944546686\n",
      "E_java_true 0.7219280948873623\n",
      "E_java_false 0.9709505944546686\n",
      "info 0.8464393446710154\n",
      "gain 0.12451124978365313\n"
     ]
    }
   ],
   "source": [
    "# We can calculate entropy by hand\n",
    "\n",
    "import numpy as np\n",
    "from math import log\n",
    "\n",
    "i, j =6/10,4/10\n",
    "before_split = -i*log(i,2)-j*log(j,2)\n",
    "print('before_split',before_split)\n",
    "\n",
    "i,j=4/5,1/5\n",
    "E_java_true = -i*log(i,2)-j*log(j,2)\n",
    "print('E_java_true', E_java_true)\n",
    "\n",
    "i,j=2/5,3/5\n",
    "E_java_false = -i*log(i,2)-j*log(j,2)\n",
    "print('E_java_false',E_java_false)\n",
    "\n",
    "info = (E_java_true * 5/10)+(E_java_false * 5/10)\n",
    "print('info',info)\n",
    "\n",
    "gain = before_split-info\n",
    "print('gain', gain)"
   ]
  },
  {
   "cell_type": "markdown",
   "metadata": {},
   "source": [
    "The entropy for the two subsets above can be derived as follows:  \n",
    " </a>  \n",
    "We now have the **information gain,** which is the number the decision tree looks at to determine which feature to use when it starts a new branch. Now 0.12452 is not that good, so lets try with the other feature - Python Skills."
   ]
  },
  {
   "cell_type": "code",
   "execution_count": 15,
   "metadata": {},
   "outputs": [
    {
     "data": {
      "text/html": [
       "<div>\n",
       "<style scoped>\n",
       "    .dataframe tbody tr th:only-of-type {\n",
       "        vertical-align: middle;\n",
       "    }\n",
       "\n",
       "    .dataframe tbody tr th {\n",
       "        vertical-align: top;\n",
       "    }\n",
       "\n",
       "    .dataframe thead th {\n",
       "        text-align: right;\n",
       "    }\n",
       "</style>\n",
       "<table border=\"1\" class=\"dataframe\">\n",
       "  <thead>\n",
       "    <tr style=\"text-align: right;\">\n",
       "      <th></th>\n",
       "      <th>Python Skills</th>\n",
       "      <th>Java Skills</th>\n",
       "      <th>Qualification</th>\n",
       "    </tr>\n",
       "  </thead>\n",
       "  <tbody>\n",
       "    <tr>\n",
       "      <th>4</th>\n",
       "      <td>True</td>\n",
       "      <td>False</td>\n",
       "      <td>qualified</td>\n",
       "    </tr>\n",
       "    <tr>\n",
       "      <th>5</th>\n",
       "      <td>True</td>\n",
       "      <td>True</td>\n",
       "      <td>qualified</td>\n",
       "    </tr>\n",
       "    <tr>\n",
       "      <th>6</th>\n",
       "      <td>True</td>\n",
       "      <td>True</td>\n",
       "      <td>qualified</td>\n",
       "    </tr>\n",
       "    <tr>\n",
       "      <th>7</th>\n",
       "      <td>True</td>\n",
       "      <td>False</td>\n",
       "      <td>qualified</td>\n",
       "    </tr>\n",
       "    <tr>\n",
       "      <th>8</th>\n",
       "      <td>True</td>\n",
       "      <td>True</td>\n",
       "      <td>qualified</td>\n",
       "    </tr>\n",
       "    <tr>\n",
       "      <th>9</th>\n",
       "      <td>True</td>\n",
       "      <td>True</td>\n",
       "      <td>qualified</td>\n",
       "    </tr>\n",
       "  </tbody>\n",
       "</table>\n",
       "</div>"
      ],
      "text/plain": [
       "   Python Skills  Java Skills Qualification\n",
       "4           True        False     qualified\n",
       "5           True         True     qualified\n",
       "6           True         True     qualified\n",
       "7           True        False     qualified\n",
       "8           True         True     qualified\n",
       "9           True         True     qualified"
      ]
     },
     "execution_count": 15,
     "metadata": {},
     "output_type": "execute_result"
    }
   ],
   "source": [
    "mask = df['Python Skills'] == True\n",
    "with_python_df = df[mask]\n",
    "with_python_df"
   ]
  },
  {
   "cell_type": "code",
   "execution_count": 16,
   "metadata": {},
   "outputs": [
    {
     "data": {
      "text/html": [
       "<div>\n",
       "<style scoped>\n",
       "    .dataframe tbody tr th:only-of-type {\n",
       "        vertical-align: middle;\n",
       "    }\n",
       "\n",
       "    .dataframe tbody tr th {\n",
       "        vertical-align: top;\n",
       "    }\n",
       "\n",
       "    .dataframe thead th {\n",
       "        text-align: right;\n",
       "    }\n",
       "</style>\n",
       "<table border=\"1\" class=\"dataframe\">\n",
       "  <thead>\n",
       "    <tr style=\"text-align: right;\">\n",
       "      <th></th>\n",
       "      <th>Python Skills</th>\n",
       "      <th>Java Skills</th>\n",
       "      <th>Qualification</th>\n",
       "    </tr>\n",
       "  </thead>\n",
       "  <tbody>\n",
       "    <tr>\n",
       "      <th>0</th>\n",
       "      <td>False</td>\n",
       "      <td>False</td>\n",
       "      <td>not qualified</td>\n",
       "    </tr>\n",
       "    <tr>\n",
       "      <th>1</th>\n",
       "      <td>False</td>\n",
       "      <td>False</td>\n",
       "      <td>not qualified</td>\n",
       "    </tr>\n",
       "    <tr>\n",
       "      <th>2</th>\n",
       "      <td>False</td>\n",
       "      <td>False</td>\n",
       "      <td>not qualified</td>\n",
       "    </tr>\n",
       "    <tr>\n",
       "      <th>3</th>\n",
       "      <td>False</td>\n",
       "      <td>True</td>\n",
       "      <td>not qualified</td>\n",
       "    </tr>\n",
       "  </tbody>\n",
       "</table>\n",
       "</div>"
      ],
      "text/plain": [
       "   Python Skills  Java Skills  Qualification\n",
       "0          False        False  not qualified\n",
       "1          False        False  not qualified\n",
       "2          False        False  not qualified\n",
       "3          False         True  not qualified"
      ]
     },
     "execution_count": 16,
     "metadata": {},
     "output_type": "execute_result"
    }
   ],
   "source": [
    "# we can invert mask by adding ~\n",
    "without_python_df = df[~mask]\n",
    "without_python_df"
   ]
  },
  {
   "cell_type": "code",
   "execution_count": 17,
   "metadata": {},
   "outputs": [
    {
     "name": "stdout",
     "output_type": "stream",
     "text": [
      "before_split 0.9709505944546686\n",
      "E_python_true 0\n",
      "E_java_false 0\n",
      "info 0.0\n",
      "gain 0.9709505944546686\n"
     ]
    }
   ],
   "source": [
    "import numpy as np\n",
    "from math import log\n",
    "\n",
    "\n",
    "i=6/10\n",
    "j=4/10\n",
    "\n",
    "\n",
    "i,j=6/10,4/10\n",
    "before_split = -i*log(i,2)-j*log(j,2)\n",
    "print('before_split',before_split)\n",
    "\n",
    "i,j=6/6,0\n",
    "#E_python_true = -i*log(i,2)-j*log(j,2)\n",
    "E_python_true = 0 \n",
    "print('E_python_true', E_python_true)\n",
    "\n",
    "i,j=0,4/4\n",
    "#E_python_false = -i*log(i,2)-j*log(j,2)\n",
    "E_python_false = 0\n",
    "print('E_java_false',E_python_false)\n",
    "\n",
    "info = (E_python_true * 5/10)+(E_python_false * 5/10)\n",
    "print('info',info)\n",
    "\n",
    "gain = before_split-info\n",
    "print('gain', gain)"
   ]
  },
  {
   "cell_type": "code",
   "execution_count": 18,
   "metadata": {},
   "outputs": [],
   "source": [
    "import numpy as np\n",
    "from math import log\n",
    "\n",
    "# Define calculate_entropy function to make things easier\n",
    "def calculate_entropy(labels):\n",
    "    n_labels = len(labels)\n",
    "    if n_labels <= 1:\n",
    "        return 0\n",
    "    value, counts = np.unique(labels, return_counts=True)\n",
    "    probs = counts/n_labels\n",
    "    n_classes = len(value)\n",
    "    if n_classes <= 1:\n",
    "        return 0\n",
    "    entropy = 0\n",
    "    for i in probs:\n",
    "        entropy -= i*log(i,2)\n",
    "    return entropy"
   ]
  },
  {
   "cell_type": "code",
   "execution_count": 19,
   "metadata": {},
   "outputs": [
    {
     "data": {
      "text/plain": [
       "0.9709505944546686"
      ]
     },
     "execution_count": 19,
     "metadata": {},
     "output_type": "execute_result"
    }
   ],
   "source": [
    "# test our function with whole df\n",
    "df_entropy = calculate_entropy(df['Qualification'])\n",
    "df_entropy"
   ]
  },
  {
   "cell_type": "code",
   "execution_count": 20,
   "metadata": {},
   "outputs": [
    {
     "name": "stdout",
     "output_type": "stream",
     "text": [
      "0.7219280948873623 0.9709505944546686\n"
     ]
    }
   ],
   "source": [
    "with_java_df_entropy = calculate_entropy(with_Java_df['Qualification'])\n",
    "without_java_df_entropy = calculate_entropy(without_java_df['Qualification'])\n",
    "print(with_java_df_entropy, without_java_df_entropy)"
   ]
  },
  {
   "cell_type": "code",
   "execution_count": 21,
   "metadata": {},
   "outputs": [
    {
     "name": "stdout",
     "output_type": "stream",
     "text": [
      "0 0\n"
     ]
    }
   ],
   "source": [
    "with_python_df_entropy = calculate_entropy(with_python_df['Qualification'])\n",
    "without_python_df_entropy = calculate_entropy(without_python_df['Qualification'])\n",
    "print(with_python_df_entropy, without_python_df_entropy)"
   ]
  },
  {
   "cell_type": "markdown",
   "metadata": {},
   "source": [
    "Our entropy has gone down from 0.97095 to 0! So the information gain is 0.97095, this is a much better feature to use for our first branch, actually, we don't even need another branch in this case. Now you've understood how an ID3 algorithm works, the two other common algorithms for contructing decision trees are are C4.5 and CART."
   ]
  },
  {
   "cell_type": "markdown",
   "metadata": {},
   "source": [
    "## Coding the Decision Tree from Scratch\n",
    "Now that we've understood the theory, we are going to implement the decision tree from scratch, by 'scratch' I mean with python, numpy and pandas. Before getting to the decision tree itself, let's define some helper functions that will make things easier."
   ]
  },
  {
   "cell_type": "markdown",
   "metadata": {},
   "source": [
    "### Helper Functions"
   ]
  },
  {
   "cell_type": "code",
   "execution_count": 22,
   "metadata": {},
   "outputs": [],
   "source": [
    "import random\n",
    "# the test_size parameter can be an int or float(proportion)\n",
    "def train_test_split(df, test_size=0.30):\n",
    "    if isinstance(test_size, float):\n",
    "        test_size = round(test_size * len(df))\n",
    "    # pick a random sample from the entire dataframe with defined size\n",
    "    test_indices = random.sample(population=df.index.tolist(), k=test_size)\n",
    "    test_df = df.iloc[test_indices]\n",
    "    train_df = df.drop(test_indices)\n",
    "    return train_df, test_df"
   ]
  },
  {
   "cell_type": "code",
   "execution_count": 23,
   "metadata": {},
   "outputs": [],
   "source": [
    "def split_by_feature(X, feature_idx, threshold):\n",
    "    # if the feature is numerical\n",
    "    if isinstance(threshold, int) or isinstance(threshold, float):\n",
    "        X_true = X[X.iloc[:,feature_idx] >= threshold]\n",
    "        X_false = X[~X.iloc[:,feature_idx] >= threshold]\n",
    "    # if the feature is categorical\n",
    "    else:\n",
    "        X_true = X[X.iloc[:,feature_idx] == threshold]\n",
    "        X_false = X[~X.iloc[:,feature_idx] == threshold]\n",
    "    return X_true, X_false"
   ]
  },
  {
   "cell_type": "markdown",
   "metadata": {},
   "source": [
    "## Tree-based algorithms\n",
    "A tree consists of nodes connected by edges. A decision tree is typically, though not always, a binary tree, which has the following properties:\n",
    "- One node is marked as Root node\n",
    "- Every node other than the root has a parent node\n",
    "- Each node can have at most 2 child nodes\n",
    "  \n",
    "To create a tree data structure we shall start by implementing a Node class (basically a container for values and references to other nodes)"
   ]
  },
  {
   "cell_type": "code",
   "execution_count": 24,
   "metadata": {},
   "outputs": [],
   "source": [
    "class DecisionNode():\n",
    "    def __init__(self, feature_idx=None, threshold=None, value=None, true_branch=None, false_branch=None):\n",
    "        self.feature_idx = feature_idx # index of the feature that is used\n",
    "        self.threshold = threshold # threshold value for feature when making the decision\n",
    "        self.value = value # value if the node is a leaf in the tree\n",
    "        self.true_branch = true_branch # the node we go to if decision returns True\n",
    "        self.false_branch = false_branch # the node we go to if decision returns False"
   ]
  },
  {
   "cell_type": "code",
   "execution_count": 25,
   "metadata": {},
   "outputs": [],
   "source": [
    "class DecisionTree():\n",
    "    def __init__(self, min_info_gain=1e-7, max_depth=float(\"inf\")):\n",
    "        self.root = None # root of this tree\n",
    "        self.min_info_gain = min_info_gain # minimum information gain to allow splitting\n",
    "        self.max_depth = max_depth # maximum depth the tree grows to\n",
    "    def fit(self, X, y):\n",
    "        self.root = self.build_tree(X, y)\n",
    "    def build_tree(self, X, y, current_depth=0):\n",
    "        decision = None\n",
    "        subtrees = None\n",
    "        largest_info_gain = 0\n",
    "        # add y as last column of X\n",
    "        df = pd.concat((X, y), axis=1)\n",
    "        n_rows, n_features = X.shape\n",
    "        if current_depth <= self.max_depth:\n",
    "            # iterate through every feature\n",
    "            for feature_idx in range(n_features):\n",
    "                # values of that column\n",
    "                feature_values = X.iloc[:, feature_idx]\n",
    "                unique_values = feature_values.unique()\n",
    "                for threshold in unique_values:\n",
    "                    X_true, X_false = split_by_feature(df, feature_idx, threshold)\n",
    "                    if len(X_true) > 0 and len(X_false) > 0:\n",
    "                        y_true = X_true.iloc[:,-1]\n",
    "                        y_false = X_false.iloc[:,-1]\n",
    "                        # Calculate impurity\n",
    "                        info_gain = self.calculate_information_gain(y, y_true, y_false)\n",
    "                        # Keep track of which feature gave the largest information gain\n",
    "                        if info_gain > largest_info_gain:\n",
    "                            largest_info_gain = info_gain\n",
    "                            decision = {\"feature_idx\":feature_idx, \"threshold\":threshold}\n",
    "                            subtrees = {\"X_true\":X_true.iloc[:,:-1],\n",
    "                                        \"y_true\":y_true,\n",
    "                                        \"X_false\":X_false.iloc[:,:-1],\n",
    "                                        \"y_false\":y_false}\n",
    "        # we will construct new branch if the information gain is larger than minimum information gain that we've defined\n",
    "        if largest_info_gain > self.min_info_gain:\n",
    "            true_branch = self.build_tree(subtrees[\"X_true\"], subtrees[\"y_true\"], current_depth+1)\n",
    "            false_branch = self.build_tree(subtrees[\"X_false\"], subtrees[\"y_false\"], current_depth+1)\n",
    "            return DecisionNode(feature_idx=decision[\"feature_idx\"], threshold=decision[\"threshold\"], true_branch=true_branch, false_branch=false_branch)\n",
    "\n",
    "        # at leaf\n",
    "        leaf_value = self.majority_vote(y)\n",
    "        return DecisionNode(value=leaf_value)\n",
    "                        \n",
    "    def calculate_information_gain(self, y, y_true, y_false):\n",
    "        # probability of choosing left subtree \n",
    "        p = len(y_true) / len(y)\n",
    "        entropy = calculate_entropy(y)\n",
    "        info_gain = entropy - p*calculate_entropy(y_true) - (1-p)*calculate_entropy(y_false)\n",
    "        return info_gain\n",
    "                \n",
    "    def majority_vote(self, y):\n",
    "        # this is for calculating values for the leaf nodes\n",
    "        return y.value_counts().idxmax()\n",
    "                \n",
    "    def predict_value(self, x, tree=None):\n",
    "        # recursive method to find the leaf node that corresponds to prediction\n",
    "        if tree is None:\n",
    "            tree = self.root\n",
    "        if tree.value is not None:\n",
    "            return tree.value\n",
    "        feature_value = x[tree.feature_idx]\n",
    "        branch = tree.false_branch\n",
    "        if isinstance(feature_value, int) or isinstance(feature_value, float):\n",
    "            if feature_value >= tree.threshold:\n",
    "                branch = tree.true_branch\n",
    "        elif feature_value == tree.threshold:\n",
    "            branch = tree.true_branch\n",
    "        return self.predict_value(x, branch)\n",
    "    \n",
    "    def predict(self, X):\n",
    "        y_pred = []\n",
    "        for idx, row in X.iterrows():\n",
    "            y_pred.append(self.predict_value(row.values))\n",
    "        return y_pred"
   ]
  },
  {
   "cell_type": "code",
   "execution_count": 28,
   "metadata": {},
   "outputs": [],
   "source": [
    "tree = DecisionTree()\n",
    "tree.fit(df.iloc[:,:-1], df.iloc[:,-1])"
   ]
  },
  {
   "cell_type": "code",
   "execution_count": 29,
   "metadata": {},
   "outputs": [
    {
     "data": {
      "text/html": [
       "<div>\n",
       "<style scoped>\n",
       "    .dataframe tbody tr th:only-of-type {\n",
       "        vertical-align: middle;\n",
       "    }\n",
       "\n",
       "    .dataframe tbody tr th {\n",
       "        vertical-align: top;\n",
       "    }\n",
       "\n",
       "    .dataframe thead th {\n",
       "        text-align: right;\n",
       "    }\n",
       "</style>\n",
       "<table border=\"1\" class=\"dataframe\">\n",
       "  <thead>\n",
       "    <tr style=\"text-align: right;\">\n",
       "      <th></th>\n",
       "      <th>Python Skills</th>\n",
       "      <th>Java Skills</th>\n",
       "    </tr>\n",
       "  </thead>\n",
       "  <tbody>\n",
       "    <tr>\n",
       "      <th>0</th>\n",
       "      <td>False</td>\n",
       "      <td>False</td>\n",
       "    </tr>\n",
       "    <tr>\n",
       "      <th>1</th>\n",
       "      <td>False</td>\n",
       "      <td>False</td>\n",
       "    </tr>\n",
       "    <tr>\n",
       "      <th>2</th>\n",
       "      <td>False</td>\n",
       "      <td>False</td>\n",
       "    </tr>\n",
       "    <tr>\n",
       "      <th>3</th>\n",
       "      <td>False</td>\n",
       "      <td>True</td>\n",
       "    </tr>\n",
       "    <tr>\n",
       "      <th>4</th>\n",
       "      <td>True</td>\n",
       "      <td>False</td>\n",
       "    </tr>\n",
       "    <tr>\n",
       "      <th>5</th>\n",
       "      <td>True</td>\n",
       "      <td>True</td>\n",
       "    </tr>\n",
       "    <tr>\n",
       "      <th>6</th>\n",
       "      <td>True</td>\n",
       "      <td>True</td>\n",
       "    </tr>\n",
       "    <tr>\n",
       "      <th>7</th>\n",
       "      <td>True</td>\n",
       "      <td>False</td>\n",
       "    </tr>\n",
       "    <tr>\n",
       "      <th>8</th>\n",
       "      <td>True</td>\n",
       "      <td>True</td>\n",
       "    </tr>\n",
       "    <tr>\n",
       "      <th>9</th>\n",
       "      <td>True</td>\n",
       "      <td>True</td>\n",
       "    </tr>\n",
       "  </tbody>\n",
       "</table>\n",
       "</div>"
      ],
      "text/plain": [
       "   Python Skills  Java Skills\n",
       "0          False        False\n",
       "1          False        False\n",
       "2          False        False\n",
       "3          False         True\n",
       "4           True        False\n",
       "5           True         True\n",
       "6           True         True\n",
       "7           True        False\n",
       "8           True         True\n",
       "9           True         True"
      ]
     },
     "execution_count": 29,
     "metadata": {},
     "output_type": "execute_result"
    }
   ],
   "source": [
    "df.iloc[:,:-1]"
   ]
  },
  {
   "cell_type": "code",
   "execution_count": 30,
   "metadata": {},
   "outputs": [
    {
     "data": {
      "text/plain": [
       "0    not qualified\n",
       "1    not qualified\n",
       "2    not qualified\n",
       "3    not qualified\n",
       "4        qualified\n",
       "5        qualified\n",
       "6        qualified\n",
       "7        qualified\n",
       "8        qualified\n",
       "9        qualified\n",
       "Name: Qualification, dtype: object"
      ]
     },
     "execution_count": 30,
     "metadata": {},
     "output_type": "execute_result"
    }
   ],
   "source": [
    "df.iloc[:,-1]"
   ]
  },
  {
   "cell_type": "code",
   "execution_count": 31,
   "metadata": {},
   "outputs": [
    {
     "data": {
      "text/html": [
       "<div>\n",
       "<style scoped>\n",
       "    .dataframe tbody tr th:only-of-type {\n",
       "        vertical-align: middle;\n",
       "    }\n",
       "\n",
       "    .dataframe tbody tr th {\n",
       "        vertical-align: top;\n",
       "    }\n",
       "\n",
       "    .dataframe thead th {\n",
       "        text-align: right;\n",
       "    }\n",
       "</style>\n",
       "<table border=\"1\" class=\"dataframe\">\n",
       "  <thead>\n",
       "    <tr style=\"text-align: right;\">\n",
       "      <th></th>\n",
       "      <th>Python Skills</th>\n",
       "      <th>Java Skills</th>\n",
       "    </tr>\n",
       "  </thead>\n",
       "  <tbody>\n",
       "    <tr>\n",
       "      <th>0</th>\n",
       "      <td>True</td>\n",
       "      <td>False</td>\n",
       "    </tr>\n",
       "    <tr>\n",
       "      <th>1</th>\n",
       "      <td>True</td>\n",
       "      <td>False</td>\n",
       "    </tr>\n",
       "    <tr>\n",
       "      <th>2</th>\n",
       "      <td>False</td>\n",
       "      <td>False</td>\n",
       "    </tr>\n",
       "    <tr>\n",
       "      <th>3</th>\n",
       "      <td>False</td>\n",
       "      <td>True</td>\n",
       "    </tr>\n",
       "    <tr>\n",
       "      <th>4</th>\n",
       "      <td>False</td>\n",
       "      <td>False</td>\n",
       "    </tr>\n",
       "    <tr>\n",
       "      <th>5</th>\n",
       "      <td>True</td>\n",
       "      <td>True</td>\n",
       "    </tr>\n",
       "    <tr>\n",
       "      <th>6</th>\n",
       "      <td>True</td>\n",
       "      <td>True</td>\n",
       "    </tr>\n",
       "    <tr>\n",
       "      <th>7</th>\n",
       "      <td>True</td>\n",
       "      <td>False</td>\n",
       "    </tr>\n",
       "    <tr>\n",
       "      <th>8</th>\n",
       "      <td>True</td>\n",
       "      <td>True</td>\n",
       "    </tr>\n",
       "    <tr>\n",
       "      <th>9</th>\n",
       "      <td>True</td>\n",
       "      <td>True</td>\n",
       "    </tr>\n",
       "  </tbody>\n",
       "</table>\n",
       "</div>"
      ],
      "text/plain": [
       "   Python Skills  Java Skills\n",
       "0           True        False\n",
       "1           True        False\n",
       "2          False        False\n",
       "3          False         True\n",
       "4          False        False\n",
       "5           True         True\n",
       "6           True         True\n",
       "7           True        False\n",
       "8           True         True\n",
       "9           True         True"
      ]
     },
     "execution_count": 31,
     "metadata": {},
     "output_type": "execute_result"
    }
   ],
   "source": [
    "test_df = pd.DataFrame({'Python Skills':[True, True, False, False, False, True, True, True, True, True],\n",
    "                     'Java Skills':[False, False, False, True, False, True, True, False, True, True]})\n",
    "test_df"
   ]
  },
  {
   "cell_type": "code",
   "execution_count": 32,
   "metadata": {},
   "outputs": [
    {
     "data": {
      "text/plain": [
       "['qualified',\n",
       " 'qualified',\n",
       " 'not qualified',\n",
       " 'not qualified',\n",
       " 'not qualified',\n",
       " 'qualified',\n",
       " 'qualified',\n",
       " 'qualified',\n",
       " 'qualified',\n",
       " 'qualified']"
      ]
     },
     "execution_count": 32,
     "metadata": {},
     "output_type": "execute_result"
    }
   ],
   "source": [
    "tree.predict(test_df)"
   ]
  },
  {
   "cell_type": "markdown",
   "metadata": {},
   "source": [
    "We've made it!!! This is a decision tree from scratch, if you like this kernel please **upvote**. if you wish to see more contents like this please leave your comments below, I'll be very very glad to help you :D"
   ]
  },
  {
   "cell_type": "code",
   "execution_count": null,
   "metadata": {},
   "outputs": [],
   "source": []
  },
  {
   "cell_type": "code",
   "execution_count": null,
   "metadata": {},
   "outputs": [],
   "source": []
  }
 ],
 "metadata": {
  "kernelspec": {
   "display_name": "Python 3 (ipykernel)",
   "language": "python",
   "name": "python3"
  },
  "language_info": {
   "codemirror_mode": {
    "name": "ipython",
    "version": 3
   },
   "file_extension": ".py",
   "mimetype": "text/x-python",
   "name": "python",
   "nbconvert_exporter": "python",
   "pygments_lexer": "ipython3",
   "version": "3.9.7"
  }
 },
 "nbformat": 4,
 "nbformat_minor": 1
}
