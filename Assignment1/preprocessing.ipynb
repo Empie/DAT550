{
 "cells": [
  {
   "cell_type": "code",
   "execution_count": null,
   "metadata": {},
   "outputs": [],
   "source": [
    "import csv\n",
    "import math\n",
    "from statistics import median, mode, mean\n",
    "from collections import Counter\n",
    "from enum import Enum\n",
    "import numpy as np\n",
    "import pandas as pd\n"
   ]
  },
  {
   "cell_type": "markdown",
   "metadata": {},
   "source": [
    "Retrieving dataset"
   ]
  },
  {
   "cell_type": "code",
   "execution_count": null,
   "metadata": {},
   "outputs": [],
   "source": [
    "df = pd.read_csv(\"housing_price_train.csv\")\n",
    "df"
   ]
  },
  {
   "cell_type": "markdown",
   "metadata": {},
   "source": [
    "Extracting independent data"
   ]
  },
  {
   "cell_type": "code",
   "execution_count": null,
   "metadata": {},
   "outputs": [],
   "source": [
    "X = df.iloc[:,:-1].values\n",
    "X"
   ]
  },
  {
   "cell_type": "markdown",
   "metadata": {},
   "source": [
    "Extracting dependent data"
   ]
  },
  {
   "cell_type": "code",
   "execution_count": null,
   "metadata": {},
   "outputs": [],
   "source": [
    "Y = df.iloc[:,-1].values\n",
    "Y"
   ]
  },
  {
   "cell_type": "markdown",
   "metadata": {},
   "source": [
    "Checking for nullvalues in dataframe"
   ]
  },
  {
   "cell_type": "code",
   "execution_count": null,
   "metadata": {},
   "outputs": [],
   "source": [
    "df.isnull().sum()"
   ]
  },
  {
   "cell_type": "markdown",
   "metadata": {},
   "source": [
    "Checking what is best between mean and median for LotFrontage"
   ]
  },
  {
   "cell_type": "code",
   "execution_count": null,
   "metadata": {},
   "outputs": [],
   "source": [
    "import matplotlib.pyplot as plt\n",
    "import seaborn as sns\n",
    "\n",
    "sns.distplot(df.LotFrontage)\n",
    "plt.show()"
   ]
  },
  {
   "cell_type": "markdown",
   "metadata": {},
   "source": [
    "Filling in nullvalues in LotFrontage with median"
   ]
  },
  {
   "cell_type": "code",
   "execution_count": null,
   "metadata": {},
   "outputs": [],
   "source": [
    "df[\"LotFrontage\"] = df[\"LotFrontage\"].fillna(df[\"LotFrontage\"].median())"
   ]
  },
  {
   "cell_type": "code",
   "execution_count": null,
   "metadata": {},
   "outputs": [],
   "source": [
    "#pd.options.display.max_rows = 4000\n",
    "df.isnull().sum()\n"
   ]
  },
  {
   "cell_type": "code",
   "execution_count": null,
   "metadata": {},
   "outputs": [],
   "source": [
    "def PriceRangeCalc(df):\n",
    "    salePriceCount = pd.DataFrame()\n",
    "    SalePrice = df[\"SalePrice\"]\n",
    "    a, b, c, d, e, f, g, h = 0,0,0,0,0,0,0,0\n",
    "\n",
    "    for price in SalePrice:\n",
    "        if price <= 100000:\n",
    "            a += 1\n",
    "        if price > 100000 and price <=200000:\n",
    "            b += 1\n",
    "        if price > 200000 and price <=300000:\n",
    "            c += 1\n",
    "        if price > 300000 and price <=400000:\n",
    "            d += 1\n",
    "        if price > 400000 and price <=500000:\n",
    "            e += 1\n",
    "        if price > 500000 and price <=600000:\n",
    "            f += 1\n",
    "        if price > 600000 and price <=700000:\n",
    "            g += 1\n",
    "        if price > 700000:\n",
    "            h += 1\n",
    "\n",
    "    salePriceCount[\"Range\"] = [\"-100000\", \"100001-200000\", \"200001-300000\", \"300001-400000\", \"400001-500000\", \"500001-600000\",\n",
    "                           \"600001-70000\", \"700001+\"]\n",
    "    salePriceCount[\"Count\"] = [a, b, c, d, e, f, g, h]\n",
    "\n",
    "\n",
    "    return salePriceCount"
   ]
  },
  {
   "cell_type": "code",
   "execution_count": null,
   "metadata": {},
   "outputs": [],
   "source": [
    "PriceRangeCalc(df)"
   ]
  },
  {
   "cell_type": "markdown",
   "metadata": {},
   "source": [
    "Converting Categorical data into numeric form"
   ]
  },
  {
   "cell_type": "code",
   "execution_count": null,
   "metadata": {},
   "outputs": [],
   "source": [
    "# Could make a new df with only colums with numerical values and categories\n",
    "numerical_df = pd.DataFrame()\n",
    "for col in df.columns:\n",
    "    if df[col].dtype == \"int64\":\n",
    "        numerical_df[col] = df[col]\n",
    "        continue\n",
    "    else:\n",
    "        df[col] = df[col].astype(\"category\")\n",
    "        new_col = '{val}_Cat'.format(val=col)\n",
    "        numerical_df[new_col] = df[col].cat.codes\n",
    "        \n",
    "        # df[col] = df[col].astype(\"category\")\n",
    "        # new_col = '{val}_Cat'.format(val=col)\n",
    "        # df[new_col] = df[col].cat.codes\n",
    "numerical_df"
   ]
  },
  {
   "cell_type": "code",
   "execution_count": 31,
   "metadata": {},
   "outputs": [
    {
     "data": {
      "text/plain": [
       "Id                   0\n",
       "MSSubClass           0\n",
       "MSZoning_Cat         0\n",
       "LotFrontage_Cat      0\n",
       "LotArea              0\n",
       "Street_Cat           0\n",
       "Alley_Cat            0\n",
       "LotShape_Cat         0\n",
       "LandContour_Cat      0\n",
       "Utilities_Cat        0\n",
       "LotConfig_Cat        0\n",
       "LandSlope_Cat        0\n",
       "Neighborhood_Cat     0\n",
       "Condition1_Cat       0\n",
       "Condition2_Cat       0\n",
       "BldgType_Cat         0\n",
       "HouseStyle_Cat       0\n",
       "OverallQual          0\n",
       "OverallCond          0\n",
       "YearBuilt            0\n",
       "YearRemodAdd         0\n",
       "RoofStyle_Cat        0\n",
       "RoofMatl_Cat         0\n",
       "Exterior1st_Cat      0\n",
       "Exterior2nd_Cat      0\n",
       "MasVnrType_Cat       0\n",
       "MasVnrArea_Cat       0\n",
       "ExterQual_Cat        0\n",
       "ExterCond_Cat        0\n",
       "Foundation_Cat       0\n",
       "BsmtQual_Cat         0\n",
       "BsmtCond_Cat         0\n",
       "BsmtExposure_Cat     0\n",
       "BsmtFinType1_Cat     0\n",
       "BsmtFinSF1           0\n",
       "BsmtFinType2_Cat     0\n",
       "BsmtFinSF2           0\n",
       "BsmtUnfSF            0\n",
       "TotalBsmtSF          0\n",
       "Heating_Cat          0\n",
       "HeatingQC_Cat        0\n",
       "CentralAir_Cat       0\n",
       "Electrical_Cat       0\n",
       "1stFlrSF             0\n",
       "2ndFlrSF             0\n",
       "LowQualFinSF         0\n",
       "GrLivArea            0\n",
       "BsmtFullBath         0\n",
       "BsmtHalfBath         0\n",
       "FullBath             0\n",
       "HalfBath             0\n",
       "BedroomAbvGr         0\n",
       "KitchenAbvGr         0\n",
       "KitchenQual_Cat      0\n",
       "TotRmsAbvGrd         0\n",
       "Functional_Cat       0\n",
       "Fireplaces           0\n",
       "FireplaceQu_Cat      0\n",
       "GarageType_Cat       0\n",
       "GarageYrBlt_Cat      0\n",
       "GarageFinish_Cat     0\n",
       "GarageCars           0\n",
       "GarageArea           0\n",
       "GarageQual_Cat       0\n",
       "GarageCond_Cat       0\n",
       "PavedDrive_Cat       0\n",
       "WoodDeckSF           0\n",
       "OpenPorchSF          0\n",
       "EnclosedPorch        0\n",
       "3SsnPorch            0\n",
       "ScreenPorch          0\n",
       "PoolArea             0\n",
       "PoolQC_Cat           0\n",
       "Fence_Cat            0\n",
       "MiscFeature_Cat      0\n",
       "MiscVal              0\n",
       "MoSold               0\n",
       "YrSold               0\n",
       "SaleType_Cat         0\n",
       "SaleCondition_Cat    0\n",
       "SalePrice            0\n",
       "dtype: int64"
      ]
     },
     "execution_count": 31,
     "metadata": {},
     "output_type": "execute_result"
    }
   ],
   "source": [
    "pd.options.display.max_rows = 4000\n",
    "numerical_df.isna().sum()\n"
   ]
  }
 ],
 "metadata": {
  "interpreter": {
   "hash": "cd24510e72a5417feea7cb81402ffb6b313add9a2ff74c45dc5472ac7fbe8a4b"
  },
  "kernelspec": {
   "display_name": "Python 3.9.1 64-bit",
   "language": "python",
   "name": "python3"
  },
  "language_info": {
   "codemirror_mode": {
    "name": "ipython",
    "version": 3
   },
   "file_extension": ".py",
   "mimetype": "text/x-python",
   "name": "python",
   "nbconvert_exporter": "python",
   "pygments_lexer": "ipython3",
   "version": "3.9.1"
  },
  "orig_nbformat": 4
 },
 "nbformat": 4,
 "nbformat_minor": 2
}
