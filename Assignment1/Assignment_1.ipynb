{
 "cells": [
  {
   "cell_type": "code",
   "execution_count": null,
   "metadata": {
    "_cell_guid": "79c7e3d0-c299-4dcb-8224-4455121ee9b0",
    "_uuid": "d629ff2d2480ee46fbb7e2d37f6b5fab8052498a"
   },
   "outputs": [],
   "source": [
    "import pandas as pd\n",
    "import numpy as np"
   ]
  },
  {
   "cell_type": "markdown",
   "metadata": {},
   "source": [
    "### Preprocessing"
   ]
  },
  {
   "cell_type": "code",
   "execution_count": null,
   "metadata": {},
   "outputs": [],
   "source": [
    "df = pd.read_csv('housing_price_train.csv', index_col='Id')\n",
    "df"
   ]
  },
  {
   "cell_type": "code",
   "execution_count": null,
   "metadata": {},
   "outputs": [],
   "source": [
    "df.isnull().sum()"
   ]
  },
  {
   "cell_type": "code",
   "execution_count": null,
   "metadata": {},
   "outputs": [],
   "source": [
    "import matplotlib.pyplot as plt\n",
    "import seaborn as sns\n",
    "\n",
    "sns.distplot(df.LotFrontage)\n",
    "plt.show()"
   ]
  },
  {
   "cell_type": "markdown",
   "metadata": {},
   "source": [
    "### Helper Functions"
   ]
  },
  {
   "cell_type": "code",
   "execution_count": null,
   "metadata": {},
   "outputs": [],
   "source": [
    "def preprocess_df(df):\n",
    "    for col in df.columns:\n",
    "        if df[col].unique().dtype == \"int64\" or df[col].unique().dtype == \"float64\":\n",
    "            df[col] = df[col].fillna(df[col].median())\n",
    "            if df[col].unique().dtype == \"float64\":\n",
    "                df[col] = df[col].astype('int64')\n",
    "        else:\n",
    "            df[col] = df[col].fillna(\"NA\")\n",
    "            df[col] = df[col].astype('category')\n",
    "            \n",
    "    # Hardcoding numeric to categorical\n",
    "    df[\"MSSubClass\"] = df[\"MSSubClass\"].astype('category')\n",
    "    df[\"OverallQual\"] = df[\"OverallQual\"].astype('category')\n",
    "    df[\"OverallCond\"] = df[\"OverallCond\"].astype('category')\n",
    "    return df\n",
    "    \n",
    "def df_to_numerical(df):\n",
    "    numerical_df = pd.DataFrame()\n",
    "    for col in df.columns:\n",
    "        if df[col].dtype == \"int64\":\n",
    "            numerical_df[col] = df[col]\n",
    "            continue\n",
    "        else:\n",
    "            df[col] = df[col].astype(\"category\")\n",
    "            new_col = '{val}_Cat'.format(val=col)\n",
    "            numerical_df[new_col] = df[col].cat.codes\n",
    "    return numerical_df\n"
   ]
  },
  {
   "cell_type": "code",
   "execution_count": null,
   "metadata": {},
   "outputs": [],
   "source": [
    "df_num = df_to_numerical(df).isna().sum()\n",
    "df_num"
   ]
  },
  {
   "cell_type": "markdown",
   "metadata": {},
   "source": [
    "# Random Forest"
   ]
  },
  {
   "cell_type": "code",
   "execution_count": null,
   "metadata": {},
   "outputs": [],
   "source": [
    "class RandomForest():\n",
    "    def __init__(self):\n",
    "        self.data = None\n",
    "        self.trees = []\n",
    "    \n",
    "    def __load_data(self, df):\n",
    "        self.data = df\n",
    "        \n",
    "    def __subsampling(self, train_set, sample_size_ratio):\n",
    "        sample_number = round(len(self.data) * sample_size_ratio)\n",
    "        subsample = train_set.sample(sample_number, replace=True)\n",
    "        return subsample\n",
    "\n",
    "    def build_model(self, train_set, sample_size_ratio, number_of_trees, max_depth=5):\n",
    "        self.__load_data(train_set)\n",
    "        for i in range(number_of_trees):\n",
    "            sample = self.__subsampling(train_set, sample_size_ratio)\n",
    "            X = sample.iloc[:,:-1]\n",
    "            y = sample.iloc[:,-1]\n",
    "            tree = DecisionTree(max_depth)\n",
    "            tree.fit(X, y)\n",
    "            self.trees.append(tree)\n",
    "\n",
    "    def predict(self, test_set):\n",
    "        rf_predictions = []\n",
    "        for tree in self.trees:\n",
    "            ids, rf_prediction = tree.predict(test_set)\n",
    "            rf_predictions.append(rf_prediction)\n",
    "        for prediction in rf_predictions:\n",
    "            predictions = [np.array(prediction)]\n",
    "        mean_values = [int(np.mean(i)) for i in zip(*predictions)]\n",
    "        return ids, mean_values"
   ]
  },
  {
   "cell_type": "markdown",
   "metadata": {},
   "source": [
    "# Decision Tree"
   ]
  },
  {
   "cell_type": "code",
   "execution_count": null,
   "metadata": {},
   "outputs": [],
   "source": [
    "class DecisionNode():\n",
    "    def __init__(self, feature_idx=None, threshold=None, value=None, true_branch=None, false_branch=None):\n",
    "        self.feature_idx = feature_idx\n",
    "        self.threshold = threshold\n",
    "        self.value = value\n",
    "        self.true_branch = true_branch\n",
    "        self.false_branch = false_branch"
   ]
  },
  {
   "cell_type": "code",
   "execution_count": null,
   "metadata": {},
   "outputs": [],
   "source": [
    "class DecisionTree():\n",
    "    def __init__(self, min_mse=float('inf'), max_depth=10):\n",
    "        self.root = None \n",
    "        self.min_mse = min_mse \n",
    "        self.max_depth = max_depth \n",
    "\n",
    "    def fit(self, X, y):\n",
    "        self.root = self.build_tree(X, y)\n",
    "        \n",
    "    def build_tree(self, X, y, current_depth=0):\n",
    "        decision = None\n",
    "        subtrees = None\n",
    "        self.min_mse = self.calculate_MSE(y)\n",
    "        \n",
    "        df = pd.concat((X, y), axis=1)\n",
    "        _, n_features = X.shape\n",
    "        if current_depth <= self.max_depth:\n",
    "            max_mse = self.min_mse\n",
    "            for feature_idx in range(n_features):\n",
    "                feature_values = X.iloc[:, feature_idx]\n",
    "                threshold = feature_values.median()\n",
    "                X_true, X_false = self.split_by_feature(df, feature_idx, threshold)\n",
    "                if len(X_true) > 0 and len(X_false) > 0:\n",
    "                    y_true = X_true.iloc[:,-1]\n",
    "                    y_false = X_false.iloc[:,-1]\n",
    "                    mse = self.calculate_MSE(y_true, y_false)\n",
    "                    if max_mse > mse:\n",
    "                        max_mse = mse\n",
    "                        decision = {\"feature_idx\":feature_idx, \"threshold\":threshold}\n",
    "                        subtrees = {\"X_true\":X_true.iloc[:,:-1],\n",
    "                                    \"y_true\":y_true,\n",
    "                                    \"X_false\":X_false.iloc[:,:-1],\n",
    "                                    \"y_false\":y_false}\n",
    "            if max_mse < self.min_mse:\n",
    "                true_branch = self.build_tree(subtrees[\"X_true\"], subtrees[\"y_true\"], current_depth+1)\n",
    "                false_branch = self.build_tree(subtrees[\"X_false\"], subtrees[\"y_false\"], current_depth+1)\n",
    "                return DecisionNode(feature_idx=decision[\"feature_idx\"], threshold=decision[\"threshold\"], \n",
    "                                    true_branch=true_branch, false_branch=false_branch)\n",
    "        return DecisionNode(value=np.mean(y))\n",
    "\n",
    "    def calculate_MSE(self, y_true, y_false=None):\n",
    "        diff_true = y_true - np.mean(y_true)\n",
    "        if y_false is not None:\n",
    "            diff_false = y_false - np.mean(y_false)\n",
    "            res = np.concatenate((diff_true, diff_false), axis=None)**2\n",
    "        else:\n",
    "            res = diff_true**2\n",
    "        return np.mean(res)\n",
    "        \n",
    "    def split_by_feature(self, X, feature_idx, threshold):\n",
    "        X_true = X[X.iloc[:,feature_idx] >= threshold]\n",
    "        X_false = X[X.iloc[:,feature_idx] < threshold]\n",
    "        return X_true, X_false\n",
    "        \n",
    "    def predict_value(self, x, tree=None):\n",
    "        if tree is None:\n",
    "            tree = self.root\n",
    "        if tree.value is not None:\n",
    "            return tree.value\n",
    "        feature_value = x[tree.feature_idx]\n",
    "        branch = tree.false_branch\n",
    "        if feature_value >= tree.threshold:\n",
    "            branch = tree.true_branch\n",
    "        return self.predict_value(x, branch)\n",
    "    \n",
    "    def predict(self, X):\n",
    "        y_pred = []\n",
    "        ids = []\n",
    "        for idx, row in X.iterrows():\n",
    "            y_pred.append(self.predict_value(row, self.root))\n",
    "            ids.append(idx)\n",
    "        return ids, y_pred"
   ]
  },
  {
   "cell_type": "code",
   "execution_count": null,
   "metadata": {},
   "outputs": [],
   "source": [
    "df_train = pd.read_csv('housing_price_train.csv', index_col='Id')\n",
    "df_test = pd.read_csv('housing_price_test.csv', index_col='Id')\n",
    "df_train = df_to_numerical(preprocess_df(df_train))\n",
    "df_test = df_to_numerical(preprocess_df(df_test))"
   ]
  },
  {
   "cell_type": "code",
   "execution_count": null,
   "metadata": {},
   "outputs": [],
   "source": [
    "rf = RandomForest()\n",
    "rf.build_model(train_set=df_train, sample_size_ratio=0.3, number_of_trees=10)\n",
    "ids, mean_values = rf.predict(df_test)"
   ]
  },
  {
   "cell_type": "code",
   "execution_count": null,
   "metadata": {},
   "outputs": [],
   "source": [
    "data = {\"Id\":ids, \"SalePrice\":mean_values}\n",
    "output = pd.DataFrame(data).set_index('Id')\n",
    "output.to_csv('samples.csv')"
   ]
  }
 ],
 "metadata": {
  "kernelspec": {
   "display_name": "Python 3 (ipykernel)",
   "language": "python",
   "name": "python3"
  },
  "language_info": {
   "codemirror_mode": {
    "name": "ipython",
    "version": 3
   },
   "file_extension": ".py",
   "mimetype": "text/x-python",
   "name": "python",
   "nbconvert_exporter": "python",
   "pygments_lexer": "ipython3",
   "version": "3.9.1"
  }
 },
 "nbformat": 4,
 "nbformat_minor": 1
}
