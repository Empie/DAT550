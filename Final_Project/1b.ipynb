{
 "cells": [
  {
   "cell_type": "markdown",
   "metadata": {},
   "source": [
    "Subtask B: Verifiable factual claims detection: Given a tweet, predict whether it contains a verifiable factual claim. This is a binary task with two labels: Yes and No. This is a classification task"
   ]
  },
  {
   "cell_type": "markdown",
   "metadata": {},
   "source": [
    "check this: \n",
    "- https://github.com/avirup88/Binary-Classification-using-N-Gram-Model-on-Text-Data\n",
    "- https://stackoverflow.com/questions/48003907/how-to-train-naive-bayes-classifier-for-n-gram-movie-reviews"
   ]
  },
  {
   "cell_type": "code",
   "execution_count": 1,
   "metadata": {},
   "outputs": [],
   "source": [
    "import pandas as pd\n",
    "import re\n",
    "from nltk import ngrams\n",
    "from nltk.corpus import stopwords\n",
    "from nltk.tokenize import word_tokenize\n",
    "\n",
    "import nltk.classify.util\n",
    "from nltk.classify import NaiveBayesClassifier\n"
   ]
  },
  {
   "cell_type": "markdown",
   "metadata": {},
   "source": [
    "## Preprocess"
   ]
  },
  {
   "cell_type": "code",
   "execution_count": 2,
   "metadata": {},
   "outputs": [],
   "source": [
    "stop_words = set(stopwords.words(\"english\"))"
   ]
  },
  {
   "cell_type": "code",
   "execution_count": 3,
   "metadata": {},
   "outputs": [],
   "source": [
    "df = pd.read_csv(\"data/1b/CT22_english_1B_claim_train.tsv\", sep='\\t')"
   ]
  },
  {
   "cell_type": "code",
   "execution_count": 4,
   "metadata": {},
   "outputs": [
    {
     "name": "stdout",
     "output_type": "stream",
     "text": [
      "<class 'pandas.core.frame.DataFrame'>\n",
      "RangeIndex: 3324 entries, 0 to 3323\n",
      "Data columns (total 5 columns):\n",
      " #   Column       Non-Null Count  Dtype  \n",
      "---  ------       --------------  -----  \n",
      " 0   topic        3324 non-null   object \n",
      " 1   tweet_id     3324 non-null   float64\n",
      " 2   tweet_url    3324 non-null   object \n",
      " 3   tweet_text   3324 non-null   object \n",
      " 4   class_label  3324 non-null   int64  \n",
      "dtypes: float64(1), int64(1), object(3)\n",
      "memory usage: 130.0+ KB\n"
     ]
    }
   ],
   "source": [
    "df.info()"
   ]
  },
  {
   "cell_type": "code",
   "execution_count": 5,
   "metadata": {},
   "outputs": [
    {
     "data": {
      "text/plain": [
       "topic          0\n",
       "tweet_id       0\n",
       "tweet_url      0\n",
       "tweet_text     0\n",
       "class_label    0\n",
       "dtype: int64"
      ]
     },
     "execution_count": 5,
     "metadata": {},
     "output_type": "execute_result"
    }
   ],
   "source": [
    "df.isnull().sum()"
   ]
  },
  {
   "cell_type": "code",
   "execution_count": 6,
   "metadata": {},
   "outputs": [
    {
     "data": {
      "text/html": [
       "<div>\n",
       "<style scoped>\n",
       "    .dataframe tbody tr th:only-of-type {\n",
       "        vertical-align: middle;\n",
       "    }\n",
       "\n",
       "    .dataframe tbody tr th {\n",
       "        vertical-align: top;\n",
       "    }\n",
       "\n",
       "    .dataframe thead th {\n",
       "        text-align: right;\n",
       "    }\n",
       "</style>\n",
       "<table border=\"1\" class=\"dataframe\">\n",
       "  <thead>\n",
       "    <tr style=\"text-align: right;\">\n",
       "      <th></th>\n",
       "      <th>topic</th>\n",
       "      <th>tweet_id</th>\n",
       "      <th>tweet_url</th>\n",
       "      <th>tweet_text</th>\n",
       "      <th>class_label</th>\n",
       "    </tr>\n",
       "  </thead>\n",
       "  <tbody>\n",
       "    <tr>\n",
       "      <th>0</th>\n",
       "      <td>COVID-19</td>\n",
       "      <td>1.359351e+18</td>\n",
       "      <td>http://twitter.com/user/status/135935094335617...</td>\n",
       "      <td>India's gift of 100,000 COVID-19 vaccines arri...</td>\n",
       "      <td>1</td>\n",
       "    </tr>\n",
       "    <tr>\n",
       "      <th>1</th>\n",
       "      <td>COVID-19</td>\n",
       "      <td>1.350166e+18</td>\n",
       "      <td>http://twitter.com/user/status/135016568806166...</td>\n",
       "      <td>Here’s what I’m doing while I wait my turn for...</td>\n",
       "      <td>0</td>\n",
       "    </tr>\n",
       "    <tr>\n",
       "      <th>2</th>\n",
       "      <td>COVID-19</td>\n",
       "      <td>1.369750e+18</td>\n",
       "      <td>http://twitter.com/user/status/136974953915491...</td>\n",
       "      <td>This afternoon, I’m hosting an event with the ...</td>\n",
       "      <td>0</td>\n",
       "    </tr>\n",
       "    <tr>\n",
       "      <th>3</th>\n",
       "      <td>COVID-19</td>\n",
       "      <td>1.350165e+18</td>\n",
       "      <td>http://twitter.com/user/status/135016499568693...</td>\n",
       "      <td>Help shops like mine stay open. Mask up, avoid...</td>\n",
       "      <td>0</td>\n",
       "    </tr>\n",
       "    <tr>\n",
       "      <th>4</th>\n",
       "      <td>COVID-19</td>\n",
       "      <td>1.370008e+18</td>\n",
       "      <td>http://twitter.com/user/status/137000807648978...</td>\n",
       "      <td>As part of the ongoing nationwide vaccination ...</td>\n",
       "      <td>1</td>\n",
       "    </tr>\n",
       "    <tr>\n",
       "      <th>...</th>\n",
       "      <td>...</td>\n",
       "      <td>...</td>\n",
       "      <td>...</td>\n",
       "      <td>...</td>\n",
       "      <td>...</td>\n",
       "    </tr>\n",
       "    <tr>\n",
       "      <th>3319</th>\n",
       "      <td>COVID-19</td>\n",
       "      <td>1.260271e+18</td>\n",
       "      <td>http://twitter.com/user/status/126027105220003...</td>\n",
       "      <td>Some pearl of Wisdom by your fuckeer \"Bill Gat...</td>\n",
       "      <td>1</td>\n",
       "    </tr>\n",
       "    <tr>\n",
       "      <th>3320</th>\n",
       "      <td>COVID-19</td>\n",
       "      <td>1.256023e+18</td>\n",
       "      <td>http://twitter.com/user/status/125602347058187...</td>\n",
       "      <td>Top infectious disease expert Dr. Anthony Fauc...</td>\n",
       "      <td>1</td>\n",
       "    </tr>\n",
       "    <tr>\n",
       "      <th>3321</th>\n",
       "      <td>COVID-19</td>\n",
       "      <td>1.256158e+18</td>\n",
       "      <td>http://twitter.com/user/status/125615803982614...</td>\n",
       "      <td>Everyone is looking at Bill Gates for the Coro...</td>\n",
       "      <td>1</td>\n",
       "    </tr>\n",
       "    <tr>\n",
       "      <th>3322</th>\n",
       "      <td>COVID-19</td>\n",
       "      <td>1.233524e+18</td>\n",
       "      <td>http://twitter.com/user/status/123352378449100...</td>\n",
       "      <td>The president’s first instinct in response to ...</td>\n",
       "      <td>1</td>\n",
       "    </tr>\n",
       "    <tr>\n",
       "      <th>3323</th>\n",
       "      <td>COVID-19</td>\n",
       "      <td>1.285209e+18</td>\n",
       "      <td>http://twitter.com/user/status/128520924560933...</td>\n",
       "      <td>Oxford/AstraZeneca coronavirus vaccine showed ...</td>\n",
       "      <td>1</td>\n",
       "    </tr>\n",
       "  </tbody>\n",
       "</table>\n",
       "<p>3324 rows × 5 columns</p>\n",
       "</div>"
      ],
      "text/plain": [
       "         topic      tweet_id  \\\n",
       "0     COVID-19  1.359351e+18   \n",
       "1     COVID-19  1.350166e+18   \n",
       "2     COVID-19  1.369750e+18   \n",
       "3     COVID-19  1.350165e+18   \n",
       "4     COVID-19  1.370008e+18   \n",
       "...        ...           ...   \n",
       "3319  COVID-19  1.260271e+18   \n",
       "3320  COVID-19  1.256023e+18   \n",
       "3321  COVID-19  1.256158e+18   \n",
       "3322  COVID-19  1.233524e+18   \n",
       "3323  COVID-19  1.285209e+18   \n",
       "\n",
       "                                              tweet_url  \\\n",
       "0     http://twitter.com/user/status/135935094335617...   \n",
       "1     http://twitter.com/user/status/135016568806166...   \n",
       "2     http://twitter.com/user/status/136974953915491...   \n",
       "3     http://twitter.com/user/status/135016499568693...   \n",
       "4     http://twitter.com/user/status/137000807648978...   \n",
       "...                                                 ...   \n",
       "3319  http://twitter.com/user/status/126027105220003...   \n",
       "3320  http://twitter.com/user/status/125602347058187...   \n",
       "3321  http://twitter.com/user/status/125615803982614...   \n",
       "3322  http://twitter.com/user/status/123352378449100...   \n",
       "3323  http://twitter.com/user/status/128520924560933...   \n",
       "\n",
       "                                             tweet_text  class_label  \n",
       "0     India's gift of 100,000 COVID-19 vaccines arri...            1  \n",
       "1     Here’s what I’m doing while I wait my turn for...            0  \n",
       "2     This afternoon, I’m hosting an event with the ...            0  \n",
       "3     Help shops like mine stay open. Mask up, avoid...            0  \n",
       "4     As part of the ongoing nationwide vaccination ...            1  \n",
       "...                                                 ...          ...  \n",
       "3319  Some pearl of Wisdom by your fuckeer \"Bill Gat...            1  \n",
       "3320  Top infectious disease expert Dr. Anthony Fauc...            1  \n",
       "3321  Everyone is looking at Bill Gates for the Coro...            1  \n",
       "3322  The president’s first instinct in response to ...            1  \n",
       "3323  Oxford/AstraZeneca coronavirus vaccine showed ...            1  \n",
       "\n",
       "[3324 rows x 5 columns]"
      ]
     },
     "execution_count": 6,
     "metadata": {},
     "output_type": "execute_result"
    }
   ],
   "source": [
    "df"
   ]
  },
  {
   "cell_type": "code",
   "execution_count": 7,
   "metadata": {},
   "outputs": [
    {
     "data": {
      "text/plain": [
       "1    2122\n",
       "0    1202\n",
       "Name: class_label, dtype: int64"
      ]
     },
     "execution_count": 7,
     "metadata": {},
     "output_type": "execute_result"
    }
   ],
   "source": [
    "df[\"class_label\"].value_counts()"
   ]
  },
  {
   "cell_type": "code",
   "execution_count": 8,
   "metadata": {},
   "outputs": [],
   "source": [
    "true_df = df.loc[df['class_label'] == 1]\n",
    "true_df_1000 = true_df[:1000]"
   ]
  },
  {
   "cell_type": "code",
   "execution_count": 9,
   "metadata": {},
   "outputs": [],
   "source": [
    "false_df = df.loc[df['class_label'] == 0]\n",
    "false_df_1000 = true_df[:1000]"
   ]
  },
  {
   "cell_type": "code",
   "execution_count": 10,
   "metadata": {},
   "outputs": [
    {
     "data": {
      "text/html": [
       "<div>\n",
       "<style scoped>\n",
       "    .dataframe tbody tr th:only-of-type {\n",
       "        vertical-align: middle;\n",
       "    }\n",
       "\n",
       "    .dataframe tbody tr th {\n",
       "        vertical-align: top;\n",
       "    }\n",
       "\n",
       "    .dataframe thead th {\n",
       "        text-align: right;\n",
       "    }\n",
       "</style>\n",
       "<table border=\"1\" class=\"dataframe\">\n",
       "  <thead>\n",
       "    <tr style=\"text-align: right;\">\n",
       "      <th></th>\n",
       "      <th>topic</th>\n",
       "      <th>tweet_id</th>\n",
       "      <th>tweet_url</th>\n",
       "      <th>tweet_text</th>\n",
       "      <th>class_label</th>\n",
       "    </tr>\n",
       "  </thead>\n",
       "  <tbody>\n",
       "    <tr>\n",
       "      <th>0</th>\n",
       "      <td>COVID-19</td>\n",
       "      <td>1.359351e+18</td>\n",
       "      <td>http://twitter.com/user/status/135935094335617...</td>\n",
       "      <td>India's gift of 100,000 COVID-19 vaccines arri...</td>\n",
       "      <td>1</td>\n",
       "    </tr>\n",
       "    <tr>\n",
       "      <th>4</th>\n",
       "      <td>COVID-19</td>\n",
       "      <td>1.370008e+18</td>\n",
       "      <td>http://twitter.com/user/status/137000807648978...</td>\n",
       "      <td>As part of the ongoing nationwide vaccination ...</td>\n",
       "      <td>1</td>\n",
       "    </tr>\n",
       "    <tr>\n",
       "      <th>5</th>\n",
       "      <td>COVID-19</td>\n",
       "      <td>1.367727e+18</td>\n",
       "      <td>http://twitter.com/user/status/136772673004420...</td>\n",
       "      <td>Pleased to receive 50,000 doses of Covid-19 va...</td>\n",
       "      <td>1</td>\n",
       "    </tr>\n",
       "    <tr>\n",
       "      <th>7</th>\n",
       "      <td>COVID-19</td>\n",
       "      <td>1.369888e+18</td>\n",
       "      <td>http://twitter.com/user/status/136988848341471...</td>\n",
       "      <td>Four former presidents have banded together fo...</td>\n",
       "      <td>1</td>\n",
       "    </tr>\n",
       "    <tr>\n",
       "      <th>12</th>\n",
       "      <td>COVID-19</td>\n",
       "      <td>1.368585e+18</td>\n",
       "      <td>http://twitter.com/user/status/136858518750069...</td>\n",
       "      <td>WSJ: All three of Russia's main intelligence s...</td>\n",
       "      <td>1</td>\n",
       "    </tr>\n",
       "    <tr>\n",
       "      <th>...</th>\n",
       "      <td>...</td>\n",
       "      <td>...</td>\n",
       "      <td>...</td>\n",
       "      <td>...</td>\n",
       "      <td>...</td>\n",
       "    </tr>\n",
       "    <tr>\n",
       "      <th>1993</th>\n",
       "      <td>COVID-19</td>\n",
       "      <td>1.367308e+18</td>\n",
       "      <td>http://twitter.com/user/status/136730832289060...</td>\n",
       "      <td>“Proof-of-residency and ID requirements are su...</td>\n",
       "      <td>1</td>\n",
       "    </tr>\n",
       "    <tr>\n",
       "      <th>1994</th>\n",
       "      <td>COVID-19</td>\n",
       "      <td>1.367733e+18</td>\n",
       "      <td>http://twitter.com/user/status/136773301098089...</td>\n",
       "      <td>Pleased to address Finance Ministers at the Fi...</td>\n",
       "      <td>1</td>\n",
       "    </tr>\n",
       "    <tr>\n",
       "      <th>1995</th>\n",
       "      <td>COVID-19</td>\n",
       "      <td>1.369665e+18</td>\n",
       "      <td>http://twitter.com/user/status/136966502764132...</td>\n",
       "      <td>We know we can't beat COVID without equitable ...</td>\n",
       "      <td>1</td>\n",
       "    </tr>\n",
       "    <tr>\n",
       "      <th>1996</th>\n",
       "      <td>COVID-19</td>\n",
       "      <td>1.369328e+18</td>\n",
       "      <td>http://twitter.com/user/status/136932838111283...</td>\n",
       "      <td>The QUAD Leaders will discuss ongoing efforts ...</td>\n",
       "      <td>1</td>\n",
       "    </tr>\n",
       "    <tr>\n",
       "      <th>1997</th>\n",
       "      <td>COVID-19</td>\n",
       "      <td>1.368618e+18</td>\n",
       "      <td>http://twitter.com/user/status/136861783573649...</td>\n",
       "      <td>Soon, vaccines and vaccine passports may not b...</td>\n",
       "      <td>1</td>\n",
       "    </tr>\n",
       "  </tbody>\n",
       "</table>\n",
       "<p>2000 rows × 5 columns</p>\n",
       "</div>"
      ],
      "text/plain": [
       "         topic      tweet_id  \\\n",
       "0     COVID-19  1.359351e+18   \n",
       "4     COVID-19  1.370008e+18   \n",
       "5     COVID-19  1.367727e+18   \n",
       "7     COVID-19  1.369888e+18   \n",
       "12    COVID-19  1.368585e+18   \n",
       "...        ...           ...   \n",
       "1993  COVID-19  1.367308e+18   \n",
       "1994  COVID-19  1.367733e+18   \n",
       "1995  COVID-19  1.369665e+18   \n",
       "1996  COVID-19  1.369328e+18   \n",
       "1997  COVID-19  1.368618e+18   \n",
       "\n",
       "                                              tweet_url  \\\n",
       "0     http://twitter.com/user/status/135935094335617...   \n",
       "4     http://twitter.com/user/status/137000807648978...   \n",
       "5     http://twitter.com/user/status/136772673004420...   \n",
       "7     http://twitter.com/user/status/136988848341471...   \n",
       "12    http://twitter.com/user/status/136858518750069...   \n",
       "...                                                 ...   \n",
       "1993  http://twitter.com/user/status/136730832289060...   \n",
       "1994  http://twitter.com/user/status/136773301098089...   \n",
       "1995  http://twitter.com/user/status/136966502764132...   \n",
       "1996  http://twitter.com/user/status/136932838111283...   \n",
       "1997  http://twitter.com/user/status/136861783573649...   \n",
       "\n",
       "                                             tweet_text  class_label  \n",
       "0     India's gift of 100,000 COVID-19 vaccines arri...            1  \n",
       "4     As part of the ongoing nationwide vaccination ...            1  \n",
       "5     Pleased to receive 50,000 doses of Covid-19 va...            1  \n",
       "7     Four former presidents have banded together fo...            1  \n",
       "12    WSJ: All three of Russia's main intelligence s...            1  \n",
       "...                                                 ...          ...  \n",
       "1993  “Proof-of-residency and ID requirements are su...            1  \n",
       "1994  Pleased to address Finance Ministers at the Fi...            1  \n",
       "1995  We know we can't beat COVID without equitable ...            1  \n",
       "1996  The QUAD Leaders will discuss ongoing efforts ...            1  \n",
       "1997  Soon, vaccines and vaccine passports may not b...            1  \n",
       "\n",
       "[2000 rows x 5 columns]"
      ]
     },
     "execution_count": 10,
     "metadata": {},
     "output_type": "execute_result"
    }
   ],
   "source": [
    "frames = [true_df_1000, false_df_1000]\n",
    "df_v2 = pd.concat(frames)\n",
    "df_v2"
   ]
  },
  {
   "cell_type": "code",
   "execution_count": 11,
   "metadata": {},
   "outputs": [
    {
     "data": {
      "text/plain": [
       "(3324,)"
      ]
     },
     "execution_count": 11,
     "metadata": {},
     "output_type": "execute_result"
    }
   ],
   "source": [
    "class_label = df[\"class_label\"].values\n",
    "#class_label = df_v2[\"class_label\"].values\n",
    "class_label.shape"
   ]
  },
  {
   "cell_type": "code",
   "execution_count": 12,
   "metadata": {},
   "outputs": [
    {
     "data": {
      "text/plain": [
       "(3324,)"
      ]
     },
     "execution_count": 12,
     "metadata": {},
     "output_type": "execute_result"
    }
   ],
   "source": [
    "tweet_txt = df[\"tweet_text\"].values\n",
    "#tweet_txt = df_v2[\"tweet_text\"].values\n",
    "tweet_txt.shape"
   ]
  },
  {
   "cell_type": "code",
   "execution_count": 13,
   "metadata": {},
   "outputs": [],
   "source": [
    "df1 = pd.DataFrame(tweet_txt)\n",
    "df1 = df1.rename(columns={0:'tweet'})"
   ]
  },
  {
   "cell_type": "code",
   "execution_count": 14,
   "metadata": {},
   "outputs": [],
   "source": [
    "df2 = pd.DataFrame(class_label)\n",
    "df2 = df2.rename(columns={0:'label'})\n",
    "new_df = pd.concat([df1, df2], axis=1)"
   ]
  },
  {
   "cell_type": "code",
   "execution_count": 15,
   "metadata": {},
   "outputs": [
    {
     "data": {
      "text/html": [
       "<div>\n",
       "<style scoped>\n",
       "    .dataframe tbody tr th:only-of-type {\n",
       "        vertical-align: middle;\n",
       "    }\n",
       "\n",
       "    .dataframe tbody tr th {\n",
       "        vertical-align: top;\n",
       "    }\n",
       "\n",
       "    .dataframe thead th {\n",
       "        text-align: right;\n",
       "    }\n",
       "</style>\n",
       "<table border=\"1\" class=\"dataframe\">\n",
       "  <thead>\n",
       "    <tr style=\"text-align: right;\">\n",
       "      <th></th>\n",
       "      <th>tweet</th>\n",
       "      <th>label</th>\n",
       "    </tr>\n",
       "  </thead>\n",
       "  <tbody>\n",
       "    <tr>\n",
       "      <th>0</th>\n",
       "      <td>India's gift of 100,000 COVID-19 vaccines arri...</td>\n",
       "      <td>1</td>\n",
       "    </tr>\n",
       "    <tr>\n",
       "      <th>1</th>\n",
       "      <td>Here’s what I’m doing while I wait my turn for...</td>\n",
       "      <td>0</td>\n",
       "    </tr>\n",
       "    <tr>\n",
       "      <th>2</th>\n",
       "      <td>This afternoon, I’m hosting an event with the ...</td>\n",
       "      <td>0</td>\n",
       "    </tr>\n",
       "    <tr>\n",
       "      <th>3</th>\n",
       "      <td>Help shops like mine stay open. Mask up, avoid...</td>\n",
       "      <td>0</td>\n",
       "    </tr>\n",
       "    <tr>\n",
       "      <th>4</th>\n",
       "      <td>As part of the ongoing nationwide vaccination ...</td>\n",
       "      <td>1</td>\n",
       "    </tr>\n",
       "  </tbody>\n",
       "</table>\n",
       "</div>"
      ],
      "text/plain": [
       "                                               tweet  label\n",
       "0  India's gift of 100,000 COVID-19 vaccines arri...      1\n",
       "1  Here’s what I’m doing while I wait my turn for...      0\n",
       "2  This afternoon, I’m hosting an event with the ...      0\n",
       "3  Help shops like mine stay open. Mask up, avoid...      0\n",
       "4  As part of the ongoing nationwide vaccination ...      1"
      ]
     },
     "execution_count": 15,
     "metadata": {},
     "output_type": "execute_result"
    }
   ],
   "source": [
    "new_df.head()"
   ]
  },
  {
   "cell_type": "markdown",
   "metadata": {},
   "source": [
    "## Preprocessing"
   ]
  },
  {
   "cell_type": "code",
   "execution_count": 16,
   "metadata": {},
   "outputs": [],
   "source": [
    "def preprocess(article):\n",
    "    doc_list = []\n",
    "    for art in article:\n",
    "        art = re.sub('[^A-Za-z0-9]+', ' ', art.lower())\n",
    "        content_tokens = word_tokenize(art)\n",
    "        doc = [word for word in  content_tokens if not word.lower() in stop_words]\n",
    "        doc = [n for n in doc if not n.isdigit()]\n",
    "        doc_list.append(\" \".join(doc))\n",
    "        \n",
    "    return doc_list\n"
   ]
  },
  {
   "cell_type": "code",
   "execution_count": 17,
   "metadata": {},
   "outputs": [],
   "source": [
    "new_df['tweet'] = preprocess(new_df['tweet'])"
   ]
  },
  {
   "cell_type": "code",
   "execution_count": 18,
   "metadata": {},
   "outputs": [
    {
     "data": {
      "text/html": [
       "<div>\n",
       "<style scoped>\n",
       "    .dataframe tbody tr th:only-of-type {\n",
       "        vertical-align: middle;\n",
       "    }\n",
       "\n",
       "    .dataframe tbody tr th {\n",
       "        vertical-align: top;\n",
       "    }\n",
       "\n",
       "    .dataframe thead th {\n",
       "        text-align: right;\n",
       "    }\n",
       "</style>\n",
       "<table border=\"1\" class=\"dataframe\">\n",
       "  <thead>\n",
       "    <tr style=\"text-align: right;\">\n",
       "      <th></th>\n",
       "      <th>tweet</th>\n",
       "      <th>label</th>\n",
       "    </tr>\n",
       "  </thead>\n",
       "  <tbody>\n",
       "    <tr>\n",
       "      <th>0</th>\n",
       "      <td>india gift covid vaccines arrived barbados ear...</td>\n",
       "      <td>1</td>\n",
       "    </tr>\n",
       "    <tr>\n",
       "      <th>1</th>\n",
       "      <td>wait turn covid vaccines masking staying least...</td>\n",
       "      <td>0</td>\n",
       "    </tr>\n",
       "    <tr>\n",
       "      <th>2</th>\n",
       "      <td>afternoon hosting event ceos johnson amp johns...</td>\n",
       "      <td>0</td>\n",
       "    </tr>\n",
       "    <tr>\n",
       "      <th>3</th>\n",
       "      <td>help shops like mine stay open mask avoid crow...</td>\n",
       "      <td>0</td>\n",
       "    </tr>\n",
       "    <tr>\n",
       "      <th>4</th>\n",
       "      <td>part ongoing nationwide vaccination rollout se...</td>\n",
       "      <td>1</td>\n",
       "    </tr>\n",
       "  </tbody>\n",
       "</table>\n",
       "</div>"
      ],
      "text/plain": [
       "                                               tweet  label\n",
       "0  india gift covid vaccines arrived barbados ear...      1\n",
       "1  wait turn covid vaccines masking staying least...      0\n",
       "2  afternoon hosting event ceos johnson amp johns...      0\n",
       "3  help shops like mine stay open mask avoid crow...      0\n",
       "4  part ongoing nationwide vaccination rollout se...      1"
      ]
     },
     "execution_count": 18,
     "metadata": {},
     "output_type": "execute_result"
    }
   ],
   "source": [
    "new_df.head()"
   ]
  },
  {
   "cell_type": "markdown",
   "metadata": {},
   "source": [
    "## Ngrams"
   ]
  },
  {
   "cell_type": "code",
   "execution_count": 19,
   "metadata": {},
   "outputs": [],
   "source": [
    "eng_words = pd.read_csv(\"words.txt\", sep=\" \")"
   ]
  },
  {
   "cell_type": "code",
   "execution_count": 20,
   "metadata": {},
   "outputs": [],
   "source": [
    "blacklisted = [\"http\", \"https\", \"co\", \"twitter\", \"com\"]"
   ]
  },
  {
   "cell_type": "code",
   "execution_count": 41,
   "metadata": {},
   "outputs": [],
   "source": [
    "def getNgrams(words, n = 2):\n",
    "    wordList = []\n",
    "    for i in words.split():\n",
    "        if i in eng_words.values:\n",
    "            wordList.append(i)\n",
    "    ngram_vocab = ngrams(wordList, n)\n",
    "    my_dict = dict([(ng, True) for ng in ngram_vocab])  \n",
    "    return my_dict  \n",
    "  \n",
    "    \n",
    "# def getNgrams(words, n = 2):\n",
    "#     ngram_vocab = ngrams(words.split(), n)\n",
    "#     my_dict = dict([(ng, True) for ng in ngram_vocab])  \n",
    "#     return my_dict  \n",
    "  \n",
    "  \n",
    "# def getNgrams(words, n = 2):\n",
    "#     wordList = []\n",
    "#     for i in words.split():\n",
    "#         if i not in blacklisted:\n",
    "#             wordList.append(i)\n",
    "#     ngram_vocab = ngrams(wordList, n)\n",
    "#     my_dict = dict([(ng, True) for ng in ngram_vocab])  \n",
    "#     return my_dict  "
   ]
  },
  {
   "cell_type": "markdown",
   "metadata": {},
   "source": [
    "## Naive bayes classifier"
   ]
  },
  {
   "cell_type": "code",
   "execution_count": 22,
   "metadata": {},
   "outputs": [],
   "source": [
    "resultDict = {}\n",
    "\n",
    "for n in [1,2,3,4,5]:\n",
    "    trueList = []\n",
    "    falseList = []\n",
    "    for line in new_df[new_df.label == 1].tweet:\n",
    "        trueList.append((getNgrams(line, n), 'true'))\n",
    "    for line in new_df[new_df.label == 0].tweet:\n",
    "        falseList.append((getNgrams(line, n), 'false'))\n",
    "    \n",
    "    trainset = trueList + falseList\n",
    "        \n",
    "    classifier = NaiveBayesClassifier.train(trainset)\n",
    "    \n",
    "    resultDict[n] = classifier"
   ]
  },
  {
   "cell_type": "code",
   "execution_count": 23,
   "metadata": {},
   "outputs": [
    {
     "data": {
      "text/html": [
       "<div>\n",
       "<style scoped>\n",
       "    .dataframe tbody tr th:only-of-type {\n",
       "        vertical-align: middle;\n",
       "    }\n",
       "\n",
       "    .dataframe tbody tr th {\n",
       "        vertical-align: top;\n",
       "    }\n",
       "\n",
       "    .dataframe thead th {\n",
       "        text-align: right;\n",
       "    }\n",
       "</style>\n",
       "<table border=\"1\" class=\"dataframe\">\n",
       "  <thead>\n",
       "    <tr style=\"text-align: right;\">\n",
       "      <th></th>\n",
       "      <th>tweet</th>\n",
       "      <th>label</th>\n",
       "    </tr>\n",
       "  </thead>\n",
       "  <tbody>\n",
       "    <tr>\n",
       "      <th>0</th>\n",
       "      <td>india gift covid vaccines arrived barbados ear...</td>\n",
       "      <td>1</td>\n",
       "    </tr>\n",
       "    <tr>\n",
       "      <th>1</th>\n",
       "      <td>wait turn covid vaccines masking staying least...</td>\n",
       "      <td>0</td>\n",
       "    </tr>\n",
       "    <tr>\n",
       "      <th>2</th>\n",
       "      <td>afternoon hosting event ceos johnson amp johns...</td>\n",
       "      <td>0</td>\n",
       "    </tr>\n",
       "    <tr>\n",
       "      <th>3</th>\n",
       "      <td>help shops like mine stay open mask avoid crow...</td>\n",
       "      <td>0</td>\n",
       "    </tr>\n",
       "    <tr>\n",
       "      <th>4</th>\n",
       "      <td>part ongoing nationwide vaccination rollout se...</td>\n",
       "      <td>1</td>\n",
       "    </tr>\n",
       "    <tr>\n",
       "      <th>...</th>\n",
       "      <td>...</td>\n",
       "      <td>...</td>\n",
       "    </tr>\n",
       "    <tr>\n",
       "      <th>3319</th>\n",
       "      <td>pearl wisdom fuckeer bill gates intentionally ...</td>\n",
       "      <td>1</td>\n",
       "    </tr>\n",
       "    <tr>\n",
       "      <th>3320</th>\n",
       "      <td>top infectious disease expert dr anthony fauci...</td>\n",
       "      <td>1</td>\n",
       "    </tr>\n",
       "    <tr>\n",
       "      <th>3321</th>\n",
       "      <td>everyone looking bill gates coronavirus vaccin...</td>\n",
       "      <td>1</td>\n",
       "    </tr>\n",
       "    <tr>\n",
       "      <th>3322</th>\n",
       "      <td>president first instinct response possible pan...</td>\n",
       "      <td>1</td>\n",
       "    </tr>\n",
       "    <tr>\n",
       "      <th>3323</th>\n",
       "      <td>oxford astrazeneca coronavirus vaccine showed ...</td>\n",
       "      <td>1</td>\n",
       "    </tr>\n",
       "  </tbody>\n",
       "</table>\n",
       "<p>3324 rows × 2 columns</p>\n",
       "</div>"
      ],
      "text/plain": [
       "                                                  tweet  label\n",
       "0     india gift covid vaccines arrived barbados ear...      1\n",
       "1     wait turn covid vaccines masking staying least...      0\n",
       "2     afternoon hosting event ceos johnson amp johns...      0\n",
       "3     help shops like mine stay open mask avoid crow...      0\n",
       "4     part ongoing nationwide vaccination rollout se...      1\n",
       "...                                                 ...    ...\n",
       "3319  pearl wisdom fuckeer bill gates intentionally ...      1\n",
       "3320  top infectious disease expert dr anthony fauci...      1\n",
       "3321  everyone looking bill gates coronavirus vaccin...      1\n",
       "3322  president first instinct response possible pan...      1\n",
       "3323  oxford astrazeneca coronavirus vaccine showed ...      1\n",
       "\n",
       "[3324 rows x 2 columns]"
      ]
     },
     "execution_count": 23,
     "metadata": {},
     "output_type": "execute_result"
    }
   ],
   "source": [
    "new_df"
   ]
  },
  {
   "cell_type": "markdown",
   "metadata": {},
   "source": [
    "## Preprocess of test data"
   ]
  },
  {
   "cell_type": "code",
   "execution_count": 24,
   "metadata": {},
   "outputs": [],
   "source": [
    "test_df = pd.read_csv(\"data/1b/CT22_english_1B_claim_dev_test.tsv\", sep='\\t')"
   ]
  },
  {
   "cell_type": "code",
   "execution_count": 25,
   "metadata": {},
   "outputs": [
    {
     "data": {
      "text/html": [
       "<div>\n",
       "<style scoped>\n",
       "    .dataframe tbody tr th:only-of-type {\n",
       "        vertical-align: middle;\n",
       "    }\n",
       "\n",
       "    .dataframe tbody tr th {\n",
       "        vertical-align: top;\n",
       "    }\n",
       "\n",
       "    .dataframe thead th {\n",
       "        text-align: right;\n",
       "    }\n",
       "</style>\n",
       "<table border=\"1\" class=\"dataframe\">\n",
       "  <thead>\n",
       "    <tr style=\"text-align: right;\">\n",
       "      <th></th>\n",
       "      <th>topic</th>\n",
       "      <th>tweet_id</th>\n",
       "      <th>tweet_url</th>\n",
       "      <th>tweet_text</th>\n",
       "      <th>class_label</th>\n",
       "    </tr>\n",
       "  </thead>\n",
       "  <tbody>\n",
       "    <tr>\n",
       "      <th>0</th>\n",
       "      <td>COVID-19</td>\n",
       "      <td>1368273275181207552</td>\n",
       "      <td>http://twitter.com/user/status/136827327518120...</td>\n",
       "      <td>The Senate just passed COVID relief.   ✔️ $1,4...</td>\n",
       "      <td>1</td>\n",
       "    </tr>\n",
       "    <tr>\n",
       "      <th>1</th>\n",
       "      <td>COVID-19</td>\n",
       "      <td>1368830691300020225</td>\n",
       "      <td>http://twitter.com/user/status/136883069130002...</td>\n",
       "      <td>All seven COVID-19 vaccines that have complete...</td>\n",
       "      <td>1</td>\n",
       "    </tr>\n",
       "    <tr>\n",
       "      <th>2</th>\n",
       "      <td>COVID-19</td>\n",
       "      <td>1367771405647933444</td>\n",
       "      <td>http://twitter.com/user/status/136777140564793...</td>\n",
       "      <td>In India the vaccination program is progressin...</td>\n",
       "      <td>1</td>\n",
       "    </tr>\n",
       "    <tr>\n",
       "      <th>3</th>\n",
       "      <td>COVID-19</td>\n",
       "      <td>1354211785293746177</td>\n",
       "      <td>http://twitter.com/user/status/135421178529374...</td>\n",
       "      <td>Vaccines are here. But it's important that we ...</td>\n",
       "      <td>1</td>\n",
       "    </tr>\n",
       "    <tr>\n",
       "      <th>4</th>\n",
       "      <td>COVID-19</td>\n",
       "      <td>1359553863590678533</td>\n",
       "      <td>http://twitter.com/user/status/135955386359067...</td>\n",
       "      <td>BREAKING @ians_india: Canadian Prime Minister ...</td>\n",
       "      <td>0</td>\n",
       "    </tr>\n",
       "    <tr>\n",
       "      <th>...</th>\n",
       "      <td>...</td>\n",
       "      <td>...</td>\n",
       "      <td>...</td>\n",
       "      <td>...</td>\n",
       "      <td>...</td>\n",
       "    </tr>\n",
       "    <tr>\n",
       "      <th>906</th>\n",
       "      <td>COVID-19</td>\n",
       "      <td>1284918427228893184</td>\n",
       "      <td>http://twitter.com/user/status/128491842722889...</td>\n",
       "      <td>Moderna’s experimental coronavirus vaccine mov...</td>\n",
       "      <td>1</td>\n",
       "    </tr>\n",
       "    <tr>\n",
       "      <th>907</th>\n",
       "      <td>COVID-19</td>\n",
       "      <td>1286604745818349568</td>\n",
       "      <td>http://twitter.com/user/status/128660474581834...</td>\n",
       "      <td>Morning - I drink gaumutra Lunch- I have Patan...</td>\n",
       "      <td>0</td>\n",
       "    </tr>\n",
       "    <tr>\n",
       "      <th>908</th>\n",
       "      <td>COVID-19</td>\n",
       "      <td>1297055497984421888</td>\n",
       "      <td>http://twitter.com/user/status/129705549798442...</td>\n",
       "      <td>Somehow I feel that this high level academic d...</td>\n",
       "      <td>0</td>\n",
       "    </tr>\n",
       "    <tr>\n",
       "      <th>909</th>\n",
       "      <td>COVID-19</td>\n",
       "      <td>1236601634454528000</td>\n",
       "      <td>http://twitter.com/user/status/123660163445452...</td>\n",
       "      <td>Not just Manila, pero pwede bang buong ncr l, ...</td>\n",
       "      <td>0</td>\n",
       "    </tr>\n",
       "    <tr>\n",
       "      <th>910</th>\n",
       "      <td>COVID-19</td>\n",
       "      <td>1236289649737371648</td>\n",
       "      <td>http://twitter.com/user/status/123628964973737...</td>\n",
       "      <td>Panic buying and stockpiling of toilet roll co...</td>\n",
       "      <td>1</td>\n",
       "    </tr>\n",
       "  </tbody>\n",
       "</table>\n",
       "<p>911 rows × 5 columns</p>\n",
       "</div>"
      ],
      "text/plain": [
       "        topic             tweet_id  \\\n",
       "0    COVID-19  1368273275181207552   \n",
       "1    COVID-19  1368830691300020225   \n",
       "2    COVID-19  1367771405647933444   \n",
       "3    COVID-19  1354211785293746177   \n",
       "4    COVID-19  1359553863590678533   \n",
       "..        ...                  ...   \n",
       "906  COVID-19  1284918427228893184   \n",
       "907  COVID-19  1286604745818349568   \n",
       "908  COVID-19  1297055497984421888   \n",
       "909  COVID-19  1236601634454528000   \n",
       "910  COVID-19  1236289649737371648   \n",
       "\n",
       "                                             tweet_url  \\\n",
       "0    http://twitter.com/user/status/136827327518120...   \n",
       "1    http://twitter.com/user/status/136883069130002...   \n",
       "2    http://twitter.com/user/status/136777140564793...   \n",
       "3    http://twitter.com/user/status/135421178529374...   \n",
       "4    http://twitter.com/user/status/135955386359067...   \n",
       "..                                                 ...   \n",
       "906  http://twitter.com/user/status/128491842722889...   \n",
       "907  http://twitter.com/user/status/128660474581834...   \n",
       "908  http://twitter.com/user/status/129705549798442...   \n",
       "909  http://twitter.com/user/status/123660163445452...   \n",
       "910  http://twitter.com/user/status/123628964973737...   \n",
       "\n",
       "                                            tweet_text  class_label  \n",
       "0    The Senate just passed COVID relief.   ✔️ $1,4...            1  \n",
       "1    All seven COVID-19 vaccines that have complete...            1  \n",
       "2    In India the vaccination program is progressin...            1  \n",
       "3    Vaccines are here. But it's important that we ...            1  \n",
       "4    BREAKING @ians_india: Canadian Prime Minister ...            0  \n",
       "..                                                 ...          ...  \n",
       "906  Moderna’s experimental coronavirus vaccine mov...            1  \n",
       "907  Morning - I drink gaumutra Lunch- I have Patan...            0  \n",
       "908  Somehow I feel that this high level academic d...            0  \n",
       "909  Not just Manila, pero pwede bang buong ncr l, ...            0  \n",
       "910  Panic buying and stockpiling of toilet roll co...            1  \n",
       "\n",
       "[911 rows x 5 columns]"
      ]
     },
     "execution_count": 25,
     "metadata": {},
     "output_type": "execute_result"
    }
   ],
   "source": [
    "test_df"
   ]
  },
  {
   "cell_type": "code",
   "execution_count": 26,
   "metadata": {},
   "outputs": [],
   "source": [
    "class_label_test = test_df[\"class_label\"].values\n",
    "tweet_txt_test = test_df[\"tweet_text\"].values\n"
   ]
  },
  {
   "cell_type": "code",
   "execution_count": 27,
   "metadata": {},
   "outputs": [],
   "source": [
    "df1_test = pd.DataFrame(tweet_txt_test)\n",
    "df1_test = df1_test.rename(columns={0:'tweet'})"
   ]
  },
  {
   "cell_type": "code",
   "execution_count": 28,
   "metadata": {},
   "outputs": [
    {
     "data": {
      "text/html": [
       "<div>\n",
       "<style scoped>\n",
       "    .dataframe tbody tr th:only-of-type {\n",
       "        vertical-align: middle;\n",
       "    }\n",
       "\n",
       "    .dataframe tbody tr th {\n",
       "        vertical-align: top;\n",
       "    }\n",
       "\n",
       "    .dataframe thead th {\n",
       "        text-align: right;\n",
       "    }\n",
       "</style>\n",
       "<table border=\"1\" class=\"dataframe\">\n",
       "  <thead>\n",
       "    <tr style=\"text-align: right;\">\n",
       "      <th></th>\n",
       "      <th>tweet</th>\n",
       "      <th>label</th>\n",
       "    </tr>\n",
       "  </thead>\n",
       "  <tbody>\n",
       "    <tr>\n",
       "      <th>0</th>\n",
       "      <td>The Senate just passed COVID relief.   ✔️ $1,4...</td>\n",
       "      <td>1</td>\n",
       "    </tr>\n",
       "    <tr>\n",
       "      <th>1</th>\n",
       "      <td>All seven COVID-19 vaccines that have complete...</td>\n",
       "      <td>1</td>\n",
       "    </tr>\n",
       "    <tr>\n",
       "      <th>2</th>\n",
       "      <td>In India the vaccination program is progressin...</td>\n",
       "      <td>1</td>\n",
       "    </tr>\n",
       "    <tr>\n",
       "      <th>3</th>\n",
       "      <td>Vaccines are here. But it's important that we ...</td>\n",
       "      <td>1</td>\n",
       "    </tr>\n",
       "    <tr>\n",
       "      <th>4</th>\n",
       "      <td>BREAKING @ians_india: Canadian Prime Minister ...</td>\n",
       "      <td>0</td>\n",
       "    </tr>\n",
       "  </tbody>\n",
       "</table>\n",
       "</div>"
      ],
      "text/plain": [
       "                                               tweet  label\n",
       "0  The Senate just passed COVID relief.   ✔️ $1,4...      1\n",
       "1  All seven COVID-19 vaccines that have complete...      1\n",
       "2  In India the vaccination program is progressin...      1\n",
       "3  Vaccines are here. But it's important that we ...      1\n",
       "4  BREAKING @ians_india: Canadian Prime Minister ...      0"
      ]
     },
     "execution_count": 28,
     "metadata": {},
     "output_type": "execute_result"
    }
   ],
   "source": [
    "df2_test = pd.DataFrame(class_label_test)\n",
    "df2_test = df2_test.rename(columns={0:'label'})\n",
    "new_test_df = pd.concat([df1_test, df2_test], axis=1)\n",
    "new_test_df.head()"
   ]
  },
  {
   "cell_type": "code",
   "execution_count": 29,
   "metadata": {},
   "outputs": [],
   "source": [
    "new_test_df['tweet'] = preprocess(new_test_df['tweet'])"
   ]
  },
  {
   "cell_type": "code",
   "execution_count": 30,
   "metadata": {},
   "outputs": [],
   "source": [
    "test_resultDict = {}\n",
    "\n",
    "for n in [1,2,3,4,5]:\n",
    "    trueList = []\n",
    "    falseList = []\n",
    "    for line in new_test_df[new_test_df.label == 1].tweet:\n",
    "        trueList.append((getNgrams(line, n), 'true'))\n",
    "    for line in new_test_df[new_test_df.label == 0].tweet:\n",
    "        falseList.append((getNgrams(line, n), 'false'))\n",
    "        \n",
    "    testset = trueList + falseList\n",
    "    \n",
    "    test_resultDict[n] = testset"
   ]
  },
  {
   "cell_type": "markdown",
   "metadata": {},
   "source": [
    "## Benchmarking"
   ]
  },
  {
   "cell_type": "code",
   "execution_count": 31,
   "metadata": {},
   "outputs": [
    {
     "name": "stdout",
     "output_type": "stream",
     "text": [
      "1-gram accuracy: 0.7332601536772777\n",
      "2-gram accuracy: 0.6564215148188803\n",
      "3-gram accuracy: 0.6322722283205269\n",
      "4-gram accuracy: 0.6223929747530187\n",
      "5-gram accuracy: 0.6311745334796927\n"
     ]
    }
   ],
   "source": [
    "for n in test_resultDict:\n",
    "    classifier = resultDict[n]\n",
    "    testset = test_resultDict[n]\n",
    "    accuracy = nltk.classify.util.accuracy(classifier, testset)\n",
    "    print(str(n)+ '-gram accuracy:', accuracy)"
   ]
  },
  {
   "cell_type": "code",
   "execution_count": 42,
   "metadata": {},
   "outputs": [],
   "source": [
    "from sklearn.naive_bayes import ComplementNB #0.4972557628979144\n",
    "from sklearn.naive_bayes import MultinomialNB #0.5016465422612514\n",
    "from sklearn.naive_bayes import BernoulliNB #0.5082327113062569\n",
    "from sklearn.naive_bayes import GaussianNB #0.47530186608122943\n",
    "from sklearn.feature_extraction.text import CountVectorizer\n",
    "from nltk.tokenize import RegexpTokenizer\n",
    "import nltk\n",
    "from nltk.stem import WordNetLemmatizer \n",
    "import spacy"
   ]
  },
  {
   "cell_type": "code",
   "execution_count": 43,
   "metadata": {},
   "outputs": [],
   "source": [
    "#lemmatizer = WordNetLemmatizer()\n",
    "nlp = spacy.load('en_core_web_sm', disable=['parser', 'ner'])"
   ]
  },
  {
   "cell_type": "code",
   "execution_count": 44,
   "metadata": {},
   "outputs": [
    {
     "name": "stderr",
     "output_type": "stream",
     "text": [
      "C:\\Users\\minh\\AppData\\Local\\Programs\\Python\\Python39\\lib\\site-packages\\sklearn\\utils\\deprecation.py:87: FutureWarning: Function get_feature_names is deprecated; get_feature_names is deprecated in 1.0 and will be removed in 1.2. Please use get_feature_names_out instead.\n",
      "  warnings.warn(msg, category=FutureWarning)\n"
     ]
    },
    {
     "data": {
      "text/plain": [
       "ComplementNB()"
      ]
     },
     "execution_count": 44,
     "metadata": {},
     "output_type": "execute_result"
    }
   ],
   "source": [
    "\n",
    "#token = RegexpTokenizer(r'[a-zA-Z0-9]+')\n",
    "#cv = CountVectorizer(stop_words=\"english\", ngram_range=(1,2), tokenizer=token.tokenize, max_features=3000)\n",
    "\n",
    "clf = ComplementNB()\n",
    "X = new_df.drop([\"label\"], axis = 1)\n",
    "Y = new_df[\"label\"]\n",
    "\n",
    "X_dict = {}\n",
    "for n in [1,2,3,4,5]:\n",
    "    X_List = []\n",
    "    for x in X.values:\n",
    "        #word_list = nltk.word_tokenize(x[0])\n",
    "        #lemmatized_output = ' '.join([lemmatizer.lemmatize(w) for w in word_list])\n",
    "        doc = nlp(x[0])\n",
    "        lemmatized_output = \" \".join([token.lemma_ for token in doc])\n",
    "        X_List.append(str(getNgrams(lemmatized_output, n)))\n",
    "    X_dict[n] = X_List\n",
    "    \n",
    "asdf = pd.DataFrame.from_dict(X_dict)\n",
    "ayo = new_df.join(asdf, how=\"left\")\n",
    "\n",
    "docs = ayo[1].values\n",
    "\n",
    "vec = CountVectorizer()\n",
    "vec_fit = vec.fit(docs)\n",
    "X1 = vec_fit.transform(docs)\n",
    "\n",
    "df1 = pd.DataFrame(X1.toarray(), columns=vec.get_feature_names())\n",
    "\n",
    "clf.fit(df1, Y)\n"
   ]
  },
  {
   "cell_type": "code",
   "execution_count": 45,
   "metadata": {},
   "outputs": [
    {
     "name": "stderr",
     "output_type": "stream",
     "text": [
      "C:\\Users\\minh\\AppData\\Local\\Programs\\Python\\Python39\\lib\\site-packages\\sklearn\\utils\\deprecation.py:87: FutureWarning: Function get_feature_names is deprecated; get_feature_names is deprecated in 1.0 and will be removed in 1.2. Please use get_feature_names_out instead.\n",
      "  warnings.warn(msg, category=FutureWarning)\n"
     ]
    },
    {
     "data": {
      "text/plain": [
       "0.49396267837541163"
      ]
     },
     "execution_count": 45,
     "metadata": {},
     "output_type": "execute_result"
    }
   ],
   "source": [
    "\n",
    "X_test = new_test_df.drop([\"label\"], axis = 1)\n",
    "Y_test = new_test_df[\"label\"]\n",
    "\n",
    "X_test_dict = {}\n",
    "for n in [1,2,3,4,5]:\n",
    "    X_List = []\n",
    "    for x in X.values:\n",
    "        X_List.append(str(getNgrams(x[0], n)))\n",
    "    X_test_dict[n] = X_List\n",
    "    \n",
    "asdf2 = pd.DataFrame.from_dict(X_test_dict)\n",
    "ayo2 = new_test_df.join(asdf2, how=\"left\")\n",
    "\n",
    "docs2 = ayo2[1].values\n",
    "X1_test = vec_fit.transform(docs2)\n",
    "\n",
    "df1_test = pd.DataFrame(X1_test.toarray(), columns=vec.get_feature_names())\n",
    "\n",
    "clf.score(df1_test, Y_test)"
   ]
  },
  {
   "cell_type": "code",
   "execution_count": null,
   "metadata": {},
   "outputs": [],
   "source": []
  }
 ],
 "metadata": {
  "interpreter": {
   "hash": "cd24510e72a5417feea7cb81402ffb6b313add9a2ff74c45dc5472ac7fbe8a4b"
  },
  "kernelspec": {
   "display_name": "Python 3.9.1 64-bit",
   "language": "python",
   "name": "python3"
  },
  "language_info": {
   "codemirror_mode": {
    "name": "ipython",
    "version": 3
   },
   "file_extension": ".py",
   "mimetype": "text/x-python",
   "name": "python",
   "nbconvert_exporter": "python",
   "pygments_lexer": "ipython3",
   "version": "3.9.1"
  },
  "orig_nbformat": 4
 },
 "nbformat": 4,
 "nbformat_minor": 2
}
