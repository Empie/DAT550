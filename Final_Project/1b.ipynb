{
 "cells": [
  {
   "cell_type": "markdown",
   "metadata": {},
   "source": [
    "Subtask B: Verifiable factual claims detection: Given a tweet, predict whether it contains a verifiable factual claim. This is a binary task with two labels: Yes and No. This is a classification task"
   ]
  },
  {
   "cell_type": "code",
   "execution_count": 152,
   "metadata": {},
   "outputs": [
    {
     "name": "stderr",
     "output_type": "stream",
     "text": [
      "[nltk_data] Downloading package stopwords to\n",
      "[nltk_data]     C:\\Users\\minh\\AppData\\Roaming\\nltk_data...\n",
      "[nltk_data]   Package stopwords is already up-to-date!\n"
     ]
    }
   ],
   "source": [
    "import pandas as pd\n",
    "import numpy as np\n",
    "import json\n",
    "import nltk\n",
    "from nltk import ngrams\n",
    "from nltk.corpus import stopwords\n",
    "from nltk.stem import PorterStemmer\n",
    "import re\n",
    "import spacy\n",
    "\n",
    "import warnings\n",
    "warnings.filterwarnings(\"ignore\")\n",
    "\n",
    "# Load Lemmatizer\n",
    "nlp = spacy.load(\"en_core_web_sm\")\n",
    "\n",
    "# Load Stopwords\n",
    "nltk.download('stopwords')\n",
    "cachedStopWords = list(set(stopwords.words(\"english\")))\n",
    "\n",
    "\n",
    "\n",
    "# a)\n",
    "# Twitter Datasets\n",
    "df_worthy_train = pd.read_csv(\"data/1b/CT22_english_1B_claim_train.tsv\", sep='\\t')\n",
    "df_worthy_test = pd.read_csv(\"data/1b/CT22_english_1B_claim_dev_test.tsv\", sep='\\t')\n",
    "\n",
    "# Top 3000 most commonly used english words + covid related medical terms (used as vocabulary for the vectorization process)\n",
    "topwords = pd.read_csv('words.txt', sep=\" \", header=None).values[:,0]"
   ]
  },
  {
   "cell_type": "markdown",
   "metadata": {},
   "source": [
    "### Handling of imbalanced data"
   ]
  },
  {
   "cell_type": "code",
   "execution_count": 153,
   "metadata": {},
   "outputs": [
    {
     "data": {
      "text/plain": [
       "1    2122\n",
       "0    1202\n",
       "Name: class_label, dtype: int64"
      ]
     },
     "execution_count": 153,
     "metadata": {},
     "output_type": "execute_result"
    }
   ],
   "source": [
    "df_worthy_train[\"class_label\"].value_counts()"
   ]
  },
  {
   "cell_type": "code",
   "execution_count": 154,
   "metadata": {},
   "outputs": [
    {
     "data": {
      "text/plain": [
       "(2122, 5)"
      ]
     },
     "execution_count": 154,
     "metadata": {},
     "output_type": "execute_result"
    }
   ],
   "source": [
    "df_true = df_worthy_train[df_worthy_train[\"class_label\"] == 1]\n",
    "df_true.shape"
   ]
  },
  {
   "cell_type": "code",
   "execution_count": 155,
   "metadata": {},
   "outputs": [
    {
     "data": {
      "text/plain": [
       "(1202, 5)"
      ]
     },
     "execution_count": 155,
     "metadata": {},
     "output_type": "execute_result"
    }
   ],
   "source": [
    "df_false = df_worthy_train[df_worthy_train[\"class_label\"] == 0]\n",
    "df_false.shape"
   ]
  },
  {
   "cell_type": "code",
   "execution_count": 156,
   "metadata": {},
   "outputs": [
    {
     "data": {
      "text/plain": [
       "(1202, 5)"
      ]
     },
     "execution_count": 156,
     "metadata": {},
     "output_type": "execute_result"
    }
   ],
   "source": [
    "df_true_downsampled = df_true.sample(df_false.shape[0])\n",
    "df_true_downsampled.shape"
   ]
  },
  {
   "cell_type": "code",
   "execution_count": 157,
   "metadata": {},
   "outputs": [
    {
     "data": {
      "text/plain": [
       "(2404, 5)"
      ]
     },
     "execution_count": 157,
     "metadata": {},
     "output_type": "execute_result"
    }
   ],
   "source": [
    "# downsampled\n",
    "df_balanced_d = pd.concat([df_true_downsampled, df_false])\n",
    "df_balanced_d.shape"
   ]
  },
  {
   "cell_type": "code",
   "execution_count": 158,
   "metadata": {},
   "outputs": [
    {
     "data": {
      "text/plain": [
       "(2122, 5)"
      ]
     },
     "execution_count": 158,
     "metadata": {},
     "output_type": "execute_result"
    }
   ],
   "source": [
    "df_false_upsampled = df_false.sample(df_true.shape[0], replace=True)\n",
    "df_false_upsampled.shape"
   ]
  },
  {
   "cell_type": "code",
   "execution_count": 159,
   "metadata": {},
   "outputs": [
    {
     "data": {
      "text/plain": [
       "(4244, 5)"
      ]
     },
     "execution_count": 159,
     "metadata": {},
     "output_type": "execute_result"
    }
   ],
   "source": [
    "# upsampled\n",
    "df_balanced_u = pd.concat([df_true, df_false_upsampled])\n",
    "df_balanced_u.shape"
   ]
  },
  {
   "cell_type": "code",
   "execution_count": 160,
   "metadata": {},
   "outputs": [],
   "source": [
    "mean_val = (df_false.shape[0] + df_true.shape[0])/2\n",
    "df_true_mv = df_true.sample(int(mean_val))\n",
    "df_false_mv = df_false.sample(int(mean_val), replace=True)"
   ]
  },
  {
   "cell_type": "code",
   "execution_count": 161,
   "metadata": {},
   "outputs": [
    {
     "data": {
      "text/plain": [
       "(3324, 5)"
      ]
     },
     "execution_count": 161,
     "metadata": {},
     "output_type": "execute_result"
    }
   ],
   "source": [
    "# Hybrid\n",
    "df_balanced_h = pd.concat([df_true_mv, df_false_mv])\n",
    "df_balanced_h.shape"
   ]
  },
  {
   "cell_type": "markdown",
   "metadata": {},
   "source": [
    "### Emoji Removal"
   ]
  },
  {
   "cell_type": "code",
   "execution_count": 162,
   "metadata": {},
   "outputs": [],
   "source": [
    "# Function to remove emojies when using the lemmatizer\n",
    "#https://poopcode.com/how-to-remove-emoji-from-text-in-python/\n",
    "def remove_emoji(string):\n",
    "    emoji_pattern = re.compile(\"[\"\n",
    "                               u\"\\U0001F600-\\U0001F64F\"  # emoticons\n",
    "                               u\"\\U0001F300-\\U0001F5FF\"  # symbols & pictographs\n",
    "                               u\"\\U0001F680-\\U0001F6FF\"  # transport & map symbols\n",
    "                               u\"\\U0001F1E0-\\U0001F1FF\"  # flags (iOS)\n",
    "                               u\"\\U00002500-\\U00002BEF\"  # chinese char\n",
    "                               u\"\\U00002702-\\U000027B0\"\n",
    "                               u\"\\U00002702-\\U000027B0\"\n",
    "                               u\"\\U000024C2-\\U0001F251\"\n",
    "                               u\"\\U0001f926-\\U0001f937\"\n",
    "                               u\"\\U00010000-\\U0010ffff\"\n",
    "                               u\"\\u2640-\\u2642\"\n",
    "                               u\"\\u2600-\\u2B55\"\n",
    "                               u\"\\u200d\"\n",
    "                               u\"\\u23cf\"\n",
    "                               u\"\\u23e9\"\n",
    "                               u\"\\u231a\"\n",
    "                               u\"\\ufe0f\"  # dingbats\n",
    "                               u\"\\u3030\"\n",
    "                               \"]+\", flags=re.UNICODE)\n",
    "    return emoji_pattern.sub(r'', string)"
   ]
  },
  {
   "cell_type": "markdown",
   "metadata": {},
   "source": [
    "### Custom Tokenizer"
   ]
  },
  {
   "cell_type": "code",
   "execution_count": 163,
   "metadata": {},
   "outputs": [],
   "source": [
    "def tokenize_text(text, method=\"stopwords\"):\n",
    "    \n",
    "    # Remove hyperlinks\n",
    "    text = re.sub(r'http\\S+', '', text)\n",
    "    \n",
    "    # Split sentence into words\n",
    "    tokens = []\n",
    "    for token in ngrams(text.split(), 1):\n",
    "        word = re.sub(r',', '', token[0]) #Remove commas\n",
    "        word = re.sub(r'[\\!\\.\\:]$', '', word) #Remove (.!:) at the end of tokens\n",
    "        word = re.sub(r'#', '', word) #Remove hashtags (not the text)\n",
    "        if word == \"—\": continue #Ignore dash\n",
    "        if word.find(\"@\") != -1: continue #Ignore tags\n",
    "        tokens.append(word)\n",
    "    tokens\n",
    "\n",
    "    # List comprehension to remove stopwords\n",
    "    if method != \"default\":\n",
    "        tokens = [x for x in tokens if x not in cachedStopWords]\n",
    "\n",
    "    # Perform stemming\n",
    "    if method == \"stemming\":\n",
    "        ps = PorterStemmer()\n",
    "        tokens = [ps.stem(x) for x in tokens]\n",
    "\n",
    "    # Perform lemmatization\n",
    "    if method == \"lemmatizer\":\n",
    "        # Remove emojies due to lemmatizer not handling them well\n",
    "        tokens = [x for x in tokens if remove_emoji(x) == x]\n",
    "        text = \" \".join(tokens)\n",
    "        doc = nlp(text)\n",
    "        tokens = [token.lemma_ for token in doc]\n",
    "\n",
    "    return tokens"
   ]
  },
  {
   "cell_type": "code",
   "execution_count": 164,
   "metadata": {},
   "outputs": [],
   "source": [
    "def tokenize_normal(text):\n",
    "    return tokenize_text(text, method=\"default\")\n",
    "\n",
    "def tokenize_stopwords(text):\n",
    "    return tokenize_text(text, method=\"stopwords\")\n",
    "\n",
    "def tokenize_stemming(text):\n",
    "    return tokenize_text(text, method=\"stemming\")\n",
    "\n",
    "def tokenize_lemmatizer(text):\n",
    "    return tokenize_text(text, method=\"lemmatizer\")"
   ]
  },
  {
   "cell_type": "code",
   "execution_count": 165,
   "metadata": {},
   "outputs": [],
   "source": [
    "def tokenize_df(df, text_col, method=\"default\"):\n",
    "    article_tokens = []\n",
    "    for i in range(len(df)):\n",
    "        text = df.iloc[i][text_col].lower()\n",
    "        article_tokens.append(tokenize_text(text, method))\n",
    "    df[\"tokens\"] = article_tokens"
   ]
  },
  {
   "cell_type": "code",
   "execution_count": 166,
   "metadata": {},
   "outputs": [],
   "source": [
    "tokenize_df(df_balanced_d, \"tweet_text\", \"lemmatizer\")\n",
    "tokenize_df(df_balanced_u, \"tweet_text\", \"lemmatizer\")\n",
    "tokenize_df(df_balanced_h, \"tweet_text\", \"lemmatizer\")\n",
    "tokenize_df(df_worthy_train, \"tweet_text\", \"lemmatizer\")\n",
    "tokenize_df(df_worthy_test, \"tweet_text\", \"lemmatizer\")"
   ]
  },
  {
   "cell_type": "code",
   "execution_count": 167,
   "metadata": {},
   "outputs": [
    {
     "name": "stdout",
     "output_type": "stream",
     "text": [
      "['tony', 'fauci', 'swine', 'flu', 'hoax', ';', 'betrayal', 'trust', 'covid-19', 'first', 'time', 'fauci', 'cdc', 'lie', 'epidemic', 'push', 'dangerously', 'rush', '\"', 'vaccine', '\"', 'covid19', 'covidvaccine'] \n",
      "\n",
      "['india', \"'s\", 'gift', '100000', 'covid-19', 'vaccine', 'arrive', 'barbado', 'early', 'today', 'special', 'moment', 'barbadian', 'want', 'thank', 'prime', 'minister', 'modi', 'quick', 'decisive', 'magnanimous', 'action', 'allow', 'we', 'beneficiary', 'vaccine'] \n",
      "\n",
      "['china', 'country', 'say', 'launch', 'new', 'programme', 'provide', 'million', 'covid-19', 'vaccine', 'national', 'africa', 'elsewhere', 'overseas', 'accord', 'foreign', 'minister', 'wang', 'yi'] \n",
      "\n",
      "['india', \"'s\", 'gift', '100000', 'covid-19', 'vaccine', 'arrive', 'barbado', 'early', 'today', 'special', 'moment', 'barbadian', 'want', 'thank', 'prime', 'minister', 'modi', 'quick', 'decisive', 'magnanimous', 'action', 'allow', 'we', 'beneficiary', 'vaccine'] \n",
      "\n",
      "['senate', 'pass', 'covid', 'relief', '$', '1400', 'relief', 'check', 'fund', 'vaccine', 'money', 'reopen', 'school', 'food', 'unemployment', 'rental', 'assistance', 'cut', 'child', 'poverty', 'half', 'help', 'small', 'business', 'must', 'end', 'pandemic', 'help', 'way']\n"
     ]
    }
   ],
   "source": [
    "print(df_balanced_d.iloc[0][\"tokens\"], \"\\n\")\n",
    "print(df_balanced_u.iloc[0][\"tokens\"], \"\\n\")\n",
    "print(df_balanced_h.iloc[0][\"tokens\"], \"\\n\")\n",
    "print(df_worthy_train.iloc[0][\"tokens\"], \"\\n\")\n",
    "print(df_worthy_test.iloc[0][\"tokens\"])"
   ]
  },
  {
   "cell_type": "markdown",
   "metadata": {},
   "source": [
    "### Bag of words"
   ]
  },
  {
   "cell_type": "code",
   "execution_count": 168,
   "metadata": {},
   "outputs": [],
   "source": [
    "from sklearn.feature_extraction.text import CountVectorizer # For creating a DTM (discrete values)\n",
    "from sklearn.feature_extraction.text import TfidfVectorizer # A weighted DTM (fractions)\n",
    "\n",
    "cv_dict = {}\n",
    "tfidf_dict = {}\n",
    "ngram_list = [1,2,3]\n",
    "for n in ngram_list:\n",
    "    cv_dict[n] = CountVectorizer(tokenizer=tokenize_lemmatizer, ngram_range=(n, n), max_features=5000)\n",
    "    tfidf_dict[n] = TfidfVectorizer(tokenizer=tokenize_stopwords, ngram_range=(n, n), max_features=5000)\n",
    "#cv = CountVectorizer(tokenizer=tokenize_lemmatizer, ngram_range=(1, 1), max_features=5000) #Test with different n-grams, min_df, max_df and max_features\n",
    "#tfidf = TfidfVectorizer(tokenizer=tokenize_stopwords, ngram_range=(1, 1), max_features=5000) #Test with (1,1), (2,2), and (3,3) "
   ]
  },
  {
   "cell_type": "code",
   "execution_count": 169,
   "metadata": {},
   "outputs": [],
   "source": [
    "tweet_vec = {}\n",
    "tweet_bow_train = {}\n",
    "tweet_bow_test = {}\n",
    "\n",
    "tweet_vec_d = {}\n",
    "tweet_bow_train_d = {}\n",
    "tweet_bow_test_d = {}\n",
    "\n",
    "tweet_vec_u = {}\n",
    "tweet_bow_train_u = {}\n",
    "tweet_bow_test_u = {}\n",
    "\n",
    "tweet_vec_h = {}\n",
    "tweet_bow_train_h = {}\n",
    "tweet_bow_test_h = {}\n",
    "for n in ngram_list:\n",
    "    tweet_vec[n] = cv_dict[n].fit(df_worthy_train[\"tweet_text\"]) # DTM (CV, but normalized for relative frequency)\n",
    "    tweet_bow_train[n] = tweet_vec[n].transform(df_worthy_train[\"tweet_text\"]) \n",
    "    tweet_bow_test[n] = tweet_vec[n].transform(df_worthy_test[\"tweet_text\"]) \n",
    "    \n",
    "    # balanced downsample\n",
    "    tweet_vec_d[n] = cv_dict[n].fit(df_balanced_d[\"tweet_text\"]) # DTM (CV, but normalized for relative frequency)\n",
    "    tweet_bow_train_d[n] = tweet_vec_d[n].transform(df_balanced_d[\"tweet_text\"]) \n",
    "    tweet_bow_test_d[n] = tweet_vec_d[n].transform(df_worthy_test[\"tweet_text\"]) \n",
    "    \n",
    "    # balanced upsample\n",
    "    tweet_vec_u[n] = cv_dict[n].fit(df_balanced_u[\"tweet_text\"]) # DTM (CV, but normalized for relative frequency)\n",
    "    tweet_bow_train_u[n] = tweet_vec_u[n].transform(df_balanced_u[\"tweet_text\"]) \n",
    "    tweet_bow_test_u[n] = tweet_vec_u[n].transform(df_worthy_test[\"tweet_text\"]) \n",
    "    \n",
    "    # balanced hybridsample\n",
    "    tweet_vec_h[n] = cv_dict[n].fit(df_balanced_h[\"tweet_text\"]) # DTM (CV, but normalized for relative frequency)\n",
    "    tweet_bow_train_h[n] = tweet_vec_h[n].transform(df_balanced_h[\"tweet_text\"]) \n",
    "    tweet_bow_test_h[n] = tweet_vec_h[n].transform(df_worthy_test[\"tweet_text\"]) "
   ]
  },
  {
   "cell_type": "markdown",
   "metadata": {},
   "source": [
    "### Feature Exploration"
   ]
  },
  {
   "cell_type": "code",
   "execution_count": 170,
   "metadata": {},
   "outputs": [
    {
     "name": "stdout",
     "output_type": "stream",
     "text": [
      "Total words across all tweets: 51333\n",
      "Total words captured by our features/vocabulary 67277 (131.1%)\n",
      "Amount of unique words (tokens/features): 5000\n",
      "\n",
      "Most frequent terms for 1-gram: \n",
      " [('wasteful', 3853), ('door', 2047), ('-', 962), ('\"', 590), ('icu', 558), ('donation', 491), ('precaution', 404), ('dose', 371), ('ab', 351), ('worry', 348)]\n",
      "Total words across all tweets: 51333\n",
      "Total words captured by our features/vocabulary 22939 (44.7%)\n",
      "Amount of unique words (tokens/features): 5000\n",
      "\n",
      "Most frequent terms for 2-gram: \n",
      " [('covid-19 talk', 1250), ('$ 500', 294), ('; that', 294), ('country access', 247), ('covid19 reminder', 140), ('covid-19 test', 104), ('- attack', 100), ('roll vaccine', 89), ('community -', 79), ('he say', 72)]\n",
      "Total words across all tweets: 51333\n",
      "Total words captured by our features/vocabulary 9921 (19.3%)\n",
      "Amount of unique words (tokens/features): 5000\n",
      "\n",
      "Most frequent terms for 3-gram: \n",
      " [(\"' cure '\", 294), ('covid-19 vaccine support', 56), ('administer vaccine quickly', 56), ('community reach people', 51), ('covid-19 case new', 50), ('we be call', 40), ('urge americans get', 39), ('; understand viral', 39), ('american rescue plan', 26), ('az vaccine donate', 21)]\n"
     ]
    }
   ],
   "source": [
    "# If max_features not limited, there are 8263 unique words (features) and a total of 51333 words across 2123 tweets\n",
    "for n in ngram_list:\n",
    "    captured = tweet_bow_train[n].sum()\n",
    "    print(f\"Total words across all tweets: 51333\")\n",
    "    print(f\"Total words captured by our features/vocabulary {captured} ({round(100*captured/51333, 1)}%)\")\n",
    "    print(f\"Amount of unique words (tokens/features): {len(tweet_vec[n].vocabulary_)}\\n\") # Unique words (features)\n",
    "\n",
    "    # vec.vocabulary_items() => Dict with every word in the vocabulary with the DTM column index as the value\n",
    "    sum_words = tweet_bow_train[n].sum(axis=0) # Sum the columns from the DTM matrix\n",
    "    words_freq = [(word, sum_words[0, index]) for word, index in tweet_vec[n].vocabulary_.items()] # Make a list pairing every word with its corresponding DTM column summation\n",
    "    words_freq = sorted(words_freq, key = lambda x: x[1], reverse=True)\n",
    "    print(\"Most frequent terms for {}-gram: \\n {}\".format(n, words_freq[:10])) # show top n terms used"
   ]
  },
  {
   "cell_type": "markdown",
   "metadata": {},
   "source": [
    "### Dummy Predictions"
   ]
  },
  {
   "cell_type": "code",
   "execution_count": 171,
   "metadata": {},
   "outputs": [
    {
     "name": "stdout",
     "output_type": "stream",
     "text": [
      "--------Unbalanced--------\n",
      "1-gram Priors: [0.36161252 0.63838748]\n",
      "Dummy Accuracy for 1-gram: 63.01%\n",
      "Dummy F1-Score for 1-gram: 77.31%\n",
      "--------Downsampled--------\n",
      "1-gram Priors: [0.5 0.5]\n",
      "Dummy Accuracy for 1-gram: 36.99%\n",
      "Dummy F1-Score for 1-gram: 0.0%\n",
      "--------Upsampled--------\n",
      "1-gram Priors: [0.5 0.5]\n",
      "Dummy Accuracy for 1-gram: 36.99%\n",
      "Dummy F1-Score for 1-gram: 0.0%\n",
      "--------Hybridsampled--------\n",
      "1-gram Priors: [0.5 0.5]\n",
      "Dummy Accuracy for 1-gram: 36.99%\n",
      "Dummy F1-Score for 1-gram: 0.0%\n",
      "--------------------------------------\n",
      "--------Unbalanced--------\n",
      "2-gram Priors: [0.36161252 0.63838748]\n",
      "Dummy Accuracy for 2-gram: 63.01%\n",
      "Dummy F1-Score for 2-gram: 77.31%\n",
      "--------Downsampled--------\n",
      "2-gram Priors: [0.5 0.5]\n",
      "Dummy Accuracy for 2-gram: 36.99%\n",
      "Dummy F1-Score for 2-gram: 0.0%\n",
      "--------Upsampled--------\n",
      "2-gram Priors: [0.5 0.5]\n",
      "Dummy Accuracy for 2-gram: 36.99%\n",
      "Dummy F1-Score for 2-gram: 0.0%\n",
      "--------Hybridsampled--------\n",
      "2-gram Priors: [0.5 0.5]\n",
      "Dummy Accuracy for 2-gram: 36.99%\n",
      "Dummy F1-Score for 2-gram: 0.0%\n",
      "--------------------------------------\n",
      "--------Unbalanced--------\n",
      "3-gram Priors: [0.36161252 0.63838748]\n",
      "Dummy Accuracy for 3-gram: 63.01%\n",
      "Dummy F1-Score for 3-gram: 77.31%\n",
      "--------Downsampled--------\n",
      "3-gram Priors: [0.5 0.5]\n",
      "Dummy Accuracy for 3-gram: 36.99%\n",
      "Dummy F1-Score for 3-gram: 0.0%\n",
      "--------Upsampled--------\n",
      "3-gram Priors: [0.5 0.5]\n",
      "Dummy Accuracy for 3-gram: 36.99%\n",
      "Dummy F1-Score for 3-gram: 0.0%\n",
      "--------Hybridsampled--------\n",
      "3-gram Priors: [0.5 0.5]\n",
      "Dummy Accuracy for 3-gram: 36.99%\n",
      "Dummy F1-Score for 3-gram: 0.0%\n",
      "--------------------------------------\n"
     ]
    }
   ],
   "source": [
    "from sklearn.dummy import DummyClassifier\n",
    "from sklearn import metrics\n",
    "\n",
    "for n in ngram_list:\n",
    "    print(\"--------Unbalanced--------\")\n",
    "    dummy_clf = DummyClassifier(strategy=\"prior\")\n",
    "    dummy_clf.fit(tweet_bow_train[n], df_worthy_train[\"class_label\"])\n",
    "    print(\"{}-gram Priors: {}\".format(n, dummy_clf.class_prior_))\n",
    "\n",
    "    accuracy_score = metrics.accuracy_score(dummy_clf.predict(tweet_bow_test[n]), df_worthy_test[\"class_label\"])\n",
    "    print(\"Dummy Accuracy for {}-gram: {}%\".format(n, round(accuracy_score * 100, 2)))\n",
    "\n",
    "    f1_score = metrics.f1_score(dummy_clf.predict(tweet_bow_test[n]), df_worthy_test[\"class_label\"])\n",
    "    print(\"Dummy F1-Score for {}-gram: {}%\".format(n, round(f1_score * 100, 2)))\n",
    "    \n",
    "    # Downsampled\n",
    "    print(\"--------Downsampled--------\")\n",
    "    dummy_clf_d = DummyClassifier(strategy=\"prior\")\n",
    "    dummy_clf_d.fit(tweet_bow_train_d[n], df_balanced_d[\"class_label\"])\n",
    "    print(\"{}-gram Priors: {}\".format(n, dummy_clf_d.class_prior_))\n",
    "\n",
    "    accuracy_score = metrics.accuracy_score(dummy_clf_d.predict(tweet_bow_test_d[n]), df_worthy_test[\"class_label\"])\n",
    "    print(\"Dummy Accuracy for {}-gram: {}%\".format(n, round(accuracy_score * 100, 2)))\n",
    "\n",
    "    f1_score = metrics.f1_score(dummy_clf_d.predict(tweet_bow_test_d[n]), df_worthy_test[\"class_label\"])\n",
    "    print(\"Dummy F1-Score for {}-gram: {}%\".format(n, round(f1_score * 100, 2)))\n",
    "    \n",
    "    # Upsampled\n",
    "    print(\"--------Upsampled--------\")\n",
    "    dummy_clf_u = DummyClassifier(strategy=\"prior\")\n",
    "    dummy_clf_u.fit(tweet_bow_train_u[n], df_balanced_u[\"class_label\"])\n",
    "    print(\"{}-gram Priors: {}\".format(n, dummy_clf_u.class_prior_))\n",
    "\n",
    "    accuracy_score = metrics.accuracy_score(dummy_clf_u.predict(tweet_bow_test_u[n]), df_worthy_test[\"class_label\"])\n",
    "    print(\"Dummy Accuracy for {}-gram: {}%\".format(n, round(accuracy_score * 100, 2)))\n",
    "\n",
    "    f1_score = metrics.f1_score(dummy_clf_u.predict(tweet_bow_test_u[n]), df_worthy_test[\"class_label\"])\n",
    "    print(\"Dummy F1-Score for {}-gram: {}%\".format(n, round(f1_score * 100, 2)))\n",
    "    \n",
    "    # Hybridsampled\n",
    "    print(\"--------Hybridsampled--------\")\n",
    "    dummy_clf_h = DummyClassifier(strategy=\"prior\")\n",
    "    dummy_clf_h.fit(tweet_bow_train_h[n], df_balanced_h[\"class_label\"])\n",
    "    print(\"{}-gram Priors: {}\".format(n, dummy_clf_h.class_prior_))\n",
    "\n",
    "    accuracy_score = metrics.accuracy_score(dummy_clf_h.predict(tweet_bow_test_h[n]), df_worthy_test[\"class_label\"])\n",
    "    print(\"Dummy Accuracy for {}-gram: {}%\".format(n, round(accuracy_score * 100, 2)))\n",
    "\n",
    "    f1_score = metrics.f1_score(dummy_clf_h.predict(tweet_bow_test_h[n]), df_worthy_test[\"class_label\"])\n",
    "    print(\"Dummy F1-Score for {}-gram: {}%\".format(n, round(f1_score * 100, 2)))\n",
    "    print(\"--------------------------------------\")"
   ]
  },
  {
   "cell_type": "markdown",
   "metadata": {},
   "source": [
    "### Naive Bayes Prediction"
   ]
  },
  {
   "cell_type": "code",
   "execution_count": 172,
   "metadata": {},
   "outputs": [
    {
     "name": "stdout",
     "output_type": "stream",
     "text": [
      "--------Unbalanced--------\n",
      "Complement Accuracy for 1-gram: 72.56%\n",
      "Complement F1-Score for 1-gram: 77.52%\n",
      "--------Downsampled--------\n",
      "Multinomial Accuracy for 1-gram: 70.8%\n",
      "Multinomial F1-Score for 1-gram: 74.71%\n",
      "--------Upsampled--------\n",
      "Multinomial Accuracy for 1-gram: 71.68%\n",
      "Multinomial F1-Score for 1-gram: 77.68%\n",
      "--------Hybridsampled--------\n",
      "Multinomial Accuracy for 1-gram: 71.68%\n",
      "Multinomial F1-Score for 1-gram: 77.68%\n",
      "--------------------------------------\n",
      "--------Unbalanced--------\n",
      "Complement Accuracy for 2-gram: 64.65%\n",
      "Complement F1-Score for 2-gram: 69.85%\n",
      "--------Downsampled--------\n",
      "Multinomial Accuracy for 2-gram: 61.69%\n",
      "Multinomial F1-Score for 2-gram: 65.62%\n",
      "--------Upsampled--------\n",
      "Multinomial Accuracy for 2-gram: 65.09%\n",
      "Multinomial F1-Score for 2-gram: 76.13%\n",
      "--------Hybridsampled--------\n",
      "Multinomial Accuracy for 2-gram: 63.67%\n",
      "Multinomial F1-Score for 2-gram: 75.32%\n",
      "--------------------------------------\n",
      "--------Unbalanced--------\n",
      "Complement Accuracy for 3-gram: 52.8%\n",
      "Complement F1-Score for 3-gram: 53.56%\n",
      "--------Downsampled--------\n",
      "Multinomial Accuracy for 3-gram: 51.15%\n",
      "Multinomial F1-Score for 3-gram: 46.06%\n",
      "--------Upsampled--------\n",
      "Multinomial Accuracy for 3-gram: 52.36%\n",
      "Multinomial F1-Score for 3-gram: 55.17%\n",
      "--------Hybridsampled--------\n",
      "Multinomial Accuracy for 3-gram: 53.46%\n",
      "Multinomial F1-Score for 3-gram: 56.2%\n",
      "--------------------------------------\n"
     ]
    }
   ],
   "source": [
    "#https://scikit-learn.org/stable/modules/naive_bayes.html#naive-bayes\n",
    "from sklearn.naive_bayes import MultinomialNB # suited for classification with discrete features\n",
    "from sklearn.naive_bayes import ComplementNB # suited for imbalanced datasets (designed to correct for \"severe assumptions\")\n",
    "from sklearn.naive_bayes import BernoulliNB # designed for classification with binary/boolean features\n",
    "from sklearn.naive_bayes import GaussianNB # designed for classification with continuous values\n",
    "\n",
    "clf_nb = ComplementNB()  # Unbalanced\n",
    "clf_d = MultinomialNB()   # Balanced\n",
    "clf_u = MultinomialNB() \n",
    "clf_h = MultinomialNB() \n",
    "for n in ngram_list:\n",
    "    print(\"--------Unbalanced--------\")\n",
    "    clf_nb.fit(tweet_bow_train[n].toarray(), df_worthy_train[\"class_label\"])\n",
    "\n",
    "    accuracy_score = metrics.accuracy_score(clf_nb.predict(tweet_bow_test[n].toarray()), df_worthy_test[\"class_label\"])\n",
    "    print(\"Complement Accuracy for {}-gram: {}%\".format(n, round(accuracy_score * 100, 2)))\n",
    "\n",
    "    accuracy_score = metrics.f1_score(clf_nb.predict(tweet_bow_test[n].toarray()), df_worthy_test[\"class_label\"])\n",
    "    print(\"Complement F1-Score for {}-gram: {}%\".format(n, round(accuracy_score * 100, 2)))\n",
    "    \n",
    "    # Balanced\n",
    "    print(\"--------Downsampled--------\")\n",
    "    clf_d.fit(tweet_bow_train_d[n].toarray(), df_balanced_d[\"class_label\"])\n",
    "    \n",
    "    accuracy_score = metrics.accuracy_score(clf_d.predict(tweet_bow_test_d[n].toarray()), df_worthy_test[\"class_label\"])\n",
    "    print(\"Multinomial Accuracy for {}-gram: {}%\".format(n, round(accuracy_score * 100, 2)))\n",
    "\n",
    "    accuracy_score = metrics.f1_score(clf_d.predict(tweet_bow_test_d[n].toarray()), df_worthy_test[\"class_label\"])\n",
    "    print(\"Multinomial F1-Score for {}-gram: {}%\".format(n, round(accuracy_score * 100, 2)))\n",
    "    \n",
    "    # Balanced\n",
    "    print(\"--------Upsampled--------\")\n",
    "    clf_u.fit(tweet_bow_train_u[n].toarray(), df_balanced_u[\"class_label\"])\n",
    "    \n",
    "    accuracy_score = metrics.accuracy_score(clf_u.predict(tweet_bow_test_u[n].toarray()), df_worthy_test[\"class_label\"])\n",
    "    print(\"Multinomial Accuracy for {}-gram: {}%\".format(n, round(accuracy_score * 100, 2)))\n",
    "\n",
    "    accuracy_score = metrics.f1_score(clf_u.predict(tweet_bow_test_u[n].toarray()), df_worthy_test[\"class_label\"])\n",
    "    print(\"Multinomial F1-Score for {}-gram: {}%\".format(n, round(accuracy_score * 100, 2)))\n",
    "    \n",
    "    # Balanced\n",
    "    print(\"--------Hybridsampled--------\")\n",
    "    clf_h.fit(tweet_bow_train_h[n].toarray(), df_balanced_h[\"class_label\"])\n",
    "    \n",
    "    accuracy_score = metrics.accuracy_score(clf_h.predict(tweet_bow_test_h[n].toarray()), df_worthy_test[\"class_label\"])\n",
    "    print(\"Multinomial Accuracy for {}-gram: {}%\".format(n, round(accuracy_score * 100, 2)))\n",
    "\n",
    "    accuracy_score = metrics.f1_score(clf_h.predict(tweet_bow_test_h[n].toarray()), df_worthy_test[\"class_label\"])\n",
    "    print(\"Multinomial F1-Score for {}-gram: {}%\".format(n, round(accuracy_score * 100, 2)))\n",
    "    print(\"--------------------------------------\")"
   ]
  },
  {
   "cell_type": "markdown",
   "metadata": {},
   "source": [
    "### Word Embedding"
   ]
  },
  {
   "cell_type": "code",
   "execution_count": 173,
   "metadata": {},
   "outputs": [],
   "source": [
    "from nltk.tokenize import sent_tokenize, word_tokenize\n",
    "import warnings\n",
    "  \n",
    "warnings.filterwarnings(action = 'ignore')\n",
    "  \n",
    "import gensim\n",
    "from gensim.models import Word2Vec"
   ]
  },
  {
   "cell_type": "code",
   "execution_count": 174,
   "metadata": {},
   "outputs": [],
   "source": [
    "model = Word2Vec(df_balanced_d[\"tokens\"].values, min_count=1)"
   ]
  },
  {
   "cell_type": "code",
   "execution_count": 175,
   "metadata": {},
   "outputs": [],
   "source": [
    "from sklearn.decomposition import PCA\n",
    "\n",
    "X = model[model.wv.vocab]\n",
    "pca = PCA(n_components=3)\n",
    "\n",
    "result = pca.fit_transform(X)"
   ]
  },
  {
   "cell_type": "code",
   "execution_count": 176,
   "metadata": {},
   "outputs": [],
   "source": [
    "from matplotlib import pyplot\n",
    "# https://github.com/LogicalShark/wordvec/blob/master/wvplot.py\n",
    "\n",
    "axes = [0, 1, 2]\n",
    "\n",
    "colors = [\"tab:red\", \"tab:blue\", \"tab:green\", \"tab:orange\",\n",
    "          \"tab:purple\", \"tab:olive\", \"tab:pink\", \"tab:cyan\", \"tab:gray\"]\n",
    "defaultcolor = \"black\"\n",
    "\n",
    "sizes = []\n",
    "defaultsize = 16\n",
    "\n",
    "def plot3D(result, wordgroups):\n",
    "    fig = pyplot.figure(figsize=(12, 12))\n",
    "    ax = fig.add_subplot(111, projection='3d')\n",
    "    ax.scatter(result[:, axes[0]], result[:, axes[1]], result[:, axes[2]])\n",
    "    for g, group in enumerate(wordgroups):\n",
    "        for word in group:\n",
    "            if not word in words:\n",
    "                continue\n",
    "            i = words.index(word)\n",
    "            # Create plot point\n",
    "            color = colors[g] if g < len(colors) else defaultcolor\n",
    "            size = sizes[g] if g < len(sizes) else defaultsize\n",
    "            ax.text(result[i, axes[0]], result[i, axes[1]],\n",
    "                    result[i, axes[2]], word, color=color, fontsize=size)"
   ]
  },
  {
   "cell_type": "code",
   "execution_count": 177,
   "metadata": {},
   "outputs": [
    {
     "data": {
      "image/png": "[encoded data removed]",
      "text/plain": [
       "<Figure size 864x864 with 1 Axes>"
      ]
     },
     "metadata": {
      "needs_background": "light"
     },
     "output_type": "display_data"
    }
   ],
   "source": [
    "import matplotlib.pyplot as plt\n",
    "words = list(model.wv.vocab)\n",
    "\n",
    "plot3D(result, words)"
   ]
  }
 ],
 "metadata": {
  "interpreter": {
   "hash": "8bb7827f47cd248081edd9fae95b0b9fdd57b4fc1bdee42bda07c6c0f696abf2"
  },
  "kernelspec": {
   "display_name": "Python 3.9.1 64-bit",
   "language": "python",
   "name": "python3"
  },
  "language_info": {
   "codemirror_mode": {
    "name": "ipython",
    "version": 3
   },
   "file_extension": ".py",
   "mimetype": "text/x-python",
   "name": "python",
   "nbconvert_exporter": "python",
   "pygments_lexer": "ipython3",
   "version": "3.9.1"
  },
  "orig_nbformat": 4
 },
 "nbformat": 4,
 "nbformat_minor": 2
}
