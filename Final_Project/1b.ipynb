{
 "cells": [
  {
   "cell_type": "markdown",
   "metadata": {},
   "source": [
    "Subtask B: Verifiable factual claims detection: Given a tweet, predict whether it contains a verifiable factual claim. This is a binary task with two labels: Yes and No. This is a classification task"
   ]
  },
  {
   "cell_type": "markdown",
   "metadata": {},
   "source": [
    "check this: \n",
    "- https://github.com/avirup88/Binary-Classification-using-N-Gram-Model-on-Text-Data\n",
    "- https://stackoverflow.com/questions/48003907/how-to-train-naive-bayes-classifier-for-n-gram-movie-reviews"
   ]
  },
  {
   "cell_type": "code",
   "execution_count": 247,
   "metadata": {},
   "outputs": [],
   "source": [
    "import pandas as pd\n",
    "import re\n",
    "from nltk import ngrams\n",
    "from nltk.corpus import stopwords\n",
    "from nltk.tokenize import word_tokenize\n",
    "\n",
    "import nltk.classify.util\n",
    "from nltk.classify import NaiveBayesClassifier\n",
    "\n",
    "from sklearn.naive_bayes import ComplementNB #0.4972557628979144\n",
    "from sklearn.naive_bayes import MultinomialNB #0.5016465422612514\n",
    "from sklearn.naive_bayes import BernoulliNB #0.5082327113062569\n",
    "from sklearn.naive_bayes import GaussianNB #0.47530186608122943\n",
    "from sklearn.feature_extraction.text import CountVectorizer\n",
    "from nltk.tokenize import RegexpTokenizer\n",
    "import nltk\n",
    "from nltk.stem import WordNetLemmatizer \n",
    "import spacy\n",
    "\n",
    "import warnings\n",
    "warnings.simplefilter(action='ignore', category=FutureWarning)\n"
   ]
  },
  {
   "cell_type": "markdown",
   "metadata": {},
   "source": [
    "## Preprocess"
   ]
  },
  {
   "cell_type": "code",
   "execution_count": 248,
   "metadata": {},
   "outputs": [],
   "source": [
    "stop_words = set(stopwords.words(\"english\"))"
   ]
  },
  {
   "cell_type": "code",
   "execution_count": 249,
   "metadata": {},
   "outputs": [],
   "source": [
    "df = pd.read_csv(\"data/1b/CT22_english_1B_claim_train.tsv\", sep='\\t')"
   ]
  },
  {
   "cell_type": "code",
   "execution_count": 250,
   "metadata": {},
   "outputs": [
    {
     "name": "stdout",
     "output_type": "stream",
     "text": [
      "<class 'pandas.core.frame.DataFrame'>\n",
      "RangeIndex: 3324 entries, 0 to 3323\n",
      "Data columns (total 5 columns):\n",
      " #   Column       Non-Null Count  Dtype  \n",
      "---  ------       --------------  -----  \n",
      " 0   topic        3324 non-null   object \n",
      " 1   tweet_id     3324 non-null   float64\n",
      " 2   tweet_url    3324 non-null   object \n",
      " 3   tweet_text   3324 non-null   object \n",
      " 4   class_label  3324 non-null   int64  \n",
      "dtypes: float64(1), int64(1), object(3)\n",
      "memory usage: 130.0+ KB\n"
     ]
    }
   ],
   "source": [
    "df.info()"
   ]
  },
  {
   "cell_type": "code",
   "execution_count": 251,
   "metadata": {},
   "outputs": [
    {
     "data": {
      "text/plain": [
       "topic          0\n",
       "tweet_id       0\n",
       "tweet_url      0\n",
       "tweet_text     0\n",
       "class_label    0\n",
       "dtype: int64"
      ]
     },
     "execution_count": 251,
     "metadata": {},
     "output_type": "execute_result"
    }
   ],
   "source": [
    "df.isnull().sum()"
   ]
  },
  {
   "cell_type": "code",
   "execution_count": 252,
   "metadata": {},
   "outputs": [
    {
     "data": {
      "text/plain": [
       "1    2122\n",
       "0    1202\n",
       "Name: class_label, dtype: int64"
      ]
     },
     "execution_count": 252,
     "metadata": {},
     "output_type": "execute_result"
    }
   ],
   "source": [
    "df[\"class_label\"].value_counts()"
   ]
  },
  {
   "cell_type": "code",
   "execution_count": 253,
   "metadata": {},
   "outputs": [],
   "source": [
    "true_df = df.loc[df['class_label'] == 1]\n",
    "true_df_1000 = true_df[:1000]"
   ]
  },
  {
   "cell_type": "code",
   "execution_count": 254,
   "metadata": {},
   "outputs": [],
   "source": [
    "false_df = df.loc[df['class_label'] == 0]\n",
    "false_df_1000 = true_df[:1000]"
   ]
  },
  {
   "cell_type": "code",
   "execution_count": 255,
   "metadata": {},
   "outputs": [],
   "source": [
    "frames = [true_df_1000, false_df_1000]\n",
    "df_v2 = pd.concat(frames)"
   ]
  },
  {
   "cell_type": "code",
   "execution_count": 256,
   "metadata": {},
   "outputs": [
    {
     "data": {
      "text/plain": [
       "(3324,)"
      ]
     },
     "execution_count": 256,
     "metadata": {},
     "output_type": "execute_result"
    }
   ],
   "source": [
    "class_label = df[\"class_label\"].values\n",
    "#class_label = df_v2[\"class_label\"].values\n",
    "class_label.shape"
   ]
  },
  {
   "cell_type": "code",
   "execution_count": 257,
   "metadata": {},
   "outputs": [
    {
     "data": {
      "text/plain": [
       "(3324,)"
      ]
     },
     "execution_count": 257,
     "metadata": {},
     "output_type": "execute_result"
    }
   ],
   "source": [
    "tweet_txt = df[\"tweet_text\"].values\n",
    "#tweet_txt = df_v2[\"tweet_text\"].values\n",
    "tweet_txt.shape"
   ]
  },
  {
   "cell_type": "code",
   "execution_count": 258,
   "metadata": {},
   "outputs": [],
   "source": [
    "df1 = pd.DataFrame(tweet_txt)\n",
    "df1 = df1.rename(columns={0:'tweet'})"
   ]
  },
  {
   "cell_type": "code",
   "execution_count": 259,
   "metadata": {},
   "outputs": [],
   "source": [
    "df2 = pd.DataFrame(class_label)\n",
    "df2 = df2.rename(columns={0:'label'})\n",
    "new_df = pd.concat([df1, df2], axis=1)"
   ]
  },
  {
   "cell_type": "code",
   "execution_count": 260,
   "metadata": {},
   "outputs": [
    {
     "data": {
      "text/html": [
       "<div>\n",
       "<style scoped>\n",
       "    .dataframe tbody tr th:only-of-type {\n",
       "        vertical-align: middle;\n",
       "    }\n",
       "\n",
       "    .dataframe tbody tr th {\n",
       "        vertical-align: top;\n",
       "    }\n",
       "\n",
       "    .dataframe thead th {\n",
       "        text-align: right;\n",
       "    }\n",
       "</style>\n",
       "<table border=\"1\" class=\"dataframe\">\n",
       "  <thead>\n",
       "    <tr style=\"text-align: right;\">\n",
       "      <th></th>\n",
       "      <th>tweet</th>\n",
       "      <th>label</th>\n",
       "    </tr>\n",
       "  </thead>\n",
       "  <tbody>\n",
       "    <tr>\n",
       "      <th>0</th>\n",
       "      <td>India's gift of 100,000 COVID-19 vaccines arri...</td>\n",
       "      <td>1</td>\n",
       "    </tr>\n",
       "    <tr>\n",
       "      <th>1</th>\n",
       "      <td>Here’s what I’m doing while I wait my turn for...</td>\n",
       "      <td>0</td>\n",
       "    </tr>\n",
       "    <tr>\n",
       "      <th>2</th>\n",
       "      <td>This afternoon, I’m hosting an event with the ...</td>\n",
       "      <td>0</td>\n",
       "    </tr>\n",
       "    <tr>\n",
       "      <th>3</th>\n",
       "      <td>Help shops like mine stay open. Mask up, avoid...</td>\n",
       "      <td>0</td>\n",
       "    </tr>\n",
       "    <tr>\n",
       "      <th>4</th>\n",
       "      <td>As part of the ongoing nationwide vaccination ...</td>\n",
       "      <td>1</td>\n",
       "    </tr>\n",
       "  </tbody>\n",
       "</table>\n",
       "</div>"
      ],
      "text/plain": [
       "                                               tweet  label\n",
       "0  India's gift of 100,000 COVID-19 vaccines arri...      1\n",
       "1  Here’s what I’m doing while I wait my turn for...      0\n",
       "2  This afternoon, I’m hosting an event with the ...      0\n",
       "3  Help shops like mine stay open. Mask up, avoid...      0\n",
       "4  As part of the ongoing nationwide vaccination ...      1"
      ]
     },
     "execution_count": 260,
     "metadata": {},
     "output_type": "execute_result"
    }
   ],
   "source": [
    "new_df.head()"
   ]
  },
  {
   "cell_type": "markdown",
   "metadata": {},
   "source": [
    "## Preprocessing"
   ]
  },
  {
   "cell_type": "code",
   "execution_count": 261,
   "metadata": {},
   "outputs": [],
   "source": [
    "def preprocess(article):\n",
    "    doc_list = []\n",
    "    for art in article:\n",
    "        art = re.sub('[^A-Za-z0-9]+', ' ', art.lower())\n",
    "        content_tokens = word_tokenize(art)\n",
    "        doc = [word for word in  content_tokens if not word.lower() in stop_words]\n",
    "        doc = [n for n in doc if not n.isdigit()]\n",
    "        doc_list.append(\" \".join(doc))\n",
    "        \n",
    "    return doc_list\n"
   ]
  },
  {
   "cell_type": "code",
   "execution_count": 262,
   "metadata": {},
   "outputs": [],
   "source": [
    "new_df['tweet'] = preprocess(new_df['tweet'])"
   ]
  },
  {
   "cell_type": "code",
   "execution_count": 263,
   "metadata": {},
   "outputs": [
    {
     "data": {
      "text/html": [
       "<div>\n",
       "<style scoped>\n",
       "    .dataframe tbody tr th:only-of-type {\n",
       "        vertical-align: middle;\n",
       "    }\n",
       "\n",
       "    .dataframe tbody tr th {\n",
       "        vertical-align: top;\n",
       "    }\n",
       "\n",
       "    .dataframe thead th {\n",
       "        text-align: right;\n",
       "    }\n",
       "</style>\n",
       "<table border=\"1\" class=\"dataframe\">\n",
       "  <thead>\n",
       "    <tr style=\"text-align: right;\">\n",
       "      <th></th>\n",
       "      <th>tweet</th>\n",
       "      <th>label</th>\n",
       "    </tr>\n",
       "  </thead>\n",
       "  <tbody>\n",
       "    <tr>\n",
       "      <th>0</th>\n",
       "      <td>india gift covid vaccines arrived barbados ear...</td>\n",
       "      <td>1</td>\n",
       "    </tr>\n",
       "    <tr>\n",
       "      <th>1</th>\n",
       "      <td>wait turn covid vaccines masking staying least...</td>\n",
       "      <td>0</td>\n",
       "    </tr>\n",
       "    <tr>\n",
       "      <th>2</th>\n",
       "      <td>afternoon hosting event ceos johnson amp johns...</td>\n",
       "      <td>0</td>\n",
       "    </tr>\n",
       "    <tr>\n",
       "      <th>3</th>\n",
       "      <td>help shops like mine stay open mask avoid crow...</td>\n",
       "      <td>0</td>\n",
       "    </tr>\n",
       "    <tr>\n",
       "      <th>4</th>\n",
       "      <td>part ongoing nationwide vaccination rollout se...</td>\n",
       "      <td>1</td>\n",
       "    </tr>\n",
       "  </tbody>\n",
       "</table>\n",
       "</div>"
      ],
      "text/plain": [
       "                                               tweet  label\n",
       "0  india gift covid vaccines arrived barbados ear...      1\n",
       "1  wait turn covid vaccines masking staying least...      0\n",
       "2  afternoon hosting event ceos johnson amp johns...      0\n",
       "3  help shops like mine stay open mask avoid crow...      0\n",
       "4  part ongoing nationwide vaccination rollout se...      1"
      ]
     },
     "execution_count": 263,
     "metadata": {},
     "output_type": "execute_result"
    }
   ],
   "source": [
    "new_df.head()"
   ]
  },
  {
   "cell_type": "markdown",
   "metadata": {},
   "source": [
    "## Ngrams"
   ]
  },
  {
   "cell_type": "code",
   "execution_count": 264,
   "metadata": {},
   "outputs": [],
   "source": [
    "eng_words = pd.read_csv(\"words.txt\", sep=\" \")"
   ]
  },
  {
   "cell_type": "code",
   "execution_count": 265,
   "metadata": {},
   "outputs": [],
   "source": [
    "blacklisted = [\"http\", \"https\", \"co\", \"twitter\", \"com\", \"t\"]"
   ]
  },
  {
   "cell_type": "code",
   "execution_count": 266,
   "metadata": {},
   "outputs": [],
   "source": [
    "def getNgrams(words, n = 2):\n",
    "    wordList = []\n",
    "    for i in words.split():\n",
    "        if i in eng_words.values:\n",
    "            wordList.append(i)\n",
    "    ngram_vocab = ngrams(wordList, n)\n",
    "    my_dict = dict([(ng, True) for ng in ngram_vocab])  \n",
    "    return my_dict  \n",
    "  \n",
    "    \n",
    "# def getNgrams(words, n = 2):\n",
    "#     ngram_vocab = ngrams(words.split(), n)\n",
    "#     my_dict = dict([(ng, True) for ng in ngram_vocab])  \n",
    "#     return my_dict  \n",
    "  \n",
    "  \n",
    "# def getNgrams(words, n = 2):\n",
    "#     wordList = []\n",
    "#     for i in words.split():\n",
    "#         if i not in blacklisted:\n",
    "#             wordList.append(i)\n",
    "#     ngram_vocab = ngrams(wordList, n)\n",
    "#     my_dict = dict([(ng, True) for ng in ngram_vocab])  \n",
    "#     return my_dict  "
   ]
  },
  {
   "cell_type": "markdown",
   "metadata": {},
   "source": [
    "## Naive bayes classifier"
   ]
  },
  {
   "cell_type": "code",
   "execution_count": 267,
   "metadata": {},
   "outputs": [],
   "source": [
    "resultDict = {}\n",
    "\n",
    "for n in [1,2,3,4,5]:\n",
    "    trueList = []\n",
    "    falseList = []\n",
    "    for line in new_df[new_df.label == 1].tweet:\n",
    "        trueList.append((getNgrams(line, n), 'true'))\n",
    "    for line in new_df[new_df.label == 0].tweet:\n",
    "        falseList.append((getNgrams(line, n), 'false'))\n",
    "    \n",
    "    trainset = trueList + falseList\n",
    "        \n",
    "    classifier = NaiveBayesClassifier.train(trainset)\n",
    "    \n",
    "    resultDict[n] = classifier"
   ]
  },
  {
   "cell_type": "code",
   "execution_count": 268,
   "metadata": {},
   "outputs": [
    {
     "data": {
      "text/html": [
       "<div>\n",
       "<style scoped>\n",
       "    .dataframe tbody tr th:only-of-type {\n",
       "        vertical-align: middle;\n",
       "    }\n",
       "\n",
       "    .dataframe tbody tr th {\n",
       "        vertical-align: top;\n",
       "    }\n",
       "\n",
       "    .dataframe thead th {\n",
       "        text-align: right;\n",
       "    }\n",
       "</style>\n",
       "<table border=\"1\" class=\"dataframe\">\n",
       "  <thead>\n",
       "    <tr style=\"text-align: right;\">\n",
       "      <th></th>\n",
       "      <th>tweet</th>\n",
       "      <th>label</th>\n",
       "    </tr>\n",
       "  </thead>\n",
       "  <tbody>\n",
       "    <tr>\n",
       "      <th>0</th>\n",
       "      <td>india gift covid vaccines arrived barbados ear...</td>\n",
       "      <td>1</td>\n",
       "    </tr>\n",
       "    <tr>\n",
       "      <th>1</th>\n",
       "      <td>wait turn covid vaccines masking staying least...</td>\n",
       "      <td>0</td>\n",
       "    </tr>\n",
       "    <tr>\n",
       "      <th>2</th>\n",
       "      <td>afternoon hosting event ceos johnson amp johns...</td>\n",
       "      <td>0</td>\n",
       "    </tr>\n",
       "    <tr>\n",
       "      <th>3</th>\n",
       "      <td>help shops like mine stay open mask avoid crow...</td>\n",
       "      <td>0</td>\n",
       "    </tr>\n",
       "    <tr>\n",
       "      <th>4</th>\n",
       "      <td>part ongoing nationwide vaccination rollout se...</td>\n",
       "      <td>1</td>\n",
       "    </tr>\n",
       "    <tr>\n",
       "      <th>...</th>\n",
       "      <td>...</td>\n",
       "      <td>...</td>\n",
       "    </tr>\n",
       "    <tr>\n",
       "      <th>3319</th>\n",
       "      <td>pearl wisdom fuckeer bill gates intentionally ...</td>\n",
       "      <td>1</td>\n",
       "    </tr>\n",
       "    <tr>\n",
       "      <th>3320</th>\n",
       "      <td>top infectious disease expert dr anthony fauci...</td>\n",
       "      <td>1</td>\n",
       "    </tr>\n",
       "    <tr>\n",
       "      <th>3321</th>\n",
       "      <td>everyone looking bill gates coronavirus vaccin...</td>\n",
       "      <td>1</td>\n",
       "    </tr>\n",
       "    <tr>\n",
       "      <th>3322</th>\n",
       "      <td>president first instinct response possible pan...</td>\n",
       "      <td>1</td>\n",
       "    </tr>\n",
       "    <tr>\n",
       "      <th>3323</th>\n",
       "      <td>oxford astrazeneca coronavirus vaccine showed ...</td>\n",
       "      <td>1</td>\n",
       "    </tr>\n",
       "  </tbody>\n",
       "</table>\n",
       "<p>3324 rows × 2 columns</p>\n",
       "</div>"
      ],
      "text/plain": [
       "                                                  tweet  label\n",
       "0     india gift covid vaccines arrived barbados ear...      1\n",
       "1     wait turn covid vaccines masking staying least...      0\n",
       "2     afternoon hosting event ceos johnson amp johns...      0\n",
       "3     help shops like mine stay open mask avoid crow...      0\n",
       "4     part ongoing nationwide vaccination rollout se...      1\n",
       "...                                                 ...    ...\n",
       "3319  pearl wisdom fuckeer bill gates intentionally ...      1\n",
       "3320  top infectious disease expert dr anthony fauci...      1\n",
       "3321  everyone looking bill gates coronavirus vaccin...      1\n",
       "3322  president first instinct response possible pan...      1\n",
       "3323  oxford astrazeneca coronavirus vaccine showed ...      1\n",
       "\n",
       "[3324 rows x 2 columns]"
      ]
     },
     "execution_count": 268,
     "metadata": {},
     "output_type": "execute_result"
    }
   ],
   "source": [
    "new_df"
   ]
  },
  {
   "cell_type": "markdown",
   "metadata": {},
   "source": [
    "## Preprocess of test data"
   ]
  },
  {
   "cell_type": "code",
   "execution_count": 269,
   "metadata": {},
   "outputs": [],
   "source": [
    "test_df = pd.read_csv(\"data/1b/CT22_english_1B_claim_dev_test.tsv\", sep='\\t')"
   ]
  },
  {
   "cell_type": "code",
   "execution_count": 270,
   "metadata": {},
   "outputs": [
    {
     "data": {
      "text/html": [
       "<div>\n",
       "<style scoped>\n",
       "    .dataframe tbody tr th:only-of-type {\n",
       "        vertical-align: middle;\n",
       "    }\n",
       "\n",
       "    .dataframe tbody tr th {\n",
       "        vertical-align: top;\n",
       "    }\n",
       "\n",
       "    .dataframe thead th {\n",
       "        text-align: right;\n",
       "    }\n",
       "</style>\n",
       "<table border=\"1\" class=\"dataframe\">\n",
       "  <thead>\n",
       "    <tr style=\"text-align: right;\">\n",
       "      <th></th>\n",
       "      <th>topic</th>\n",
       "      <th>tweet_id</th>\n",
       "      <th>tweet_url</th>\n",
       "      <th>tweet_text</th>\n",
       "      <th>class_label</th>\n",
       "    </tr>\n",
       "  </thead>\n",
       "  <tbody>\n",
       "    <tr>\n",
       "      <th>0</th>\n",
       "      <td>COVID-19</td>\n",
       "      <td>1368273275181207552</td>\n",
       "      <td>http://twitter.com/user/status/136827327518120...</td>\n",
       "      <td>The Senate just passed COVID relief.   ✔️ $1,4...</td>\n",
       "      <td>1</td>\n",
       "    </tr>\n",
       "    <tr>\n",
       "      <th>1</th>\n",
       "      <td>COVID-19</td>\n",
       "      <td>1368830691300020225</td>\n",
       "      <td>http://twitter.com/user/status/136883069130002...</td>\n",
       "      <td>All seven COVID-19 vaccines that have complete...</td>\n",
       "      <td>1</td>\n",
       "    </tr>\n",
       "    <tr>\n",
       "      <th>2</th>\n",
       "      <td>COVID-19</td>\n",
       "      <td>1367771405647933444</td>\n",
       "      <td>http://twitter.com/user/status/136777140564793...</td>\n",
       "      <td>In India the vaccination program is progressin...</td>\n",
       "      <td>1</td>\n",
       "    </tr>\n",
       "    <tr>\n",
       "      <th>3</th>\n",
       "      <td>COVID-19</td>\n",
       "      <td>1354211785293746177</td>\n",
       "      <td>http://twitter.com/user/status/135421178529374...</td>\n",
       "      <td>Vaccines are here. But it's important that we ...</td>\n",
       "      <td>1</td>\n",
       "    </tr>\n",
       "    <tr>\n",
       "      <th>4</th>\n",
       "      <td>COVID-19</td>\n",
       "      <td>1359553863590678533</td>\n",
       "      <td>http://twitter.com/user/status/135955386359067...</td>\n",
       "      <td>BREAKING @ians_india: Canadian Prime Minister ...</td>\n",
       "      <td>0</td>\n",
       "    </tr>\n",
       "    <tr>\n",
       "      <th>...</th>\n",
       "      <td>...</td>\n",
       "      <td>...</td>\n",
       "      <td>...</td>\n",
       "      <td>...</td>\n",
       "      <td>...</td>\n",
       "    </tr>\n",
       "    <tr>\n",
       "      <th>906</th>\n",
       "      <td>COVID-19</td>\n",
       "      <td>1284918427228893184</td>\n",
       "      <td>http://twitter.com/user/status/128491842722889...</td>\n",
       "      <td>Moderna’s experimental coronavirus vaccine mov...</td>\n",
       "      <td>1</td>\n",
       "    </tr>\n",
       "    <tr>\n",
       "      <th>907</th>\n",
       "      <td>COVID-19</td>\n",
       "      <td>1286604745818349568</td>\n",
       "      <td>http://twitter.com/user/status/128660474581834...</td>\n",
       "      <td>Morning - I drink gaumutra Lunch- I have Patan...</td>\n",
       "      <td>0</td>\n",
       "    </tr>\n",
       "    <tr>\n",
       "      <th>908</th>\n",
       "      <td>COVID-19</td>\n",
       "      <td>1297055497984421888</td>\n",
       "      <td>http://twitter.com/user/status/129705549798442...</td>\n",
       "      <td>Somehow I feel that this high level academic d...</td>\n",
       "      <td>0</td>\n",
       "    </tr>\n",
       "    <tr>\n",
       "      <th>909</th>\n",
       "      <td>COVID-19</td>\n",
       "      <td>1236601634454528000</td>\n",
       "      <td>http://twitter.com/user/status/123660163445452...</td>\n",
       "      <td>Not just Manila, pero pwede bang buong ncr l, ...</td>\n",
       "      <td>0</td>\n",
       "    </tr>\n",
       "    <tr>\n",
       "      <th>910</th>\n",
       "      <td>COVID-19</td>\n",
       "      <td>1236289649737371648</td>\n",
       "      <td>http://twitter.com/user/status/123628964973737...</td>\n",
       "      <td>Panic buying and stockpiling of toilet roll co...</td>\n",
       "      <td>1</td>\n",
       "    </tr>\n",
       "  </tbody>\n",
       "</table>\n",
       "<p>911 rows × 5 columns</p>\n",
       "</div>"
      ],
      "text/plain": [
       "        topic             tweet_id  \\\n",
       "0    COVID-19  1368273275181207552   \n",
       "1    COVID-19  1368830691300020225   \n",
       "2    COVID-19  1367771405647933444   \n",
       "3    COVID-19  1354211785293746177   \n",
       "4    COVID-19  1359553863590678533   \n",
       "..        ...                  ...   \n",
       "906  COVID-19  1284918427228893184   \n",
       "907  COVID-19  1286604745818349568   \n",
       "908  COVID-19  1297055497984421888   \n",
       "909  COVID-19  1236601634454528000   \n",
       "910  COVID-19  1236289649737371648   \n",
       "\n",
       "                                             tweet_url  \\\n",
       "0    http://twitter.com/user/status/136827327518120...   \n",
       "1    http://twitter.com/user/status/136883069130002...   \n",
       "2    http://twitter.com/user/status/136777140564793...   \n",
       "3    http://twitter.com/user/status/135421178529374...   \n",
       "4    http://twitter.com/user/status/135955386359067...   \n",
       "..                                                 ...   \n",
       "906  http://twitter.com/user/status/128491842722889...   \n",
       "907  http://twitter.com/user/status/128660474581834...   \n",
       "908  http://twitter.com/user/status/129705549798442...   \n",
       "909  http://twitter.com/user/status/123660163445452...   \n",
       "910  http://twitter.com/user/status/123628964973737...   \n",
       "\n",
       "                                            tweet_text  class_label  \n",
       "0    The Senate just passed COVID relief.   ✔️ $1,4...            1  \n",
       "1    All seven COVID-19 vaccines that have complete...            1  \n",
       "2    In India the vaccination program is progressin...            1  \n",
       "3    Vaccines are here. But it's important that we ...            1  \n",
       "4    BREAKING @ians_india: Canadian Prime Minister ...            0  \n",
       "..                                                 ...          ...  \n",
       "906  Moderna’s experimental coronavirus vaccine mov...            1  \n",
       "907  Morning - I drink gaumutra Lunch- I have Patan...            0  \n",
       "908  Somehow I feel that this high level academic d...            0  \n",
       "909  Not just Manila, pero pwede bang buong ncr l, ...            0  \n",
       "910  Panic buying and stockpiling of toilet roll co...            1  \n",
       "\n",
       "[911 rows x 5 columns]"
      ]
     },
     "execution_count": 270,
     "metadata": {},
     "output_type": "execute_result"
    }
   ],
   "source": [
    "test_df"
   ]
  },
  {
   "cell_type": "code",
   "execution_count": 271,
   "metadata": {},
   "outputs": [],
   "source": [
    "class_label_test = test_df[\"class_label\"].values\n",
    "tweet_txt_test = test_df[\"tweet_text\"].values\n"
   ]
  },
  {
   "cell_type": "code",
   "execution_count": 272,
   "metadata": {},
   "outputs": [],
   "source": [
    "df1_test = pd.DataFrame(tweet_txt_test)\n",
    "df1_test = df1_test.rename(columns={0:'tweet'})"
   ]
  },
  {
   "cell_type": "code",
   "execution_count": 273,
   "metadata": {},
   "outputs": [
    {
     "data": {
      "text/html": [
       "<div>\n",
       "<style scoped>\n",
       "    .dataframe tbody tr th:only-of-type {\n",
       "        vertical-align: middle;\n",
       "    }\n",
       "\n",
       "    .dataframe tbody tr th {\n",
       "        vertical-align: top;\n",
       "    }\n",
       "\n",
       "    .dataframe thead th {\n",
       "        text-align: right;\n",
       "    }\n",
       "</style>\n",
       "<table border=\"1\" class=\"dataframe\">\n",
       "  <thead>\n",
       "    <tr style=\"text-align: right;\">\n",
       "      <th></th>\n",
       "      <th>tweet</th>\n",
       "      <th>label</th>\n",
       "    </tr>\n",
       "  </thead>\n",
       "  <tbody>\n",
       "    <tr>\n",
       "      <th>0</th>\n",
       "      <td>The Senate just passed COVID relief.   ✔️ $1,4...</td>\n",
       "      <td>1</td>\n",
       "    </tr>\n",
       "    <tr>\n",
       "      <th>1</th>\n",
       "      <td>All seven COVID-19 vaccines that have complete...</td>\n",
       "      <td>1</td>\n",
       "    </tr>\n",
       "    <tr>\n",
       "      <th>2</th>\n",
       "      <td>In India the vaccination program is progressin...</td>\n",
       "      <td>1</td>\n",
       "    </tr>\n",
       "    <tr>\n",
       "      <th>3</th>\n",
       "      <td>Vaccines are here. But it's important that we ...</td>\n",
       "      <td>1</td>\n",
       "    </tr>\n",
       "    <tr>\n",
       "      <th>4</th>\n",
       "      <td>BREAKING @ians_india: Canadian Prime Minister ...</td>\n",
       "      <td>0</td>\n",
       "    </tr>\n",
       "  </tbody>\n",
       "</table>\n",
       "</div>"
      ],
      "text/plain": [
       "                                               tweet  label\n",
       "0  The Senate just passed COVID relief.   ✔️ $1,4...      1\n",
       "1  All seven COVID-19 vaccines that have complete...      1\n",
       "2  In India the vaccination program is progressin...      1\n",
       "3  Vaccines are here. But it's important that we ...      1\n",
       "4  BREAKING @ians_india: Canadian Prime Minister ...      0"
      ]
     },
     "execution_count": 273,
     "metadata": {},
     "output_type": "execute_result"
    }
   ],
   "source": [
    "df2_test = pd.DataFrame(class_label_test)\n",
    "df2_test = df2_test.rename(columns={0:'label'})\n",
    "new_test_df = pd.concat([df1_test, df2_test], axis=1)\n",
    "new_test_df.head()"
   ]
  },
  {
   "cell_type": "code",
   "execution_count": 274,
   "metadata": {},
   "outputs": [],
   "source": [
    "new_test_df['tweet'] = preprocess(new_test_df['tweet'])"
   ]
  },
  {
   "cell_type": "code",
   "execution_count": 275,
   "metadata": {},
   "outputs": [],
   "source": [
    "test_resultDict = {}\n",
    "\n",
    "for n in [1,2,3,4,5]:\n",
    "    trueList = []\n",
    "    falseList = []\n",
    "    for line in new_test_df[new_test_df.label == 1].tweet:\n",
    "        trueList.append((getNgrams(line, n), 'true'))\n",
    "    for line in new_test_df[new_test_df.label == 0].tweet:\n",
    "        falseList.append((getNgrams(line, n), 'false'))\n",
    "        \n",
    "    testset = trueList + falseList\n",
    "    \n",
    "    test_resultDict[n] = testset"
   ]
  },
  {
   "cell_type": "markdown",
   "metadata": {},
   "source": [
    "## Benchmarking"
   ]
  },
  {
   "cell_type": "code",
   "execution_count": 276,
   "metadata": {},
   "outputs": [
    {
     "name": "stdout",
     "output_type": "stream",
     "text": [
      "1-gram accuracy: 0.6717892425905598\n",
      "2-gram accuracy: 0.6190998902305159\n",
      "3-gram accuracy: 0.6223929747530187\n",
      "4-gram accuracy: 0.6311745334796927\n",
      "5-gram accuracy: 0.6311745334796927\n"
     ]
    }
   ],
   "source": [
    "for n in test_resultDict:\n",
    "    classifier = resultDict[n]\n",
    "    testset = test_resultDict[n]\n",
    "    accuracy = nltk.classify.util.accuracy(classifier, testset)\n",
    "    print(str(n)+ '-gram accuracy:', accuracy)"
   ]
  },
  {
   "cell_type": "markdown",
   "metadata": {},
   "source": [
    "## Naive Bayes V2"
   ]
  },
  {
   "cell_type": "code",
   "execution_count": 277,
   "metadata": {},
   "outputs": [],
   "source": [
    "#lemmatizer = WordNetLemmatizer()\n",
    "nlp = spacy.load('en_core_web_sm', disable=['parser', 'ner'])"
   ]
  },
  {
   "cell_type": "code",
   "execution_count": 278,
   "metadata": {},
   "outputs": [],
   "source": [
    "\n",
    "#token = RegexpTokenizer(r'[a-zA-Z0-9]+')\n",
    "#cv = CountVectorizer(stop_words=\"english\", ngram_range=(1,2), tokenizer=token.tokenize, max_features=3000)\n",
    "\n",
    "clf = ComplementNB()\n",
    "X = new_df.drop([\"label\"], axis = 1)\n",
    "Y = new_df[\"label\"]\n",
    "\n",
    "X_dict = {}\n",
    "for n in [1,2,3,4,5]:\n",
    "    X_List = []\n",
    "    for x in X.values:\n",
    "        #word_list = nltk.word_tokenize(x[0])\n",
    "        #lemmatized_output = ' '.join([lemmatizer.lemmatize(w) for w in word_list])\n",
    "        doc = nlp(x[0])\n",
    "        lemmatized_output = \" \".join([token.lemma_ for token in doc])\n",
    "        X_List.append(str(getNgrams(lemmatized_output, n)))\n",
    "    X_dict[n] = X_List\n",
    "    \n",
    "vulpix = pd.DataFrame.from_dict(X_dict)\n",
    "ninetales = new_df.join(vulpix, how=\"left\")\n"
   ]
  },
  {
   "cell_type": "code",
   "execution_count": 279,
   "metadata": {},
   "outputs": [],
   "source": [
    "\n",
    "X_test = new_test_df.drop([\"label\"], axis = 1)\n",
    "Y_test = new_test_df[\"label\"]\n",
    "\n",
    "X_test_dict = {}\n",
    "for n in [1,2,3,4,5]:\n",
    "    X_List = []\n",
    "    for x in X.values:\n",
    "        X_List.append(str(getNgrams(x[0], n)))\n",
    "    X_test_dict[n] = X_List\n",
    "    \n",
    "growlithe = pd.DataFrame.from_dict(X_test_dict)\n",
    "arcanine = new_test_df.join(growlithe, how=\"left\")"
   ]
  },
  {
   "cell_type": "code",
   "execution_count": 280,
   "metadata": {},
   "outputs": [
    {
     "name": "stdout",
     "output_type": "stream",
     "text": [
      "1-gram score: 0.49396267837541163\n",
      "2-gram score: 0.48957189901207465\n",
      "3-gram score: 0.49066959385290887\n",
      "4-gram score: 0.48957189901207465\n",
      "5-gram score: 0.4807903402854007\n"
     ]
    }
   ],
   "source": [
    "for n in X_dict:\n",
    "    docs = ninetales[n].values\n",
    "    docs2 = arcanine[n].values\n",
    "    \n",
    "    vec = CountVectorizer()\n",
    "    vec_fit = vec.fit(docs)\n",
    "    X1 = vec_fit.transform(docs)\n",
    "    X1_test = vec_fit.transform(docs2)\n",
    "    \n",
    "    df1 = pd.DataFrame(X1.toarray(), columns=vec.get_feature_names())\n",
    "    df1_test = pd.DataFrame(X1_test.toarray(), columns=vec.get_feature_names())\n",
    "    clf.fit(df1, Y)\n",
    "    \n",
    "    score = clf.score(df1_test, Y_test)\n",
    "    \n",
    "    print(str(n)+ '-gram score:', score)"
   ]
  },
  {
   "cell_type": "markdown",
   "metadata": {},
   "source": [
    "## SVD PCA etc."
   ]
  },
  {
   "cell_type": "code",
   "execution_count": 281,
   "metadata": {},
   "outputs": [],
   "source": [
    "import numpy as np\n",
    "from scipy.linalg import svd"
   ]
  },
  {
   "cell_type": "code",
   "execution_count": 304,
   "metadata": {},
   "outputs": [],
   "source": [
    "#mat = df1.T\n",
    "mat = df1"
   ]
  },
  {
   "cell_type": "code",
   "execution_count": 305,
   "metadata": {},
   "outputs": [
    {
     "data": {
      "text/plain": [
       "(3324, 2295)"
      ]
     },
     "execution_count": 305,
     "metadata": {},
     "output_type": "execute_result"
    }
   ],
   "source": [
    "X = mat-mat.mean()  \n",
    "X = np.array(X)\n",
    "np.shape(X)\n"
   ]
  },
  {
   "cell_type": "code",
   "execution_count": 306,
   "metadata": {},
   "outputs": [
    {
     "data": {
      "text/plain": [
       "(2295, 2295)"
      ]
     },
     "execution_count": 306,
     "metadata": {},
     "output_type": "execute_result"
    }
   ],
   "source": [
    "cov_matrix = np.cov(X.T)\n",
    "np.shape(cov_matrix)"
   ]
  },
  {
   "cell_type": "code",
   "execution_count": 307,
   "metadata": {},
   "outputs": [],
   "source": [
    "def getSVD(cov_matrix):\n",
    "    #TODO user np.linalg.svd here\n",
    "    U, S, V = svd(cov_matrix)\n",
    "    return U, S, V"
   ]
  },
  {
   "cell_type": "code",
   "execution_count": 308,
   "metadata": {},
   "outputs": [],
   "source": [
    "U, S, V = getSVD(cov_matrix)"
   ]
  },
  {
   "cell_type": "code",
   "execution_count": 309,
   "metadata": {},
   "outputs": [
    {
     "data": {
      "text/plain": [
       "(2295, 2295)"
      ]
     },
     "execution_count": 309,
     "metadata": {},
     "output_type": "execute_result"
    }
   ],
   "source": [
    "np.shape(U)"
   ]
  },
  {
   "cell_type": "code",
   "execution_count": 310,
   "metadata": {},
   "outputs": [],
   "source": [
    "def getKComponents(U, X, K):\n",
    "       # implement matrix multiplication of first k columns of U * X\n",
    "       U_col = U[:,0:K]\n",
    "       return np.matmul(X,U_col)"
   ]
  },
  {
   "cell_type": "code",
   "execution_count": 311,
   "metadata": {},
   "outputs": [
    {
     "data": {
      "text/plain": [
       "(3324, 10)"
      ]
     },
     "execution_count": 311,
     "metadata": {},
     "output_type": "execute_result"
    }
   ],
   "source": [
    "k = 10\n",
    "z = getKComponents(U, X, k)\n",
    "np.shape(z)"
   ]
  },
  {
   "cell_type": "code",
   "execution_count": 312,
   "metadata": {},
   "outputs": [],
   "source": [
    "def getVarianceRatio(Z, U, X, K):\n",
    "    #Implement computation of reconstruction error\n",
    "    X_hat = np.matmul(Z,U[:, :K].T)\n",
    "    ratio = np.mean((X-X_hat).T.dot(X-X_hat))/np.mean(X.T.dot(X))\n",
    "    return ratio"
   ]
  },
  {
   "cell_type": "code",
   "execution_count": 313,
   "metadata": {},
   "outputs": [
    {
     "data": {
      "text/plain": [
       "0.0030199049062623355"
      ]
     },
     "execution_count": 313,
     "metadata": {},
     "output_type": "execute_result"
    }
   ],
   "source": [
    "ratio = getVarianceRatio(z, U, X, k)\n",
    "ratio"
   ]
  },
  {
   "cell_type": "code",
   "execution_count": 314,
   "metadata": {},
   "outputs": [
    {
     "data": {
      "text/plain": [
       "0.003003697504395744"
      ]
     },
     "execution_count": 314,
     "metadata": {},
     "output_type": "execute_result"
    }
   ],
   "source": [
    "from sklearn.decomposition import PCA\n",
    "pca = PCA(n_components=k)\n",
    "z_pca = pca.fit_transform(X)\n",
    "X_approx_pca = pca.inverse_transform(z_pca)\n",
    "ratio_pca = np.mean((X-X_approx_pca).T.dot(X-X_approx_pca))/np.mean(X.T.dot(X))\n",
    "ratio_pca\n"
   ]
  },
  {
   "cell_type": "code",
   "execution_count": 320,
   "metadata": {},
   "outputs": [],
   "source": [
    "import matplotlib.pyplot as plt\n",
    "\n",
    "def plotFunction(PCA, Y):\n",
    "    labels = Y.values\n",
    "    \n",
    "    \n",
    "    X_val = PCA[:,:2]\n",
    "\n",
    "    plt.scatter(X_val[:,0], X_val[:,1],c=labels ,alpha=0.5)\n",
    "    plt.show()\n",
    "    \n"
   ]
  },
  {
   "cell_type": "code",
   "execution_count": 316,
   "metadata": {},
   "outputs": [
    {
     "data": {
      "text/plain": [
       "3324"
      ]
     },
     "execution_count": 316,
     "metadata": {},
     "output_type": "execute_result"
    }
   ],
   "source": [
    "len(Y.values)"
   ]
  },
  {
   "cell_type": "code",
   "execution_count": 317,
   "metadata": {},
   "outputs": [
    {
     "data": {
      "text/plain": [
       "(3324, 10)"
      ]
     },
     "execution_count": 317,
     "metadata": {},
     "output_type": "execute_result"
    }
   ],
   "source": [
    "z.shape"
   ]
  },
  {
   "cell_type": "code",
   "execution_count": 318,
   "metadata": {},
   "outputs": [
    {
     "data": {
      "text/plain": [
       "(3324, 2295)"
      ]
     },
     "execution_count": 318,
     "metadata": {},
     "output_type": "execute_result"
    }
   ],
   "source": [
    "X.shape"
   ]
  },
  {
   "cell_type": "code",
   "execution_count": 321,
   "metadata": {},
   "outputs": [
    {
     "data": {
      "image/png": "[encoded data removed]",
      "text/plain": [
       "<Figure size 432x288 with 1 Axes>"
      ]
     },
     "metadata": {
      "needs_background": "light"
     },
     "output_type": "display_data"
    }
   ],
   "source": [
    "plotFunction(z, Y)"
   ]
  },
  {
   "cell_type": "code",
   "execution_count": 322,
   "metadata": {},
   "outputs": [],
   "source": [
    "def findBestK(initial, step):\n",
    "    #TODO use the getVarianceRatio to find the best K\n",
    "    ratio = np.inf\n",
    "    while ratio > 0.001:\n",
    "        initial += step\n",
    "        z = getKComponents(U, X, initial)\n",
    "        ratio = getVarianceRatio(z, U, X, initial)\n",
    "    return initial"
   ]
  },
  {
   "cell_type": "code",
   "execution_count": 324,
   "metadata": {},
   "outputs": [
    {
     "data": {
      "text/plain": [
       "1381"
      ]
     },
     "execution_count": 324,
     "metadata": {},
     "output_type": "execute_result"
    }
   ],
   "source": [
    "step = 10\n",
    "initial = 1\n",
    "optimalK = findBestK(initial, step)\n",
    "optimalK"
   ]
  },
  {
   "cell_type": "code",
   "execution_count": 325,
   "metadata": {},
   "outputs": [],
   "source": [
    "z = getKComponents(U, X, optimalK)"
   ]
  },
  {
   "cell_type": "code",
   "execution_count": 326,
   "metadata": {},
   "outputs": [],
   "source": [
    "from sklearn.manifold import TSNE\n",
    "tsne_pca_results = TSNE(n_components=2, learning_rate=\"auto\", init=\"random\").fit_transform(z)"
   ]
  },
  {
   "cell_type": "code",
   "execution_count": 327,
   "metadata": {},
   "outputs": [
    {
     "data": {
      "text/plain": [
       "array([[  0.15443861, -16.106375  ],\n",
       "       [-33.3408    ,  -0.69254696],\n",
       "       [ -7.9689107 ,  -5.0491447 ],\n",
       "       ...,\n",
       "       [-10.5165825 ,   3.0175517 ],\n",
       "       [ 15.534019  ,   4.629565  ],\n",
       "       [-16.02449   ,  -2.199754  ]], dtype=float32)"
      ]
     },
     "execution_count": 327,
     "metadata": {},
     "output_type": "execute_result"
    }
   ],
   "source": [
    "tsne_pca_results"
   ]
  },
  {
   "cell_type": "code",
   "execution_count": 328,
   "metadata": {},
   "outputs": [
    {
     "data": {
      "image/png": "[encoded data removed]",
      "text/plain": [
       "<Figure size 432x288 with 1 Axes>"
      ]
     },
     "metadata": {
      "needs_background": "light"
     },
     "output_type": "display_data"
    }
   ],
   "source": [
    "plotFunction(tsne_pca_results, Y)"
   ]
  },
  {
   "cell_type": "code",
   "execution_count": null,
   "metadata": {},
   "outputs": [],
   "source": []
  }
 ],
 "metadata": {
  "interpreter": {
   "hash": "cd24510e72a5417feea7cb81402ffb6b313add9a2ff74c45dc5472ac7fbe8a4b"
  },
  "kernelspec": {
   "display_name": "Python 3.9.1 64-bit",
   "language": "python",
   "name": "python3"
  },
  "language_info": {
   "codemirror_mode": {
    "name": "ipython",
    "version": 3
   },
   "file_extension": ".py",
   "mimetype": "text/x-python",
   "name": "python",
   "nbconvert_exporter": "python",
   "pygments_lexer": "ipython3",
   "version": "3.9.1"
  },
  "orig_nbformat": 4
 },
 "nbformat": 4,
 "nbformat_minor": 2
}
