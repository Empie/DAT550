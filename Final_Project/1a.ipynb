{
 "cells": [
  {
   "cell_type": "markdown",
   "metadata": {},
   "source": [
    "<hr>\n",
    "\n",
    "## ) Ivar Walskaar\n",
    "\n",
    "<hr>"
   ]
  },
  {
   "cell_type": "markdown",
   "metadata": {},
   "source": [
    "<br>\n",
    "\n",
    "# Loading Datasets"
   ]
  },
  {
   "cell_type": "code",
   "execution_count": 3,
   "metadata": {},
   "outputs": [
    {
     "name": "stderr",
     "output_type": "stream",
     "text": [
      "[nltk_data] Downloading package stopwords to /Users/ivarw/nltk_data...\n",
      "[nltk_data]   Package stopwords is already up-to-date!\n"
     ]
    }
   ],
   "source": [
    "import pandas as pd\n",
    "import numpy as np\n",
    "import json\n",
    "import nltk\n",
    "from nltk import ngrams\n",
    "from nltk.corpus import stopwords\n",
    "from nltk.stem import PorterStemmer\n",
    "import re\n",
    "import spacy\n",
    "\n",
    "# Load Lemmatizer\n",
    "nlp = spacy.load(\"en_core_web_sm\")\n",
    "\n",
    "# Load Stopwords\n",
    "nltk.download('stopwords')\n",
    "cachedStopWords = list(set(stopwords.words(\"english\")))\n",
    "\n",
    "# Load Twitter Datasets - subtask a)\n",
    "df_train = pd.read_csv(\"data/1a/CT22_english_1A_checkworthy_train.tsv\", sep='\\t')\n",
    "df_val = pd.read_csv(\"data/1a/CT22_english_1A_checkworthy_dev.tsv\", sep='\\t')\n",
    "df_test = pd.read_csv(\"data/1a/CT22_english_1A_checkworthy_dev_test.tsv\", sep='\\t')"
   ]
  },
  {
   "cell_type": "markdown",
   "metadata": {},
   "source": [
    "<br>\n",
    "\n",
    "### Class Priors"
   ]
  },
  {
   "cell_type": "code",
   "execution_count": 4,
   "metadata": {},
   "outputs": [
    {
     "name": "stdout",
     "output_type": "stream",
     "text": [
      "Class 1 (Not Worthy): 0.79\n",
      "Class 2 (Worthy): 0.21\n"
     ]
    }
   ],
   "source": [
    "samples = len(df_train)\n",
    "class1 = (df_train[\"class_label\"] == 0).sum()\n",
    "class2 = (df_train[\"class_label\"] == 1).sum()\n",
    "print(f\"Class 1 (Not Worthy): {round(class1/samples, 2)}\")\n",
    "print(f\"Class 2 (Worthy): {round(class2/samples, 2)}\")"
   ]
  },
  {
   "cell_type": "markdown",
   "metadata": {},
   "source": [
    "<br><br><br>\n",
    "\n",
    "# 1) Preprocessing"
   ]
  },
  {
   "cell_type": "markdown",
   "metadata": {},
   "source": [
    "<br>\n",
    "\n",
    "### Balancing of Datasets (3 Approaches)"
   ]
  },
  {
   "cell_type": "code",
   "execution_count": 5,
   "metadata": {},
   "outputs": [],
   "source": [
    "# 0:unworthy = 1675, 1:worthy = 447\n",
    "sample_num = df_train[\"class_label\"].value_counts() \n",
    "\n",
    "# Separate true and false\n",
    "df_false = df_train[df_train[\"class_label\"] == 0]\n",
    "df_true = df_train[df_train[\"class_label\"] == 1]\n",
    "\n",
    "# Downsample majority class\n",
    "df_train_downsampled = pd.concat([df_false.sample(sample_num[1]), df_true])\n",
    "\n",
    "# Upsample minority class with replace=true\n",
    "df_train_upsampled = pd.concat([df_false, df_true.sample(sample_num[0], replace=True)])\n",
    "\n",
    "# Hybrid-sampling\n",
    "midpoint = int((sample_num[0] - sample_num[1]) / 2)\n",
    "df_train_hybrid = pd.concat([df_false.sample(midpoint), df_true.sample(midpoint, replace=True)])"
   ]
  },
  {
   "cell_type": "markdown",
   "metadata": {},
   "source": [
    "<br>\n",
    "\n",
    "### Emoji Removal (used in custom tokenizer)"
   ]
  },
  {
   "cell_type": "code",
   "execution_count": 6,
   "metadata": {},
   "outputs": [],
   "source": [
    "# Function to remove emojies when using the lemmatizer\n",
    "#https://poopcode.com/how-to-remove-emoji-from-text-in-python/\n",
    "def remove_emoji(string):\n",
    "    emoji_pattern = re.compile(\"[\"\n",
    "                               u\"\\U0001F600-\\U0001F64F\"  # emoticons\n",
    "                               u\"\\U0001F300-\\U0001F5FF\"  # symbols & pictographs\n",
    "                               u\"\\U0001F680-\\U0001F6FF\"  # transport & map symbols\n",
    "                               u\"\\U0001F1E0-\\U0001F1FF\"  # flags (iOS)\n",
    "                               u\"\\U00002500-\\U00002BEF\"  # chinese char\n",
    "                               u\"\\U00002702-\\U000027B0\"\n",
    "                               u\"\\U00002702-\\U000027B0\"\n",
    "                               u\"\\U000024C2-\\U0001F251\"\n",
    "                               u\"\\U0001f926-\\U0001f937\"\n",
    "                               u\"\\U00010000-\\U0010ffff\"\n",
    "                               u\"\\u2640-\\u2642\"\n",
    "                               u\"\\u2600-\\u2B55\"\n",
    "                               u\"\\u200d\"\n",
    "                               u\"\\u23cf\"\n",
    "                               u\"\\u23e9\"\n",
    "                               u\"\\u231a\"\n",
    "                               u\"\\ufe0f\"  # dingbats\n",
    "                               u\"\\u3030\"\n",
    "                               \"]+\", flags=re.UNICODE)\n",
    "    return emoji_pattern.sub(r'', string)"
   ]
  },
  {
   "cell_type": "markdown",
   "metadata": {},
   "source": [
    "<br><br><br>\n",
    "\n",
    "### Custom Tokenizers"
   ]
  },
  {
   "cell_type": "code",
   "execution_count": 7,
   "metadata": {},
   "outputs": [],
   "source": [
    "def tokenize_text(text, method=\"stopwords\"):\n",
    "    \n",
    "    # Remove hyperlinks\n",
    "    text = re.sub(r'http\\S+', '', text)\n",
    "    \n",
    "    # Split sentence into words\n",
    "    tokens = []\n",
    "    for token in ngrams(text.split(), 1):\n",
    "        word = re.sub(r',', '', token[0]) #Remove commas\n",
    "        word = re.sub(r'[\\!\\.\\:]$', '', word) #Remove (.!:) at the end of tokens\n",
    "        word = re.sub(r'#', '', word) #Remove hashtags (not the text)\n",
    "        if word == \"—\": continue #Ignore dash\n",
    "        if word.find(\"@\") != -1: continue #Ignore tags\n",
    "        tokens.append(word)\n",
    "    tokens\n",
    "\n",
    "    # List comprehension to remove stopwords\n",
    "    if method != \"default\":\n",
    "        tokens = [x for x in tokens if x not in cachedStopWords]\n",
    "\n",
    "    # Perform stemming\n",
    "    if method == \"stemming\":\n",
    "        ps = PorterStemmer()\n",
    "        tokens = [ps.stem(x) for x in tokens]\n",
    "\n",
    "    # Perform lemmatization\n",
    "    if method == \"lemmatizer\":\n",
    "        # Remove emojies due to lemmatizer not handling them well\n",
    "        tokens = [x for x in tokens if remove_emoji(x) == x]\n",
    "        text = \" \".join(tokens)\n",
    "        doc = nlp(text)\n",
    "        tokens = [token.lemma_ for token in doc]\n",
    "\n",
    "    return tokens"
   ]
  },
  {
   "cell_type": "code",
   "execution_count": 8,
   "metadata": {},
   "outputs": [],
   "source": [
    "def tokenize_normal(text):\n",
    "    return tokenize_text(text, method=\"default\")\n",
    "\n",
    "def tokenize_stopwords(text):\n",
    "    return tokenize_text(text, method=\"stopwords\")\n",
    "\n",
    "def tokenize_stemming(text):\n",
    "    return tokenize_text(text, method=\"stemming\")\n",
    "\n",
    "def tokenize_lemmatizer(text):\n",
    "    return tokenize_text(text, method=\"lemmatizer\")"
   ]
  },
  {
   "cell_type": "code",
   "execution_count": 9,
   "metadata": {},
   "outputs": [],
   "source": [
    "def tokenize_df(df, text_col, method=\"default\"):\n",
    "    article_tokens = []\n",
    "    for i in range(len(df)):\n",
    "        text = df.iloc[i][text_col].lower()\n",
    "        article_tokens.append(tokenize_text(text, method))\n",
    "    df[\"tokens\"] = article_tokens"
   ]
  },
  {
   "cell_type": "code",
   "execution_count": 10,
   "metadata": {},
   "outputs": [],
   "source": [
    "# Tokenize training datasets\n",
    "tokenize_df(df_train, \"tweet_text\", \"stemming\")\n",
    "tokenize_df(df_train_downsampled, \"tweet_text\", \"stemming\")\n",
    "tokenize_df(df_train_upsampled, \"tweet_text\", \"stemming\")\n",
    "tokenize_df(df_train_hybrid, \"tweet_text\", \"stemming\")\n",
    "\n",
    "# Tokenize test and validation data\n",
    "tokenize_df(df_val, \"tweet_text\", \"stemming\")\n",
    "tokenize_df(df_test, \"tweet_text\", \"stemming\")"
   ]
  },
  {
   "cell_type": "code",
   "execution_count": 11,
   "metadata": {},
   "outputs": [
    {
     "name": "stdout",
     "output_type": "stream",
     "text": [
      "[\"india'\", 'gift', '100000', 'covid-19', 'vaccin', 'arriv', 'barbado', 'earlier', 'today', 'special', 'moment', 'barbadian', 'want', 'thank', 'prime', 'minist', 'modi', 'quick', 'decis', 'magnanim', 'action', 'allow', 'us', 'beneficiari', 'vaccin'] \n",
      "\n",
      "['nativ', 'american', 'commun', 'hit', 'hard', 'covid-19', 'thank', 'indian', 'health', 'servic', 'strong', 'partnership', 'tribal', 'govern', 'organ', 'urban', 'indian', 'group', '500000', 'vaccin', 'alreadi', 'administ', 'way'] \n",
      "\n",
      "['senat', 'pass', 'covid', 'relief', '✔️', '$1400', 'relief', 'check', '✔️', 'fund', 'vaccin', '✔️', 'money', 'reopen', 'school', '✔️', 'food', 'unemploy', 'rental', 'assist', '✔️', 'cut', 'child', 'poverti', 'half', '✔️', 'help', 'small', 'busi', 'must', 'end', 'pandem', 'help', 'way']\n"
     ]
    }
   ],
   "source": [
    "print(df_train[\"tokens\"][0], \"\\n\")\n",
    "print(df_val[\"tokens\"][0], \"\\n\")\n",
    "print(df_test[\"tokens\"][0])"
   ]
  },
  {
   "cell_type": "markdown",
   "metadata": {},
   "source": [
    "<br><br><br>\n",
    "\n",
    "### Create Ngrams"
   ]
  },
  {
   "cell_type": "code",
   "execution_count": 12,
   "metadata": {},
   "outputs": [],
   "source": [
    "def create_ngrams(df, n=1):\n",
    "    # Don't execute code if no tokens column\n",
    "    if \"tokens\" not in df.columns.tolist():\n",
    "        print(\"The dataframe does not have a tokens columns\")\n",
    "        return\n",
    "\n",
    "    # If monogram, copy token column to ngram column\n",
    "    if n == 1:\n",
    "        df[\"ngrams\"] = df[\"tokens\"]\n",
    "\n",
    "    # Create ngrams\n",
    "    article_ngrams = []\n",
    "    for i in range(len(df)):\n",
    "        ngrams = []\n",
    "        tokens = df.iloc[i][\"tokens\"]\n",
    "        for j in range(len(tokens)-n-1):\n",
    "            ngrams.append(' '.join(tokens[j:j+n]))\n",
    "        article_ngrams.append(ngrams)\n",
    "    df[\"ngrams\"] = article_ngrams\n",
    "        "
   ]
  },
  {
   "cell_type": "code",
   "execution_count": 13,
   "metadata": {},
   "outputs": [],
   "source": [
    "create_ngrams(df_train, n=1)\n",
    "create_ngrams(df_val, n=1)\n",
    "create_ngrams(df_test, n=1)"
   ]
  },
  {
   "cell_type": "code",
   "execution_count": 14,
   "metadata": {},
   "outputs": [
    {
     "name": "stdout",
     "output_type": "stream",
     "text": [
      "[\"india'\", 'gift', '100000', 'covid-19', 'vaccin', 'arriv', 'barbado', 'earlier', 'today', 'special', 'moment', 'barbadian', 'want', 'thank', 'prime', 'minist', 'modi', 'quick', 'decis', 'magnanim', 'action', 'allow', 'us'] \n",
      "\n",
      "['nativ', 'american', 'commun', 'hit', 'hard', 'covid-19', 'thank', 'indian', 'health', 'servic', 'strong', 'partnership', 'tribal', 'govern', 'organ', 'urban', 'indian', 'group', '500000', 'vaccin', 'alreadi'] \n",
      "\n",
      "['senat', 'pass', 'covid', 'relief', '✔️', '$1400', 'relief', 'check', '✔️', 'fund', 'vaccin', '✔️', 'money', 'reopen', 'school', '✔️', 'food', 'unemploy', 'rental', 'assist', '✔️', 'cut', 'child', 'poverti', 'half', '✔️', 'help', 'small', 'busi', 'must', 'end', 'pandem']\n"
     ]
    }
   ],
   "source": [
    "print(df_train.iloc[0][\"ngrams\"], \"\\n\")\n",
    "print(df_val.iloc[0][\"ngrams\"], \"\\n\")\n",
    "print(df_test.iloc[0][\"ngrams\"])"
   ]
  },
  {
   "cell_type": "markdown",
   "metadata": {},
   "source": [
    "<br><br><br>\n",
    "\n",
    "<hr>"
   ]
  },
  {
   "cell_type": "markdown",
   "metadata": {},
   "source": [
    "# Feature Exploration & Visualization"
   ]
  },
  {
   "cell_type": "code",
   "execution_count": 15,
   "metadata": {},
   "outputs": [],
   "source": [
    "from sklearn.feature_extraction.text import CountVectorizer # For creating a DTM (discrete values)\n",
    "from sklearn.feature_extraction.text import TfidfVectorizer # A weighted DTM (fractions)\n",
    "#from wordcloud import WordCloud"
   ]
  },
  {
   "cell_type": "markdown",
   "metadata": {},
   "source": [
    "<br>\n",
    "\n",
    "### Example: Unfiltered Vocabulary "
   ]
  },
  {
   "cell_type": "code",
   "execution_count": 16,
   "metadata": {},
   "outputs": [
    {
     "name": "stderr",
     "output_type": "stream",
     "text": [
      "/Users/ivarw/miniforge3/envs/DAT540/lib/python3.8/site-packages/sklearn/feature_extraction/text.py:514: UserWarning: The parameter 'token_pattern' will not be used since 'tokenizer' is not None'\n",
      "  warnings.warn(\n"
     ]
    },
    {
     "name": "stdout",
     "output_type": "stream",
     "text": [
      "Total words across all tweets: 71346\n",
      "Total words captured by our features/vocabulary 65975 (92.5%)\n",
      "Amount of unique words (tokens/features): 5000\n",
      "\n",
      "[('the', 3279), ('and', 2457), ('to', 2162), ('vaccines', 1730), ('of', 1633), ('covid-19', 1276), ('in', 1175), ('a', 1049), ('for', 950), ('vaccine', 892), ('is', 728), ('are', 662), ('on', 514), ('that', 482), ('have', 432), ('with', 410), ('at', 380), ('this', 373), ('will', 351), ('from', 341), ('by', 336), ('covid', 322), ('be', 321), ('more', 318), ('has', 315), ('it', 306), ('we', 294), ('as', 283), ('all', 273), ('you', 263)]\n"
     ]
    }
   ],
   "source": [
    "# With stopwords\n",
    "cv1 = CountVectorizer(tokenizer=tokenize_normal, ngram_range=(1, 1), max_features=5000)\n",
    "tweet_vec = cv1.fit(df_train[\"tweet_text\"]) # DTM (CV, but normalized for relative frequency)\n",
    "tweet_bow_train = tweet_vec.transform(df_train[\"tweet_text\"])\n",
    "\n",
    "captured = tweet_bow_train.sum()\n",
    "print(f\"Total words across all tweets: 71346\")\n",
    "print(f\"Total words captured by our features/vocabulary {captured} ({round(100*captured/71346, 1)}%)\")\n",
    "print(f\"Amount of unique words (tokens/features): {len(tweet_vec.vocabulary_)}\\n\") # Unique words (features)\n",
    "\n",
    "sum_words = tweet_bow_train.sum(axis=0) # Sum the columns from the DTM matrix\n",
    "words_freq = [(word, sum_words[0, index]) for word, index in tweet_vec.vocabulary_.items()] # Make a list pairing every word with its corresponding DTM column summation\n",
    "words_freq = sorted(words_freq, key = lambda x: x[1], reverse=True)\n",
    "print(words_freq[0:30])\n",
    "\n",
    "#WordCloud.generate_from_frequencies(words_freq)"
   ]
  },
  {
   "cell_type": "markdown",
   "metadata": {},
   "source": [
    "<br>\n",
    "\n",
    "### Example: Stop-Words-Filtered Vocabulary"
   ]
  },
  {
   "cell_type": "code",
   "execution_count": 17,
   "metadata": {},
   "outputs": [
    {
     "name": "stdout",
     "output_type": "stream",
     "text": [
      "[('vaccines', 1730), ('covid-19', 1276), ('vaccine', 892), ('covid', 322), ('people', 259), ('coronavirus', 234), ('get', 232), ('covid19', 227), ('health', 211), ('&amp;', 198), ('first', 191), ('us', 167), ('doses', 165), ('new', 163), ('countries', 142), ('one', 132), ('effective', 128), ('today', 124), ('-', 123), ('safe', 120), ('available', 115), ('pandemic', 113), ('world', 111), ('march', 110), ('india', 105), ('cases', 105), ('vaccination', 104), ('virus', 101), ('said', 100), ('pfizer', 99)]\n"
     ]
    }
   ],
   "source": [
    "# Without stopwords\n",
    "cv2 = CountVectorizer(tokenizer=tokenize_stopwords, ngram_range=(1, 1), max_features=5000)\n",
    "tweet_vec = cv2.fit(df_train[\"tweet_text\"]) # DTM (CV, but normalized for relative frequency)\n",
    "tweet_bow_train = tweet_vec.transform(df_train[\"tweet_text\"]) \n",
    "\n",
    "sum_words = tweet_bow_train.sum(axis=0) # Sum the columns from the DTM matrix\n",
    "words_freq = [(word, sum_words[0, index]) for word, index in tweet_vec.vocabulary_.items()] # Make a list pairing every word with its corresponding DTM column summation\n",
    "words_freq = sorted(words_freq, key = lambda x: x[1], reverse=True)\n",
    "print(words_freq[0:30])\n",
    "\n",
    "#WordCloud.generate_from_frequencies(words_freq)"
   ]
  },
  {
   "cell_type": "markdown",
   "metadata": {},
   "source": [
    "<br><br><br>\n",
    "\n",
    "<hr>"
   ]
  },
  {
   "cell_type": "markdown",
   "metadata": {},
   "source": [
    "# ) Optimization"
   ]
  },
  {
   "cell_type": "markdown",
   "metadata": {},
   "source": [
    "<br><br>\n",
    "\n",
    "## Load Report"
   ]
  },
  {
   "cell_type": "code",
   "execution_count": 18,
   "metadata": {},
   "outputs": [],
   "source": [
    "df_results = {}"
   ]
  },
  {
   "cell_type": "markdown",
   "metadata": {},
   "source": [
    "### Adjust Parameters"
   ]
  },
  {
   "cell_type": "code",
   "execution_count": 19,
   "metadata": {},
   "outputs": [],
   "source": [
    "cv = CountVectorizer() \n",
    "tfidf = TfidfVectorizer()\n",
    "\n",
    "VECTORIZERS = [cv, tfidf]\n",
    "#TRAIN_SET = [df_train, df_train_downsampled, df_train_upsampled, df_train_hybrid]\n",
    "TOKENIZERS = [tokenize_normal, tokenize_stopwords, tokenize_stemming, tokenize_lemmatizer]\n",
    "NGRAM_SIZE = [(1,1), (2,2), (3,3)]\n",
    "VOCAB_SIZE = [500, 2500, 5000, 50000]"
   ]
  },
  {
   "cell_type": "code",
   "execution_count": 20,
   "metadata": {},
   "outputs": [],
   "source": [
    "#train_set = [df_train, df_train_hybrid, df_train_upsampled, df_train_downsampled]\n",
    "train_set = df_train\n",
    "\n",
    "vec = VECTORIZERS[0]\n",
    "vec.tokenizer = TOKENIZERS[1]\n",
    "vec.ngram_range = NGRAM_SIZE[0]\n",
    "vec.max_features = VOCAB_SIZE[2]\n",
    "\n",
    "tweet_vec = vec.fit(train_set[\"tweet_text\"]) # DTM (CV, but normalized for relative frequency)\n",
    "tweet_bow_train = tweet_vec.transform(train_set[\"tweet_text\"]) \n",
    "tweet_bow_val = tweet_vec.transform(df_val[\"tweet_text\"]) \n",
    "tweet_bow_test = tweet_vec.transform(df_test[\"tweet_text\"]) "
   ]
  },
  {
   "cell_type": "markdown",
   "metadata": {},
   "source": [
    "<br><br><br>\n",
    "\n",
    "## Baseline Predictions"
   ]
  },
  {
   "cell_type": "code",
   "execution_count": 21,
   "metadata": {},
   "outputs": [
    {
     "name": "stdout",
     "output_type": "stream",
     "text": [
      "Priors: [0.78934967 0.21065033]\n",
      "\n",
      "Validation: \n",
      "Dummy Accuracy: 77.44%\n",
      "Dummy F1-Score: 0.0%\n",
      "\n",
      "Test: \n",
      "Dummy Accuracy: 77.53%\n",
      "Dummy F1-Score: 0.0%\n"
     ]
    }
   ],
   "source": [
    "from sklearn.dummy import DummyClassifier\n",
    "from sklearn import metrics\n",
    "\n",
    "dummy_clf = DummyClassifier(strategy=\"prior\")\n",
    "dummy_clf.fit(tweet_bow_train, train_set[\"class_label\"])\n",
    "print(f\"Priors: {dummy_clf.class_prior_}\\n\")\n",
    "\n",
    "print(\"Validation: \")\n",
    "accuracy_score = metrics.accuracy_score(dummy_clf.predict(tweet_bow_val), df_val[\"class_label\"])\n",
    "print(f\"Dummy Accuracy: {round(accuracy_score * 100, 2)}%\")\n",
    "\n",
    "f1_score = metrics.f1_score(dummy_clf.predict(tweet_bow_val), df_val[\"class_label\"])\n",
    "print(f\"Dummy F1-Score: {round(f1_score * 100, 2)}%\")\n",
    "\n",
    "print(\"\\nTest: \")\n",
    "accuracy_score = metrics.accuracy_score(dummy_clf.predict(tweet_bow_test), df_test[\"class_label\"])\n",
    "print(f\"Dummy Accuracy: {round(accuracy_score * 100, 2)}%\")\n",
    "\n",
    "f1_score = metrics.f1_score(dummy_clf.predict(tweet_bow_test), df_test[\"class_label\"])\n",
    "print(f\"Dummy F1-Score: {round(f1_score * 100, 2)}%\")"
   ]
  },
  {
   "cell_type": "markdown",
   "metadata": {},
   "source": [
    "<br><br><br>\n",
    "\n",
    "## Naive Bayes Predictions"
   ]
  },
  {
   "cell_type": "markdown",
   "metadata": {},
   "source": [
    "Source: https://scikit-learn.org/stable/modules/naive_bayes.html#naive-bayes"
   ]
  },
  {
   "cell_type": "code",
   "execution_count": 22,
   "metadata": {},
   "outputs": [
    {
     "name": "stdout",
     "output_type": "stream",
     "text": [
      "Validation: \n",
      "Complement Accuracy: 85.13%\n",
      "Complement F1-Score: 68.13%\n",
      "\n",
      "Test: \n",
      "Complement Accuracy: 80.66%\n",
      "Complement F1-Score: 51.53%\n"
     ]
    }
   ],
   "source": [
    "from sklearn.naive_bayes import MultinomialNB # suited for classification with discrete features\n",
    "from sklearn.naive_bayes import ComplementNB # suited for imbalanced datasets (designed to correct for \"severe assumptions\")\n",
    "from sklearn.naive_bayes import BernoulliNB # designed for classification with binary/boolean features\n",
    "from sklearn.naive_bayes import GaussianNB # designed for classification with continuous values\n",
    "\n",
    "clf = MultinomialNB()\n",
    "clf.fit(tweet_bow_train.toarray(), train_set[\"class_label\"])\n",
    "\n",
    "print(\"Validation: \")\n",
    "accuracy_score = metrics.accuracy_score(clf.predict(tweet_bow_val.toarray()), df_val[\"class_label\"])\n",
    "print(f\"Complement Accuracy: {round(accuracy_score * 100, 2)}%\")\n",
    "\n",
    "accuracy_score = metrics.f1_score(clf.predict(tweet_bow_val.toarray()), df_val[\"class_label\"])\n",
    "print(f\"Complement F1-Score: {round(accuracy_score * 100, 2)}%\")\n",
    "\n",
    "print(\"\\nTest: \")\n",
    "accuracy_score = metrics.accuracy_score(clf.predict(tweet_bow_test.toarray()), df_test[\"class_label\"])\n",
    "print(f\"Complement Accuracy: {round(accuracy_score * 100, 2)}%\")\n",
    "\n",
    "accuracy_score = metrics.f1_score(clf.predict(tweet_bow_test.toarray()), df_test[\"class_label\"])\n",
    "print(f\"Complement F1-Score: {round(accuracy_score * 100, 2)}%\")"
   ]
  },
  {
   "cell_type": "markdown",
   "metadata": {},
   "source": [
    "<br><br><br>\n",
    "\n",
    "## Linear Support Vector Machine"
   ]
  },
  {
   "cell_type": "markdown",
   "metadata": {},
   "source": [
    "Source: https://scikit-learn.org/stable/modules/generated/sklearn.svm.LinearSVC.html"
   ]
  },
  {
   "cell_type": "code",
   "execution_count": 23,
   "metadata": {},
   "outputs": [
    {
     "name": "stdout",
     "output_type": "stream",
     "text": [
      "Validation: \n",
      "Linear SVC Accuracy: 81.54%\n",
      "Linear SVC F1-Score: 57.14%\n",
      "\n",
      "Test: \n",
      "Linear SVC Accuracy: 77.0%\n",
      "Linear SVC F1-Score: 44.07%\n"
     ]
    }
   ],
   "source": [
    "# based on liblinear\n",
    "from sklearn.svm import LinearSVC\n",
    "from sklearn.pipeline import make_pipeline\n",
    "from sklearn.preprocessing import StandardScaler\n",
    "from sklearn.datasets import make_classification\n",
    "\n",
    "clf = make_pipeline(StandardScaler(), LinearSVC(random_state=0, tol=1e-5, class_weight=\"balanced\"))\n",
    "clf.fit(tweet_bow_train.toarray(), train_set[\"class_label\"])\n",
    "\n",
    "print(\"Validation: \")\n",
    "accuracy_score = metrics.accuracy_score(clf.predict(tweet_bow_val.toarray()), df_val[\"class_label\"])\n",
    "print(f\"Linear SVC Accuracy: {round(accuracy_score * 100, 2)}%\")\n",
    "\n",
    "f1_score = metrics.f1_score(clf.predict(tweet_bow_val.toarray()), df_val[\"class_label\"])\n",
    "print(f\"Linear SVC F1-Score: {round(f1_score * 100, 2)}%\")\n",
    "\n",
    "print(\"\\nTest: \")\n",
    "accuracy_score = metrics.accuracy_score(clf.predict(tweet_bow_test.toarray()), df_test[\"class_label\"])\n",
    "print(f\"Linear SVC Accuracy: {round(accuracy_score * 100, 2)}%\")\n",
    "\n",
    "f1_score = metrics.f1_score(clf.predict(tweet_bow_test.toarray()), df_test[\"class_label\"])\n",
    "print(f\"Linear SVC F1-Score: {round(f1_score * 100, 2)}%\")"
   ]
  },
  {
   "cell_type": "markdown",
   "metadata": {},
   "source": [
    "<br><br><br>\n",
    "\n",
    "## C-Support Vector Predictions"
   ]
  },
  {
   "cell_type": "markdown",
   "metadata": {},
   "source": [
    "Source: https://scikit-learn.org/stable/modules/generated/sklearn.svm.SVC.html#sklearn.svm.SVC"
   ]
  },
  {
   "cell_type": "code",
   "execution_count": 24,
   "metadata": {},
   "outputs": [
    {
     "name": "stdout",
     "output_type": "stream",
     "text": [
      "\\Validation: \n",
      "Linear SVC Accuracy: 81.03%\n",
      "Linear SVC F1-Score: 51.95%\n",
      "\n",
      "Test: \n",
      "Linear SVC Accuracy: 78.05%\n",
      "Linear SVC F1-Score: 40.57%\n"
     ]
    }
   ],
   "source": [
    "# based on libsvm\n",
    "from sklearn.pipeline import make_pipeline\n",
    "from sklearn.preprocessing import StandardScaler\n",
    "from sklearn.svm import SVC\n",
    "\n",
    "clf = make_pipeline(StandardScaler(), SVC(gamma='auto', kernel=\"linear\", class_weight=\"balanced\"))\n",
    "clf.fit(tweet_bow_train.toarray(), train_set[\"class_label\"])\n",
    "\n",
    "print(\"\\Validation: \")\n",
    "accuracy_score = metrics.accuracy_score(clf.predict(tweet_bow_val.toarray()), df_val[\"class_label\"])\n",
    "print(f\"Linear SVC Accuracy: {round(accuracy_score * 100, 2)}%\")\n",
    "\n",
    "f1_score = metrics.f1_score(clf.predict(tweet_bow_val.toarray()), df_val[\"class_label\"])\n",
    "print(f\"Linear SVC F1-Score: {round(f1_score * 100, 2)}%\")\n",
    "\n",
    "print(\"\\nTest: \")\n",
    "accuracy_score = metrics.accuracy_score(clf.predict(tweet_bow_test.toarray()), df_test[\"class_label\"])\n",
    "print(f\"Linear SVC Accuracy: {round(accuracy_score * 100, 2)}%\")\n",
    "\n",
    "f1_score = metrics.f1_score(clf.predict(tweet_bow_test.toarray()), df_test[\"class_label\"])\n",
    "print(f\"Linear SVC F1-Score: {round(f1_score * 100, 2)}%\")"
   ]
  },
  {
   "cell_type": "markdown",
   "metadata": {},
   "source": [
    "<br><br><br><br><br>\n",
    "\n",
    "## Unidirectional LSTM Predictions\n",
    "\n",
    "Source: https://www.kaggle.com/code/kredy10/simple-lstm-for-text-classification/notebook"
   ]
  },
  {
   "cell_type": "code",
   "execution_count": 25,
   "metadata": {},
   "outputs": [],
   "source": [
    "from sklearn.preprocessing import LabelEncoder\n",
    "from keras.models import Model\n",
    "from keras.layers import LSTM, Activation, Dense, Dropout, Input, Embedding, Bidirectional, TimeDistributed, Flatten\n",
    "from tensorflow.keras.optimizers import RMSprop\n",
    "from keras.preprocessing.text import Tokenizer\n",
    "from keras.preprocessing import sequence\n",
    "from keras.callbacks import EarlyStopping"
   ]
  },
  {
   "cell_type": "code",
   "execution_count": 26,
   "metadata": {},
   "outputs": [],
   "source": [
    "le = LabelEncoder()\n",
    "\n",
    "# Training set\n",
    "X_train = df_train_hybrid[\"tweet_text\"]\n",
    "Y_train = df_train_hybrid[\"class_label\"]\n",
    "Y_train = le.fit_transform(Y_train)\n",
    "Y_train = Y_train.reshape(-1,1)\n",
    "\n",
    "# Validation set\n",
    "X_val = df_val[\"tweet_text\"]\n",
    "Y_val = df_val[\"class_label\"]\n",
    "Y_val = le.fit_transform(Y_val)\n",
    "Y_val = Y_val.reshape(-1,1)\n",
    "\n",
    "# Test set\n",
    "X_test = df_test[\"tweet_text\"]\n",
    "Y_test = df_test[\"class_label\"]\n",
    "Y_test = le.fit_transform(Y_test)\n",
    "Y_test = Y_test.reshape(-1,1)"
   ]
  },
  {
   "cell_type": "code",
   "execution_count": 27,
   "metadata": {},
   "outputs": [
    {
     "data": {
      "text/plain": [
       "21"
      ]
     },
     "execution_count": 27,
     "metadata": {},
     "output_type": "execute_result"
    }
   ],
   "source": [
    "avg_tweet_length = round(pd.Series([len(x) for x in df_train[\"tokens\"]]).mean())\n",
    "avg_tweet_length"
   ]
  },
  {
   "cell_type": "code",
   "execution_count": 28,
   "metadata": {},
   "outputs": [],
   "source": [
    "max_words = 5000\n",
    "max_len = avg_tweet_length # As recommended in Vinay's lecture\n",
    "\n",
    "tok = Tokenizer(num_words=max_words)\n",
    "\n",
    "tok.fit_on_texts(X_train)\n",
    "sequences = tok.texts_to_sequences(X_train)\n",
    "sequences_matrix = sequence.pad_sequences(sequences, maxlen=max_len)"
   ]
  },
  {
   "cell_type": "code",
   "execution_count": 29,
   "metadata": {},
   "outputs": [],
   "source": [
    "def RNN():\n",
    "    inputs = Input(name='inputs', shape=[max_len])\n",
    "    layer = Embedding(max_words, 50, input_length=max_len)(inputs)\n",
    "    layer = LSTM(64)(layer)\n",
    "    layer = Dense(256, name='FC1')(layer)\n",
    "    layer = Activation('relu')(layer)\n",
    "    layer = Dropout(0.5)(layer)\n",
    "    layer = Dense(1, name='out_layer')(layer)\n",
    "    layer = Activation('sigmoid')(layer)\n",
    "    model = Model(inputs=inputs, outputs=layer)\n",
    "    return model"
   ]
  },
  {
   "cell_type": "code",
   "execution_count": 30,
   "metadata": {},
   "outputs": [
    {
     "name": "stdout",
     "output_type": "stream",
     "text": [
      "Metal device set to: Apple M1\n",
      "\n",
      "systemMemory: 8.00 GB\n",
      "maxCacheSize: 2.67 GB\n",
      "\n"
     ]
    },
    {
     "name": "stderr",
     "output_type": "stream",
     "text": [
      "2022-05-16 01:40:55.923030: I tensorflow/core/common_runtime/pluggable_device/pluggable_device_factory.cc:305] Could not identify NUMA node of platform GPU ID 0, defaulting to 0. Your kernel may not have been built with NUMA support.\n",
      "2022-05-16 01:40:55.923931: I tensorflow/core/common_runtime/pluggable_device/pluggable_device_factory.cc:271] Created TensorFlow device (/job:localhost/replica:0/task:0/device:GPU:0 with 0 MB memory) -> physical PluggableDevice (device: 0, name: METAL, pci bus id: <undefined>)\n"
     ]
    },
    {
     "name": "stdout",
     "output_type": "stream",
     "text": [
      "Model: \"model\"\n",
      "_________________________________________________________________\n",
      " Layer (type)                Output Shape              Param #   \n",
      "=================================================================\n",
      " inputs (InputLayer)         [(None, 21)]              0         \n",
      "                                                                 \n",
      " embedding (Embedding)       (None, 21, 50)            250000    \n",
      "                                                                 \n",
      " lstm (LSTM)                 (None, 64)                29440     \n",
      "                                                                 \n",
      " FC1 (Dense)                 (None, 256)               16640     \n",
      "                                                                 \n",
      " activation (Activation)     (None, 256)               0         \n",
      "                                                                 \n",
      " dropout (Dropout)           (None, 256)               0         \n",
      "                                                                 \n",
      " out_layer (Dense)           (None, 1)                 257       \n",
      "                                                                 \n",
      " activation_1 (Activation)   (None, 1)                 0         \n",
      "                                                                 \n",
      "=================================================================\n",
      "Total params: 296,337\n",
      "Trainable params: 296,337\n",
      "Non-trainable params: 0\n",
      "_________________________________________________________________\n"
     ]
    }
   ],
   "source": [
    "model = RNN()\n",
    "model.summary()\n",
    "model.compile(loss='binary_crossentropy', optimizer=\"adam\", metrics=['accuracy']) # optimizer=RMSprop() or \"adam\""
   ]
  },
  {
   "cell_type": "code",
   "execution_count": 31,
   "metadata": {},
   "outputs": [
    {
     "name": "stdout",
     "output_type": "stream",
     "text": [
      "Epoch 1/10\n"
     ]
    },
    {
     "name": "stderr",
     "output_type": "stream",
     "text": [
      "2022-05-16 01:40:56.337788: W tensorflow/core/platform/profile_utils/cpu_utils.cc:128] Failed to get CPU frequency: 0 Hz\n",
      "2022-05-16 01:40:57.811137: I tensorflow/core/grappler/optimizers/custom_graph_optimizer_registry.cc:113] Plugin optimizer for device_type GPU is enabled.\n",
      "2022-05-16 01:40:58.071789: I tensorflow/core/grappler/optimizers/custom_graph_optimizer_registry.cc:113] Plugin optimizer for device_type GPU is enabled.\n",
      "2022-05-16 01:40:58.450767: I tensorflow/core/grappler/optimizers/custom_graph_optimizer_registry.cc:113] Plugin optimizer for device_type GPU is enabled.\n"
     ]
    },
    {
     "name": "stdout",
     "output_type": "stream",
     "text": [
      "16/16 [==============================] - ETA: 0s - loss: 0.6741 - accuracy: 0.6090"
     ]
    },
    {
     "name": "stderr",
     "output_type": "stream",
     "text": [
      "2022-05-16 01:41:00.208961: I tensorflow/core/grappler/optimizers/custom_graph_optimizer_registry.cc:113] Plugin optimizer for device_type GPU is enabled.\n",
      "2022-05-16 01:41:00.267196: I tensorflow/core/grappler/optimizers/custom_graph_optimizer_registry.cc:113] Plugin optimizer for device_type GPU is enabled.\n"
     ]
    },
    {
     "name": "stdout",
     "output_type": "stream",
     "text": [
      "16/16 [==============================] - 4s 89ms/step - loss: 0.6741 - accuracy: 0.6090 - val_loss: 0.9755 - val_accuracy: 0.0000e+00\n",
      "Epoch 2/10\n",
      "16/16 [==============================] - 0s 26ms/step - loss: 0.6267 - accuracy: 0.6253 - val_loss: 0.9613 - val_accuracy: 0.0407\n"
     ]
    },
    {
     "data": {
      "text/plain": [
       "<keras.callbacks.History at 0x2c58d5b80>"
      ]
     },
     "execution_count": 31,
     "metadata": {},
     "output_type": "execute_result"
    }
   ],
   "source": [
    "model.fit(sequences_matrix, Y_train, batch_size=64, epochs=10,\n",
    "          validation_split=0.2, callbacks=[EarlyStopping(monitor='val_loss', min_delta=0.0001)])"
   ]
  },
  {
   "cell_type": "code",
   "execution_count": 32,
   "metadata": {},
   "outputs": [],
   "source": [
    "val_sequence = tok.texts_to_sequences(X_val)\n",
    "val_sequence_matrix = sequence.pad_sequences(val_sequence,maxlen=max_len)"
   ]
  },
  {
   "cell_type": "code",
   "execution_count": 33,
   "metadata": {},
   "outputs": [
    {
     "name": "stdout",
     "output_type": "stream",
     "text": [
      "7/7 [==============================] - 0s 14ms/step - loss: 0.5279 - accuracy: 0.7744\n"
     ]
    }
   ],
   "source": [
    "val_accr = model.evaluate(val_sequence_matrix, Y_val)"
   ]
  },
  {
   "cell_type": "code",
   "execution_count": 34,
   "metadata": {},
   "outputs": [],
   "source": [
    "test_sequences = tok.texts_to_sequences(X_test)\n",
    "test_sequences_matrix = sequence.pad_sequences(test_sequences,maxlen=max_len)"
   ]
  },
  {
   "cell_type": "code",
   "execution_count": 35,
   "metadata": {},
   "outputs": [
    {
     "name": "stdout",
     "output_type": "stream",
     "text": [
      "18/18 [==============================] - 0s 12ms/step - loss: 0.5336 - accuracy: 0.7770\n"
     ]
    }
   ],
   "source": [
    "test_accr = model.evaluate(test_sequences_matrix, Y_test)"
   ]
  },
  {
   "cell_type": "code",
   "execution_count": 36,
   "metadata": {},
   "outputs": [
    {
     "name": "stdout",
     "output_type": "stream",
     "text": [
      "Validation set:\n",
      "  Loss: 0.528\n",
      "  Accuracy: 0.774\n",
      "\n",
      "Test set:\n",
      "  Loss: 0.534\n",
      "  Accuracy: 0.777\n",
      "\n"
     ]
    }
   ],
   "source": [
    "print('Validation set:\\n  Loss: {:0.3f}\\n  Accuracy: {:0.3f}\\n'.format(val_accr[0], val_accr[1]))\n",
    "print('Test set:\\n  Loss: {:0.3f}\\n  Accuracy: {:0.3f}\\n'.format(test_accr[0], test_accr[1]))"
   ]
  },
  {
   "cell_type": "markdown",
   "metadata": {},
   "source": [
    "<br><br><br><br><br>\n",
    "\n",
    "# Huggingface (distilBERT)"
   ]
  },
  {
   "cell_type": "code",
   "execution_count": 37,
   "metadata": {},
   "outputs": [],
   "source": [
    "%%capture\n",
    "pip install datasets wandb transformers"
   ]
  },
  {
   "cell_type": "code",
   "execution_count": 38,
   "metadata": {},
   "outputs": [],
   "source": [
    "from datasets import load_dataset\n",
    "import os\n",
    "import wandb\n",
    "import torch"
   ]
  },
  {
   "cell_type": "code",
   "execution_count": 39,
   "metadata": {},
   "outputs": [
    {
     "name": "stdout",
     "output_type": "stream",
     "text": [
      "tensor([[0.2692, 0.4656, 0.6283],\n",
      "        [0.9691, 0.9606, 0.8206],\n",
      "        [0.0383, 0.8016, 0.4886],\n",
      "        [0.7459, 0.7446, 0.1234],\n",
      "        [0.5195, 0.6614, 0.8824]])\n",
      "cpu\n"
     ]
    }
   ],
   "source": [
    "print(torch.rand(5, 3))\n",
    "device = torch.device(\"cuda\" if torch.cuda.is_available() else \"cpu\")\n",
    "print(device)"
   ]
  },
  {
   "cell_type": "code",
   "execution_count": 40,
   "metadata": {},
   "outputs": [],
   "source": [
    "%%capture\n",
    "from transformers import AutoTokenizer\n",
    "tokenizer = AutoTokenizer.from_pretrained(\"distilbert-base-uncased\", use_fast=True)\n",
    "\n",
    "def tokenize_function(examples):\n",
    "    return tokenizer(examples[\"text\"], padding=\"max_length\", truncation=True)"
   ]
  },
  {
   "cell_type": "code",
   "execution_count": 41,
   "metadata": {},
   "outputs": [],
   "source": [
    "import datasets\n",
    "from datasets import Dataset\n",
    "import pandas as pd\n",
    "\n",
    "train_df = pd.DataFrame({\n",
    "     \"label\" : df_train_hybrid[\"class_label\"],\n",
    "     \"text\" : df_train_hybrid[\"tweet_text\"]\n",
    "})\n",
    "\n",
    "val_df = pd.DataFrame({\n",
    "     \"label\" : df_val[\"class_label\"],\n",
    "     \"text\" : df_val[\"tweet_text\"]\n",
    "})\n",
    "\n",
    "test_df = pd.DataFrame({\n",
    "     \"label\" : df_test[\"class_label\"],\n",
    "     \"text\" : df_test[\"tweet_text\"]\n",
    "})\n",
    "\n",
    "train_dataset = Dataset.from_dict(train_df)\n",
    "val_dataset = Dataset.from_dict(val_df)\n",
    "test_dataset = Dataset.from_dict(test_df)\n",
    "my_dataset_dict = datasets.DatasetDict({\"train\": train_dataset, \"val\": val_dataset, \"test\": test_dataset})"
   ]
  },
  {
   "cell_type": "code",
   "execution_count": 42,
   "metadata": {},
   "outputs": [
    {
     "data": {
      "application/vnd.jupyter.widget-view+json": {
       "model_id": "5ea6b0414d9b4c6987777e0e218fbeef",
       "version_major": 2,
       "version_minor": 0
      },
      "text/plain": [
       "  0%|          | 0/2 [00:00<?, ?ba/s]"
      ]
     },
     "metadata": {},
     "output_type": "display_data"
    },
    {
     "name": "stdout",
     "output_type": "stream",
     "text": [
      "Ignored unknown kwarg option direction\n",
      "Ignored unknown kwarg option direction\n"
     ]
    },
    {
     "data": {
      "application/vnd.jupyter.widget-view+json": {
       "model_id": "01ebf4ff064742f0aed51a87ab1aaabd",
       "version_major": 2,
       "version_minor": 0
      },
      "text/plain": [
       "  0%|          | 0/1 [00:00<?, ?ba/s]"
      ]
     },
     "metadata": {},
     "output_type": "display_data"
    },
    {
     "name": "stdout",
     "output_type": "stream",
     "text": [
      "Ignored unknown kwarg option direction\n"
     ]
    },
    {
     "data": {
      "application/vnd.jupyter.widget-view+json": {
       "model_id": "b19e1fc032fd4f04ad18ac694250ddac",
       "version_major": 2,
       "version_minor": 0
      },
      "text/plain": [
       "  0%|          | 0/1 [00:00<?, ?ba/s]"
      ]
     },
     "metadata": {},
     "output_type": "display_data"
    },
    {
     "name": "stdout",
     "output_type": "stream",
     "text": [
      "Ignored unknown kwarg option direction\n"
     ]
    }
   ],
   "source": [
    "tokenized_datasets = my_dataset_dict.map(tokenize_function, batched=True)"
   ]
  },
  {
   "cell_type": "code",
   "execution_count": 43,
   "metadata": {},
   "outputs": [
    {
     "name": "stdout",
     "output_type": "stream",
     "text": [
      "1159\n",
      "{'label': 0, 'text': '👏🏼👏🏼👏🏼👏🏼 Covax starts deliveries of COVID-19 vaccines 💉 in 🇦🇱. 🇪🇺 EU is proud to be a strong supporter of Covax to ensure safe and affordable COVID-19 vaccines reach all countries in the 🌎 #TeamEurope #StrongerTogether #VaccinesForAll', 'input_ids': [101, 100, 2522, 3567, 2595, 4627, 23534, 1997, 2522, 17258, 1011, 2539, 28896, 100, 1999, 100, 1012, 100, 7327, 2003, 7098, 2000, 2022, 1037, 2844, 10129, 1997, 2522, 3567, 2595, 2000, 5676, 3647, 1998, 15184, 2522, 17258, 1011, 2539, 28896, 3362, 2035, 3032, 1999, 1996, 100, 1001, 2136, 11236, 17635, 1001, 6428, 3406, 18150, 5886, 1001, 28896, 29278, 8095, 102, 0, 0, 0, 0, 0, 0, 0, 0, 0, 0, 0, 0, 0, 0, 0, 0, 0, 0, 0, 0, 0, 0, 0, 0, 0, 0, 0, 0, 0, 0, 0, 0, 0, 0, 0, 0, 0, 0, 0, 0, 0, 0, 0, 0, 0, 0, 0, 0, 0, 0, 0, 0, 0, 0, 0, 0, 0, 0, 0, 0, 0, 0, 0, 0, 0, 0, 0, 0, 0, 0, 0, 0, 0, 0, 0, 0, 0, 0, 0, 0, 0, 0, 0, 0, 0, 0, 0, 0, 0, 0, 0, 0, 0, 0, 0, 0, 0, 0, 0, 0, 0, 0, 0, 0, 0, 0, 0, 0, 0, 0, 0, 0, 0, 0, 0, 0, 0, 0, 0, 0, 0, 0, 0, 0, 0, 0, 0, 0, 0, 0, 0, 0, 0, 0, 0, 0, 0, 0, 0, 0, 0, 0, 0, 0, 0, 0, 0, 0, 0, 0, 0, 0, 0, 0, 0, 0, 0, 0, 0, 0, 0, 0, 0, 0, 0, 0, 0, 0, 0, 0, 0, 0, 0, 0, 0, 0, 0, 0, 0, 0, 0, 0, 0, 0, 0, 0, 0, 0, 0, 0, 0, 0, 0, 0, 0, 0, 0, 0, 0, 0, 0, 0, 0, 0, 0, 0, 0, 0, 0, 0, 0, 0, 0, 0, 0, 0, 0, 0, 0, 0, 0, 0, 0, 0, 0, 0, 0, 0, 0, 0, 0, 0, 0, 0, 0, 0, 0, 0, 0, 0, 0, 0, 0, 0, 0, 0, 0, 0, 0, 0, 0, 0, 0, 0, 0, 0, 0, 0, 0, 0, 0, 0, 0, 0, 0, 0, 0, 0, 0, 0, 0, 0, 0, 0, 0, 0, 0, 0, 0, 0, 0, 0, 0, 0, 0, 0, 0, 0, 0, 0, 0, 0, 0, 0, 0, 0, 0, 0, 0, 0, 0, 0, 0, 0, 0, 0, 0, 0, 0, 0, 0, 0, 0, 0, 0, 0, 0, 0, 0, 0, 0, 0, 0, 0, 0, 0, 0, 0, 0, 0, 0, 0, 0, 0, 0, 0, 0, 0, 0, 0, 0, 0, 0, 0, 0, 0, 0, 0, 0, 0, 0, 0, 0, 0, 0, 0, 0, 0, 0, 0, 0, 0, 0, 0, 0, 0, 0, 0, 0, 0, 0, 0, 0, 0, 0, 0, 0, 0, 0, 0, 0, 0, 0, 0, 0, 0, 0, 0, 0, 0, 0, 0, 0, 0, 0, 0, 0, 0, 0, 0, 0, 0, 0, 0, 0, 0, 0, 0, 0, 0, 0, 0, 0, 0, 0, 0, 0, 0, 0, 0, 0, 0, 0, 0, 0, 0, 0, 0, 0, 0, 0, 0, 0, 0, 0, 0, 0, 0, 0, 0, 0, 0, 0, 0, 0, 0, 0, 0, 0, 0, 0, 0], 'attention_mask': [1, 1, 1, 1, 1, 1, 1, 1, 1, 1, 1, 1, 1, 1, 1, 1, 1, 1, 1, 1, 1, 1, 1, 1, 1, 1, 1, 1, 1, 1, 1, 1, 1, 1, 1, 1, 1, 1, 1, 1, 1, 1, 1, 1, 1, 1, 1, 1, 1, 1, 1, 1, 1, 1, 1, 1, 1, 1, 1, 1, 0, 0, 0, 0, 0, 0, 0, 0, 0, 0, 0, 0, 0, 0, 0, 0, 0, 0, 0, 0, 0, 0, 0, 0, 0, 0, 0, 0, 0, 0, 0, 0, 0, 0, 0, 0, 0, 0, 0, 0, 0, 0, 0, 0, 0, 0, 0, 0, 0, 0, 0, 0, 0, 0, 0, 0, 0, 0, 0, 0, 0, 0, 0, 0, 0, 0, 0, 0, 0, 0, 0, 0, 0, 0, 0, 0, 0, 0, 0, 0, 0, 0, 0, 0, 0, 0, 0, 0, 0, 0, 0, 0, 0, 0, 0, 0, 0, 0, 0, 0, 0, 0, 0, 0, 0, 0, 0, 0, 0, 0, 0, 0, 0, 0, 0, 0, 0, 0, 0, 0, 0, 0, 0, 0, 0, 0, 0, 0, 0, 0, 0, 0, 0, 0, 0, 0, 0, 0, 0, 0, 0, 0, 0, 0, 0, 0, 0, 0, 0, 0, 0, 0, 0, 0, 0, 0, 0, 0, 0, 0, 0, 0, 0, 0, 0, 0, 0, 0, 0, 0, 0, 0, 0, 0, 0, 0, 0, 0, 0, 0, 0, 0, 0, 0, 0, 0, 0, 0, 0, 0, 0, 0, 0, 0, 0, 0, 0, 0, 0, 0, 0, 0, 0, 0, 0, 0, 0, 0, 0, 0, 0, 0, 0, 0, 0, 0, 0, 0, 0, 0, 0, 0, 0, 0, 0, 0, 0, 0, 0, 0, 0, 0, 0, 0, 0, 0, 0, 0, 0, 0, 0, 0, 0, 0, 0, 0, 0, 0, 0, 0, 0, 0, 0, 0, 0, 0, 0, 0, 0, 0, 0, 0, 0, 0, 0, 0, 0, 0, 0, 0, 0, 0, 0, 0, 0, 0, 0, 0, 0, 0, 0, 0, 0, 0, 0, 0, 0, 0, 0, 0, 0, 0, 0, 0, 0, 0, 0, 0, 0, 0, 0, 0, 0, 0, 0, 0, 0, 0, 0, 0, 0, 0, 0, 0, 0, 0, 0, 0, 0, 0, 0, 0, 0, 0, 0, 0, 0, 0, 0, 0, 0, 0, 0, 0, 0, 0, 0, 0, 0, 0, 0, 0, 0, 0, 0, 0, 0, 0, 0, 0, 0, 0, 0, 0, 0, 0, 0, 0, 0, 0, 0, 0, 0, 0, 0, 0, 0, 0, 0, 0, 0, 0, 0, 0, 0, 0, 0, 0, 0, 0, 0, 0, 0, 0, 0, 0, 0, 0, 0, 0, 0, 0, 0, 0, 0, 0, 0, 0, 0, 0, 0, 0, 0, 0, 0, 0, 0, 0, 0, 0, 0, 0, 0, 0, 0, 0, 0, 0, 0, 0, 0, 0, 0, 0, 0, 0, 0, 0, 0, 0, 0, 0, 0, 0, 0, 0, 0, 0, 0, 0, 0, 0, 0, 0, 0, 0, 0, 0, 0, 0, 0, 0]}\n"
     ]
    }
   ],
   "source": [
    "sample_idx = torch.randint(len(tokenized_datasets[\"train\"]), size=(1,)).item()\n",
    "print(sample_idx)\n",
    "print(tokenized_datasets[\"train\"][10])"
   ]
  },
  {
   "cell_type": "code",
   "execution_count": 44,
   "metadata": {},
   "outputs": [],
   "source": [
    "len(tokenized_datasets[\"train\"])\n",
    "small_train_dataset = tokenized_datasets[\"train\"].shuffle(seed=42)\n",
    "small_val_dataset = tokenized_datasets[\"val\"].shuffle(seed=23)\n",
    "small_test_dataset = tokenized_datasets[\"test\"].shuffle(seed=18)"
   ]
  },
  {
   "cell_type": "code",
   "execution_count": 45,
   "metadata": {},
   "outputs": [],
   "source": [
    "from transformers import AutoModelForSequenceClassification\n",
    "model = AutoModelForSequenceClassification.from_pretrained(\"distilbert-base-uncased\", num_labels=5)"
   ]
  },
  {
   "cell_type": "code",
   "execution_count": 46,
   "metadata": {},
   "outputs": [],
   "source": [
    "import numpy as np\n",
    "from datasets import load_metric\n",
    "\n",
    "metric = load_metric(\"accuracy\")"
   ]
  },
  {
   "cell_type": "code",
   "execution_count": 47,
   "metadata": {},
   "outputs": [],
   "source": [
    "def compute_metrics(eval_pred):\n",
    "    logits, labels = eval_pred\n",
    "    predictions = np.argmax(logits, axis=-1)\n",
    "    return metric.compute(predictions=predictions, references=labels)"
   ]
  },
  {
   "cell_type": "code",
   "execution_count": 48,
   "metadata": {},
   "outputs": [
    {
     "name": "stdout",
     "output_type": "stream",
     "text": [
      "huggingface/tokenizers: The current process just got forked, after parallelism has already been used. Disabling parallelism to avoid deadlocks...\n",
      "To disable this warning, you can either:\n",
      "\t- Avoid using `tokenizers` before the fork if possible\n",
      "\t- Explicitly set the environment variable TOKENIZERS_PARALLELISM=(true | false)\n"
     ]
    },
    {
     "name": "stderr",
     "output_type": "stream",
     "text": [
      "\u001b[34m\u001b[1mwandb\u001b[0m: Currently logged in as: \u001b[33mivarw\u001b[0m (\u001b[33mcopium-studios\u001b[0m). Use \u001b[1m`wandb login --relogin`\u001b[0m to force relogin\n"
     ]
    },
    {
     "name": "stdout",
     "output_type": "stream",
     "text": [
      "huggingface/tokenizers: The current process just got forked, after parallelism has already been used. Disabling parallelism to avoid deadlocks...\n",
      "To disable this warning, you can either:\n",
      "\t- Avoid using `tokenizers` before the fork if possible\n",
      "\t- Explicitly set the environment variable TOKENIZERS_PARALLELISM=(true | false)\n",
      "huggingface/tokenizers: The current process just got forked, after parallelism has already been used. Disabling parallelism to avoid deadlocks...\n",
      "To disable this warning, you can either:\n",
      "\t- Avoid using `tokenizers` before the fork if possible\n",
      "\t- Explicitly set the environment variable TOKENIZERS_PARALLELISM=(true | false)\n"
     ]
    },
    {
     "data": {
      "text/html": [
       "Tracking run with wandb version 0.12.16"
      ],
      "text/plain": [
       "<IPython.core.display.HTML object>"
      ]
     },
     "metadata": {},
     "output_type": "display_data"
    },
    {
     "data": {
      "text/html": [
       "Run data is saved locally in <code>/Users/ivarw/Dropbox/GitDAT550/Final_Project/wandb/run-20220516_014111-1fw9bh7n</code>"
      ],
      "text/plain": [
       "<IPython.core.display.HTML object>"
      ]
     },
     "metadata": {},
     "output_type": "display_data"
    },
    {
     "data": {
      "text/html": [
       "Syncing run <strong><a href=\"https://wandb.ai/copium-studios/huggingface-handson/runs/1fw9bh7n\" target=\"_blank\">comic-night-8</a></strong> to <a href=\"https://wandb.ai/copium-studios/huggingface-handson\" target=\"_blank\">Weights & Biases</a> (<a href=\"https://wandb.me/run\" target=\"_blank\">docs</a>)<br/>"
      ],
      "text/plain": [
       "<IPython.core.display.HTML object>"
      ]
     },
     "metadata": {},
     "output_type": "display_data"
    },
    {
     "data": {
      "text/html": [
       "<button onClick=\"this.nextSibling.style.display='block';this.style.display='none';\">Display W&B run</button><iframe src=\"https://wandb.ai/copium-studios/huggingface-handson/runs/1fw9bh7n?jupyter=true\" style=\"border:none;width:100%;height:420px;display:none;\"></iframe>"
      ],
      "text/plain": [
       "<wandb.sdk.wandb_run.Run at 0x2bb377c10>"
      ]
     },
     "execution_count": 48,
     "metadata": {},
     "output_type": "execute_result"
    }
   ],
   "source": [
    "from transformers import TrainingArguments\n",
    "\n",
    "training_args = TrainingArguments(output_dir=\"test_trainer\", evaluation_strategy=\"epoch\", report_to=\"wandb\", num_train_epochs=1)\n",
    "wandb.init(project=\"huggingface-handson\", config=training_args)"
   ]
  },
  {
   "cell_type": "code",
   "execution_count": 49,
   "metadata": {},
   "outputs": [],
   "source": [
    "from transformers import Trainer\n",
    "trainer = Trainer(\n",
    "    model=model,\n",
    "    args=training_args,\n",
    "    train_dataset=small_train_dataset,\n",
    "    eval_dataset=small_val_dataset,\n",
    "    compute_metrics=compute_metrics,\n",
    ")"
   ]
  },
  {
   "cell_type": "code",
   "execution_count": 68,
   "metadata": {},
   "outputs": [
    {
     "name": "stderr",
     "output_type": "stream",
     "text": [
      "/Users/ivarw/miniforge3/envs/DAT540/lib/python3.8/site-packages/transformers/optimization.py:306: FutureWarning: This implementation of AdamW is deprecated and will be removed in a future version. Use thePyTorch implementation torch.optim.AdamW instead, or set `no_deprecation_warning=True` to disable this warning\n",
      "  warnings.warn(\n"
     ]
    },
    {
     "data": {
      "application/vnd.jupyter.widget-view+json": {
       "model_id": "089c239013b348508d1fcf2a4accf2c7",
       "version_major": 2,
       "version_minor": 0
      },
      "text/plain": [
       "  0%|          | 0/154 [00:00<?, ?it/s]"
      ]
     },
     "metadata": {},
     "output_type": "display_data"
    },
    {
     "data": {
      "application/vnd.jupyter.widget-view+json": {
       "model_id": "fa6e2606a4d74f3e83a25cbe1a2bfd6b",
       "version_major": 2,
       "version_minor": 0
      },
      "text/plain": [
       "  0%|          | 0/25 [00:00<?, ?it/s]"
      ]
     },
     "metadata": {},
     "output_type": "display_data"
    },
    {
     "name": "stdout",
     "output_type": "stream",
     "text": [
      "{'eval_loss': 0.43589743971824646, 'eval_accuracy': 0.7948717948717948, 'eval_runtime': 81.6983, 'eval_samples_per_second': 2.387, 'eval_steps_per_second': 0.306, 'epoch': 1.0}\n",
      "{'train_runtime': 3166.8187, 'train_samples_per_second': 0.388, 'train_steps_per_second': 0.049, 'train_loss': 0.6006707525872564, 'epoch': 1.0}\n"
     ]
    },
    {
     "data": {
      "text/plain": [
       "TrainOutput(global_step=154, training_loss=0.6006707525872564, metrics={'train_runtime': 3166.8187, 'train_samples_per_second': 0.388, 'train_steps_per_second': 0.049, 'train_loss': 0.6006707525872564, 'epoch': 1.0})"
      ]
     },
     "execution_count": 68,
     "metadata": {},
     "output_type": "execute_result"
    }
   ],
   "source": [
    "trainer.train()"
   ]
  },
  {
   "cell_type": "code",
   "execution_count": 69,
   "metadata": {},
   "outputs": [
    {
     "data": {
      "text/plain": [
       "4"
      ]
     },
     "execution_count": 69,
     "metadata": {},
     "output_type": "execute_result"
    }
   ],
   "source": [
    "import random as rand\n",
    "rand.seed(45)\n",
    "rand.randint(a=0, b=10)"
   ]
  },
  {
   "cell_type": "code",
   "execution_count": 70,
   "metadata": {},
   "outputs": [],
   "source": [
    "def encode(input):\n",
    "    inputs = tokenizer.batch_encode_plus(\n",
    "        # Title and snippet are important for evidence.\n",
    "        input,\n",
    "        add_special_tokens=True,\n",
    "        return_token_type_ids=True,\n",
    "        truncation=True,\n",
    "        padding=True,\n",
    "        max_length=512,\n",
    "    )\n",
    "\n",
    "    input_ids = torch.tensor(inputs[\"input_ids\"]).to(\n",
    "        device, non_blocking=True\n",
    "    )\n",
    "    attention_mask = torch.tensor(inputs[\"attention_mask\"]).to(\n",
    "        device, non_blocking=True\n",
    "    )\n",
    "    token_type_ids = torch.tensor(inputs[\"token_type_ids\"]).to(\n",
    "        device, non_blocking=True\n",
    "    )\n",
    "\n",
    "    return input_ids, attention_mask, token_type_ids"
   ]
  },
  {
   "cell_type": "code",
   "execution_count": 71,
   "metadata": {},
   "outputs": [],
   "source": [
    "softmax_func = torch.nn.Softmax(dim=1)"
   ]
  },
  {
   "cell_type": "code",
   "execution_count": 72,
   "metadata": {},
   "outputs": [],
   "source": [
    "# removed token_type_ids\n",
    "\n",
    "def predict(input):\n",
    "        input_ids, attention_mask, _ = encode(input=input)\n",
    "        # print(input_ids, attention_mask, token_type_ids)\n",
    "        with torch.no_grad():\n",
    "            logits = model(\n",
    "                input_ids,\n",
    "                attention_mask=attention_mask\n",
    "            )\n",
    "        softmax = softmax_func(logits[0]).tolist()\n",
    "        predictions = (np.argmax(softmax, axis=1).flatten()).tolist()\n",
    "        return predictions"
   ]
  },
  {
   "cell_type": "code",
   "execution_count": 73,
   "metadata": {},
   "outputs": [
    {
     "data": {
      "text/plain": [
       "195"
      ]
     },
     "execution_count": 73,
     "metadata": {},
     "output_type": "execute_result"
    }
   ],
   "source": [
    "len(df_val[\"tweet_text\"].tolist())"
   ]
  },
  {
   "cell_type": "markdown",
   "metadata": {},
   "source": [
    "### Prediction: Validation Set"
   ]
  },
  {
   "cell_type": "code",
   "execution_count": 78,
   "metadata": {},
   "outputs": [
    {
     "name": "stdout",
     "output_type": "stream",
     "text": [
      "Ignored unknown kwarg option direction\n"
     ]
    }
   ],
   "source": [
    "predictions = predict(df_val[\"tweet_text\"].tolist())"
   ]
  },
  {
   "cell_type": "code",
   "execution_count": 79,
   "metadata": {},
   "outputs": [
    {
     "name": "stdout",
     "output_type": "stream",
     "text": [
      "(Validation) Total Accuracy: 0.676923076923077\n"
     ]
    }
   ],
   "source": [
    "total = len(predictions)\n",
    "true = 0\n",
    "\n",
    "for i in range(len(predictions)):\n",
    "    if predictions[i] == df_test[\"class_label\"][i]:\n",
    "        true += 1\n",
    "\n",
    "print(f\"(Validation) Total Accuracy: {true/total}\")\n"
   ]
  },
  {
   "cell_type": "markdown",
   "metadata": {},
   "source": [
    "### Prediction: Test Set"
   ]
  },
  {
   "cell_type": "code",
   "execution_count": 76,
   "metadata": {},
   "outputs": [
    {
     "name": "stdout",
     "output_type": "stream",
     "text": [
      "Ignored unknown kwarg option direction\n"
     ]
    }
   ],
   "source": [
    "predictions = predict(df_test[\"tweet_text\"].tolist())"
   ]
  },
  {
   "cell_type": "code",
   "execution_count": 77,
   "metadata": {},
   "outputs": [
    {
     "name": "stdout",
     "output_type": "stream",
     "text": [
      "(Test) Total Accuracy: 0.7752613240418118\n"
     ]
    }
   ],
   "source": [
    "total = len(predictions)\n",
    "true = 0\n",
    "\n",
    "for i in range(len(predictions)):\n",
    "    if predictions[i] == df_test[\"class_label\"][i]:\n",
    "        true += 1\n",
    "\n",
    "print(f\"(Test) Total Accuracy: {true/total}\")"
   ]
  },
  {
   "cell_type": "markdown",
   "metadata": {},
   "source": [
    "<br><br><br><br><br>\n",
    "\n",
    "# Bidirectional LSTM Predictions (Failed Attempt) "
   ]
  },
  {
   "cell_type": "code",
   "execution_count": 50,
   "metadata": {},
   "outputs": [],
   "source": [
    "from sklearn.preprocessing import LabelEncoder\n",
    "from keras.preprocessing.text import Tokenizer\n",
    "import tensorflow as tf\n",
    "import numpy as np\n",
    "from keras_preprocessing import sequence\n",
    "from tensorflow.keras.datasets import imdb\n",
    "from tensorboard.plugins.hparams import api as hp\n",
    "from sklearn import metrics\n",
    "import tensorflow.keras.backend as K\n",
    "import os\n",
    "os.environ[\"CUDA_VISIBLE_DEVICES\"]=\"7\""
   ]
  },
  {
   "cell_type": "code",
   "execution_count": 51,
   "metadata": {},
   "outputs": [
    {
     "data": {
      "text/plain": [
       "21"
      ]
     },
     "execution_count": 51,
     "metadata": {},
     "output_type": "execute_result"
    }
   ],
   "source": [
    "avg_tweet_length = round(pd.Series([len(x) for x in df_train[\"tokens\"]]).mean())\n",
    "avg_tweet_length"
   ]
  },
  {
   "cell_type": "code",
   "execution_count": 52,
   "metadata": {},
   "outputs": [],
   "source": [
    "max_words = 5000\n",
    "max_len = avg_tweet_length # As recommended in Vinay's lecture"
   ]
  },
  {
   "cell_type": "code",
   "execution_count": 53,
   "metadata": {},
   "outputs": [],
   "source": [
    "le = LabelEncoder()\n",
    "\n",
    "# Training set\n",
    "X_train = df_train_hybrid[\"tweet_text\"]\n",
    "Y_train = df_train_hybrid[\"class_label\"]\n",
    "Y_train = le.fit_transform(Y_train)\n",
    "#Y_train = Y_train.reshape(-1,1)\n",
    "\n",
    "# Validation set\n",
    "X_val = df_val[\"tweet_text\"]\n",
    "Y_val = df_val[\"class_label\"]\n",
    "Y_val = le.fit_transform(Y_val)\n",
    "#Y_val = Y_val.reshape(-1,1)\n",
    "\n",
    "# Test set\n",
    "X_test = df_test[\"tweet_text\"]\n",
    "Y_test = df_test[\"class_label\"]\n",
    "Y_test = le.fit_transform(Y_test)\n",
    "#Y_test = Y_test.reshape(-1,1)\n",
    "\n",
    "tok = Tokenizer(num_words=max_words)\n",
    "\n",
    "tok.fit_on_texts(X_train)\n",
    "sequences = tok.texts_to_sequences(X_train)\n",
    "sequences_matrix = sequence.pad_sequences(sequences, maxlen=max_len)\n",
    "\n",
    "tok.fit_on_texts(X_val)\n",
    "sequences2 = tok.texts_to_sequences(X_val)\n",
    "sequences_matrix2 = sequence.pad_sequences(sequences2, maxlen=max_len)\n",
    "\n",
    "tok.fit_on_texts(X_test)\n",
    "sequences3 = tok.texts_to_sequences(X_test)\n",
    "sequences_matrix3 = sequence.pad_sequences(sequences2, maxlen=max_len)"
   ]
  },
  {
   "cell_type": "code",
   "execution_count": 54,
   "metadata": {},
   "outputs": [],
   "source": [
    "pad_id = 0\n",
    "start_id = 1\n",
    "oov_id = 2\n",
    "index_offset = 2\n",
    "\n",
    "idx2word = {k + index_offset: v for k, v in tok.index_word.items()}\n",
    "idx2word[pad_id] = '<PAD>'\n",
    "idx2word[start_id] = '<START>'\n",
    "idx2word[oov_id] = '<OOV>'\n",
    "\n",
    "word2idx = {v: k for k, v in idx2word.items()}"
   ]
  },
  {
   "cell_type": "code",
   "execution_count": 55,
   "metadata": {},
   "outputs": [],
   "source": [
    "X_train = np.array(sequences, dtype=object)\n",
    "X_val = np.array(sequences2, dtype=object)\n",
    "X_test = np.array(sequences3, dtype=object)"
   ]
  },
  {
   "cell_type": "code",
   "execution_count": 56,
   "metadata": {},
   "outputs": [],
   "source": [
    "rnn_cell_size = max_len\n",
    " \n",
    "X_train = sequence.pad_sequences(X_train,\n",
    "                                 maxlen=max_len,\n",
    "                                 truncating='post',\n",
    "                                 padding='post',\n",
    "                                 value=pad_id)\n",
    "                                 \n",
    "X_val = sequence.pad_sequences(X_val, maxlen=max_len,\n",
    "                                truncating='post',\n",
    "                                padding='post',\n",
    "                                value=pad_id)\n",
    "\n",
    "X_test = sequence.pad_sequences(X_test, maxlen=max_len,\n",
    "                                truncating='post',\n",
    "                                padding='post',\n",
    "                                value=pad_id)"
   ]
  },
  {
   "cell_type": "code",
   "execution_count": 57,
   "metadata": {},
   "outputs": [
    {
     "data": {
      "text/plain": [
       "\" land abide war abandon caution overall sentiment 94 announces hearts diverse ceos' financially precious silent amongst 👇and petition equal units <START>\""
      ]
     },
     "execution_count": 57,
     "metadata": {},
     "output_type": "execute_result"
    }
   ],
   "source": [
    "def convertIntToWord(sentence):\n",
    "    sentence_str = ''\n",
    "    for word in sentence:\n",
    "            sentence_str = sentence_str + ' ' + idx2word[word]\n",
    "    return sentence_str\n",
    "convertIntToWord(X_train[0])"
   ]
  },
  {
   "cell_type": "code",
   "execution_count": 58,
   "metadata": {},
   "outputs": [],
   "source": [
    "import os\n",
    "import numpy as np\n",
    "embeddings_index = {}\n",
    "embedding_size = 100\n",
    "GLOVE_DIR='data/'\n",
    "f = open(os.path.join(GLOVE_DIR, 'glove.twitter.27B.100d.txt'))\n",
    "for line in f:\n",
    "    values = line.split()\n",
    "    word = values[0]\n",
    "    coefs = np.asarray(values[1:], dtype='float32')\n",
    "    embeddings_index[word] = coefs\n",
    "f.close()"
   ]
  },
  {
   "cell_type": "code",
   "execution_count": 59,
   "metadata": {},
   "outputs": [],
   "source": [
    "words_not_fount = 0\n",
    "embedding_matrix = np.random.random((len(word2idx) + 1, embedding_size))\n",
    "for word, i in word2idx.items():\n",
    "    embedding_vector = embeddings_index.get(word)\n",
    "    if embedding_vector is not None:\n",
    "        # words not found in embedding index will be all-zeros.\n",
    "        embedding_matrix[i] = embedding_vector\n",
    "    else:\n",
    "        words_not_fount = words_not_fount + 1"
   ]
  },
  {
   "cell_type": "code",
   "execution_count": 60,
   "metadata": {},
   "outputs": [],
   "source": [
    "HP_NUM_UNITS = hp.HParam('num_units', hp.Discrete([25, 50, 100]))\n",
    "HP_BATCH_SIZE = hp.HParam('batch_size', hp.Discrete([64, 128, 256]))\n",
    "HP_DROPOUT = hp.HParam('dropout', hp.Discrete([0.1, 0.2, 0.3]))\n",
    "HP_LEARNING_RATE = hp.HParam('learning_rate', hp.Discrete([0.001, 0.003, 0.01, 0.03, 0.1]))\n",
    "HP_OPTIMIZER = hp.HParam('optimizer', hp.Discrete(['adam', 'rmsprop']))\n",
    "HP_EMBEDDING_LAYER = hp.HParam('embedding', hp.Discrete(['pretrained', 'from_scratch']))\n",
    "HP_ATTENTION = hp.HParam('attention', hp.Discrete(['yes', 'no']))\n",
    "#3 * 3 * 3 * 5 * 2 * 2"
   ]
  },
  {
   "cell_type": "code",
   "execution_count": 61,
   "metadata": {},
   "outputs": [],
   "source": [
    "METRIC_ACCURACY = 'accuracy'\n",
    "METRIC_F1_MAC = 'f1_macro' #f1 per class then averaged\n",
    "METRIC_F1_MIC = 'f1_micro' #global average of each inidvidual instances\n",
    "METRIC_PRECISION = 'precision'\n",
    "METRIC_RECALL = 'recall'\n",
    "METRIC_LOSS = 'loss'\n",
    "\n",
    "with tf.summary.create_file_writer('logs/hparam_tuning').as_default():\n",
    "    hp.hparams_config(\n",
    "        hparams=[HP_OPTIMIZER, HP_NUM_UNITS, HP_BATCH_SIZE, HP_DROPOUT, HP_LEARNING_RATE, HP_EMBEDDING_LAYER],\n",
    "        metrics=[hp.Metric(METRIC_ACCURACY, display_name='Accuracy'),\n",
    "                 hp.Metric(METRIC_F1_MIC, display_name='F1 Micro'),\n",
    "                 hp.Metric(METRIC_LOSS, display_name='Loss'),\n",
    "                 hp.Metric(METRIC_PRECISION, display_name='Precision'),\n",
    "                 hp.Metric(METRIC_RECALL, display_name='Recall')],\n",
    "      )"
   ]
  },
  {
   "cell_type": "code",
   "execution_count": 62,
   "metadata": {},
   "outputs": [],
   "source": [
    "def get_opt_algo(algo, learning_rate):\n",
    "    #Depending on the optimization algo specified create the algo object with specified learning rate\n",
    "    if algo == 'rmsprop':\n",
    "        opt_algo = tf.keras.optimizers.RMSprop(learning_rate)\n",
    "    elif algo == 'adam':\n",
    "        opt_algo = tf.keras.optimizers.Adam(learning_rate)\n",
    "    else:#For now it defaults to SGD\n",
    "        opt_algo = tf.keras.optimizers.SGD(learning_rate)\n",
    "    return opt_algo"
   ]
  },
  {
   "cell_type": "code",
   "execution_count": 63,
   "metadata": {},
   "outputs": [],
   "source": [
    "def getEmbeddingLayer(embedding):\n",
    "    if embedding == 'pretrained':\n",
    "        embedding_layer = tf.keras.layers.Embedding(len(word2idx) + 1,\n",
    "                            embedding_size,\n",
    "                            weights=[embedding_matrix],\n",
    "                            input_length=max_len,\n",
    "                            trainable=True)\n",
    "    else:\n",
    "        embedding_layer = tf.keras.layers.Embedding(max_words, embedding_size, \n",
    "                                            input_length=max_len, trainable=True)\n",
    "    return embedding_layer"
   ]
  },
  {
   "cell_type": "code",
   "execution_count": 64,
   "metadata": {},
   "outputs": [],
   "source": [
    "def get_f1(y_true, y_pred): #taken from old keras source code\n",
    "    true_positives = K.sum(K.round(K.clip(y_true * y_pred, 0, 1)))\n",
    "    possible_positives = K.sum(K.round(K.clip(y_true, 0, 1)))\n",
    "    predicted_positives = K.sum(K.round(K.clip(y_pred, 0, 1)))\n",
    "    precision = true_positives / (predicted_positives + K.epsilon())\n",
    "    recall = true_positives / (possible_positives + K.epsilon())\n",
    "    f1_val = 2*(precision*recall)/(precision+recall+K.epsilon())\n",
    "    return f1_val"
   ]
  },
  {
   "cell_type": "code",
   "execution_count": 65,
   "metadata": {},
   "outputs": [],
   "source": [
    "#Attention implementation borrowed from https://matthewmcateer.me/blog/getting-started-with-attention-for-classification/\n",
    "\n",
    "class Attention(tf.keras.Model):\n",
    "\tdef __init__(self, units):\n",
    "\t\tsuper(Attention, self).__init__()\n",
    "\t\tself.W1 = tf.keras.layers.Dense(units)\n",
    "\t\tself.W2 = tf.keras.layers.Dense(units)\n",
    "\t\tself.V = tf.keras.layers.Dense(1)\n",
    "\n",
    "\tdef call(self, features, hidden):\n",
    "\t\t# hidden shape == (batch_size, hidden size)\n",
    "\t\t# hidden_with_time_axis shape == (batch_size, 1, hidden size)\n",
    "\t\t# we are doing this to perform addition to calculate the score\n",
    "\t\thidden_with_time_axis = tf.expand_dims(hidden, 1)\n",
    "\t\t  \n",
    "\t\t# score shape == (batch_size, max_length, 1)\n",
    "\t\t# we get 1 at the last axis because we are applying score to self.V\n",
    "\t\t# the shape of the tensor before applying self.V is (batch_size, max_length, units)\n",
    "\t\tscore = tf.nn.tanh(\n",
    "\t\t\tself.W1(features) + self.W2(hidden_with_time_axis))\n",
    "\t\t# attention_weights shape == (batch_size, max_length, 1)\n",
    "\t\tattention_weights = tf.nn.softmax(self.V(score), axis=1)\n",
    "\t\t  \n",
    "\t\t# context_vector shape after sum == (batch_size, hidden_size)\n",
    "\t\tcontext_vector = attention_weights * features\n",
    "\t\tcontext_vector = tf.reduce_sum(context_vector, axis=1)\n",
    "\t\treturn context_vector, attention_weights"
   ]
  },
  {
   "cell_type": "code",
   "execution_count": 66,
   "metadata": {},
   "outputs": [],
   "source": [
    "def train_and_test_model(hparams):\n",
    "    sequence_input = tf.keras.layers.Input(shape=(max_len,), dtype='int32')\n",
    "    embedding_layer = getEmbeddingLayer(hparams[HP_EMBEDDING_LAYER])(sequence_input)\n",
    "    lstm = tf.keras.layers.Bidirectional(tf.keras.layers.LSTM(units=hparams[HP_NUM_UNITS], \n",
    "                                            return_sequences = True), name=\"bi_lstm_0\")(embedding_layer)\n",
    "    ret_sequences = False\n",
    "    if hparams[HP_ATTENTION] == 'yes':\n",
    "        ret_sequences = True\n",
    "    lstm, forward_h, forward_c, backward_h, backward_c = tf.keras.layers.Bidirectional \\\n",
    "                                                            (tf.keras.layers.LSTM\n",
    "                                                             (units=hparams[HP_NUM_UNITS],\n",
    "                                                              dropout=hparams[HP_DROPOUT],\n",
    "                                                              activation='tanh',\n",
    "                                                              return_sequences=ret_sequences,\n",
    "                                                              return_state=True))(lstm)\n",
    "    state_h = tf.keras.layers.Concatenate()([forward_h, backward_h])\n",
    "    if hparams[HP_ATTENTION] == 'yes':\n",
    "        context_vector, attention_weights = Attention(10)(lstm, state_h)\n",
    "        output = tf.keras.layers.Dense(units=1, activation='sigmoid')(context_vector)\n",
    "    else:\n",
    "        output = tf.keras.layers.Dense(units=1, activation='sigmoid')(lstm)\n",
    "    opt_algo = get_opt_algo(hparams[HP_OPTIMIZER], hparams[HP_LEARNING_RATE])\n",
    "    model = tf.keras.Model(inputs=sequence_input, outputs=output)\n",
    "    \n",
    "    model.compile(optimizer=opt_algo, loss='binary_crossentropy',\n",
    "                  metrics=['accuracy', \n",
    "                           tf.keras.metrics.Precision(),\n",
    "                           tf.keras.metrics.Recall(), \n",
    "                           get_f1])\n",
    "    model.fit(X_train[:100], Y_train[:100], epochs=3, batch_size = hparams[HP_BATCH_SIZE])\n",
    "\n",
    "    return model"
   ]
  },
  {
   "cell_type": "code",
   "execution_count": 67,
   "metadata": {},
   "outputs": [],
   "source": [
    "def run(run_dir, hparams):\n",
    "    with tf.summary.create_file_writer(run_dir).as_default():\n",
    "        hp.hparams(hparams)  # record the values used in this trial\n",
    "        loss, accuracy, prec, recall, f1 = train_and_test_model(hparams)\n",
    "        tf.summary.scalar(METRIC_ACCURACY, accuracy, step=1)\n",
    "        tf.summary.scalar(METRIC_LOSS, loss, step=1)\n",
    "        tf.summary.scalar(METRIC_F1_MAC, f1, step=1)\n",
    "        tf.summary.scalar(METRIC_PRECISION, prec, step=1)\n",
    "        tf.summary.scalar(METRIC_RECALL, recall, step=1)"
   ]
  },
  {
   "cell_type": "code",
   "execution_count": 69,
   "metadata": {},
   "outputs": [
    {
     "name": "stdout",
     "output_type": "stream",
     "text": [
      "Epoch 1/3\n"
     ]
    },
    {
     "name": "stderr",
     "output_type": "stream",
     "text": [
      "2022-05-16 00:44:27.239428: I tensorflow/core/grappler/optimizers/custom_graph_optimizer_registry.cc:113] Plugin optimizer for device_type GPU is enabled.\n",
      "2022-05-16 00:44:28.347846: I tensorflow/core/grappler/optimizers/custom_graph_optimizer_registry.cc:113] Plugin optimizer for device_type GPU is enabled.\n",
      "2022-05-16 00:44:28.361546: I tensorflow/core/grappler/optimizers/custom_graph_optimizer_registry.cc:113] Plugin optimizer for device_type GPU is enabled.\n",
      "2022-05-16 00:44:28.534857: I tensorflow/core/grappler/optimizers/custom_graph_optimizer_registry.cc:113] Plugin optimizer for device_type GPU is enabled.\n",
      "2022-05-16 00:44:28.546401: I tensorflow/core/grappler/optimizers/custom_graph_optimizer_registry.cc:113] Plugin optimizer for device_type GPU is enabled.\n",
      "2022-05-16 00:44:28.893361: I tensorflow/core/grappler/optimizers/custom_graph_optimizer_registry.cc:113] Plugin optimizer for device_type GPU is enabled.\n",
      "2022-05-16 00:44:28.910719: I tensorflow/core/grappler/optimizers/custom_graph_optimizer_registry.cc:113] Plugin optimizer for device_type GPU is enabled.\n",
      "2022-05-16 00:44:29.188027: I tensorflow/core/grappler/optimizers/custom_graph_optimizer_registry.cc:113] Plugin optimizer for device_type GPU is enabled.\n",
      "2022-05-16 00:44:29.210987: I tensorflow/core/grappler/optimizers/custom_graph_optimizer_registry.cc:113] Plugin optimizer for device_type GPU is enabled.\n"
     ]
    },
    {
     "name": "stdout",
     "output_type": "stream",
     "text": [
      "2/2 [==============================] - 6s 414ms/step - loss: 0.5290 - accuracy: 0.6700 - precision: 0.0000e+00 - recall: 0.0000e+00 - get_f1: 0.0000e+00\n",
      "Epoch 2/3\n",
      "2/2 [==============================] - 0s 54ms/step - loss: 4.8079e-04 - accuracy: 1.0000 - precision: 0.0000e+00 - recall: 0.0000e+00 - get_f1: 0.0000e+00\n",
      "Epoch 3/3\n",
      "2/2 [==============================] - 0s 59ms/step - loss: 2.0722e-04 - accuracy: 1.0000 - precision: 0.0000e+00 - recall: 0.0000e+00 - get_f1: 0.0000e+00\n"
     ]
    }
   ],
   "source": [
    "# Specific parameters for 1 model\n",
    "hparams = {\n",
    "    HP_NUM_UNITS: HP_NUM_UNITS.domain.values[1],\n",
    "    HP_DROPOUT: HP_DROPOUT.domain.values[1],\n",
    "    HP_OPTIMIZER: HP_OPTIMIZER.domain.values[1],\n",
    "    HP_EMBEDDING_LAYER: HP_EMBEDDING_LAYER.domain.values[0],\n",
    "    HP_LEARNING_RATE: HP_LEARNING_RATE.domain.values[2],\n",
    "    HP_BATCH_SIZE: HP_BATCH_SIZE.domain.values[0],\n",
    "    HP_ATTENTION: HP_ATTENTION.domain.values[0]\n",
    "    }\n",
    "\n",
    "model = train_and_test_model(hparams)"
   ]
  },
  {
   "cell_type": "markdown",
   "metadata": {},
   "source": [
    "## (Validation) Prediction"
   ]
  },
  {
   "cell_type": "code",
   "execution_count": 70,
   "metadata": {},
   "outputs": [
    {
     "name": "stderr",
     "output_type": "stream",
     "text": [
      "2022-05-16 00:45:04.759863: I tensorflow/core/grappler/optimizers/custom_graph_optimizer_registry.cc:113] Plugin optimizer for device_type GPU is enabled.\n",
      "2022-05-16 00:45:05.042757: I tensorflow/core/grappler/optimizers/custom_graph_optimizer_registry.cc:113] Plugin optimizer for device_type GPU is enabled.\n",
      "2022-05-16 00:45:05.051853: I tensorflow/core/grappler/optimizers/custom_graph_optimizer_registry.cc:113] Plugin optimizer for device_type GPU is enabled.\n",
      "2022-05-16 00:45:05.134199: I tensorflow/core/grappler/optimizers/custom_graph_optimizer_registry.cc:113] Plugin optimizer for device_type GPU is enabled.\n",
      "2022-05-16 00:45:05.142458: I tensorflow/core/grappler/optimizers/custom_graph_optimizer_registry.cc:113] Plugin optimizer for device_type GPU is enabled.\n"
     ]
    },
    {
     "name": "stdout",
     "output_type": "stream",
     "text": [
      "7/7 [==============================] - 4s 75ms/step - loss: 1.9748 - accuracy: 0.7744 - precision: 0.0000e+00 - recall: 0.0000e+00 - get_f1: 0.0000e+00\n"
     ]
    },
    {
     "data": {
      "text/plain": [
       "[1.974810242652893, 0.7743589878082275, 0.0, 0.0, 0.0]"
      ]
     },
     "execution_count": 70,
     "metadata": {},
     "output_type": "execute_result"
    }
   ],
   "source": [
    "model.evaluate(X_val, Y_val)"
   ]
  },
  {
   "cell_type": "markdown",
   "metadata": {},
   "source": [
    "## (Test) Prediction"
   ]
  },
  {
   "cell_type": "code",
   "execution_count": 71,
   "metadata": {},
   "outputs": [
    {
     "name": "stdout",
     "output_type": "stream",
     "text": [
      "18/18 [==============================] - 1s 35ms/step - loss: 1.9676 - accuracy: 0.7753 - precision: 0.0000e+00 - recall: 0.0000e+00 - get_f1: 0.0000e+00\n"
     ]
    },
    {
     "data": {
      "text/plain": [
       "[1.9676038026809692, 0.7752613425254822, 0.0, 0.0, 0.0]"
      ]
     },
     "execution_count": 71,
     "metadata": {},
     "output_type": "execute_result"
    }
   ],
   "source": [
    "model.evaluate(X_test, Y_test)"
   ]
  },
  {
   "cell_type": "markdown",
   "metadata": {},
   "source": [
    "<br><br><br>\n",
    "\n",
    "<hr>\n",
    "\n",
    "# Failed attempt at hyper-parameter tuning"
   ]
  },
  {
   "cell_type": "markdown",
   "metadata": {},
   "source": [
    "I think I failed somewhere in the preperation of texts when trying to properly convert words to integers <br>\n",
    "All the different combination results in an f1-score of 0"
   ]
  },
  {
   "cell_type": "code",
   "execution_count": 72,
   "metadata": {},
   "outputs": [],
   "source": [
    "def train_and_test_model(hparams):\n",
    "    sequence_input = tf.keras.layers.Input(shape=(max_len,), dtype='int32')\n",
    "    embedding_layer = getEmbeddingLayer(hparams[HP_EMBEDDING_LAYER])(sequence_input)\n",
    "    lstm = tf.keras.layers.Bidirectional(tf.keras.layers.LSTM(units=hparams[HP_NUM_UNITS], \n",
    "                                            return_sequences = True), name=\"bi_lstm_0\")(embedding_layer)\n",
    "    ret_sequences = False\n",
    "    if hparams[HP_ATTENTION] == 'yes':\n",
    "        ret_sequences = True\n",
    "    lstm, forward_h, forward_c, backward_h, backward_c = tf.keras.layers.Bidirectional \\\n",
    "                                                            (tf.keras.layers.LSTM\n",
    "                                                             (units=hparams[HP_NUM_UNITS],\n",
    "                                                              dropout=hparams[HP_DROPOUT],\n",
    "                                                              activation='tanh',\n",
    "                                                              return_sequences=ret_sequences,\n",
    "                                                              return_state=True))(lstm)\n",
    "    state_h = tf.keras.layers.Concatenate()([forward_h, backward_h])\n",
    "    if hparams[HP_ATTENTION] == 'yes':\n",
    "        context_vector, attention_weights = Attention(10)(lstm, state_h)\n",
    "        output = tf.keras.layers.Dense(units=1, activation='sigmoid')(context_vector)\n",
    "    else:\n",
    "        output = tf.keras.layers.Dense(units=1, activation='sigmoid')(lstm)\n",
    "    opt_algo = get_opt_algo(hparams[HP_OPTIMIZER], hparams[HP_LEARNING_RATE])\n",
    "    model = tf.keras.Model(inputs=sequence_input, outputs=output)\n",
    "    \n",
    "    model.compile(optimizer=opt_algo, loss='binary_crossentropy',\n",
    "                  metrics=['accuracy', \n",
    "                           tf.keras.metrics.Precision(),\n",
    "                           tf.keras.metrics.Recall(), \n",
    "                           get_f1])\n",
    "    model.fit(X_train[:100], Y_train[:100], epochs=3, batch_size = hparams[HP_BATCH_SIZE])\n",
    "    \n",
    "    loss, accuracy, prec, recall, f1 = model.evaluate(X_val, Y_val)\n",
    "    return loss, accuracy, prec, recall, f1"
   ]
  },
  {
   "cell_type": "code",
   "execution_count": 171,
   "metadata": {},
   "outputs": [
    {
     "name": "stdout",
     "output_type": "stream",
     "text": [
      "--- Starting trial: run-0\n",
      "{'num_units': 25, 'dropout': 0.1, 'optimizer': 'adam', 'embedding': 'from_scratch', 'learning_rate': 0.001, 'batch_size': 64, 'attention': 'no'}\n",
      "Epoch 1/3\n"
     ]
    },
    {
     "name": "stderr",
     "output_type": "stream",
     "text": [
      "2022-05-15 17:23:56.974404: I tensorflow/core/grappler/optimizers/custom_graph_optimizer_registry.cc:113] Plugin optimizer for device_type GPU is enabled.\n",
      "2022-05-15 17:23:57.562526: I tensorflow/core/grappler/optimizers/custom_graph_optimizer_registry.cc:113] Plugin optimizer for device_type GPU is enabled.\n",
      "2022-05-15 17:23:57.583634: I tensorflow/core/grappler/optimizers/custom_graph_optimizer_registry.cc:113] Plugin optimizer for device_type GPU is enabled.\n",
      "2022-05-15 17:23:57.694978: I tensorflow/core/grappler/optimizers/custom_graph_optimizer_registry.cc:113] Plugin optimizer for device_type GPU is enabled.\n",
      "2022-05-15 17:23:57.705821: I tensorflow/core/grappler/optimizers/custom_graph_optimizer_registry.cc:113] Plugin optimizer for device_type GPU is enabled.\n",
      "2022-05-15 17:23:57.909999: I tensorflow/core/grappler/optimizers/custom_graph_optimizer_registry.cc:113] Plugin optimizer for device_type GPU is enabled.\n",
      "2022-05-15 17:23:57.928221: I tensorflow/core/grappler/optimizers/custom_graph_optimizer_registry.cc:113] Plugin optimizer for device_type GPU is enabled.\n",
      "2022-05-15 17:23:58.127111: I tensorflow/core/grappler/optimizers/custom_graph_optimizer_registry.cc:113] Plugin optimizer for device_type GPU is enabled.\n",
      "2022-05-15 17:23:58.150580: I tensorflow/core/grappler/optimizers/custom_graph_optimizer_registry.cc:113] Plugin optimizer for device_type GPU is enabled.\n"
     ]
    },
    {
     "name": "stdout",
     "output_type": "stream",
     "text": [
      "2/2 [==============================] - 5s 438ms/step - loss: 0.6878 - accuracy: 0.7700 - precision_9: 0.0000e+00 - recall_9: 0.0000e+00 - get_f1: 0.0000e+00\n",
      "Epoch 2/3\n",
      "2/2 [==============================] - 0s 91ms/step - loss: 0.6602 - accuracy: 1.0000 - precision_9: 0.0000e+00 - recall_9: 0.0000e+00 - get_f1: 0.0000e+00\n",
      "Epoch 3/3\n",
      "2/2 [==============================] - 0s 79ms/step - loss: 0.6271 - accuracy: 1.0000 - precision_9: 0.0000e+00 - recall_9: 0.0000e+00 - get_f1: 0.0000e+00\n"
     ]
    },
    {
     "name": "stderr",
     "output_type": "stream",
     "text": [
      "2022-05-15 17:23:59.780934: I tensorflow/core/grappler/optimizers/custom_graph_optimizer_registry.cc:113] Plugin optimizer for device_type GPU is enabled.\n",
      "2022-05-15 17:24:00.032101: I tensorflow/core/grappler/optimizers/custom_graph_optimizer_registry.cc:113] Plugin optimizer for device_type GPU is enabled.\n",
      "2022-05-15 17:24:00.041979: I tensorflow/core/grappler/optimizers/custom_graph_optimizer_registry.cc:113] Plugin optimizer for device_type GPU is enabled.\n",
      "2022-05-15 17:24:00.140192: I tensorflow/core/grappler/optimizers/custom_graph_optimizer_registry.cc:113] Plugin optimizer for device_type GPU is enabled.\n",
      "2022-05-15 17:24:00.148702: I tensorflow/core/grappler/optimizers/custom_graph_optimizer_registry.cc:113] Plugin optimizer for device_type GPU is enabled.\n"
     ]
    },
    {
     "name": "stdout",
     "output_type": "stream",
     "text": [
      "7/7 [==============================] - 1s 55ms/step - loss: 0.6449 - accuracy: 0.7744 - precision_9: 0.0000e+00 - recall_9: 0.0000e+00 - get_f1: 0.0000e+00\n",
      "--- Starting trial: run-1\n",
      "{'num_units': 25, 'dropout': 0.1, 'optimizer': 'adam', 'embedding': 'from_scratch', 'learning_rate': 0.001, 'batch_size': 64, 'attention': 'yes'}\n",
      "Epoch 1/3\n"
     ]
    },
    {
     "name": "stderr",
     "output_type": "stream",
     "text": [
      "2022-05-15 17:24:04.956785: I tensorflow/core/grappler/optimizers/custom_graph_optimizer_registry.cc:113] Plugin optimizer for device_type GPU is enabled.\n",
      "2022-05-15 17:24:05.606972: I tensorflow/core/grappler/optimizers/custom_graph_optimizer_registry.cc:113] Plugin optimizer for device_type GPU is enabled.\n",
      "2022-05-15 17:24:05.628873: I tensorflow/core/grappler/optimizers/custom_graph_optimizer_registry.cc:113] Plugin optimizer for device_type GPU is enabled.\n",
      "2022-05-15 17:24:05.744279: I tensorflow/core/grappler/optimizers/custom_graph_optimizer_registry.cc:113] Plugin optimizer for device_type GPU is enabled.\n",
      "2022-05-15 17:24:05.756030: I tensorflow/core/grappler/optimizers/custom_graph_optimizer_registry.cc:113] Plugin optimizer for device_type GPU is enabled.\n",
      "2022-05-15 17:24:06.069673: I tensorflow/core/grappler/optimizers/custom_graph_optimizer_registry.cc:113] Plugin optimizer for device_type GPU is enabled.\n",
      "2022-05-15 17:24:06.071503: I tensorflow/core/grappler/optimizers/custom_graph_optimizer_registry.cc:113] Plugin optimizer for device_type GPU is enabled.\n",
      "2022-05-15 17:24:06.240463: I tensorflow/core/grappler/optimizers/custom_graph_optimizer_registry.cc:113] Plugin optimizer for device_type GPU is enabled.\n",
      "2022-05-15 17:24:06.256306: I tensorflow/core/grappler/optimizers/custom_graph_optimizer_registry.cc:113] Plugin optimizer for device_type GPU is enabled.\n"
     ]
    },
    {
     "name": "stdout",
     "output_type": "stream",
     "text": [
      "2/2 [==============================] - 6s 456ms/step - loss: 0.6905 - accuracy: 0.5800 - precision_10: 0.0000e+00 - recall_10: 0.0000e+00 - get_f1: 0.0000e+00\n",
      "Epoch 2/3\n",
      "2/2 [==============================] - 0s 99ms/step - loss: 0.6690 - accuracy: 1.0000 - precision_10: 0.0000e+00 - recall_10: 0.0000e+00 - get_f1: 0.0000e+00\n",
      "Epoch 3/3\n",
      "2/2 [==============================] - 0s 92ms/step - loss: 0.6438 - accuracy: 1.0000 - precision_10: 0.0000e+00 - recall_10: 0.0000e+00 - get_f1: 0.0000e+00\n"
     ]
    },
    {
     "name": "stderr",
     "output_type": "stream",
     "text": [
      "2022-05-15 17:24:08.031971: I tensorflow/core/grappler/optimizers/custom_graph_optimizer_registry.cc:113] Plugin optimizer for device_type GPU is enabled.\n",
      "2022-05-15 17:24:08.308622: I tensorflow/core/grappler/optimizers/custom_graph_optimizer_registry.cc:113] Plugin optimizer for device_type GPU is enabled.\n",
      "2022-05-15 17:24:08.316051: I tensorflow/core/grappler/optimizers/custom_graph_optimizer_registry.cc:113] Plugin optimizer for device_type GPU is enabled.\n",
      "2022-05-15 17:24:08.406022: I tensorflow/core/grappler/optimizers/custom_graph_optimizer_registry.cc:113] Plugin optimizer for device_type GPU is enabled.\n",
      "2022-05-15 17:24:08.413686: I tensorflow/core/grappler/optimizers/custom_graph_optimizer_registry.cc:113] Plugin optimizer for device_type GPU is enabled.\n"
     ]
    },
    {
     "name": "stdout",
     "output_type": "stream",
     "text": [
      "7/7 [==============================] - 2s 85ms/step - loss: 0.6554 - accuracy: 0.7744 - precision_10: 0.0000e+00 - recall_10: 0.0000e+00 - get_f1: 0.0000e+00\n",
      "--- Starting trial: run-2\n",
      "{'num_units': 25, 'dropout': 0.1, 'optimizer': 'adam', 'embedding': 'pretrained', 'learning_rate': 0.001, 'batch_size': 64, 'attention': 'no'}\n",
      "Epoch 1/3\n"
     ]
    },
    {
     "name": "stderr",
     "output_type": "stream",
     "text": [
      "2022-05-15 17:24:13.741409: I tensorflow/core/grappler/optimizers/custom_graph_optimizer_registry.cc:113] Plugin optimizer for device_type GPU is enabled.\n",
      "2022-05-15 17:24:14.325422: I tensorflow/core/grappler/optimizers/custom_graph_optimizer_registry.cc:113] Plugin optimizer for device_type GPU is enabled.\n",
      "2022-05-15 17:24:14.380690: I tensorflow/core/grappler/optimizers/custom_graph_optimizer_registry.cc:113] Plugin optimizer for device_type GPU is enabled.\n",
      "2022-05-15 17:24:14.507459: I tensorflow/core/grappler/optimizers/custom_graph_optimizer_registry.cc:113] Plugin optimizer for device_type GPU is enabled.\n",
      "2022-05-15 17:24:14.517611: I tensorflow/core/grappler/optimizers/custom_graph_optimizer_registry.cc:113] Plugin optimizer for device_type GPU is enabled.\n",
      "2022-05-15 17:24:14.767183: I tensorflow/core/grappler/optimizers/custom_graph_optimizer_registry.cc:113] Plugin optimizer for device_type GPU is enabled.\n",
      "2022-05-15 17:24:14.785030: I tensorflow/core/grappler/optimizers/custom_graph_optimizer_registry.cc:113] Plugin optimizer for device_type GPU is enabled.\n",
      "2022-05-15 17:24:14.978770: I tensorflow/core/grappler/optimizers/custom_graph_optimizer_registry.cc:113] Plugin optimizer for device_type GPU is enabled.\n",
      "2022-05-15 17:24:14.998497: I tensorflow/core/grappler/optimizers/custom_graph_optimizer_registry.cc:113] Plugin optimizer for device_type GPU is enabled.\n"
     ]
    },
    {
     "name": "stdout",
     "output_type": "stream",
     "text": [
      "2/2 [==============================] - 6s 419ms/step - loss: 0.6430 - accuracy: 0.7800 - precision_11: 0.0000e+00 - recall_11: 0.0000e+00 - get_f1: 0.0000e+00\n",
      "Epoch 2/3\n",
      "2/2 [==============================] - 0s 111ms/step - loss: 0.4903 - accuracy: 1.0000 - precision_11: 0.0000e+00 - recall_11: 0.0000e+00 - get_f1: 0.0000e+00\n",
      "Epoch 3/3\n",
      "2/2 [==============================] - 0s 93ms/step - loss: 0.3637 - accuracy: 1.0000 - precision_11: 0.0000e+00 - recall_11: 0.0000e+00 - get_f1: 0.0000e+00\n"
     ]
    },
    {
     "name": "stderr",
     "output_type": "stream",
     "text": [
      "2022-05-15 17:24:17.748790: I tensorflow/core/grappler/optimizers/custom_graph_optimizer_registry.cc:113] Plugin optimizer for device_type GPU is enabled.\n",
      "2022-05-15 17:24:18.011016: I tensorflow/core/grappler/optimizers/custom_graph_optimizer_registry.cc:113] Plugin optimizer for device_type GPU is enabled.\n",
      "2022-05-15 17:24:18.020929: I tensorflow/core/grappler/optimizers/custom_graph_optimizer_registry.cc:113] Plugin optimizer for device_type GPU is enabled.\n",
      "2022-05-15 17:24:18.117116: I tensorflow/core/grappler/optimizers/custom_graph_optimizer_registry.cc:113] Plugin optimizer for device_type GPU is enabled.\n",
      "2022-05-15 17:24:18.125413: I tensorflow/core/grappler/optimizers/custom_graph_optimizer_registry.cc:113] Plugin optimizer for device_type GPU is enabled.\n"
     ]
    },
    {
     "name": "stdout",
     "output_type": "stream",
     "text": [
      "7/7 [==============================] - 3s 74ms/step - loss: 0.5313 - accuracy: 0.7744 - precision_11: 0.0000e+00 - recall_11: 0.0000e+00 - get_f1: 0.0000e+00\n",
      "--- Starting trial: run-3\n",
      "{'num_units': 25, 'dropout': 0.1, 'optimizer': 'adam', 'embedding': 'pretrained', 'learning_rate': 0.001, 'batch_size': 64, 'attention': 'yes'}\n",
      "Epoch 1/3\n"
     ]
    },
    {
     "name": "stderr",
     "output_type": "stream",
     "text": [
      "2022-05-15 17:24:23.248322: I tensorflow/core/grappler/optimizers/custom_graph_optimizer_registry.cc:113] Plugin optimizer for device_type GPU is enabled.\n",
      "2022-05-15 17:24:23.924716: I tensorflow/core/grappler/optimizers/custom_graph_optimizer_registry.cc:113] Plugin optimizer for device_type GPU is enabled.\n",
      "2022-05-15 17:24:23.948350: I tensorflow/core/grappler/optimizers/custom_graph_optimizer_registry.cc:113] Plugin optimizer for device_type GPU is enabled.\n",
      "2022-05-15 17:24:24.081439: I tensorflow/core/grappler/optimizers/custom_graph_optimizer_registry.cc:113] Plugin optimizer for device_type GPU is enabled.\n",
      "2022-05-15 17:24:24.092983: I tensorflow/core/grappler/optimizers/custom_graph_optimizer_registry.cc:113] Plugin optimizer for device_type GPU is enabled.\n",
      "2022-05-15 17:24:24.360072: I tensorflow/core/grappler/optimizers/custom_graph_optimizer_registry.cc:113] Plugin optimizer for device_type GPU is enabled.\n",
      "2022-05-15 17:24:24.360221: I tensorflow/core/grappler/optimizers/custom_graph_optimizer_registry.cc:113] Plugin optimizer for device_type GPU is enabled.\n",
      "2022-05-15 17:24:24.551899: I tensorflow/core/grappler/optimizers/custom_graph_optimizer_registry.cc:113] Plugin optimizer for device_type GPU is enabled.\n",
      "2022-05-15 17:24:24.572157: I tensorflow/core/grappler/optimizers/custom_graph_optimizer_registry.cc:113] Plugin optimizer for device_type GPU is enabled.\n"
     ]
    },
    {
     "name": "stdout",
     "output_type": "stream",
     "text": [
      "2/2 [==============================] - 6s 526ms/step - loss: 0.6214 - accuracy: 0.9800 - precision_12: 0.0000e+00 - recall_12: 0.0000e+00 - get_f1: 0.0000e+00\n",
      "Epoch 2/3\n",
      "2/2 [==============================] - 0s 117ms/step - loss: 0.4959 - accuracy: 1.0000 - precision_12: 0.0000e+00 - recall_12: 0.0000e+00 - get_f1: 0.0000e+00\n",
      "Epoch 3/3\n",
      "2/2 [==============================] - 0s 98ms/step - loss: 0.3897 - accuracy: 1.0000 - precision_12: 0.0000e+00 - recall_12: 0.0000e+00 - get_f1: 0.0000e+00\n"
     ]
    },
    {
     "name": "stderr",
     "output_type": "stream",
     "text": [
      "2022-05-15 17:24:26.584108: I tensorflow/core/grappler/optimizers/custom_graph_optimizer_registry.cc:113] Plugin optimizer for device_type GPU is enabled.\n",
      "2022-05-15 17:24:26.863901: I tensorflow/core/grappler/optimizers/custom_graph_optimizer_registry.cc:113] Plugin optimizer for device_type GPU is enabled.\n",
      "2022-05-15 17:24:26.871587: I tensorflow/core/grappler/optimizers/custom_graph_optimizer_registry.cc:113] Plugin optimizer for device_type GPU is enabled.\n",
      "2022-05-15 17:24:26.981858: I tensorflow/core/grappler/optimizers/custom_graph_optimizer_registry.cc:113] Plugin optimizer for device_type GPU is enabled.\n",
      "2022-05-15 17:24:26.989638: I tensorflow/core/grappler/optimizers/custom_graph_optimizer_registry.cc:113] Plugin optimizer for device_type GPU is enabled.\n"
     ]
    },
    {
     "name": "stdout",
     "output_type": "stream",
     "text": [
      "7/7 [==============================] - 2s 78ms/step - loss: 0.5363 - accuracy: 0.7744 - precision_12: 0.0000e+00 - recall_12: 0.0000e+00 - get_f1: 0.0000e+00\n",
      "--- Starting trial: run-4\n",
      "{'num_units': 25, 'dropout': 0.1, 'optimizer': 'adam', 'embedding': 'from_scratch', 'learning_rate': 0.003, 'batch_size': 64, 'attention': 'no'}\n",
      "Epoch 1/3\n"
     ]
    },
    {
     "name": "stderr",
     "output_type": "stream",
     "text": [
      "2022-05-15 17:24:31.870082: I tensorflow/core/grappler/optimizers/custom_graph_optimizer_registry.cc:113] Plugin optimizer for device_type GPU is enabled.\n",
      "2022-05-15 17:24:32.462791: I tensorflow/core/grappler/optimizers/custom_graph_optimizer_registry.cc:113] Plugin optimizer for device_type GPU is enabled.\n",
      "2022-05-15 17:24:32.494458: I tensorflow/core/grappler/optimizers/custom_graph_optimizer_registry.cc:113] Plugin optimizer for device_type GPU is enabled.\n",
      "2022-05-15 17:24:32.618257: I tensorflow/core/grappler/optimizers/custom_graph_optimizer_registry.cc:113] Plugin optimizer for device_type GPU is enabled.\n",
      "2022-05-15 17:24:32.628350: I tensorflow/core/grappler/optimizers/custom_graph_optimizer_registry.cc:113] Plugin optimizer for device_type GPU is enabled.\n",
      "2022-05-15 17:24:32.885402: I tensorflow/core/grappler/optimizers/custom_graph_optimizer_registry.cc:113] Plugin optimizer for device_type GPU is enabled.\n",
      "2022-05-15 17:24:32.903451: I tensorflow/core/grappler/optimizers/custom_graph_optimizer_registry.cc:113] Plugin optimizer for device_type GPU is enabled.\n",
      "2022-05-15 17:24:33.124119: I tensorflow/core/grappler/optimizers/custom_graph_optimizer_registry.cc:113] Plugin optimizer for device_type GPU is enabled.\n",
      "2022-05-15 17:24:33.147249: I tensorflow/core/grappler/optimizers/custom_graph_optimizer_registry.cc:113] Plugin optimizer for device_type GPU is enabled.\n"
     ]
    },
    {
     "name": "stdout",
     "output_type": "stream",
     "text": [
      "2/2 [==============================] - 6s 554ms/step - loss: 0.6796 - accuracy: 0.6900 - precision_13: 0.0000e+00 - recall_13: 0.0000e+00 - get_f1: 0.0000e+00\n",
      "Epoch 2/3\n",
      "2/2 [==============================] - 0s 89ms/step - loss: 0.5736 - accuracy: 1.0000 - precision_13: 0.0000e+00 - recall_13: 0.0000e+00 - get_f1: 0.0000e+00\n",
      "Epoch 3/3\n",
      "2/2 [==============================] - 0s 95ms/step - loss: 0.3807 - accuracy: 1.0000 - precision_13: 0.0000e+00 - recall_13: 0.0000e+00 - get_f1: 0.0000e+00\n"
     ]
    },
    {
     "name": "stderr",
     "output_type": "stream",
     "text": [
      "2022-05-15 17:24:34.981152: I tensorflow/core/grappler/optimizers/custom_graph_optimizer_registry.cc:113] Plugin optimizer for device_type GPU is enabled.\n",
      "2022-05-15 17:24:35.221299: I tensorflow/core/grappler/optimizers/custom_graph_optimizer_registry.cc:113] Plugin optimizer for device_type GPU is enabled.\n",
      "2022-05-15 17:24:35.229332: I tensorflow/core/grappler/optimizers/custom_graph_optimizer_registry.cc:113] Plugin optimizer for device_type GPU is enabled.\n",
      "2022-05-15 17:24:35.331090: I tensorflow/core/grappler/optimizers/custom_graph_optimizer_registry.cc:113] Plugin optimizer for device_type GPU is enabled.\n",
      "2022-05-15 17:24:35.339514: I tensorflow/core/grappler/optimizers/custom_graph_optimizer_registry.cc:113] Plugin optimizer for device_type GPU is enabled.\n"
     ]
    },
    {
     "name": "stdout",
     "output_type": "stream",
     "text": [
      "7/7 [==============================] - 2s 77ms/step - loss: 0.5351 - accuracy: 0.7744 - precision_13: 0.0000e+00 - recall_13: 0.0000e+00 - get_f1: 0.0000e+00\n",
      "--- Starting trial: run-5\n",
      "{'num_units': 25, 'dropout': 0.1, 'optimizer': 'adam', 'embedding': 'from_scratch', 'learning_rate': 0.003, 'batch_size': 64, 'attention': 'yes'}\n",
      "Epoch 1/3\n"
     ]
    },
    {
     "name": "stderr",
     "output_type": "stream",
     "text": [
      "2022-05-15 17:24:40.261278: I tensorflow/core/grappler/optimizers/custom_graph_optimizer_registry.cc:113] Plugin optimizer for device_type GPU is enabled.\n",
      "2022-05-15 17:24:40.963373: I tensorflow/core/grappler/optimizers/custom_graph_optimizer_registry.cc:113] Plugin optimizer for device_type GPU is enabled.\n",
      "2022-05-15 17:24:40.977317: I tensorflow/core/grappler/optimizers/custom_graph_optimizer_registry.cc:113] Plugin optimizer for device_type GPU is enabled.\n",
      "2022-05-15 17:24:41.104099: I tensorflow/core/grappler/optimizers/custom_graph_optimizer_registry.cc:113] Plugin optimizer for device_type GPU is enabled.\n",
      "2022-05-15 17:24:41.113986: I tensorflow/core/grappler/optimizers/custom_graph_optimizer_registry.cc:113] Plugin optimizer for device_type GPU is enabled.\n",
      "2022-05-15 17:24:41.522411: I tensorflow/core/grappler/optimizers/custom_graph_optimizer_registry.cc:113] Plugin optimizer for device_type GPU is enabled.\n",
      "2022-05-15 17:24:41.522565: I tensorflow/core/grappler/optimizers/custom_graph_optimizer_registry.cc:113] Plugin optimizer for device_type GPU is enabled.\n",
      "2022-05-15 17:24:41.777819: I tensorflow/core/grappler/optimizers/custom_graph_optimizer_registry.cc:113] Plugin optimizer for device_type GPU is enabled.\n",
      "2022-05-15 17:24:41.801766: I tensorflow/core/grappler/optimizers/custom_graph_optimizer_registry.cc:113] Plugin optimizer for device_type GPU is enabled.\n"
     ]
    },
    {
     "name": "stdout",
     "output_type": "stream",
     "text": [
      "2/2 [==============================] - 6s 551ms/step - loss: 0.6821 - accuracy: 0.6600 - precision_14: 0.0000e+00 - recall_14: 0.0000e+00 - get_f1: 0.0000e+00\n",
      "Epoch 2/3\n",
      "2/2 [==============================] - 0s 126ms/step - loss: 0.5939 - accuracy: 1.0000 - precision_14: 0.0000e+00 - recall_14: 0.0000e+00 - get_f1: 0.0000e+00\n",
      "Epoch 3/3\n",
      "2/2 [==============================] - 0s 118ms/step - loss: 0.4312 - accuracy: 1.0000 - precision_14: 0.0000e+00 - recall_14: 0.0000e+00 - get_f1: 0.0000e+00\n"
     ]
    },
    {
     "name": "stderr",
     "output_type": "stream",
     "text": [
      "2022-05-15 17:24:44.703247: I tensorflow/core/grappler/optimizers/custom_graph_optimizer_registry.cc:113] Plugin optimizer for device_type GPU is enabled.\n",
      "2022-05-15 17:24:45.008931: I tensorflow/core/grappler/optimizers/custom_graph_optimizer_registry.cc:113] Plugin optimizer for device_type GPU is enabled.\n",
      "2022-05-15 17:24:45.026166: I tensorflow/core/grappler/optimizers/custom_graph_optimizer_registry.cc:113] Plugin optimizer for device_type GPU is enabled.\n",
      "2022-05-15 17:24:45.154922: I tensorflow/core/grappler/optimizers/custom_graph_optimizer_registry.cc:113] Plugin optimizer for device_type GPU is enabled.\n",
      "2022-05-15 17:24:45.162939: I tensorflow/core/grappler/optimizers/custom_graph_optimizer_registry.cc:113] Plugin optimizer for device_type GPU is enabled.\n"
     ]
    },
    {
     "name": "stdout",
     "output_type": "stream",
     "text": [
      "7/7 [==============================] - 3s 87ms/step - loss: 0.5303 - accuracy: 0.7744 - precision_14: 0.0000e+00 - recall_14: 0.0000e+00 - get_f1: 0.0000e+00\n",
      "--- Starting trial: run-6\n",
      "{'num_units': 25, 'dropout': 0.1, 'optimizer': 'adam', 'embedding': 'pretrained', 'learning_rate': 0.003, 'batch_size': 64, 'attention': 'no'}\n",
      "Epoch 1/3\n"
     ]
    },
    {
     "name": "stderr",
     "output_type": "stream",
     "text": [
      "2022-05-15 17:24:50.719570: I tensorflow/core/grappler/optimizers/custom_graph_optimizer_registry.cc:113] Plugin optimizer for device_type GPU is enabled.\n",
      "2022-05-15 17:24:51.482844: I tensorflow/core/grappler/optimizers/custom_graph_optimizer_registry.cc:113] Plugin optimizer for device_type GPU is enabled.\n",
      "2022-05-15 17:24:51.527225: I tensorflow/core/grappler/optimizers/custom_graph_optimizer_registry.cc:113] Plugin optimizer for device_type GPU is enabled.\n",
      "2022-05-15 17:24:51.713575: I tensorflow/core/grappler/optimizers/custom_graph_optimizer_registry.cc:113] Plugin optimizer for device_type GPU is enabled.\n",
      "2022-05-15 17:24:51.724197: I tensorflow/core/grappler/optimizers/custom_graph_optimizer_registry.cc:113] Plugin optimizer for device_type GPU is enabled.\n",
      "2022-05-15 17:24:52.065078: I tensorflow/core/grappler/optimizers/custom_graph_optimizer_registry.cc:113] Plugin optimizer for device_type GPU is enabled.\n",
      "2022-05-15 17:24:52.087225: I tensorflow/core/grappler/optimizers/custom_graph_optimizer_registry.cc:113] Plugin optimizer for device_type GPU is enabled.\n",
      "2022-05-15 17:24:52.344659: I tensorflow/core/grappler/optimizers/custom_graph_optimizer_registry.cc:113] Plugin optimizer for device_type GPU is enabled.\n",
      "2022-05-15 17:24:52.363501: I tensorflow/core/grappler/optimizers/custom_graph_optimizer_registry.cc:113] Plugin optimizer for device_type GPU is enabled.\n"
     ]
    },
    {
     "name": "stdout",
     "output_type": "stream",
     "text": [
      "2/2 [==============================] - 7s 616ms/step - loss: 0.4249 - accuracy: 1.0000 - precision_15: 0.0000e+00 - recall_15: 0.0000e+00 - get_f1: 0.0000e+00\n",
      "Epoch 2/3\n",
      "2/2 [==============================] - 0s 108ms/step - loss: 0.1437 - accuracy: 1.0000 - precision_15: 0.0000e+00 - recall_15: 0.0000e+00 - get_f1: 0.0000e+00\n",
      "Epoch 3/3\n",
      "2/2 [==============================] - 0s 114ms/step - loss: 0.0509 - accuracy: 1.0000 - precision_15: 0.0000e+00 - recall_15: 0.0000e+00 - get_f1: 0.0000e+00\n"
     ]
    },
    {
     "name": "stderr",
     "output_type": "stream",
     "text": [
      "2022-05-15 17:24:54.583508: I tensorflow/core/grappler/optimizers/custom_graph_optimizer_registry.cc:113] Plugin optimizer for device_type GPU is enabled.\n",
      "2022-05-15 17:24:54.885264: I tensorflow/core/grappler/optimizers/custom_graph_optimizer_registry.cc:113] Plugin optimizer for device_type GPU is enabled.\n",
      "2022-05-15 17:24:54.894176: I tensorflow/core/grappler/optimizers/custom_graph_optimizer_registry.cc:113] Plugin optimizer for device_type GPU is enabled.\n",
      "2022-05-15 17:24:55.023229: I tensorflow/core/grappler/optimizers/custom_graph_optimizer_registry.cc:113] Plugin optimizer for device_type GPU is enabled.\n",
      "2022-05-15 17:24:55.031601: I tensorflow/core/grappler/optimizers/custom_graph_optimizer_registry.cc:113] Plugin optimizer for device_type GPU is enabled.\n"
     ]
    },
    {
     "name": "stdout",
     "output_type": "stream",
     "text": [
      "7/7 [==============================] - 2s 83ms/step - loss: 0.8614 - accuracy: 0.7744 - precision_15: 0.0000e+00 - recall_15: 0.0000e+00 - get_f1: 0.0000e+00\n",
      "--- Starting trial: run-7\n",
      "{'num_units': 25, 'dropout': 0.1, 'optimizer': 'adam', 'embedding': 'pretrained', 'learning_rate': 0.003, 'batch_size': 64, 'attention': 'yes'}\n",
      "Epoch 1/3\n"
     ]
    },
    {
     "name": "stderr",
     "output_type": "stream",
     "text": [
      "2022-05-15 17:25:00.913837: I tensorflow/core/grappler/optimizers/custom_graph_optimizer_registry.cc:113] Plugin optimizer for device_type GPU is enabled.\n",
      "2022-05-15 17:25:01.952862: I tensorflow/core/grappler/optimizers/custom_graph_optimizer_registry.cc:113] Plugin optimizer for device_type GPU is enabled.\n",
      "2022-05-15 17:25:01.965136: I tensorflow/core/grappler/optimizers/custom_graph_optimizer_registry.cc:113] Plugin optimizer for device_type GPU is enabled.\n",
      "2022-05-15 17:25:02.200453: I tensorflow/core/grappler/optimizers/custom_graph_optimizer_registry.cc:113] Plugin optimizer for device_type GPU is enabled.\n",
      "2022-05-15 17:25:02.221039: I tensorflow/core/grappler/optimizers/custom_graph_optimizer_registry.cc:113] Plugin optimizer for device_type GPU is enabled.\n",
      "2022-05-15 17:25:02.727174: I tensorflow/core/grappler/optimizers/custom_graph_optimizer_registry.cc:113] Plugin optimizer for device_type GPU is enabled.\n",
      "2022-05-15 17:25:02.728156: I tensorflow/core/grappler/optimizers/custom_graph_optimizer_registry.cc:113] Plugin optimizer for device_type GPU is enabled.\n",
      "2022-05-15 17:25:03.027094: I tensorflow/core/grappler/optimizers/custom_graph_optimizer_registry.cc:113] Plugin optimizer for device_type GPU is enabled.\n",
      "2022-05-15 17:25:03.046951: I tensorflow/core/grappler/optimizers/custom_graph_optimizer_registry.cc:113] Plugin optimizer for device_type GPU is enabled.\n"
     ]
    },
    {
     "name": "stdout",
     "output_type": "stream",
     "text": [
      "2/2 [==============================] - 7s 585ms/step - loss: 0.5977 - accuracy: 0.9500 - precision_16: 0.0000e+00 - recall_16: 0.0000e+00 - get_f1: 0.0000e+00\n",
      "Epoch 2/3\n",
      "2/2 [==============================] - 0s 146ms/step - loss: 0.3147 - accuracy: 1.0000 - precision_16: 0.0000e+00 - recall_16: 0.0000e+00 - get_f1: 0.0000e+00\n",
      "Epoch 3/3\n",
      "2/2 [==============================] - 0s 119ms/step - loss: 0.1435 - accuracy: 1.0000 - precision_16: 0.0000e+00 - recall_16: 0.0000e+00 - get_f1: 0.0000e+00\n"
     ]
    },
    {
     "name": "stderr",
     "output_type": "stream",
     "text": [
      "2022-05-15 17:25:05.108660: I tensorflow/core/grappler/optimizers/custom_graph_optimizer_registry.cc:113] Plugin optimizer for device_type GPU is enabled.\n",
      "2022-05-15 17:25:05.401196: I tensorflow/core/grappler/optimizers/custom_graph_optimizer_registry.cc:113] Plugin optimizer for device_type GPU is enabled.\n",
      "2022-05-15 17:25:05.410325: I tensorflow/core/grappler/optimizers/custom_graph_optimizer_registry.cc:113] Plugin optimizer for device_type GPU is enabled.\n",
      "2022-05-15 17:25:05.533445: I tensorflow/core/grappler/optimizers/custom_graph_optimizer_registry.cc:113] Plugin optimizer for device_type GPU is enabled.\n",
      "2022-05-15 17:25:05.541916: I tensorflow/core/grappler/optimizers/custom_graph_optimizer_registry.cc:113] Plugin optimizer for device_type GPU is enabled.\n"
     ]
    },
    {
     "name": "stdout",
     "output_type": "stream",
     "text": [
      "7/7 [==============================] - 2s 84ms/step - loss: 0.6782 - accuracy: 0.7744 - precision_16: 0.0000e+00 - recall_16: 0.0000e+00 - get_f1: 0.0000e+00\n",
      "--- Starting trial: run-8\n",
      "{'num_units': 25, 'dropout': 0.1, 'optimizer': 'adam', 'embedding': 'from_scratch', 'learning_rate': 0.01, 'batch_size': 64, 'attention': 'no'}\n",
      "Epoch 1/3\n"
     ]
    },
    {
     "name": "stderr",
     "output_type": "stream",
     "text": [
      "2022-05-15 17:25:10.681012: I tensorflow/core/grappler/optimizers/custom_graph_optimizer_registry.cc:113] Plugin optimizer for device_type GPU is enabled.\n",
      "2022-05-15 17:25:11.391704: I tensorflow/core/grappler/optimizers/custom_graph_optimizer_registry.cc:113] Plugin optimizer for device_type GPU is enabled.\n",
      "2022-05-15 17:25:11.413837: I tensorflow/core/grappler/optimizers/custom_graph_optimizer_registry.cc:113] Plugin optimizer for device_type GPU is enabled.\n",
      "2022-05-15 17:25:11.571329: I tensorflow/core/grappler/optimizers/custom_graph_optimizer_registry.cc:113] Plugin optimizer for device_type GPU is enabled.\n",
      "2022-05-15 17:25:11.584209: I tensorflow/core/grappler/optimizers/custom_graph_optimizer_registry.cc:113] Plugin optimizer for device_type GPU is enabled.\n",
      "2022-05-15 17:25:11.879176: I tensorflow/core/grappler/optimizers/custom_graph_optimizer_registry.cc:113] Plugin optimizer for device_type GPU is enabled.\n",
      "2022-05-15 17:25:11.902854: I tensorflow/core/grappler/optimizers/custom_graph_optimizer_registry.cc:113] Plugin optimizer for device_type GPU is enabled.\n",
      "2022-05-15 17:25:12.231819: I tensorflow/core/grappler/optimizers/custom_graph_optimizer_registry.cc:113] Plugin optimizer for device_type GPU is enabled.\n",
      "2022-05-15 17:25:12.251795: I tensorflow/core/grappler/optimizers/custom_graph_optimizer_registry.cc:113] Plugin optimizer for device_type GPU is enabled.\n"
     ]
    },
    {
     "name": "stdout",
     "output_type": "stream",
     "text": [
      "2/2 [==============================] - 6s 625ms/step - loss: 0.6487 - accuracy: 0.7400 - precision_17: 0.0000e+00 - recall_17: 0.0000e+00 - get_f1: 0.0000e+00\n",
      "Epoch 2/3\n",
      "2/2 [==============================] - 0s 166ms/step - loss: 0.1877 - accuracy: 1.0000 - precision_17: 0.0000e+00 - recall_17: 0.0000e+00 - get_f1: 0.0000e+00\n",
      "Epoch 3/3\n",
      "2/2 [==============================] - 0s 163ms/step - loss: 0.0055 - accuracy: 1.0000 - precision_17: 0.0000e+00 - recall_17: 0.0000e+00 - get_f1: 0.0000e+00\n"
     ]
    },
    {
     "name": "stderr",
     "output_type": "stream",
     "text": [
      "2022-05-15 17:25:15.816151: I tensorflow/core/grappler/optimizers/custom_graph_optimizer_registry.cc:113] Plugin optimizer for device_type GPU is enabled.\n",
      "2022-05-15 17:25:16.123748: I tensorflow/core/grappler/optimizers/custom_graph_optimizer_registry.cc:113] Plugin optimizer for device_type GPU is enabled.\n",
      "2022-05-15 17:25:16.141419: I tensorflow/core/grappler/optimizers/custom_graph_optimizer_registry.cc:113] Plugin optimizer for device_type GPU is enabled.\n",
      "2022-05-15 17:25:16.290126: I tensorflow/core/grappler/optimizers/custom_graph_optimizer_registry.cc:113] Plugin optimizer for device_type GPU is enabled.\n",
      "2022-05-15 17:25:16.298279: I tensorflow/core/grappler/optimizers/custom_graph_optimizer_registry.cc:113] Plugin optimizer for device_type GPU is enabled.\n"
     ]
    },
    {
     "name": "stdout",
     "output_type": "stream",
     "text": [
      "7/7 [==============================] - 3s 71ms/step - loss: 1.5791 - accuracy: 0.7744 - precision_17: 0.0000e+00 - recall_17: 0.0000e+00 - get_f1: 0.0000e+00\n",
      "--- Starting trial: run-9\n",
      "{'num_units': 25, 'dropout': 0.1, 'optimizer': 'adam', 'embedding': 'from_scratch', 'learning_rate': 0.01, 'batch_size': 64, 'attention': 'yes'}\n",
      "Epoch 1/3\n"
     ]
    },
    {
     "name": "stderr",
     "output_type": "stream",
     "text": [
      "2022-05-15 17:25:21.359155: I tensorflow/core/grappler/optimizers/custom_graph_optimizer_registry.cc:113] Plugin optimizer for device_type GPU is enabled.\n",
      "2022-05-15 17:25:22.065874: I tensorflow/core/grappler/optimizers/custom_graph_optimizer_registry.cc:113] Plugin optimizer for device_type GPU is enabled.\n",
      "2022-05-15 17:25:22.083715: I tensorflow/core/grappler/optimizers/custom_graph_optimizer_registry.cc:113] Plugin optimizer for device_type GPU is enabled.\n",
      "2022-05-15 17:25:22.229811: I tensorflow/core/grappler/optimizers/custom_graph_optimizer_registry.cc:113] Plugin optimizer for device_type GPU is enabled.\n",
      "2022-05-15 17:25:22.240677: I tensorflow/core/grappler/optimizers/custom_graph_optimizer_registry.cc:113] Plugin optimizer for device_type GPU is enabled.\n",
      "2022-05-15 17:25:22.617148: I tensorflow/core/grappler/optimizers/custom_graph_optimizer_registry.cc:113] Plugin optimizer for device_type GPU is enabled.\n",
      "2022-05-15 17:25:22.617801: I tensorflow/core/grappler/optimizers/custom_graph_optimizer_registry.cc:113] Plugin optimizer for device_type GPU is enabled.\n",
      "2022-05-15 17:25:22.840235: I tensorflow/core/grappler/optimizers/custom_graph_optimizer_registry.cc:113] Plugin optimizer for device_type GPU is enabled.\n",
      "2022-05-15 17:25:22.859403: I tensorflow/core/grappler/optimizers/custom_graph_optimizer_registry.cc:113] Plugin optimizer for device_type GPU is enabled.\n"
     ]
    },
    {
     "name": "stdout",
     "output_type": "stream",
     "text": [
      "2/2 [==============================] - 6s 540ms/step - loss: 0.6668 - accuracy: 0.6200 - precision_18: 0.0000e+00 - recall_18: 0.0000e+00 - get_f1: 0.0000e+00\n",
      "Epoch 2/3\n",
      "2/2 [==============================] - 0s 138ms/step - loss: 0.3426 - accuracy: 1.0000 - precision_18: 0.0000e+00 - recall_18: 0.0000e+00 - get_f1: 0.0000e+00\n",
      "Epoch 3/3\n",
      "2/2 [==============================] - 0s 105ms/step - loss: 0.0213 - accuracy: 1.0000 - precision_18: 0.0000e+00 - recall_18: 0.0000e+00 - get_f1: 0.0000e+00\n"
     ]
    },
    {
     "name": "stderr",
     "output_type": "stream",
     "text": [
      "2022-05-15 17:25:24.797454: I tensorflow/core/grappler/optimizers/custom_graph_optimizer_registry.cc:113] Plugin optimizer for device_type GPU is enabled.\n",
      "2022-05-15 17:25:25.097784: I tensorflow/core/grappler/optimizers/custom_graph_optimizer_registry.cc:113] Plugin optimizer for device_type GPU is enabled.\n",
      "2022-05-15 17:25:25.106666: I tensorflow/core/grappler/optimizers/custom_graph_optimizer_registry.cc:113] Plugin optimizer for device_type GPU is enabled.\n",
      "2022-05-15 17:25:25.214023: I tensorflow/core/grappler/optimizers/custom_graph_optimizer_registry.cc:113] Plugin optimizer for device_type GPU is enabled.\n",
      "2022-05-15 17:25:25.224297: I tensorflow/core/grappler/optimizers/custom_graph_optimizer_registry.cc:113] Plugin optimizer for device_type GPU is enabled.\n"
     ]
    },
    {
     "name": "stdout",
     "output_type": "stream",
     "text": [
      "7/7 [==============================] - 2s 85ms/step - loss: 1.4283 - accuracy: 0.7744 - precision_18: 0.0000e+00 - recall_18: 0.0000e+00 - get_f1: 0.0000e+00\n",
      "--- Starting trial: run-10\n",
      "{'num_units': 25, 'dropout': 0.1, 'optimizer': 'adam', 'embedding': 'pretrained', 'learning_rate': 0.01, 'batch_size': 64, 'attention': 'no'}\n",
      "Epoch 1/3\n"
     ]
    },
    {
     "name": "stderr",
     "output_type": "stream",
     "text": [
      "2022-05-15 17:25:31.283257: I tensorflow/core/grappler/optimizers/custom_graph_optimizer_registry.cc:113] Plugin optimizer for device_type GPU is enabled.\n",
      "2022-05-15 17:25:31.996194: I tensorflow/core/grappler/optimizers/custom_graph_optimizer_registry.cc:113] Plugin optimizer for device_type GPU is enabled.\n",
      "2022-05-15 17:25:32.009814: I tensorflow/core/grappler/optimizers/custom_graph_optimizer_registry.cc:113] Plugin optimizer for device_type GPU is enabled.\n",
      "2022-05-15 17:25:32.166017: I tensorflow/core/grappler/optimizers/custom_graph_optimizer_registry.cc:113] Plugin optimizer for device_type GPU is enabled.\n",
      "2022-05-15 17:25:32.177772: I tensorflow/core/grappler/optimizers/custom_graph_optimizer_registry.cc:113] Plugin optimizer for device_type GPU is enabled.\n",
      "2022-05-15 17:25:32.481415: I tensorflow/core/grappler/optimizers/custom_graph_optimizer_registry.cc:113] Plugin optimizer for device_type GPU is enabled.\n",
      "2022-05-15 17:25:32.498527: I tensorflow/core/grappler/optimizers/custom_graph_optimizer_registry.cc:113] Plugin optimizer for device_type GPU is enabled.\n",
      "2022-05-15 17:25:32.751195: I tensorflow/core/grappler/optimizers/custom_graph_optimizer_registry.cc:113] Plugin optimizer for device_type GPU is enabled.\n",
      "2022-05-15 17:25:32.772899: I tensorflow/core/grappler/optimizers/custom_graph_optimizer_registry.cc:113] Plugin optimizer for device_type GPU is enabled.\n"
     ]
    },
    {
     "name": "stdout",
     "output_type": "stream",
     "text": [
      "2/2 [==============================] - 7s 608ms/step - loss: 0.6562 - accuracy: 0.3600 - precision_19: 0.0000e+00 - recall_19: 0.0000e+00 - get_f1: 0.0000e+00\n",
      "Epoch 2/3\n",
      "2/2 [==============================] - 0s 145ms/step - loss: 0.0698 - accuracy: 1.0000 - precision_19: 0.0000e+00 - recall_19: 0.0000e+00 - get_f1: 0.0000e+00\n",
      "Epoch 3/3\n",
      "2/2 [==============================] - 0s 139ms/step - loss: 0.0084 - accuracy: 1.0000 - precision_19: 0.0000e+00 - recall_19: 0.0000e+00 - get_f1: 0.0000e+00\n"
     ]
    },
    {
     "name": "stderr",
     "output_type": "stream",
     "text": [
      "2022-05-15 17:25:34.869792: I tensorflow/core/grappler/optimizers/custom_graph_optimizer_registry.cc:113] Plugin optimizer for device_type GPU is enabled.\n",
      "2022-05-15 17:25:35.146233: I tensorflow/core/grappler/optimizers/custom_graph_optimizer_registry.cc:113] Plugin optimizer for device_type GPU is enabled.\n",
      "2022-05-15 17:25:35.155354: I tensorflow/core/grappler/optimizers/custom_graph_optimizer_registry.cc:113] Plugin optimizer for device_type GPU is enabled.\n",
      "2022-05-15 17:25:35.282680: I tensorflow/core/grappler/optimizers/custom_graph_optimizer_registry.cc:113] Plugin optimizer for device_type GPU is enabled.\n",
      "2022-05-15 17:25:35.291669: I tensorflow/core/grappler/optimizers/custom_graph_optimizer_registry.cc:113] Plugin optimizer for device_type GPU is enabled.\n"
     ]
    },
    {
     "name": "stdout",
     "output_type": "stream",
     "text": [
      "7/7 [==============================] - 2s 80ms/step - loss: 1.3503 - accuracy: 0.7744 - precision_19: 0.0000e+00 - recall_19: 0.0000e+00 - get_f1: 0.0000e+00\n",
      "--- Starting trial: run-11\n",
      "{'num_units': 25, 'dropout': 0.1, 'optimizer': 'adam', 'embedding': 'pretrained', 'learning_rate': 0.01, 'batch_size': 64, 'attention': 'yes'}\n",
      "Epoch 1/3\n"
     ]
    },
    {
     "name": "stderr",
     "output_type": "stream",
     "text": [
      "2022-05-15 17:25:40.344853: I tensorflow/core/grappler/optimizers/custom_graph_optimizer_registry.cc:113] Plugin optimizer for device_type GPU is enabled.\n",
      "2022-05-15 17:25:41.061608: I tensorflow/core/grappler/optimizers/custom_graph_optimizer_registry.cc:113] Plugin optimizer for device_type GPU is enabled.\n",
      "2022-05-15 17:25:41.090435: I tensorflow/core/grappler/optimizers/custom_graph_optimizer_registry.cc:113] Plugin optimizer for device_type GPU is enabled.\n",
      "2022-05-15 17:25:41.300038: I tensorflow/core/grappler/optimizers/custom_graph_optimizer_registry.cc:113] Plugin optimizer for device_type GPU is enabled.\n",
      "2022-05-15 17:25:41.311644: I tensorflow/core/grappler/optimizers/custom_graph_optimizer_registry.cc:113] Plugin optimizer for device_type GPU is enabled.\n",
      "2022-05-15 17:25:41.788171: I tensorflow/core/grappler/optimizers/custom_graph_optimizer_registry.cc:113] Plugin optimizer for device_type GPU is enabled.\n",
      "2022-05-15 17:25:41.788700: I tensorflow/core/grappler/optimizers/custom_graph_optimizer_registry.cc:113] Plugin optimizer for device_type GPU is enabled.\n",
      "2022-05-15 17:25:42.107711: I tensorflow/core/grappler/optimizers/custom_graph_optimizer_registry.cc:113] Plugin optimizer for device_type GPU is enabled.\n",
      "2022-05-15 17:25:42.130136: I tensorflow/core/grappler/optimizers/custom_graph_optimizer_registry.cc:113] Plugin optimizer for device_type GPU is enabled.\n"
     ]
    },
    {
     "name": "stdout",
     "output_type": "stream",
     "text": [
      "2/2 [==============================] - 6s 664ms/step - loss: 0.5641 - accuracy: 0.3700 - precision_20: 0.0000e+00 - recall_20: 0.0000e+00 - get_f1: 0.0000e+00\n",
      "Epoch 2/3\n",
      "2/2 [==============================] - 0s 184ms/step - loss: 0.0627 - accuracy: 1.0000 - precision_20: 0.0000e+00 - recall_20: 0.0000e+00 - get_f1: 0.0000e+00\n",
      "Epoch 3/3\n",
      "2/2 [==============================] - 0s 95ms/step - loss: 0.0098 - accuracy: 1.0000 - precision_20: 0.0000e+00 - recall_20: 0.0000e+00 - get_f1: 0.0000e+00\n"
     ]
    },
    {
     "name": "stderr",
     "output_type": "stream",
     "text": [
      "2022-05-15 17:25:45.413521: I tensorflow/core/grappler/optimizers/custom_graph_optimizer_registry.cc:113] Plugin optimizer for device_type GPU is enabled.\n",
      "2022-05-15 17:25:45.776104: I tensorflow/core/grappler/optimizers/custom_graph_optimizer_registry.cc:113] Plugin optimizer for device_type GPU is enabled.\n",
      "2022-05-15 17:25:45.787735: I tensorflow/core/grappler/optimizers/custom_graph_optimizer_registry.cc:113] Plugin optimizer for device_type GPU is enabled.\n",
      "2022-05-15 17:25:45.951701: I tensorflow/core/grappler/optimizers/custom_graph_optimizer_registry.cc:113] Plugin optimizer for device_type GPU is enabled.\n",
      "2022-05-15 17:25:45.960211: I tensorflow/core/grappler/optimizers/custom_graph_optimizer_registry.cc:113] Plugin optimizer for device_type GPU is enabled.\n"
     ]
    },
    {
     "name": "stdout",
     "output_type": "stream",
     "text": [
      "7/7 [==============================] - 3s 102ms/step - loss: 1.3255 - accuracy: 0.7744 - precision_20: 0.0000e+00 - recall_20: 0.0000e+00 - get_f1: 0.0000e+00\n",
      "--- Starting trial: run-12\n",
      "{'num_units': 25, 'dropout': 0.1, 'optimizer': 'adam', 'embedding': 'from_scratch', 'learning_rate': 0.03, 'batch_size': 64, 'attention': 'no'}\n",
      "Epoch 1/3\n"
     ]
    },
    {
     "name": "stderr",
     "output_type": "stream",
     "text": [
      "2022-05-15 17:25:51.414355: I tensorflow/core/grappler/optimizers/custom_graph_optimizer_registry.cc:113] Plugin optimizer for device_type GPU is enabled.\n",
      "2022-05-15 17:25:52.142876: I tensorflow/core/grappler/optimizers/custom_graph_optimizer_registry.cc:113] Plugin optimizer for device_type GPU is enabled.\n",
      "2022-05-15 17:25:52.165126: I tensorflow/core/grappler/optimizers/custom_graph_optimizer_registry.cc:113] Plugin optimizer for device_type GPU is enabled.\n",
      "2022-05-15 17:25:52.331289: I tensorflow/core/grappler/optimizers/custom_graph_optimizer_registry.cc:113] Plugin optimizer for device_type GPU is enabled.\n",
      "2022-05-15 17:25:52.344850: I tensorflow/core/grappler/optimizers/custom_graph_optimizer_registry.cc:113] Plugin optimizer for device_type GPU is enabled.\n",
      "2022-05-15 17:25:52.656805: I tensorflow/core/grappler/optimizers/custom_graph_optimizer_registry.cc:113] Plugin optimizer for device_type GPU is enabled.\n",
      "2022-05-15 17:25:52.673714: I tensorflow/core/grappler/optimizers/custom_graph_optimizer_registry.cc:113] Plugin optimizer for device_type GPU is enabled.\n",
      "2022-05-15 17:25:52.975693: I tensorflow/core/grappler/optimizers/custom_graph_optimizer_registry.cc:113] Plugin optimizer for device_type GPU is enabled.\n",
      "2022-05-15 17:25:52.994849: I tensorflow/core/grappler/optimizers/custom_graph_optimizer_registry.cc:113] Plugin optimizer for device_type GPU is enabled.\n"
     ]
    },
    {
     "name": "stdout",
     "output_type": "stream",
     "text": [
      "2/2 [==============================] - 6s 628ms/step - loss: 0.6115 - accuracy: 0.7200 - precision_21: 0.0000e+00 - recall_21: 0.0000e+00 - get_f1: 0.0000e+00\n",
      "Epoch 2/3\n",
      "2/2 [==============================] - 0s 125ms/step - loss: 0.0185 - accuracy: 1.0000 - precision_21: 0.0000e+00 - recall_21: 0.0000e+00 - get_f1: 0.0000e+00\n",
      "Epoch 3/3\n",
      "2/2 [==============================] - 0s 140ms/step - loss: 6.1418e-04 - accuracy: 1.0000 - precision_21: 0.0000e+00 - recall_21: 0.0000e+00 - get_f1: 0.0000e+00\n"
     ]
    },
    {
     "name": "stderr",
     "output_type": "stream",
     "text": [
      "2022-05-15 17:25:55.211944: I tensorflow/core/grappler/optimizers/custom_graph_optimizer_registry.cc:113] Plugin optimizer for device_type GPU is enabled.\n",
      "2022-05-15 17:25:55.478153: I tensorflow/core/grappler/optimizers/custom_graph_optimizer_registry.cc:113] Plugin optimizer for device_type GPU is enabled.\n",
      "2022-05-15 17:25:55.489227: I tensorflow/core/grappler/optimizers/custom_graph_optimizer_registry.cc:113] Plugin optimizer for device_type GPU is enabled.\n",
      "2022-05-15 17:25:55.617222: I tensorflow/core/grappler/optimizers/custom_graph_optimizer_registry.cc:113] Plugin optimizer for device_type GPU is enabled.\n",
      "2022-05-15 17:25:55.625316: I tensorflow/core/grappler/optimizers/custom_graph_optimizer_registry.cc:113] Plugin optimizer for device_type GPU is enabled.\n"
     ]
    },
    {
     "name": "stdout",
     "output_type": "stream",
     "text": [
      "7/7 [==============================] - 2s 93ms/step - loss: 2.0637 - accuracy: 0.7744 - precision_21: 0.0000e+00 - recall_21: 0.0000e+00 - get_f1: 0.0000e+00\n",
      "--- Starting trial: run-13\n",
      "{'num_units': 25, 'dropout': 0.1, 'optimizer': 'adam', 'embedding': 'from_scratch', 'learning_rate': 0.03, 'batch_size': 64, 'attention': 'yes'}\n",
      "Epoch 1/3\n"
     ]
    },
    {
     "name": "stderr",
     "output_type": "stream",
     "text": [
      "2022-05-15 17:26:00.831781: I tensorflow/core/grappler/optimizers/custom_graph_optimizer_registry.cc:113] Plugin optimizer for device_type GPU is enabled.\n",
      "2022-05-15 17:26:01.527298: I tensorflow/core/grappler/optimizers/custom_graph_optimizer_registry.cc:113] Plugin optimizer for device_type GPU is enabled.\n",
      "2022-05-15 17:26:01.549196: I tensorflow/core/grappler/optimizers/custom_graph_optimizer_registry.cc:113] Plugin optimizer for device_type GPU is enabled.\n",
      "2022-05-15 17:26:01.712712: I tensorflow/core/grappler/optimizers/custom_graph_optimizer_registry.cc:113] Plugin optimizer for device_type GPU is enabled.\n",
      "2022-05-15 17:26:01.724019: I tensorflow/core/grappler/optimizers/custom_graph_optimizer_registry.cc:113] Plugin optimizer for device_type GPU is enabled.\n",
      "2022-05-15 17:26:02.181146: I tensorflow/core/grappler/optimizers/custom_graph_optimizer_registry.cc:113] Plugin optimizer for device_type GPU is enabled.\n",
      "2022-05-15 17:26:02.182273: I tensorflow/core/grappler/optimizers/custom_graph_optimizer_registry.cc:113] Plugin optimizer for device_type GPU is enabled.\n",
      "2022-05-15 17:26:02.476020: I tensorflow/core/grappler/optimizers/custom_graph_optimizer_registry.cc:113] Plugin optimizer for device_type GPU is enabled.\n",
      "2022-05-15 17:26:02.497973: I tensorflow/core/grappler/optimizers/custom_graph_optimizer_registry.cc:113] Plugin optimizer for device_type GPU is enabled.\n"
     ]
    },
    {
     "name": "stdout",
     "output_type": "stream",
     "text": [
      "2/2 [==============================] - 7s 819ms/step - loss: 0.5734 - accuracy: 0.6400 - precision_22: 0.0000e+00 - recall_22: 0.0000e+00 - get_f1: 0.0000e+00\n",
      "Epoch 2/3\n",
      "2/2 [==============================] - 0s 235ms/step - loss: 0.0030 - accuracy: 1.0000 - precision_22: 0.0000e+00 - recall_22: 0.0000e+00 - get_f1: 0.0000e+00\n",
      "Epoch 3/3\n",
      "2/2 [==============================] - 0s 124ms/step - loss: 3.3638e-05 - accuracy: 1.0000 - precision_22: 0.0000e+00 - recall_22: 0.0000e+00 - get_f1: 0.0000e+00\n"
     ]
    },
    {
     "name": "stderr",
     "output_type": "stream",
     "text": [
      "2022-05-15 17:26:05.278883: I tensorflow/core/grappler/optimizers/custom_graph_optimizer_registry.cc:113] Plugin optimizer for device_type GPU is enabled.\n",
      "2022-05-15 17:26:05.641357: I tensorflow/core/grappler/optimizers/custom_graph_optimizer_registry.cc:113] Plugin optimizer for device_type GPU is enabled.\n",
      "2022-05-15 17:26:05.649364: I tensorflow/core/grappler/optimizers/custom_graph_optimizer_registry.cc:113] Plugin optimizer for device_type GPU is enabled.\n",
      "2022-05-15 17:26:05.817403: I tensorflow/core/grappler/optimizers/custom_graph_optimizer_registry.cc:113] Plugin optimizer for device_type GPU is enabled.\n",
      "2022-05-15 17:26:05.825517: I tensorflow/core/grappler/optimizers/custom_graph_optimizer_registry.cc:113] Plugin optimizer for device_type GPU is enabled.\n"
     ]
    },
    {
     "name": "stdout",
     "output_type": "stream",
     "text": [
      "7/7 [==============================] - 2s 106ms/step - loss: 2.7091 - accuracy: 0.7744 - precision_22: 0.0000e+00 - recall_22: 0.0000e+00 - get_f1: 0.0000e+00\n",
      "--- Starting trial: run-14\n",
      "{'num_units': 25, 'dropout': 0.1, 'optimizer': 'adam', 'embedding': 'pretrained', 'learning_rate': 0.03, 'batch_size': 64, 'attention': 'no'}\n",
      "Epoch 1/3\n"
     ]
    },
    {
     "name": "stderr",
     "output_type": "stream",
     "text": [
      "2022-05-15 17:26:11.285093: I tensorflow/core/grappler/optimizers/custom_graph_optimizer_registry.cc:113] Plugin optimizer for device_type GPU is enabled.\n",
      "2022-05-15 17:26:11.966743: I tensorflow/core/grappler/optimizers/custom_graph_optimizer_registry.cc:113] Plugin optimizer for device_type GPU is enabled.\n",
      "2022-05-15 17:26:11.998239: I tensorflow/core/grappler/optimizers/custom_graph_optimizer_registry.cc:113] Plugin optimizer for device_type GPU is enabled.\n",
      "2022-05-15 17:26:12.255561: I tensorflow/core/grappler/optimizers/custom_graph_optimizer_registry.cc:113] Plugin optimizer for device_type GPU is enabled.\n",
      "2022-05-15 17:26:12.269136: I tensorflow/core/grappler/optimizers/custom_graph_optimizer_registry.cc:113] Plugin optimizer for device_type GPU is enabled.\n",
      "2022-05-15 17:26:12.686516: I tensorflow/core/grappler/optimizers/custom_graph_optimizer_registry.cc:113] Plugin optimizer for device_type GPU is enabled.\n",
      "2022-05-15 17:26:12.707620: I tensorflow/core/grappler/optimizers/custom_graph_optimizer_registry.cc:113] Plugin optimizer for device_type GPU is enabled.\n"
     ]
    },
    {
     "name": "stdout",
     "output_type": "stream",
     "text": [
      "1/2 [==============>...............] - ETA: 6s - loss: 0.6476 - accuracy: 0.7500 - precision_23: 0.0000e+00 - recall_23: 0.0000e+00 - get_f1: 0.0000e+00"
     ]
    },
    {
     "name": "stderr",
     "output_type": "stream",
     "text": [
      "2022-05-15 17:26:13.125335: I tensorflow/core/grappler/optimizers/custom_graph_optimizer_registry.cc:113] Plugin optimizer for device_type GPU is enabled.\n",
      "2022-05-15 17:26:13.150021: I tensorflow/core/grappler/optimizers/custom_graph_optimizer_registry.cc:113] Plugin optimizer for device_type GPU is enabled.\n"
     ]
    },
    {
     "name": "stdout",
     "output_type": "stream",
     "text": [
      "2/2 [==============================] - 7s 833ms/step - loss: 0.4231 - accuracy: 0.8400 - precision_23: 0.0000e+00 - recall_23: 0.0000e+00 - get_f1: 0.0000e+00\n",
      "Epoch 2/3\n",
      "2/2 [==============================] - 0s 186ms/step - loss: 0.0018 - accuracy: 1.0000 - precision_23: 0.0000e+00 - recall_23: 0.0000e+00 - get_f1: 0.0000e+00\n",
      "Epoch 3/3\n",
      "2/2 [==============================] - 0s 236ms/step - loss: 1.4073e-04 - accuracy: 1.0000 - precision_23: 0.0000e+00 - recall_23: 0.0000e+00 - get_f1: 0.0000e+00\n"
     ]
    },
    {
     "name": "stderr",
     "output_type": "stream",
     "text": [
      "2022-05-15 17:26:16.098620: I tensorflow/core/grappler/optimizers/custom_graph_optimizer_registry.cc:113] Plugin optimizer for device_type GPU is enabled.\n",
      "2022-05-15 17:26:16.360894: I tensorflow/core/grappler/optimizers/custom_graph_optimizer_registry.cc:113] Plugin optimizer for device_type GPU is enabled.\n",
      "2022-05-15 17:26:16.371602: I tensorflow/core/grappler/optimizers/custom_graph_optimizer_registry.cc:113] Plugin optimizer for device_type GPU is enabled.\n",
      "2022-05-15 17:26:16.536091: I tensorflow/core/grappler/optimizers/custom_graph_optimizer_registry.cc:113] Plugin optimizer for device_type GPU is enabled.\n",
      "2022-05-15 17:26:16.544025: I tensorflow/core/grappler/optimizers/custom_graph_optimizer_registry.cc:113] Plugin optimizer for device_type GPU is enabled.\n"
     ]
    },
    {
     "name": "stdout",
     "output_type": "stream",
     "text": [
      "7/7 [==============================] - 2s 106ms/step - loss: 2.2746 - accuracy: 0.7744 - precision_23: 0.0000e+00 - recall_23: 0.0000e+00 - get_f1: 0.0000e+00\n",
      "--- Starting trial: run-15\n",
      "{'num_units': 25, 'dropout': 0.1, 'optimizer': 'adam', 'embedding': 'pretrained', 'learning_rate': 0.03, 'batch_size': 64, 'attention': 'yes'}\n",
      "Epoch 1/3\n"
     ]
    },
    {
     "name": "stderr",
     "output_type": "stream",
     "text": [
      "2022-05-15 17:26:25.095460: I tensorflow/core/grappler/optimizers/custom_graph_optimizer_registry.cc:113] Plugin optimizer for device_type GPU is enabled.\n",
      "2022-05-15 17:26:26.163289: I tensorflow/core/grappler/optimizers/custom_graph_optimizer_registry.cc:113] Plugin optimizer for device_type GPU is enabled.\n",
      "2022-05-15 17:26:26.195649: I tensorflow/core/grappler/optimizers/custom_graph_optimizer_registry.cc:113] Plugin optimizer for device_type GPU is enabled.\n",
      "2022-05-15 17:26:26.463164: I tensorflow/core/grappler/optimizers/custom_graph_optimizer_registry.cc:113] Plugin optimizer for device_type GPU is enabled.\n",
      "2022-05-15 17:26:26.473780: I tensorflow/core/grappler/optimizers/custom_graph_optimizer_registry.cc:113] Plugin optimizer for device_type GPU is enabled.\n",
      "2022-05-15 17:26:27.079002: I tensorflow/core/grappler/optimizers/custom_graph_optimizer_registry.cc:113] Plugin optimizer for device_type GPU is enabled.\n",
      "2022-05-15 17:26:27.079388: I tensorflow/core/grappler/optimizers/custom_graph_optimizer_registry.cc:113] Plugin optimizer for device_type GPU is enabled.\n",
      "2022-05-15 17:26:27.463496: I tensorflow/core/grappler/optimizers/custom_graph_optimizer_registry.cc:113] Plugin optimizer for device_type GPU is enabled.\n",
      "2022-05-15 17:26:27.484909: I tensorflow/core/grappler/optimizers/custom_graph_optimizer_registry.cc:113] Plugin optimizer for device_type GPU is enabled.\n"
     ]
    },
    {
     "name": "stdout",
     "output_type": "stream",
     "text": [
      "2/2 [==============================] - 11s 948ms/step - loss: 0.4738 - accuracy: 0.5800 - precision_24: 0.0000e+00 - recall_24: 0.0000e+00 - get_f1: 0.0000e+00\n",
      "Epoch 2/3\n",
      "2/2 [==============================] - 0s 211ms/step - loss: 0.0060 - accuracy: 1.0000 - precision_24: 0.0000e+00 - recall_24: 0.0000e+00 - get_f1: 0.0000e+00\n",
      "Epoch 3/3\n",
      "2/2 [==============================] - 1s 165ms/step - loss: 5.5594e-04 - accuracy: 1.0000 - precision_24: 0.0000e+00 - recall_24: 0.0000e+00 - get_f1: 0.0000e+00\n"
     ]
    },
    {
     "name": "stderr",
     "output_type": "stream",
     "text": [
      "2022-05-15 17:26:30.598117: I tensorflow/core/grappler/optimizers/custom_graph_optimizer_registry.cc:113] Plugin optimizer for device_type GPU is enabled.\n",
      "2022-05-15 17:26:30.937111: I tensorflow/core/grappler/optimizers/custom_graph_optimizer_registry.cc:113] Plugin optimizer for device_type GPU is enabled.\n",
      "2022-05-15 17:26:30.946846: I tensorflow/core/grappler/optimizers/custom_graph_optimizer_registry.cc:113] Plugin optimizer for device_type GPU is enabled.\n",
      "2022-05-15 17:26:31.099080: I tensorflow/core/grappler/optimizers/custom_graph_optimizer_registry.cc:113] Plugin optimizer for device_type GPU is enabled.\n",
      "2022-05-15 17:26:31.106776: I tensorflow/core/grappler/optimizers/custom_graph_optimizer_registry.cc:113] Plugin optimizer for device_type GPU is enabled.\n"
     ]
    },
    {
     "name": "stdout",
     "output_type": "stream",
     "text": [
      "7/7 [==============================] - 3s 158ms/step - loss: 1.9438 - accuracy: 0.7744 - precision_24: 0.0000e+00 - recall_24: 0.0000e+00 - get_f1: 0.0000e+00\n",
      "--- Starting trial: run-16\n",
      "{'num_units': 25, 'dropout': 0.1, 'optimizer': 'adam', 'embedding': 'from_scratch', 'learning_rate': 0.1, 'batch_size': 64, 'attention': 'no'}\n",
      "Epoch 1/3\n"
     ]
    },
    {
     "name": "stderr",
     "output_type": "stream",
     "text": [
      "2022-05-15 17:26:38.180707: I tensorflow/core/grappler/optimizers/custom_graph_optimizer_registry.cc:113] Plugin optimizer for device_type GPU is enabled.\n",
      "2022-05-15 17:26:38.997905: I tensorflow/core/grappler/optimizers/custom_graph_optimizer_registry.cc:113] Plugin optimizer for device_type GPU is enabled.\n",
      "2022-05-15 17:26:39.018040: I tensorflow/core/grappler/optimizers/custom_graph_optimizer_registry.cc:113] Plugin optimizer for device_type GPU is enabled.\n",
      "2022-05-15 17:26:39.324516: I tensorflow/core/grappler/optimizers/custom_graph_optimizer_registry.cc:113] Plugin optimizer for device_type GPU is enabled.\n",
      "2022-05-15 17:26:39.339386: I tensorflow/core/grappler/optimizers/custom_graph_optimizer_registry.cc:113] Plugin optimizer for device_type GPU is enabled.\n",
      "2022-05-15 17:26:39.789526: I tensorflow/core/grappler/optimizers/custom_graph_optimizer_registry.cc:113] Plugin optimizer for device_type GPU is enabled.\n",
      "2022-05-15 17:26:39.808361: I tensorflow/core/grappler/optimizers/custom_graph_optimizer_registry.cc:113] Plugin optimizer for device_type GPU is enabled.\n",
      "2022-05-15 17:26:40.208536: I tensorflow/core/grappler/optimizers/custom_graph_optimizer_registry.cc:113] Plugin optimizer for device_type GPU is enabled.\n",
      "2022-05-15 17:26:40.226793: I tensorflow/core/grappler/optimizers/custom_graph_optimizer_registry.cc:113] Plugin optimizer for device_type GPU is enabled.\n"
     ]
    },
    {
     "name": "stdout",
     "output_type": "stream",
     "text": [
      "2/2 [==============================] - 8s 740ms/step - loss: 0.4505 - accuracy: 0.6700 - precision_25: 0.0000e+00 - recall_25: 0.0000e+00 - get_f1: 0.0000e+00\n",
      "Epoch 2/3\n",
      "2/2 [==============================] - 0s 204ms/step - loss: 7.6143e-06 - accuracy: 1.0000 - precision_25: 0.0000e+00 - recall_25: 0.0000e+00 - get_f1: 0.0000e+00\n",
      "Epoch 3/3\n",
      "2/2 [==============================] - 1s 458ms/step - loss: 1.0577e-07 - accuracy: 1.0000 - precision_25: 0.0000e+00 - recall_25: 0.0000e+00 - get_f1: 0.0000e+00\n"
     ]
    },
    {
     "name": "stderr",
     "output_type": "stream",
     "text": [
      "2022-05-15 17:26:43.412707: I tensorflow/core/grappler/optimizers/custom_graph_optimizer_registry.cc:113] Plugin optimizer for device_type GPU is enabled.\n",
      "2022-05-15 17:26:43.671490: I tensorflow/core/grappler/optimizers/custom_graph_optimizer_registry.cc:113] Plugin optimizer for device_type GPU is enabled.\n",
      "2022-05-15 17:26:43.684115: I tensorflow/core/grappler/optimizers/custom_graph_optimizer_registry.cc:113] Plugin optimizer for device_type GPU is enabled.\n",
      "2022-05-15 17:26:43.912168: I tensorflow/core/grappler/optimizers/custom_graph_optimizer_registry.cc:113] Plugin optimizer for device_type GPU is enabled.\n",
      "2022-05-15 17:26:43.922509: I tensorflow/core/grappler/optimizers/custom_graph_optimizer_registry.cc:113] Plugin optimizer for device_type GPU is enabled.\n"
     ]
    },
    {
     "name": "stdout",
     "output_type": "stream",
     "text": [
      "7/7 [==============================] - 2s 107ms/step - loss: 4.3845 - accuracy: 0.7744 - precision_25: 0.0000e+00 - recall_25: 0.0000e+00 - get_f1: 0.0000e+00\n",
      "--- Starting trial: run-17\n",
      "{'num_units': 25, 'dropout': 0.1, 'optimizer': 'adam', 'embedding': 'from_scratch', 'learning_rate': 0.1, 'batch_size': 64, 'attention': 'yes'}\n",
      "Epoch 1/3\n"
     ]
    },
    {
     "name": "stderr",
     "output_type": "stream",
     "text": [
      "2022-05-15 17:26:51.205448: I tensorflow/core/grappler/optimizers/custom_graph_optimizer_registry.cc:113] Plugin optimizer for device_type GPU is enabled.\n",
      "2022-05-15 17:26:52.148639: I tensorflow/core/grappler/optimizers/custom_graph_optimizer_registry.cc:113] Plugin optimizer for device_type GPU is enabled.\n",
      "2022-05-15 17:26:52.166663: I tensorflow/core/grappler/optimizers/custom_graph_optimizer_registry.cc:113] Plugin optimizer for device_type GPU is enabled.\n",
      "2022-05-15 17:26:52.457686: I tensorflow/core/grappler/optimizers/custom_graph_optimizer_registry.cc:113] Plugin optimizer for device_type GPU is enabled.\n",
      "2022-05-15 17:26:52.469073: I tensorflow/core/grappler/optimizers/custom_graph_optimizer_registry.cc:113] Plugin optimizer for device_type GPU is enabled.\n",
      "2022-05-15 17:26:53.145457: I tensorflow/core/grappler/optimizers/custom_graph_optimizer_registry.cc:113] Plugin optimizer for device_type GPU is enabled.\n",
      "2022-05-15 17:26:53.146359: I tensorflow/core/grappler/optimizers/custom_graph_optimizer_registry.cc:113] Plugin optimizer for device_type GPU is enabled.\n",
      "2022-05-15 17:26:53.518415: I tensorflow/core/grappler/optimizers/custom_graph_optimizer_registry.cc:113] Plugin optimizer for device_type GPU is enabled.\n",
      "2022-05-15 17:26:53.536194: I tensorflow/core/grappler/optimizers/custom_graph_optimizer_registry.cc:113] Plugin optimizer for device_type GPU is enabled.\n"
     ]
    },
    {
     "name": "stdout",
     "output_type": "stream",
     "text": [
      "2/2 [==============================] - 7s 814ms/step - loss: 0.4505 - accuracy: 0.7200 - precision_26: 0.0000e+00 - recall_26: 0.0000e+00 - get_f1: 0.0000e+00\n",
      "Epoch 2/3\n",
      "2/2 [==============================] - 1s 237ms/step - loss: 2.8144e-06 - accuracy: 1.0000 - precision_26: 0.0000e+00 - recall_26: 0.0000e+00 - get_f1: 0.0000e+00\n",
      "Epoch 3/3\n",
      "2/2 [==============================] - 0s 189ms/step - loss: 0.0000e+00 - accuracy: 1.0000 - precision_26: 0.0000e+00 - recall_26: 0.0000e+00 - get_f1: 0.0000e+00\n"
     ]
    },
    {
     "name": "stderr",
     "output_type": "stream",
     "text": [
      "2022-05-15 17:26:56.618240: I tensorflow/core/grappler/optimizers/custom_graph_optimizer_registry.cc:113] Plugin optimizer for device_type GPU is enabled.\n",
      "2022-05-15 17:26:57.014872: I tensorflow/core/grappler/optimizers/custom_graph_optimizer_registry.cc:113] Plugin optimizer for device_type GPU is enabled.\n",
      "2022-05-15 17:26:57.024458: I tensorflow/core/grappler/optimizers/custom_graph_optimizer_registry.cc:113] Plugin optimizer for device_type GPU is enabled.\n",
      "2022-05-15 17:26:57.189705: I tensorflow/core/grappler/optimizers/custom_graph_optimizer_registry.cc:113] Plugin optimizer for device_type GPU is enabled.\n",
      "2022-05-15 17:26:57.197252: I tensorflow/core/grappler/optimizers/custom_graph_optimizer_registry.cc:113] Plugin optimizer for device_type GPU is enabled.\n"
     ]
    },
    {
     "name": "stdout",
     "output_type": "stream",
     "text": [
      "7/7 [==============================] - 3s 205ms/step - loss: 4.6705 - accuracy: 0.7744 - precision_26: 0.0000e+00 - recall_26: 0.0000e+00 - get_f1: 0.0000e+00\n",
      "--- Starting trial: run-18\n",
      "{'num_units': 25, 'dropout': 0.1, 'optimizer': 'adam', 'embedding': 'pretrained', 'learning_rate': 0.1, 'batch_size': 64, 'attention': 'no'}\n",
      "Epoch 1/3\n"
     ]
    },
    {
     "name": "stderr",
     "output_type": "stream",
     "text": [
      "2022-05-15 17:27:05.175856: I tensorflow/core/grappler/optimizers/custom_graph_optimizer_registry.cc:113] Plugin optimizer for device_type GPU is enabled.\n",
      "2022-05-15 17:27:06.028794: I tensorflow/core/grappler/optimizers/custom_graph_optimizer_registry.cc:113] Plugin optimizer for device_type GPU is enabled.\n",
      "2022-05-15 17:27:06.051770: I tensorflow/core/grappler/optimizers/custom_graph_optimizer_registry.cc:113] Plugin optimizer for device_type GPU is enabled.\n",
      "2022-05-15 17:27:06.298667: I tensorflow/core/grappler/optimizers/custom_graph_optimizer_registry.cc:113] Plugin optimizer for device_type GPU is enabled.\n",
      "2022-05-15 17:27:06.310061: I tensorflow/core/grappler/optimizers/custom_graph_optimizer_registry.cc:113] Plugin optimizer for device_type GPU is enabled.\n",
      "2022-05-15 17:27:06.729588: I tensorflow/core/grappler/optimizers/custom_graph_optimizer_registry.cc:113] Plugin optimizer for device_type GPU is enabled.\n",
      "2022-05-15 17:27:06.751725: I tensorflow/core/grappler/optimizers/custom_graph_optimizer_registry.cc:113] Plugin optimizer for device_type GPU is enabled.\n",
      "2022-05-15 17:27:07.138130: I tensorflow/core/grappler/optimizers/custom_graph_optimizer_registry.cc:113] Plugin optimizer for device_type GPU is enabled.\n",
      "2022-05-15 17:27:07.157230: I tensorflow/core/grappler/optimizers/custom_graph_optimizer_registry.cc:113] Plugin optimizer for device_type GPU is enabled.\n"
     ]
    },
    {
     "name": "stdout",
     "output_type": "stream",
     "text": [
      "2/2 [==============================] - 8s 832ms/step - loss: 0.5820 - accuracy: 0.3600 - precision_27: 0.0000e+00 - recall_27: 0.0000e+00 - get_f1: 0.0000e+00\n",
      "Epoch 2/3\n",
      "2/2 [==============================] - 0s 221ms/step - loss: 5.0047e-04 - accuracy: 1.0000 - precision_27: 0.0000e+00 - recall_27: 0.0000e+00 - get_f1: 0.0000e+00\n",
      "Epoch 3/3\n",
      "2/2 [==============================] - 0s 188ms/step - loss: 2.8233e-05 - accuracy: 1.0000 - precision_27: 0.0000e+00 - recall_27: 0.0000e+00 - get_f1: 0.0000e+00\n"
     ]
    },
    {
     "name": "stderr",
     "output_type": "stream",
     "text": [
      "2022-05-15 17:27:10.032355: I tensorflow/core/grappler/optimizers/custom_graph_optimizer_registry.cc:113] Plugin optimizer for device_type GPU is enabled.\n",
      "2022-05-15 17:27:10.316768: I tensorflow/core/grappler/optimizers/custom_graph_optimizer_registry.cc:113] Plugin optimizer for device_type GPU is enabled.\n",
      "2022-05-15 17:27:10.330489: I tensorflow/core/grappler/optimizers/custom_graph_optimizer_registry.cc:113] Plugin optimizer for device_type GPU is enabled.\n",
      "2022-05-15 17:27:10.530687: I tensorflow/core/grappler/optimizers/custom_graph_optimizer_registry.cc:113] Plugin optimizer for device_type GPU is enabled.\n",
      "2022-05-15 17:27:10.541306: I tensorflow/core/grappler/optimizers/custom_graph_optimizer_registry.cc:113] Plugin optimizer for device_type GPU is enabled.\n"
     ]
    },
    {
     "name": "stdout",
     "output_type": "stream",
     "text": [
      "7/7 [==============================] - 2s 125ms/step - loss: 2.7624 - accuracy: 0.7744 - precision_27: 0.0000e+00 - recall_27: 0.0000e+00 - get_f1: 0.0000e+00\n",
      "--- Starting trial: run-19\n",
      "{'num_units': 25, 'dropout': 0.1, 'optimizer': 'adam', 'embedding': 'pretrained', 'learning_rate': 0.1, 'batch_size': 64, 'attention': 'yes'}\n",
      "Epoch 1/3\n"
     ]
    },
    {
     "name": "stderr",
     "output_type": "stream",
     "text": [
      "2022-05-15 17:27:19.399309: I tensorflow/core/grappler/optimizers/custom_graph_optimizer_registry.cc:113] Plugin optimizer for device_type GPU is enabled.\n",
      "2022-05-15 17:27:21.620319: I tensorflow/core/grappler/optimizers/custom_graph_optimizer_registry.cc:113] Plugin optimizer for device_type GPU is enabled.\n",
      "2022-05-15 17:27:21.934232: I tensorflow/core/grappler/optimizers/custom_graph_optimizer_registry.cc:113] Plugin optimizer for device_type GPU is enabled.\n",
      "2022-05-15 17:27:22.666955: I tensorflow/core/grappler/optimizers/custom_graph_optimizer_registry.cc:113] Plugin optimizer for device_type GPU is enabled.\n",
      "2022-05-15 17:27:22.682382: I tensorflow/core/grappler/optimizers/custom_graph_optimizer_registry.cc:113] Plugin optimizer for device_type GPU is enabled.\n",
      "2022-05-15 17:27:23.456082: I tensorflow/core/grappler/optimizers/custom_graph_optimizer_registry.cc:113] Plugin optimizer for device_type GPU is enabled.\n",
      "2022-05-15 17:27:23.456446: I tensorflow/core/grappler/optimizers/custom_graph_optimizer_registry.cc:113] Plugin optimizer for device_type GPU is enabled.\n",
      "2022-05-15 17:27:23.939623: I tensorflow/core/grappler/optimizers/custom_graph_optimizer_registry.cc:113] Plugin optimizer for device_type GPU is enabled.\n",
      "2022-05-15 17:27:23.972985: I tensorflow/core/grappler/optimizers/custom_graph_optimizer_registry.cc:113] Plugin optimizer for device_type GPU is enabled.\n"
     ]
    },
    {
     "name": "stdout",
     "output_type": "stream",
     "text": [
      "2/2 [==============================] - 13s 888ms/step - loss: 0.5948 - accuracy: 0.3600 - precision_28: 0.0000e+00 - recall_28: 0.0000e+00 - get_f1: 0.0000e+00\n",
      "Epoch 2/3\n",
      "2/2 [==============================] - 0s 218ms/step - loss: 7.0342e-04 - accuracy: 1.0000 - precision_28: 0.0000e+00 - recall_28: 0.0000e+00 - get_f1: 0.0000e+00\n",
      "Epoch 3/3\n",
      "2/2 [==============================] - 0s 193ms/step - loss: 5.3866e-05 - accuracy: 1.0000 - precision_28: 0.0000e+00 - recall_28: 0.0000e+00 - get_f1: 0.0000e+00\n"
     ]
    },
    {
     "name": "stderr",
     "output_type": "stream",
     "text": [
      "2022-05-15 17:27:27.704247: I tensorflow/core/grappler/optimizers/custom_graph_optimizer_registry.cc:113] Plugin optimizer for device_type GPU is enabled.\n",
      "2022-05-15 17:27:28.035814: I tensorflow/core/grappler/optimizers/custom_graph_optimizer_registry.cc:113] Plugin optimizer for device_type GPU is enabled.\n",
      "2022-05-15 17:27:28.054182: I tensorflow/core/grappler/optimizers/custom_graph_optimizer_registry.cc:113] Plugin optimizer for device_type GPU is enabled.\n",
      "2022-05-15 17:27:28.250512: I tensorflow/core/grappler/optimizers/custom_graph_optimizer_registry.cc:113] Plugin optimizer for device_type GPU is enabled.\n",
      "2022-05-15 17:27:28.258900: I tensorflow/core/grappler/optimizers/custom_graph_optimizer_registry.cc:113] Plugin optimizer for device_type GPU is enabled.\n"
     ]
    },
    {
     "name": "stdout",
     "output_type": "stream",
     "text": [
      "7/7 [==============================] - 3s 125ms/step - loss: 2.5664 - accuracy: 0.7744 - precision_28: 0.0000e+00 - recall_28: 0.0000e+00 - get_f1: 0.0000e+00\n",
      "--- Starting trial: run-20\n",
      "{'num_units': 25, 'dropout': 0.2, 'optimizer': 'adam', 'embedding': 'from_scratch', 'learning_rate': 0.001, 'batch_size': 64, 'attention': 'no'}\n",
      "Epoch 1/3\n"
     ]
    },
    {
     "name": "stderr",
     "output_type": "stream",
     "text": [
      "2022-05-15 17:27:36.367495: I tensorflow/core/grappler/optimizers/custom_graph_optimizer_registry.cc:113] Plugin optimizer for device_type GPU is enabled.\n",
      "2022-05-15 17:27:38.385429: I tensorflow/core/grappler/optimizers/custom_graph_optimizer_registry.cc:113] Plugin optimizer for device_type GPU is enabled.\n",
      "2022-05-15 17:27:38.437061: I tensorflow/core/grappler/optimizers/custom_graph_optimizer_registry.cc:113] Plugin optimizer for device_type GPU is enabled.\n",
      "2022-05-15 17:27:38.729939: I tensorflow/core/grappler/optimizers/custom_graph_optimizer_registry.cc:113] Plugin optimizer for device_type GPU is enabled.\n",
      "2022-05-15 17:27:38.740681: I tensorflow/core/grappler/optimizers/custom_graph_optimizer_registry.cc:113] Plugin optimizer for device_type GPU is enabled.\n",
      "2022-05-15 17:27:39.227299: I tensorflow/core/grappler/optimizers/custom_graph_optimizer_registry.cc:113] Plugin optimizer for device_type GPU is enabled.\n",
      "2022-05-15 17:27:39.248037: I tensorflow/core/grappler/optimizers/custom_graph_optimizer_registry.cc:113] Plugin optimizer for device_type GPU is enabled.\n",
      "2022-05-15 17:27:39.586213: I tensorflow/core/grappler/optimizers/custom_graph_optimizer_registry.cc:113] Plugin optimizer for device_type GPU is enabled.\n",
      "2022-05-15 17:27:39.604879: I tensorflow/core/grappler/optimizers/custom_graph_optimizer_registry.cc:113] Plugin optimizer for device_type GPU is enabled.\n"
     ]
    },
    {
     "name": "stdout",
     "output_type": "stream",
     "text": [
      "2/2 [==============================] - 11s 736ms/step - loss: 0.6920 - accuracy: 0.5000 - precision_29: 0.0000e+00 - recall_29: 0.0000e+00 - get_f1: 0.0000e+00\n",
      "Epoch 2/3\n",
      "2/2 [==============================] - 0s 197ms/step - loss: 0.6622 - accuracy: 1.0000 - precision_29: 0.0000e+00 - recall_29: 0.0000e+00 - get_f1: 0.0000e+00\n",
      "Epoch 3/3\n",
      "2/2 [==============================] - 0s 165ms/step - loss: 0.6284 - accuracy: 1.0000 - precision_29: 0.0000e+00 - recall_29: 0.0000e+00 - get_f1: 0.0000e+00\n"
     ]
    },
    {
     "name": "stderr",
     "output_type": "stream",
     "text": [
      "2022-05-15 17:27:42.523419: I tensorflow/core/grappler/optimizers/custom_graph_optimizer_registry.cc:113] Plugin optimizer for device_type GPU is enabled.\n",
      "2022-05-15 17:27:42.894802: I tensorflow/core/grappler/optimizers/custom_graph_optimizer_registry.cc:113] Plugin optimizer for device_type GPU is enabled.\n",
      "2022-05-15 17:27:42.912379: I tensorflow/core/grappler/optimizers/custom_graph_optimizer_registry.cc:113] Plugin optimizer for device_type GPU is enabled.\n",
      "2022-05-15 17:27:43.188457: I tensorflow/core/grappler/optimizers/custom_graph_optimizer_registry.cc:113] Plugin optimizer for device_type GPU is enabled.\n",
      "2022-05-15 17:27:43.197888: I tensorflow/core/grappler/optimizers/custom_graph_optimizer_registry.cc:113] Plugin optimizer for device_type GPU is enabled.\n"
     ]
    },
    {
     "name": "stdout",
     "output_type": "stream",
     "text": [
      "7/7 [==============================] - 3s 144ms/step - loss: 0.6471 - accuracy: 0.7744 - precision_29: 0.0000e+00 - recall_29: 0.0000e+00 - get_f1: 0.0000e+00\n",
      "--- Starting trial: run-21\n",
      "{'num_units': 25, 'dropout': 0.2, 'optimizer': 'adam', 'embedding': 'from_scratch', 'learning_rate': 0.001, 'batch_size': 64, 'attention': 'yes'}\n",
      "Epoch 1/3\n"
     ]
    },
    {
     "name": "stderr",
     "output_type": "stream",
     "text": [
      "2022-05-15 17:27:51.111282: I tensorflow/core/grappler/optimizers/custom_graph_optimizer_registry.cc:113] Plugin optimizer for device_type GPU is enabled.\n",
      "2022-05-15 17:27:52.104492: I tensorflow/core/grappler/optimizers/custom_graph_optimizer_registry.cc:113] Plugin optimizer for device_type GPU is enabled.\n",
      "2022-05-15 17:27:52.116760: I tensorflow/core/grappler/optimizers/custom_graph_optimizer_registry.cc:113] Plugin optimizer for device_type GPU is enabled.\n",
      "2022-05-15 17:27:52.381994: I tensorflow/core/grappler/optimizers/custom_graph_optimizer_registry.cc:113] Plugin optimizer for device_type GPU is enabled.\n",
      "2022-05-15 17:27:52.393907: I tensorflow/core/grappler/optimizers/custom_graph_optimizer_registry.cc:113] Plugin optimizer for device_type GPU is enabled.\n",
      "2022-05-15 17:27:53.120421: I tensorflow/core/grappler/optimizers/custom_graph_optimizer_registry.cc:113] Plugin optimizer for device_type GPU is enabled.\n",
      "2022-05-15 17:27:53.121109: I tensorflow/core/grappler/optimizers/custom_graph_optimizer_registry.cc:113] Plugin optimizer for device_type GPU is enabled.\n",
      "2022-05-15 17:27:53.508612: I tensorflow/core/grappler/optimizers/custom_graph_optimizer_registry.cc:113] Plugin optimizer for device_type GPU is enabled.\n",
      "2022-05-15 17:27:53.527186: I tensorflow/core/grappler/optimizers/custom_graph_optimizer_registry.cc:113] Plugin optimizer for device_type GPU is enabled.\n"
     ]
    },
    {
     "name": "stdout",
     "output_type": "stream",
     "text": [
      "2/2 [==============================] - 10s 839ms/step - loss: 0.6897 - accuracy: 0.6800 - precision_30: 0.0000e+00 - recall_30: 0.0000e+00 - get_f1: 0.0000e+00\n",
      "Epoch 2/3\n",
      "2/2 [==============================] - 1s 386ms/step - loss: 0.6698 - accuracy: 1.0000 - precision_30: 0.0000e+00 - recall_30: 0.0000e+00 - get_f1: 0.0000e+00\n",
      "Epoch 3/3\n",
      "2/2 [==============================] - 0s 169ms/step - loss: 0.6457 - accuracy: 1.0000 - precision_30: 0.0000e+00 - recall_30: 0.0000e+00 - get_f1: 0.0000e+00\n"
     ]
    },
    {
     "name": "stderr",
     "output_type": "stream",
     "text": [
      "2022-05-15 17:27:56.629330: I tensorflow/core/grappler/optimizers/custom_graph_optimizer_registry.cc:113] Plugin optimizer for device_type GPU is enabled.\n",
      "2022-05-15 17:27:56.994123: I tensorflow/core/grappler/optimizers/custom_graph_optimizer_registry.cc:113] Plugin optimizer for device_type GPU is enabled.\n",
      "2022-05-15 17:27:57.006606: I tensorflow/core/grappler/optimizers/custom_graph_optimizer_registry.cc:113] Plugin optimizer for device_type GPU is enabled.\n",
      "2022-05-15 17:27:57.237469: I tensorflow/core/grappler/optimizers/custom_graph_optimizer_registry.cc:113] Plugin optimizer for device_type GPU is enabled.\n",
      "2022-05-15 17:27:57.246813: I tensorflow/core/grappler/optimizers/custom_graph_optimizer_registry.cc:113] Plugin optimizer for device_type GPU is enabled.\n"
     ]
    },
    {
     "name": "stdout",
     "output_type": "stream",
     "text": [
      "7/7 [==============================] - 3s 181ms/step - loss: 0.6579 - accuracy: 0.7744 - precision_30: 0.0000e+00 - recall_30: 0.0000e+00 - get_f1: 0.0000e+00\n",
      "--- Starting trial: run-22\n",
      "{'num_units': 25, 'dropout': 0.2, 'optimizer': 'adam', 'embedding': 'pretrained', 'learning_rate': 0.001, 'batch_size': 64, 'attention': 'no'}\n",
      "Epoch 1/3\n"
     ]
    },
    {
     "name": "stderr",
     "output_type": "stream",
     "text": [
      "2022-05-15 17:28:06.187277: I tensorflow/core/grappler/optimizers/custom_graph_optimizer_registry.cc:113] Plugin optimizer for device_type GPU is enabled.\n",
      "2022-05-15 17:28:07.336300: I tensorflow/core/grappler/optimizers/custom_graph_optimizer_registry.cc:113] Plugin optimizer for device_type GPU is enabled.\n",
      "2022-05-15 17:28:07.429866: I tensorflow/core/grappler/optimizers/custom_graph_optimizer_registry.cc:113] Plugin optimizer for device_type GPU is enabled.\n",
      "2022-05-15 17:28:07.803872: I tensorflow/core/grappler/optimizers/custom_graph_optimizer_registry.cc:113] Plugin optimizer for device_type GPU is enabled.\n",
      "2022-05-15 17:28:07.817453: I tensorflow/core/grappler/optimizers/custom_graph_optimizer_registry.cc:113] Plugin optimizer for device_type GPU is enabled.\n",
      "2022-05-15 17:28:08.380138: I tensorflow/core/grappler/optimizers/custom_graph_optimizer_registry.cc:113] Plugin optimizer for device_type GPU is enabled.\n",
      "2022-05-15 17:28:08.412204: I tensorflow/core/grappler/optimizers/custom_graph_optimizer_registry.cc:113] Plugin optimizer for device_type GPU is enabled.\n",
      "2022-05-15 17:28:09.039832: I tensorflow/core/grappler/optimizers/custom_graph_optimizer_registry.cc:113] Plugin optimizer for device_type GPU is enabled.\n",
      "2022-05-15 17:28:09.066675: I tensorflow/core/grappler/optimizers/custom_graph_optimizer_registry.cc:113] Plugin optimizer for device_type GPU is enabled.\n"
     ]
    },
    {
     "name": "stdout",
     "output_type": "stream",
     "text": [
      "2/2 [==============================] - 11s 1s/step - loss: 0.7992 - accuracy: 0.0700 - precision_31: 0.0000e+00 - recall_31: 0.0000e+00 - get_f1: 0.0000e+00\n",
      "Epoch 2/3\n",
      "2/2 [==============================] - 1s 267ms/step - loss: 0.6173 - accuracy: 0.9400 - precision_31: 0.0000e+00 - recall_31: 0.0000e+00 - get_f1: 0.0000e+00\n",
      "Epoch 3/3\n",
      "2/2 [==============================] - 0s 171ms/step - loss: 0.4724 - accuracy: 1.0000 - precision_31: 0.0000e+00 - recall_31: 0.0000e+00 - get_f1: 0.0000e+00\n"
     ]
    },
    {
     "name": "stderr",
     "output_type": "stream",
     "text": [
      "2022-05-15 17:28:14.960739: I tensorflow/core/grappler/optimizers/custom_graph_optimizer_registry.cc:113] Plugin optimizer for device_type GPU is enabled.\n",
      "2022-05-15 17:28:15.932472: I tensorflow/core/grappler/optimizers/custom_graph_optimizer_registry.cc:113] Plugin optimizer for device_type GPU is enabled.\n",
      "2022-05-15 17:28:15.964419: I tensorflow/core/grappler/optimizers/custom_graph_optimizer_registry.cc:113] Plugin optimizer for device_type GPU is enabled.\n",
      "2022-05-15 17:28:16.234601: I tensorflow/core/grappler/optimizers/custom_graph_optimizer_registry.cc:113] Plugin optimizer for device_type GPU is enabled.\n",
      "2022-05-15 17:28:16.256490: I tensorflow/core/grappler/optimizers/custom_graph_optimizer_registry.cc:113] Plugin optimizer for device_type GPU is enabled.\n"
     ]
    },
    {
     "name": "stdout",
     "output_type": "stream",
     "text": [
      "7/7 [==============================] - 5s 130ms/step - loss: 0.5522 - accuracy: 0.7744 - precision_31: 0.0000e+00 - recall_31: 0.0000e+00 - get_f1: 0.0000e+00\n",
      "--- Starting trial: run-23\n",
      "{'num_units': 25, 'dropout': 0.2, 'optimizer': 'adam', 'embedding': 'pretrained', 'learning_rate': 0.001, 'batch_size': 64, 'attention': 'yes'}\n",
      "Epoch 1/3\n"
     ]
    },
    {
     "name": "stderr",
     "output_type": "stream",
     "text": [
      "2022-05-15 17:29:21.545344: I tensorflow/core/grappler/optimizers/custom_graph_optimizer_registry.cc:113] Plugin optimizer for device_type GPU is enabled.\n",
      "2022-05-15 17:29:40.601563: I tensorflow/core/grappler/optimizers/custom_graph_optimizer_registry.cc:113] Plugin optimizer for device_type GPU is enabled.\n",
      "2022-05-15 17:29:42.866486: I tensorflow/core/grappler/optimizers/custom_graph_optimizer_registry.cc:113] Plugin optimizer for device_type GPU is enabled.\n",
      "2022-05-15 17:29:49.216215: I tensorflow/core/grappler/optimizers/custom_graph_optimizer_registry.cc:113] Plugin optimizer for device_type GPU is enabled.\n",
      "2022-05-15 17:29:49.536764: I tensorflow/core/grappler/optimizers/custom_graph_optimizer_registry.cc:113] Plugin optimizer for device_type GPU is enabled.\n",
      "2022-05-15 17:30:06.038775: I tensorflow/core/grappler/optimizers/custom_graph_optimizer_registry.cc:113] Plugin optimizer for device_type GPU is enabled.\n",
      "2022-05-15 17:30:06.042980: I tensorflow/core/grappler/optimizers/custom_graph_optimizer_registry.cc:113] Plugin optimizer for device_type GPU is enabled.\n",
      "2022-05-15 17:30:07.275205: I tensorflow/core/grappler/optimizers/custom_graph_optimizer_registry.cc:113] Plugin optimizer for device_type GPU is enabled.\n",
      "2022-05-15 17:30:07.310602: I tensorflow/core/grappler/optimizers/custom_graph_optimizer_registry.cc:113] Plugin optimizer for device_type GPU is enabled.\n"
     ]
    },
    {
     "name": "stdout",
     "output_type": "stream",
     "text": [
      "2/2 [==============================] - 109s 1s/step - loss: 0.6291 - accuracy: 0.8800 - precision_32: 0.0000e+00 - recall_32: 0.0000e+00 - get_f1: 0.0000e+00\n",
      "Epoch 2/3\n",
      "2/2 [==============================] - 1s 241ms/step - loss: 0.4754 - accuracy: 1.0000 - precision_32: 0.0000e+00 - recall_32: 0.0000e+00 - get_f1: 0.0000e+00\n",
      "Epoch 3/3\n",
      "2/2 [==============================] - 0s 172ms/step - loss: 0.3546 - accuracy: 1.0000 - precision_32: 0.0000e+00 - recall_32: 0.0000e+00 - get_f1: 0.0000e+00\n"
     ]
    },
    {
     "name": "stderr",
     "output_type": "stream",
     "text": [
      "2022-05-15 17:30:11.827750: I tensorflow/core/grappler/optimizers/custom_graph_optimizer_registry.cc:113] Plugin optimizer for device_type GPU is enabled.\n",
      "2022-05-15 17:30:12.154541: I tensorflow/core/grappler/optimizers/custom_graph_optimizer_registry.cc:113] Plugin optimizer for device_type GPU is enabled.\n",
      "2022-05-15 17:30:12.165707: I tensorflow/core/grappler/optimizers/custom_graph_optimizer_registry.cc:113] Plugin optimizer for device_type GPU is enabled.\n",
      "2022-05-15 17:30:12.325440: I tensorflow/core/grappler/optimizers/custom_graph_optimizer_registry.cc:113] Plugin optimizer for device_type GPU is enabled.\n",
      "2022-05-15 17:30:12.335289: I tensorflow/core/grappler/optimizers/custom_graph_optimizer_registry.cc:113] Plugin optimizer for device_type GPU is enabled.\n"
     ]
    },
    {
     "name": "stdout",
     "output_type": "stream",
     "text": [
      "7/7 [==============================] - 3s 128ms/step - loss: 0.5341 - accuracy: 0.7744 - precision_32: 0.0000e+00 - recall_32: 0.0000e+00 - get_f1: 0.0000e+00\n",
      "--- Starting trial: run-24\n",
      "{'num_units': 25, 'dropout': 0.2, 'optimizer': 'adam', 'embedding': 'from_scratch', 'learning_rate': 0.003, 'batch_size': 64, 'attention': 'no'}\n",
      "Epoch 1/3\n"
     ]
    },
    {
     "name": "stderr",
     "output_type": "stream",
     "text": [
      "2022-05-15 17:30:28.349582: I tensorflow/core/grappler/optimizers/custom_graph_optimizer_registry.cc:113] Plugin optimizer for device_type GPU is enabled.\n",
      "2022-05-15 17:30:29.409479: I tensorflow/core/grappler/optimizers/custom_graph_optimizer_registry.cc:113] Plugin optimizer for device_type GPU is enabled.\n",
      "2022-05-15 17:30:29.493064: I tensorflow/core/grappler/optimizers/custom_graph_optimizer_registry.cc:113] Plugin optimizer for device_type GPU is enabled.\n",
      "2022-05-15 17:30:29.810979: I tensorflow/core/grappler/optimizers/custom_graph_optimizer_registry.cc:113] Plugin optimizer for device_type GPU is enabled.\n",
      "2022-05-15 17:30:29.823328: I tensorflow/core/grappler/optimizers/custom_graph_optimizer_registry.cc:113] Plugin optimizer for device_type GPU is enabled.\n",
      "2022-05-15 17:30:30.421295: I tensorflow/core/grappler/optimizers/custom_graph_optimizer_registry.cc:113] Plugin optimizer for device_type GPU is enabled.\n",
      "2022-05-15 17:30:30.463169: I tensorflow/core/grappler/optimizers/custom_graph_optimizer_registry.cc:113] Plugin optimizer for device_type GPU is enabled.\n",
      "2022-05-15 17:30:32.222823: I tensorflow/core/grappler/optimizers/custom_graph_optimizer_registry.cc:113] Plugin optimizer for device_type GPU is enabled.\n",
      "2022-05-15 17:30:32.287444: I tensorflow/core/grappler/optimizers/custom_graph_optimizer_registry.cc:113] Plugin optimizer for device_type GPU is enabled.\n"
     ]
    },
    {
     "name": "stdout",
     "output_type": "stream",
     "text": [
      "2/2 [==============================] - 20s 1s/step - loss: 0.6820 - accuracy: 0.6300 - precision_33: 0.0000e+00 - recall_33: 0.0000e+00 - get_f1: 0.0000e+00\n",
      "Epoch 2/3\n",
      "2/2 [==============================] - 1s 213ms/step - loss: 0.5905 - accuracy: 1.0000 - precision_33: 0.0000e+00 - recall_33: 0.0000e+00 - get_f1: 0.0000e+00\n",
      "Epoch 3/3\n",
      "2/2 [==============================] - 0s 186ms/step - loss: 0.4285 - accuracy: 1.0000 - precision_33: 0.0000e+00 - recall_33: 0.0000e+00 - get_f1: 0.0000e+00\n"
     ]
    },
    {
     "name": "stderr",
     "output_type": "stream",
     "text": [
      "2022-05-15 17:30:36.032425: I tensorflow/core/grappler/optimizers/custom_graph_optimizer_registry.cc:113] Plugin optimizer for device_type GPU is enabled.\n",
      "2022-05-15 17:30:36.390177: I tensorflow/core/grappler/optimizers/custom_graph_optimizer_registry.cc:113] Plugin optimizer for device_type GPU is enabled.\n",
      "2022-05-15 17:30:36.403071: I tensorflow/core/grappler/optimizers/custom_graph_optimizer_registry.cc:113] Plugin optimizer for device_type GPU is enabled.\n",
      "2022-05-15 17:30:36.583398: I tensorflow/core/grappler/optimizers/custom_graph_optimizer_registry.cc:113] Plugin optimizer for device_type GPU is enabled.\n",
      "2022-05-15 17:30:36.590995: I tensorflow/core/grappler/optimizers/custom_graph_optimizer_registry.cc:113] Plugin optimizer for device_type GPU is enabled.\n"
     ]
    },
    {
     "name": "stdout",
     "output_type": "stream",
     "text": [
      "7/7 [==============================] - 2s 116ms/step - loss: 0.5306 - accuracy: 0.7744 - precision_33: 0.0000e+00 - recall_33: 0.0000e+00 - get_f1: 0.0000e+00\n",
      "--- Starting trial: run-25\n",
      "{'num_units': 25, 'dropout': 0.2, 'optimizer': 'adam', 'embedding': 'from_scratch', 'learning_rate': 0.003, 'batch_size': 64, 'attention': 'yes'}\n",
      "Epoch 1/3\n"
     ]
    },
    {
     "name": "stderr",
     "output_type": "stream",
     "text": [
      "2022-05-15 17:30:43.161265: I tensorflow/core/grappler/optimizers/custom_graph_optimizer_registry.cc:113] Plugin optimizer for device_type GPU is enabled.\n",
      "2022-05-15 17:30:44.032427: I tensorflow/core/grappler/optimizers/custom_graph_optimizer_registry.cc:113] Plugin optimizer for device_type GPU is enabled.\n",
      "2022-05-15 17:30:44.062189: I tensorflow/core/grappler/optimizers/custom_graph_optimizer_registry.cc:113] Plugin optimizer for device_type GPU is enabled.\n",
      "2022-05-15 17:30:44.347465: I tensorflow/core/grappler/optimizers/custom_graph_optimizer_registry.cc:113] Plugin optimizer for device_type GPU is enabled.\n",
      "2022-05-15 17:30:44.358425: I tensorflow/core/grappler/optimizers/custom_graph_optimizer_registry.cc:113] Plugin optimizer for device_type GPU is enabled.\n",
      "2022-05-15 17:30:45.080186: I tensorflow/core/grappler/optimizers/custom_graph_optimizer_registry.cc:113] Plugin optimizer for device_type GPU is enabled.\n",
      "2022-05-15 17:30:45.080218: I tensorflow/core/grappler/optimizers/custom_graph_optimizer_registry.cc:113] Plugin optimizer for device_type GPU is enabled.\n",
      "2022-05-15 17:30:45.575996: I tensorflow/core/grappler/optimizers/custom_graph_optimizer_registry.cc:113] Plugin optimizer for device_type GPU is enabled.\n",
      "2022-05-15 17:30:45.598215: I tensorflow/core/grappler/optimizers/custom_graph_optimizer_registry.cc:113] Plugin optimizer for device_type GPU is enabled.\n"
     ]
    },
    {
     "name": "stdout",
     "output_type": "stream",
     "text": [
      "2/2 [==============================] - 9s 818ms/step - loss: 0.6832 - accuracy: 0.7000 - precision_34: 0.0000e+00 - recall_34: 0.0000e+00 - get_f1: 0.0000e+00\n",
      "Epoch 2/3\n",
      "2/2 [==============================] - 1s 231ms/step - loss: 0.6057 - accuracy: 1.0000 - precision_34: 0.0000e+00 - recall_34: 0.0000e+00 - get_f1: 0.0000e+00\n",
      "Epoch 3/3\n",
      "2/2 [==============================] - 0s 208ms/step - loss: 0.4607 - accuracy: 1.0000 - precision_34: 0.0000e+00 - recall_34: 0.0000e+00 - get_f1: 0.0000e+00\n"
     ]
    },
    {
     "name": "stderr",
     "output_type": "stream",
     "text": [
      "2022-05-15 17:30:48.570370: I tensorflow/core/grappler/optimizers/custom_graph_optimizer_registry.cc:113] Plugin optimizer for device_type GPU is enabled.\n",
      "2022-05-15 17:30:48.972121: I tensorflow/core/grappler/optimizers/custom_graph_optimizer_registry.cc:113] Plugin optimizer for device_type GPU is enabled.\n",
      "2022-05-15 17:30:48.987588: I tensorflow/core/grappler/optimizers/custom_graph_optimizer_registry.cc:113] Plugin optimizer for device_type GPU is enabled.\n",
      "2022-05-15 17:30:49.373608: I tensorflow/core/grappler/optimizers/custom_graph_optimizer_registry.cc:113] Plugin optimizer for device_type GPU is enabled.\n",
      "2022-05-15 17:30:49.382963: I tensorflow/core/grappler/optimizers/custom_graph_optimizer_registry.cc:113] Plugin optimizer for device_type GPU is enabled.\n"
     ]
    },
    {
     "name": "stdout",
     "output_type": "stream",
     "text": [
      "7/7 [==============================] - 3s 143ms/step - loss: 0.5367 - accuracy: 0.7744 - precision_34: 0.0000e+00 - recall_34: 0.0000e+00 - get_f1: 0.0000e+00\n",
      "--- Starting trial: run-26\n",
      "{'num_units': 25, 'dropout': 0.2, 'optimizer': 'adam', 'embedding': 'pretrained', 'learning_rate': 0.003, 'batch_size': 64, 'attention': 'no'}\n",
      "Epoch 1/3\n"
     ]
    },
    {
     "name": "stderr",
     "output_type": "stream",
     "text": [
      "2022-05-15 17:30:57.395066: I tensorflow/core/grappler/optimizers/custom_graph_optimizer_registry.cc:113] Plugin optimizer for device_type GPU is enabled.\n",
      "2022-05-15 17:30:58.496199: I tensorflow/core/grappler/optimizers/custom_graph_optimizer_registry.cc:113] Plugin optimizer for device_type GPU is enabled.\n",
      "2022-05-15 17:30:58.514987: I tensorflow/core/grappler/optimizers/custom_graph_optimizer_registry.cc:113] Plugin optimizer for device_type GPU is enabled.\n",
      "2022-05-15 17:30:58.879364: I tensorflow/core/grappler/optimizers/custom_graph_optimizer_registry.cc:113] Plugin optimizer for device_type GPU is enabled.\n",
      "2022-05-15 17:30:58.891331: I tensorflow/core/grappler/optimizers/custom_graph_optimizer_registry.cc:113] Plugin optimizer for device_type GPU is enabled.\n",
      "2022-05-15 17:30:59.391067: I tensorflow/core/grappler/optimizers/custom_graph_optimizer_registry.cc:113] Plugin optimizer for device_type GPU is enabled.\n",
      "2022-05-15 17:30:59.409127: I tensorflow/core/grappler/optimizers/custom_graph_optimizer_registry.cc:113] Plugin optimizer for device_type GPU is enabled.\n",
      "2022-05-15 17:30:59.774514: I tensorflow/core/grappler/optimizers/custom_graph_optimizer_registry.cc:113] Plugin optimizer for device_type GPU is enabled.\n",
      "2022-05-15 17:30:59.791516: I tensorflow/core/grappler/optimizers/custom_graph_optimizer_registry.cc:113] Plugin optimizer for device_type GPU is enabled.\n"
     ]
    },
    {
     "name": "stdout",
     "output_type": "stream",
     "text": [
      "2/2 [==============================] - 7s 745ms/step - loss: 0.6616 - accuracy: 0.4500 - precision_35: 0.0000e+00 - recall_35: 0.0000e+00 - get_f1: 0.0000e+00\n",
      "Epoch 2/3\n",
      "2/2 [==============================] - 0s 186ms/step - loss: 0.3257 - accuracy: 1.0000 - precision_35: 0.0000e+00 - recall_35: 0.0000e+00 - get_f1: 0.0000e+00\n",
      "Epoch 3/3\n",
      "2/2 [==============================] - 0s 238ms/step - loss: 0.1606 - accuracy: 1.0000 - precision_35: 0.0000e+00 - recall_35: 0.0000e+00 - get_f1: 0.0000e+00\n"
     ]
    },
    {
     "name": "stderr",
     "output_type": "stream",
     "text": [
      "2022-05-15 17:31:03.887718: I tensorflow/core/grappler/optimizers/custom_graph_optimizer_registry.cc:113] Plugin optimizer for device_type GPU is enabled.\n",
      "2022-05-15 17:31:04.228778: I tensorflow/core/grappler/optimizers/custom_graph_optimizer_registry.cc:113] Plugin optimizer for device_type GPU is enabled.\n",
      "2022-05-15 17:31:04.240050: I tensorflow/core/grappler/optimizers/custom_graph_optimizer_registry.cc:113] Plugin optimizer for device_type GPU is enabled.\n",
      "2022-05-15 17:31:04.434386: I tensorflow/core/grappler/optimizers/custom_graph_optimizer_registry.cc:113] Plugin optimizer for device_type GPU is enabled.\n",
      "2022-05-15 17:31:04.442689: I tensorflow/core/grappler/optimizers/custom_graph_optimizer_registry.cc:113] Plugin optimizer for device_type GPU is enabled.\n"
     ]
    },
    {
     "name": "stdout",
     "output_type": "stream",
     "text": [
      "7/7 [==============================] - 3s 109ms/step - loss: 0.6404 - accuracy: 0.7744 - precision_35: 0.0000e+00 - recall_35: 0.0000e+00 - get_f1: 0.0000e+00\n",
      "--- Starting trial: run-27\n",
      "{'num_units': 25, 'dropout': 0.2, 'optimizer': 'adam', 'embedding': 'pretrained', 'learning_rate': 0.003, 'batch_size': 64, 'attention': 'yes'}\n",
      "Epoch 1/3\n"
     ]
    },
    {
     "name": "stderr",
     "output_type": "stream",
     "text": [
      "2022-05-15 17:31:12.279976: I tensorflow/core/grappler/optimizers/custom_graph_optimizer_registry.cc:113] Plugin optimizer for device_type GPU is enabled.\n",
      "2022-05-15 17:31:13.758487: I tensorflow/core/grappler/optimizers/custom_graph_optimizer_registry.cc:113] Plugin optimizer for device_type GPU is enabled.\n",
      "2022-05-15 17:31:13.783651: I tensorflow/core/grappler/optimizers/custom_graph_optimizer_registry.cc:113] Plugin optimizer for device_type GPU is enabled.\n",
      "2022-05-15 17:31:14.404337: I tensorflow/core/grappler/optimizers/custom_graph_optimizer_registry.cc:113] Plugin optimizer for device_type GPU is enabled.\n",
      "2022-05-15 17:31:14.417827: I tensorflow/core/grappler/optimizers/custom_graph_optimizer_registry.cc:113] Plugin optimizer for device_type GPU is enabled.\n",
      "2022-05-15 17:31:15.384725: I tensorflow/core/grappler/optimizers/custom_graph_optimizer_registry.cc:113] Plugin optimizer for device_type GPU is enabled.\n",
      "2022-05-15 17:31:15.387814: I tensorflow/core/grappler/optimizers/custom_graph_optimizer_registry.cc:113] Plugin optimizer for device_type GPU is enabled.\n",
      "2022-05-15 17:31:15.890071: I tensorflow/core/grappler/optimizers/custom_graph_optimizer_registry.cc:113] Plugin optimizer for device_type GPU is enabled.\n",
      "2022-05-15 17:31:15.911467: I tensorflow/core/grappler/optimizers/custom_graph_optimizer_registry.cc:113] Plugin optimizer for device_type GPU is enabled.\n"
     ]
    },
    {
     "name": "stdout",
     "output_type": "stream",
     "text": [
      "2/2 [==============================] - 11s 822ms/step - loss: 0.8050 - accuracy: 0.2400 - precision_36: 0.0000e+00 - recall_36: 0.0000e+00 - get_f1: 0.0000e+00\n",
      "Epoch 2/3\n",
      "2/2 [==============================] - 0s 200ms/step - loss: 0.4768 - accuracy: 1.0000 - precision_36: 0.0000e+00 - recall_36: 0.0000e+00 - get_f1: 0.0000e+00\n",
      "Epoch 3/3\n",
      "2/2 [==============================] - 0s 176ms/step - loss: 0.2755 - accuracy: 1.0000 - precision_36: 0.0000e+00 - recall_36: 0.0000e+00 - get_f1: 0.0000e+00\n"
     ]
    },
    {
     "name": "stderr",
     "output_type": "stream",
     "text": [
      "2022-05-15 17:31:18.952485: I tensorflow/core/grappler/optimizers/custom_graph_optimizer_registry.cc:113] Plugin optimizer for device_type GPU is enabled.\n",
      "2022-05-15 17:31:19.313506: I tensorflow/core/grappler/optimizers/custom_graph_optimizer_registry.cc:113] Plugin optimizer for device_type GPU is enabled.\n",
      "2022-05-15 17:31:19.323813: I tensorflow/core/grappler/optimizers/custom_graph_optimizer_registry.cc:113] Plugin optimizer for device_type GPU is enabled.\n",
      "2022-05-15 17:31:19.617039: I tensorflow/core/grappler/optimizers/custom_graph_optimizer_registry.cc:113] Plugin optimizer for device_type GPU is enabled.\n",
      "2022-05-15 17:31:19.626906: I tensorflow/core/grappler/optimizers/custom_graph_optimizer_registry.cc:113] Plugin optimizer for device_type GPU is enabled.\n"
     ]
    },
    {
     "name": "stdout",
     "output_type": "stream",
     "text": [
      "7/7 [==============================] - 3s 134ms/step - loss: 0.5571 - accuracy: 0.7744 - precision_36: 0.0000e+00 - recall_36: 0.0000e+00 - get_f1: 0.0000e+00\n",
      "--- Starting trial: run-28\n",
      "{'num_units': 25, 'dropout': 0.2, 'optimizer': 'adam', 'embedding': 'from_scratch', 'learning_rate': 0.01, 'batch_size': 64, 'attention': 'no'}\n",
      "Epoch 1/3\n"
     ]
    },
    {
     "name": "stderr",
     "output_type": "stream",
     "text": [
      "2022-05-15 17:31:27.070346: I tensorflow/core/grappler/optimizers/custom_graph_optimizer_registry.cc:113] Plugin optimizer for device_type GPU is enabled.\n",
      "2022-05-15 17:31:28.050495: I tensorflow/core/grappler/optimizers/custom_graph_optimizer_registry.cc:113] Plugin optimizer for device_type GPU is enabled.\n",
      "2022-05-15 17:31:28.075419: I tensorflow/core/grappler/optimizers/custom_graph_optimizer_registry.cc:113] Plugin optimizer for device_type GPU is enabled.\n",
      "2022-05-15 17:31:28.346627: I tensorflow/core/grappler/optimizers/custom_graph_optimizer_registry.cc:113] Plugin optimizer for device_type GPU is enabled.\n",
      "2022-05-15 17:31:28.360510: I tensorflow/core/grappler/optimizers/custom_graph_optimizer_registry.cc:113] Plugin optimizer for device_type GPU is enabled.\n",
      "2022-05-15 17:31:29.071518: I tensorflow/core/grappler/optimizers/custom_graph_optimizer_registry.cc:113] Plugin optimizer for device_type GPU is enabled.\n",
      "2022-05-15 17:31:29.094492: I tensorflow/core/grappler/optimizers/custom_graph_optimizer_registry.cc:113] Plugin optimizer for device_type GPU is enabled.\n",
      "2022-05-15 17:31:29.523326: I tensorflow/core/grappler/optimizers/custom_graph_optimizer_registry.cc:113] Plugin optimizer for device_type GPU is enabled.\n",
      "2022-05-15 17:31:29.540497: I tensorflow/core/grappler/optimizers/custom_graph_optimizer_registry.cc:113] Plugin optimizer for device_type GPU is enabled.\n"
     ]
    },
    {
     "name": "stdout",
     "output_type": "stream",
     "text": [
      "2/2 [==============================] - 9s 838ms/step - loss: 0.6497 - accuracy: 0.7000 - precision_37: 0.0000e+00 - recall_37: 0.0000e+00 - get_f1: 0.0000e+00\n",
      "Epoch 2/3\n",
      "2/2 [==============================] - 1s 278ms/step - loss: 0.1871 - accuracy: 1.0000 - precision_37: 0.0000e+00 - recall_37: 0.0000e+00 - get_f1: 0.0000e+00\n",
      "Epoch 3/3\n",
      "2/2 [==============================] - 0s 298ms/step - loss: 0.0048 - accuracy: 1.0000 - precision_37: 0.0000e+00 - recall_37: 0.0000e+00 - get_f1: 0.0000e+00\n"
     ]
    },
    {
     "name": "stderr",
     "output_type": "stream",
     "text": [
      "2022-05-15 17:31:32.911431: I tensorflow/core/grappler/optimizers/custom_graph_optimizer_registry.cc:113] Plugin optimizer for device_type GPU is enabled.\n",
      "2022-05-15 17:31:33.247915: I tensorflow/core/grappler/optimizers/custom_graph_optimizer_registry.cc:113] Plugin optimizer for device_type GPU is enabled.\n",
      "2022-05-15 17:31:33.260495: I tensorflow/core/grappler/optimizers/custom_graph_optimizer_registry.cc:113] Plugin optimizer for device_type GPU is enabled.\n",
      "2022-05-15 17:31:33.511417: I tensorflow/core/grappler/optimizers/custom_graph_optimizer_registry.cc:113] Plugin optimizer for device_type GPU is enabled.\n",
      "2022-05-15 17:31:33.519334: I tensorflow/core/grappler/optimizers/custom_graph_optimizer_registry.cc:113] Plugin optimizer for device_type GPU is enabled.\n"
     ]
    },
    {
     "name": "stdout",
     "output_type": "stream",
     "text": [
      "7/7 [==============================] - 2s 136ms/step - loss: 1.6027 - accuracy: 0.7744 - precision_37: 0.0000e+00 - recall_37: 0.0000e+00 - get_f1: 0.0000e+00\n",
      "--- Starting trial: run-29\n",
      "{'num_units': 25, 'dropout': 0.2, 'optimizer': 'adam', 'embedding': 'from_scratch', 'learning_rate': 0.01, 'batch_size': 64, 'attention': 'yes'}\n",
      "Epoch 1/3\n"
     ]
    },
    {
     "name": "stderr",
     "output_type": "stream",
     "text": [
      "2022-05-15 17:31:40.628528: I tensorflow/core/grappler/optimizers/custom_graph_optimizer_registry.cc:113] Plugin optimizer for device_type GPU is enabled.\n",
      "2022-05-15 17:31:41.772305: I tensorflow/core/grappler/optimizers/custom_graph_optimizer_registry.cc:113] Plugin optimizer for device_type GPU is enabled.\n",
      "2022-05-15 17:31:41.790157: I tensorflow/core/grappler/optimizers/custom_graph_optimizer_registry.cc:113] Plugin optimizer for device_type GPU is enabled.\n",
      "2022-05-15 17:31:42.181043: I tensorflow/core/grappler/optimizers/custom_graph_optimizer_registry.cc:113] Plugin optimizer for device_type GPU is enabled.\n",
      "2022-05-15 17:31:42.191771: I tensorflow/core/grappler/optimizers/custom_graph_optimizer_registry.cc:113] Plugin optimizer for device_type GPU is enabled.\n",
      "2022-05-15 17:31:42.835916: I tensorflow/core/grappler/optimizers/custom_graph_optimizer_registry.cc:113] Plugin optimizer for device_type GPU is enabled.\n",
      "2022-05-15 17:31:42.836566: I tensorflow/core/grappler/optimizers/custom_graph_optimizer_registry.cc:113] Plugin optimizer for device_type GPU is enabled.\n",
      "2022-05-15 17:31:43.283730: I tensorflow/core/grappler/optimizers/custom_graph_optimizer_registry.cc:113] Plugin optimizer for device_type GPU is enabled.\n",
      "2022-05-15 17:31:43.302737: I tensorflow/core/grappler/optimizers/custom_graph_optimizer_registry.cc:113] Plugin optimizer for device_type GPU is enabled.\n"
     ]
    },
    {
     "name": "stdout",
     "output_type": "stream",
     "text": [
      "2/2 [==============================] - 10s 926ms/step - loss: 0.6529 - accuracy: 0.7000 - precision_38: 0.0000e+00 - recall_38: 0.0000e+00 - get_f1: 0.0000e+00\n",
      "Epoch 2/3\n",
      "2/2 [==============================] - 1s 203ms/step - loss: 0.2174 - accuracy: 1.0000 - precision_38: 0.0000e+00 - recall_38: 0.0000e+00 - get_f1: 0.0000e+00\n",
      "Epoch 3/3\n",
      "2/2 [==============================] - 0s 164ms/step - loss: 0.0036 - accuracy: 1.0000 - precision_38: 0.0000e+00 - recall_38: 0.0000e+00 - get_f1: 0.0000e+00\n"
     ]
    },
    {
     "name": "stderr",
     "output_type": "stream",
     "text": [
      "2022-05-15 17:31:46.652239: I tensorflow/core/grappler/optimizers/custom_graph_optimizer_registry.cc:113] Plugin optimizer for device_type GPU is enabled.\n",
      "2022-05-15 17:31:46.986983: I tensorflow/core/grappler/optimizers/custom_graph_optimizer_registry.cc:113] Plugin optimizer for device_type GPU is enabled.\n",
      "2022-05-15 17:31:46.997146: I tensorflow/core/grappler/optimizers/custom_graph_optimizer_registry.cc:113] Plugin optimizer for device_type GPU is enabled.\n",
      "2022-05-15 17:31:47.222473: I tensorflow/core/grappler/optimizers/custom_graph_optimizer_registry.cc:113] Plugin optimizer for device_type GPU is enabled.\n",
      "2022-05-15 17:31:47.231385: I tensorflow/core/grappler/optimizers/custom_graph_optimizer_registry.cc:113] Plugin optimizer for device_type GPU is enabled.\n"
     ]
    },
    {
     "name": "stdout",
     "output_type": "stream",
     "text": [
      "7/7 [==============================] - 3s 145ms/step - loss: 1.7925 - accuracy: 0.7744 - precision_38: 0.0000e+00 - recall_38: 0.0000e+00 - get_f1: 0.0000e+00\n",
      "--- Starting trial: run-30\n",
      "{'num_units': 25, 'dropout': 0.2, 'optimizer': 'adam', 'embedding': 'pretrained', 'learning_rate': 0.01, 'batch_size': 64, 'attention': 'no'}\n",
      "Epoch 1/3\n"
     ]
    },
    {
     "name": "stderr",
     "output_type": "stream",
     "text": [
      "2022-05-15 17:31:54.391045: I tensorflow/core/grappler/optimizers/custom_graph_optimizer_registry.cc:113] Plugin optimizer for device_type GPU is enabled.\n",
      "2022-05-15 17:31:55.442530: I tensorflow/core/grappler/optimizers/custom_graph_optimizer_registry.cc:113] Plugin optimizer for device_type GPU is enabled.\n",
      "2022-05-15 17:31:55.486890: I tensorflow/core/grappler/optimizers/custom_graph_optimizer_registry.cc:113] Plugin optimizer for device_type GPU is enabled.\n",
      "2022-05-15 17:31:55.886849: I tensorflow/core/grappler/optimizers/custom_graph_optimizer_registry.cc:113] Plugin optimizer for device_type GPU is enabled.\n",
      "2022-05-15 17:31:55.898276: I tensorflow/core/grappler/optimizers/custom_graph_optimizer_registry.cc:113] Plugin optimizer for device_type GPU is enabled.\n",
      "2022-05-15 17:31:56.445573: I tensorflow/core/grappler/optimizers/custom_graph_optimizer_registry.cc:113] Plugin optimizer for device_type GPU is enabled.\n",
      "2022-05-15 17:31:56.462665: I tensorflow/core/grappler/optimizers/custom_graph_optimizer_registry.cc:113] Plugin optimizer for device_type GPU is enabled.\n",
      "2022-05-15 17:31:56.963394: I tensorflow/core/grappler/optimizers/custom_graph_optimizer_registry.cc:113] Plugin optimizer for device_type GPU is enabled.\n",
      "2022-05-15 17:31:56.981166: I tensorflow/core/grappler/optimizers/custom_graph_optimizer_registry.cc:113] Plugin optimizer for device_type GPU is enabled.\n"
     ]
    },
    {
     "name": "stdout",
     "output_type": "stream",
     "text": [
      "2/2 [==============================] - 9s 880ms/step - loss: 0.5736 - accuracy: 0.4200 - precision_39: 0.0000e+00 - recall_39: 0.0000e+00 - get_f1: 0.0000e+00\n",
      "Epoch 2/3\n",
      "2/2 [==============================] - 0s 185ms/step - loss: 0.0655 - accuracy: 1.0000 - precision_39: 0.0000e+00 - recall_39: 0.0000e+00 - get_f1: 0.0000e+00\n",
      "Epoch 3/3\n",
      "2/2 [==============================] - 0s 161ms/step - loss: 0.0094 - accuracy: 1.0000 - precision_39: 0.0000e+00 - recall_39: 0.0000e+00 - get_f1: 0.0000e+00\n"
     ]
    },
    {
     "name": "stderr",
     "output_type": "stream",
     "text": [
      "2022-05-15 17:31:59.897286: I tensorflow/core/grappler/optimizers/custom_graph_optimizer_registry.cc:113] Plugin optimizer for device_type GPU is enabled.\n",
      "2022-05-15 17:32:00.225859: I tensorflow/core/grappler/optimizers/custom_graph_optimizer_registry.cc:113] Plugin optimizer for device_type GPU is enabled.\n",
      "2022-05-15 17:32:00.234961: I tensorflow/core/grappler/optimizers/custom_graph_optimizer_registry.cc:113] Plugin optimizer for device_type GPU is enabled.\n",
      "2022-05-15 17:32:00.477152: I tensorflow/core/grappler/optimizers/custom_graph_optimizer_registry.cc:113] Plugin optimizer for device_type GPU is enabled.\n",
      "2022-05-15 17:32:00.485014: I tensorflow/core/grappler/optimizers/custom_graph_optimizer_registry.cc:113] Plugin optimizer for device_type GPU is enabled.\n"
     ]
    },
    {
     "name": "stdout",
     "output_type": "stream",
     "text": [
      "7/7 [==============================] - 3s 137ms/step - loss: 1.3304 - accuracy: 0.7744 - precision_39: 0.0000e+00 - recall_39: 0.0000e+00 - get_f1: 0.0000e+00\n",
      "--- Starting trial: run-31\n",
      "{'num_units': 25, 'dropout': 0.2, 'optimizer': 'adam', 'embedding': 'pretrained', 'learning_rate': 0.01, 'batch_size': 64, 'attention': 'yes'}\n",
      "Epoch 1/3\n"
     ]
    },
    {
     "name": "stderr",
     "output_type": "stream",
     "text": [
      "2022-05-15 17:32:08.771154: I tensorflow/core/grappler/optimizers/custom_graph_optimizer_registry.cc:113] Plugin optimizer for device_type GPU is enabled.\n",
      "2022-05-15 17:32:10.050215: I tensorflow/core/grappler/optimizers/custom_graph_optimizer_registry.cc:113] Plugin optimizer for device_type GPU is enabled.\n",
      "2022-05-15 17:32:10.069778: I tensorflow/core/grappler/optimizers/custom_graph_optimizer_registry.cc:113] Plugin optimizer for device_type GPU is enabled.\n",
      "2022-05-15 17:32:10.515425: I tensorflow/core/grappler/optimizers/custom_graph_optimizer_registry.cc:113] Plugin optimizer for device_type GPU is enabled.\n",
      "2022-05-15 17:32:10.527457: I tensorflow/core/grappler/optimizers/custom_graph_optimizer_registry.cc:113] Plugin optimizer for device_type GPU is enabled.\n",
      "2022-05-15 17:32:11.533450: I tensorflow/core/grappler/optimizers/custom_graph_optimizer_registry.cc:113] Plugin optimizer for device_type GPU is enabled.\n",
      "2022-05-15 17:32:11.534103: I tensorflow/core/grappler/optimizers/custom_graph_optimizer_registry.cc:113] Plugin optimizer for device_type GPU is enabled.\n",
      "2022-05-15 17:32:12.170921: I tensorflow/core/grappler/optimizers/custom_graph_optimizer_registry.cc:113] Plugin optimizer for device_type GPU is enabled.\n",
      "2022-05-15 17:32:12.189157: I tensorflow/core/grappler/optimizers/custom_graph_optimizer_registry.cc:113] Plugin optimizer for device_type GPU is enabled.\n"
     ]
    },
    {
     "name": "stdout",
     "output_type": "stream",
     "text": [
      "2/2 [==============================] - 9s 1s/step - loss: 0.5425 - accuracy: 0.5200 - precision_40: 0.0000e+00 - recall_40: 0.0000e+00 - get_f1: 0.0000e+00\n",
      "Epoch 2/3\n",
      "2/2 [==============================] - 1s 382ms/step - loss: 0.0482 - accuracy: 1.0000 - precision_40: 0.0000e+00 - recall_40: 0.0000e+00 - get_f1: 0.0000e+00\n",
      "Epoch 3/3\n",
      "2/2 [==============================] - 1s 257ms/step - loss: 0.0063 - accuracy: 1.0000 - precision_40: 0.0000e+00 - recall_40: 0.0000e+00 - get_f1: 0.0000e+00\n"
     ]
    },
    {
     "name": "stderr",
     "output_type": "stream",
     "text": [
      "2022-05-15 17:32:16.201154: I tensorflow/core/grappler/optimizers/custom_graph_optimizer_registry.cc:113] Plugin optimizer for device_type GPU is enabled.\n",
      "2022-05-15 17:32:16.572032: I tensorflow/core/grappler/optimizers/custom_graph_optimizer_registry.cc:113] Plugin optimizer for device_type GPU is enabled.\n",
      "2022-05-15 17:32:16.587655: I tensorflow/core/grappler/optimizers/custom_graph_optimizer_registry.cc:113] Plugin optimizer for device_type GPU is enabled.\n",
      "2022-05-15 17:32:16.848408: I tensorflow/core/grappler/optimizers/custom_graph_optimizer_registry.cc:113] Plugin optimizer for device_type GPU is enabled.\n",
      "2022-05-15 17:32:16.856724: I tensorflow/core/grappler/optimizers/custom_graph_optimizer_registry.cc:113] Plugin optimizer for device_type GPU is enabled.\n"
     ]
    },
    {
     "name": "stdout",
     "output_type": "stream",
     "text": [
      "7/7 [==============================] - 3s 162ms/step - loss: 1.4161 - accuracy: 0.7744 - precision_40: 0.0000e+00 - recall_40: 0.0000e+00 - get_f1: 0.0000e+00\n",
      "--- Starting trial: run-32\n",
      "{'num_units': 25, 'dropout': 0.2, 'optimizer': 'adam', 'embedding': 'from_scratch', 'learning_rate': 0.03, 'batch_size': 64, 'attention': 'no'}\n",
      "Epoch 1/3\n"
     ]
    },
    {
     "name": "stderr",
     "output_type": "stream",
     "text": [
      "2022-05-15 17:32:24.249941: I tensorflow/core/grappler/optimizers/custom_graph_optimizer_registry.cc:113] Plugin optimizer for device_type GPU is enabled.\n",
      "2022-05-15 17:32:25.245772: I tensorflow/core/grappler/optimizers/custom_graph_optimizer_registry.cc:113] Plugin optimizer for device_type GPU is enabled.\n",
      "2022-05-15 17:32:25.285970: I tensorflow/core/grappler/optimizers/custom_graph_optimizer_registry.cc:113] Plugin optimizer for device_type GPU is enabled.\n",
      "2022-05-15 17:32:25.651093: I tensorflow/core/grappler/optimizers/custom_graph_optimizer_registry.cc:113] Plugin optimizer for device_type GPU is enabled.\n",
      "2022-05-15 17:32:25.665177: I tensorflow/core/grappler/optimizers/custom_graph_optimizer_registry.cc:113] Plugin optimizer for device_type GPU is enabled.\n",
      "2022-05-15 17:32:26.314110: I tensorflow/core/grappler/optimizers/custom_graph_optimizer_registry.cc:113] Plugin optimizer for device_type GPU is enabled.\n",
      "2022-05-15 17:32:26.331716: I tensorflow/core/grappler/optimizers/custom_graph_optimizer_registry.cc:113] Plugin optimizer for device_type GPU is enabled.\n",
      "2022-05-15 17:32:26.932846: I tensorflow/core/grappler/optimizers/custom_graph_optimizer_registry.cc:113] Plugin optimizer for device_type GPU is enabled.\n",
      "2022-05-15 17:32:26.952533: I tensorflow/core/grappler/optimizers/custom_graph_optimizer_registry.cc:113] Plugin optimizer for device_type GPU is enabled.\n"
     ]
    },
    {
     "name": "stdout",
     "output_type": "stream",
     "text": [
      "2/2 [==============================] - 10s 1s/step - loss: 0.5448 - accuracy: 0.7300 - precision_41: 0.0000e+00 - recall_41: 0.0000e+00 - get_f1: 0.0000e+00\n",
      "Epoch 2/3\n",
      "2/2 [==============================] - 1s 264ms/step - loss: 0.0072 - accuracy: 1.0000 - precision_41: 0.0000e+00 - recall_41: 0.0000e+00 - get_f1: 0.0000e+00\n",
      "Epoch 3/3\n",
      "2/2 [==============================] - 0s 211ms/step - loss: 2.2561e-04 - accuracy: 1.0000 - precision_41: 0.0000e+00 - recall_41: 0.0000e+00 - get_f1: 0.0000e+00\n"
     ]
    },
    {
     "name": "stderr",
     "output_type": "stream",
     "text": [
      "2022-05-15 17:32:30.435660: I tensorflow/core/grappler/optimizers/custom_graph_optimizer_registry.cc:113] Plugin optimizer for device_type GPU is enabled.\n",
      "2022-05-15 17:32:30.747954: I tensorflow/core/grappler/optimizers/custom_graph_optimizer_registry.cc:113] Plugin optimizer for device_type GPU is enabled.\n",
      "2022-05-15 17:32:30.761995: I tensorflow/core/grappler/optimizers/custom_graph_optimizer_registry.cc:113] Plugin optimizer for device_type GPU is enabled.\n",
      "2022-05-15 17:32:30.997915: I tensorflow/core/grappler/optimizers/custom_graph_optimizer_registry.cc:113] Plugin optimizer for device_type GPU is enabled.\n",
      "2022-05-15 17:32:31.006708: I tensorflow/core/grappler/optimizers/custom_graph_optimizer_registry.cc:113] Plugin optimizer for device_type GPU is enabled.\n"
     ]
    },
    {
     "name": "stdout",
     "output_type": "stream",
     "text": [
      "7/7 [==============================] - 3s 156ms/step - loss: 2.2599 - accuracy: 0.7744 - precision_41: 0.0000e+00 - recall_41: 0.0000e+00 - get_f1: 0.0000e+00\n",
      "--- Starting trial: run-33\n",
      "{'num_units': 25, 'dropout': 0.2, 'optimizer': 'adam', 'embedding': 'from_scratch', 'learning_rate': 0.03, 'batch_size': 64, 'attention': 'yes'}\n",
      "Epoch 1/3\n"
     ]
    },
    {
     "name": "stderr",
     "output_type": "stream",
     "text": [
      "2022-05-15 17:32:38.929390: I tensorflow/core/grappler/optimizers/custom_graph_optimizer_registry.cc:113] Plugin optimizer for device_type GPU is enabled.\n",
      "2022-05-15 17:32:39.914148: I tensorflow/core/grappler/optimizers/custom_graph_optimizer_registry.cc:113] Plugin optimizer for device_type GPU is enabled.\n",
      "2022-05-15 17:32:39.935143: I tensorflow/core/grappler/optimizers/custom_graph_optimizer_registry.cc:113] Plugin optimizer for device_type GPU is enabled.\n",
      "2022-05-15 17:32:40.378100: I tensorflow/core/grappler/optimizers/custom_graph_optimizer_registry.cc:113] Plugin optimizer for device_type GPU is enabled.\n",
      "2022-05-15 17:32:40.389192: I tensorflow/core/grappler/optimizers/custom_graph_optimizer_registry.cc:113] Plugin optimizer for device_type GPU is enabled.\n",
      "2022-05-15 17:32:41.423890: I tensorflow/core/grappler/optimizers/custom_graph_optimizer_registry.cc:113] Plugin optimizer for device_type GPU is enabled.\n",
      "2022-05-15 17:32:41.425083: I tensorflow/core/grappler/optimizers/custom_graph_optimizer_registry.cc:113] Plugin optimizer for device_type GPU is enabled.\n",
      "2022-05-15 17:32:42.129187: I tensorflow/core/grappler/optimizers/custom_graph_optimizer_registry.cc:113] Plugin optimizer for device_type GPU is enabled.\n",
      "2022-05-15 17:32:42.148529: I tensorflow/core/grappler/optimizers/custom_graph_optimizer_registry.cc:113] Plugin optimizer for device_type GPU is enabled.\n"
     ]
    },
    {
     "name": "stdout",
     "output_type": "stream",
     "text": [
      "2/2 [==============================] - 11s 1s/step - loss: 0.6353 - accuracy: 0.5700 - precision_42: 0.0000e+00 - recall_42: 0.0000e+00 - get_f1: 0.0000e+00\n",
      "Epoch 2/3\n",
      "2/2 [==============================] - 1s 333ms/step - loss: 0.0182 - accuracy: 1.0000 - precision_42: 0.0000e+00 - recall_42: 0.0000e+00 - get_f1: 0.0000e+00\n",
      "Epoch 3/3\n",
      "2/2 [==============================] - 1s 257ms/step - loss: 1.7729e-04 - accuracy: 1.0000 - precision_42: 0.0000e+00 - recall_42: 0.0000e+00 - get_f1: 0.0000e+00\n"
     ]
    },
    {
     "name": "stderr",
     "output_type": "stream",
     "text": [
      "2022-05-15 17:32:46.202681: I tensorflow/core/grappler/optimizers/custom_graph_optimizer_registry.cc:113] Plugin optimizer for device_type GPU is enabled.\n",
      "2022-05-15 17:32:46.868253: I tensorflow/core/grappler/optimizers/custom_graph_optimizer_registry.cc:113] Plugin optimizer for device_type GPU is enabled.\n",
      "2022-05-15 17:32:46.875934: I tensorflow/core/grappler/optimizers/custom_graph_optimizer_registry.cc:113] Plugin optimizer for device_type GPU is enabled.\n",
      "2022-05-15 17:32:47.205061: I tensorflow/core/grappler/optimizers/custom_graph_optimizer_registry.cc:113] Plugin optimizer for device_type GPU is enabled.\n",
      "2022-05-15 17:32:47.214000: I tensorflow/core/grappler/optimizers/custom_graph_optimizer_registry.cc:113] Plugin optimizer for device_type GPU is enabled.\n"
     ]
    },
    {
     "name": "stdout",
     "output_type": "stream",
     "text": [
      "7/7 [==============================] - 4s 185ms/step - loss: 2.3939 - accuracy: 0.7744 - precision_42: 0.0000e+00 - recall_42: 0.0000e+00 - get_f1: 0.0000e+00\n",
      "--- Starting trial: run-34\n",
      "{'num_units': 25, 'dropout': 0.2, 'optimizer': 'adam', 'embedding': 'pretrained', 'learning_rate': 0.03, 'batch_size': 64, 'attention': 'no'}\n",
      "Epoch 1/3\n"
     ]
    },
    {
     "name": "stderr",
     "output_type": "stream",
     "text": [
      "2022-05-15 17:32:54.768478: I tensorflow/core/grappler/optimizers/custom_graph_optimizer_registry.cc:113] Plugin optimizer for device_type GPU is enabled.\n",
      "2022-05-15 17:32:55.716841: I tensorflow/core/grappler/optimizers/custom_graph_optimizer_registry.cc:113] Plugin optimizer for device_type GPU is enabled.\n",
      "2022-05-15 17:32:55.760582: I tensorflow/core/grappler/optimizers/custom_graph_optimizer_registry.cc:113] Plugin optimizer for device_type GPU is enabled.\n",
      "2022-05-15 17:32:56.220681: I tensorflow/core/grappler/optimizers/custom_graph_optimizer_registry.cc:113] Plugin optimizer for device_type GPU is enabled.\n",
      "2022-05-15 17:32:56.232830: I tensorflow/core/grappler/optimizers/custom_graph_optimizer_registry.cc:113] Plugin optimizer for device_type GPU is enabled.\n",
      "2022-05-15 17:32:56.909251: I tensorflow/core/grappler/optimizers/custom_graph_optimizer_registry.cc:113] Plugin optimizer for device_type GPU is enabled.\n",
      "2022-05-15 17:32:56.925236: I tensorflow/core/grappler/optimizers/custom_graph_optimizer_registry.cc:113] Plugin optimizer for device_type GPU is enabled.\n",
      "2022-05-15 17:32:57.545833: I tensorflow/core/grappler/optimizers/custom_graph_optimizer_registry.cc:113] Plugin optimizer for device_type GPU is enabled.\n",
      "2022-05-15 17:32:57.567402: I tensorflow/core/grappler/optimizers/custom_graph_optimizer_registry.cc:113] Plugin optimizer for device_type GPU is enabled.\n"
     ]
    },
    {
     "name": "stdout",
     "output_type": "stream",
     "text": [
      "2/2 [==============================] - 9s 886ms/step - loss: 0.3660 - accuracy: 1.0000 - precision_43: 0.0000e+00 - recall_43: 0.0000e+00 - get_f1: 0.0000e+00\n",
      "Epoch 2/3\n",
      "2/2 [==============================] - 1s 204ms/step - loss: 0.0049 - accuracy: 1.0000 - precision_43: 0.0000e+00 - recall_43: 0.0000e+00 - get_f1: 0.0000e+00\n",
      "Epoch 3/3\n",
      "2/2 [==============================] - 1s 338ms/step - loss: 5.2414e-04 - accuracy: 1.0000 - precision_43: 0.0000e+00 - recall_43: 0.0000e+00 - get_f1: 0.0000e+00\n"
     ]
    },
    {
     "name": "stderr",
     "output_type": "stream",
     "text": [
      "2022-05-15 17:33:01.027339: I tensorflow/core/grappler/optimizers/custom_graph_optimizer_registry.cc:113] Plugin optimizer for device_type GPU is enabled.\n",
      "2022-05-15 17:33:01.423576: I tensorflow/core/grappler/optimizers/custom_graph_optimizer_registry.cc:113] Plugin optimizer for device_type GPU is enabled.\n",
      "2022-05-15 17:33:01.449389: I tensorflow/core/grappler/optimizers/custom_graph_optimizer_registry.cc:113] Plugin optimizer for device_type GPU is enabled.\n",
      "2022-05-15 17:33:01.760286: I tensorflow/core/grappler/optimizers/custom_graph_optimizer_registry.cc:113] Plugin optimizer for device_type GPU is enabled.\n",
      "2022-05-15 17:33:01.768310: I tensorflow/core/grappler/optimizers/custom_graph_optimizer_registry.cc:113] Plugin optimizer for device_type GPU is enabled.\n"
     ]
    },
    {
     "name": "stdout",
     "output_type": "stream",
     "text": [
      "7/7 [==============================] - 3s 164ms/step - loss: 1.9547 - accuracy: 0.7744 - precision_43: 0.0000e+00 - recall_43: 0.0000e+00 - get_f1: 0.0000e+00\n",
      "--- Starting trial: run-35\n",
      "{'num_units': 25, 'dropout': 0.2, 'optimizer': 'adam', 'embedding': 'pretrained', 'learning_rate': 0.03, 'batch_size': 64, 'attention': 'yes'}\n",
      "Epoch 1/3\n"
     ]
    },
    {
     "name": "stderr",
     "output_type": "stream",
     "text": [
      "2022-05-15 17:33:09.351807: I tensorflow/core/grappler/optimizers/custom_graph_optimizer_registry.cc:113] Plugin optimizer for device_type GPU is enabled.\n",
      "2022-05-15 17:33:10.409654: I tensorflow/core/grappler/optimizers/custom_graph_optimizer_registry.cc:113] Plugin optimizer for device_type GPU is enabled.\n",
      "2022-05-15 17:33:10.422883: I tensorflow/core/grappler/optimizers/custom_graph_optimizer_registry.cc:113] Plugin optimizer for device_type GPU is enabled.\n",
      "2022-05-15 17:33:10.858713: I tensorflow/core/grappler/optimizers/custom_graph_optimizer_registry.cc:113] Plugin optimizer for device_type GPU is enabled.\n",
      "2022-05-15 17:33:10.871775: I tensorflow/core/grappler/optimizers/custom_graph_optimizer_registry.cc:113] Plugin optimizer for device_type GPU is enabled.\n",
      "2022-05-15 17:33:12.063265: I tensorflow/core/grappler/optimizers/custom_graph_optimizer_registry.cc:113] Plugin optimizer for device_type GPU is enabled.\n",
      "2022-05-15 17:33:12.063292: I tensorflow/core/grappler/optimizers/custom_graph_optimizer_registry.cc:113] Plugin optimizer for device_type GPU is enabled.\n",
      "2022-05-15 17:33:12.708652: I tensorflow/core/grappler/optimizers/custom_graph_optimizer_registry.cc:113] Plugin optimizer for device_type GPU is enabled.\n",
      "2022-05-15 17:33:12.729609: I tensorflow/core/grappler/optimizers/custom_graph_optimizer_registry.cc:113] Plugin optimizer for device_type GPU is enabled.\n"
     ]
    },
    {
     "name": "stdout",
     "output_type": "stream",
     "text": [
      "2/2 [==============================] - 11s 1s/step - loss: 0.3976 - accuracy: 1.0000 - precision_44: 0.0000e+00 - recall_44: 0.0000e+00 - get_f1: 0.0000e+00\n",
      "Epoch 2/3\n",
      "2/2 [==============================] - 1s 270ms/step - loss: 5.7394e-04 - accuracy: 1.0000 - precision_44: 0.0000e+00 - recall_44: 0.0000e+00 - get_f1: 0.0000e+00\n",
      "Epoch 3/3\n",
      "2/2 [==============================] - 1s 338ms/step - loss: 4.4072e-05 - accuracy: 1.0000 - precision_44: 0.0000e+00 - recall_44: 0.0000e+00 - get_f1: 0.0000e+00\n"
     ]
    },
    {
     "name": "stderr",
     "output_type": "stream",
     "text": [
      "2022-05-15 17:33:17.173558: I tensorflow/core/grappler/optimizers/custom_graph_optimizer_registry.cc:113] Plugin optimizer for device_type GPU is enabled.\n",
      "2022-05-15 17:33:17.524450: I tensorflow/core/grappler/optimizers/custom_graph_optimizer_registry.cc:113] Plugin optimizer for device_type GPU is enabled.\n",
      "2022-05-15 17:33:17.553711: I tensorflow/core/grappler/optimizers/custom_graph_optimizer_registry.cc:113] Plugin optimizer for device_type GPU is enabled.\n",
      "2022-05-15 17:33:17.865134: I tensorflow/core/grappler/optimizers/custom_graph_optimizer_registry.cc:113] Plugin optimizer for device_type GPU is enabled.\n",
      "2022-05-15 17:33:17.872564: I tensorflow/core/grappler/optimizers/custom_graph_optimizer_registry.cc:113] Plugin optimizer for device_type GPU is enabled.\n"
     ]
    },
    {
     "name": "stdout",
     "output_type": "stream",
     "text": [
      "7/7 [==============================] - 3s 202ms/step - loss: 2.4945 - accuracy: 0.7744 - precision_44: 0.0000e+00 - recall_44: 0.0000e+00 - get_f1: 0.0000e+00\n",
      "--- Starting trial: run-36\n",
      "{'num_units': 25, 'dropout': 0.2, 'optimizer': 'adam', 'embedding': 'from_scratch', 'learning_rate': 0.1, 'batch_size': 64, 'attention': 'no'}\n",
      "Epoch 1/3\n"
     ]
    },
    {
     "name": "stderr",
     "output_type": "stream",
     "text": [
      "2022-05-15 17:33:26.032289: I tensorflow/core/grappler/optimizers/custom_graph_optimizer_registry.cc:113] Plugin optimizer for device_type GPU is enabled.\n",
      "2022-05-15 17:33:27.096551: I tensorflow/core/grappler/optimizers/custom_graph_optimizer_registry.cc:113] Plugin optimizer for device_type GPU is enabled.\n",
      "2022-05-15 17:33:27.130374: I tensorflow/core/grappler/optimizers/custom_graph_optimizer_registry.cc:113] Plugin optimizer for device_type GPU is enabled.\n",
      "2022-05-15 17:33:27.555175: I tensorflow/core/grappler/optimizers/custom_graph_optimizer_registry.cc:113] Plugin optimizer for device_type GPU is enabled.\n",
      "2022-05-15 17:33:27.567066: I tensorflow/core/grappler/optimizers/custom_graph_optimizer_registry.cc:113] Plugin optimizer for device_type GPU is enabled.\n",
      "2022-05-15 17:33:28.333919: I tensorflow/core/grappler/optimizers/custom_graph_optimizer_registry.cc:113] Plugin optimizer for device_type GPU is enabled.\n",
      "2022-05-15 17:33:28.351363: I tensorflow/core/grappler/optimizers/custom_graph_optimizer_registry.cc:113] Plugin optimizer for device_type GPU is enabled.\n",
      "2022-05-15 17:33:29.013114: I tensorflow/core/grappler/optimizers/custom_graph_optimizer_registry.cc:113] Plugin optimizer for device_type GPU is enabled.\n",
      "2022-05-15 17:33:29.032443: I tensorflow/core/grappler/optimizers/custom_graph_optimizer_registry.cc:113] Plugin optimizer for device_type GPU is enabled.\n"
     ]
    },
    {
     "name": "stdout",
     "output_type": "stream",
     "text": [
      "2/2 [==============================] - 9s 1s/step - loss: 0.5081 - accuracy: 0.5800 - precision_45: 0.0000e+00 - recall_45: 0.0000e+00 - get_f1: 0.0000e+00\n",
      "Epoch 2/3\n",
      "2/2 [==============================] - 1s 415ms/step - loss: 6.4881e-04 - accuracy: 1.0000 - precision_45: 0.0000e+00 - recall_45: 0.0000e+00 - get_f1: 0.0000e+00\n",
      "Epoch 3/3\n",
      "2/2 [==============================] - 0s 172ms/step - loss: 7.3268e-06 - accuracy: 1.0000 - precision_45: 0.0000e+00 - recall_45: 0.0000e+00 - get_f1: 0.0000e+00\n"
     ]
    },
    {
     "name": "stderr",
     "output_type": "stream",
     "text": [
      "2022-05-15 17:33:32.851650: I tensorflow/core/grappler/optimizers/custom_graph_optimizer_registry.cc:113] Plugin optimizer for device_type GPU is enabled.\n",
      "2022-05-15 17:33:33.220816: I tensorflow/core/grappler/optimizers/custom_graph_optimizer_registry.cc:113] Plugin optimizer for device_type GPU is enabled.\n",
      "2022-05-15 17:33:33.241074: I tensorflow/core/grappler/optimizers/custom_graph_optimizer_registry.cc:113] Plugin optimizer for device_type GPU is enabled.\n",
      "2022-05-15 17:33:33.572434: I tensorflow/core/grappler/optimizers/custom_graph_optimizer_registry.cc:113] Plugin optimizer for device_type GPU is enabled.\n",
      "2022-05-15 17:33:33.583239: I tensorflow/core/grappler/optimizers/custom_graph_optimizer_registry.cc:113] Plugin optimizer for device_type GPU is enabled.\n"
     ]
    },
    {
     "name": "stdout",
     "output_type": "stream",
     "text": [
      "7/7 [==============================] - 3s 169ms/step - loss: 3.1542 - accuracy: 0.7744 - precision_45: 0.0000e+00 - recall_45: 0.0000e+00 - get_f1: 0.0000e+00\n",
      "--- Starting trial: run-37\n",
      "{'num_units': 25, 'dropout': 0.2, 'optimizer': 'adam', 'embedding': 'from_scratch', 'learning_rate': 0.1, 'batch_size': 64, 'attention': 'yes'}\n",
      "Epoch 1/3\n"
     ]
    },
    {
     "name": "stderr",
     "output_type": "stream",
     "text": [
      "2022-05-15 17:33:40.561763: I tensorflow/core/grappler/optimizers/custom_graph_optimizer_registry.cc:113] Plugin optimizer for device_type GPU is enabled.\n",
      "2022-05-15 17:33:42.182921: I tensorflow/core/grappler/optimizers/custom_graph_optimizer_registry.cc:113] Plugin optimizer for device_type GPU is enabled.\n",
      "2022-05-15 17:33:42.207688: I tensorflow/core/grappler/optimizers/custom_graph_optimizer_registry.cc:113] Plugin optimizer for device_type GPU is enabled.\n",
      "2022-05-15 17:33:42.798976: I tensorflow/core/grappler/optimizers/custom_graph_optimizer_registry.cc:113] Plugin optimizer for device_type GPU is enabled.\n",
      "2022-05-15 17:33:42.812921: I tensorflow/core/grappler/optimizers/custom_graph_optimizer_registry.cc:113] Plugin optimizer for device_type GPU is enabled.\n",
      "2022-05-15 17:33:43.913939: I tensorflow/core/grappler/optimizers/custom_graph_optimizer_registry.cc:113] Plugin optimizer for device_type GPU is enabled.\n",
      "2022-05-15 17:33:43.913985: I tensorflow/core/grappler/optimizers/custom_graph_optimizer_registry.cc:113] Plugin optimizer for device_type GPU is enabled.\n",
      "2022-05-15 17:33:44.577127: I tensorflow/core/grappler/optimizers/custom_graph_optimizer_registry.cc:113] Plugin optimizer for device_type GPU is enabled.\n",
      "2022-05-15 17:33:44.597473: I tensorflow/core/grappler/optimizers/custom_graph_optimizer_registry.cc:113] Plugin optimizer for device_type GPU is enabled.\n"
     ]
    },
    {
     "name": "stdout",
     "output_type": "stream",
     "text": [
      "2/2 [==============================] - 11s 2s/step - loss: 0.4741 - accuracy: 0.6200 - precision_46: 0.0000e+00 - recall_46: 0.0000e+00 - get_f1: 0.0000e+00\n",
      "Epoch 2/3\n",
      "2/2 [==============================] - 1s 417ms/step - loss: 1.1424e-04 - accuracy: 1.0000 - precision_46: 0.0000e+00 - recall_46: 0.0000e+00 - get_f1: 0.0000e+00\n",
      "Epoch 3/3\n",
      "2/2 [==============================] - 1s 255ms/step - loss: 1.6906e-06 - accuracy: 1.0000 - precision_46: 0.0000e+00 - recall_46: 0.0000e+00 - get_f1: 0.0000e+00\n"
     ]
    },
    {
     "name": "stderr",
     "output_type": "stream",
     "text": [
      "2022-05-15 17:33:49.041627: I tensorflow/core/grappler/optimizers/custom_graph_optimizer_registry.cc:113] Plugin optimizer for device_type GPU is enabled.\n",
      "2022-05-15 17:33:49.371169: I tensorflow/core/grappler/optimizers/custom_graph_optimizer_registry.cc:113] Plugin optimizer for device_type GPU is enabled.\n",
      "2022-05-15 17:33:49.432964: I tensorflow/core/grappler/optimizers/custom_graph_optimizer_registry.cc:113] Plugin optimizer for device_type GPU is enabled.\n",
      "2022-05-15 17:33:49.754166: I tensorflow/core/grappler/optimizers/custom_graph_optimizer_registry.cc:113] Plugin optimizer for device_type GPU is enabled.\n",
      "2022-05-15 17:33:49.763151: I tensorflow/core/grappler/optimizers/custom_graph_optimizer_registry.cc:113] Plugin optimizer for device_type GPU is enabled.\n"
     ]
    },
    {
     "name": "stdout",
     "output_type": "stream",
     "text": [
      "7/7 [==============================] - 3s 189ms/step - loss: 3.5101 - accuracy: 0.7744 - precision_46: 0.0000e+00 - recall_46: 0.0000e+00 - get_f1: 0.0000e+00\n",
      "--- Starting trial: run-38\n",
      "{'num_units': 25, 'dropout': 0.2, 'optimizer': 'adam', 'embedding': 'pretrained', 'learning_rate': 0.1, 'batch_size': 64, 'attention': 'no'}\n",
      "Epoch 1/3\n"
     ]
    },
    {
     "name": "stderr",
     "output_type": "stream",
     "text": [
      "2022-05-15 17:33:57.351689: I tensorflow/core/grappler/optimizers/custom_graph_optimizer_registry.cc:113] Plugin optimizer for device_type GPU is enabled.\n",
      "2022-05-15 17:33:58.378065: I tensorflow/core/grappler/optimizers/custom_graph_optimizer_registry.cc:113] Plugin optimizer for device_type GPU is enabled.\n",
      "2022-05-15 17:33:58.408292: I tensorflow/core/grappler/optimizers/custom_graph_optimizer_registry.cc:113] Plugin optimizer for device_type GPU is enabled.\n",
      "2022-05-15 17:33:58.912201: I tensorflow/core/grappler/optimizers/custom_graph_optimizer_registry.cc:113] Plugin optimizer for device_type GPU is enabled.\n",
      "2022-05-15 17:33:58.923775: I tensorflow/core/grappler/optimizers/custom_graph_optimizer_registry.cc:113] Plugin optimizer for device_type GPU is enabled.\n",
      "2022-05-15 17:33:59.702105: I tensorflow/core/grappler/optimizers/custom_graph_optimizer_registry.cc:113] Plugin optimizer for device_type GPU is enabled.\n",
      "2022-05-15 17:33:59.722049: I tensorflow/core/grappler/optimizers/custom_graph_optimizer_registry.cc:113] Plugin optimizer for device_type GPU is enabled.\n",
      "2022-05-15 17:34:00.474634: I tensorflow/core/grappler/optimizers/custom_graph_optimizer_registry.cc:113] Plugin optimizer for device_type GPU is enabled.\n",
      "2022-05-15 17:34:00.498139: I tensorflow/core/grappler/optimizers/custom_graph_optimizer_registry.cc:113] Plugin optimizer for device_type GPU is enabled.\n"
     ]
    },
    {
     "name": "stdout",
     "output_type": "stream",
     "text": [
      "2/2 [==============================] - 10s 1s/step - loss: 0.5120 - accuracy: 0.3800 - precision_47: 0.0000e+00 - recall_47: 0.0000e+00 - get_f1: 0.0000e+00\n",
      "Epoch 2/3\n",
      "2/2 [==============================] - 1s 347ms/step - loss: 6.1655e-04 - accuracy: 1.0000 - precision_47: 0.0000e+00 - recall_47: 0.0000e+00 - get_f1: 0.0000e+00\n",
      "Epoch 3/3\n",
      "2/2 [==============================] - 1s 277ms/step - loss: 3.0931e-05 - accuracy: 1.0000 - precision_47: 0.0000e+00 - recall_47: 0.0000e+00 - get_f1: 0.0000e+00\n"
     ]
    },
    {
     "name": "stderr",
     "output_type": "stream",
     "text": [
      "2022-05-15 17:34:05.459594: I tensorflow/core/grappler/optimizers/custom_graph_optimizer_registry.cc:113] Plugin optimizer for device_type GPU is enabled.\n",
      "2022-05-15 17:34:05.823156: I tensorflow/core/grappler/optimizers/custom_graph_optimizer_registry.cc:113] Plugin optimizer for device_type GPU is enabled.\n",
      "2022-05-15 17:34:05.848749: I tensorflow/core/grappler/optimizers/custom_graph_optimizer_registry.cc:113] Plugin optimizer for device_type GPU is enabled.\n",
      "2022-05-15 17:34:06.252576: I tensorflow/core/grappler/optimizers/custom_graph_optimizer_registry.cc:113] Plugin optimizer for device_type GPU is enabled.\n",
      "2022-05-15 17:34:06.261632: I tensorflow/core/grappler/optimizers/custom_graph_optimizer_registry.cc:113] Plugin optimizer for device_type GPU is enabled.\n"
     ]
    },
    {
     "name": "stdout",
     "output_type": "stream",
     "text": [
      "7/7 [==============================] - 4s 178ms/step - loss: 2.7108 - accuracy: 0.7744 - precision_47: 0.0000e+00 - recall_47: 0.0000e+00 - get_f1: 0.0000e+00\n",
      "--- Starting trial: run-39\n",
      "{'num_units': 25, 'dropout': 0.2, 'optimizer': 'adam', 'embedding': 'pretrained', 'learning_rate': 0.1, 'batch_size': 64, 'attention': 'yes'}\n",
      "Epoch 1/3\n"
     ]
    },
    {
     "name": "stderr",
     "output_type": "stream",
     "text": [
      "2022-05-15 17:34:15.057192: I tensorflow/core/grappler/optimizers/custom_graph_optimizer_registry.cc:113] Plugin optimizer for device_type GPU is enabled.\n",
      "2022-05-15 17:34:16.439277: I tensorflow/core/grappler/optimizers/custom_graph_optimizer_registry.cc:113] Plugin optimizer for device_type GPU is enabled.\n",
      "2022-05-15 17:34:16.477701: I tensorflow/core/grappler/optimizers/custom_graph_optimizer_registry.cc:113] Plugin optimizer for device_type GPU is enabled.\n",
      "2022-05-15 17:34:17.082637: I tensorflow/core/grappler/optimizers/custom_graph_optimizer_registry.cc:113] Plugin optimizer for device_type GPU is enabled.\n",
      "2022-05-15 17:34:17.097057: I tensorflow/core/grappler/optimizers/custom_graph_optimizer_registry.cc:113] Plugin optimizer for device_type GPU is enabled.\n",
      "2022-05-15 17:34:18.287150: I tensorflow/core/grappler/optimizers/custom_graph_optimizer_registry.cc:113] Plugin optimizer for device_type GPU is enabled.\n",
      "2022-05-15 17:34:18.287781: I tensorflow/core/grappler/optimizers/custom_graph_optimizer_registry.cc:113] Plugin optimizer for device_type GPU is enabled.\n",
      "2022-05-15 17:34:18.987090: I tensorflow/core/grappler/optimizers/custom_graph_optimizer_registry.cc:113] Plugin optimizer for device_type GPU is enabled.\n",
      "2022-05-15 17:34:19.007510: I tensorflow/core/grappler/optimizers/custom_graph_optimizer_registry.cc:113] Plugin optimizer for device_type GPU is enabled.\n"
     ]
    },
    {
     "name": "stdout",
     "output_type": "stream",
     "text": [
      "2/2 [==============================] - 12s 1s/step - loss: 0.5504 - accuracy: 0.3600 - precision_48: 0.0000e+00 - recall_48: 0.0000e+00 - get_f1: 0.0000e+00\n",
      "Epoch 2/3\n",
      "2/2 [==============================] - 1s 417ms/step - loss: 5.9083e-04 - accuracy: 1.0000 - precision_48: 0.0000e+00 - recall_48: 0.0000e+00 - get_f1: 0.0000e+00\n",
      "Epoch 3/3\n",
      "2/2 [==============================] - 1s 242ms/step - loss: 3.9079e-05 - accuracy: 1.0000 - precision_48: 0.0000e+00 - recall_48: 0.0000e+00 - get_f1: 0.0000e+00\n"
     ]
    },
    {
     "name": "stderr",
     "output_type": "stream",
     "text": [
      "2022-05-15 17:34:23.359894: I tensorflow/core/grappler/optimizers/custom_graph_optimizer_registry.cc:113] Plugin optimizer for device_type GPU is enabled.\n",
      "2022-05-15 17:34:23.735810: I tensorflow/core/grappler/optimizers/custom_graph_optimizer_registry.cc:113] Plugin optimizer for device_type GPU is enabled.\n",
      "2022-05-15 17:34:23.752310: I tensorflow/core/grappler/optimizers/custom_graph_optimizer_registry.cc:113] Plugin optimizer for device_type GPU is enabled.\n",
      "2022-05-15 17:34:24.070549: I tensorflow/core/grappler/optimizers/custom_graph_optimizer_registry.cc:113] Plugin optimizer for device_type GPU is enabled.\n",
      "2022-05-15 17:34:24.078084: I tensorflow/core/grappler/optimizers/custom_graph_optimizer_registry.cc:113] Plugin optimizer for device_type GPU is enabled.\n"
     ]
    },
    {
     "name": "stdout",
     "output_type": "stream",
     "text": [
      "7/7 [==============================] - 3s 187ms/step - loss: 2.6672 - accuracy: 0.7744 - precision_48: 0.0000e+00 - recall_48: 0.0000e+00 - get_f1: 0.0000e+00\n",
      "--- Starting trial: run-40\n",
      "{'num_units': 25, 'dropout': 0.3, 'optimizer': 'adam', 'embedding': 'from_scratch', 'learning_rate': 0.001, 'batch_size': 64, 'attention': 'no'}\n",
      "Epoch 1/3\n"
     ]
    },
    {
     "name": "stderr",
     "output_type": "stream",
     "text": [
      "2022-05-15 17:34:31.670613: I tensorflow/core/grappler/optimizers/custom_graph_optimizer_registry.cc:113] Plugin optimizer for device_type GPU is enabled.\n",
      "2022-05-15 17:34:32.731783: I tensorflow/core/grappler/optimizers/custom_graph_optimizer_registry.cc:113] Plugin optimizer for device_type GPU is enabled.\n",
      "2022-05-15 17:34:32.762527: I tensorflow/core/grappler/optimizers/custom_graph_optimizer_registry.cc:113] Plugin optimizer for device_type GPU is enabled.\n",
      "2022-05-15 17:34:33.261651: I tensorflow/core/grappler/optimizers/custom_graph_optimizer_registry.cc:113] Plugin optimizer for device_type GPU is enabled.\n",
      "2022-05-15 17:34:33.274097: I tensorflow/core/grappler/optimizers/custom_graph_optimizer_registry.cc:113] Plugin optimizer for device_type GPU is enabled.\n",
      "2022-05-15 17:34:34.076353: I tensorflow/core/grappler/optimizers/custom_graph_optimizer_registry.cc:113] Plugin optimizer for device_type GPU is enabled.\n",
      "2022-05-15 17:34:34.095899: I tensorflow/core/grappler/optimizers/custom_graph_optimizer_registry.cc:113] Plugin optimizer for device_type GPU is enabled.\n",
      "2022-05-15 17:34:34.832031: I tensorflow/core/grappler/optimizers/custom_graph_optimizer_registry.cc:113] Plugin optimizer for device_type GPU is enabled.\n",
      "2022-05-15 17:34:34.848719: I tensorflow/core/grappler/optimizers/custom_graph_optimizer_registry.cc:113] Plugin optimizer for device_type GPU is enabled.\n"
     ]
    },
    {
     "name": "stdout",
     "output_type": "stream",
     "text": [
      "2/2 [==============================] - 10s 1s/step - loss: 0.6898 - accuracy: 0.7000 - precision_49: 0.0000e+00 - recall_49: 0.0000e+00 - get_f1: 0.0000e+00\n",
      "Epoch 2/3\n",
      "2/2 [==============================] - 1s 262ms/step - loss: 0.6674 - accuracy: 1.0000 - precision_49: 0.0000e+00 - recall_49: 0.0000e+00 - get_f1: 0.0000e+00\n",
      "Epoch 3/3\n",
      "2/2 [==============================] - 1s 373ms/step - loss: 0.6396 - accuracy: 1.0000 - precision_49: 0.0000e+00 - recall_49: 0.0000e+00 - get_f1: 0.0000e+00\n"
     ]
    },
    {
     "name": "stderr",
     "output_type": "stream",
     "text": [
      "2022-05-15 17:34:38.996425: I tensorflow/core/grappler/optimizers/custom_graph_optimizer_registry.cc:113] Plugin optimizer for device_type GPU is enabled.\n",
      "2022-05-15 17:34:39.307791: I tensorflow/core/grappler/optimizers/custom_graph_optimizer_registry.cc:113] Plugin optimizer for device_type GPU is enabled.\n",
      "2022-05-15 17:34:39.319603: I tensorflow/core/grappler/optimizers/custom_graph_optimizer_registry.cc:113] Plugin optimizer for device_type GPU is enabled.\n",
      "2022-05-15 17:34:39.669256: I tensorflow/core/grappler/optimizers/custom_graph_optimizer_registry.cc:113] Plugin optimizer for device_type GPU is enabled.\n",
      "2022-05-15 17:34:39.677001: I tensorflow/core/grappler/optimizers/custom_graph_optimizer_registry.cc:113] Plugin optimizer for device_type GPU is enabled.\n"
     ]
    },
    {
     "name": "stdout",
     "output_type": "stream",
     "text": [
      "7/7 [==============================] - 3s 184ms/step - loss: 0.6530 - accuracy: 0.7744 - precision_49: 0.0000e+00 - recall_49: 0.0000e+00 - get_f1: 0.0000e+00\n",
      "--- Starting trial: run-41\n",
      "{'num_units': 25, 'dropout': 0.3, 'optimizer': 'adam', 'embedding': 'from_scratch', 'learning_rate': 0.001, 'batch_size': 64, 'attention': 'yes'}\n",
      "Epoch 1/3\n"
     ]
    },
    {
     "name": "stderr",
     "output_type": "stream",
     "text": [
      "2022-05-15 17:34:48.621861: I tensorflow/core/grappler/optimizers/custom_graph_optimizer_registry.cc:113] Plugin optimizer for device_type GPU is enabled.\n",
      "2022-05-15 17:34:49.843611: I tensorflow/core/grappler/optimizers/custom_graph_optimizer_registry.cc:113] Plugin optimizer for device_type GPU is enabled.\n",
      "2022-05-15 17:34:49.894919: I tensorflow/core/grappler/optimizers/custom_graph_optimizer_registry.cc:113] Plugin optimizer for device_type GPU is enabled.\n",
      "2022-05-15 17:34:50.432832: I tensorflow/core/grappler/optimizers/custom_graph_optimizer_registry.cc:113] Plugin optimizer for device_type GPU is enabled.\n",
      "2022-05-15 17:34:50.446752: I tensorflow/core/grappler/optimizers/custom_graph_optimizer_registry.cc:113] Plugin optimizer for device_type GPU is enabled.\n",
      "2022-05-15 17:34:51.603886: I tensorflow/core/grappler/optimizers/custom_graph_optimizer_registry.cc:113] Plugin optimizer for device_type GPU is enabled.\n",
      "2022-05-15 17:34:51.603923: I tensorflow/core/grappler/optimizers/custom_graph_optimizer_registry.cc:113] Plugin optimizer for device_type GPU is enabled.\n",
      "2022-05-15 17:34:52.309985: I tensorflow/core/grappler/optimizers/custom_graph_optimizer_registry.cc:113] Plugin optimizer for device_type GPU is enabled.\n",
      "2022-05-15 17:34:52.333127: I tensorflow/core/grappler/optimizers/custom_graph_optimizer_registry.cc:113] Plugin optimizer for device_type GPU is enabled.\n"
     ]
    },
    {
     "name": "stdout",
     "output_type": "stream",
     "text": [
      "2/2 [==============================] - 11s 2s/step - loss: 0.6907 - accuracy: 0.5700 - precision_50: 0.0000e+00 - recall_50: 0.0000e+00 - get_f1: 0.0000e+00\n",
      "Epoch 2/3\n",
      "2/2 [==============================] - 1s 373ms/step - loss: 0.6703 - accuracy: 1.0000 - precision_50: 0.0000e+00 - recall_50: 0.0000e+00 - get_f1: 0.0000e+00\n",
      "Epoch 3/3\n",
      "2/2 [==============================] - 1s 310ms/step - loss: 0.6464 - accuracy: 1.0000 - precision_50: 0.0000e+00 - recall_50: 0.0000e+00 - get_f1: 0.0000e+00\n"
     ]
    },
    {
     "name": "stderr",
     "output_type": "stream",
     "text": [
      "2022-05-15 17:34:57.466054: I tensorflow/core/grappler/optimizers/custom_graph_optimizer_registry.cc:113] Plugin optimizer for device_type GPU is enabled.\n",
      "2022-05-15 17:34:57.837360: I tensorflow/core/grappler/optimizers/custom_graph_optimizer_registry.cc:113] Plugin optimizer for device_type GPU is enabled.\n",
      "2022-05-15 17:34:57.850715: I tensorflow/core/grappler/optimizers/custom_graph_optimizer_registry.cc:113] Plugin optimizer for device_type GPU is enabled.\n",
      "2022-05-15 17:34:58.203168: I tensorflow/core/grappler/optimizers/custom_graph_optimizer_registry.cc:113] Plugin optimizer for device_type GPU is enabled.\n",
      "2022-05-15 17:34:58.214006: I tensorflow/core/grappler/optimizers/custom_graph_optimizer_registry.cc:113] Plugin optimizer for device_type GPU is enabled.\n"
     ]
    },
    {
     "name": "stdout",
     "output_type": "stream",
     "text": [
      "7/7 [==============================] - 4s 241ms/step - loss: 0.6581 - accuracy: 0.7744 - precision_50: 0.0000e+00 - recall_50: 0.0000e+00 - get_f1: 0.0000e+00\n",
      "--- Starting trial: run-42\n",
      "{'num_units': 25, 'dropout': 0.3, 'optimizer': 'adam', 'embedding': 'pretrained', 'learning_rate': 0.001, 'batch_size': 64, 'attention': 'no'}\n",
      "Epoch 1/3\n"
     ]
    },
    {
     "name": "stderr",
     "output_type": "stream",
     "text": [
      "2022-05-15 17:35:08.603518: I tensorflow/core/grappler/optimizers/custom_graph_optimizer_registry.cc:113] Plugin optimizer for device_type GPU is enabled.\n",
      "2022-05-15 17:35:12.390657: I tensorflow/core/grappler/optimizers/custom_graph_optimizer_registry.cc:113] Plugin optimizer for device_type GPU is enabled.\n",
      "2022-05-15 17:35:12.522607: I tensorflow/core/grappler/optimizers/custom_graph_optimizer_registry.cc:113] Plugin optimizer for device_type GPU is enabled.\n",
      "2022-05-15 17:35:13.273425: I tensorflow/core/grappler/optimizers/custom_graph_optimizer_registry.cc:113] Plugin optimizer for device_type GPU is enabled.\n",
      "2022-05-15 17:35:13.286570: I tensorflow/core/grappler/optimizers/custom_graph_optimizer_registry.cc:113] Plugin optimizer for device_type GPU is enabled.\n",
      "2022-05-15 17:35:14.107528: I tensorflow/core/grappler/optimizers/custom_graph_optimizer_registry.cc:113] Plugin optimizer for device_type GPU is enabled.\n",
      "2022-05-15 17:35:14.127900: I tensorflow/core/grappler/optimizers/custom_graph_optimizer_registry.cc:113] Plugin optimizer for device_type GPU is enabled.\n",
      "2022-05-15 17:35:14.798112: I tensorflow/core/grappler/optimizers/custom_graph_optimizer_registry.cc:113] Plugin optimizer for device_type GPU is enabled.\n",
      "2022-05-15 17:35:14.815814: I tensorflow/core/grappler/optimizers/custom_graph_optimizer_registry.cc:113] Plugin optimizer for device_type GPU is enabled.\n"
     ]
    },
    {
     "name": "stdout",
     "output_type": "stream",
     "text": [
      "2/2 [==============================] - 15s 1s/step - loss: 0.7839 - accuracy: 0.0500 - precision_51: 0.0000e+00 - recall_51: 0.0000e+00 - get_f1: 0.0000e+00\n",
      "Epoch 2/3\n",
      "2/2 [==============================] - 1s 348ms/step - loss: 0.6533 - accuracy: 0.8000 - precision_51: 0.0000e+00 - recall_51: 0.0000e+00 - get_f1: 0.0000e+00\n",
      "Epoch 3/3\n",
      "2/2 [==============================] - 1s 290ms/step - loss: 0.5403 - accuracy: 1.0000 - precision_51: 0.0000e+00 - recall_51: 0.0000e+00 - get_f1: 0.0000e+00\n"
     ]
    },
    {
     "name": "stderr",
     "output_type": "stream",
     "text": [
      "2022-05-15 17:35:19.101560: I tensorflow/core/grappler/optimizers/custom_graph_optimizer_registry.cc:113] Plugin optimizer for device_type GPU is enabled.\n",
      "2022-05-15 17:35:19.522793: I tensorflow/core/grappler/optimizers/custom_graph_optimizer_registry.cc:113] Plugin optimizer for device_type GPU is enabled.\n",
      "2022-05-15 17:35:19.535857: I tensorflow/core/grappler/optimizers/custom_graph_optimizer_registry.cc:113] Plugin optimizer for device_type GPU is enabled.\n",
      "2022-05-15 17:35:19.869361: I tensorflow/core/grappler/optimizers/custom_graph_optimizer_registry.cc:113] Plugin optimizer for device_type GPU is enabled.\n",
      "2022-05-15 17:35:19.879183: I tensorflow/core/grappler/optimizers/custom_graph_optimizer_registry.cc:113] Plugin optimizer for device_type GPU is enabled.\n"
     ]
    },
    {
     "name": "stdout",
     "output_type": "stream",
     "text": [
      "7/7 [==============================] - 3s 207ms/step - loss: 0.5870 - accuracy: 0.7744 - precision_51: 0.0000e+00 - recall_51: 0.0000e+00 - get_f1: 0.0000e+00\n",
      "--- Starting trial: run-43\n",
      "{'num_units': 25, 'dropout': 0.3, 'optimizer': 'adam', 'embedding': 'pretrained', 'learning_rate': 0.001, 'batch_size': 64, 'attention': 'yes'}\n",
      "Epoch 1/3\n"
     ]
    },
    {
     "name": "stderr",
     "output_type": "stream",
     "text": [
      "2022-05-15 17:35:29.492506: I tensorflow/core/grappler/optimizers/custom_graph_optimizer_registry.cc:113] Plugin optimizer for device_type GPU is enabled.\n",
      "2022-05-15 17:35:31.234161: I tensorflow/core/grappler/optimizers/custom_graph_optimizer_registry.cc:113] Plugin optimizer for device_type GPU is enabled.\n",
      "2022-05-15 17:35:31.265349: I tensorflow/core/grappler/optimizers/custom_graph_optimizer_registry.cc:113] Plugin optimizer for device_type GPU is enabled.\n",
      "2022-05-15 17:35:31.943951: I tensorflow/core/grappler/optimizers/custom_graph_optimizer_registry.cc:113] Plugin optimizer for device_type GPU is enabled.\n",
      "2022-05-15 17:35:31.955303: I tensorflow/core/grappler/optimizers/custom_graph_optimizer_registry.cc:113] Plugin optimizer for device_type GPU is enabled.\n",
      "2022-05-15 17:35:33.344386: I tensorflow/core/grappler/optimizers/custom_graph_optimizer_registry.cc:113] Plugin optimizer for device_type GPU is enabled.\n",
      "2022-05-15 17:35:33.344721: I tensorflow/core/grappler/optimizers/custom_graph_optimizer_registry.cc:113] Plugin optimizer for device_type GPU is enabled.\n",
      "2022-05-15 17:35:34.165661: I tensorflow/core/grappler/optimizers/custom_graph_optimizer_registry.cc:113] Plugin optimizer for device_type GPU is enabled.\n",
      "2022-05-15 17:35:34.183925: I tensorflow/core/grappler/optimizers/custom_graph_optimizer_registry.cc:113] Plugin optimizer for device_type GPU is enabled.\n"
     ]
    },
    {
     "name": "stdout",
     "output_type": "stream",
     "text": [
      "2/2 [==============================] - 14s 2s/step - loss: 0.7491 - accuracy: 0.2100 - precision_52: 0.0000e+00 - recall_52: 0.0000e+00 - get_f1: 0.0000e+00\n",
      "Epoch 2/3\n",
      "2/2 [==============================] - 1s 533ms/step - loss: 0.5807 - accuracy: 1.0000 - precision_52: 0.0000e+00 - recall_52: 0.0000e+00 - get_f1: 0.0000e+00\n",
      "Epoch 3/3\n",
      "2/2 [==============================] - 1s 349ms/step - loss: 0.4463 - accuracy: 1.0000 - precision_52: 0.0000e+00 - recall_52: 0.0000e+00 - get_f1: 0.0000e+00\n"
     ]
    },
    {
     "name": "stderr",
     "output_type": "stream",
     "text": [
      "2022-05-15 17:35:40.522526: I tensorflow/core/grappler/optimizers/custom_graph_optimizer_registry.cc:113] Plugin optimizer for device_type GPU is enabled.\n",
      "2022-05-15 17:35:41.124062: I tensorflow/core/grappler/optimizers/custom_graph_optimizer_registry.cc:113] Plugin optimizer for device_type GPU is enabled.\n",
      "2022-05-15 17:35:41.140931: I tensorflow/core/grappler/optimizers/custom_graph_optimizer_registry.cc:113] Plugin optimizer for device_type GPU is enabled.\n",
      "2022-05-15 17:35:41.607475: I tensorflow/core/grappler/optimizers/custom_graph_optimizer_registry.cc:113] Plugin optimizer for device_type GPU is enabled.\n",
      "2022-05-15 17:35:41.617556: I tensorflow/core/grappler/optimizers/custom_graph_optimizer_registry.cc:113] Plugin optimizer for device_type GPU is enabled.\n"
     ]
    },
    {
     "name": "stdout",
     "output_type": "stream",
     "text": [
      "7/7 [==============================] - 5s 232ms/step - loss: 0.5464 - accuracy: 0.7744 - precision_52: 0.0000e+00 - recall_52: 0.0000e+00 - get_f1: 0.0000e+00\n",
      "--- Starting trial: run-44\n",
      "{'num_units': 25, 'dropout': 0.3, 'optimizer': 'adam', 'embedding': 'from_scratch', 'learning_rate': 0.003, 'batch_size': 64, 'attention': 'no'}\n",
      "Epoch 1/3\n"
     ]
    },
    {
     "name": "stderr",
     "output_type": "stream",
     "text": [
      "2022-05-15 17:35:48.430822: I tensorflow/core/grappler/optimizers/custom_graph_optimizer_registry.cc:113] Plugin optimizer for device_type GPU is enabled.\n",
      "2022-05-15 17:35:49.623519: I tensorflow/core/grappler/optimizers/custom_graph_optimizer_registry.cc:113] Plugin optimizer for device_type GPU is enabled.\n",
      "2022-05-15 17:35:49.644469: I tensorflow/core/grappler/optimizers/custom_graph_optimizer_registry.cc:113] Plugin optimizer for device_type GPU is enabled.\n",
      "2022-05-15 17:35:50.259882: I tensorflow/core/grappler/optimizers/custom_graph_optimizer_registry.cc:113] Plugin optimizer for device_type GPU is enabled.\n",
      "2022-05-15 17:35:50.271616: I tensorflow/core/grappler/optimizers/custom_graph_optimizer_registry.cc:113] Plugin optimizer for device_type GPU is enabled.\n",
      "2022-05-15 17:35:51.202438: I tensorflow/core/grappler/optimizers/custom_graph_optimizer_registry.cc:113] Plugin optimizer for device_type GPU is enabled.\n",
      "2022-05-15 17:35:51.220543: I tensorflow/core/grappler/optimizers/custom_graph_optimizer_registry.cc:113] Plugin optimizer for device_type GPU is enabled.\n",
      "2022-05-15 17:35:52.057624: I tensorflow/core/grappler/optimizers/custom_graph_optimizer_registry.cc:113] Plugin optimizer for device_type GPU is enabled.\n",
      "2022-05-15 17:35:52.082556: I tensorflow/core/grappler/optimizers/custom_graph_optimizer_registry.cc:113] Plugin optimizer for device_type GPU is enabled.\n"
     ]
    },
    {
     "name": "stdout",
     "output_type": "stream",
     "text": [
      "2/2 [==============================] - 9s 2s/step - loss: 0.6819 - accuracy: 0.6800 - precision_53: 0.0000e+00 - recall_53: 0.0000e+00 - get_f1: 0.0000e+00\n",
      "Epoch 2/3\n",
      "2/2 [==============================] - 1s 409ms/step - loss: 0.5886 - accuracy: 1.0000 - precision_53: 0.0000e+00 - recall_53: 0.0000e+00 - get_f1: 0.0000e+00\n",
      "Epoch 3/3\n",
      "2/2 [==============================] - 1s 329ms/step - loss: 0.4208 - accuracy: 1.0000 - precision_53: 0.0000e+00 - recall_53: 0.0000e+00 - get_f1: 0.0000e+00\n"
     ]
    },
    {
     "name": "stderr",
     "output_type": "stream",
     "text": [
      "2022-05-15 17:36:01.564061: I tensorflow/core/grappler/optimizers/custom_graph_optimizer_registry.cc:113] Plugin optimizer for device_type GPU is enabled.\n",
      "2022-05-15 17:36:03.348947: I tensorflow/core/grappler/optimizers/custom_graph_optimizer_registry.cc:113] Plugin optimizer for device_type GPU is enabled.\n",
      "2022-05-15 17:36:03.449200: I tensorflow/core/grappler/optimizers/custom_graph_optimizer_registry.cc:113] Plugin optimizer for device_type GPU is enabled.\n",
      "2022-05-15 17:36:04.385726: I tensorflow/core/grappler/optimizers/custom_graph_optimizer_registry.cc:113] Plugin optimizer for device_type GPU is enabled.\n",
      "2022-05-15 17:36:04.408381: I tensorflow/core/grappler/optimizers/custom_graph_optimizer_registry.cc:113] Plugin optimizer for device_type GPU is enabled.\n"
     ]
    },
    {
     "name": "stdout",
     "output_type": "stream",
     "text": [
      "7/7 [==============================] - 10s 231ms/step - loss: 0.5312 - accuracy: 0.7744 - precision_53: 0.0000e+00 - recall_53: 0.0000e+00 - get_f1: 0.0000e+00\n",
      "--- Starting trial: run-45\n",
      "{'num_units': 25, 'dropout': 0.3, 'optimizer': 'adam', 'embedding': 'from_scratch', 'learning_rate': 0.003, 'batch_size': 64, 'attention': 'yes'}\n",
      "Epoch 1/3\n"
     ]
    },
    {
     "name": "stderr",
     "output_type": "stream",
     "text": [
      "2022-05-15 17:36:14.903404: I tensorflow/core/grappler/optimizers/custom_graph_optimizer_registry.cc:113] Plugin optimizer for device_type GPU is enabled.\n",
      "2022-05-15 17:36:17.377412: I tensorflow/core/grappler/optimizers/custom_graph_optimizer_registry.cc:113] Plugin optimizer for device_type GPU is enabled.\n",
      "2022-05-15 17:36:17.464303: I tensorflow/core/grappler/optimizers/custom_graph_optimizer_registry.cc:113] Plugin optimizer for device_type GPU is enabled.\n",
      "2022-05-15 17:36:18.078923: I tensorflow/core/grappler/optimizers/custom_graph_optimizer_registry.cc:113] Plugin optimizer for device_type GPU is enabled.\n",
      "2022-05-15 17:36:18.091845: I tensorflow/core/grappler/optimizers/custom_graph_optimizer_registry.cc:113] Plugin optimizer for device_type GPU is enabled.\n",
      "2022-05-15 17:36:19.513807: I tensorflow/core/grappler/optimizers/custom_graph_optimizer_registry.cc:113] Plugin optimizer for device_type GPU is enabled.\n",
      "2022-05-15 17:36:19.513863: I tensorflow/core/grappler/optimizers/custom_graph_optimizer_registry.cc:113] Plugin optimizer for device_type GPU is enabled.\n",
      "2022-05-15 17:36:20.421943: I tensorflow/core/grappler/optimizers/custom_graph_optimizer_registry.cc:113] Plugin optimizer for device_type GPU is enabled.\n",
      "2022-05-15 17:36:20.440217: I tensorflow/core/grappler/optimizers/custom_graph_optimizer_registry.cc:113] Plugin optimizer for device_type GPU is enabled.\n"
     ]
    },
    {
     "name": "stdout",
     "output_type": "stream",
     "text": [
      "2/2 [==============================] - 15s 2s/step - loss: 0.6848 - accuracy: 0.5200 - precision_54: 0.0000e+00 - recall_54: 0.0000e+00 - get_f1: 0.0000e+00\n",
      "Epoch 2/3\n",
      "2/2 [==============================] - 1s 445ms/step - loss: 0.6089 - accuracy: 1.0000 - precision_54: 0.0000e+00 - recall_54: 0.0000e+00 - get_f1: 0.0000e+00\n",
      "Epoch 3/3\n",
      "2/2 [==============================] - 1s 395ms/step - loss: 0.4663 - accuracy: 1.0000 - precision_54: 0.0000e+00 - recall_54: 0.0000e+00 - get_f1: 0.0000e+00\n"
     ]
    },
    {
     "name": "stderr",
     "output_type": "stream",
     "text": [
      "2022-05-15 17:36:25.934965: I tensorflow/core/grappler/optimizers/custom_graph_optimizer_registry.cc:113] Plugin optimizer for device_type GPU is enabled.\n",
      "2022-05-15 17:36:26.413605: I tensorflow/core/grappler/optimizers/custom_graph_optimizer_registry.cc:113] Plugin optimizer for device_type GPU is enabled.\n",
      "2022-05-15 17:36:26.421792: I tensorflow/core/grappler/optimizers/custom_graph_optimizer_registry.cc:113] Plugin optimizer for device_type GPU is enabled.\n",
      "2022-05-15 17:36:26.855325: I tensorflow/core/grappler/optimizers/custom_graph_optimizer_registry.cc:113] Plugin optimizer for device_type GPU is enabled.\n",
      "2022-05-15 17:36:26.865546: I tensorflow/core/grappler/optimizers/custom_graph_optimizer_registry.cc:113] Plugin optimizer for device_type GPU is enabled.\n"
     ]
    },
    {
     "name": "stdout",
     "output_type": "stream",
     "text": [
      "7/7 [==============================] - 4s 212ms/step - loss: 0.5364 - accuracy: 0.7744 - precision_54: 0.0000e+00 - recall_54: 0.0000e+00 - get_f1: 0.0000e+00\n",
      "--- Starting trial: run-46\n",
      "{'num_units': 25, 'dropout': 0.3, 'optimizer': 'adam', 'embedding': 'pretrained', 'learning_rate': 0.003, 'batch_size': 64, 'attention': 'no'}\n",
      "Epoch 1/3\n"
     ]
    },
    {
     "name": "stderr",
     "output_type": "stream",
     "text": [
      "2022-05-15 17:36:37.568339: I tensorflow/core/grappler/optimizers/custom_graph_optimizer_registry.cc:113] Plugin optimizer for device_type GPU is enabled.\n",
      "2022-05-15 17:36:39.343281: I tensorflow/core/grappler/optimizers/custom_graph_optimizer_registry.cc:113] Plugin optimizer for device_type GPU is enabled.\n",
      "2022-05-15 17:36:39.433081: I tensorflow/core/grappler/optimizers/custom_graph_optimizer_registry.cc:113] Plugin optimizer for device_type GPU is enabled.\n",
      "2022-05-15 17:36:40.135994: I tensorflow/core/grappler/optimizers/custom_graph_optimizer_registry.cc:113] Plugin optimizer for device_type GPU is enabled.\n",
      "2022-05-15 17:36:40.147921: I tensorflow/core/grappler/optimizers/custom_graph_optimizer_registry.cc:113] Plugin optimizer for device_type GPU is enabled.\n",
      "2022-05-15 17:36:41.104382: I tensorflow/core/grappler/optimizers/custom_graph_optimizer_registry.cc:113] Plugin optimizer for device_type GPU is enabled.\n",
      "2022-05-15 17:36:41.121476: I tensorflow/core/grappler/optimizers/custom_graph_optimizer_registry.cc:113] Plugin optimizer for device_type GPU is enabled.\n",
      "2022-05-15 17:36:41.915834: I tensorflow/core/grappler/optimizers/custom_graph_optimizer_registry.cc:113] Plugin optimizer for device_type GPU is enabled.\n",
      "2022-05-15 17:36:41.932475: I tensorflow/core/grappler/optimizers/custom_graph_optimizer_registry.cc:113] Plugin optimizer for device_type GPU is enabled.\n"
     ]
    },
    {
     "name": "stdout",
     "output_type": "stream",
     "text": [
      "2/2 [==============================] - 14s 2s/step - loss: 0.5216 - accuracy: 0.9800 - precision_55: 0.0000e+00 - recall_55: 0.0000e+00 - get_f1: 0.0000e+00\n",
      "Epoch 2/3\n",
      "2/2 [==============================] - 1s 544ms/step - loss: 0.1999 - accuracy: 1.0000 - precision_55: 0.0000e+00 - recall_55: 0.0000e+00 - get_f1: 0.0000e+00\n",
      "Epoch 3/3\n",
      "2/2 [==============================] - 1s 322ms/step - loss: 0.0706 - accuracy: 1.0000 - precision_55: 0.0000e+00 - recall_55: 0.0000e+00 - get_f1: 0.0000e+00\n"
     ]
    },
    {
     "name": "stderr",
     "output_type": "stream",
     "text": [
      "2022-05-15 17:36:47.269523: I tensorflow/core/grappler/optimizers/custom_graph_optimizer_registry.cc:113] Plugin optimizer for device_type GPU is enabled.\n",
      "2022-05-15 17:36:47.637866: I tensorflow/core/grappler/optimizers/custom_graph_optimizer_registry.cc:113] Plugin optimizer for device_type GPU is enabled.\n",
      "2022-05-15 17:36:47.653970: I tensorflow/core/grappler/optimizers/custom_graph_optimizer_registry.cc:113] Plugin optimizer for device_type GPU is enabled.\n",
      "2022-05-15 17:36:48.080506: I tensorflow/core/grappler/optimizers/custom_graph_optimizer_registry.cc:113] Plugin optimizer for device_type GPU is enabled.\n",
      "2022-05-15 17:36:48.097623: I tensorflow/core/grappler/optimizers/custom_graph_optimizer_registry.cc:113] Plugin optimizer for device_type GPU is enabled.\n"
     ]
    },
    {
     "name": "stdout",
     "output_type": "stream",
     "text": [
      "7/7 [==============================] - 4s 318ms/step - loss: 0.8394 - accuracy: 0.7744 - precision_55: 0.0000e+00 - recall_55: 0.0000e+00 - get_f1: 0.0000e+00\n",
      "--- Starting trial: run-47\n",
      "{'num_units': 25, 'dropout': 0.3, 'optimizer': 'adam', 'embedding': 'pretrained', 'learning_rate': 0.003, 'batch_size': 64, 'attention': 'yes'}\n",
      "Epoch 1/3\n"
     ]
    },
    {
     "name": "stderr",
     "output_type": "stream",
     "text": [
      "2022-05-15 17:37:04.231596: I tensorflow/core/grappler/optimizers/custom_graph_optimizer_registry.cc:113] Plugin optimizer for device_type GPU is enabled.\n",
      "2022-05-15 17:37:06.552981: I tensorflow/core/grappler/optimizers/custom_graph_optimizer_registry.cc:113] Plugin optimizer for device_type GPU is enabled.\n",
      "2022-05-15 17:37:06.659218: I tensorflow/core/grappler/optimizers/custom_graph_optimizer_registry.cc:113] Plugin optimizer for device_type GPU is enabled.\n",
      "2022-05-15 17:37:07.689476: I tensorflow/core/grappler/optimizers/custom_graph_optimizer_registry.cc:113] Plugin optimizer for device_type GPU is enabled.\n",
      "2022-05-15 17:37:07.716886: I tensorflow/core/grappler/optimizers/custom_graph_optimizer_registry.cc:113] Plugin optimizer for device_type GPU is enabled.\n",
      "2022-05-15 17:37:09.410849: I tensorflow/core/grappler/optimizers/custom_graph_optimizer_registry.cc:113] Plugin optimizer for device_type GPU is enabled.\n",
      "2022-05-15 17:37:09.411048: I tensorflow/core/grappler/optimizers/custom_graph_optimizer_registry.cc:113] Plugin optimizer for device_type GPU is enabled.\n",
      "2022-05-15 17:37:10.460515: I tensorflow/core/grappler/optimizers/custom_graph_optimizer_registry.cc:113] Plugin optimizer for device_type GPU is enabled.\n",
      "2022-05-15 17:37:10.522374: I tensorflow/core/grappler/optimizers/custom_graph_optimizer_registry.cc:113] Plugin optimizer for device_type GPU is enabled.\n"
     ]
    },
    {
     "name": "stdout",
     "output_type": "stream",
     "text": [
      "2/2 [==============================] - 17s 2s/step - loss: 0.6105 - accuracy: 0.6900 - precision_56: 0.0000e+00 - recall_56: 0.0000e+00 - get_f1: 0.0000e+00\n",
      "Epoch 2/3\n",
      "2/2 [==============================] - 1s 431ms/step - loss: 0.2627 - accuracy: 1.0000 - precision_56: 0.0000e+00 - recall_56: 0.0000e+00 - get_f1: 0.0000e+00\n",
      "Epoch 3/3\n",
      "2/2 [==============================] - 1s 372ms/step - loss: 0.1094 - accuracy: 1.0000 - precision_56: 0.0000e+00 - recall_56: 0.0000e+00 - get_f1: 0.0000e+00\n"
     ]
    },
    {
     "name": "stderr",
     "output_type": "stream",
     "text": [
      "2022-05-15 17:37:18.234404: I tensorflow/core/grappler/optimizers/custom_graph_optimizer_registry.cc:113] Plugin optimizer for device_type GPU is enabled.\n",
      "2022-05-15 17:37:18.759386: I tensorflow/core/grappler/optimizers/custom_graph_optimizer_registry.cc:113] Plugin optimizer for device_type GPU is enabled.\n",
      "2022-05-15 17:37:18.767303: I tensorflow/core/grappler/optimizers/custom_graph_optimizer_registry.cc:113] Plugin optimizer for device_type GPU is enabled.\n",
      "2022-05-15 17:37:19.136326: I tensorflow/core/grappler/optimizers/custom_graph_optimizer_registry.cc:113] Plugin optimizer for device_type GPU is enabled.\n",
      "2022-05-15 17:37:19.143890: I tensorflow/core/grappler/optimizers/custom_graph_optimizer_registry.cc:113] Plugin optimizer for device_type GPU is enabled.\n"
     ]
    },
    {
     "name": "stdout",
     "output_type": "stream",
     "text": [
      "7/7 [==============================] - 4s 245ms/step - loss: 0.7329 - accuracy: 0.7744 - precision_56: 0.0000e+00 - recall_56: 0.0000e+00 - get_f1: 0.0000e+00\n",
      "--- Starting trial: run-48\n",
      "{'num_units': 25, 'dropout': 0.3, 'optimizer': 'adam', 'embedding': 'from_scratch', 'learning_rate': 0.01, 'batch_size': 64, 'attention': 'no'}\n",
      "Epoch 1/3\n"
     ]
    },
    {
     "name": "stderr",
     "output_type": "stream",
     "text": [
      "2022-05-15 17:38:05.536581: I tensorflow/core/grappler/optimizers/custom_graph_optimizer_registry.cc:113] Plugin optimizer for device_type GPU is enabled.\n",
      "2022-05-15 17:38:14.153978: I tensorflow/core/grappler/optimizers/custom_graph_optimizer_registry.cc:113] Plugin optimizer for device_type GPU is enabled.\n",
      "2022-05-15 17:38:14.591053: I tensorflow/core/grappler/optimizers/custom_graph_optimizer_registry.cc:113] Plugin optimizer for device_type GPU is enabled.\n",
      "2022-05-15 17:38:17.394077: I tensorflow/core/grappler/optimizers/custom_graph_optimizer_registry.cc:113] Plugin optimizer for device_type GPU is enabled.\n",
      "2022-05-15 17:38:17.414480: I tensorflow/core/grappler/optimizers/custom_graph_optimizer_registry.cc:113] Plugin optimizer for device_type GPU is enabled.\n",
      "2022-05-15 17:38:47.767285: I tensorflow/core/grappler/optimizers/custom_graph_optimizer_registry.cc:113] Plugin optimizer for device_type GPU is enabled.\n",
      "2022-05-15 17:38:51.292784: I tensorflow/core/grappler/optimizers/custom_graph_optimizer_registry.cc:113] Plugin optimizer for device_type GPU is enabled.\n",
      "2022-05-15 17:39:20.040606: I tensorflow/core/grappler/optimizers/custom_graph_optimizer_registry.cc:113] Plugin optimizer for device_type GPU is enabled.\n",
      "2022-05-15 17:39:20.443893: I tensorflow/core/grappler/optimizers/custom_graph_optimizer_registry.cc:113] Plugin optimizer for device_type GPU is enabled.\n"
     ]
    },
    {
     "ename": "KeyboardInterrupt",
     "evalue": "",
     "output_type": "error",
     "traceback": [
      "\u001b[0;31m---------------------------------------------------------------------------\u001b[0m",
      "\u001b[0;31mKeyboardInterrupt\u001b[0m                         Traceback (most recent call last)",
      "\u001b[1;32m/Users/ivarw/Desktop/dat550pros/testing.ipynb Cell 109'\u001b[0m in \u001b[0;36m<cell line: 3>\u001b[0;34m()\u001b[0m\n\u001b[1;32m     <a href='vscode-notebook-cell:/Users/ivarw/Desktop/dat550pros/testing.ipynb#ch0000105?line=19'>20</a>\u001b[0m \u001b[39mprint\u001b[39m(\u001b[39m'\u001b[39m\u001b[39m--- Starting trial: \u001b[39m\u001b[39m%s\u001b[39;00m\u001b[39m'\u001b[39m \u001b[39m%\u001b[39m run_name)\n\u001b[1;32m     <a href='vscode-notebook-cell:/Users/ivarw/Desktop/dat550pros/testing.ipynb#ch0000105?line=20'>21</a>\u001b[0m \u001b[39mprint\u001b[39m({h\u001b[39m.\u001b[39mname: hparams[h] \u001b[39mfor\u001b[39;00m h \u001b[39min\u001b[39;00m hparams})\n\u001b[0;32m---> <a href='vscode-notebook-cell:/Users/ivarw/Desktop/dat550pros/testing.ipynb#ch0000105?line=21'>22</a>\u001b[0m run(\u001b[39m'\u001b[39;49m\u001b[39mlogs/hparam_tuning/\u001b[39;49m\u001b[39m'\u001b[39;49m \u001b[39m+\u001b[39;49m run_name, hparams)\n\u001b[1;32m     <a href='vscode-notebook-cell:/Users/ivarw/Desktop/dat550pros/testing.ipynb#ch0000105?line=22'>23</a>\u001b[0m session_num \u001b[39m+\u001b[39m\u001b[39m=\u001b[39m \u001b[39m1\u001b[39m\n",
      "\u001b[1;32m/Users/ivarw/Desktop/dat550pros/testing.ipynb Cell 104'\u001b[0m in \u001b[0;36mrun\u001b[0;34m(run_dir, hparams)\u001b[0m\n\u001b[1;32m      <a href='vscode-notebook-cell:/Users/ivarw/Desktop/dat550pros/testing.ipynb#ch0000104?line=1'>2</a>\u001b[0m \u001b[39mwith\u001b[39;00m tf\u001b[39m.\u001b[39msummary\u001b[39m.\u001b[39mcreate_file_writer(run_dir)\u001b[39m.\u001b[39mas_default():\n\u001b[1;32m      <a href='vscode-notebook-cell:/Users/ivarw/Desktop/dat550pros/testing.ipynb#ch0000104?line=2'>3</a>\u001b[0m     hp\u001b[39m.\u001b[39mhparams(hparams)  \u001b[39m# record the values used in this trial\u001b[39;00m\n\u001b[0;32m----> <a href='vscode-notebook-cell:/Users/ivarw/Desktop/dat550pros/testing.ipynb#ch0000104?line=3'>4</a>\u001b[0m     loss, accuracy, prec, recall, f1 \u001b[39m=\u001b[39m train_and_test_model(hparams)\n\u001b[1;32m      <a href='vscode-notebook-cell:/Users/ivarw/Desktop/dat550pros/testing.ipynb#ch0000104?line=4'>5</a>\u001b[0m     tf\u001b[39m.\u001b[39msummary\u001b[39m.\u001b[39mscalar(METRIC_ACCURACY, accuracy, step\u001b[39m=\u001b[39m\u001b[39m1\u001b[39m)\n\u001b[1;32m      <a href='vscode-notebook-cell:/Users/ivarw/Desktop/dat550pros/testing.ipynb#ch0000104?line=5'>6</a>\u001b[0m     tf\u001b[39m.\u001b[39msummary\u001b[39m.\u001b[39mscalar(METRIC_LOSS, loss, step\u001b[39m=\u001b[39m\u001b[39m1\u001b[39m)\n",
      "\u001b[1;32m/Users/ivarw/Desktop/dat550pros/testing.ipynb Cell 108'\u001b[0m in \u001b[0;36mtrain_and_test_model\u001b[0;34m(hparams)\u001b[0m\n\u001b[1;32m     <a href='vscode-notebook-cell:/Users/ivarw/Desktop/dat550pros/testing.ipynb#ch0000121?line=22'>23</a>\u001b[0m model \u001b[39m=\u001b[39m tf\u001b[39m.\u001b[39mkeras\u001b[39m.\u001b[39mModel(inputs\u001b[39m=\u001b[39msequence_input, outputs\u001b[39m=\u001b[39moutput)\n\u001b[1;32m     <a href='vscode-notebook-cell:/Users/ivarw/Desktop/dat550pros/testing.ipynb#ch0000121?line=24'>25</a>\u001b[0m model\u001b[39m.\u001b[39mcompile(optimizer\u001b[39m=\u001b[39mopt_algo, loss\u001b[39m=\u001b[39m\u001b[39m'\u001b[39m\u001b[39mbinary_crossentropy\u001b[39m\u001b[39m'\u001b[39m,\n\u001b[1;32m     <a href='vscode-notebook-cell:/Users/ivarw/Desktop/dat550pros/testing.ipynb#ch0000121?line=25'>26</a>\u001b[0m               metrics\u001b[39m=\u001b[39m[\u001b[39m'\u001b[39m\u001b[39maccuracy\u001b[39m\u001b[39m'\u001b[39m, \n\u001b[1;32m     <a href='vscode-notebook-cell:/Users/ivarw/Desktop/dat550pros/testing.ipynb#ch0000121?line=26'>27</a>\u001b[0m                        tf\u001b[39m.\u001b[39mkeras\u001b[39m.\u001b[39mmetrics\u001b[39m.\u001b[39mPrecision(),\n\u001b[1;32m     <a href='vscode-notebook-cell:/Users/ivarw/Desktop/dat550pros/testing.ipynb#ch0000121?line=27'>28</a>\u001b[0m                        tf\u001b[39m.\u001b[39mkeras\u001b[39m.\u001b[39mmetrics\u001b[39m.\u001b[39mRecall(), \n\u001b[1;32m     <a href='vscode-notebook-cell:/Users/ivarw/Desktop/dat550pros/testing.ipynb#ch0000121?line=28'>29</a>\u001b[0m                        get_f1])\n\u001b[0;32m---> <a href='vscode-notebook-cell:/Users/ivarw/Desktop/dat550pros/testing.ipynb#ch0000121?line=29'>30</a>\u001b[0m model\u001b[39m.\u001b[39;49mfit(X_train[:\u001b[39m100\u001b[39;49m], Y_train[:\u001b[39m100\u001b[39;49m], epochs\u001b[39m=\u001b[39;49m\u001b[39m3\u001b[39;49m, batch_size \u001b[39m=\u001b[39;49m hparams[HP_BATCH_SIZE])\n\u001b[1;32m     <a href='vscode-notebook-cell:/Users/ivarw/Desktop/dat550pros/testing.ipynb#ch0000121?line=31'>32</a>\u001b[0m loss, accuracy, prec, recall, f1 \u001b[39m=\u001b[39m model\u001b[39m.\u001b[39mevaluate(X_val, Y_val)\n\u001b[1;32m     <a href='vscode-notebook-cell:/Users/ivarw/Desktop/dat550pros/testing.ipynb#ch0000121?line=32'>33</a>\u001b[0m \u001b[39mreturn\u001b[39;00m loss, accuracy, prec, recall, f1\n",
      "File \u001b[0;32m~/miniforge3/envs/DAT540/lib/python3.8/site-packages/keras/utils/traceback_utils.py:64\u001b[0m, in \u001b[0;36mfilter_traceback.<locals>.error_handler\u001b[0;34m(*args, **kwargs)\u001b[0m\n\u001b[1;32m     <a href='file:///Users/ivarw/miniforge3/envs/DAT540/lib/python3.8/site-packages/keras/utils/traceback_utils.py?line=61'>62</a>\u001b[0m filtered_tb \u001b[39m=\u001b[39m \u001b[39mNone\u001b[39;00m\n\u001b[1;32m     <a href='file:///Users/ivarw/miniforge3/envs/DAT540/lib/python3.8/site-packages/keras/utils/traceback_utils.py?line=62'>63</a>\u001b[0m \u001b[39mtry\u001b[39;00m:\n\u001b[0;32m---> <a href='file:///Users/ivarw/miniforge3/envs/DAT540/lib/python3.8/site-packages/keras/utils/traceback_utils.py?line=63'>64</a>\u001b[0m   \u001b[39mreturn\u001b[39;00m fn(\u001b[39m*\u001b[39;49margs, \u001b[39m*\u001b[39;49m\u001b[39m*\u001b[39;49mkwargs)\n\u001b[1;32m     <a href='file:///Users/ivarw/miniforge3/envs/DAT540/lib/python3.8/site-packages/keras/utils/traceback_utils.py?line=64'>65</a>\u001b[0m \u001b[39mexcept\u001b[39;00m \u001b[39mException\u001b[39;00m \u001b[39mas\u001b[39;00m e:  \u001b[39m# pylint: disable=broad-except\u001b[39;00m\n\u001b[1;32m     <a href='file:///Users/ivarw/miniforge3/envs/DAT540/lib/python3.8/site-packages/keras/utils/traceback_utils.py?line=65'>66</a>\u001b[0m   filtered_tb \u001b[39m=\u001b[39m _process_traceback_frames(e\u001b[39m.\u001b[39m__traceback__)\n",
      "File \u001b[0;32m~/miniforge3/envs/DAT540/lib/python3.8/site-packages/keras/engine/training.py:1384\u001b[0m, in \u001b[0;36mModel.fit\u001b[0;34m(self, x, y, batch_size, epochs, verbose, callbacks, validation_split, validation_data, shuffle, class_weight, sample_weight, initial_epoch, steps_per_epoch, validation_steps, validation_batch_size, validation_freq, max_queue_size, workers, use_multiprocessing)\u001b[0m\n\u001b[1;32m   <a href='file:///Users/ivarw/miniforge3/envs/DAT540/lib/python3.8/site-packages/keras/engine/training.py?line=1376'>1377</a>\u001b[0m \u001b[39mwith\u001b[39;00m tf\u001b[39m.\u001b[39mprofiler\u001b[39m.\u001b[39mexperimental\u001b[39m.\u001b[39mTrace(\n\u001b[1;32m   <a href='file:///Users/ivarw/miniforge3/envs/DAT540/lib/python3.8/site-packages/keras/engine/training.py?line=1377'>1378</a>\u001b[0m     \u001b[39m'\u001b[39m\u001b[39mtrain\u001b[39m\u001b[39m'\u001b[39m,\n\u001b[1;32m   <a href='file:///Users/ivarw/miniforge3/envs/DAT540/lib/python3.8/site-packages/keras/engine/training.py?line=1378'>1379</a>\u001b[0m     epoch_num\u001b[39m=\u001b[39mepoch,\n\u001b[1;32m   <a href='file:///Users/ivarw/miniforge3/envs/DAT540/lib/python3.8/site-packages/keras/engine/training.py?line=1379'>1380</a>\u001b[0m     step_num\u001b[39m=\u001b[39mstep,\n\u001b[1;32m   <a href='file:///Users/ivarw/miniforge3/envs/DAT540/lib/python3.8/site-packages/keras/engine/training.py?line=1380'>1381</a>\u001b[0m     batch_size\u001b[39m=\u001b[39mbatch_size,\n\u001b[1;32m   <a href='file:///Users/ivarw/miniforge3/envs/DAT540/lib/python3.8/site-packages/keras/engine/training.py?line=1381'>1382</a>\u001b[0m     _r\u001b[39m=\u001b[39m\u001b[39m1\u001b[39m):\n\u001b[1;32m   <a href='file:///Users/ivarw/miniforge3/envs/DAT540/lib/python3.8/site-packages/keras/engine/training.py?line=1382'>1383</a>\u001b[0m   callbacks\u001b[39m.\u001b[39mon_train_batch_begin(step)\n\u001b[0;32m-> <a href='file:///Users/ivarw/miniforge3/envs/DAT540/lib/python3.8/site-packages/keras/engine/training.py?line=1383'>1384</a>\u001b[0m   tmp_logs \u001b[39m=\u001b[39m \u001b[39mself\u001b[39;49m\u001b[39m.\u001b[39;49mtrain_function(iterator)\n\u001b[1;32m   <a href='file:///Users/ivarw/miniforge3/envs/DAT540/lib/python3.8/site-packages/keras/engine/training.py?line=1384'>1385</a>\u001b[0m   \u001b[39mif\u001b[39;00m data_handler\u001b[39m.\u001b[39mshould_sync:\n\u001b[1;32m   <a href='file:///Users/ivarw/miniforge3/envs/DAT540/lib/python3.8/site-packages/keras/engine/training.py?line=1385'>1386</a>\u001b[0m     context\u001b[39m.\u001b[39masync_wait()\n",
      "File \u001b[0;32m~/miniforge3/envs/DAT540/lib/python3.8/site-packages/tensorflow/python/util/traceback_utils.py:150\u001b[0m, in \u001b[0;36mfilter_traceback.<locals>.error_handler\u001b[0;34m(*args, **kwargs)\u001b[0m\n\u001b[1;32m    <a href='file:///Users/ivarw/miniforge3/envs/DAT540/lib/python3.8/site-packages/tensorflow/python/util/traceback_utils.py?line=147'>148</a>\u001b[0m filtered_tb \u001b[39m=\u001b[39m \u001b[39mNone\u001b[39;00m\n\u001b[1;32m    <a href='file:///Users/ivarw/miniforge3/envs/DAT540/lib/python3.8/site-packages/tensorflow/python/util/traceback_utils.py?line=148'>149</a>\u001b[0m \u001b[39mtry\u001b[39;00m:\n\u001b[0;32m--> <a href='file:///Users/ivarw/miniforge3/envs/DAT540/lib/python3.8/site-packages/tensorflow/python/util/traceback_utils.py?line=149'>150</a>\u001b[0m   \u001b[39mreturn\u001b[39;00m fn(\u001b[39m*\u001b[39;49margs, \u001b[39m*\u001b[39;49m\u001b[39m*\u001b[39;49mkwargs)\n\u001b[1;32m    <a href='file:///Users/ivarw/miniforge3/envs/DAT540/lib/python3.8/site-packages/tensorflow/python/util/traceback_utils.py?line=150'>151</a>\u001b[0m \u001b[39mexcept\u001b[39;00m \u001b[39mException\u001b[39;00m \u001b[39mas\u001b[39;00m e:\n\u001b[1;32m    <a href='file:///Users/ivarw/miniforge3/envs/DAT540/lib/python3.8/site-packages/tensorflow/python/util/traceback_utils.py?line=151'>152</a>\u001b[0m   filtered_tb \u001b[39m=\u001b[39m _process_traceback_frames(e\u001b[39m.\u001b[39m__traceback__)\n",
      "File \u001b[0;32m~/miniforge3/envs/DAT540/lib/python3.8/site-packages/tensorflow/python/eager/def_function.py:915\u001b[0m, in \u001b[0;36mFunction.__call__\u001b[0;34m(self, *args, **kwds)\u001b[0m\n\u001b[1;32m    <a href='file:///Users/ivarw/miniforge3/envs/DAT540/lib/python3.8/site-packages/tensorflow/python/eager/def_function.py?line=911'>912</a>\u001b[0m compiler \u001b[39m=\u001b[39m \u001b[39m\"\u001b[39m\u001b[39mxla\u001b[39m\u001b[39m\"\u001b[39m \u001b[39mif\u001b[39;00m \u001b[39mself\u001b[39m\u001b[39m.\u001b[39m_jit_compile \u001b[39melse\u001b[39;00m \u001b[39m\"\u001b[39m\u001b[39mnonXla\u001b[39m\u001b[39m\"\u001b[39m\n\u001b[1;32m    <a href='file:///Users/ivarw/miniforge3/envs/DAT540/lib/python3.8/site-packages/tensorflow/python/eager/def_function.py?line=913'>914</a>\u001b[0m \u001b[39mwith\u001b[39;00m OptionalXlaContext(\u001b[39mself\u001b[39m\u001b[39m.\u001b[39m_jit_compile):\n\u001b[0;32m--> <a href='file:///Users/ivarw/miniforge3/envs/DAT540/lib/python3.8/site-packages/tensorflow/python/eager/def_function.py?line=914'>915</a>\u001b[0m   result \u001b[39m=\u001b[39m \u001b[39mself\u001b[39;49m\u001b[39m.\u001b[39;49m_call(\u001b[39m*\u001b[39;49margs, \u001b[39m*\u001b[39;49m\u001b[39m*\u001b[39;49mkwds)\n\u001b[1;32m    <a href='file:///Users/ivarw/miniforge3/envs/DAT540/lib/python3.8/site-packages/tensorflow/python/eager/def_function.py?line=916'>917</a>\u001b[0m new_tracing_count \u001b[39m=\u001b[39m \u001b[39mself\u001b[39m\u001b[39m.\u001b[39mexperimental_get_tracing_count()\n\u001b[1;32m    <a href='file:///Users/ivarw/miniforge3/envs/DAT540/lib/python3.8/site-packages/tensorflow/python/eager/def_function.py?line=917'>918</a>\u001b[0m without_tracing \u001b[39m=\u001b[39m (tracing_count \u001b[39m==\u001b[39m new_tracing_count)\n",
      "File \u001b[0;32m~/miniforge3/envs/DAT540/lib/python3.8/site-packages/tensorflow/python/eager/def_function.py:980\u001b[0m, in \u001b[0;36mFunction._call\u001b[0;34m(self, *args, **kwds)\u001b[0m\n\u001b[1;32m    <a href='file:///Users/ivarw/miniforge3/envs/DAT540/lib/python3.8/site-packages/tensorflow/python/eager/def_function.py?line=975'>976</a>\u001b[0m     \u001b[39mpass\u001b[39;00m  \u001b[39m# Fall through to cond-based initialization.\u001b[39;00m\n\u001b[1;32m    <a href='file:///Users/ivarw/miniforge3/envs/DAT540/lib/python3.8/site-packages/tensorflow/python/eager/def_function.py?line=976'>977</a>\u001b[0m   \u001b[39melse\u001b[39;00m:\n\u001b[1;32m    <a href='file:///Users/ivarw/miniforge3/envs/DAT540/lib/python3.8/site-packages/tensorflow/python/eager/def_function.py?line=977'>978</a>\u001b[0m     \u001b[39m# Lifting succeeded, so variables are initialized and we can run the\u001b[39;00m\n\u001b[1;32m    <a href='file:///Users/ivarw/miniforge3/envs/DAT540/lib/python3.8/site-packages/tensorflow/python/eager/def_function.py?line=978'>979</a>\u001b[0m     \u001b[39m# stateless function.\u001b[39;00m\n\u001b[0;32m--> <a href='file:///Users/ivarw/miniforge3/envs/DAT540/lib/python3.8/site-packages/tensorflow/python/eager/def_function.py?line=979'>980</a>\u001b[0m     \u001b[39mreturn\u001b[39;00m \u001b[39mself\u001b[39;49m\u001b[39m.\u001b[39;49m_stateless_fn(\u001b[39m*\u001b[39;49margs, \u001b[39m*\u001b[39;49m\u001b[39m*\u001b[39;49mkwds)\n\u001b[1;32m    <a href='file:///Users/ivarw/miniforge3/envs/DAT540/lib/python3.8/site-packages/tensorflow/python/eager/def_function.py?line=980'>981</a>\u001b[0m \u001b[39melse\u001b[39;00m:\n\u001b[1;32m    <a href='file:///Users/ivarw/miniforge3/envs/DAT540/lib/python3.8/site-packages/tensorflow/python/eager/def_function.py?line=981'>982</a>\u001b[0m   _, _, _, filtered_flat_args \u001b[39m=\u001b[39m \\\n\u001b[1;32m    <a href='file:///Users/ivarw/miniforge3/envs/DAT540/lib/python3.8/site-packages/tensorflow/python/eager/def_function.py?line=982'>983</a>\u001b[0m       \u001b[39mself\u001b[39m\u001b[39m.\u001b[39m_stateful_fn\u001b[39m.\u001b[39m_function_spec\u001b[39m.\u001b[39mcanonicalize_function_inputs(  \u001b[39m# pylint: disable=protected-access\u001b[39;00m\n\u001b[1;32m    <a href='file:///Users/ivarw/miniforge3/envs/DAT540/lib/python3.8/site-packages/tensorflow/python/eager/def_function.py?line=983'>984</a>\u001b[0m           \u001b[39m*\u001b[39margs, \u001b[39m*\u001b[39m\u001b[39m*\u001b[39mkwds)\n",
      "File \u001b[0;32m~/miniforge3/envs/DAT540/lib/python3.8/site-packages/tensorflow/python/eager/function.py:2956\u001b[0m, in \u001b[0;36mFunction.__call__\u001b[0;34m(self, *args, **kwargs)\u001b[0m\n\u001b[1;32m   <a href='file:///Users/ivarw/miniforge3/envs/DAT540/lib/python3.8/site-packages/tensorflow/python/eager/function.py?line=2952'>2953</a>\u001b[0m \u001b[39mwith\u001b[39;00m \u001b[39mself\u001b[39m\u001b[39m.\u001b[39m_lock:\n\u001b[1;32m   <a href='file:///Users/ivarw/miniforge3/envs/DAT540/lib/python3.8/site-packages/tensorflow/python/eager/function.py?line=2953'>2954</a>\u001b[0m   (graph_function,\n\u001b[1;32m   <a href='file:///Users/ivarw/miniforge3/envs/DAT540/lib/python3.8/site-packages/tensorflow/python/eager/function.py?line=2954'>2955</a>\u001b[0m    filtered_flat_args) \u001b[39m=\u001b[39m \u001b[39mself\u001b[39m\u001b[39m.\u001b[39m_maybe_define_function(args, kwargs)\n\u001b[0;32m-> <a href='file:///Users/ivarw/miniforge3/envs/DAT540/lib/python3.8/site-packages/tensorflow/python/eager/function.py?line=2955'>2956</a>\u001b[0m \u001b[39mreturn\u001b[39;00m graph_function\u001b[39m.\u001b[39;49m_call_flat(\n\u001b[1;32m   <a href='file:///Users/ivarw/miniforge3/envs/DAT540/lib/python3.8/site-packages/tensorflow/python/eager/function.py?line=2956'>2957</a>\u001b[0m     filtered_flat_args, captured_inputs\u001b[39m=\u001b[39;49mgraph_function\u001b[39m.\u001b[39;49mcaptured_inputs)\n",
      "File \u001b[0;32m~/miniforge3/envs/DAT540/lib/python3.8/site-packages/tensorflow/python/eager/function.py:1853\u001b[0m, in \u001b[0;36mConcreteFunction._call_flat\u001b[0;34m(self, args, captured_inputs, cancellation_manager)\u001b[0m\n\u001b[1;32m   <a href='file:///Users/ivarw/miniforge3/envs/DAT540/lib/python3.8/site-packages/tensorflow/python/eager/function.py?line=1848'>1849</a>\u001b[0m possible_gradient_type \u001b[39m=\u001b[39m gradients_util\u001b[39m.\u001b[39mPossibleTapeGradientTypes(args)\n\u001b[1;32m   <a href='file:///Users/ivarw/miniforge3/envs/DAT540/lib/python3.8/site-packages/tensorflow/python/eager/function.py?line=1849'>1850</a>\u001b[0m \u001b[39mif\u001b[39;00m (possible_gradient_type \u001b[39m==\u001b[39m gradients_util\u001b[39m.\u001b[39mPOSSIBLE_GRADIENT_TYPES_NONE\n\u001b[1;32m   <a href='file:///Users/ivarw/miniforge3/envs/DAT540/lib/python3.8/site-packages/tensorflow/python/eager/function.py?line=1850'>1851</a>\u001b[0m     \u001b[39mand\u001b[39;00m executing_eagerly):\n\u001b[1;32m   <a href='file:///Users/ivarw/miniforge3/envs/DAT540/lib/python3.8/site-packages/tensorflow/python/eager/function.py?line=1851'>1852</a>\u001b[0m   \u001b[39m# No tape is watching; skip to running the function.\u001b[39;00m\n\u001b[0;32m-> <a href='file:///Users/ivarw/miniforge3/envs/DAT540/lib/python3.8/site-packages/tensorflow/python/eager/function.py?line=1852'>1853</a>\u001b[0m   \u001b[39mreturn\u001b[39;00m \u001b[39mself\u001b[39m\u001b[39m.\u001b[39m_build_call_outputs(\u001b[39mself\u001b[39;49m\u001b[39m.\u001b[39;49m_inference_function\u001b[39m.\u001b[39;49mcall(\n\u001b[1;32m   <a href='file:///Users/ivarw/miniforge3/envs/DAT540/lib/python3.8/site-packages/tensorflow/python/eager/function.py?line=1853'>1854</a>\u001b[0m       ctx, args, cancellation_manager\u001b[39m=\u001b[39;49mcancellation_manager))\n\u001b[1;32m   <a href='file:///Users/ivarw/miniforge3/envs/DAT540/lib/python3.8/site-packages/tensorflow/python/eager/function.py?line=1854'>1855</a>\u001b[0m forward_backward \u001b[39m=\u001b[39m \u001b[39mself\u001b[39m\u001b[39m.\u001b[39m_select_forward_and_backward_functions(\n\u001b[1;32m   <a href='file:///Users/ivarw/miniforge3/envs/DAT540/lib/python3.8/site-packages/tensorflow/python/eager/function.py?line=1855'>1856</a>\u001b[0m     args,\n\u001b[1;32m   <a href='file:///Users/ivarw/miniforge3/envs/DAT540/lib/python3.8/site-packages/tensorflow/python/eager/function.py?line=1856'>1857</a>\u001b[0m     possible_gradient_type,\n\u001b[1;32m   <a href='file:///Users/ivarw/miniforge3/envs/DAT540/lib/python3.8/site-packages/tensorflow/python/eager/function.py?line=1857'>1858</a>\u001b[0m     executing_eagerly)\n\u001b[1;32m   <a href='file:///Users/ivarw/miniforge3/envs/DAT540/lib/python3.8/site-packages/tensorflow/python/eager/function.py?line=1858'>1859</a>\u001b[0m forward_function, args_with_tangents \u001b[39m=\u001b[39m forward_backward\u001b[39m.\u001b[39mforward()\n",
      "File \u001b[0;32m~/miniforge3/envs/DAT540/lib/python3.8/site-packages/tensorflow/python/eager/function.py:499\u001b[0m, in \u001b[0;36m_EagerDefinedFunction.call\u001b[0;34m(self, ctx, args, cancellation_manager)\u001b[0m\n\u001b[1;32m    <a href='file:///Users/ivarw/miniforge3/envs/DAT540/lib/python3.8/site-packages/tensorflow/python/eager/function.py?line=496'>497</a>\u001b[0m \u001b[39mwith\u001b[39;00m _InterpolateFunctionError(\u001b[39mself\u001b[39m):\n\u001b[1;32m    <a href='file:///Users/ivarw/miniforge3/envs/DAT540/lib/python3.8/site-packages/tensorflow/python/eager/function.py?line=497'>498</a>\u001b[0m   \u001b[39mif\u001b[39;00m cancellation_manager \u001b[39mis\u001b[39;00m \u001b[39mNone\u001b[39;00m:\n\u001b[0;32m--> <a href='file:///Users/ivarw/miniforge3/envs/DAT540/lib/python3.8/site-packages/tensorflow/python/eager/function.py?line=498'>499</a>\u001b[0m     outputs \u001b[39m=\u001b[39m execute\u001b[39m.\u001b[39;49mexecute(\n\u001b[1;32m    <a href='file:///Users/ivarw/miniforge3/envs/DAT540/lib/python3.8/site-packages/tensorflow/python/eager/function.py?line=499'>500</a>\u001b[0m         \u001b[39mstr\u001b[39;49m(\u001b[39mself\u001b[39;49m\u001b[39m.\u001b[39;49msignature\u001b[39m.\u001b[39;49mname),\n\u001b[1;32m    <a href='file:///Users/ivarw/miniforge3/envs/DAT540/lib/python3.8/site-packages/tensorflow/python/eager/function.py?line=500'>501</a>\u001b[0m         num_outputs\u001b[39m=\u001b[39;49m\u001b[39mself\u001b[39;49m\u001b[39m.\u001b[39;49m_num_outputs,\n\u001b[1;32m    <a href='file:///Users/ivarw/miniforge3/envs/DAT540/lib/python3.8/site-packages/tensorflow/python/eager/function.py?line=501'>502</a>\u001b[0m         inputs\u001b[39m=\u001b[39;49margs,\n\u001b[1;32m    <a href='file:///Users/ivarw/miniforge3/envs/DAT540/lib/python3.8/site-packages/tensorflow/python/eager/function.py?line=502'>503</a>\u001b[0m         attrs\u001b[39m=\u001b[39;49mattrs,\n\u001b[1;32m    <a href='file:///Users/ivarw/miniforge3/envs/DAT540/lib/python3.8/site-packages/tensorflow/python/eager/function.py?line=503'>504</a>\u001b[0m         ctx\u001b[39m=\u001b[39;49mctx)\n\u001b[1;32m    <a href='file:///Users/ivarw/miniforge3/envs/DAT540/lib/python3.8/site-packages/tensorflow/python/eager/function.py?line=504'>505</a>\u001b[0m   \u001b[39melse\u001b[39;00m:\n\u001b[1;32m    <a href='file:///Users/ivarw/miniforge3/envs/DAT540/lib/python3.8/site-packages/tensorflow/python/eager/function.py?line=505'>506</a>\u001b[0m     outputs \u001b[39m=\u001b[39m execute\u001b[39m.\u001b[39mexecute_with_cancellation(\n\u001b[1;32m    <a href='file:///Users/ivarw/miniforge3/envs/DAT540/lib/python3.8/site-packages/tensorflow/python/eager/function.py?line=506'>507</a>\u001b[0m         \u001b[39mstr\u001b[39m(\u001b[39mself\u001b[39m\u001b[39m.\u001b[39msignature\u001b[39m.\u001b[39mname),\n\u001b[1;32m    <a href='file:///Users/ivarw/miniforge3/envs/DAT540/lib/python3.8/site-packages/tensorflow/python/eager/function.py?line=507'>508</a>\u001b[0m         num_outputs\u001b[39m=\u001b[39m\u001b[39mself\u001b[39m\u001b[39m.\u001b[39m_num_outputs,\n\u001b[0;32m   (...)\u001b[0m\n\u001b[1;32m    <a href='file:///Users/ivarw/miniforge3/envs/DAT540/lib/python3.8/site-packages/tensorflow/python/eager/function.py?line=510'>511</a>\u001b[0m         ctx\u001b[39m=\u001b[39mctx,\n\u001b[1;32m    <a href='file:///Users/ivarw/miniforge3/envs/DAT540/lib/python3.8/site-packages/tensorflow/python/eager/function.py?line=511'>512</a>\u001b[0m         cancellation_manager\u001b[39m=\u001b[39mcancellation_manager)\n",
      "File \u001b[0;32m~/miniforge3/envs/DAT540/lib/python3.8/site-packages/tensorflow/python/eager/execute.py:54\u001b[0m, in \u001b[0;36mquick_execute\u001b[0;34m(op_name, num_outputs, inputs, attrs, ctx, name)\u001b[0m\n\u001b[1;32m     <a href='file:///Users/ivarw/miniforge3/envs/DAT540/lib/python3.8/site-packages/tensorflow/python/eager/execute.py?line=51'>52</a>\u001b[0m \u001b[39mtry\u001b[39;00m:\n\u001b[1;32m     <a href='file:///Users/ivarw/miniforge3/envs/DAT540/lib/python3.8/site-packages/tensorflow/python/eager/execute.py?line=52'>53</a>\u001b[0m   ctx\u001b[39m.\u001b[39mensure_initialized()\n\u001b[0;32m---> <a href='file:///Users/ivarw/miniforge3/envs/DAT540/lib/python3.8/site-packages/tensorflow/python/eager/execute.py?line=53'>54</a>\u001b[0m   tensors \u001b[39m=\u001b[39m pywrap_tfe\u001b[39m.\u001b[39;49mTFE_Py_Execute(ctx\u001b[39m.\u001b[39;49m_handle, device_name, op_name,\n\u001b[1;32m     <a href='file:///Users/ivarw/miniforge3/envs/DAT540/lib/python3.8/site-packages/tensorflow/python/eager/execute.py?line=54'>55</a>\u001b[0m                                       inputs, attrs, num_outputs)\n\u001b[1;32m     <a href='file:///Users/ivarw/miniforge3/envs/DAT540/lib/python3.8/site-packages/tensorflow/python/eager/execute.py?line=55'>56</a>\u001b[0m \u001b[39mexcept\u001b[39;00m core\u001b[39m.\u001b[39m_NotOkStatusException \u001b[39mas\u001b[39;00m e:\n\u001b[1;32m     <a href='file:///Users/ivarw/miniforge3/envs/DAT540/lib/python3.8/site-packages/tensorflow/python/eager/execute.py?line=56'>57</a>\u001b[0m   \u001b[39mif\u001b[39;00m name \u001b[39mis\u001b[39;00m \u001b[39mnot\u001b[39;00m \u001b[39mNone\u001b[39;00m:\n",
      "\u001b[0;31mKeyboardInterrupt\u001b[0m: "
     ]
    }
   ],
   "source": [
    "session_num = 0\n",
    "\n",
    "for optimizer in HP_OPTIMIZER.domain.values:\n",
    "    for num_units in HP_NUM_UNITS.domain.values:\n",
    "        for batch_size in HP_BATCH_SIZE.domain.values:\n",
    "            for dropout_rate in HP_DROPOUT.domain.values:\n",
    "                for learning_rate in HP_LEARNING_RATE.domain.values:\n",
    "                    for embedding_layer in HP_EMBEDDING_LAYER.domain.values:\n",
    "                        for attention in HP_ATTENTION.domain.values:\n",
    "                            hparams = {\n",
    "                                HP_NUM_UNITS: num_units,\n",
    "                                HP_DROPOUT: dropout_rate,\n",
    "                                HP_OPTIMIZER: optimizer,\n",
    "                                HP_EMBEDDING_LAYER: embedding_layer,\n",
    "                                HP_LEARNING_RATE: learning_rate,\n",
    "                                HP_BATCH_SIZE: batch_size,\n",
    "                                HP_ATTENTION: attention\n",
    "                              }\n",
    "                            run_name = \"run-%d\" % session_num\n",
    "                            print('--- Starting trial: %s' % run_name)\n",
    "                            print({h.name: hparams[h] for h in hparams})\n",
    "                            run('logs/hparam_tuning/' + run_name, hparams)\n",
    "                            session_num += 1"
   ]
  },
  {
   "cell_type": "code",
   "execution_count": null,
   "metadata": {},
   "outputs": [],
   "source": []
  }
 ],
 "metadata": {
  "interpreter": {
   "hash": "6e35155524c1f9408bca4749410ef0ff0fb980c2b8ff5cdb8c228ddba1c490ab"
  },
  "kernelspec": {
   "display_name": "Python 3.9.6 ('DAT540')",
   "language": "python",
   "name": "python3"
  },
  "language_info": {
   "codemirror_mode": {
    "name": "ipython",
    "version": 3
   },
   "file_extension": ".py",
   "mimetype": "text/x-python",
   "name": "python",
   "nbconvert_exporter": "python",
   "pygments_lexer": "ipython3",
   "version": "3.8.13"
  },
  "orig_nbformat": 4
 },
 "nbformat": 4,
 "nbformat_minor": 2
}
