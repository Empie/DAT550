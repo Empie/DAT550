{
 "cells": [
  {
   "cell_type": "markdown",
   "metadata": {},
   "source": [
    "# 1d) Check whether a tweet is attention-worthy"
   ]
  },
  {
   "cell_type": "code",
   "execution_count": 1,
   "metadata": {},
   "outputs": [
    {
     "name": "stderr",
     "output_type": "stream",
     "text": [
      "[nltk_data] Downloading package stopwords to\n",
      "[nltk_data]     C:\\Users\\minh\\AppData\\Roaming\\nltk_data...\n",
      "[nltk_data]   Package stopwords is already up-to-date!\n"
     ]
    },
    {
     "data": {
      "text/plain": [
       "True"
      ]
     },
     "execution_count": 1,
     "metadata": {},
     "output_type": "execute_result"
    }
   ],
   "source": [
    "import pandas as pd\n",
    "import numpy as np\n",
    "import nltk\n",
    "from nltk import ngrams\n",
    "from nltk.corpus import stopwords\n",
    "from nltk.stem import PorterStemmer\n",
    "import re\n",
    "import spacy\n",
    "import warnings\n",
    "\n",
    "warnings.filterwarnings(\"ignore\") # Ignore warnings\n",
    "nltk.download('stopwords') # Load Stopwords"
   ]
  },
  {
   "cell_type": "markdown",
   "metadata": {},
   "source": [
    "# Data Exploration"
   ]
  },
  {
   "cell_type": "code",
   "execution_count": 2,
   "metadata": {},
   "outputs": [],
   "source": [
    "nlp = spacy.load(\"en_core_web_sm\") # Load Lemmatizer\n",
    "cachedStopWords = list(set(stopwords.words(\"english\")))\n",
    "\n",
    "# Twitter Datasets\n",
    "df_worthy_train = pd.read_csv(\"data/1d/CT22_english_1D_attentionworthy_train.tsv\", sep='\\t')\n",
    "df_worthy_valid = pd.read_csv(\"data/1d/CT22_english_1D_attentionworthy_dev.tsv\", sep='\\t')\n",
    "df_worthy_test = pd.read_csv(\"data/1d/CT22_english_1D_attentionworthy_dev_test.tsv\", sep='\\t')\n",
    "\n",
    "# Top 3000 most commonly used english words + covid related medical terms (used as vocabulary for the vectorization process)\n",
    "topwords = pd.read_csv('words.txt', sep=\" \", header=None).values[:,0]"
   ]
  },
  {
   "cell_type": "code",
   "execution_count": 3,
   "metadata": {},
   "outputs": [
    {
     "name": "stdout",
     "output_type": "stream",
     "text": [
      "Test shape: (909, 5)\n",
      "Train shape: (3321, 5)\n",
      "Validation shape: (306, 5)\n"
     ]
    },
    {
     "data": {
      "text/html": [
       "<div>\n",
       "<style scoped>\n",
       "    .dataframe tbody tr th:only-of-type {\n",
       "        vertical-align: middle;\n",
       "    }\n",
       "\n",
       "    .dataframe tbody tr th {\n",
       "        vertical-align: top;\n",
       "    }\n",
       "\n",
       "    .dataframe thead th {\n",
       "        text-align: right;\n",
       "    }\n",
       "</style>\n",
       "<table border=\"1\" class=\"dataframe\">\n",
       "  <thead>\n",
       "    <tr style=\"text-align: right;\">\n",
       "      <th></th>\n",
       "      <th>topic</th>\n",
       "      <th>tweet_id</th>\n",
       "      <th>tweet_url</th>\n",
       "      <th>tweet_text</th>\n",
       "      <th>class_label</th>\n",
       "    </tr>\n",
       "  </thead>\n",
       "  <tbody>\n",
       "    <tr>\n",
       "      <th>0</th>\n",
       "      <td>COVID-19</td>\n",
       "      <td>1.359351e+18</td>\n",
       "      <td>http://twitter.com/user/status/135935094335617...</td>\n",
       "      <td>India's gift of 100,000 COVID-19 vaccines arri...</td>\n",
       "      <td>no_not_interesting</td>\n",
       "    </tr>\n",
       "    <tr>\n",
       "      <th>1</th>\n",
       "      <td>COVID-19</td>\n",
       "      <td>1.350166e+18</td>\n",
       "      <td>http://twitter.com/user/status/135016568806166...</td>\n",
       "      <td>Here’s what I’m doing while I wait my turn for...</td>\n",
       "      <td>no_not_interesting</td>\n",
       "    </tr>\n",
       "    <tr>\n",
       "      <th>2</th>\n",
       "      <td>COVID-19</td>\n",
       "      <td>1.369750e+18</td>\n",
       "      <td>http://twitter.com/user/status/136974953915491...</td>\n",
       "      <td>This afternoon, I’m hosting an event with the ...</td>\n",
       "      <td>no_not_interesting</td>\n",
       "    </tr>\n",
       "    <tr>\n",
       "      <th>3</th>\n",
       "      <td>COVID-19</td>\n",
       "      <td>1.350165e+18</td>\n",
       "      <td>http://twitter.com/user/status/135016499568693...</td>\n",
       "      <td>Help shops like mine stay open. Mask up, avoid...</td>\n",
       "      <td>no_not_interesting</td>\n",
       "    </tr>\n",
       "    <tr>\n",
       "      <th>4</th>\n",
       "      <td>COVID-19</td>\n",
       "      <td>1.370008e+18</td>\n",
       "      <td>http://twitter.com/user/status/137000807648978...</td>\n",
       "      <td>As part of the ongoing nationwide vaccination ...</td>\n",
       "      <td>no_not_interesting</td>\n",
       "    </tr>\n",
       "  </tbody>\n",
       "</table>\n",
       "</div>"
      ],
      "text/plain": [
       "      topic      tweet_id                                          tweet_url  \\\n",
       "0  COVID-19  1.359351e+18  http://twitter.com/user/status/135935094335617...   \n",
       "1  COVID-19  1.350166e+18  http://twitter.com/user/status/135016568806166...   \n",
       "2  COVID-19  1.369750e+18  http://twitter.com/user/status/136974953915491...   \n",
       "3  COVID-19  1.350165e+18  http://twitter.com/user/status/135016499568693...   \n",
       "4  COVID-19  1.370008e+18  http://twitter.com/user/status/137000807648978...   \n",
       "\n",
       "                                          tweet_text         class_label  \n",
       "0  India's gift of 100,000 COVID-19 vaccines arri...  no_not_interesting  \n",
       "1  Here’s what I’m doing while I wait my turn for...  no_not_interesting  \n",
       "2  This afternoon, I’m hosting an event with the ...  no_not_interesting  \n",
       "3  Help shops like mine stay open. Mask up, avoid...  no_not_interesting  \n",
       "4  As part of the ongoing nationwide vaccination ...  no_not_interesting  "
      ]
     },
     "execution_count": 3,
     "metadata": {},
     "output_type": "execute_result"
    }
   ],
   "source": [
    "print(\"Test shape: {}\\nTrain shape: {}\\nValidation shape: {}\".format(df_worthy_test.shape, df_worthy_train.shape, df_worthy_valid.shape))\n",
    "df_worthy_train.head()"
   ]
  },
  {
   "cell_type": "markdown",
   "metadata": {},
   "source": [
    "### Handling imbalanced multiclass text classification"
   ]
  },
  {
   "cell_type": "code",
   "execution_count": 4,
   "metadata": {},
   "outputs": [
    {
     "name": "stdout",
     "output_type": "stream",
     "text": [
      "Categories: ['no_not_interesting' 'harmful' 'yes_calls_for_action'\n",
      " 'yes_blame_authorities' 'yes_discusses_cure' 'yes_discusses_action_taken'\n",
      " 'yes_asks_question' 'yes_contains_advice' 'yes_other']\n"
     ]
    },
    {
     "data": {
      "text/plain": [
       "<AxesSubplot:title={'center':'Categories vs Number of Documents'}>"
      ]
     },
     "execution_count": 4,
     "metadata": {},
     "output_type": "execute_result"
    },
    {
     "data": {
      "image/png": "[encoded data removed]",
      "text/plain": [
       "<Figure size 432x288 with 1 Axes>"
      ]
     },
     "metadata": {
      "needs_background": "light"
     },
     "output_type": "display_data"
    }
   ],
   "source": [
    "categories = df_worthy_train.class_label.unique()\n",
    "print('Categories: {}'.format(categories))\n",
    "df_worthy_train.class_label.value_counts().plot(kind='bar', title='Categories vs Number of Documents', cmap='plasma')"
   ]
  },
  {
   "cell_type": "markdown",
   "metadata": {},
   "source": [
    "# Sampling"
   ]
  },
  {
   "cell_type": "code",
   "execution_count": 5,
   "metadata": {},
   "outputs": [
    {
     "data": {
      "text/plain": [
       "no_not_interesting            2851\n",
       "harmful                        173\n",
       "yes_blame_authorities          138\n",
       "yes_calls_for_action            48\n",
       "yes_discusses_cure              42\n",
       "yes_discusses_action_taken      27\n",
       "yes_other                       25\n",
       "yes_contains_advice             12\n",
       "yes_asks_question                5\n",
       "Name: class_label, dtype: int64"
      ]
     },
     "execution_count": 5,
     "metadata": {},
     "output_type": "execute_result"
    }
   ],
   "source": [
    "df_worthy_train[\"class_label\"].value_counts()"
   ]
  },
  {
   "cell_type": "markdown",
   "metadata": {},
   "source": [
    "## Downsampling"
   ]
  },
  {
   "cell_type": "code",
   "execution_count": 6,
   "metadata": {},
   "outputs": [],
   "source": [
    "label_dfs = {}\n",
    "\n",
    "for label in df_worthy_train[\"class_label\"].unique():\n",
    "    label_dfs[label] = df_worthy_train[df_worthy_train[\"class_label\"] == label]"
   ]
  },
  {
   "cell_type": "code",
   "execution_count": 7,
   "metadata": {},
   "outputs": [
    {
     "data": {
      "text/plain": [
       "no_not_interesting            5\n",
       "harmful                       5\n",
       "yes_calls_for_action          5\n",
       "yes_blame_authorities         5\n",
       "yes_discusses_cure            5\n",
       "yes_discusses_action_taken    5\n",
       "yes_asks_question             5\n",
       "yes_contains_advice           5\n",
       "yes_other                     5\n",
       "Name: class_label, dtype: int64"
      ]
     },
     "execution_count": 7,
     "metadata": {},
     "output_type": "execute_result"
    }
   ],
   "source": [
    "downsampled_dfs = {}\n",
    "minority_class = min(df_worthy_train[\"class_label\"].value_counts())\n",
    "\n",
    "for key, val in label_dfs.items():\n",
    "    downsampled_dfs[\"downsampled_\" + key] = val.sample(n=minority_class)\n",
    "\n",
    "df_downsampled = pd.concat(downsampled_dfs.values())\n",
    "df_downsampled[\"class_label\"].value_counts()"
   ]
  },
  {
   "cell_type": "markdown",
   "metadata": {},
   "source": [
    "## Upsampling"
   ]
  },
  {
   "cell_type": "code",
   "execution_count": 8,
   "metadata": {},
   "outputs": [
    {
     "data": {
      "text/plain": [
       "no_not_interesting            2851\n",
       "harmful                       2851\n",
       "yes_calls_for_action          2851\n",
       "yes_blame_authorities         2851\n",
       "yes_discusses_cure            2851\n",
       "yes_discusses_action_taken    2851\n",
       "yes_asks_question             2851\n",
       "yes_contains_advice           2851\n",
       "yes_other                     2851\n",
       "Name: class_label, dtype: int64"
      ]
     },
     "execution_count": 8,
     "metadata": {},
     "output_type": "execute_result"
    }
   ],
   "source": [
    "upsampled_dfs = {}\n",
    "majority_class = max(df_worthy_train[\"class_label\"].value_counts())\n",
    "\n",
    "for key, val in label_dfs.items():\n",
    "    upsampled_dfs[\"upsampled_\" + key] = val.sample(n=majority_class, replace=True)\n",
    "\n",
    "df_upsampled = pd.concat(upsampled_dfs.values())\n",
    "df_upsampled[\"class_label\"].value_counts()"
   ]
  },
  {
   "cell_type": "markdown",
   "metadata": {},
   "source": [
    "## Combination of over- and undersampling"
   ]
  },
  {
   "cell_type": "code",
   "execution_count": 9,
   "metadata": {},
   "outputs": [
    {
     "data": {
      "text/plain": [
       "no_not_interesting            369\n",
       "harmful                       369\n",
       "yes_calls_for_action          369\n",
       "yes_blame_authorities         369\n",
       "yes_discusses_cure            369\n",
       "yes_discusses_action_taken    369\n",
       "yes_asks_question             369\n",
       "yes_contains_advice           369\n",
       "yes_other                     369\n",
       "Name: class_label, dtype: int64"
      ]
     },
     "execution_count": 9,
     "metadata": {},
     "output_type": "execute_result"
    }
   ],
   "source": [
    "meansampled_dfs = {}\n",
    "mean_val = df_worthy_train[\"class_label\"].value_counts().mean()\n",
    "\n",
    "for key, val in label_dfs.items():\n",
    "    meansampled_dfs[\"meansampled\" + key] = val.sample(n=int(mean_val), replace=True)\n",
    "\n",
    "df_meansampled = pd.concat(meansampled_dfs.values())\n",
    "df_meansampled[\"class_label\"].value_counts()"
   ]
  },
  {
   "cell_type": "markdown",
   "metadata": {},
   "source": [
    "#### Creating weights"
   ]
  },
  {
   "cell_type": "code",
   "execution_count": 10,
   "metadata": {},
   "outputs": [],
   "source": [
    "# https://towardsdatascience.com/how-to-handle-multiclass-imbalanced-data-say-no-to-smote-e9a7f393c310\n",
    "from sklearn.utils import class_weight\n",
    "class_weights = list(class_weight.compute_class_weight(class_weight= 'balanced', \n",
    "                                                       classes = np.unique(df_worthy_train[\"class_label\"]), \n",
    "                                                       y = df_worthy_train[\"class_label\"]))"
   ]
  },
  {
   "cell_type": "code",
   "execution_count": 11,
   "metadata": {},
   "outputs": [
    {
     "data": {
      "text/plain": [
       "no_not_interesting            2851\n",
       "harmful                        173\n",
       "yes_blame_authorities          138\n",
       "yes_calls_for_action            48\n",
       "yes_discusses_cure              42\n",
       "yes_discusses_action_taken      27\n",
       "yes_other                       25\n",
       "yes_contains_advice             12\n",
       "yes_asks_question                5\n",
       "Name: class_label, dtype: int64"
      ]
     },
     "execution_count": 11,
     "metadata": {},
     "output_type": "execute_result"
    }
   ],
   "source": [
    "df_worthy_train[\"class_label\"].value_counts()"
   ]
  },
  {
   "cell_type": "code",
   "execution_count": 12,
   "metadata": {},
   "outputs": [],
   "source": [
    "labels = df_worthy_train[\"class_label\"].value_counts().index.tolist()"
   ]
  },
  {
   "cell_type": "code",
   "execution_count": 13,
   "metadata": {},
   "outputs": [
    {
     "data": {
      "text/plain": [
       "{'no_not_interesting': 0.1294282707821817,\n",
       " 'harmful': 2.132947976878613,\n",
       " 'yes_blame_authorities': 2.6739130434782608,\n",
       " 'yes_calls_for_action': 7.6875,\n",
       " 'yes_discusses_cure': 8.785714285714286,\n",
       " 'yes_discusses_action_taken': 13.666666666666666,\n",
       " 'yes_other': 14.76,\n",
       " 'yes_contains_advice': 30.75,\n",
       " 'yes_asks_question': 73.8}"
      ]
     },
     "execution_count": 13,
     "metadata": {},
     "output_type": "execute_result"
    }
   ],
   "source": [
    "# Creating weights\n",
    "class_weights.sort()\n",
    "class_weights\n",
    "\n",
    "df_worthy_train[\"class_label\"].value_counts()\n",
    "\n",
    "weights = {}\n",
    "for index, weight in enumerate(class_weights):\n",
    "    weights[labels[index]] = weight\n",
    "weights"
   ]
  },
  {
   "cell_type": "markdown",
   "metadata": {},
   "source": [
    "# Preprocessing"
   ]
  },
  {
   "cell_type": "markdown",
   "metadata": {},
   "source": [
    "### Emoji Removal"
   ]
  },
  {
   "cell_type": "code",
   "execution_count": 14,
   "metadata": {},
   "outputs": [],
   "source": [
    "# Function to remove emojies when using the lemmatizer\n",
    "#https://poopcode.com/how-to-remove-emoji-from-text-in-python/\n",
    "def remove_emoji(string):\n",
    "    emoji_pattern = re.compile(\"[\"\n",
    "                               u\"\\U0001F600-\\U0001F64F\"  # emoticons\n",
    "                               u\"\\U0001F300-\\U0001F5FF\"  # symbols & pictographs\n",
    "                               u\"\\U0001F680-\\U0001F6FF\"  # transport & map symbols\n",
    "                               u\"\\U0001F1E0-\\U0001F1FF\"  # flags (iOS)\n",
    "                               u\"\\U00002500-\\U00002BEF\"  # chinese char\n",
    "                               u\"\\U00002702-\\U000027B0\"\n",
    "                               u\"\\U00002702-\\U000027B0\"\n",
    "                               u\"\\U000024C2-\\U0001F251\"\n",
    "                               u\"\\U0001f926-\\U0001f937\"\n",
    "                               u\"\\U00010000-\\U0010ffff\"\n",
    "                               u\"\\u2640-\\u2642\"\n",
    "                               u\"\\u2600-\\u2B55\"\n",
    "                               u\"\\u200d\"\n",
    "                               u\"\\u23cf\"\n",
    "                               u\"\\u23e9\"\n",
    "                               u\"\\u231a\"\n",
    "                               u\"\\ufe0f\"  # dingbats\n",
    "                               u\"\\u3030\"\n",
    "                               \"]+\", flags=re.UNICODE)\n",
    "    return emoji_pattern.sub(r'', string)"
   ]
  },
  {
   "cell_type": "markdown",
   "metadata": {},
   "source": [
    "### Custom Tokenizer"
   ]
  },
  {
   "cell_type": "code",
   "execution_count": 15,
   "metadata": {},
   "outputs": [],
   "source": [
    "def tokenize_text(text, method=\"stopwords\"):\n",
    "    \n",
    "    # Remove hyperlinks\n",
    "    text = re.sub(r'http\\S+', '', text)\n",
    "    \n",
    "    # Split sentence into words\n",
    "    tokens = []\n",
    "    for token in ngrams(text.split(), 1):\n",
    "        word = re.sub(r',', '', token[0]) #Remove commas\n",
    "        word = re.sub(r'[\\!\\.\\:]$', '', word) #Remove (.!:) at the end of tokens\n",
    "        word = re.sub(r'#', '', word) #Remove hashtags (not the text)\n",
    "        if word == \"—\": continue #Ignore dash\n",
    "        if word.find(\"@\") != -1: continue #Ignore tags\n",
    "        tokens.append(word)\n",
    "    tokens\n",
    "\n",
    "    # List comprehension to remove stopwords\n",
    "    if method != \"default\":\n",
    "        tokens = [x for x in tokens if x not in cachedStopWords]\n",
    "\n",
    "    # Perform stemming\n",
    "    if method == \"stemming\":\n",
    "        ps = PorterStemmer()\n",
    "        tokens = [ps.stem(x) for x in tokens]\n",
    "\n",
    "    # Perform lemmatization\n",
    "    if method == \"lemmatizer\":\n",
    "        # Remove emojies due to lemmatizer not handling them well\n",
    "        tokens = [x for x in tokens if remove_emoji(x) == x]\n",
    "        text = \" \".join(tokens)\n",
    "        doc = nlp(text)\n",
    "        tokens = [token.lemma_ for token in doc]\n",
    "\n",
    "    return tokens"
   ]
  },
  {
   "cell_type": "code",
   "execution_count": 16,
   "metadata": {},
   "outputs": [],
   "source": [
    "def tokenize_normal(text):\n",
    "    return tokenize_text(text, method=\"default\")\n",
    "\n",
    "def tokenize_stopwords(text):\n",
    "    return tokenize_text(text, method=\"stopwords\")\n",
    "\n",
    "def tokenize_stemming(text):\n",
    "    return tokenize_text(text, method=\"stemming\")\n",
    "\n",
    "def tokenize_lemmatizer(text):\n",
    "    return tokenize_text(text, method=\"lemmatizer\")"
   ]
  },
  {
   "cell_type": "code",
   "execution_count": 17,
   "metadata": {},
   "outputs": [],
   "source": [
    "def tokenize_df(df, text_col, method=\"default\"):\n",
    "    article_tokens = []\n",
    "    for i in range(len(df)):\n",
    "        text = df.iloc[i][text_col].lower()\n",
    "        article_tokens.append(tokenize_text(text, method))\n",
    "    df[\"tokens\"] = article_tokens"
   ]
  },
  {
   "cell_type": "code",
   "execution_count": 18,
   "metadata": {},
   "outputs": [],
   "source": [
    "tokenize_df(df_downsampled, \"tweet_text\", \"lemmatizer\")\n",
    "tokenize_df(df_upsampled, \"tweet_text\", \"lemmatizer\")\n",
    "tokenize_df(df_meansampled, \"tweet_text\", \"lemmatizer\")\n",
    "tokenize_df(df_worthy_train, \"tweet_text\", \"lemmatizer\")\n",
    "tokenize_df(df_worthy_test, \"tweet_text\", \"lemmatizer\")"
   ]
  },
  {
   "cell_type": "code",
   "execution_count": 19,
   "metadata": {},
   "outputs": [
    {
     "name": "stdout",
     "output_type": "stream",
     "text": [
      "['break', 'pre', 'duterte', 'declare', 'walangpasok', 'level', 'metro', 'manila', 'march', '14', 'due', 'covid19', '|via', 'cnn', 'philippines'] \n",
      "\n",
      "['china', 'country', 'say', 'launch', 'new', 'programme', 'provide', 'million', 'covid-19', 'vaccine', 'national', 'africa', 'elsewhere', 'overseas', 'accord', 'foreign', 'minister', 'wang', 'yi'] \n",
      "\n",
      "['single', '-', 'dose', 'j&amp;j', 'covid-19', 'vaccine', 'administer', 'sat', 'march', '13', 'sun', 'march', '14', '9', 'a.m', '5', 'p.m', 'available', 'number', 'vaccine', 'run', 'anyone', 'already', 'receive', 'dose', 'either', 'moderna', 'pfizer', 'vaccine', 'visit', 'site'] \n",
      "\n",
      "['india', \"'s\", 'gift', '100000', 'covid-19', 'vaccine', 'arrive', 'barbado', 'early', 'today', 'special', 'moment', 'barbadian', 'want', 'thank', 'prime', 'minister', 'modi', 'quick', 'decisive', 'magnanimous', 'action', 'allow', 'we', 'beneficiary', 'vaccine'] \n",
      "\n",
      "['senate', 'pass', 'covid', 'relief', '$', '1400', 'relief', 'check', 'fund', 'vaccine', 'money', 'reopen', 'school', 'food', 'unemployment', 'rental', 'assistance', 'cut', 'child', 'poverty', 'half', 'help', 'small', 'business', 'must', 'end', 'pandemic', 'help', 'way']\n"
     ]
    }
   ],
   "source": [
    "print(df_downsampled.iloc[0][\"tokens\"], \"\\n\")\n",
    "print(df_upsampled.iloc[0][\"tokens\"], \"\\n\")\n",
    "print(df_meansampled.iloc[0][\"tokens\"], \"\\n\")\n",
    "print(df_worthy_train.iloc[0][\"tokens\"], \"\\n\")\n",
    "print(df_worthy_test.iloc[0][\"tokens\"])"
   ]
  },
  {
   "cell_type": "markdown",
   "metadata": {},
   "source": [
    "# Training"
   ]
  },
  {
   "cell_type": "markdown",
   "metadata": {},
   "source": [
    "### Bag of words"
   ]
  },
  {
   "cell_type": "code",
   "execution_count": 20,
   "metadata": {},
   "outputs": [],
   "source": [
    "from sklearn.feature_extraction.text import CountVectorizer # For creating a DTM (discrete values)\n",
    "from sklearn.feature_extraction.text import TfidfVectorizer # A weighted DTM (fractions)\n",
    "\n",
    "cv_dict = {}\n",
    "tfidf_dict = {}\n",
    "ngram_list = [1,2,3]\n",
    "for n in ngram_list:\n",
    "    cv_dict[n] = CountVectorizer(tokenizer=tokenize_lemmatizer, ngram_range=(n, n), max_features=5000)\n",
    "    tfidf_dict[n] = TfidfVectorizer(tokenizer=tokenize_stopwords, ngram_range=(n, n), max_features=5000)"
   ]
  },
  {
   "cell_type": "code",
   "execution_count": 21,
   "metadata": {},
   "outputs": [],
   "source": [
    "tweet_vec = {}\n",
    "tweet_bow_train = {}\n",
    "tweet_bow_val = {}\n",
    "tweet_bow_test = {}\n",
    "\n",
    "tweet_vec_d = {}\n",
    "tweet_bow_train_d = {}\n",
    "tweet_bow_val_d = {}\n",
    "tweet_bow_test_d = {}\n",
    "\n",
    "tweet_vec_u = {}\n",
    "tweet_bow_train_u = {}\n",
    "tweet_bow_val_u = {}\n",
    "tweet_bow_test_u = {}\n",
    "\n",
    "tweet_vec_h = {}\n",
    "tweet_bow_train_h = {}\n",
    "tweet_bow_val_h = {}\n",
    "tweet_bow_test_h = {}\n",
    "for n in ngram_list:\n",
    "    #tweet_vec[n] = tfidf_dict[n].fit(df_worthy_train[\"tweet_text\"]) # DTM (CV, but normalized for relative frequency)\n",
    "    tweet_vec[n] = cv_dict[n].fit(df_worthy_train[\"tweet_text\"]) # DTM (CV, but normalized for relative frequency)\n",
    "    tweet_bow_train[n] = tweet_vec[n].transform(df_worthy_train[\"tweet_text\"]) \n",
    "    tweet_bow_test[n] = tweet_vec[n].transform(df_worthy_test[\"tweet_text\"]) \n",
    "    tweet_bow_val[n] = tweet_vec[n].transform(df_worthy_valid[\"tweet_text\"]) \n",
    "    \n",
    "    # balanced downsample\n",
    "    #tweet_vec_d[n] = tfidf_dict[n].fit(df_balanced_d[\"tweet_text\"])\n",
    "    tweet_vec_d[n] = cv_dict[n].fit(df_downsampled[\"tweet_text\"]) # DTM (CV, but normalized for relative frequency)\n",
    "    tweet_bow_train_d[n] = tweet_vec_d[n].transform(df_downsampled[\"tweet_text\"]) \n",
    "    tweet_bow_test_d[n] = tweet_vec_d[n].transform(df_worthy_test[\"tweet_text\"]) \n",
    "    tweet_bow_val_d[n] = tweet_vec_d[n].transform(df_worthy_valid[\"tweet_text\"]) \n",
    "    \n",
    "    # balanced upsample\n",
    "    #tweet_vec_u[n] = tfidf_dict[n].fit(df_balanced_u[\"tweet_text\"]) \n",
    "    tweet_vec_u[n] = cv_dict[n].fit(df_upsampled[\"tweet_text\"]) # DTM (CV, but normalized for relative frequency)\n",
    "    tweet_bow_train_u[n] = tweet_vec_u[n].transform(df_upsampled[\"tweet_text\"]) \n",
    "    tweet_bow_test_u[n] = tweet_vec_u[n].transform(df_worthy_test[\"tweet_text\"]) \n",
    "    tweet_bow_val_u[n] = tweet_vec_u[n].transform(df_worthy_valid[\"tweet_text\"])\n",
    "    \n",
    "    # balanced hybridsample\n",
    "    #tweet_vec_h[n] = tfidf_dict[n].fit(df_balanced_h[\"tweet_text\"])\n",
    "    tweet_vec_h[n] = cv_dict[n].fit(df_meansampled[\"tweet_text\"]) # DTM (CV, but normalized for relative frequency)\n",
    "    tweet_bow_train_h[n] = tweet_vec_h[n].transform(df_meansampled[\"tweet_text\"]) \n",
    "    tweet_bow_test_h[n] = tweet_vec_h[n].transform(df_worthy_test[\"tweet_text\"]) \n",
    "    tweet_bow_val_h[n] = tweet_vec_h[n].transform(df_worthy_valid[\"tweet_text\"]) "
   ]
  },
  {
   "cell_type": "markdown",
   "metadata": {},
   "source": [
    "### Dummy prediction"
   ]
  },
  {
   "cell_type": "code",
   "execution_count": 104,
   "metadata": {},
   "outputs": [
    {
     "name": "stdout",
     "output_type": "stream",
     "text": [
      "--------Unbalanced--------\n",
      "1-gram Priors: [0.05209274 0.85847636 0.00150557 0.04155375 0.01445348 0.00361337\n",
      " 0.00813008 0.01264679 0.00752785]\n",
      "Dummy F1-Score for 1-gram: 91.98%\n",
      "Dummy Precision-Score for 1-gram: 11.11%\n",
      "Dummy Recall-Score for 1-gram: 9.46%\n",
      "--------Downsampled--------\n",
      "1-gram Priors: [0.11111111 0.11111111 0.11111111 0.11111111 0.11111111 0.11111111\n",
      " 0.11111111 0.11111111 0.11111111]\n",
      "Dummy F1-Score for 1-gram: 11.41%\n",
      "Dummy Precision-Score for 1-gram: 11.11%\n",
      "Dummy Recall-Score for 1-gram: 0.67%\n",
      "--------Upsampled--------\n",
      "1-gram Priors: [0.11111111 0.11111111 0.11111111 0.11111111 0.11111111 0.11111111\n",
      " 0.11111111 0.11111111 0.11111111]\n",
      "Dummy F1-Score for 1-gram: 11.41%\n",
      "Dummy Precision-Score for 1-gram: 11.11%\n",
      "Dummy Recall-Score for 1-gram: 0.67%\n",
      "--------Meansampled--------\n",
      "1-gram Priors: [0.11111111 0.11111111 0.11111111 0.11111111 0.11111111 0.11111111\n",
      " 0.11111111 0.11111111 0.11111111]\n",
      "Dummy F1-Score for 1-gram: 11.41%\n",
      "Dummy Precision-Score for 1-gram: 11.11%\n",
      "Dummy Recall-Score for 1-gram: 0.67%\n",
      "--------------------------------------\n",
      "--------Unbalanced--------\n",
      "2-gram Priors: [0.05209274 0.85847636 0.00150557 0.04155375 0.01445348 0.00361337\n",
      " 0.00813008 0.01264679 0.00752785]\n",
      "Dummy F1-Score for 2-gram: 91.98%\n",
      "Dummy Precision-Score for 2-gram: 11.11%\n",
      "Dummy Recall-Score for 2-gram: 9.46%\n",
      "--------Downsampled--------\n",
      "2-gram Priors: [0.11111111 0.11111111 0.11111111 0.11111111 0.11111111 0.11111111\n",
      " 0.11111111 0.11111111 0.11111111]\n",
      "Dummy F1-Score for 2-gram: 11.41%\n",
      "Dummy Precision-Score for 2-gram: 11.11%\n",
      "Dummy Recall-Score for 2-gram: 0.67%\n",
      "--------Upsampled--------\n",
      "2-gram Priors: [0.11111111 0.11111111 0.11111111 0.11111111 0.11111111 0.11111111\n",
      " 0.11111111 0.11111111 0.11111111]\n",
      "Dummy F1-Score for 2-gram: 11.41%\n",
      "Dummy Precision-Score for 2-gram: 11.11%\n",
      "Dummy Recall-Score for 2-gram: 0.67%\n",
      "--------Meansampled--------\n",
      "2-gram Priors: [0.11111111 0.11111111 0.11111111 0.11111111 0.11111111 0.11111111\n",
      " 0.11111111 0.11111111 0.11111111]\n",
      "Dummy F1-Score for 2-gram: 11.41%\n",
      "Dummy Precision-Score for 2-gram: 11.11%\n",
      "Dummy Recall-Score for 2-gram: 0.67%\n",
      "--------------------------------------\n",
      "--------Unbalanced--------\n",
      "3-gram Priors: [0.05209274 0.85847636 0.00150557 0.04155375 0.01445348 0.00361337\n",
      " 0.00813008 0.01264679 0.00752785]\n",
      "Dummy F1-Score for 3-gram: 91.98%\n",
      "Dummy Precision-Score for 3-gram: 11.11%\n",
      "Dummy Recall-Score for 3-gram: 9.46%\n",
      "--------Downsampled--------\n",
      "3-gram Priors: [0.11111111 0.11111111 0.11111111 0.11111111 0.11111111 0.11111111\n",
      " 0.11111111 0.11111111 0.11111111]\n",
      "Dummy F1-Score for 3-gram: 11.41%\n",
      "Dummy Precision-Score for 3-gram: 11.11%\n",
      "Dummy Recall-Score for 3-gram: 0.67%\n",
      "--------Upsampled--------\n",
      "3-gram Priors: [0.11111111 0.11111111 0.11111111 0.11111111 0.11111111 0.11111111\n",
      " 0.11111111 0.11111111 0.11111111]\n",
      "Dummy F1-Score for 3-gram: 11.41%\n",
      "Dummy Precision-Score for 3-gram: 11.11%\n",
      "Dummy Recall-Score for 3-gram: 0.67%\n",
      "--------Meansampled--------\n",
      "3-gram Priors: [0.11111111 0.11111111 0.11111111 0.11111111 0.11111111 0.11111111\n",
      " 0.11111111 0.11111111 0.11111111]\n",
      "Dummy F1-Score for 3-gram: 11.41%\n",
      "Dummy Precision-Score for 3-gram: 11.11%\n",
      "Dummy Recall-Score for 3-gram: 0.67%\n",
      "--------------------------------------\n"
     ]
    }
   ],
   "source": [
    "from sklearn.dummy import DummyClassifier\n",
    "from sklearn import metrics\n",
    "\n",
    "for n in ngram_list:\n",
    "    print(\"--------Unbalanced--------\")\n",
    "    dummy_clf = DummyClassifier(strategy=\"prior\")\n",
    "    dummy_clf.fit(tweet_bow_train[n], df_worthy_train[\"class_label\"])\n",
    "    print(\"{}-gram Priors: {}\".format(n, dummy_clf.class_prior_))\n",
    "\n",
    "    f1_score = metrics.f1_score(dummy_clf.predict(tweet_bow_test[n]), df_worthy_test[\"class_label\"], average=\"weighted\")\n",
    "    print(\"Dummy F1-Score for {}-gram: {}%\".format(n, round(f1_score * 100, 2)))\n",
    "    \n",
    "    precision_score = metrics.precision_score(dummy_clf.predict(tweet_bow_test[n]), df_worthy_test[\"class_label\"], average=\"macro\")\n",
    "    print(\"Dummy Precision-Score for {}-gram: {}%\".format(n, round(precision_score * 100, 2)))\n",
    "    \n",
    "    recall_score = metrics.recall_score(dummy_clf.predict(tweet_bow_test[n]), df_worthy_test[\"class_label\"], average=\"macro\")\n",
    "    print(\"Dummy Recall-Score for {}-gram: {}%\".format(n, round(recall_score * 100, 2)))\n",
    "    \n",
    "    print(\"--------Downsampled--------\")\n",
    "    dummy_clf = DummyClassifier(strategy=\"prior\")\n",
    "    dummy_clf.fit(tweet_bow_train_d[n], df_downsampled[\"class_label\"])\n",
    "    print(\"{}-gram Priors: {}\".format(n, dummy_clf.class_prior_))\n",
    "\n",
    "    f1_score = metrics.f1_score(dummy_clf.predict(tweet_bow_test_d[n]), df_worthy_test[\"class_label\"], average=\"weighted\")\n",
    "    print(\"Dummy F1-Score for {}-gram: {}%\".format(n, round(f1_score * 100, 2)))\n",
    "    \n",
    "    precision_score = metrics.precision_score(dummy_clf.predict(tweet_bow_test_d[n]), df_worthy_test[\"class_label\"], average=\"macro\")\n",
    "    print(\"Dummy Precision-Score for {}-gram: {}%\".format(n, round(precision_score * 100, 2)))\n",
    "    \n",
    "    recall_score = metrics.recall_score(dummy_clf.predict(tweet_bow_test_d[n]), df_worthy_test[\"class_label\"], average=\"macro\")\n",
    "    print(\"Dummy Recall-Score for {}-gram: {}%\".format(n, round(recall_score * 100, 2)))\n",
    "    \n",
    "    print(\"--------Upsampled--------\")\n",
    "    dummy_clf = DummyClassifier(strategy=\"prior\")\n",
    "    dummy_clf.fit(tweet_bow_train_u[n], df_upsampled[\"class_label\"])\n",
    "    print(\"{}-gram Priors: {}\".format(n, dummy_clf.class_prior_))\n",
    "\n",
    "    f1_score = metrics.f1_score(dummy_clf.predict(tweet_bow_test_u[n]), df_worthy_test[\"class_label\"], average=\"weighted\")\n",
    "    print(\"Dummy F1-Score for {}-gram: {}%\".format(n, round(f1_score * 100, 2)))\n",
    "    \n",
    "    precision_score = metrics.precision_score(dummy_clf.predict(tweet_bow_test_u[n]), df_worthy_test[\"class_label\"], average=\"macro\")\n",
    "    print(\"Dummy Precision-Score for {}-gram: {}%\".format(n, round(precision_score * 100, 2)))\n",
    "    \n",
    "    recall_score = metrics.recall_score(dummy_clf.predict(tweet_bow_test_u[n]), df_worthy_test[\"class_label\"], average=\"macro\")\n",
    "    print(\"Dummy Recall-Score for {}-gram: {}%\".format(n, round(recall_score * 100, 2)))\n",
    "    \n",
    "    print(\"--------Meansampled--------\")\n",
    "    dummy_clf = DummyClassifier(strategy=\"prior\")\n",
    "    dummy_clf.fit(tweet_bow_train_h[n], df_meansampled[\"class_label\"])\n",
    "    print(\"{}-gram Priors: {}\".format(n, dummy_clf.class_prior_))\n",
    "\n",
    "    f1_score = metrics.f1_score(dummy_clf.predict(tweet_bow_test_h[n]), df_worthy_test[\"class_label\"], average=\"weighted\")\n",
    "    print(\"Dummy F1-Score for {}-gram: {}%\".format(n, round(f1_score * 100, 2)))\n",
    "    \n",
    "    precision_score = metrics.precision_score(dummy_clf.predict(tweet_bow_test_h[n]), df_worthy_test[\"class_label\"], average=\"macro\")\n",
    "    print(\"Dummy Precision-Score for {}-gram: {}%\".format(n, round(precision_score * 100, 2)))\n",
    "    \n",
    "    recall_score = metrics.recall_score(dummy_clf.predict(tweet_bow_test_h[n]), df_worthy_test[\"class_label\"], average=\"macro\")\n",
    "    print(\"Dummy Recall-Score for {}-gram: {}%\".format(n, round(recall_score * 100, 2)))\n",
    "    print(\"--------------------------------------\")"
   ]
  },
  {
   "cell_type": "markdown",
   "metadata": {},
   "source": [
    "### Logistic Regression"
   ]
  },
  {
   "cell_type": "code",
   "execution_count": 23,
   "metadata": {},
   "outputs": [],
   "source": [
    "from sklearn.linear_model import LogisticRegression\n",
    "\n",
    "lr_w = LogisticRegression(class_weight=weights)\n",
    "lr_n = LogisticRegression(class_weight=None)\n",
    "\n",
    "lr_d = LogisticRegression(class_weight=None)\n",
    "lr_u = LogisticRegression(class_weight=None)\n",
    "lr_h = LogisticRegression(class_weight=None)"
   ]
  },
  {
   "cell_type": "code",
   "execution_count": 50,
   "metadata": {},
   "outputs": [
    {
     "name": "stdout",
     "output_type": "stream",
     "text": [
      "--------Custom weight--------\n",
      "Logistic Regression F1-Score for 1-gram: 83.52%\n",
      "Logistic Regression Precision-Score for 1-gram: 24.48%\n",
      "Logistic Regression Recall-Score for 1-gram: 22.38%\n",
      "--------No weight--------\n",
      "Logistic Regression F1-Score for 1-gram: 90.42%\n",
      "Logistic Regression Precision-Score for 1-gram: 14.08%\n",
      "Logistic Regression Recall-Score for 1-gram: 18.24%\n",
      "--------------------------------------\n",
      "--------Custom weight--------\n",
      "Logistic Regression F1-Score for 2-gram: 78.15%\n",
      "Logistic Regression Precision-Score for 2-gram: 25.08%\n",
      "Logistic Regression Recall-Score for 2-gram: 21.84%\n",
      "--------No weight--------\n",
      "Logistic Regression F1-Score for 2-gram: 91.87%\n",
      "Logistic Regression Precision-Score for 2-gram: 11.56%\n",
      "Logistic Regression Recall-Score for 2-gram: 13.49%\n",
      "--------------------------------------\n",
      "--------Custom weight--------\n",
      "Logistic Regression F1-Score for 3-gram: 80.52%\n",
      "Logistic Regression Precision-Score for 3-gram: 13.2%\n",
      "Logistic Regression Recall-Score for 3-gram: 13.31%\n",
      "--------No weight--------\n",
      "Logistic Regression F1-Score for 3-gram: 92.7%\n",
      "Logistic Regression Precision-Score for 3-gram: 11.07%\n",
      "Logistic Regression Recall-Score for 3-gram: 9.69%\n",
      "--------------------------------------\n"
     ]
    }
   ],
   "source": [
    "for n in ngram_list:\n",
    "    lr_w.fit(tweet_bow_train[n].toarray(), df_worthy_train[\"class_label\"])\n",
    "    lr_n.fit(tweet_bow_train[n].toarray(), df_worthy_train[\"class_label\"])\n",
    "    \n",
    "    print(\"--------Custom weight--------\")\n",
    "    f1_score = metrics.f1_score(lr_w.predict(tweet_bow_val[n].toarray()), df_worthy_valid[\"class_label\"], average=\"weighted\")\n",
    "    print(\"Logistic Regression F1-Score for {}-gram: {}%\".format(n, round(f1_score * 100, 2)))\n",
    "    \n",
    "    precision_score = metrics.precision_score(lr_w.predict(tweet_bow_val[n].toarray()), df_worthy_valid[\"class_label\"], average=\"macro\")\n",
    "    print(\"Logistic Regression Precision-Score for {}-gram: {}%\".format(n, round(precision_score * 100, 2)))\n",
    "    \n",
    "    recall_score = metrics.recall_score(lr_w.predict(tweet_bow_val[n].toarray()), df_worthy_valid[\"class_label\"], average=\"macro\")\n",
    "    print(\"Logistic Regression Recall-Score for {}-gram: {}%\".format(n, round(recall_score * 100, 2)))\n",
    "    \n",
    "    print(\"--------No weight--------\")\n",
    "    f1_score = metrics.f1_score(lr_n.predict(tweet_bow_val[n].toarray()), df_worthy_valid[\"class_label\"], average=\"weighted\")\n",
    "    print(\"Logistic Regression F1-Score for {}-gram: {}%\".format(n, round(f1_score * 100, 2)))\n",
    "    \n",
    "    precision_score = metrics.precision_score(lr_n.predict(tweet_bow_val[n].toarray()), df_worthy_valid[\"class_label\"], average=\"macro\")\n",
    "    print(\"Logistic Regression Precision-Score for {}-gram: {}%\".format(n, round(precision_score * 100, 2)))\n",
    "    \n",
    "    recall_score = metrics.recall_score(lr_n.predict(tweet_bow_val[n].toarray()), df_worthy_valid[\"class_label\"], average=\"macro\")\n",
    "    print(\"Logistic Regression Recall-Score for {}-gram: {}%\".format(n, round(recall_score * 100, 2)))\n",
    "    print(\"--------------------------------------\")"
   ]
  },
  {
   "cell_type": "code",
   "execution_count": 48,
   "metadata": {},
   "outputs": [
    {
     "name": "stdout",
     "output_type": "stream",
     "text": [
      "--------Downsampled--------\n",
      "Logistic Regression F1-Score for 1-gram: 4.96%\n",
      "Logistic Regression Precision-Score for 1-gram: 9.52%\n",
      "Logistic Regression Recall-Score for 1-gram: 11.22%\n",
      "--------Upsampled--------\n",
      "Logistic Regression F1-Score for 1-gram: 82.26%\n",
      "Logistic Regression Precision-Score for 1-gram: 20.17%\n",
      "Logistic Regression Recall-Score for 1-gram: 19.83%\n",
      "--------Meansampled--------\n",
      "Logistic Regression F1-Score for 1-gram: 72.63%\n",
      "Logistic Regression Precision-Score for 1-gram: 27.67%\n",
      "Logistic Regression Recall-Score for 1-gram: 18.72%\n",
      "--------Downsampled--------\n",
      "Logistic Regression F1-Score for 2-gram: 1.87%\n",
      "Logistic Regression Precision-Score for 2-gram: 15.44%\n",
      "Logistic Regression Recall-Score for 2-gram: 9.98%\n",
      "--------Upsampled--------\n",
      "Logistic Regression F1-Score for 2-gram: 84.15%\n",
      "Logistic Regression Precision-Score for 2-gram: 11.95%\n",
      "Logistic Regression Recall-Score for 2-gram: 11.96%\n",
      "--------Meansampled--------\n",
      "Logistic Regression F1-Score for 2-gram: 86.18%\n",
      "Logistic Regression Precision-Score for 2-gram: 13.66%\n",
      "Logistic Regression Recall-Score for 2-gram: 14.41%\n",
      "--------Downsampled--------\n",
      "Logistic Regression F1-Score for 3-gram: 1.94%\n",
      "Logistic Regression Precision-Score for 3-gram: 11.11%\n",
      "Logistic Regression Recall-Score for 3-gram: 0.12%\n",
      "--------Upsampled--------\n",
      "Logistic Regression F1-Score for 3-gram: 87.54%\n",
      "Logistic Regression Precision-Score for 3-gram: 11.71%\n",
      "Logistic Regression Recall-Score for 3-gram: 12.03%\n",
      "--------Meansampled--------\n",
      "Logistic Regression F1-Score for 3-gram: 90.54%\n",
      "Logistic Regression Precision-Score for 3-gram: 11.43%\n",
      "Logistic Regression Recall-Score for 3-gram: 13.44%\n"
     ]
    }
   ],
   "source": [
    "for n in ngram_list:\n",
    "    lr_d.fit(tweet_bow_train_d[n].toarray(), df_downsampled[\"class_label\"])\n",
    "    lr_u.fit(tweet_bow_train_u[n].toarray(), df_upsampled[\"class_label\"])\n",
    "    lr_h.fit(tweet_bow_train_h[n].toarray(), df_meansampled[\"class_label\"])\n",
    "    \n",
    "    print(\"--------Downsampled--------\")\n",
    "    f1_score = metrics.f1_score(lr_d.predict(tweet_bow_val_d[n].toarray()), df_worthy_valid[\"class_label\"], average=\"weighted\")\n",
    "    print(\"Logistic Regression F1-Score for {}-gram: {}%\".format(n, round(f1_score * 100, 2)))\n",
    "    \n",
    "    precision_score = metrics.precision_score(lr_d.predict(tweet_bow_val_d[n].toarray()), df_worthy_valid[\"class_label\"], average=\"macro\")\n",
    "    print(\"Logistic Regression Precision-Score for {}-gram: {}%\".format(n, round(precision_score * 100, 2)))\n",
    "    \n",
    "    recall_score = metrics.recall_score(lr_d.predict(tweet_bow_val_d[n].toarray()), df_worthy_valid[\"class_label\"], average=\"macro\")\n",
    "    print(\"Logistic Regression Recall-Score for {}-gram: {}%\".format(n, round(recall_score * 100, 2)))\n",
    "    \n",
    "    print(\"--------Upsampled--------\")\n",
    "    f1_score = metrics.f1_score(lr_u.predict(tweet_bow_val_u[n].toarray()), df_worthy_valid[\"class_label\"], average=\"weighted\")\n",
    "    print(\"Logistic Regression F1-Score for {}-gram: {}%\".format(n, round(f1_score * 100, 2)))\n",
    "    \n",
    "    precision_score = metrics.precision_score(lr_u.predict(tweet_bow_val_u[n].toarray()), df_worthy_valid[\"class_label\"], average=\"macro\")\n",
    "    print(\"Logistic Regression Precision-Score for {}-gram: {}%\".format(n, round(precision_score * 100, 2)))\n",
    "    \n",
    "    recall_score = metrics.recall_score(lr_u.predict(tweet_bow_val_u[n].toarray()), df_worthy_valid[\"class_label\"], average=\"macro\")\n",
    "    print(\"Logistic Regression Recall-Score for {}-gram: {}%\".format(n, round(recall_score * 100, 2)))\n",
    "    \n",
    "    print(\"--------Meansampled--------\")\n",
    "    f1_score = metrics.f1_score(lr_h.predict(tweet_bow_val_h[n].toarray()), df_worthy_valid[\"class_label\"], average=\"weighted\")\n",
    "    print(\"Logistic Regression F1-Score for {}-gram: {}%\".format(n, round(f1_score * 100, 2)))\n",
    "    \n",
    "    precision_score = metrics.precision_score(lr_h.predict(tweet_bow_val_h[n].toarray()), df_worthy_valid[\"class_label\"], average=\"macro\")\n",
    "    print(\"Logistic Regression Precision-Score for {}-gram: {}%\".format(n, round(precision_score * 100, 2)))\n",
    "    \n",
    "    recall_score = metrics.recall_score(lr_h.predict(tweet_bow_val_h[n].toarray()), df_worthy_valid[\"class_label\"], average=\"macro\")\n",
    "    print(\"Logistic Regression Recall-Score for {}-gram: {}%\".format(n, round(recall_score * 100, 2)))"
   ]
  },
  {
   "cell_type": "code",
   "execution_count": 49,
   "metadata": {},
   "outputs": [
    {
     "name": "stdout",
     "output_type": "stream",
     "text": [
      "--------Meansampled--------\n",
      "Logistic Regression F1-Score for 2-gram: 85.84%\n",
      "Logistic Regression Precision-Score for 2-gram: 19.26%\n",
      "Logistic Regression Recall-Score for 2-gram: 21.03%\n"
     ]
    }
   ],
   "source": [
    "n = 2\n",
    "print(\"--------Meansampled--------\")\n",
    "lr_h.fit(tweet_bow_train_h[n].toarray(), df_meansampled[\"class_label\"])\n",
    "f1_score = metrics.f1_score(lr_h.predict(tweet_bow_test_h[n].toarray()), df_worthy_test[\"class_label\"], average=\"weighted\")\n",
    "print(\"Logistic Regression F1-Score for {}-gram: {}%\".format(n, round(f1_score * 100, 2)))\n",
    "    \n",
    "precision_score = metrics.precision_score(lr_h.predict(tweet_bow_test_h[n].toarray()), df_worthy_test[\"class_label\"], average=\"macro\")\n",
    "print(\"Logistic Regression Precision-Score for {}-gram: {}%\".format(n, round(precision_score * 100, 2)))\n",
    "    \n",
    "recall_score = metrics.recall_score(lr_h.predict(tweet_bow_test_h[n].toarray()), df_worthy_test[\"class_label\"], average=\"macro\")\n",
    "print(\"Logistic Regression Recall-Score for {}-gram: {}%\".format(n, round(recall_score * 100, 2)))"
   ]
  },
  {
   "cell_type": "markdown",
   "metadata": {},
   "source": [
    "### K-nearest neighbor"
   ]
  },
  {
   "cell_type": "code",
   "execution_count": 26,
   "metadata": {},
   "outputs": [],
   "source": [
    "# https://iq.opengenus.org/text-classification-using-k-nearest-neighbors/\n",
    "from sklearn.neighbors import KNeighborsClassifier\n",
    "\n",
    "knn = KNeighborsClassifier(n_neighbors=9)#, weights=class_weights)\n",
    "knn_d = KNeighborsClassifier(n_neighbors=9)#, weights=class_weights)\n",
    "knn_u = KNeighborsClassifier(n_neighbors=9)#, weights=class_weights)\n",
    "knn_h = KNeighborsClassifier(n_neighbors=9)#, weights=class_weights)\n"
   ]
  },
  {
   "cell_type": "code",
   "execution_count": 46,
   "metadata": {},
   "outputs": [
    {
     "name": "stdout",
     "output_type": "stream",
     "text": [
      "--------Unbalanced--------\n",
      "KNN F1-Score for 1-gram: 91.98%\n",
      "KNN Precision-Score for 1-gram: 11.11%\n",
      "KNN Recall-Score for 1-gram: 9.46%\n",
      "--------Downsampled--------\n",
      "KNN F1-Score for 1-gram: 2.3%\n",
      "KNN Precision-Score for 1-gram: 12.15%\n",
      "KNN Recall-Score for 1-gram: 9.37%\n",
      "--------Upsampled--------\n",
      "KNN F1-Score for 1-gram: 76.27%\n",
      "KNN Precision-Score for 1-gram: 13.89%\n",
      "KNN Recall-Score for 1-gram: 11.84%\n",
      "--------Meansampled--------\n",
      "KNN F1-Score for 1-gram: 4.23%\n",
      "KNN Precision-Score for 1-gram: 9.84%\n",
      "KNN Recall-Score for 1-gram: 14.2%\n",
      "--------------------------------------\n",
      "--------Unbalanced--------\n",
      "KNN F1-Score for 2-gram: 91.98%\n",
      "KNN Precision-Score for 2-gram: 11.11%\n",
      "KNN Recall-Score for 2-gram: 9.46%\n",
      "--------Downsampled--------\n",
      "KNN F1-Score for 2-gram: 0.66%\n",
      "KNN Precision-Score for 2-gram: 11.19%\n",
      "KNN Recall-Score for 2-gram: 11.15%\n",
      "--------Upsampled--------\n",
      "KNN F1-Score for 2-gram: 83.65%\n",
      "KNN Precision-Score for 2-gram: 12.88%\n",
      "KNN Recall-Score for 2-gram: 12.09%\n",
      "--------Meansampled--------\n",
      "KNN F1-Score for 2-gram: 91.44%\n",
      "KNN Precision-Score for 2-gram: 10.99%\n",
      "KNN Recall-Score for 2-gram: 9.75%\n",
      "--------------------------------------\n",
      "--------Unbalanced--------\n",
      "KNN F1-Score for 3-gram: 91.65%\n",
      "KNN Precision-Score for 3-gram: 11.08%\n",
      "KNN Recall-Score for 3-gram: 9.46%\n",
      "--------Downsampled--------\n",
      "KNN F1-Score for 3-gram: 0.65%\n",
      "KNN Precision-Score for 3-gram: 11.11%\n",
      "KNN Recall-Score for 3-gram: 0.04%\n",
      "--------Upsampled--------\n",
      "KNN F1-Score for 3-gram: 16.53%\n",
      "KNN Precision-Score for 3-gram: 11.24%\n",
      "KNN Recall-Score for 3-gram: 11.12%\n",
      "--------Meansampled--------\n",
      "KNN F1-Score for 3-gram: 92.15%\n",
      "KNN Precision-Score for 3-gram: 11.56%\n",
      "KNN Recall-Score for 3-gram: 13.42%\n",
      "--------------------------------------\n"
     ]
    }
   ],
   "source": [
    "for n in ngram_list:\n",
    "    knn.fit(tweet_bow_train[n].toarray(), df_worthy_train[\"class_label\"])\n",
    "    knn_d.fit(tweet_bow_train_d[n].toarray(), df_downsampled[\"class_label\"])\n",
    "    knn_u.fit(tweet_bow_train_u[n].toarray(), df_upsampled[\"class_label\"])\n",
    "    knn_h.fit(tweet_bow_train_h[n].toarray(), df_meansampled[\"class_label\"])\n",
    "    \n",
    "    print(\"--------Unbalanced--------\")\n",
    "    f1_score = metrics.f1_score(knn.predict(tweet_bow_test[n].toarray()), df_worthy_test[\"class_label\"], average=\"weighted\")\n",
    "    print(\"KNN F1-Score for {}-gram: {}%\".format(n, round(f1_score * 100, 2)))\n",
    "    \n",
    "    precision_score = metrics.precision_score(knn.predict(tweet_bow_test[n].toarray()), df_worthy_test[\"class_label\"], average=\"macro\")\n",
    "    print(\"KNN Precision-Score for {}-gram: {}%\".format(n, round(precision_score * 100, 2)))\n",
    "    \n",
    "    recall_score = metrics.recall_score(knn.predict(tweet_bow_test[n].toarray()), df_worthy_test[\"class_label\"], average=\"macro\")\n",
    "    print(\"KNN Recall-Score for {}-gram: {}%\".format(n, round(recall_score * 100, 2)))\n",
    "    \n",
    "    print(\"--------Downsampled--------\")\n",
    "    f1_score = metrics.f1_score(knn_d.predict(tweet_bow_val_d[n].toarray()), df_worthy_valid[\"class_label\"], average=\"weighted\")\n",
    "    print(\"KNN F1-Score for {}-gram: {}%\".format(n, round(f1_score * 100, 2)))\n",
    "    \n",
    "    precision_score = metrics.precision_score(knn_d.predict(tweet_bow_val_d[n].toarray()), df_worthy_valid[\"class_label\"], average=\"macro\")\n",
    "    print(\"KNN Precision-Score for {}-gram: {}%\".format(n, round(precision_score * 100, 2)))\n",
    "    \n",
    "    recall_score = metrics.recall_score(knn_d.predict(tweet_bow_val_d[n].toarray()), df_worthy_valid[\"class_label\"], average=\"macro\")\n",
    "    print(\"KNN Recall-Score for {}-gram: {}%\".format(n, round(recall_score * 100, 2)))\n",
    "    \n",
    "    print(\"--------Upsampled--------\")\n",
    "    f1_score = metrics.f1_score(knn_u.predict(tweet_bow_val_u[n].toarray()), df_worthy_valid[\"class_label\"], average=\"weighted\")\n",
    "    print(\"KNN F1-Score for {}-gram: {}%\".format(n, round(f1_score * 100, 2)))\n",
    "    \n",
    "    precision_score = metrics.precision_score(knn_u.predict(tweet_bow_val_u[n].toarray()), df_worthy_valid[\"class_label\"], average=\"macro\")\n",
    "    print(\"KNN Precision-Score for {}-gram: {}%\".format(n, round(precision_score * 100, 2)))\n",
    "    \n",
    "    recall_score = metrics.recall_score(knn_u.predict(tweet_bow_val_u[n].toarray()), df_worthy_valid[\"class_label\"], average=\"macro\")\n",
    "    print(\"KNN Recall-Score for {}-gram: {}%\".format(n, round(recall_score * 100, 2)))\n",
    "    \n",
    "    print(\"--------Meansampled--------\")\n",
    "    f1_score = metrics.f1_score(knn_h.predict(tweet_bow_val_h[n].toarray()), df_worthy_valid[\"class_label\"], average=\"weighted\")\n",
    "    print(\"KNN F1-Score for {}-gram: {}%\".format(n, round(f1_score * 100, 2)))\n",
    "    \n",
    "    precision_score = metrics.precision_score(knn_h.predict(tweet_bow_val_h[n].toarray()), df_worthy_valid[\"class_label\"], average=\"macro\")\n",
    "    print(\"KNN Precision-Score for {}-gram: {}%\".format(n, round(precision_score * 100, 2)))\n",
    "    \n",
    "    recall_score = metrics.recall_score(knn_h.predict(tweet_bow_val_h[n].toarray()), df_worthy_valid[\"class_label\"], average=\"macro\")\n",
    "    print(\"KNN Recall-Score for {}-gram: {}%\".format(n, round(recall_score * 100, 2)))\n",
    "    print(\"--------------------------------------\")"
   ]
  },
  {
   "cell_type": "code",
   "execution_count": 47,
   "metadata": {},
   "outputs": [
    {
     "name": "stdout",
     "output_type": "stream",
     "text": [
      "--------Meansampled--------\n",
      "KNN F1-Score for 3-gram: 91.53%\n",
      "KNN Precision-Score for 3-gram: 11.59%\n",
      "KNN Recall-Score for 3-gram: 24.3%\n"
     ]
    }
   ],
   "source": [
    "n = 3\n",
    "print(\"--------Meansampled--------\")\n",
    "f1_score = metrics.f1_score(knn_h.predict(tweet_bow_test_h[n].toarray()), df_worthy_test[\"class_label\"], average=\"weighted\")\n",
    "print(\"KNN F1-Score for {}-gram: {}%\".format(n, round(f1_score * 100, 2)))\n",
    "    \n",
    "precision_score = metrics.precision_score(knn_h.predict(tweet_bow_test_h[n].toarray()), df_worthy_test[\"class_label\"], average=\"macro\")\n",
    "print(\"KNN Precision-Score for {}-gram: {}%\".format(n, round(precision_score * 100, 2)))\n",
    "    \n",
    "recall_score = metrics.recall_score(knn_h.predict(tweet_bow_test_h[n].toarray()), df_worthy_test[\"class_label\"], average=\"macro\")\n",
    "print(\"KNN Recall-Score for {}-gram: {}%\".format(n, round(recall_score * 100, 2)))"
   ]
  },
  {
   "cell_type": "markdown",
   "metadata": {},
   "source": [
    "### Naive Bayes"
   ]
  },
  {
   "cell_type": "code",
   "execution_count": 107,
   "metadata": {},
   "outputs": [
    {
     "name": "stdout",
     "output_type": "stream",
     "text": [
      "--------Unbalanced--------\n",
      "Complement F1-Score for 1-gram: 81.31%\n",
      "Complement precision for 1-gram: 25.06%\n",
      "Complement recall for 1-gram: 25.45%\n",
      "--------Downsampled--------\n",
      "KNN F1-Score for 1-gram: 7.59%\n",
      "KNN Precision-Score for 1-gram: 8.43%\n",
      "KNN Recall-Score for 1-gram: 11.26%\n",
      "--------Upsampled--------\n",
      "Complement F1-Score for 1-gram: 81.7%\n",
      "Complement precision for 1-gram: 24.19%\n",
      "Complement recall for 1-gram: 11.7%\n",
      "--------Meansampled--------\n",
      "KNN F1-Score for 1-gram: 54.2%\n",
      "KNN Precision-Score for 1-gram: 31.58%\n",
      "KNN Recall-Score for 1-gram: 17.25%\n",
      "--------------------------------------\n",
      "--------Unbalanced--------\n",
      "Complement F1-Score for 2-gram: 71.3%\n",
      "Complement precision for 2-gram: 20.27%\n",
      "Complement recall for 2-gram: 18.08%\n",
      "--------Downsampled--------\n",
      "KNN F1-Score for 2-gram: 8.12%\n",
      "KNN Precision-Score for 2-gram: 13.28%\n",
      "KNN Recall-Score for 2-gram: 11.41%\n",
      "--------Upsampled--------\n",
      "Complement F1-Score for 2-gram: 67.52%\n",
      "Complement precision for 2-gram: 24.08%\n",
      "Complement recall for 2-gram: 11.74%\n",
      "--------Meansampled--------\n",
      "KNN F1-Score for 2-gram: 45.5%\n",
      "KNN Precision-Score for 2-gram: 22.94%\n",
      "KNN Recall-Score for 2-gram: 15.33%\n",
      "--------------------------------------\n",
      "--------Unbalanced--------\n",
      "Complement F1-Score for 3-gram: 39.59%\n",
      "Complement precision for 3-gram: 15.58%\n",
      "Complement recall for 3-gram: 16.63%\n",
      "--------Downsampled--------\n",
      "KNN F1-Score for 3-gram: 11.52%\n",
      "KNN Precision-Score for 3-gram: 10.05%\n",
      "KNN Recall-Score for 3-gram: 0.79%\n",
      "--------Upsampled--------\n",
      "Complement F1-Score for 3-gram: 15.33%\n",
      "Complement precision for 3-gram: 12.13%\n",
      "Complement recall for 3-gram: 16.73%\n",
      "--------Meansampled--------\n",
      "KNN F1-Score for 3-gram: 11.54%\n",
      "KNN Precision-Score for 3-gram: 10.04%\n",
      "KNN Recall-Score for 3-gram: 11.97%\n",
      "--------------------------------------\n"
     ]
    }
   ],
   "source": [
    "from sklearn.naive_bayes import MultinomialNB # suited for classification with discrete features\n",
    "from sklearn.naive_bayes import ComplementNB \n",
    "\n",
    "clf = ComplementNB()\n",
    "clf_d = MultinomialNB()\n",
    "clf_u = MultinomialNB()\n",
    "clf_h = MultinomialNB()\n",
    "\n",
    "for n in ngram_list:\n",
    "    print(\"--------Unbalanced--------\")\n",
    "    clf.fit(tweet_bow_train[n].toarray(), df_worthy_train[\"class_label\"])\n",
    "    f1_score = metrics.f1_score(clf.predict(tweet_bow_test[n].toarray()), df_worthy_test[\"class_label\"], average=\"weighted\")\n",
    "    print(\"Complement F1-Score for {}-gram: {}%\".format(n, round(f1_score * 100, 2)))\n",
    "    \n",
    "    precision_score = metrics.precision_score(clf.predict(tweet_bow_test[n].toarray()), df_worthy_test[\"class_label\"], average=\"macro\")\n",
    "    print(\"Complement precision for {}-gram: {}%\".format(n, round(precision_score * 100, 2)))\n",
    "    \n",
    "    recall_score = metrics.recall_score(clf.predict(tweet_bow_test[n].toarray()), df_worthy_test[\"class_label\"], average=\"macro\")\n",
    "    print(\"Complement recall for {}-gram: {}%\".format(n, round(recall_score * 100, 2)))\n",
    "    \n",
    "    print(\"--------Downsampled--------\")\n",
    "    clf_d.fit(tweet_bow_train_d[n].toarray(), df_downsampled[\"class_label\"])\n",
    "    f1_score = metrics.f1_score(clf_d.predict(tweet_bow_val_d[n].toarray()), df_worthy_valid[\"class_label\"], average=\"weighted\")\n",
    "    print(\"KNN F1-Score for {}-gram: {}%\".format(n, round(f1_score * 100, 2)))\n",
    "    \n",
    "    precision_score = metrics.precision_score(clf_d.predict(tweet_bow_val_d[n].toarray()), df_worthy_valid[\"class_label\"], average=\"macro\")\n",
    "    print(\"KNN Precision-Score for {}-gram: {}%\".format(n, round(precision_score * 100, 2)))\n",
    "    \n",
    "    recall_score = metrics.recall_score(clf_d.predict(tweet_bow_val_d[n].toarray()), df_worthy_valid[\"class_label\"], average=\"macro\")\n",
    "    print(\"KNN Recall-Score for {}-gram: {}%\".format(n, round(recall_score * 100, 2)))\n",
    "    \n",
    "    print(\"--------Upsampled--------\")\n",
    "    clf_u.fit(tweet_bow_train_u[n].toarray(), df_upsampled[\"class_label\"])\n",
    "    f1_score = metrics.f1_score(clf_u.predict(tweet_bow_val_u[n].toarray()), df_worthy_valid[\"class_label\"], average=\"weighted\")\n",
    "    print(\"Complement F1-Score for {}-gram: {}%\".format(n, round(f1_score * 100, 2)))\n",
    "    \n",
    "    precision_score = metrics.precision_score(clf_u.predict(tweet_bow_val_u[n].toarray()), df_worthy_valid[\"class_label\"], average=\"macro\")\n",
    "    print(\"Complement precision for {}-gram: {}%\".format(n, round(precision_score * 100, 2)))\n",
    "    \n",
    "    recall_score = metrics.recall_score(clf.predict(tweet_bow_val_u[n].toarray()), df_worthy_valid[\"class_label\"], average=\"macro\")\n",
    "    print(\"Complement recall for {}-gram: {}%\".format(n, round(recall_score * 100, 2)))\n",
    "    \n",
    "    print(\"--------Meansampled--------\")\n",
    "    clf_h.fit(tweet_bow_train_h[n].toarray(), df_meansampled[\"class_label\"])\n",
    "    f1_score = metrics.f1_score(clf_h.predict(tweet_bow_val_h[n].toarray()), df_worthy_valid[\"class_label\"], average=\"weighted\")\n",
    "    print(\"KNN F1-Score for {}-gram: {}%\".format(n, round(f1_score * 100, 2)))\n",
    "    \n",
    "    precision_score = metrics.precision_score(clf_h.predict(tweet_bow_val_h[n].toarray()), df_worthy_valid[\"class_label\"], average=\"macro\")\n",
    "    print(\"KNN Precision-Score for {}-gram: {}%\".format(n, round(precision_score * 100, 2)))\n",
    "    \n",
    "    recall_score = metrics.recall_score(clf_h.predict(tweet_bow_val_h[n].toarray()), df_worthy_valid[\"class_label\"], average=\"macro\")\n",
    "    print(\"KNN Recall-Score for {}-gram: {}%\".format(n, round(recall_score * 100, 2)))\n",
    "    print(\"--------------------------------------\")"
   ]
  },
  {
   "cell_type": "code",
   "execution_count": 45,
   "metadata": {},
   "outputs": [
    {
     "name": "stdout",
     "output_type": "stream",
     "text": [
      "--------Upsampled--------\n",
      "Complement F1-Score for 1-gram: 78.42%\n",
      "Complement precision for 1-gram: 26.54%\n",
      "Complement recall for 1-gram: 11.25%\n"
     ]
    }
   ],
   "source": [
    "n = 1\n",
    "print(\"--------Upsampled--------\")\n",
    "clf_u.fit(tweet_bow_train_u[n].toarray(), df_upsampled[\"class_label\"])\n",
    "f1_score = metrics.f1_score(clf_u.predict(tweet_bow_test_u[n].toarray()), df_worthy_test[\"class_label\"], average=\"weighted\")\n",
    "print(\"Complement F1-Score for {}-gram: {}%\".format(n, round(f1_score * 100, 2)))\n",
    "    \n",
    "precision_score = metrics.precision_score(clf_u.predict(tweet_bow_test_u[n].toarray()), df_worthy_test[\"class_label\"], average=\"macro\")\n",
    "print(\"Complement precision for {}-gram: {}%\".format(n, round(precision_score * 100, 2)))\n",
    "    \n",
    "recall_score = metrics.recall_score(clf.predict(tweet_bow_test_u[n].toarray()), df_worthy_test[\"class_label\"], average=\"macro\")\n",
    "print(\"Complement recall for {}-gram: {}%\".format(n, round(recall_score * 100, 2)))"
   ]
  },
  {
   "cell_type": "markdown",
   "metadata": {},
   "source": [
    "<br><br><br>\n",
    "\n",
    "<hr>\n",
    "\n",
    "\n",
    "# (Multi-Class) Text Classification using Bidirectional LSTM\n",
    "\n",
    "Source: https://medium.com/analytics-vidhya/author-multi-class-text-classification-using-bidirectional-lstm-keras-c9a533a1cc4a"
   ]
  },
  {
   "cell_type": "code",
   "execution_count": 51,
   "metadata": {},
   "outputs": [
    {
     "name": "stdout",
     "output_type": "stream",
     "text": [
      "2.8.0\n"
     ]
    }
   ],
   "source": [
    "import pandas as pd\n",
    "import numpy as np\n",
    "import matplotlib.pyplot as plt\n",
    "from nltk.tokenize import word_tokenize\n",
    "from nltk.stem import WordNetLemmatizer\n",
    "from nltk.stem import PorterStemmer\n",
    "from tqdm import tqdm\n",
    "from keras.models import Sequential\n",
    "from keras.layers.recurrent import LSTM, GRU\n",
    "from keras.layers.core import Dense, Activation, Dropout\n",
    "from keras.layers.embeddings import Embedding\n",
    "from keras.utils import np_utils\n",
    "from keras.layers import GlobalMaxPooling1D, Conv1D, MaxPooling1D, Flatten, Bidirectional, SpatialDropout1D\n",
    "from sklearn.model_selection import train_test_split\n",
    "from keras.preprocessing import sequence\n",
    "from keras.preprocessing.text import Tokenizer\n",
    "from keras.callbacks import EarlyStopping\n",
    "import matplotlib.pyplot as plt\n",
    "from nltk.corpus import stopwords\n",
    "stop_words = stopwords.words('english')\n",
    "import tensorflow as tf\n",
    "print(tf.__version__)"
   ]
  },
  {
   "cell_type": "code",
   "execution_count": 90,
   "metadata": {},
   "outputs": [],
   "source": [
    "def getLemmText(text):\n",
    " tokens=word_tokenize(text)\n",
    " lemmatizer = WordNetLemmatizer()\n",
    " tokens=[lemmatizer.lemmatize(word) for word in tokens]\n",
    " return \" \".join(tokens)\n",
    "df_worthy_train[\"tweet_text\"] = list(map(getLemmText, df_worthy_train[\"tweet_text\"]))"
   ]
  },
  {
   "cell_type": "code",
   "execution_count": 91,
   "metadata": {},
   "outputs": [],
   "source": [
    "EMBEDDING_DIMENSION = 64\n",
    "VOCABULARY_SIZE = 16000\n",
    "MAX_LENGTH = 100\n",
    "OOV_TOK = '<OOV>'\n",
    "TRUNCATE_TYPE = 'post'\n",
    "PADDING_TYPE = 'post'"
   ]
  },
  {
   "cell_type": "code",
   "execution_count": 92,
   "metadata": {},
   "outputs": [],
   "source": [
    "tokenizer = Tokenizer(num_words=VOCABULARY_SIZE, oov_token=OOV_TOK)\n",
    "tokenizer.fit_on_texts(list(df_worthy_train[\"tweet_text\"]) + list(df_worthy_train[\"class_label\"]))"
   ]
  },
  {
   "cell_type": "code",
   "execution_count": 93,
   "metadata": {},
   "outputs": [
    {
     "name": "stdout",
     "output_type": "stream",
     "text": [
      "Vocabulary size: 15745\n"
     ]
    },
    {
     "data": {
      "text/plain": [
       "{'<OOV>': 1,\n",
       " 'the': 2,\n",
       " 'and': 3,\n",
       " 'vaccine': 4,\n",
       " 't': 5,\n",
       " 'co': 6,\n",
       " 'to': 7,\n",
       " 'http': 8,\n",
       " 'not': 9,\n",
       " 'no': 10}"
      ]
     },
     "execution_count": 93,
     "metadata": {},
     "output_type": "execute_result"
    }
   ],
   "source": [
    "xtrain_sequences = tokenizer.texts_to_sequences(df_worthy_train[\"tweet_text\"])\n",
    "xtest_sequences = tokenizer.texts_to_sequences(df_worthy_train[\"class_label\"])\n",
    "word_index = tokenizer.word_index\n",
    "print('Vocabulary size:', len(word_index))\n",
    "dict(list(word_index.items())[0:10])"
   ]
  },
  {
   "cell_type": "code",
   "execution_count": 103,
   "metadata": {},
   "outputs": [
    {
     "name": "stdout",
     "output_type": "stream",
     "text": [
      "[40, 50, 369, 24, 5, 1084, 70, 4, 122, 3, 70, 351, 257, 122, 26, 2, 158, 7, 90, 36, 2, 521, 72, 317, 17, 12, 14, 3696]\n"
     ]
    }
   ],
   "source": [
    "print(xtrain_sequences[100])"
   ]
  },
  {
   "cell_type": "code",
   "execution_count": 95,
   "metadata": {},
   "outputs": [
    {
     "name": "stdout",
     "output_type": "stream",
     "text": [
      "51\n",
      "100\n",
      "[  40   50  369   24    5 1084   70    4  122    3   70  351  257  122\n",
      "   26    2  158    7   90   36    2  521   72  317   17   12   14 3696\n",
      "    0    0    0    0    0    0    0    0    0    0    0    0    0    0\n",
      "    0    0    0    0    0    0    0    0    0    0    0    0    0    0\n",
      "    0    0    0    0    0    0    0    0    0    0    0    0    0    0\n",
      "    0    0    0    0    0    0    0    0    0    0    0    0    0    0\n",
      "    0    0    0    0    0    0    0    0    0    0    0    0    0    0\n",
      "    0    0]\n"
     ]
    }
   ],
   "source": [
    "xtrain_pad = sequence.pad_sequences(xtrain_sequences, maxlen=MAX_LENGTH, padding=PADDING_TYPE, truncating=TRUNCATE_TYPE)\n",
    "xtest_pad = sequence.pad_sequences(xtest_sequences, maxlen=MAX_LENGTH, padding=PADDING_TYPE, truncating=TRUNCATE_TYPE)\n",
    "print(len(xtrain_sequences[0]))\n",
    "print(len(xtrain_pad[0]))\n",
    "print(xtrain_pad[100])"
   ]
  },
  {
   "cell_type": "code",
   "execution_count": 96,
   "metadata": {},
   "outputs": [
    {
     "name": "stdout",
     "output_type": "stream",
     "text": [
      "[1051, 607, 147, 19, 70, 1052, 415, 30, 8, 10, 42, 200, 6, 1, 416, 29, 1053, 2, 1054, 608, 18, 1055, 417, 1056, 2, 1057, 416, 251, 20, 64, 418, 96, 7, 19, 419, 70, 113, 18, 20, 17, 1, 201]\n",
      "[1058, 609, 420, 14, 56, 307, 8, 10, 7, 11, 1059, 6, 202, 308, 309, 1060, 2, 1061, 89, 2, 119, 5, 3, 4, 1062]\n",
      "[8, 10, 25, 1063, 22, 201, 9, 252, 2, 18, 8, 10, 7, 77, 6, 421, 2, 159, 6, 160, 23, 14, 22, 148, 6, 422, 65, 22, 1064, 2, 97, 22, 161, 5, 3, 4, 1065]\n",
      "(306,)\n"
     ]
    }
   ],
   "source": [
    "label_tokenizer = Tokenizer()\n",
    "label_tokenizer.fit_on_texts(list(df_worthy_valid[\"tweet_text\"]))\n",
    "training_label_seq = np.array(label_tokenizer.texts_to_sequences(df_worthy_valid[\"tweet_text\"]))\n",
    "test_label_seq = np.array(label_tokenizer.texts_to_sequences(df_worthy_valid[\"class_label\"]))\n",
    "print(training_label_seq[0])\n",
    "print(training_label_seq[1])\n",
    "print(training_label_seq[2])\n",
    "print(training_label_seq.shape)"
   ]
  },
  {
   "cell_type": "code",
   "execution_count": 97,
   "metadata": {},
   "outputs": [
    {
     "name": "stdout",
     "output_type": "stream",
     "text": [
      "dear moms for the love of god and family do not let anyone jab your baby with the experimental covid 19 vaccine http t co 0lizf4drgq ? ? ? ? ? ? ? ? ? ? ? ? ? ? ? ? ? ? ? ? ? ? ? ? ? ? ? ? ? ? ? ? ? ? ? ? ? ? ? ? ? ? ? ? ? ? ? ? ? ? ? ? ? ? ? ? ? ? ? ? ? ? ? ? ? ? ? ? ? ? ? ? ? ?\n"
     ]
    }
   ],
   "source": [
    "reverse_word_index = dict([(value, key) for (key, value) in word_index.items()])\n",
    "def decode_article(text):\n",
    " return \" \".join([reverse_word_index.get(i, \"?\") for i in text])\n",
    "print(decode_article(xtrain_pad[11]))"
   ]
  },
  {
   "cell_type": "code",
   "execution_count": 98,
   "metadata": {},
   "outputs": [],
   "source": [
    "model = Sequential()\n",
    "model.add(Embedding(len(word_index) + 1,\n",
    "                     EMBEDDING_DIMENSION))\n",
    "model.add(SpatialDropout1D(0.3))\n",
    "model.add(Bidirectional(LSTM(EMBEDDING_DIMENSION, dropout=0.3, recurrent_dropout=0.3)))\n",
    "model.add(Dense(EMBEDDING_DIMENSION, activation='relu'))\n",
    "model.add(Dropout(0.8))\n",
    "model.add(Dense(EMBEDDING_DIMENSION, activation='relu'))\n",
    "model.add(Dropout(0.8))\n",
    "model.add(Dense(3))\n",
    "model.add(Activation('softmax'))\n",
    "model.compile(loss='sparse_categorical_crossentropy', optimizer='adam',metrics=['accuracy'])"
   ]
  },
  {
   "cell_type": "code",
   "execution_count": 99,
   "metadata": {},
   "outputs": [],
   "source": [
    "# TODO: below codeblock doesnt work due to these two fucks having the wrong datatype\n",
    "#xtrain_pad = np.asarray(xtrain_pad).astype(np.int_)\n",
    "xtrain_pad = np.asarray(xtrain_pad).astype('float32')\n",
    "\n",
    "#training_label_seq\n",
    "\n",
    "#these too?\n",
    "#xtest_pad\n",
    "#test_label_seq"
   ]
  },
  {
   "cell_type": "code",
   "execution_count": 100,
   "metadata": {},
   "outputs": [
    {
     "data": {
      "text/plain": [
       "(3321, 100)"
      ]
     },
     "execution_count": 100,
     "metadata": {},
     "output_type": "execute_result"
    }
   ],
   "source": [
    "xtrain_pad.shape"
   ]
  },
  {
   "cell_type": "code",
   "execution_count": 101,
   "metadata": {},
   "outputs": [
    {
     "data": {
      "text/plain": [
       "(306,)"
      ]
     },
     "execution_count": 101,
     "metadata": {},
     "output_type": "execute_result"
    }
   ],
   "source": [
    "training_label_seq.shape"
   ]
  },
  {
   "cell_type": "code",
   "execution_count": 102,
   "metadata": {},
   "outputs": [
    {
     "ename": "ValueError",
     "evalue": "Failed to convert a NumPy array to a Tensor (Unsupported object type list).",
     "output_type": "error",
     "traceback": [
      "\u001b[1;31m---------------------------------------------------------------------------\u001b[0m",
      "\u001b[1;31mValueError\u001b[0m                                Traceback (most recent call last)",
      "\u001b[1;32m~\\AppData\\Local\\Temp/ipykernel_15216/1535274853.py\u001b[0m in \u001b[0;36m<module>\u001b[1;34m\u001b[0m\n\u001b[0;32m      1\u001b[0m \u001b[0mnum_epochs\u001b[0m \u001b[1;33m=\u001b[0m \u001b[1;36m10\u001b[0m\u001b[1;33m\u001b[0m\u001b[1;33m\u001b[0m\u001b[0m\n\u001b[1;32m----> 2\u001b[1;33m \u001b[0mhistory\u001b[0m \u001b[1;33m=\u001b[0m \u001b[0mmodel\u001b[0m\u001b[1;33m.\u001b[0m\u001b[0mfit\u001b[0m\u001b[1;33m(\u001b[0m\u001b[0mxtrain_pad\u001b[0m\u001b[1;33m,\u001b[0m \u001b[0mtraining_label_seq\u001b[0m\u001b[1;33m,\u001b[0m \u001b[0mepochs\u001b[0m\u001b[1;33m=\u001b[0m\u001b[0mnum_epochs\u001b[0m\u001b[1;33m,\u001b[0m \u001b[0mvalidation_data\u001b[0m\u001b[1;33m=\u001b[0m\u001b[1;33m(\u001b[0m\u001b[0mxtest_pad\u001b[0m\u001b[1;33m,\u001b[0m \u001b[0mtest_label_seq\u001b[0m\u001b[1;33m)\u001b[0m\u001b[1;33m,\u001b[0m \u001b[0mverbose\u001b[0m\u001b[1;33m=\u001b[0m\u001b[1;36m2\u001b[0m\u001b[1;33m)\u001b[0m\u001b[1;33m\u001b[0m\u001b[1;33m\u001b[0m\u001b[0m\n\u001b[0m",
      "\u001b[1;32mc:\\Users\\minh\\AppData\\Local\\Programs\\Python\\Python39\\lib\\site-packages\\keras\\utils\\traceback_utils.py\u001b[0m in \u001b[0;36merror_handler\u001b[1;34m(*args, **kwargs)\u001b[0m\n\u001b[0;32m     65\u001b[0m     \u001b[1;32mexcept\u001b[0m \u001b[0mException\u001b[0m \u001b[1;32mas\u001b[0m \u001b[0me\u001b[0m\u001b[1;33m:\u001b[0m  \u001b[1;31m# pylint: disable=broad-except\u001b[0m\u001b[1;33m\u001b[0m\u001b[1;33m\u001b[0m\u001b[0m\n\u001b[0;32m     66\u001b[0m       \u001b[0mfiltered_tb\u001b[0m \u001b[1;33m=\u001b[0m \u001b[0m_process_traceback_frames\u001b[0m\u001b[1;33m(\u001b[0m\u001b[0me\u001b[0m\u001b[1;33m.\u001b[0m\u001b[0m__traceback__\u001b[0m\u001b[1;33m)\u001b[0m\u001b[1;33m\u001b[0m\u001b[1;33m\u001b[0m\u001b[0m\n\u001b[1;32m---> 67\u001b[1;33m       \u001b[1;32mraise\u001b[0m \u001b[0me\u001b[0m\u001b[1;33m.\u001b[0m\u001b[0mwith_traceback\u001b[0m\u001b[1;33m(\u001b[0m\u001b[0mfiltered_tb\u001b[0m\u001b[1;33m)\u001b[0m \u001b[1;32mfrom\u001b[0m \u001b[1;32mNone\u001b[0m\u001b[1;33m\u001b[0m\u001b[1;33m\u001b[0m\u001b[0m\n\u001b[0m\u001b[0;32m     68\u001b[0m     \u001b[1;32mfinally\u001b[0m\u001b[1;33m:\u001b[0m\u001b[1;33m\u001b[0m\u001b[1;33m\u001b[0m\u001b[0m\n\u001b[0;32m     69\u001b[0m       \u001b[1;32mdel\u001b[0m \u001b[0mfiltered_tb\u001b[0m\u001b[1;33m\u001b[0m\u001b[1;33m\u001b[0m\u001b[0m\n",
      "\u001b[1;32mc:\\Users\\minh\\AppData\\Local\\Programs\\Python\\Python39\\lib\\site-packages\\tensorflow\\python\\framework\\constant_op.py\u001b[0m in \u001b[0;36mconvert_to_eager_tensor\u001b[1;34m(value, ctx, dtype)\u001b[0m\n\u001b[0;32m    100\u001b[0m       \u001b[0mdtype\u001b[0m \u001b[1;33m=\u001b[0m \u001b[0mdtypes\u001b[0m\u001b[1;33m.\u001b[0m\u001b[0mas_dtype\u001b[0m\u001b[1;33m(\u001b[0m\u001b[0mdtype\u001b[0m\u001b[1;33m)\u001b[0m\u001b[1;33m.\u001b[0m\u001b[0mas_datatype_enum\u001b[0m\u001b[1;33m\u001b[0m\u001b[1;33m\u001b[0m\u001b[0m\n\u001b[0;32m    101\u001b[0m   \u001b[0mctx\u001b[0m\u001b[1;33m.\u001b[0m\u001b[0mensure_initialized\u001b[0m\u001b[1;33m(\u001b[0m\u001b[1;33m)\u001b[0m\u001b[1;33m\u001b[0m\u001b[1;33m\u001b[0m\u001b[0m\n\u001b[1;32m--> 102\u001b[1;33m   \u001b[1;32mreturn\u001b[0m \u001b[0mops\u001b[0m\u001b[1;33m.\u001b[0m\u001b[0mEagerTensor\u001b[0m\u001b[1;33m(\u001b[0m\u001b[0mvalue\u001b[0m\u001b[1;33m,\u001b[0m \u001b[0mctx\u001b[0m\u001b[1;33m.\u001b[0m\u001b[0mdevice_name\u001b[0m\u001b[1;33m,\u001b[0m \u001b[0mdtype\u001b[0m\u001b[1;33m)\u001b[0m\u001b[1;33m\u001b[0m\u001b[1;33m\u001b[0m\u001b[0m\n\u001b[0m\u001b[0;32m    103\u001b[0m \u001b[1;33m\u001b[0m\u001b[0m\n\u001b[0;32m    104\u001b[0m \u001b[1;33m\u001b[0m\u001b[0m\n",
      "\u001b[1;31mValueError\u001b[0m: Failed to convert a NumPy array to a Tensor (Unsupported object type list)."
     ]
    }
   ],
   "source": [
    "num_epochs = 10\n",
    "history = model.fit(xtrain_pad, training_label_seq, epochs=num_epochs, validation_data=(xtest_pad, test_label_seq), verbose=2)"
   ]
  },
  {
   "cell_type": "code",
   "execution_count": null,
   "metadata": {},
   "outputs": [
    {
     "ename": "NameError",
     "evalue": "name 'history' is not defined",
     "output_type": "error",
     "traceback": [
      "\u001b[0;31m---------------------------------------------------------------------------\u001b[0m",
      "\u001b[0;31mNameError\u001b[0m                                 Traceback (most recent call last)",
      "\u001b[1;32m/Users/ivarw/Dropbox/GitDAT550/Final_Project/1d.ipynb Cell 60'\u001b[0m in \u001b[0;36m<cell line: 9>\u001b[0;34m()\u001b[0m\n\u001b[1;32m      <a href='vscode-notebook-cell:/Users/ivarw/Dropbox/GitDAT550/Final_Project/1d.ipynb#ch0000062?line=5'>6</a>\u001b[0m   plt\u001b[39m.\u001b[39mlegend([string, \u001b[39m'\u001b[39m\u001b[39mval_\u001b[39m\u001b[39m'\u001b[39m\u001b[39m+\u001b[39mstring])\n\u001b[1;32m      <a href='vscode-notebook-cell:/Users/ivarw/Dropbox/GitDAT550/Final_Project/1d.ipynb#ch0000062?line=6'>7</a>\u001b[0m   plt\u001b[39m.\u001b[39mshow()\n\u001b[0;32m----> <a href='vscode-notebook-cell:/Users/ivarw/Dropbox/GitDAT550/Final_Project/1d.ipynb#ch0000062?line=8'>9</a>\u001b[0m graph_plots(history, \u001b[39m\"\u001b[39m\u001b[39maccuracy\u001b[39m\u001b[39m\"\u001b[39m)\n\u001b[1;32m     <a href='vscode-notebook-cell:/Users/ivarw/Dropbox/GitDAT550/Final_Project/1d.ipynb#ch0000062?line=9'>10</a>\u001b[0m graph_plots(history, \u001b[39m\"\u001b[39m\u001b[39mloss\u001b[39m\u001b[39m\"\u001b[39m)\n",
      "\u001b[0;31mNameError\u001b[0m: name 'history' is not defined"
     ]
    }
   ],
   "source": [
    "def graph_plots(history, string):\n",
    "  plt.plot(history.history[string])\n",
    "  plt.plot(history.history['val_'+string])\n",
    "  plt.xlabel(\"Epochs\")\n",
    "  plt.ylabel(string)\n",
    "  plt.legend([string, 'val_'+string])\n",
    "  plt.show()\n",
    "  \n",
    "graph_plots(history, \"accuracy\")\n",
    "graph_plots(history, \"loss\")"
   ]
  },
  {
   "cell_type": "code",
   "execution_count": null,
   "metadata": {},
   "outputs": [],
   "source": []
  }
 ],
 "metadata": {
  "interpreter": {
   "hash": "8bb7827f47cd248081edd9fae95b0b9fdd57b4fc1bdee42bda07c6c0f696abf2"
  },
  "kernelspec": {
   "display_name": "Python 3.9.1 64-bit",
   "language": "python",
   "name": "python3"
  },
  "language_info": {
   "codemirror_mode": {
    "name": "ipython",
    "version": 3
   },
   "file_extension": ".py",
   "mimetype": "text/x-python",
   "name": "python",
   "nbconvert_exporter": "python",
   "pygments_lexer": "ipython3",
   "version": "3.9.1"
  },
  "orig_nbformat": 4
 },
 "nbformat": 4,
 "nbformat_minor": 2
}
