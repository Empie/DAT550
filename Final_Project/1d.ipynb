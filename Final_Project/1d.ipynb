{
 "cells": [
  {
   "cell_type": "markdown",
   "metadata": {},
   "source": [
    "# 1d) Check whether a tweet is attention-worthy"
   ]
  },
  {
   "cell_type": "code",
   "execution_count": 1,
   "metadata": {},
   "outputs": [
    {
     "name": "stderr",
     "output_type": "stream",
     "text": [
      "[nltk_data] Downloading package stopwords to /Users/ivarw/nltk_data...\n",
      "[nltk_data]   Package stopwords is already up-to-date!\n"
     ]
    },
    {
     "data": {
      "text/plain": [
       "True"
      ]
     },
     "execution_count": 1,
     "metadata": {},
     "output_type": "execute_result"
    }
   ],
   "source": [
    "import pandas as pd\n",
    "import numpy as np\n",
    "import nltk\n",
    "from nltk import ngrams\n",
    "from nltk.corpus import stopwords\n",
    "from nltk.stem import PorterStemmer\n",
    "import re\n",
    "import spacy\n",
    "import warnings\n",
    "\n",
    "warnings.filterwarnings(\"ignore\") # Ignore warnings\n",
    "nltk.download('stopwords') # Load Stopwords"
   ]
  },
  {
   "cell_type": "markdown",
   "metadata": {},
   "source": [
    "# Data Exploration"
   ]
  },
  {
   "cell_type": "code",
   "execution_count": 2,
   "metadata": {},
   "outputs": [],
   "source": [
    "nlp = spacy.load(\"en_core_web_sm\") # Load Lemmatizer\n",
    "cachedStopWords = list(set(stopwords.words(\"english\")))\n",
    "\n",
    "# Twitter Datasets\n",
    "df_worthy_train = pd.read_csv(\"data/1d/CT22_english_1D_attentionworthy_train.tsv\", sep='\\t')\n",
    "df_worthy_valid = pd.read_csv(\"data/1d/CT22_english_1D_attentionworthy_dev.tsv\", sep='\\t')\n",
    "df_worthy_test = pd.read_csv(\"data/1d/CT22_english_1D_attentionworthy_dev_test.tsv\", sep='\\t')\n",
    "\n",
    "# Top 3000 most commonly used english words + covid related medical terms (used as vocabulary for the vectorization process)\n",
    "topwords = pd.read_csv('words.txt', sep=\" \", header=None).values[:,0]"
   ]
  },
  {
   "cell_type": "code",
   "execution_count": 3,
   "metadata": {},
   "outputs": [
    {
     "name": "stdout",
     "output_type": "stream",
     "text": [
      "Test shape: (909, 5)\n",
      "Train shape: (3321, 5)\n",
      "Validation shape: (306, 5)\n"
     ]
    },
    {
     "data": {
      "text/html": [
       "<div>\n",
       "<style scoped>\n",
       "    .dataframe tbody tr th:only-of-type {\n",
       "        vertical-align: middle;\n",
       "    }\n",
       "\n",
       "    .dataframe tbody tr th {\n",
       "        vertical-align: top;\n",
       "    }\n",
       "\n",
       "    .dataframe thead th {\n",
       "        text-align: right;\n",
       "    }\n",
       "</style>\n",
       "<table border=\"1\" class=\"dataframe\">\n",
       "  <thead>\n",
       "    <tr style=\"text-align: right;\">\n",
       "      <th></th>\n",
       "      <th>topic</th>\n",
       "      <th>tweet_id</th>\n",
       "      <th>tweet_url</th>\n",
       "      <th>tweet_text</th>\n",
       "      <th>class_label</th>\n",
       "    </tr>\n",
       "  </thead>\n",
       "  <tbody>\n",
       "    <tr>\n",
       "      <th>0</th>\n",
       "      <td>COVID-19</td>\n",
       "      <td>1.359351e+18</td>\n",
       "      <td>http://twitter.com/user/status/135935094335617...</td>\n",
       "      <td>India's gift of 100,000 COVID-19 vaccines arri...</td>\n",
       "      <td>no_not_interesting</td>\n",
       "    </tr>\n",
       "    <tr>\n",
       "      <th>1</th>\n",
       "      <td>COVID-19</td>\n",
       "      <td>1.350166e+18</td>\n",
       "      <td>http://twitter.com/user/status/135016568806166...</td>\n",
       "      <td>Here’s what I’m doing while I wait my turn for...</td>\n",
       "      <td>no_not_interesting</td>\n",
       "    </tr>\n",
       "    <tr>\n",
       "      <th>2</th>\n",
       "      <td>COVID-19</td>\n",
       "      <td>1.369750e+18</td>\n",
       "      <td>http://twitter.com/user/status/136974953915491...</td>\n",
       "      <td>This afternoon, I’m hosting an event with the ...</td>\n",
       "      <td>no_not_interesting</td>\n",
       "    </tr>\n",
       "    <tr>\n",
       "      <th>3</th>\n",
       "      <td>COVID-19</td>\n",
       "      <td>1.350165e+18</td>\n",
       "      <td>http://twitter.com/user/status/135016499568693...</td>\n",
       "      <td>Help shops like mine stay open. Mask up, avoid...</td>\n",
       "      <td>no_not_interesting</td>\n",
       "    </tr>\n",
       "    <tr>\n",
       "      <th>4</th>\n",
       "      <td>COVID-19</td>\n",
       "      <td>1.370008e+18</td>\n",
       "      <td>http://twitter.com/user/status/137000807648978...</td>\n",
       "      <td>As part of the ongoing nationwide vaccination ...</td>\n",
       "      <td>no_not_interesting</td>\n",
       "    </tr>\n",
       "  </tbody>\n",
       "</table>\n",
       "</div>"
      ],
      "text/plain": [
       "      topic      tweet_id                                          tweet_url  \\\n",
       "0  COVID-19  1.359351e+18  http://twitter.com/user/status/135935094335617...   \n",
       "1  COVID-19  1.350166e+18  http://twitter.com/user/status/135016568806166...   \n",
       "2  COVID-19  1.369750e+18  http://twitter.com/user/status/136974953915491...   \n",
       "3  COVID-19  1.350165e+18  http://twitter.com/user/status/135016499568693...   \n",
       "4  COVID-19  1.370008e+18  http://twitter.com/user/status/137000807648978...   \n",
       "\n",
       "                                          tweet_text         class_label  \n",
       "0  India's gift of 100,000 COVID-19 vaccines arri...  no_not_interesting  \n",
       "1  Here’s what I’m doing while I wait my turn for...  no_not_interesting  \n",
       "2  This afternoon, I’m hosting an event with the ...  no_not_interesting  \n",
       "3  Help shops like mine stay open. Mask up, avoid...  no_not_interesting  \n",
       "4  As part of the ongoing nationwide vaccination ...  no_not_interesting  "
      ]
     },
     "execution_count": 3,
     "metadata": {},
     "output_type": "execute_result"
    }
   ],
   "source": [
    "print(\"Test shape: {}\\nTrain shape: {}\\nValidation shape: {}\".format(df_worthy_test.shape, df_worthy_train.shape, df_worthy_valid.shape))\n",
    "df_worthy_train.head()"
   ]
  },
  {
   "cell_type": "markdown",
   "metadata": {},
   "source": [
    "### Handling imbalanced multiclass text classification"
   ]
  },
  {
   "cell_type": "code",
   "execution_count": 4,
   "metadata": {},
   "outputs": [
    {
     "name": "stdout",
     "output_type": "stream",
     "text": [
      "Categories: ['no_not_interesting' 'harmful' 'yes_calls_for_action'\n",
      " 'yes_blame_authorities' 'yes_discusses_cure' 'yes_discusses_action_taken'\n",
      " 'yes_asks_question' 'yes_contains_advice' 'yes_other']\n"
     ]
    },
    {
     "data": {
      "text/plain": [
       "<AxesSubplot:title={'center':'Categories vs Number of Documents'}>"
      ]
     },
     "execution_count": 4,
     "metadata": {},
     "output_type": "execute_result"
    },
    {
     "data": {
      "image/png": "[encoded data removed]",
      "text/plain": [
       "<Figure size 432x288 with 1 Axes>"
      ]
     },
     "metadata": {
      "needs_background": "light"
     },
     "output_type": "display_data"
    }
   ],
   "source": [
    "categories = df_worthy_train.class_label.unique()\n",
    "print('Categories: {}'.format(categories))\n",
    "df_worthy_train.class_label.value_counts().plot(kind='bar', title='Categories vs Number of Documents', cmap='plasma')"
   ]
  },
  {
   "cell_type": "markdown",
   "metadata": {},
   "source": [
    "# Sampling"
   ]
  },
  {
   "cell_type": "code",
   "execution_count": 90,
   "metadata": {},
   "outputs": [
    {
     "data": {
      "text/plain": [
       "no_not_interesting            2851\n",
       "harmful                        173\n",
       "yes_blame_authorities          138\n",
       "yes_calls_for_action            48\n",
       "yes_discusses_cure              42\n",
       "yes_discusses_action_taken      27\n",
       "yes_other                       25\n",
       "yes_contains_advice             12\n",
       "yes_asks_question                5\n",
       "Name: class_label, dtype: int64"
      ]
     },
     "execution_count": 90,
     "metadata": {},
     "output_type": "execute_result"
    }
   ],
   "source": [
    "df_worthy_train[\"class_label\"].value_counts()"
   ]
  },
  {
   "cell_type": "markdown",
   "metadata": {},
   "source": [
    "## Downsampling"
   ]
  },
  {
   "cell_type": "code",
   "execution_count": 91,
   "metadata": {},
   "outputs": [],
   "source": [
    "label_dfs = {}\n",
    "\n",
    "for label in df_worthy_train[\"class_label\"].unique():\n",
    "    label_dfs[label] = df_worthy_train[df_worthy_train[\"class_label\"] == label]"
   ]
  },
  {
   "cell_type": "code",
   "execution_count": 92,
   "metadata": {},
   "outputs": [
    {
     "data": {
      "text/plain": [
       "no_not_interesting            5\n",
       "harmful                       5\n",
       "yes_calls_for_action          5\n",
       "yes_blame_authorities         5\n",
       "yes_discusses_cure            5\n",
       "yes_discusses_action_taken    5\n",
       "yes_asks_question             5\n",
       "yes_contains_advice           5\n",
       "yes_other                     5\n",
       "Name: class_label, dtype: int64"
      ]
     },
     "execution_count": 92,
     "metadata": {},
     "output_type": "execute_result"
    }
   ],
   "source": [
    "downsampled_dfs = {}\n",
    "minority_class = min(df_worthy_train[\"class_label\"].value_counts())\n",
    "\n",
    "for key, val in label_dfs.items():\n",
    "    downsampled_dfs[\"downsampled_\" + key] = val.sample(n=minority_class)\n",
    "\n",
    "df_downsampled = pd.concat(downsampled_dfs.values())\n",
    "df_downsampled[\"class_label\"].value_counts()"
   ]
  },
  {
   "cell_type": "markdown",
   "metadata": {},
   "source": [
    "## Upsampling"
   ]
  },
  {
   "cell_type": "code",
   "execution_count": 93,
   "metadata": {},
   "outputs": [
    {
     "data": {
      "text/plain": [
       "no_not_interesting            2851\n",
       "harmful                       2851\n",
       "yes_calls_for_action          2851\n",
       "yes_blame_authorities         2851\n",
       "yes_discusses_cure            2851\n",
       "yes_discusses_action_taken    2851\n",
       "yes_asks_question             2851\n",
       "yes_contains_advice           2851\n",
       "yes_other                     2851\n",
       "Name: class_label, dtype: int64"
      ]
     },
     "execution_count": 93,
     "metadata": {},
     "output_type": "execute_result"
    }
   ],
   "source": [
    "upsampled_dfs = {}\n",
    "majority_class = max(df_worthy_train[\"class_label\"].value_counts())\n",
    "\n",
    "for key, val in label_dfs.items():\n",
    "    upsampled_dfs[\"upsampled_\" + key] = val.sample(n=majority_class, replace=True)\n",
    "\n",
    "df_upsampled = pd.concat(upsampled_dfs.values())\n",
    "df_upsampled[\"class_label\"].value_counts()"
   ]
  },
  {
   "cell_type": "markdown",
   "metadata": {},
   "source": [
    "## Combination of over- and undersampling"
   ]
  },
  {
   "cell_type": "code",
   "execution_count": 94,
   "metadata": {},
   "outputs": [
    {
     "data": {
      "text/plain": [
       "no_not_interesting            369\n",
       "harmful                       369\n",
       "yes_calls_for_action          369\n",
       "yes_blame_authorities         369\n",
       "yes_discusses_cure            369\n",
       "yes_discusses_action_taken    369\n",
       "yes_asks_question             369\n",
       "yes_contains_advice           369\n",
       "yes_other                     369\n",
       "Name: class_label, dtype: int64"
      ]
     },
     "execution_count": 94,
     "metadata": {},
     "output_type": "execute_result"
    }
   ],
   "source": [
    "meansampled_dfs = {}\n",
    "mean_val = df_worthy_train[\"class_label\"].value_counts().mean()\n",
    "\n",
    "for key, val in label_dfs.items():\n",
    "    meansampled_dfs[\"meansampled\" + key] = val.sample(n=int(mean_val), replace=True)\n",
    "\n",
    "df_meansampled = pd.concat(meansampled_dfs.values())\n",
    "df_meansampled[\"class_label\"].value_counts()"
   ]
  },
  {
   "cell_type": "markdown",
   "metadata": {},
   "source": [
    "#### Creating weights"
   ]
  },
  {
   "cell_type": "code",
   "execution_count": 95,
   "metadata": {},
   "outputs": [],
   "source": [
    "# https://towardsdatascience.com/how-to-handle-multiclass-imbalanced-data-say-no-to-smote-e9a7f393c310\n",
    "from sklearn.utils import class_weight\n",
    "class_weights = list(class_weight.compute_class_weight(class_weight= 'balanced', \n",
    "                                                       classes = np.unique(df_worthy_train[\"class_label\"]), \n",
    "                                                       y = df_worthy_train[\"class_label\"]))"
   ]
  },
  {
   "cell_type": "code",
   "execution_count": 96,
   "metadata": {},
   "outputs": [
    {
     "data": {
      "text/plain": [
       "no_not_interesting            2851\n",
       "harmful                        173\n",
       "yes_blame_authorities          138\n",
       "yes_calls_for_action            48\n",
       "yes_discusses_cure              42\n",
       "yes_discusses_action_taken      27\n",
       "yes_other                       25\n",
       "yes_contains_advice             12\n",
       "yes_asks_question                5\n",
       "Name: class_label, dtype: int64"
      ]
     },
     "execution_count": 96,
     "metadata": {},
     "output_type": "execute_result"
    }
   ],
   "source": [
    "df_worthy_train[\"class_label\"].value_counts()"
   ]
  },
  {
   "cell_type": "code",
   "execution_count": 97,
   "metadata": {},
   "outputs": [],
   "source": [
    "labels = df_worthy_train[\"class_label\"].value_counts().index.tolist()"
   ]
  },
  {
   "cell_type": "code",
   "execution_count": 98,
   "metadata": {},
   "outputs": [
    {
     "data": {
      "text/plain": [
       "{'no_not_interesting': 0.1294282707821817,\n",
       " 'harmful': 2.132947976878613,\n",
       " 'yes_blame_authorities': 2.6739130434782608,\n",
       " 'yes_calls_for_action': 7.6875,\n",
       " 'yes_discusses_cure': 8.785714285714286,\n",
       " 'yes_discusses_action_taken': 13.666666666666666,\n",
       " 'yes_other': 14.76,\n",
       " 'yes_contains_advice': 30.75,\n",
       " 'yes_asks_question': 73.8}"
      ]
     },
     "execution_count": 98,
     "metadata": {},
     "output_type": "execute_result"
    }
   ],
   "source": [
    "# Creating weights\n",
    "class_weights.sort()\n",
    "class_weights\n",
    "\n",
    "df_worthy_train[\"class_label\"].value_counts()\n",
    "\n",
    "weights = {}\n",
    "for index, weight in enumerate(class_weights):\n",
    "    weights[labels[index]] = weight\n",
    "weights"
   ]
  },
  {
   "cell_type": "markdown",
   "metadata": {},
   "source": [
    "# Preprocessing"
   ]
  },
  {
   "cell_type": "markdown",
   "metadata": {},
   "source": [
    "### Emoji Removal"
   ]
  },
  {
   "cell_type": "code",
   "execution_count": 99,
   "metadata": {},
   "outputs": [],
   "source": [
    "# Function to remove emojies when using the lemmatizer\n",
    "#https://poopcode.com/how-to-remove-emoji-from-text-in-python/\n",
    "def remove_emoji(string):\n",
    "    emoji_pattern = re.compile(\"[\"\n",
    "                               u\"\\U0001F600-\\U0001F64F\"  # emoticons\n",
    "                               u\"\\U0001F300-\\U0001F5FF\"  # symbols & pictographs\n",
    "                               u\"\\U0001F680-\\U0001F6FF\"  # transport & map symbols\n",
    "                               u\"\\U0001F1E0-\\U0001F1FF\"  # flags (iOS)\n",
    "                               u\"\\U00002500-\\U00002BEF\"  # chinese char\n",
    "                               u\"\\U00002702-\\U000027B0\"\n",
    "                               u\"\\U00002702-\\U000027B0\"\n",
    "                               u\"\\U000024C2-\\U0001F251\"\n",
    "                               u\"\\U0001f926-\\U0001f937\"\n",
    "                               u\"\\U00010000-\\U0010ffff\"\n",
    "                               u\"\\u2640-\\u2642\"\n",
    "                               u\"\\u2600-\\u2B55\"\n",
    "                               u\"\\u200d\"\n",
    "                               u\"\\u23cf\"\n",
    "                               u\"\\u23e9\"\n",
    "                               u\"\\u231a\"\n",
    "                               u\"\\ufe0f\"  # dingbats\n",
    "                               u\"\\u3030\"\n",
    "                               \"]+\", flags=re.UNICODE)\n",
    "    return emoji_pattern.sub(r'', string)"
   ]
  },
  {
   "cell_type": "markdown",
   "metadata": {},
   "source": [
    "### Custom Tokenizer"
   ]
  },
  {
   "cell_type": "code",
   "execution_count": 100,
   "metadata": {},
   "outputs": [],
   "source": [
    "def tokenize_text(text, method=\"stopwords\"):\n",
    "    \n",
    "    # Remove hyperlinks\n",
    "    text = re.sub(r'http\\S+', '', text)\n",
    "    \n",
    "    # Split sentence into words\n",
    "    tokens = []\n",
    "    for token in ngrams(text.split(), 1):\n",
    "        word = re.sub(r',', '', token[0]) #Remove commas\n",
    "        word = re.sub(r'[\\!\\.\\:]$', '', word) #Remove (.!:) at the end of tokens\n",
    "        word = re.sub(r'#', '', word) #Remove hashtags (not the text)\n",
    "        if word == \"—\": continue #Ignore dash\n",
    "        if word.find(\"@\") != -1: continue #Ignore tags\n",
    "        tokens.append(word)\n",
    "    tokens\n",
    "\n",
    "    # List comprehension to remove stopwords\n",
    "    if method != \"default\":\n",
    "        tokens = [x for x in tokens if x not in cachedStopWords]\n",
    "\n",
    "    # Perform stemming\n",
    "    if method == \"stemming\":\n",
    "        ps = PorterStemmer()\n",
    "        tokens = [ps.stem(x) for x in tokens]\n",
    "\n",
    "    # Perform lemmatization\n",
    "    if method == \"lemmatizer\":\n",
    "        # Remove emojies due to lemmatizer not handling them well\n",
    "        tokens = [x for x in tokens if remove_emoji(x) == x]\n",
    "        text = \" \".join(tokens)\n",
    "        doc = nlp(text)\n",
    "        tokens = [token.lemma_ for token in doc]\n",
    "\n",
    "    return tokens"
   ]
  },
  {
   "cell_type": "code",
   "execution_count": 101,
   "metadata": {},
   "outputs": [],
   "source": [
    "def tokenize_normal(text):\n",
    "    return tokenize_text(text, method=\"default\")\n",
    "\n",
    "def tokenize_stopwords(text):\n",
    "    return tokenize_text(text, method=\"stopwords\")\n",
    "\n",
    "def tokenize_stemming(text):\n",
    "    return tokenize_text(text, method=\"stemming\")\n",
    "\n",
    "def tokenize_lemmatizer(text):\n",
    "    return tokenize_text(text, method=\"lemmatizer\")"
   ]
  },
  {
   "cell_type": "code",
   "execution_count": 102,
   "metadata": {},
   "outputs": [],
   "source": [
    "def tokenize_df(df, text_col, method=\"default\"):\n",
    "    article_tokens = []\n",
    "    for i in range(len(df)):\n",
    "        text = df.iloc[i][text_col].lower()\n",
    "        article_tokens.append(tokenize_text(text, method))\n",
    "    df[\"tokens\"] = article_tokens"
   ]
  },
  {
   "cell_type": "code",
   "execution_count": 103,
   "metadata": {},
   "outputs": [],
   "source": [
    "tokenize_df(df_downsampled, \"tweet_text\", \"lemmatizer\")\n",
    "tokenize_df(df_upsampled, \"tweet_text\", \"lemmatizer\")\n",
    "tokenize_df(df_meansampled, \"tweet_text\", \"lemmatizer\")\n",
    "tokenize_df(df_worthy_train, \"tweet_text\", \"lemmatizer\")\n",
    "tokenize_df(df_worthy_test, \"tweet_text\", \"lemmatizer\")"
   ]
  },
  {
   "cell_type": "code",
   "execution_count": 104,
   "metadata": {},
   "outputs": [
    {
     "name": "stdout",
     "output_type": "stream",
     "text": [
      "['race', 'transmissible', 'potentially', 'deadly', 'strain(s', ')', 'italy', 'lock', 'reminiscent', 'march', '2020', 'except', 'world', 'covid-19', 'wild', 'type', 'vaccine', 'mask', 'shield', 'distance', 'ventilation', 'hand', 'hygiene'] \n",
      "\n",
      "['here', 'be', 'late', 'update', 'vaccine', 'covid', 'cases', 'york', 'region', 'one', 'message', 'get', 'story', 'vaccinate', 'senior', 'must', 'remind', 'protect', '2', 'week', 'get', '-', '&', 'amp', ';', 'still', 'need', 'cautious'] \n",
      "\n",
      "['awful', 'brit', 'supply', 'lot', 'covid-19', 'vaccines.this', 'come', 'shortly', 'eu', 'admit', 'claim', 'uk', 'impose', \"'\", 'outright', 'ban', 'export', 'vaccine', \"'\", 'indeed', 'porky', 'pie', 'time', 'drop', 'brit', 'bash', 'agenda', 'work', 'together'] \n",
      "\n",
      "['india', \"'s\", 'gift', '100000', 'covid-19', 'vaccine', 'arrive', 'barbado', 'early', 'today', 'special', 'moment', 'barbadian', 'want', 'thank', 'prime', 'minister', 'modi', 'quick', 'decisive', 'magnanimous', 'action', 'allow', 'we', 'beneficiary', 'vaccine'] \n",
      "\n",
      "['senate', 'pass', 'covid', 'relief', '$', '1400', 'relief', 'check', 'fund', 'vaccine', 'money', 'reopen', 'school', 'food', 'unemployment', 'rental', 'assistance', 'cut', 'child', 'poverty', 'half', 'help', 'small', 'business', 'must', 'end', 'pandemic', 'help', 'way']\n"
     ]
    }
   ],
   "source": [
    "print(df_downsampled.iloc[0][\"tokens\"], \"\\n\")\n",
    "print(df_upsampled.iloc[0][\"tokens\"], \"\\n\")\n",
    "print(df_meansampled.iloc[0][\"tokens\"], \"\\n\")\n",
    "print(df_worthy_train.iloc[0][\"tokens\"], \"\\n\")\n",
    "print(df_worthy_test.iloc[0][\"tokens\"])"
   ]
  },
  {
   "cell_type": "markdown",
   "metadata": {},
   "source": [
    "# Training"
   ]
  },
  {
   "cell_type": "markdown",
   "metadata": {},
   "source": [
    "### Bag of words"
   ]
  },
  {
   "cell_type": "code",
   "execution_count": 105,
   "metadata": {},
   "outputs": [],
   "source": [
    "from sklearn.feature_extraction.text import CountVectorizer # For creating a DTM (discrete values)\n",
    "from sklearn.feature_extraction.text import TfidfVectorizer # A weighted DTM (fractions)\n",
    "\n",
    "cv_dict = {}\n",
    "tfidf_dict = {}\n",
    "ngram_list = [1,2,3]\n",
    "for n in ngram_list:\n",
    "    cv_dict[n] = CountVectorizer(tokenizer=tokenize_lemmatizer, ngram_range=(n, n), max_features=5000)\n",
    "    tfidf_dict[n] = TfidfVectorizer(tokenizer=tokenize_stopwords, ngram_range=(n, n), max_features=5000)"
   ]
  },
  {
   "cell_type": "code",
   "execution_count": 106,
   "metadata": {},
   "outputs": [
    {
     "ename": "KeyboardInterrupt",
     "evalue": "",
     "output_type": "error",
     "traceback": [
      "\u001b[1;31m---------------------------------------------------------------------------\u001b[0m",
      "\u001b[1;31mKeyboardInterrupt\u001b[0m                         Traceback (most recent call last)",
      "\u001b[1;32mc:\\Users\\Emil\\DAT550\\Final_Project\\1d.ipynb Cell 34'\u001b[0m in \u001b[0;36m<module>\u001b[1;34m\u001b[0m\n\u001b[0;32m     <a href='vscode-notebook-cell:/c%3A/Users/Emil/DAT550/Final_Project/1d.ipynb#ch0000031?line=23'>24</a>\u001b[0m tweet_bow_test_d[n] \u001b[39m=\u001b[39m tweet_vec_d[n]\u001b[39m.\u001b[39mtransform(df_worthy_test[\u001b[39m\"\u001b[39m\u001b[39mtweet_text\u001b[39m\u001b[39m\"\u001b[39m]) \n\u001b[0;32m     <a href='vscode-notebook-cell:/c%3A/Users/Emil/DAT550/Final_Project/1d.ipynb#ch0000031?line=25'>26</a>\u001b[0m \u001b[39m# balanced upsample\u001b[39;00m\n\u001b[1;32m---> <a href='vscode-notebook-cell:/c%3A/Users/Emil/DAT550/Final_Project/1d.ipynb#ch0000031?line=26'>27</a>\u001b[0m tweet_vec_u[n] \u001b[39m=\u001b[39m cv_dict[n]\u001b[39m.\u001b[39;49mfit(df_upsampled[\u001b[39m\"\u001b[39;49m\u001b[39mtweet_text\u001b[39;49m\u001b[39m\"\u001b[39;49m]) \u001b[39m# DTM (CV, but normalized for relative frequency)\u001b[39;00m\n\u001b[0;32m     <a href='vscode-notebook-cell:/c%3A/Users/Emil/DAT550/Final_Project/1d.ipynb#ch0000031?line=27'>28</a>\u001b[0m tweet_bow_train_u[n] \u001b[39m=\u001b[39m tweet_vec_u[n]\u001b[39m.\u001b[39mtransform(df_upsampled[\u001b[39m\"\u001b[39m\u001b[39mtweet_text\u001b[39m\u001b[39m\"\u001b[39m]) \n\u001b[0;32m     <a href='vscode-notebook-cell:/c%3A/Users/Emil/DAT550/Final_Project/1d.ipynb#ch0000031?line=28'>29</a>\u001b[0m tweet_bow_test_u[n] \u001b[39m=\u001b[39m tweet_vec_u[n]\u001b[39m.\u001b[39mtransform(df_worthy_test[\u001b[39m\"\u001b[39m\u001b[39mtweet_text\u001b[39m\u001b[39m\"\u001b[39m]) \n",
      "File \u001b[1;32mc:\\Users\\Emil\\AppData\\Local\\Programs\\Python\\Python310\\lib\\site-packages\\sklearn\\feature_extraction\\text.py:1283\u001b[0m, in \u001b[0;36mCountVectorizer.fit\u001b[1;34m(self, raw_documents, y)\u001b[0m\n\u001b[0;32m   <a href='file:///c%3A/Users/Emil/AppData/Local/Programs/Python/Python310/lib/site-packages/sklearn/feature_extraction/text.py?line=1266'>1267</a>\u001b[0m \u001b[39m\"\"\"Learn a vocabulary dictionary of all tokens in the raw documents.\u001b[39;00m\n\u001b[0;32m   <a href='file:///c%3A/Users/Emil/AppData/Local/Programs/Python/Python310/lib/site-packages/sklearn/feature_extraction/text.py?line=1267'>1268</a>\u001b[0m \n\u001b[0;32m   <a href='file:///c%3A/Users/Emil/AppData/Local/Programs/Python/Python310/lib/site-packages/sklearn/feature_extraction/text.py?line=1268'>1269</a>\u001b[0m \u001b[39mParameters\u001b[39;00m\n\u001b[1;32m   (...)\u001b[0m\n\u001b[0;32m   <a href='file:///c%3A/Users/Emil/AppData/Local/Programs/Python/Python310/lib/site-packages/sklearn/feature_extraction/text.py?line=1279'>1280</a>\u001b[0m \u001b[39m    Fitted vectorizer.\u001b[39;00m\n\u001b[0;32m   <a href='file:///c%3A/Users/Emil/AppData/Local/Programs/Python/Python310/lib/site-packages/sklearn/feature_extraction/text.py?line=1280'>1281</a>\u001b[0m \u001b[39m\"\"\"\u001b[39;00m\n\u001b[0;32m   <a href='file:///c%3A/Users/Emil/AppData/Local/Programs/Python/Python310/lib/site-packages/sklearn/feature_extraction/text.py?line=1281'>1282</a>\u001b[0m \u001b[39mself\u001b[39m\u001b[39m.\u001b[39m_warn_for_unused_params()\n\u001b[1;32m-> <a href='file:///c%3A/Users/Emil/AppData/Local/Programs/Python/Python310/lib/site-packages/sklearn/feature_extraction/text.py?line=1282'>1283</a>\u001b[0m \u001b[39mself\u001b[39;49m\u001b[39m.\u001b[39;49mfit_transform(raw_documents)\n\u001b[0;32m   <a href='file:///c%3A/Users/Emil/AppData/Local/Programs/Python/Python310/lib/site-packages/sklearn/feature_extraction/text.py?line=1283'>1284</a>\u001b[0m \u001b[39mreturn\u001b[39;00m \u001b[39mself\u001b[39m\n",
      "File \u001b[1;32mc:\\Users\\Emil\\AppData\\Local\\Programs\\Python\\Python310\\lib\\site-packages\\sklearn\\feature_extraction\\text.py:1330\u001b[0m, in \u001b[0;36mCountVectorizer.fit_transform\u001b[1;34m(self, raw_documents, y)\u001b[0m\n\u001b[0;32m   <a href='file:///c%3A/Users/Emil/AppData/Local/Programs/Python/Python310/lib/site-packages/sklearn/feature_extraction/text.py?line=1321'>1322</a>\u001b[0m             warnings\u001b[39m.\u001b[39mwarn(\n\u001b[0;32m   <a href='file:///c%3A/Users/Emil/AppData/Local/Programs/Python/Python310/lib/site-packages/sklearn/feature_extraction/text.py?line=1322'>1323</a>\u001b[0m                 \u001b[39m\"\u001b[39m\u001b[39mUpper case characters found in\u001b[39m\u001b[39m\"\u001b[39m\n\u001b[0;32m   <a href='file:///c%3A/Users/Emil/AppData/Local/Programs/Python/Python310/lib/site-packages/sklearn/feature_extraction/text.py?line=1323'>1324</a>\u001b[0m                 \u001b[39m\"\u001b[39m\u001b[39m vocabulary while \u001b[39m\u001b[39m'\u001b[39m\u001b[39mlowercase\u001b[39m\u001b[39m'\u001b[39m\u001b[39m\"\u001b[39m\n\u001b[0;32m   <a href='file:///c%3A/Users/Emil/AppData/Local/Programs/Python/Python310/lib/site-packages/sklearn/feature_extraction/text.py?line=1324'>1325</a>\u001b[0m                 \u001b[39m\"\u001b[39m\u001b[39m is True. These entries will not\u001b[39m\u001b[39m\"\u001b[39m\n\u001b[0;32m   <a href='file:///c%3A/Users/Emil/AppData/Local/Programs/Python/Python310/lib/site-packages/sklearn/feature_extraction/text.py?line=1325'>1326</a>\u001b[0m                 \u001b[39m\"\u001b[39m\u001b[39m be matched with any documents\u001b[39m\u001b[39m\"\u001b[39m\n\u001b[0;32m   <a href='file:///c%3A/Users/Emil/AppData/Local/Programs/Python/Python310/lib/site-packages/sklearn/feature_extraction/text.py?line=1326'>1327</a>\u001b[0m             )\n\u001b[0;32m   <a href='file:///c%3A/Users/Emil/AppData/Local/Programs/Python/Python310/lib/site-packages/sklearn/feature_extraction/text.py?line=1327'>1328</a>\u001b[0m             \u001b[39mbreak\u001b[39;00m\n\u001b[1;32m-> <a href='file:///c%3A/Users/Emil/AppData/Local/Programs/Python/Python310/lib/site-packages/sklearn/feature_extraction/text.py?line=1329'>1330</a>\u001b[0m vocabulary, X \u001b[39m=\u001b[39m \u001b[39mself\u001b[39;49m\u001b[39m.\u001b[39;49m_count_vocab(raw_documents, \u001b[39mself\u001b[39;49m\u001b[39m.\u001b[39;49mfixed_vocabulary_)\n\u001b[0;32m   <a href='file:///c%3A/Users/Emil/AppData/Local/Programs/Python/Python310/lib/site-packages/sklearn/feature_extraction/text.py?line=1331'>1332</a>\u001b[0m \u001b[39mif\u001b[39;00m \u001b[39mself\u001b[39m\u001b[39m.\u001b[39mbinary:\n\u001b[0;32m   <a href='file:///c%3A/Users/Emil/AppData/Local/Programs/Python/Python310/lib/site-packages/sklearn/feature_extraction/text.py?line=1332'>1333</a>\u001b[0m     X\u001b[39m.\u001b[39mdata\u001b[39m.\u001b[39mfill(\u001b[39m1\u001b[39m)\n",
      "File \u001b[1;32mc:\\Users\\Emil\\AppData\\Local\\Programs\\Python\\Python310\\lib\\site-packages\\sklearn\\feature_extraction\\text.py:1201\u001b[0m, in \u001b[0;36mCountVectorizer._count_vocab\u001b[1;34m(self, raw_documents, fixed_vocab)\u001b[0m\n\u001b[0;32m   <a href='file:///c%3A/Users/Emil/AppData/Local/Programs/Python/Python310/lib/site-packages/sklearn/feature_extraction/text.py?line=1198'>1199</a>\u001b[0m \u001b[39mfor\u001b[39;00m doc \u001b[39min\u001b[39;00m raw_documents:\n\u001b[0;32m   <a href='file:///c%3A/Users/Emil/AppData/Local/Programs/Python/Python310/lib/site-packages/sklearn/feature_extraction/text.py?line=1199'>1200</a>\u001b[0m     feature_counter \u001b[39m=\u001b[39m {}\n\u001b[1;32m-> <a href='file:///c%3A/Users/Emil/AppData/Local/Programs/Python/Python310/lib/site-packages/sklearn/feature_extraction/text.py?line=1200'>1201</a>\u001b[0m     \u001b[39mfor\u001b[39;00m feature \u001b[39min\u001b[39;00m analyze(doc):\n\u001b[0;32m   <a href='file:///c%3A/Users/Emil/AppData/Local/Programs/Python/Python310/lib/site-packages/sklearn/feature_extraction/text.py?line=1201'>1202</a>\u001b[0m         \u001b[39mtry\u001b[39;00m:\n\u001b[0;32m   <a href='file:///c%3A/Users/Emil/AppData/Local/Programs/Python/Python310/lib/site-packages/sklearn/feature_extraction/text.py?line=1202'>1203</a>\u001b[0m             feature_idx \u001b[39m=\u001b[39m vocabulary[feature]\n",
      "File \u001b[1;32mc:\\Users\\Emil\\AppData\\Local\\Programs\\Python\\Python310\\lib\\site-packages\\sklearn\\feature_extraction\\text.py:115\u001b[0m, in \u001b[0;36m_analyze\u001b[1;34m(doc, analyzer, tokenizer, ngrams, preprocessor, decoder, stop_words)\u001b[0m\n\u001b[0;32m    <a href='file:///c%3A/Users/Emil/AppData/Local/Programs/Python/Python310/lib/site-packages/sklearn/feature_extraction/text.py?line=112'>113</a>\u001b[0m     doc \u001b[39m=\u001b[39m preprocessor(doc)\n\u001b[0;32m    <a href='file:///c%3A/Users/Emil/AppData/Local/Programs/Python/Python310/lib/site-packages/sklearn/feature_extraction/text.py?line=113'>114</a>\u001b[0m \u001b[39mif\u001b[39;00m tokenizer \u001b[39mis\u001b[39;00m \u001b[39mnot\u001b[39;00m \u001b[39mNone\u001b[39;00m:\n\u001b[1;32m--> <a href='file:///c%3A/Users/Emil/AppData/Local/Programs/Python/Python310/lib/site-packages/sklearn/feature_extraction/text.py?line=114'>115</a>\u001b[0m     doc \u001b[39m=\u001b[39m tokenizer(doc)\n\u001b[0;32m    <a href='file:///c%3A/Users/Emil/AppData/Local/Programs/Python/Python310/lib/site-packages/sklearn/feature_extraction/text.py?line=115'>116</a>\u001b[0m \u001b[39mif\u001b[39;00m ngrams \u001b[39mis\u001b[39;00m \u001b[39mnot\u001b[39;00m \u001b[39mNone\u001b[39;00m:\n\u001b[0;32m    <a href='file:///c%3A/Users/Emil/AppData/Local/Programs/Python/Python310/lib/site-packages/sklearn/feature_extraction/text.py?line=116'>117</a>\u001b[0m     \u001b[39mif\u001b[39;00m stop_words \u001b[39mis\u001b[39;00m \u001b[39mnot\u001b[39;00m \u001b[39mNone\u001b[39;00m:\n",
      "\u001b[1;32mc:\\Users\\Emil\\DAT550\\Final_Project\\1d.ipynb Cell 27'\u001b[0m in \u001b[0;36mtokenize_lemmatizer\u001b[1;34m(text)\u001b[0m\n\u001b[0;32m     <a href='vscode-notebook-cell:/c%3A/Users/Emil/DAT550/Final_Project/1d.ipynb#ch0000025?line=9'>10</a>\u001b[0m \u001b[39mdef\u001b[39;00m \u001b[39mtokenize_lemmatizer\u001b[39m(text):\n\u001b[1;32m---> <a href='vscode-notebook-cell:/c%3A/Users/Emil/DAT550/Final_Project/1d.ipynb#ch0000025?line=10'>11</a>\u001b[0m     \u001b[39mreturn\u001b[39;00m tokenize_text(text, method\u001b[39m=\u001b[39;49m\u001b[39m\"\u001b[39;49m\u001b[39mlemmatizer\u001b[39;49m\u001b[39m\"\u001b[39;49m)\n",
      "\u001b[1;32mc:\\Users\\Emil\\DAT550\\Final_Project\\1d.ipynb Cell 26'\u001b[0m in \u001b[0;36mtokenize_text\u001b[1;34m(text, method)\u001b[0m\n\u001b[0;32m     <a href='vscode-notebook-cell:/c%3A/Users/Emil/DAT550/Final_Project/1d.ipynb#ch0000024?line=28'>29</a>\u001b[0m     tokens \u001b[39m=\u001b[39m [x \u001b[39mfor\u001b[39;00m x \u001b[39min\u001b[39;00m tokens \u001b[39mif\u001b[39;00m remove_emoji(x) \u001b[39m==\u001b[39m x]\n\u001b[0;32m     <a href='vscode-notebook-cell:/c%3A/Users/Emil/DAT550/Final_Project/1d.ipynb#ch0000024?line=29'>30</a>\u001b[0m     text \u001b[39m=\u001b[39m \u001b[39m\"\u001b[39m\u001b[39m \u001b[39m\u001b[39m\"\u001b[39m\u001b[39m.\u001b[39mjoin(tokens)\n\u001b[1;32m---> <a href='vscode-notebook-cell:/c%3A/Users/Emil/DAT550/Final_Project/1d.ipynb#ch0000024?line=30'>31</a>\u001b[0m     doc \u001b[39m=\u001b[39m nlp(text)\n\u001b[0;32m     <a href='vscode-notebook-cell:/c%3A/Users/Emil/DAT550/Final_Project/1d.ipynb#ch0000024?line=31'>32</a>\u001b[0m     tokens \u001b[39m=\u001b[39m [token\u001b[39m.\u001b[39mlemma_ \u001b[39mfor\u001b[39;00m token \u001b[39min\u001b[39;00m doc]\n\u001b[0;32m     <a href='vscode-notebook-cell:/c%3A/Users/Emil/DAT550/Final_Project/1d.ipynb#ch0000024?line=33'>34</a>\u001b[0m \u001b[39mreturn\u001b[39;00m tokens\n",
      "File \u001b[1;32mc:\\Users\\Emil\\AppData\\Local\\Programs\\Python\\Python310\\lib\\site-packages\\spacy\\language.py:1017\u001b[0m, in \u001b[0;36mLanguage.__call__\u001b[1;34m(self, text, disable, component_cfg)\u001b[0m\n\u001b[0;32m   <a href='file:///c%3A/Users/Emil/AppData/Local/Programs/Python/Python310/lib/site-packages/spacy/language.py?line=1014'>1015</a>\u001b[0m     error_handler \u001b[39m=\u001b[39m proc\u001b[39m.\u001b[39mget_error_handler()\n\u001b[0;32m   <a href='file:///c%3A/Users/Emil/AppData/Local/Programs/Python/Python310/lib/site-packages/spacy/language.py?line=1015'>1016</a>\u001b[0m \u001b[39mtry\u001b[39;00m:\n\u001b[1;32m-> <a href='file:///c%3A/Users/Emil/AppData/Local/Programs/Python/Python310/lib/site-packages/spacy/language.py?line=1016'>1017</a>\u001b[0m     doc \u001b[39m=\u001b[39m proc(doc, \u001b[39m*\u001b[39m\u001b[39m*\u001b[39mcomponent_cfg\u001b[39m.\u001b[39mget(name, {}))  \u001b[39m# type: ignore[call-arg]\u001b[39;00m\n\u001b[0;32m   <a href='file:///c%3A/Users/Emil/AppData/Local/Programs/Python/Python310/lib/site-packages/spacy/language.py?line=1017'>1018</a>\u001b[0m \u001b[39mexcept\u001b[39;00m \u001b[39mKeyError\u001b[39;00m \u001b[39mas\u001b[39;00m e:\n\u001b[0;32m   <a href='file:///c%3A/Users/Emil/AppData/Local/Programs/Python/Python310/lib/site-packages/spacy/language.py?line=1018'>1019</a>\u001b[0m     \u001b[39m# This typically happens if a component is not initialized\u001b[39;00m\n\u001b[0;32m   <a href='file:///c%3A/Users/Emil/AppData/Local/Programs/Python/Python310/lib/site-packages/spacy/language.py?line=1019'>1020</a>\u001b[0m     \u001b[39mraise\u001b[39;00m \u001b[39mValueError\u001b[39;00m(Errors\u001b[39m.\u001b[39mE109\u001b[39m.\u001b[39mformat(name\u001b[39m=\u001b[39mname)) \u001b[39mfrom\u001b[39;00m \u001b[39me\u001b[39;00m\n",
      "File \u001b[1;32mc:\\Users\\Emil\\AppData\\Local\\Programs\\Python\\Python310\\lib\\site-packages\\spacy\\pipeline\\trainable_pipe.pyx:52\u001b[0m, in \u001b[0;36mspacy.pipeline.trainable_pipe.TrainablePipe.__call__\u001b[1;34m()\u001b[0m\n",
      "File \u001b[1;32mc:\\Users\\Emil\\AppData\\Local\\Programs\\Python\\Python310\\lib\\site-packages\\spacy\\pipeline\\transition_parser.pyx:250\u001b[0m, in \u001b[0;36mspacy.pipeline.transition_parser.Parser.predict\u001b[1;34m()\u001b[0m\n",
      "File \u001b[1;32mc:\\Users\\Emil\\AppData\\Local\\Programs\\Python\\Python310\\lib\\site-packages\\spacy\\pipeline\\transition_parser.pyx:265\u001b[0m, in \u001b[0;36mspacy.pipeline.transition_parser.Parser.greedy_parse\u001b[1;34m()\u001b[0m\n",
      "File \u001b[1;32mc:\\Users\\Emil\\AppData\\Local\\Programs\\Python\\Python310\\lib\\site-packages\\thinc\\model.py:315\u001b[0m, in \u001b[0;36mModel.predict\u001b[1;34m(self, X)\u001b[0m\n\u001b[0;32m    <a href='file:///c%3A/Users/Emil/AppData/Local/Programs/Python/Python310/lib/site-packages/thinc/model.py?line=310'>311</a>\u001b[0m \u001b[39mdef\u001b[39;00m \u001b[39mpredict\u001b[39m(\u001b[39mself\u001b[39m, X: InT) \u001b[39m-\u001b[39m\u001b[39m>\u001b[39m OutT:\n\u001b[0;32m    <a href='file:///c%3A/Users/Emil/AppData/Local/Programs/Python/Python310/lib/site-packages/thinc/model.py?line=311'>312</a>\u001b[0m     \u001b[39m\"\"\"Call the model's `forward` function with `is_train=False`, and return\u001b[39;00m\n\u001b[0;32m    <a href='file:///c%3A/Users/Emil/AppData/Local/Programs/Python/Python310/lib/site-packages/thinc/model.py?line=312'>313</a>\u001b[0m \u001b[39m    only the output, instead of the `(output, callback)` tuple.\u001b[39;00m\n\u001b[0;32m    <a href='file:///c%3A/Users/Emil/AppData/Local/Programs/Python/Python310/lib/site-packages/thinc/model.py?line=313'>314</a>\u001b[0m \u001b[39m    \"\"\"\u001b[39;00m\n\u001b[1;32m--> <a href='file:///c%3A/Users/Emil/AppData/Local/Programs/Python/Python310/lib/site-packages/thinc/model.py?line=314'>315</a>\u001b[0m     \u001b[39mreturn\u001b[39;00m \u001b[39mself\u001b[39;49m\u001b[39m.\u001b[39;49m_func(\u001b[39mself\u001b[39;49m, X, is_train\u001b[39m=\u001b[39;49m\u001b[39mFalse\u001b[39;49;00m)[\u001b[39m0\u001b[39m]\n",
      "File \u001b[1;32mc:\\Users\\Emil\\AppData\\Local\\Programs\\Python\\Python310\\lib\\site-packages\\spacy\\ml\\tb_framework.py:33\u001b[0m, in \u001b[0;36mforward\u001b[1;34m(model, X, is_train)\u001b[0m\n\u001b[0;32m     <a href='file:///c%3A/Users/Emil/AppData/Local/Programs/Python/Python310/lib/site-packages/spacy/ml/tb_framework.py?line=31'>32</a>\u001b[0m \u001b[39mdef\u001b[39;00m \u001b[39mforward\u001b[39m(model, X, is_train):\n\u001b[1;32m---> <a href='file:///c%3A/Users/Emil/AppData/Local/Programs/Python/Python310/lib/site-packages/spacy/ml/tb_framework.py?line=32'>33</a>\u001b[0m     step_model \u001b[39m=\u001b[39m ParserStepModel(\n\u001b[0;32m     <a href='file:///c%3A/Users/Emil/AppData/Local/Programs/Python/Python310/lib/site-packages/spacy/ml/tb_framework.py?line=33'>34</a>\u001b[0m         X,\n\u001b[0;32m     <a href='file:///c%3A/Users/Emil/AppData/Local/Programs/Python/Python310/lib/site-packages/spacy/ml/tb_framework.py?line=34'>35</a>\u001b[0m         model\u001b[39m.\u001b[39;49mlayers,\n\u001b[0;32m     <a href='file:///c%3A/Users/Emil/AppData/Local/Programs/Python/Python310/lib/site-packages/spacy/ml/tb_framework.py?line=35'>36</a>\u001b[0m         unseen_classes\u001b[39m=\u001b[39;49mmodel\u001b[39m.\u001b[39;49mattrs[\u001b[39m\"\u001b[39;49m\u001b[39munseen_classes\u001b[39;49m\u001b[39m\"\u001b[39;49m],\n\u001b[0;32m     <a href='file:///c%3A/Users/Emil/AppData/Local/Programs/Python/Python310/lib/site-packages/spacy/ml/tb_framework.py?line=36'>37</a>\u001b[0m         train\u001b[39m=\u001b[39;49mis_train,\n\u001b[0;32m     <a href='file:///c%3A/Users/Emil/AppData/Local/Programs/Python/Python310/lib/site-packages/spacy/ml/tb_framework.py?line=37'>38</a>\u001b[0m         has_upper\u001b[39m=\u001b[39;49mmodel\u001b[39m.\u001b[39;49mattrs[\u001b[39m\"\u001b[39;49m\u001b[39mhas_upper\u001b[39;49m\u001b[39m\"\u001b[39;49m],\n\u001b[0;32m     <a href='file:///c%3A/Users/Emil/AppData/Local/Programs/Python/Python310/lib/site-packages/spacy/ml/tb_framework.py?line=38'>39</a>\u001b[0m     )\n\u001b[0;32m     <a href='file:///c%3A/Users/Emil/AppData/Local/Programs/Python/Python310/lib/site-packages/spacy/ml/tb_framework.py?line=40'>41</a>\u001b[0m     \u001b[39mreturn\u001b[39;00m step_model, step_model\u001b[39m.\u001b[39mfinish_steps\n",
      "File \u001b[1;32mc:\\Users\\Emil\\AppData\\Local\\Programs\\Python\\Python310\\lib\\site-packages\\spacy\\ml\\parser_model.pyx:216\u001b[0m, in \u001b[0;36mspacy.ml.parser_model.ParserStepModel.__init__\u001b[1;34m()\u001b[0m\n",
      "File \u001b[1;32mc:\\Users\\Emil\\AppData\\Local\\Programs\\Python\\Python310\\lib\\site-packages\\thinc\\model.py:291\u001b[0m, in \u001b[0;36mModel.__call__\u001b[1;34m(self, X, is_train)\u001b[0m\n\u001b[0;32m    <a href='file:///c%3A/Users/Emil/AppData/Local/Programs/Python/Python310/lib/site-packages/thinc/model.py?line=287'>288</a>\u001b[0m \u001b[39mdef\u001b[39;00m \u001b[39m__call__\u001b[39m(\u001b[39mself\u001b[39m, X: InT, is_train: \u001b[39mbool\u001b[39m) \u001b[39m-\u001b[39m\u001b[39m>\u001b[39m Tuple[OutT, Callable]:\n\u001b[0;32m    <a href='file:///c%3A/Users/Emil/AppData/Local/Programs/Python/Python310/lib/site-packages/thinc/model.py?line=288'>289</a>\u001b[0m     \u001b[39m\"\"\"Call the model's `forward` function, returning the output and a\u001b[39;00m\n\u001b[0;32m    <a href='file:///c%3A/Users/Emil/AppData/Local/Programs/Python/Python310/lib/site-packages/thinc/model.py?line=289'>290</a>\u001b[0m \u001b[39m    callback to compute the gradients via backpropagation.\"\"\"\u001b[39;00m\n\u001b[1;32m--> <a href='file:///c%3A/Users/Emil/AppData/Local/Programs/Python/Python310/lib/site-packages/thinc/model.py?line=290'>291</a>\u001b[0m     \u001b[39mreturn\u001b[39;00m \u001b[39mself\u001b[39;49m\u001b[39m.\u001b[39;49m_func(\u001b[39mself\u001b[39;49m, X, is_train\u001b[39m=\u001b[39;49mis_train)\n",
      "File \u001b[1;32mc:\\Users\\Emil\\AppData\\Local\\Programs\\Python\\Python310\\lib\\site-packages\\thinc\\layers\\chain.py:54\u001b[0m, in \u001b[0;36mforward\u001b[1;34m(model, X, is_train)\u001b[0m\n\u001b[0;32m     <a href='file:///c%3A/Users/Emil/AppData/Local/Programs/Python/Python310/lib/site-packages/thinc/layers/chain.py?line=51'>52</a>\u001b[0m callbacks \u001b[39m=\u001b[39m []\n\u001b[0;32m     <a href='file:///c%3A/Users/Emil/AppData/Local/Programs/Python/Python310/lib/site-packages/thinc/layers/chain.py?line=52'>53</a>\u001b[0m \u001b[39mfor\u001b[39;00m layer \u001b[39min\u001b[39;00m model\u001b[39m.\u001b[39mlayers:\n\u001b[1;32m---> <a href='file:///c%3A/Users/Emil/AppData/Local/Programs/Python/Python310/lib/site-packages/thinc/layers/chain.py?line=53'>54</a>\u001b[0m     Y, inc_layer_grad \u001b[39m=\u001b[39m layer(X, is_train\u001b[39m=\u001b[39;49mis_train)\n\u001b[0;32m     <a href='file:///c%3A/Users/Emil/AppData/Local/Programs/Python/Python310/lib/site-packages/thinc/layers/chain.py?line=54'>55</a>\u001b[0m     callbacks\u001b[39m.\u001b[39mappend(inc_layer_grad)\n\u001b[0;32m     <a href='file:///c%3A/Users/Emil/AppData/Local/Programs/Python/Python310/lib/site-packages/thinc/layers/chain.py?line=55'>56</a>\u001b[0m     X \u001b[39m=\u001b[39m Y\n",
      "File \u001b[1;32mc:\\Users\\Emil\\AppData\\Local\\Programs\\Python\\Python310\\lib\\site-packages\\thinc\\model.py:291\u001b[0m, in \u001b[0;36mModel.__call__\u001b[1;34m(self, X, is_train)\u001b[0m\n\u001b[0;32m    <a href='file:///c%3A/Users/Emil/AppData/Local/Programs/Python/Python310/lib/site-packages/thinc/model.py?line=287'>288</a>\u001b[0m \u001b[39mdef\u001b[39;00m \u001b[39m__call__\u001b[39m(\u001b[39mself\u001b[39m, X: InT, is_train: \u001b[39mbool\u001b[39m) \u001b[39m-\u001b[39m\u001b[39m>\u001b[39m Tuple[OutT, Callable]:\n\u001b[0;32m    <a href='file:///c%3A/Users/Emil/AppData/Local/Programs/Python/Python310/lib/site-packages/thinc/model.py?line=288'>289</a>\u001b[0m     \u001b[39m\"\"\"Call the model's `forward` function, returning the output and a\u001b[39;00m\n\u001b[0;32m    <a href='file:///c%3A/Users/Emil/AppData/Local/Programs/Python/Python310/lib/site-packages/thinc/model.py?line=289'>290</a>\u001b[0m \u001b[39m    callback to compute the gradients via backpropagation.\"\"\"\u001b[39;00m\n\u001b[1;32m--> <a href='file:///c%3A/Users/Emil/AppData/Local/Programs/Python/Python310/lib/site-packages/thinc/model.py?line=290'>291</a>\u001b[0m     \u001b[39mreturn\u001b[39;00m \u001b[39mself\u001b[39;49m\u001b[39m.\u001b[39;49m_func(\u001b[39mself\u001b[39;49m, X, is_train\u001b[39m=\u001b[39;49mis_train)\n",
      "File \u001b[1;32mc:\\Users\\Emil\\AppData\\Local\\Programs\\Python\\Python310\\lib\\site-packages\\thinc\\layers\\chain.py:54\u001b[0m, in \u001b[0;36mforward\u001b[1;34m(model, X, is_train)\u001b[0m\n\u001b[0;32m     <a href='file:///c%3A/Users/Emil/AppData/Local/Programs/Python/Python310/lib/site-packages/thinc/layers/chain.py?line=51'>52</a>\u001b[0m callbacks \u001b[39m=\u001b[39m []\n\u001b[0;32m     <a href='file:///c%3A/Users/Emil/AppData/Local/Programs/Python/Python310/lib/site-packages/thinc/layers/chain.py?line=52'>53</a>\u001b[0m \u001b[39mfor\u001b[39;00m layer \u001b[39min\u001b[39;00m model\u001b[39m.\u001b[39mlayers:\n\u001b[1;32m---> <a href='file:///c%3A/Users/Emil/AppData/Local/Programs/Python/Python310/lib/site-packages/thinc/layers/chain.py?line=53'>54</a>\u001b[0m     Y, inc_layer_grad \u001b[39m=\u001b[39m layer(X, is_train\u001b[39m=\u001b[39;49mis_train)\n\u001b[0;32m     <a href='file:///c%3A/Users/Emil/AppData/Local/Programs/Python/Python310/lib/site-packages/thinc/layers/chain.py?line=54'>55</a>\u001b[0m     callbacks\u001b[39m.\u001b[39mappend(inc_layer_grad)\n\u001b[0;32m     <a href='file:///c%3A/Users/Emil/AppData/Local/Programs/Python/Python310/lib/site-packages/thinc/layers/chain.py?line=55'>56</a>\u001b[0m     X \u001b[39m=\u001b[39m Y\n",
      "    \u001b[1;31m[... skipping similar frames: Model.__call__ at line 291 (1 times)]\u001b[0m\n",
      "File \u001b[1;32mc:\\Users\\Emil\\AppData\\Local\\Programs\\Python\\Python310\\lib\\site-packages\\thinc\\layers\\chain.py:54\u001b[0m, in \u001b[0;36mforward\u001b[1;34m(model, X, is_train)\u001b[0m\n\u001b[0;32m     <a href='file:///c%3A/Users/Emil/AppData/Local/Programs/Python/Python310/lib/site-packages/thinc/layers/chain.py?line=51'>52</a>\u001b[0m callbacks \u001b[39m=\u001b[39m []\n\u001b[0;32m     <a href='file:///c%3A/Users/Emil/AppData/Local/Programs/Python/Python310/lib/site-packages/thinc/layers/chain.py?line=52'>53</a>\u001b[0m \u001b[39mfor\u001b[39;00m layer \u001b[39min\u001b[39;00m model\u001b[39m.\u001b[39mlayers:\n\u001b[1;32m---> <a href='file:///c%3A/Users/Emil/AppData/Local/Programs/Python/Python310/lib/site-packages/thinc/layers/chain.py?line=53'>54</a>\u001b[0m     Y, inc_layer_grad \u001b[39m=\u001b[39m layer(X, is_train\u001b[39m=\u001b[39;49mis_train)\n\u001b[0;32m     <a href='file:///c%3A/Users/Emil/AppData/Local/Programs/Python/Python310/lib/site-packages/thinc/layers/chain.py?line=54'>55</a>\u001b[0m     callbacks\u001b[39m.\u001b[39mappend(inc_layer_grad)\n\u001b[0;32m     <a href='file:///c%3A/Users/Emil/AppData/Local/Programs/Python/Python310/lib/site-packages/thinc/layers/chain.py?line=55'>56</a>\u001b[0m     X \u001b[39m=\u001b[39m Y\n",
      "File \u001b[1;32mc:\\Users\\Emil\\AppData\\Local\\Programs\\Python\\Python310\\lib\\site-packages\\thinc\\model.py:291\u001b[0m, in \u001b[0;36mModel.__call__\u001b[1;34m(self, X, is_train)\u001b[0m\n\u001b[0;32m    <a href='file:///c%3A/Users/Emil/AppData/Local/Programs/Python/Python310/lib/site-packages/thinc/model.py?line=287'>288</a>\u001b[0m \u001b[39mdef\u001b[39;00m \u001b[39m__call__\u001b[39m(\u001b[39mself\u001b[39m, X: InT, is_train: \u001b[39mbool\u001b[39m) \u001b[39m-\u001b[39m\u001b[39m>\u001b[39m Tuple[OutT, Callable]:\n\u001b[0;32m    <a href='file:///c%3A/Users/Emil/AppData/Local/Programs/Python/Python310/lib/site-packages/thinc/model.py?line=288'>289</a>\u001b[0m     \u001b[39m\"\"\"Call the model's `forward` function, returning the output and a\u001b[39;00m\n\u001b[0;32m    <a href='file:///c%3A/Users/Emil/AppData/Local/Programs/Python/Python310/lib/site-packages/thinc/model.py?line=289'>290</a>\u001b[0m \u001b[39m    callback to compute the gradients via backpropagation.\"\"\"\u001b[39;00m\n\u001b[1;32m--> <a href='file:///c%3A/Users/Emil/AppData/Local/Programs/Python/Python310/lib/site-packages/thinc/model.py?line=290'>291</a>\u001b[0m     \u001b[39mreturn\u001b[39;00m \u001b[39mself\u001b[39;49m\u001b[39m.\u001b[39;49m_func(\u001b[39mself\u001b[39;49m, X, is_train\u001b[39m=\u001b[39;49mis_train)\n",
      "File \u001b[1;32mc:\\Users\\Emil\\AppData\\Local\\Programs\\Python\\Python310\\lib\\site-packages\\thinc\\layers\\with_array.py:30\u001b[0m, in \u001b[0;36mforward\u001b[1;34m(model, Xseq, is_train)\u001b[0m\n\u001b[0;32m     <a href='file:///c%3A/Users/Emil/AppData/Local/Programs/Python/Python310/lib/site-packages/thinc/layers/with_array.py?line=27'>28</a>\u001b[0m \u001b[39mdef\u001b[39;00m \u001b[39mforward\u001b[39m(model: Model[SeqT, SeqT], Xseq: SeqT, is_train: \u001b[39mbool\u001b[39m):\n\u001b[0;32m     <a href='file:///c%3A/Users/Emil/AppData/Local/Programs/Python/Python310/lib/site-packages/thinc/layers/with_array.py?line=28'>29</a>\u001b[0m     \u001b[39mif\u001b[39;00m \u001b[39misinstance\u001b[39m(Xseq, Ragged):\n\u001b[1;32m---> <a href='file:///c%3A/Users/Emil/AppData/Local/Programs/Python/Python310/lib/site-packages/thinc/layers/with_array.py?line=29'>30</a>\u001b[0m         \u001b[39mreturn\u001b[39;00m _ragged_forward(\n\u001b[0;32m     <a href='file:///c%3A/Users/Emil/AppData/Local/Programs/Python/Python310/lib/site-packages/thinc/layers/with_array.py?line=30'>31</a>\u001b[0m             cast(Model[Ragged, Ragged], model), cast(Ragged, Xseq), is_train\n\u001b[0;32m     <a href='file:///c%3A/Users/Emil/AppData/Local/Programs/Python/Python310/lib/site-packages/thinc/layers/with_array.py?line=31'>32</a>\u001b[0m         )\n\u001b[0;32m     <a href='file:///c%3A/Users/Emil/AppData/Local/Programs/Python/Python310/lib/site-packages/thinc/layers/with_array.py?line=32'>33</a>\u001b[0m     \u001b[39melif\u001b[39;00m \u001b[39misinstance\u001b[39m(Xseq, Padded):\n\u001b[0;32m     <a href='file:///c%3A/Users/Emil/AppData/Local/Programs/Python/Python310/lib/site-packages/thinc/layers/with_array.py?line=33'>34</a>\u001b[0m         \u001b[39mreturn\u001b[39;00m _padded_forward(\n\u001b[0;32m     <a href='file:///c%3A/Users/Emil/AppData/Local/Programs/Python/Python310/lib/site-packages/thinc/layers/with_array.py?line=34'>35</a>\u001b[0m             cast(Model[Padded, Padded], model), cast(Padded, Xseq), is_train\n\u001b[0;32m     <a href='file:///c%3A/Users/Emil/AppData/Local/Programs/Python/Python310/lib/site-packages/thinc/layers/with_array.py?line=35'>36</a>\u001b[0m         )\n",
      "File \u001b[1;32mc:\\Users\\Emil\\AppData\\Local\\Programs\\Python\\Python310\\lib\\site-packages\\thinc\\layers\\with_array.py:90\u001b[0m, in \u001b[0;36m_ragged_forward\u001b[1;34m(model, Xr, is_train)\u001b[0m\n\u001b[0;32m     <a href='file:///c%3A/Users/Emil/AppData/Local/Programs/Python/Python310/lib/site-packages/thinc/layers/with_array.py?line=85'>86</a>\u001b[0m \u001b[39mdef\u001b[39;00m \u001b[39m_ragged_forward\u001b[39m(\n\u001b[0;32m     <a href='file:///c%3A/Users/Emil/AppData/Local/Programs/Python/Python310/lib/site-packages/thinc/layers/with_array.py?line=86'>87</a>\u001b[0m     model: Model[Ragged, Ragged], Xr: Ragged, is_train: \u001b[39mbool\u001b[39m\n\u001b[0;32m     <a href='file:///c%3A/Users/Emil/AppData/Local/Programs/Python/Python310/lib/site-packages/thinc/layers/with_array.py?line=87'>88</a>\u001b[0m ) \u001b[39m-\u001b[39m\u001b[39m>\u001b[39m Tuple[Ragged, Callable]:\n\u001b[0;32m     <a href='file:///c%3A/Users/Emil/AppData/Local/Programs/Python/Python310/lib/site-packages/thinc/layers/with_array.py?line=88'>89</a>\u001b[0m     layer: Model[ArrayXd, ArrayXd] \u001b[39m=\u001b[39m model\u001b[39m.\u001b[39mlayers[\u001b[39m0\u001b[39m]\n\u001b[1;32m---> <a href='file:///c%3A/Users/Emil/AppData/Local/Programs/Python/Python310/lib/site-packages/thinc/layers/with_array.py?line=89'>90</a>\u001b[0m     Y, get_dX \u001b[39m=\u001b[39m layer(Xr\u001b[39m.\u001b[39;49mdataXd, is_train)\n\u001b[0;32m     <a href='file:///c%3A/Users/Emil/AppData/Local/Programs/Python/Python310/lib/site-packages/thinc/layers/with_array.py?line=91'>92</a>\u001b[0m     \u001b[39mdef\u001b[39;00m \u001b[39mbackprop\u001b[39m(dYr: Ragged) \u001b[39m-\u001b[39m\u001b[39m>\u001b[39m Ragged:\n\u001b[0;32m     <a href='file:///c%3A/Users/Emil/AppData/Local/Programs/Python/Python310/lib/site-packages/thinc/layers/with_array.py?line=92'>93</a>\u001b[0m         \u001b[39mreturn\u001b[39;00m Ragged(get_dX(dYr\u001b[39m.\u001b[39mdataXd), dYr\u001b[39m.\u001b[39mlengths)\n",
      "File \u001b[1;32mc:\\Users\\Emil\\AppData\\Local\\Programs\\Python\\Python310\\lib\\site-packages\\thinc\\model.py:291\u001b[0m, in \u001b[0;36mModel.__call__\u001b[1;34m(self, X, is_train)\u001b[0m\n\u001b[0;32m    <a href='file:///c%3A/Users/Emil/AppData/Local/Programs/Python/Python310/lib/site-packages/thinc/model.py?line=287'>288</a>\u001b[0m \u001b[39mdef\u001b[39;00m \u001b[39m__call__\u001b[39m(\u001b[39mself\u001b[39m, X: InT, is_train: \u001b[39mbool\u001b[39m) \u001b[39m-\u001b[39m\u001b[39m>\u001b[39m Tuple[OutT, Callable]:\n\u001b[0;32m    <a href='file:///c%3A/Users/Emil/AppData/Local/Programs/Python/Python310/lib/site-packages/thinc/model.py?line=288'>289</a>\u001b[0m     \u001b[39m\"\"\"Call the model's `forward` function, returning the output and a\u001b[39;00m\n\u001b[0;32m    <a href='file:///c%3A/Users/Emil/AppData/Local/Programs/Python/Python310/lib/site-packages/thinc/model.py?line=289'>290</a>\u001b[0m \u001b[39m    callback to compute the gradients via backpropagation.\"\"\"\u001b[39;00m\n\u001b[1;32m--> <a href='file:///c%3A/Users/Emil/AppData/Local/Programs/Python/Python310/lib/site-packages/thinc/model.py?line=290'>291</a>\u001b[0m     \u001b[39mreturn\u001b[39;00m \u001b[39mself\u001b[39;49m\u001b[39m.\u001b[39;49m_func(\u001b[39mself\u001b[39;49m, X, is_train\u001b[39m=\u001b[39;49mis_train)\n",
      "File \u001b[1;32mc:\\Users\\Emil\\AppData\\Local\\Programs\\Python\\Python310\\lib\\site-packages\\thinc\\layers\\chain.py:54\u001b[0m, in \u001b[0;36mforward\u001b[1;34m(model, X, is_train)\u001b[0m\n\u001b[0;32m     <a href='file:///c%3A/Users/Emil/AppData/Local/Programs/Python/Python310/lib/site-packages/thinc/layers/chain.py?line=51'>52</a>\u001b[0m callbacks \u001b[39m=\u001b[39m []\n\u001b[0;32m     <a href='file:///c%3A/Users/Emil/AppData/Local/Programs/Python/Python310/lib/site-packages/thinc/layers/chain.py?line=52'>53</a>\u001b[0m \u001b[39mfor\u001b[39;00m layer \u001b[39min\u001b[39;00m model\u001b[39m.\u001b[39mlayers:\n\u001b[1;32m---> <a href='file:///c%3A/Users/Emil/AppData/Local/Programs/Python/Python310/lib/site-packages/thinc/layers/chain.py?line=53'>54</a>\u001b[0m     Y, inc_layer_grad \u001b[39m=\u001b[39m layer(X, is_train\u001b[39m=\u001b[39;49mis_train)\n\u001b[0;32m     <a href='file:///c%3A/Users/Emil/AppData/Local/Programs/Python/Python310/lib/site-packages/thinc/layers/chain.py?line=54'>55</a>\u001b[0m     callbacks\u001b[39m.\u001b[39mappend(inc_layer_grad)\n\u001b[0;32m     <a href='file:///c%3A/Users/Emil/AppData/Local/Programs/Python/Python310/lib/site-packages/thinc/layers/chain.py?line=55'>56</a>\u001b[0m     X \u001b[39m=\u001b[39m Y\n",
      "File \u001b[1;32mc:\\Users\\Emil\\AppData\\Local\\Programs\\Python\\Python310\\lib\\site-packages\\thinc\\model.py:291\u001b[0m, in \u001b[0;36mModel.__call__\u001b[1;34m(self, X, is_train)\u001b[0m\n\u001b[0;32m    <a href='file:///c%3A/Users/Emil/AppData/Local/Programs/Python/Python310/lib/site-packages/thinc/model.py?line=287'>288</a>\u001b[0m \u001b[39mdef\u001b[39;00m \u001b[39m__call__\u001b[39m(\u001b[39mself\u001b[39m, X: InT, is_train: \u001b[39mbool\u001b[39m) \u001b[39m-\u001b[39m\u001b[39m>\u001b[39m Tuple[OutT, Callable]:\n\u001b[0;32m    <a href='file:///c%3A/Users/Emil/AppData/Local/Programs/Python/Python310/lib/site-packages/thinc/model.py?line=288'>289</a>\u001b[0m     \u001b[39m\"\"\"Call the model's `forward` function, returning the output and a\u001b[39;00m\n\u001b[0;32m    <a href='file:///c%3A/Users/Emil/AppData/Local/Programs/Python/Python310/lib/site-packages/thinc/model.py?line=289'>290</a>\u001b[0m \u001b[39m    callback to compute the gradients via backpropagation.\"\"\"\u001b[39;00m\n\u001b[1;32m--> <a href='file:///c%3A/Users/Emil/AppData/Local/Programs/Python/Python310/lib/site-packages/thinc/model.py?line=290'>291</a>\u001b[0m     \u001b[39mreturn\u001b[39;00m \u001b[39mself\u001b[39;49m\u001b[39m.\u001b[39;49m_func(\u001b[39mself\u001b[39;49m, X, is_train\u001b[39m=\u001b[39;49mis_train)\n",
      "File \u001b[1;32mc:\\Users\\Emil\\AppData\\Local\\Programs\\Python\\Python310\\lib\\site-packages\\thinc\\layers\\chain.py:54\u001b[0m, in \u001b[0;36mforward\u001b[1;34m(model, X, is_train)\u001b[0m\n\u001b[0;32m     <a href='file:///c%3A/Users/Emil/AppData/Local/Programs/Python/Python310/lib/site-packages/thinc/layers/chain.py?line=51'>52</a>\u001b[0m callbacks \u001b[39m=\u001b[39m []\n\u001b[0;32m     <a href='file:///c%3A/Users/Emil/AppData/Local/Programs/Python/Python310/lib/site-packages/thinc/layers/chain.py?line=52'>53</a>\u001b[0m \u001b[39mfor\u001b[39;00m layer \u001b[39min\u001b[39;00m model\u001b[39m.\u001b[39mlayers:\n\u001b[1;32m---> <a href='file:///c%3A/Users/Emil/AppData/Local/Programs/Python/Python310/lib/site-packages/thinc/layers/chain.py?line=53'>54</a>\u001b[0m     Y, inc_layer_grad \u001b[39m=\u001b[39m layer(X, is_train\u001b[39m=\u001b[39;49mis_train)\n\u001b[0;32m     <a href='file:///c%3A/Users/Emil/AppData/Local/Programs/Python/Python310/lib/site-packages/thinc/layers/chain.py?line=54'>55</a>\u001b[0m     callbacks\u001b[39m.\u001b[39mappend(inc_layer_grad)\n\u001b[0;32m     <a href='file:///c%3A/Users/Emil/AppData/Local/Programs/Python/Python310/lib/site-packages/thinc/layers/chain.py?line=55'>56</a>\u001b[0m     X \u001b[39m=\u001b[39m Y\n",
      "File \u001b[1;32mc:\\Users\\Emil\\AppData\\Local\\Programs\\Python\\Python310\\lib\\site-packages\\thinc\\model.py:291\u001b[0m, in \u001b[0;36mModel.__call__\u001b[1;34m(self, X, is_train)\u001b[0m\n\u001b[0;32m    <a href='file:///c%3A/Users/Emil/AppData/Local/Programs/Python/Python310/lib/site-packages/thinc/model.py?line=287'>288</a>\u001b[0m \u001b[39mdef\u001b[39;00m \u001b[39m__call__\u001b[39m(\u001b[39mself\u001b[39m, X: InT, is_train: \u001b[39mbool\u001b[39m) \u001b[39m-\u001b[39m\u001b[39m>\u001b[39m Tuple[OutT, Callable]:\n\u001b[0;32m    <a href='file:///c%3A/Users/Emil/AppData/Local/Programs/Python/Python310/lib/site-packages/thinc/model.py?line=288'>289</a>\u001b[0m     \u001b[39m\"\"\"Call the model's `forward` function, returning the output and a\u001b[39;00m\n\u001b[0;32m    <a href='file:///c%3A/Users/Emil/AppData/Local/Programs/Python/Python310/lib/site-packages/thinc/model.py?line=289'>290</a>\u001b[0m \u001b[39m    callback to compute the gradients via backpropagation.\"\"\"\u001b[39;00m\n\u001b[1;32m--> <a href='file:///c%3A/Users/Emil/AppData/Local/Programs/Python/Python310/lib/site-packages/thinc/model.py?line=290'>291</a>\u001b[0m     \u001b[39mreturn\u001b[39;00m \u001b[39mself\u001b[39;49m\u001b[39m.\u001b[39;49m_func(\u001b[39mself\u001b[39;49m, X, is_train\u001b[39m=\u001b[39;49mis_train)\n",
      "File \u001b[1;32mc:\\Users\\Emil\\AppData\\Local\\Programs\\Python\\Python310\\lib\\site-packages\\thinc\\layers\\maxout.py:49\u001b[0m, in \u001b[0;36mforward\u001b[1;34m(model, X, is_train)\u001b[0m\n\u001b[0;32m     <a href='file:///c%3A/Users/Emil/AppData/Local/Programs/Python/Python310/lib/site-packages/thinc/layers/maxout.py?line=46'>47</a>\u001b[0m W \u001b[39m=\u001b[39m model\u001b[39m.\u001b[39mget_param(\u001b[39m\"\u001b[39m\u001b[39mW\u001b[39m\u001b[39m\"\u001b[39m)\n\u001b[0;32m     <a href='file:///c%3A/Users/Emil/AppData/Local/Programs/Python/Python310/lib/site-packages/thinc/layers/maxout.py?line=47'>48</a>\u001b[0m W \u001b[39m=\u001b[39m model\u001b[39m.\u001b[39mops\u001b[39m.\u001b[39mreshape2f(W, nO \u001b[39m*\u001b[39m nP, nI)\n\u001b[1;32m---> <a href='file:///c%3A/Users/Emil/AppData/Local/Programs/Python/Python310/lib/site-packages/thinc/layers/maxout.py?line=48'>49</a>\u001b[0m Y \u001b[39m=\u001b[39m model\u001b[39m.\u001b[39;49mops\u001b[39m.\u001b[39;49mgemm(X, W, trans2\u001b[39m=\u001b[39;49m\u001b[39mTrue\u001b[39;49;00m)\n\u001b[0;32m     <a href='file:///c%3A/Users/Emil/AppData/Local/Programs/Python/Python310/lib/site-packages/thinc/layers/maxout.py?line=49'>50</a>\u001b[0m Y \u001b[39m+\u001b[39m\u001b[39m=\u001b[39m model\u001b[39m.\u001b[39mops\u001b[39m.\u001b[39mreshape1f(b, nO \u001b[39m*\u001b[39m nP)\n\u001b[0;32m     <a href='file:///c%3A/Users/Emil/AppData/Local/Programs/Python/Python310/lib/site-packages/thinc/layers/maxout.py?line=50'>51</a>\u001b[0m Z \u001b[39m=\u001b[39m model\u001b[39m.\u001b[39mops\u001b[39m.\u001b[39mreshape3f(Y, Y\u001b[39m.\u001b[39mshape[\u001b[39m0\u001b[39m], nO, nP)\n",
      "\u001b[1;31mKeyboardInterrupt\u001b[0m: "
     ]
    }
   ],
   "source": [
    "tweet_vec = {}\n",
    "tweet_bow_train = {}\n",
    "tweet_bow_test = {}\n",
    "\n",
    "tweet_vec_d = {}\n",
    "tweet_bow_train_d = {}\n",
    "tweet_bow_test_d = {}\n",
    "\n",
    "tweet_vec_u = {}\n",
    "tweet_bow_train_u = {}\n",
    "tweet_bow_test_u = {}\n",
    "\n",
    "tweet_vec_h = {}\n",
    "tweet_bow_train_h = {}\n",
    "tweet_bow_test_h = {}\n",
    "for n in ngram_list:\n",
    "    tweet_vec[n] = cv_dict[n].fit(df_worthy_train[\"tweet_text\"]) # DTM (CV, but normalized for relative frequency)\n",
    "    tweet_bow_train[n] = tweet_vec[n].transform(df_worthy_train[\"tweet_text\"]) \n",
    "    tweet_bow_test[n] = tweet_vec[n].transform(df_worthy_test[\"tweet_text\"]) \n",
    "    \n",
    "    # balanced downsample\n",
    "    tweet_vec_d[n] = cv_dict[n].fit(df_downsampled[\"tweet_text\"]) # DTM (CV, but normalized for relative frequency)\n",
    "    tweet_bow_train_d[n] = tweet_vec_d[n].transform(df_downsampled[\"tweet_text\"]) \n",
    "    tweet_bow_test_d[n] = tweet_vec_d[n].transform(df_worthy_test[\"tweet_text\"]) \n",
    "    \n",
    "    # balanced upsample\n",
    "    tweet_vec_u[n] = cv_dict[n].fit(df_upsampled[\"tweet_text\"]) # DTM (CV, but normalized for relative frequency)\n",
    "    tweet_bow_train_u[n] = tweet_vec_u[n].transform(df_upsampled[\"tweet_text\"]) \n",
    "    tweet_bow_test_u[n] = tweet_vec_u[n].transform(df_worthy_test[\"tweet_text\"]) \n",
    "    \n",
    "    # balanced hybridsample\n",
    "    tweet_vec_h[n] = cv_dict[n].fit(df_meansampled[\"tweet_text\"]) # DTM (CV, but normalized for relative frequency)\n",
    "    tweet_bow_train_h[n] = tweet_vec_h[n].transform(df_meansampled[\"tweet_text\"]) \n",
    "    tweet_bow_test_h[n] = tweet_vec_h[n].transform(df_worthy_test[\"tweet_text\"]) "
   ]
  },
  {
   "cell_type": "markdown",
   "metadata": {},
   "source": [
    "### Dummy prediction"
   ]
  },
  {
   "cell_type": "code",
   "execution_count": null,
   "metadata": {},
   "outputs": [
    {
     "name": "stdout",
     "output_type": "stream",
     "text": [
      "--------Unbalanced--------\n",
      "1-gram Priors: [0.05209274 0.85847636 0.00150557 0.04155375 0.01445348 0.00361337\n",
      " 0.00813008 0.01264679 0.00752785]\n",
      "Dummy F1-Score for 1-gram: 91.98%\n",
      "Dummy Precision-Score for 1-gram: 11.11%\n",
      "Dummy Precision-Score for 1-gram: 9.46%\n",
      "--------Downsampled--------\n",
      "1-gram Priors: [0.11111111 0.11111111 0.11111111 0.11111111 0.11111111 0.11111111\n",
      " 0.11111111 0.11111111 0.11111111]\n",
      "Dummy F1-Score for 1-gram: 11.41%\n",
      "Dummy Precision-Score for 1-gram: 11.11%\n",
      "Dummy Precision-Score for 1-gram: 0.67%\n",
      "--------Upsampled--------\n",
      "1-gram Priors: [0.11111111 0.11111111 0.11111111 0.11111111 0.11111111 0.11111111\n",
      " 0.11111111 0.11111111 0.11111111]\n",
      "Dummy F1-Score for 1-gram: 11.41%\n",
      "Dummy Precision-Score for 1-gram: 11.11%\n",
      "Dummy Precision-Score for 1-gram: 0.67%\n",
      "--------Meansampled--------\n",
      "1-gram Priors: [0.11111111 0.11111111 0.11111111 0.11111111 0.11111111 0.11111111\n",
      " 0.11111111 0.11111111 0.11111111]\n",
      "Dummy F1-Score for 1-gram: 11.41%\n",
      "Dummy Precision-Score for 1-gram: 11.11%\n",
      "Dummy Precision-Score for 1-gram: 0.67%\n",
      "--------------------------------------\n",
      "--------Unbalanced--------\n",
      "2-gram Priors: [0.05209274 0.85847636 0.00150557 0.04155375 0.01445348 0.00361337\n",
      " 0.00813008 0.01264679 0.00752785]\n",
      "Dummy F1-Score for 2-gram: 91.98%\n",
      "Dummy Precision-Score for 2-gram: 11.11%\n",
      "Dummy Precision-Score for 2-gram: 9.46%\n",
      "--------Downsampled--------\n",
      "2-gram Priors: [0.11111111 0.11111111 0.11111111 0.11111111 0.11111111 0.11111111\n",
      " 0.11111111 0.11111111 0.11111111]\n",
      "Dummy F1-Score for 2-gram: 11.41%\n",
      "Dummy Precision-Score for 2-gram: 11.11%\n",
      "Dummy Precision-Score for 2-gram: 0.67%\n",
      "--------Upsampled--------\n",
      "2-gram Priors: [0.11111111 0.11111111 0.11111111 0.11111111 0.11111111 0.11111111\n",
      " 0.11111111 0.11111111 0.11111111]\n",
      "Dummy F1-Score for 2-gram: 11.41%\n",
      "Dummy Precision-Score for 2-gram: 11.11%\n",
      "Dummy Precision-Score for 2-gram: 0.67%\n",
      "--------Meansampled--------\n",
      "2-gram Priors: [0.11111111 0.11111111 0.11111111 0.11111111 0.11111111 0.11111111\n",
      " 0.11111111 0.11111111 0.11111111]\n",
      "Dummy F1-Score for 2-gram: 11.41%\n",
      "Dummy Precision-Score for 2-gram: 11.11%\n",
      "Dummy Precision-Score for 2-gram: 0.67%\n",
      "--------------------------------------\n",
      "--------Unbalanced--------\n",
      "3-gram Priors: [0.05209274 0.85847636 0.00150557 0.04155375 0.01445348 0.00361337\n",
      " 0.00813008 0.01264679 0.00752785]\n",
      "Dummy F1-Score for 3-gram: 91.98%\n",
      "Dummy Precision-Score for 3-gram: 11.11%\n",
      "Dummy Precision-Score for 3-gram: 9.46%\n",
      "--------Downsampled--------\n",
      "3-gram Priors: [0.11111111 0.11111111 0.11111111 0.11111111 0.11111111 0.11111111\n",
      " 0.11111111 0.11111111 0.11111111]\n",
      "Dummy F1-Score for 3-gram: 11.41%\n",
      "Dummy Precision-Score for 3-gram: 11.11%\n",
      "Dummy Precision-Score for 3-gram: 0.67%\n",
      "--------Upsampled--------\n",
      "3-gram Priors: [0.11111111 0.11111111 0.11111111 0.11111111 0.11111111 0.11111111\n",
      " 0.11111111 0.11111111 0.11111111]\n",
      "Dummy F1-Score for 3-gram: 11.41%\n",
      "Dummy Precision-Score for 3-gram: 11.11%\n",
      "Dummy Precision-Score for 3-gram: 0.67%\n",
      "--------Meansampled--------\n",
      "3-gram Priors: [0.11111111 0.11111111 0.11111111 0.11111111 0.11111111 0.11111111\n",
      " 0.11111111 0.11111111 0.11111111]\n",
      "Dummy F1-Score for 3-gram: 11.41%\n",
      "Dummy Precision-Score for 3-gram: 11.11%\n",
      "Dummy Precision-Score for 3-gram: 0.67%\n",
      "--------------------------------------\n"
     ]
    }
   ],
   "source": [
    "from sklearn.dummy import DummyClassifier\n",
    "from sklearn import metrics\n",
    "\n",
    "for n in ngram_list:\n",
    "    print(\"--------Unbalanced--------\")\n",
    "    dummy_clf = DummyClassifier(strategy=\"prior\")\n",
    "    dummy_clf.fit(tweet_bow_train[n], df_worthy_train[\"class_label\"])\n",
    "    print(\"{}-gram Priors: {}\".format(n, dummy_clf.class_prior_))\n",
    "\n",
    "    f1_score = metrics.f1_score(dummy_clf.predict(tweet_bow_test[n]), df_worthy_test[\"class_label\"], average=\"weighted\")\n",
    "    print(\"Dummy F1-Score for {}-gram: {}%\".format(n, round(f1_score * 100, 2)))\n",
    "    \n",
    "    precision_score = metrics.precision_score(dummy_clf.predict(tweet_bow_test[n]), df_worthy_test[\"class_label\"], average=\"macro\")\n",
    "    print(\"Dummy Precision-Score for {}-gram: {}%\".format(n, round(precision_score * 100, 2)))\n",
    "    \n",
    "    recall_score = metrics.recall_score(dummy_clf.predict(tweet_bow_test[n]), df_worthy_test[\"class_label\"], average=\"macro\")\n",
    "    print(\"Dummy Precision-Score for {}-gram: {}%\".format(n, round(recall_score * 100, 2)))\n",
    "    \n",
    "    print(\"--------Downsampled--------\")\n",
    "    dummy_clf = DummyClassifier(strategy=\"prior\")\n",
    "    dummy_clf.fit(tweet_bow_train_d[n], df_downsampled[\"class_label\"])\n",
    "    print(\"{}-gram Priors: {}\".format(n, dummy_clf.class_prior_))\n",
    "\n",
    "    f1_score = metrics.f1_score(dummy_clf.predict(tweet_bow_test_d[n]), df_worthy_test[\"class_label\"], average=\"weighted\")\n",
    "    print(\"Dummy F1-Score for {}-gram: {}%\".format(n, round(f1_score * 100, 2)))\n",
    "    \n",
    "    precision_score = metrics.precision_score(dummy_clf.predict(tweet_bow_test_d[n]), df_worthy_test[\"class_label\"], average=\"macro\")\n",
    "    print(\"Dummy Precision-Score for {}-gram: {}%\".format(n, round(precision_score * 100, 2)))\n",
    "    \n",
    "    recall_score = metrics.recall_score(dummy_clf.predict(tweet_bow_test_d[n]), df_worthy_test[\"class_label\"], average=\"macro\")\n",
    "    print(\"Dummy Precision-Score for {}-gram: {}%\".format(n, round(recall_score * 100, 2)))\n",
    "    \n",
    "    print(\"--------Upsampled--------\")\n",
    "    dummy_clf = DummyClassifier(strategy=\"prior\")\n",
    "    dummy_clf.fit(tweet_bow_train_u[n], df_upsampled[\"class_label\"])\n",
    "    print(\"{}-gram Priors: {}\".format(n, dummy_clf.class_prior_))\n",
    "\n",
    "    f1_score = metrics.f1_score(dummy_clf.predict(tweet_bow_test_u[n]), df_worthy_test[\"class_label\"], average=\"weighted\")\n",
    "    print(\"Dummy F1-Score for {}-gram: {}%\".format(n, round(f1_score * 100, 2)))\n",
    "    \n",
    "    precision_score = metrics.precision_score(dummy_clf.predict(tweet_bow_test_u[n]), df_worthy_test[\"class_label\"], average=\"macro\")\n",
    "    print(\"Dummy Precision-Score for {}-gram: {}%\".format(n, round(precision_score * 100, 2)))\n",
    "    \n",
    "    recall_score = metrics.recall_score(dummy_clf.predict(tweet_bow_test_u[n]), df_worthy_test[\"class_label\"], average=\"macro\")\n",
    "    print(\"Dummy Precision-Score for {}-gram: {}%\".format(n, round(recall_score * 100, 2)))\n",
    "    \n",
    "    print(\"--------Meansampled--------\")\n",
    "    dummy_clf = DummyClassifier(strategy=\"prior\")\n",
    "    dummy_clf.fit(tweet_bow_train_h[n], df_meansampled[\"class_label\"])\n",
    "    print(\"{}-gram Priors: {}\".format(n, dummy_clf.class_prior_))\n",
    "\n",
    "    f1_score = metrics.f1_score(dummy_clf.predict(tweet_bow_test_h[n]), df_worthy_test[\"class_label\"], average=\"weighted\")\n",
    "    print(\"Dummy F1-Score for {}-gram: {}%\".format(n, round(f1_score * 100, 2)))\n",
    "    \n",
    "    precision_score = metrics.precision_score(dummy_clf.predict(tweet_bow_test_h[n]), df_worthy_test[\"class_label\"], average=\"macro\")\n",
    "    print(\"Dummy Precision-Score for {}-gram: {}%\".format(n, round(precision_score * 100, 2)))\n",
    "    \n",
    "    recall_score = metrics.recall_score(dummy_clf.predict(tweet_bow_test_h[n]), df_worthy_test[\"class_label\"], average=\"macro\")\n",
    "    print(\"Dummy Precision-Score for {}-gram: {}%\".format(n, round(recall_score * 100, 2)))\n",
    "    print(\"--------------------------------------\")"
   ]
  },
  {
   "cell_type": "markdown",
   "metadata": {},
   "source": [
    "### Logistic Regression"
   ]
  },
  {
   "cell_type": "code",
   "execution_count": null,
   "metadata": {},
   "outputs": [],
   "source": [
    "from sklearn.linear_model import LogisticRegression\n",
    "\n",
    "lr_w = LogisticRegression(class_weight=weights)\n",
    "lr_n = LogisticRegression(class_weight=None)\n",
    "\n",
    "lr_d = LogisticRegression(class_weight=None)\n",
    "lr_u = LogisticRegression(class_weight=None)\n",
    "lr_h = LogisticRegression(class_weight=None)"
   ]
  },
  {
   "cell_type": "code",
   "execution_count": null,
   "metadata": {},
   "outputs": [
    {
     "name": "stdout",
     "output_type": "stream",
     "text": [
      "--------Custom weight--------\n",
      "Logistic Regression F1-Score for 1-gram: 80.03%\n",
      "Logistic Regression Precision-Score for 1-gram: 26.5%\n",
      "Logistic Regression Recall-Score for 1-gram: 23.42%\n",
      "--------No weight--------\n",
      "Logistic Regression F1-Score for 1-gram: 88.1%\n",
      "Logistic Regression Precision-Score for 1-gram: 19.58%\n",
      "Logistic Regression Recall-Score for 1-gram: 34.89%\n",
      "--------------------------------------\n",
      "--------Custom weight--------\n",
      "Logistic Regression F1-Score for 2-gram: 79.3%\n",
      "Logistic Regression Precision-Score for 2-gram: 24.46%\n",
      "Logistic Regression Recall-Score for 2-gram: 20.57%\n",
      "--------No weight--------\n",
      "Logistic Regression F1-Score for 2-gram: 90.88%\n",
      "Logistic Regression Precision-Score for 2-gram: 14.15%\n",
      "Logistic Regression Recall-Score for 2-gram: 26.52%\n",
      "--------------------------------------\n",
      "--------Custom weight--------\n",
      "Logistic Regression F1-Score for 3-gram: 80.43%\n",
      "Logistic Regression Precision-Score for 3-gram: 16.26%\n",
      "Logistic Regression Recall-Score for 3-gram: 19.5%\n",
      "--------No weight--------\n",
      "Logistic Regression F1-Score for 3-gram: 91.85%\n",
      "Logistic Regression Precision-Score for 3-gram: 11.92%\n",
      "Logistic Regression Recall-Score for 3-gram: 20.61%\n",
      "--------------------------------------\n"
     ]
    }
   ],
   "source": [
    "for n in ngram_list:\n",
    "    lr_w.fit(tweet_bow_train[n].toarray(), df_worthy_train[\"class_label\"])\n",
    "    lr_n.fit(tweet_bow_train[n].toarray(), df_worthy_train[\"class_label\"])\n",
    "    \n",
    "    print(\"--------Custom weight--------\")\n",
    "    f1_score = metrics.f1_score(lr_w.predict(tweet_bow_test[n].toarray()), df_worthy_test[\"class_label\"], average=\"weighted\")\n",
    "    print(\"Logistic Regression F1-Score for {}-gram: {}%\".format(n, round(f1_score * 100, 2)))\n",
    "    \n",
    "    precision_score = metrics.precision_score(lr_w.predict(tweet_bow_test[n].toarray()), df_worthy_test[\"class_label\"], average=\"macro\")\n",
    "    print(\"Logistic Regression Precision-Score for {}-gram: {}%\".format(n, round(precision_score * 100, 2)))\n",
    "    \n",
    "    recall_score = metrics.recall_score(lr_w.predict(tweet_bow_test[n].toarray()), df_worthy_test[\"class_label\"], average=\"macro\")\n",
    "    print(\"Logistic Regression Recall-Score for {}-gram: {}%\".format(n, round(recall_score * 100, 2)))\n",
    "    \n",
    "    print(\"--------No weight--------\")\n",
    "    f1_score = metrics.f1_score(lr_n.predict(tweet_bow_test[n].toarray()), df_worthy_test[\"class_label\"], average=\"weighted\")\n",
    "    print(\"Logistic Regression F1-Score for {}-gram: {}%\".format(n, round(f1_score * 100, 2)))\n",
    "    \n",
    "    precision_score = metrics.precision_score(lr_n.predict(tweet_bow_test[n].toarray()), df_worthy_test[\"class_label\"], average=\"macro\")\n",
    "    print(\"Logistic Regression Precision-Score for {}-gram: {}%\".format(n, round(precision_score * 100, 2)))\n",
    "    \n",
    "    recall_score = metrics.recall_score(lr_n.predict(tweet_bow_test[n].toarray()), df_worthy_test[\"class_label\"], average=\"macro\")\n",
    "    print(\"Logistic Regression Recall-Score for {}-gram: {}%\".format(n, round(recall_score * 100, 2)))\n",
    "    print(\"--------------------------------------\")"
   ]
  },
  {
   "cell_type": "code",
   "execution_count": null,
   "metadata": {},
   "outputs": [
    {
     "name": "stdout",
     "output_type": "stream",
     "text": [
      "--------Downsampled--------\n"
     ]
    },
    {
     "ename": "ValueError",
     "evalue": "Found input variables with inconsistent numbers of samples: [909, 45]",
     "output_type": "error",
     "traceback": [
      "\u001b[1;31m---------------------------------------------------------------------------\u001b[0m",
      "\u001b[1;31mValueError\u001b[0m                                Traceback (most recent call last)",
      "\u001b[1;32m~\\AppData\\Local\\Temp/ipykernel_17960/1586547565.py\u001b[0m in \u001b[0;36m<module>\u001b[1;34m\u001b[0m\n\u001b[0;32m      5\u001b[0m \u001b[1;33m\u001b[0m\u001b[0m\n\u001b[0;32m      6\u001b[0m     \u001b[0mprint\u001b[0m\u001b[1;33m(\u001b[0m\u001b[1;34m\"--------Downsampled--------\"\u001b[0m\u001b[1;33m)\u001b[0m\u001b[1;33m\u001b[0m\u001b[1;33m\u001b[0m\u001b[0m\n\u001b[1;32m----> 7\u001b[1;33m     \u001b[0mf1_score\u001b[0m \u001b[1;33m=\u001b[0m \u001b[0mmetrics\u001b[0m\u001b[1;33m.\u001b[0m\u001b[0mf1_score\u001b[0m\u001b[1;33m(\u001b[0m\u001b[0mlr_d\u001b[0m\u001b[1;33m.\u001b[0m\u001b[0mpredict\u001b[0m\u001b[1;33m(\u001b[0m\u001b[0mtweet_bow_test_d\u001b[0m\u001b[1;33m[\u001b[0m\u001b[0mn\u001b[0m\u001b[1;33m]\u001b[0m\u001b[1;33m.\u001b[0m\u001b[0mtoarray\u001b[0m\u001b[1;33m(\u001b[0m\u001b[1;33m)\u001b[0m\u001b[1;33m)\u001b[0m\u001b[1;33m,\u001b[0m \u001b[0mdf_downsampled\u001b[0m\u001b[1;33m[\u001b[0m\u001b[1;34m\"class_label\"\u001b[0m\u001b[1;33m]\u001b[0m\u001b[1;33m,\u001b[0m \u001b[0maverage\u001b[0m\u001b[1;33m=\u001b[0m\u001b[1;34m\"weighted\"\u001b[0m\u001b[1;33m)\u001b[0m\u001b[1;33m\u001b[0m\u001b[1;33m\u001b[0m\u001b[0m\n\u001b[0m\u001b[0;32m      8\u001b[0m     \u001b[0mprint\u001b[0m\u001b[1;33m(\u001b[0m\u001b[1;34m\"Logistic Regression F1-Score for {}-gram: {}%\"\u001b[0m\u001b[1;33m.\u001b[0m\u001b[0mformat\u001b[0m\u001b[1;33m(\u001b[0m\u001b[0mn\u001b[0m\u001b[1;33m,\u001b[0m \u001b[0mround\u001b[0m\u001b[1;33m(\u001b[0m\u001b[0mf1_score\u001b[0m \u001b[1;33m*\u001b[0m \u001b[1;36m100\u001b[0m\u001b[1;33m,\u001b[0m \u001b[1;36m2\u001b[0m\u001b[1;33m)\u001b[0m\u001b[1;33m)\u001b[0m\u001b[1;33m)\u001b[0m\u001b[1;33m\u001b[0m\u001b[1;33m\u001b[0m\u001b[0m\n\u001b[0;32m      9\u001b[0m \u001b[1;33m\u001b[0m\u001b[0m\n",
      "\u001b[1;32mc:\\Users\\minh\\AppData\\Local\\Programs\\Python\\Python39\\lib\\site-packages\\sklearn\\metrics\\_classification.py\u001b[0m in \u001b[0;36mf1_score\u001b[1;34m(y_true, y_pred, labels, pos_label, average, sample_weight, zero_division)\u001b[0m\n\u001b[0;32m   1130\u001b[0m     \u001b[0marray\u001b[0m\u001b[1;33m(\u001b[0m\u001b[1;33m[\u001b[0m\u001b[1;36m0.66666667\u001b[0m\u001b[1;33m,\u001b[0m \u001b[1;36m1.\u001b[0m        \u001b[1;33m,\u001b[0m \u001b[1;36m0.66666667\u001b[0m\u001b[1;33m]\u001b[0m\u001b[1;33m)\u001b[0m\u001b[1;33m\u001b[0m\u001b[1;33m\u001b[0m\u001b[0m\n\u001b[0;32m   1131\u001b[0m     \"\"\"\n\u001b[1;32m-> 1132\u001b[1;33m     return fbeta_score(\n\u001b[0m\u001b[0;32m   1133\u001b[0m         \u001b[0my_true\u001b[0m\u001b[1;33m,\u001b[0m\u001b[1;33m\u001b[0m\u001b[1;33m\u001b[0m\u001b[0m\n\u001b[0;32m   1134\u001b[0m         \u001b[0my_pred\u001b[0m\u001b[1;33m,\u001b[0m\u001b[1;33m\u001b[0m\u001b[1;33m\u001b[0m\u001b[0m\n",
      "\u001b[1;32mc:\\Users\\minh\\AppData\\Local\\Programs\\Python\\Python39\\lib\\site-packages\\sklearn\\metrics\\_classification.py\u001b[0m in \u001b[0;36mfbeta_score\u001b[1;34m(y_true, y_pred, beta, labels, pos_label, average, sample_weight, zero_division)\u001b[0m\n\u001b[0;32m   1268\u001b[0m     \"\"\"\n\u001b[0;32m   1269\u001b[0m \u001b[1;33m\u001b[0m\u001b[0m\n\u001b[1;32m-> 1270\u001b[1;33m     _, _, f, _ = precision_recall_fscore_support(\n\u001b[0m\u001b[0;32m   1271\u001b[0m         \u001b[0my_true\u001b[0m\u001b[1;33m,\u001b[0m\u001b[1;33m\u001b[0m\u001b[1;33m\u001b[0m\u001b[0m\n\u001b[0;32m   1272\u001b[0m         \u001b[0my_pred\u001b[0m\u001b[1;33m,\u001b[0m\u001b[1;33m\u001b[0m\u001b[1;33m\u001b[0m\u001b[0m\n",
      "\u001b[1;32mc:\\Users\\minh\\AppData\\Local\\Programs\\Python\\Python39\\lib\\site-packages\\sklearn\\metrics\\_classification.py\u001b[0m in \u001b[0;36mprecision_recall_fscore_support\u001b[1;34m(y_true, y_pred, beta, labels, pos_label, average, warn_for, sample_weight, zero_division)\u001b[0m\n\u001b[0;32m   1554\u001b[0m     \u001b[1;32mif\u001b[0m \u001b[0mbeta\u001b[0m \u001b[1;33m<\u001b[0m \u001b[1;36m0\u001b[0m\u001b[1;33m:\u001b[0m\u001b[1;33m\u001b[0m\u001b[1;33m\u001b[0m\u001b[0m\n\u001b[0;32m   1555\u001b[0m         \u001b[1;32mraise\u001b[0m \u001b[0mValueError\u001b[0m\u001b[1;33m(\u001b[0m\u001b[1;34m\"beta should be >=0 in the F-beta score\"\u001b[0m\u001b[1;33m)\u001b[0m\u001b[1;33m\u001b[0m\u001b[1;33m\u001b[0m\u001b[0m\n\u001b[1;32m-> 1556\u001b[1;33m     \u001b[0mlabels\u001b[0m \u001b[1;33m=\u001b[0m \u001b[0m_check_set_wise_labels\u001b[0m\u001b[1;33m(\u001b[0m\u001b[0my_true\u001b[0m\u001b[1;33m,\u001b[0m \u001b[0my_pred\u001b[0m\u001b[1;33m,\u001b[0m \u001b[0maverage\u001b[0m\u001b[1;33m,\u001b[0m \u001b[0mlabels\u001b[0m\u001b[1;33m,\u001b[0m \u001b[0mpos_label\u001b[0m\u001b[1;33m)\u001b[0m\u001b[1;33m\u001b[0m\u001b[1;33m\u001b[0m\u001b[0m\n\u001b[0m\u001b[0;32m   1557\u001b[0m \u001b[1;33m\u001b[0m\u001b[0m\n\u001b[0;32m   1558\u001b[0m     \u001b[1;31m# Calculate tp_sum, pred_sum, true_sum ###\u001b[0m\u001b[1;33m\u001b[0m\u001b[1;33m\u001b[0m\u001b[1;33m\u001b[0m\u001b[0m\n",
      "\u001b[1;32mc:\\Users\\minh\\AppData\\Local\\Programs\\Python\\Python39\\lib\\site-packages\\sklearn\\metrics\\_classification.py\u001b[0m in \u001b[0;36m_check_set_wise_labels\u001b[1;34m(y_true, y_pred, average, labels, pos_label)\u001b[0m\n\u001b[0;32m   1355\u001b[0m         \u001b[1;32mraise\u001b[0m \u001b[0mValueError\u001b[0m\u001b[1;33m(\u001b[0m\u001b[1;34m\"average has to be one of \"\u001b[0m \u001b[1;33m+\u001b[0m \u001b[0mstr\u001b[0m\u001b[1;33m(\u001b[0m\u001b[0maverage_options\u001b[0m\u001b[1;33m)\u001b[0m\u001b[1;33m)\u001b[0m\u001b[1;33m\u001b[0m\u001b[1;33m\u001b[0m\u001b[0m\n\u001b[0;32m   1356\u001b[0m \u001b[1;33m\u001b[0m\u001b[0m\n\u001b[1;32m-> 1357\u001b[1;33m     \u001b[0my_type\u001b[0m\u001b[1;33m,\u001b[0m \u001b[0my_true\u001b[0m\u001b[1;33m,\u001b[0m \u001b[0my_pred\u001b[0m \u001b[1;33m=\u001b[0m \u001b[0m_check_targets\u001b[0m\u001b[1;33m(\u001b[0m\u001b[0my_true\u001b[0m\u001b[1;33m,\u001b[0m \u001b[0my_pred\u001b[0m\u001b[1;33m)\u001b[0m\u001b[1;33m\u001b[0m\u001b[1;33m\u001b[0m\u001b[0m\n\u001b[0m\u001b[0;32m   1358\u001b[0m     \u001b[1;31m# Convert to Python primitive type to avoid NumPy type / Python str\u001b[0m\u001b[1;33m\u001b[0m\u001b[1;33m\u001b[0m\u001b[1;33m\u001b[0m\u001b[0m\n\u001b[0;32m   1359\u001b[0m     \u001b[1;31m# comparison. See https://github.com/numpy/numpy/issues/6784\u001b[0m\u001b[1;33m\u001b[0m\u001b[1;33m\u001b[0m\u001b[1;33m\u001b[0m\u001b[0m\n",
      "\u001b[1;32mc:\\Users\\minh\\AppData\\Local\\Programs\\Python\\Python39\\lib\\site-packages\\sklearn\\metrics\\_classification.py\u001b[0m in \u001b[0;36m_check_targets\u001b[1;34m(y_true, y_pred)\u001b[0m\n\u001b[0;32m     82\u001b[0m     \u001b[0my_pred\u001b[0m \u001b[1;33m:\u001b[0m \u001b[0marray\u001b[0m \u001b[1;32mor\u001b[0m \u001b[0mindicator\u001b[0m \u001b[0mmatrix\u001b[0m\u001b[1;33m\u001b[0m\u001b[1;33m\u001b[0m\u001b[0m\n\u001b[0;32m     83\u001b[0m     \"\"\"\n\u001b[1;32m---> 84\u001b[1;33m     \u001b[0mcheck_consistent_length\u001b[0m\u001b[1;33m(\u001b[0m\u001b[0my_true\u001b[0m\u001b[1;33m,\u001b[0m \u001b[0my_pred\u001b[0m\u001b[1;33m)\u001b[0m\u001b[1;33m\u001b[0m\u001b[1;33m\u001b[0m\u001b[0m\n\u001b[0m\u001b[0;32m     85\u001b[0m     \u001b[0mtype_true\u001b[0m \u001b[1;33m=\u001b[0m \u001b[0mtype_of_target\u001b[0m\u001b[1;33m(\u001b[0m\u001b[0my_true\u001b[0m\u001b[1;33m,\u001b[0m \u001b[0minput_name\u001b[0m\u001b[1;33m=\u001b[0m\u001b[1;34m\"y_true\"\u001b[0m\u001b[1;33m)\u001b[0m\u001b[1;33m\u001b[0m\u001b[1;33m\u001b[0m\u001b[0m\n\u001b[0;32m     86\u001b[0m     \u001b[0mtype_pred\u001b[0m \u001b[1;33m=\u001b[0m \u001b[0mtype_of_target\u001b[0m\u001b[1;33m(\u001b[0m\u001b[0my_pred\u001b[0m\u001b[1;33m,\u001b[0m \u001b[0minput_name\u001b[0m\u001b[1;33m=\u001b[0m\u001b[1;34m\"y_pred\"\u001b[0m\u001b[1;33m)\u001b[0m\u001b[1;33m\u001b[0m\u001b[1;33m\u001b[0m\u001b[0m\n",
      "\u001b[1;32mc:\\Users\\minh\\AppData\\Local\\Programs\\Python\\Python39\\lib\\site-packages\\sklearn\\utils\\validation.py\u001b[0m in \u001b[0;36mcheck_consistent_length\u001b[1;34m(*arrays)\u001b[0m\n\u001b[0;32m    381\u001b[0m     \u001b[0muniques\u001b[0m \u001b[1;33m=\u001b[0m \u001b[0mnp\u001b[0m\u001b[1;33m.\u001b[0m\u001b[0munique\u001b[0m\u001b[1;33m(\u001b[0m\u001b[0mlengths\u001b[0m\u001b[1;33m)\u001b[0m\u001b[1;33m\u001b[0m\u001b[1;33m\u001b[0m\u001b[0m\n\u001b[0;32m    382\u001b[0m     \u001b[1;32mif\u001b[0m \u001b[0mlen\u001b[0m\u001b[1;33m(\u001b[0m\u001b[0muniques\u001b[0m\u001b[1;33m)\u001b[0m \u001b[1;33m>\u001b[0m \u001b[1;36m1\u001b[0m\u001b[1;33m:\u001b[0m\u001b[1;33m\u001b[0m\u001b[1;33m\u001b[0m\u001b[0m\n\u001b[1;32m--> 383\u001b[1;33m         raise ValueError(\n\u001b[0m\u001b[0;32m    384\u001b[0m             \u001b[1;34m\"Found input variables with inconsistent numbers of samples: %r\"\u001b[0m\u001b[1;33m\u001b[0m\u001b[1;33m\u001b[0m\u001b[0m\n\u001b[0;32m    385\u001b[0m             \u001b[1;33m%\u001b[0m \u001b[1;33m[\u001b[0m\u001b[0mint\u001b[0m\u001b[1;33m(\u001b[0m\u001b[0ml\u001b[0m\u001b[1;33m)\u001b[0m \u001b[1;32mfor\u001b[0m \u001b[0ml\u001b[0m \u001b[1;32min\u001b[0m \u001b[0mlengths\u001b[0m\u001b[1;33m]\u001b[0m\u001b[1;33m\u001b[0m\u001b[1;33m\u001b[0m\u001b[0m\n",
      "\u001b[1;31mValueError\u001b[0m: Found input variables with inconsistent numbers of samples: [909, 45]"
     ]
    }
   ],
   "source": [
    "for n in ngram_list:\n",
    "    lr_d.fit(tweet_bow_train_d[n].toarray(), df_downsampled[\"class_label\"])\n",
    "    lr_u.fit(tweet_bow_train_u[n].toarray(), df_upsampled[\"class_label\"])\n",
    "    lr_h.fit(tweet_bow_train_h[n].toarray(), df_meansampled[\"class_label\"])\n",
    "    \n",
    "    # print(\"--------Downsampled--------\")\n",
    "    # f1_score = metrics.f1_score(lr_d.predict(tweet_bow_test_d[n].toarray()), df_downsampled[\"class_label\"], average=\"weighted\")\n",
    "    # print(\"Logistic Regression F1-Score for {}-gram: {}%\".format(n, round(f1_score * 100, 2)))\n",
    "    \n",
    "    # precision_score = metrics.precision_score(lr_d.predict(tweet_bow_test_d[n].toarray()), df_downsampled[\"class_label\"], average=\"macro\")\n",
    "    # print(\"Logistic Regression Precision-Score for {}-gram: {}%\".format(n, round(precision_score * 100, 2)))\n",
    "    \n",
    "    # recall_score = metrics.recall_score(lr_d.predict(tweet_bow_test_d[n].toarray()), df_downsampled[\"class_label\"], average=\"macro\")\n",
    "    # print(\"Logistic Regression Recall-Score for {}-gram: {}%\".format(n, round(recall_score * 100, 2)))\n",
    "    \n",
    "    print(\"--------Upsampled--------\")\n",
    "    f1_score = metrics.f1_score(lr_u.predict(tweet_bow_test_u[n].toarray()), df_worthy_test[\"class_label\"], average=\"weighted\")\n",
    "    print(\"Logistic Regression F1-Score for {}-gram: {}%\".format(n, round(f1_score * 100, 2)))\n",
    "    \n",
    "    precision_score = metrics.precision_score(lr_u.predict(tweet_bow_test_u[n].toarray()), df_worthy_test[\"class_label\"], average=\"macro\")\n",
    "    print(\"Logistic Regression Precision-Score for {}-gram: {}%\".format(n, round(precision_score * 100, 2)))\n",
    "    \n",
    "    recall_score = metrics.recall_score(lr_u.predict(tweet_bow_test_u[n].toarray()), df_worthy_test[\"class_label\"], average=\"macro\")\n",
    "    print(\"Logistic Regression Recall-Score for {}-gram: {}%\".format(n, round(recall_score * 100, 2)))\n",
    "    \n",
    "    print(\"--------Meansampled--------\")\n",
    "    f1_score = metrics.f1_score(lr_h.predict(tweet_bow_test_h[n].toarray()), df_worthy_test[\"class_label\"], average=\"weighted\")\n",
    "    print(\"Logistic Regression F1-Score for {}-gram: {}%\".format(n, round(f1_score * 100, 2)))\n",
    "    \n",
    "    precision_score = metrics.precision_score(lr_h.predict(tweet_bow_test_h[n].toarray()), df_worthy_test[\"class_label\"], average=\"macro\")\n",
    "    print(\"Logistic Regression Precision-Score for {}-gram: {}%\".format(n, round(precision_score * 100, 2)))\n",
    "    \n",
    "    recall_score = metrics.recall_score(lr_h.predict(tweet_bow_test_h[n].toarray()), df_worthy_test[\"class_label\"], average=\"macro\")\n",
    "    print(\"Logistic Regression Recall-Score for {}-gram: {}%\".format(n, round(recall_score * 100, 2)))"
   ]
  },
  {
   "cell_type": "markdown",
   "metadata": {},
   "source": [
    "### K-nearest neighbor"
   ]
  },
  {
   "cell_type": "code",
   "execution_count": null,
   "metadata": {},
   "outputs": [],
   "source": [
    "# https://iq.opengenus.org/text-classification-using-k-nearest-neighbors/\n",
    "from sklearn.neighbors import KNeighborsClassifier\n",
    "\n",
    "knn = KNeighborsClassifier(n_neighbors=9)#, weights=class_weights)\n",
    "knn_d = KNeighborsClassifier(n_neighbors=9)#, weights=class_weights)\n",
    "knn_u = KNeighborsClassifier(n_neighbors=9)#, weights=class_weights)\n",
    "knn_h = KNeighborsClassifier(n_neighbors=9)#, weights=class_weights)\n"
   ]
  },
  {
   "cell_type": "code",
   "execution_count": null,
   "metadata": {},
   "outputs": [
    {
     "name": "stdout",
     "output_type": "stream",
     "text": [
      "--------Unbalanced--------\n",
      "KNN F1-Score for 1-gram: 91.98%\n",
      "KNN Precision-Score for 1-gram: 11.11%\n",
      "KNN Recall-Score for 1-gram: 9.46%\n",
      "--------Unbalanced--------\n",
      "KNN F1-Score for 2-gram: 91.98%\n",
      "KNN Precision-Score for 2-gram: 11.11%\n",
      "KNN Recall-Score for 2-gram: 9.46%\n",
      "--------Unbalanced--------\n",
      "KNN F1-Score for 3-gram: 91.65%\n",
      "KNN Precision-Score for 3-gram: 11.08%\n",
      "KNN Recall-Score for 3-gram: 9.46%\n"
     ]
    }
   ],
   "source": [
    "for n in ngram_list:\n",
    "    knn.fit(tweet_bow_train[n].toarray(), df_worthy_train[\"class_label\"])\n",
    "    knn_d.fit(tweet_bow_train_d[n].toarray(), df_downsampled[\"class_label\"])\n",
    "    knn_u.fit(tweet_bow_train_u[n].toarray(), df_upsampled[\"class_label\"])\n",
    "    knn_h.fit(tweet_bow_train_h[n].toarray(), df_meansampled[\"class_label\"])\n",
    "    \n",
    "    print(\"--------Unbalanced--------\")\n",
    "    f1_score = metrics.f1_score(knn.predict(tweet_bow_test[n].toarray()), df_worthy_test[\"class_label\"], average=\"weighted\")\n",
    "    print(\"KNN F1-Score for {}-gram: {}%\".format(n, round(f1_score * 100, 2)))\n",
    "    \n",
    "    precision_score = metrics.precision_score(knn.predict(tweet_bow_test[n].toarray()), df_worthy_test[\"class_label\"], average=\"macro\")\n",
    "    print(\"KNN Precision-Score for {}-gram: {}%\".format(n, round(precision_score * 100, 2)))\n",
    "    \n",
    "    recall_score = metrics.recall_score(knn.predict(tweet_bow_test[n].toarray()), df_worthy_test[\"class_label\"], average=\"macro\")\n",
    "    print(\"KNN Recall-Score for {}-gram: {}%\".format(n, round(recall_score * 100, 2)))\n",
    "    \n",
    "    # print(\"--------Downsampled--------\")\n",
    "    # f1_score = metrics.f1_score(knn_d.predict(tweet_bow_test_d[n].toarray()), df_downsampled[\"class_label\"], average=\"weighted\")\n",
    "    # print(\"KNN F1-Score for {}-gram: {}%\".format(n, round(f1_score * 100, 2)))\n",
    "    \n",
    "    # precision_score = metrics.precision_score(knn_d.predict(tweet_bow_test_d[n].toarray()), df_downsampled[\"class_label\"], average=\"macro\")\n",
    "    # print(\"KNN Precision-Score for {}-gram: {}%\".format(n, round(precision_score * 100, 2)))\n",
    "    \n",
    "    # recall_score = metrics.recall_score(knn_d.predict(tweet_bow_test_d[n].toarray()), df_downsampled[\"class_label\"], average=\"macro\")\n",
    "    # print(\"KNN Recall-Score for {}-gram: {}%\".format(n, round(recall_score * 100, 2)))\n",
    "    \n",
    "    # print(\"--------Upsampled--------\")\n",
    "    # f1_score = metrics.f1_score(knn_u.predict(tweet_bow_test_u[n].toarray()), df_upsampled[\"class_label\"], average=\"weighted\")\n",
    "    # print(\"KNN F1-Score for {}-gram: {}%\".format(n, round(f1_score * 100, 2)))\n",
    "    \n",
    "    # precision_score = metrics.precision_score(knn_u.predict(tweet_bow_test_u[n].toarray()), df_upsampled[\"class_label\"], average=\"macro\")\n",
    "    # print(\"KNN Precision-Score for {}-gram: {}%\".format(n, round(precision_score * 100, 2)))\n",
    "    \n",
    "    # recall_score = metrics.recall_score(knn_u.predict(tweet_bow_test_u[n].toarray()), df_upsampled[\"class_label\"], average=\"macro\")\n",
    "    # print(\"KNN Recall-Score for {}-gram: {}%\".format(n, round(recall_score * 100, 2)))\n",
    "    \n",
    "    # print(\"--------Meansampled--------\")\n",
    "    # f1_score = metrics.f1_score(knn_h.predict(tweet_bow_test_h[n].toarray()), df_meansampled[\"class_label\"], average=\"weighted\")\n",
    "    # print(\"KNN F1-Score for {}-gram: {}%\".format(n, round(f1_score * 100, 2)))\n",
    "    \n",
    "    # precision_score = metrics.precision_score(knn_h.predict(tweet_bow_test_h[n].toarray()), df_meansampled[\"class_label\"], average=\"macro\")\n",
    "    # print(\"KNN Precision-Score for {}-gram: {}%\".format(n, round(precision_score * 100, 2)))\n",
    "    \n",
    "    # recall_score = metrics.recall_score(knn_h.predict(tweet_bow_test_h[n].toarray()), df_meansampled[\"class_label\"], average=\"macro\")\n",
    "    # print(\"KNN Recall-Score for {}-gram: {}%\".format(n, round(recall_score * 100, 2)))\n",
    "    # print(\"--------------------------------------\")"
   ]
  },
  {
   "cell_type": "markdown",
   "metadata": {},
   "source": [
    "### Naive Bayes"
   ]
  },
  {
   "cell_type": "code",
   "execution_count": null,
   "metadata": {},
   "outputs": [
    {
     "name": "stdout",
     "output_type": "stream",
     "text": [
      "--------Unbalanced--------\n",
      "Complement F1-Score for 1-gram: 90.04%\n",
      "Complement precision for 1-gram: 13.09%\n",
      "Complement recall for 1-gram: 18.76%\n",
      "--------Unbalanced--------\n",
      "Complement F1-Score for 2-gram: 90.74%\n",
      "Complement precision for 2-gram: 14.23%\n",
      "Complement recall for 2-gram: 26.29%\n",
      "--------Unbalanced--------\n",
      "Complement F1-Score for 3-gram: 91.5%\n",
      "Complement precision for 3-gram: 12.2%\n",
      "Complement recall for 3-gram: 23.95%\n"
     ]
    }
   ],
   "source": [
    "from sklearn.naive_bayes import MultinomialNB # suited for classification with discrete features\n",
    "from sklearn.naive_bayes import CategoricalNB \n",
    "\n",
    "clf = MultinomialNB()\n",
    "clf_d = MultinomialNB()\n",
    "clf_u = MultinomialNB()\n",
    "clf_h = MultinomialNB()\n",
    "\n",
    "for n in ngram_list:\n",
    "    clf.fit(tweet_bow_train[n].toarray(), df_worthy_train[\"class_label\"])\n",
    "    clf_d.fit(tweet_bow_train_d[n].toarray(), df_downsampled[\"class_label\"])\n",
    "    clf_u.fit(tweet_bow_train_u[n].toarray(), df_upsampled[\"class_label\"])\n",
    "    clf_h.fit(tweet_bow_train_h[n].toarray(), df_meansampled[\"class_label\"])\n",
    "    \n",
    "    print(\"--------Unbalanced--------\")\n",
    "    f1_score = metrics.f1_score(clf.predict(tweet_bow_test[n].toarray()), df_worthy_test[\"class_label\"], average=\"weighted\")\n",
    "    print(\"Complement F1-Score for {}-gram: {}%\".format(n, round(f1_score * 100, 2)))\n",
    "    \n",
    "    precision_score = metrics.precision_score(clf.predict(tweet_bow_test[n].toarray()), df_worthy_test[\"class_label\"], average=\"macro\")\n",
    "    print(\"Complement precision for {}-gram: {}%\".format(n, round(precision_score * 100, 2)))\n",
    "    \n",
    "    recall_score = metrics.recall_score(clf.predict(tweet_bow_test[n].toarray()), df_worthy_test[\"class_label\"], average=\"macro\")\n",
    "    print(\"Complement recall for {}-gram: {}%\".format(n, round(recall_score * 100, 2)))\n",
    "    \n",
    "    # print(\"--------Downsampled--------\")\n",
    "    # f1_score = metrics.f1_score(clf_d.predict(tweet_bow_test_d[n].toarray()), df_downsampled[\"class_label\"], average=\"weighted\")\n",
    "    # print(\"KNN F1-Score for {}-gram: {}%\".format(n, round(f1_score * 100, 2)))\n",
    "    \n",
    "    # precision_score = metrics.precision_score(clf_d.predict(tweet_bow_test_d[n].toarray()), df_downsampled[\"class_label\"], average=\"macro\")\n",
    "    # print(\"KNN Precision-Score for {}-gram: {}%\".format(n, round(precision_score * 100, 2)))\n",
    "    \n",
    "    # recall_score = metrics.recall_score(clf_d.predict(tweet_bow_test_d[n].toarray()), df_downsampled[\"class_label\"], average=\"macro\")\n",
    "    # print(\"KNN Recall-Score for {}-gram: {}%\".format(n, round(recall_score * 100, 2)))\n",
    "    \n",
    "    # print(\"--------Upsampled--------\")\n",
    "    # f1_score = metrics.f1_score(clf_u.predict(tweet_bow_test_u[n].toarray()), df_upsampled[\"class_label\"], average=\"weighted\")\n",
    "    # print(\"Complement F1-Score for {}-gram: {}%\".format(n, round(f1_score * 100, 2)))\n",
    "    \n",
    "    # precision_score = metrics.precision_score(clf_u.predict(tweet_bow_test_u[n].toarray()), df_upsampled[\"class_label\"], average=\"macro\")\n",
    "    # print(\"Complement precision for {}-gram: {}%\".format(n, round(precision_score * 100, 2)))\n",
    "    \n",
    "    # recall_score = metrics.recall_score(clf.predict(tweet_bow_test_u[n].toarray()), df_upsampled[\"class_label\"], average=\"macro\")\n",
    "    # print(\"Complement recall for {}-gram: {}%\".format(n, round(recall_score * 100, 2)))\n",
    "    \n",
    "    # print(\"--------Meansampled--------\")\n",
    "    # f1_score = metrics.f1_score(clf_h.predict(tweet_bow_test_h[n].toarray()), df_meansampled[\"class_label\"], average=\"weighted\")\n",
    "    # print(\"KNN F1-Score for {}-gram: {}%\".format(n, round(f1_score * 100, 2)))\n",
    "    \n",
    "    # precision_score = metrics.precision_score(clf_h.predict(tweet_bow_test_h[n].toarray()), df_meansampled[\"class_label\"], average=\"macro\")\n",
    "    # print(\"KNN Precision-Score for {}-gram: {}%\".format(n, round(precision_score * 100, 2)))\n",
    "    \n",
    "    # recall_score = metrics.recall_score(clf_h.predict(tweet_bow_test_h[n].toarray()), df_meansampled[\"class_label\"], average=\"macro\")\n",
    "    # print(\"KNN Recall-Score for {}-gram: {}%\".format(n, round(recall_score * 100, 2)))\n",
    "    # print(\"--------------------------------------\")"
   ]
  },
  {
   "cell_type": "markdown",
   "metadata": {},
   "source": [
    "<br><br><br>\n",
    "\n",
    "<hr>\n",
    "\n",
    "\n",
    "# (Multi-Class) Text Classification using Bidirectional LSTM\n",
    "\n",
    "Source: https://medium.com/analytics-vidhya/author-multi-class-text-classification-using-bidirectional-lstm-keras-c9a533a1cc4a"
   ]
  },
  {
   "cell_type": "code",
   "execution_count": 76,
   "metadata": {},
   "outputs": [
    {
     "name": "stdout",
     "output_type": "stream",
     "text": [
      "2.8.0\n"
     ]
    }
   ],
   "source": [
    "import pandas as pd\n",
    "import numpy as np\n",
    "import matplotlib.pyplot as plt\n",
    "from nltk.tokenize import word_tokenize\n",
    "from nltk.stem import WordNetLemmatizer\n",
    "from nltk.stem import PorterStemmer\n",
    "from tqdm import tqdm\n",
    "from keras.models import Sequential\n",
    "from keras.layers.recurrent import LSTM, GRU\n",
    "from keras.layers.core import Dense, Activation, Dropout\n",
    "from keras.layers.embeddings import Embedding\n",
    "from keras.utils import np_utils\n",
    "from keras.layers import GlobalMaxPooling1D, Conv1D, MaxPooling1D, Flatten, Bidirectional, SpatialDropout1D\n",
    "from sklearn.model_selection import train_test_split\n",
    "from keras.preprocessing import sequence\n",
    "from keras.preprocessing.text import Tokenizer\n",
    "from keras.callbacks import EarlyStopping\n",
    "import matplotlib.pyplot as plt\n",
    "from nltk.corpus import stopwords\n",
    "stop_words = stopwords.words('english')\n",
    "import tensorflow as tf\n",
    "print(tf.__version__)"
   ]
  },
  {
   "cell_type": "code",
   "execution_count": 77,
   "metadata": {},
   "outputs": [],
   "source": [
    "def getLemmText(text):\n",
    " tokens=word_tokenize(text)\n",
    " lemmatizer = WordNetLemmatizer()\n",
    " tokens=[lemmatizer.lemmatize(word) for word in tokens]\n",
    " return \" \".join(tokens)\n",
    "df_worthy_train[\"tweet_text\"] = list(map(getLemmText, df_worthy_train[\"tweet_text\"]))"
   ]
  },
  {
   "cell_type": "code",
   "execution_count": 78,
   "metadata": {},
   "outputs": [],
   "source": [
    "EMBEDDING_DIMENSION = 64\n",
    "VOCABULARY_SIZE = 2000\n",
    "MAX_LENGTH = 100\n",
    "OOV_TOK = '<OOV>'\n",
    "TRUNCATE_TYPE = 'post'\n",
    "PADDING_TYPE = 'post'"
   ]
  },
  {
   "cell_type": "code",
   "execution_count": 79,
   "metadata": {},
   "outputs": [],
   "source": [
    "tokenizer = Tokenizer(num_words=VOCABULARY_SIZE, oov_token=OOV_TOK)\n",
    "tokenizer.fit_on_texts(list(df_worthy_train[\"tweet_text\"]) + list(df_worthy_train[\"class_label\"]))"
   ]
  },
  {
   "cell_type": "code",
   "execution_count": 80,
   "metadata": {},
   "outputs": [
    {
     "name": "stdout",
     "output_type": "stream",
     "text": [
      "Vocabulary size: 15745\n"
     ]
    },
    {
     "data": {
      "text/plain": [
       "{'<OOV>': 1,\n",
       " 'the': 2,\n",
       " 'and': 3,\n",
       " 'vaccine': 4,\n",
       " 't': 5,\n",
       " 'co': 6,\n",
       " 'to': 7,\n",
       " 'http': 8,\n",
       " 'not': 9,\n",
       " 'no': 10}"
      ]
     },
     "execution_count": 80,
     "metadata": {},
     "output_type": "execute_result"
    }
   ],
   "source": [
    "xtrain_sequences = tokenizer.texts_to_sequences(df_worthy_train[\"tweet_text\"])\n",
    "xtest_sequences = tokenizer.texts_to_sequences(df_worthy_train[\"class_label\"])\n",
    "word_index = tokenizer.word_index\n",
    "print('Vocabulary size:', len(word_index))\n",
    "dict(list(word_index.items())[0:10])"
   ]
  },
  {
   "cell_type": "code",
   "execution_count": 81,
   "metadata": {},
   "outputs": [
    {
     "name": "stdout",
     "output_type": "stream",
     "text": [
      "[40, 50, 369, 24, 5, 1084, 70, 4, 122, 3, 70, 351, 257, 122, 26, 2, 158, 7, 90, 36, 2, 521, 72, 317, 17, 12, 14, 1]\n"
     ]
    }
   ],
   "source": [
    "print(xtrain_sequences[100])"
   ]
  },
  {
   "cell_type": "code",
   "execution_count": 82,
   "metadata": {},
   "outputs": [
    {
     "name": "stdout",
     "output_type": "stream",
     "text": [
      "51\n",
      "100\n",
      "[  40   50  369   24    5 1084   70    4  122    3   70  351  257  122\n",
      "   26    2  158    7   90   36    2  521   72  317   17   12   14    1\n",
      "    0    0    0    0    0    0    0    0    0    0    0    0    0    0\n",
      "    0    0    0    0    0    0    0    0    0    0    0    0    0    0\n",
      "    0    0    0    0    0    0    0    0    0    0    0    0    0    0\n",
      "    0    0    0    0    0    0    0    0    0    0    0    0    0    0\n",
      "    0    0    0    0    0    0    0    0    0    0    0    0    0    0\n",
      "    0    0]\n"
     ]
    }
   ],
   "source": [
    "xtrain_pad = sequence.pad_sequences(xtrain_sequences, maxlen=MAX_LENGTH, padding=PADDING_TYPE, truncating=TRUNCATE_TYPE)\n",
    "xtest_pad = sequence.pad_sequences(xtest_sequences, maxlen=MAX_LENGTH, padding=PADDING_TYPE, truncating=TRUNCATE_TYPE)\n",
    "print(len(xtrain_sequences[0]))\n",
    "print(len(xtrain_pad[0]))\n",
    "print(xtrain_pad[100])"
   ]
  },
  {
   "cell_type": "code",
   "execution_count": 83,
   "metadata": {},
   "outputs": [
    {
     "name": "stdout",
     "output_type": "stream",
     "text": [
      "[1051, 607, 147, 19, 70, 1052, 415, 30, 8, 10, 42, 200, 6, 1, 416, 29, 1053, 2, 1054, 608, 18, 1055, 417, 1056, 2, 1057, 416, 251, 20, 64, 418, 96, 7, 19, 419, 70, 113, 18, 20, 17, 1, 201]\n",
      "[1058, 609, 420, 14, 56, 307, 8, 10, 7, 11, 1059, 6, 202, 308, 309, 1060, 2, 1061, 89, 2, 119, 5, 3, 4, 1062]\n",
      "[8, 10, 25, 1063, 22, 201, 9, 252, 2, 18, 8, 10, 7, 77, 6, 421, 2, 159, 6, 160, 23, 14, 22, 148, 6, 422, 65, 22, 1064, 2, 97, 22, 161, 5, 3, 4, 1065]\n",
      "(306,)\n"
     ]
    }
   ],
   "source": [
    "label_tokenizer = Tokenizer()\n",
    "label_tokenizer.fit_on_texts(list(df_worthy_valid[\"tweet_text\"]))\n",
    "training_label_seq = np.array(label_tokenizer.texts_to_sequences(df_worthy_valid[\"tweet_text\"]))\n",
    "test_label_seq = np.array(label_tokenizer.texts_to_sequences(df_worthy_valid[\"class_label\"]))\n",
    "print(training_label_seq[0])\n",
    "print(training_label_seq[1])\n",
    "print(training_label_seq[2])\n",
    "print(training_label_seq.shape)"
   ]
  },
  {
   "cell_type": "code",
   "execution_count": 84,
   "metadata": {},
   "outputs": [
    {
     "name": "stdout",
     "output_type": "stream",
     "text": [
      "dear <OOV> for the love of god and family do not let anyone jab your <OOV> with the experimental covid 19 vaccine http t co <OOV> ? ? ? ? ? ? ? ? ? ? ? ? ? ? ? ? ? ? ? ? ? ? ? ? ? ? ? ? ? ? ? ? ? ? ? ? ? ? ? ? ? ? ? ? ? ? ? ? ? ? ? ? ? ? ? ? ? ? ? ? ? ? ? ? ? ? ? ? ? ? ? ? ? ?\n"
     ]
    }
   ],
   "source": [
    "reverse_word_index = dict([(value, key) for (key, value) in word_index.items()])\n",
    "def decode_article(text):\n",
    " return \" \".join([reverse_word_index.get(i, \"?\") for i in text])\n",
    "print(decode_article(xtrain_pad[11]))"
   ]
  },
  {
   "cell_type": "code",
   "execution_count": 85,
   "metadata": {},
   "outputs": [],
   "source": [
    "model = Sequential()\n",
    "model.add(Embedding(len(word_index) + 1,\n",
    "                     EMBEDDING_DIMENSION))\n",
    "model.add(SpatialDropout1D(0.3))\n",
    "model.add(Bidirectional(LSTM(EMBEDDING_DIMENSION, dropout=0.3, recurrent_dropout=0.3)))\n",
    "model.add(Dense(EMBEDDING_DIMENSION, activation='relu'))\n",
    "model.add(Dropout(0.8))\n",
    "model.add(Dense(EMBEDDING_DIMENSION, activation='relu'))\n",
    "model.add(Dropout(0.8))\n",
    "model.add(Dense(3))\n",
    "model.add(Activation('softmax'))\n",
    "model.compile(loss='sparse_categorical_crossentropy', optimizer='adam',metrics=['accuracy'])"
   ]
  },
  {
   "cell_type": "code",
   "execution_count": 106,
   "metadata": {},
   "outputs": [
    {
     "data": {
      "text/plain": [
       "(306,)"
      ]
     },
     "execution_count": 106,
     "metadata": {},
     "output_type": "execute_result"
    }
   ],
   "source": [
    "# TODO: below codeblock doesnt work due to these two fucks having the wrong datatype\n",
    "xtrain_pad = np.asarray(xtrain_pad).astype(np.int_)\n",
    "#training_label_seq\n",
    "\n",
    "#these too?\n",
    "#xtest_pad\n",
    "#test_label_seq"
   ]
  },
  {
   "cell_type": "code",
   "execution_count": 90,
   "metadata": {},
   "outputs": [
    {
     "ename": "ValueError",
     "evalue": "Failed to convert a NumPy array to a Tensor (Unsupported object type list).",
     "output_type": "error",
     "traceback": [
      "\u001b[0;31m---------------------------------------------------------------------------\u001b[0m",
      "\u001b[0;31mValueError\u001b[0m                                Traceback (most recent call last)",
      "\u001b[1;32m/Users/ivarw/Dropbox/GitDAT550/Final_Project/1d.ipynb Cell 58'\u001b[0m in \u001b[0;36m<cell line: 2>\u001b[0;34m()\u001b[0m\n\u001b[1;32m      <a href='vscode-notebook-cell:/Users/ivarw/Dropbox/GitDAT550/Final_Project/1d.ipynb#ch0000061?line=0'>1</a>\u001b[0m num_epochs \u001b[39m=\u001b[39m \u001b[39m10\u001b[39m\n\u001b[0;32m----> <a href='vscode-notebook-cell:/Users/ivarw/Dropbox/GitDAT550/Final_Project/1d.ipynb#ch0000061?line=1'>2</a>\u001b[0m history \u001b[39m=\u001b[39m model\u001b[39m.\u001b[39;49mfit(xtrain_pad, training_label_seq, epochs\u001b[39m=\u001b[39;49mnum_epochs, validation_data\u001b[39m=\u001b[39;49m(xtest_pad, test_label_seq), verbose\u001b[39m=\u001b[39;49m\u001b[39m2\u001b[39;49m)\n",
      "File \u001b[0;32m~/miniforge3/envs/DAT540/lib/python3.8/site-packages/keras/utils/traceback_utils.py:67\u001b[0m, in \u001b[0;36mfilter_traceback.<locals>.error_handler\u001b[0;34m(*args, **kwargs)\u001b[0m\n\u001b[1;32m     <a href='file:///Users/ivarw/miniforge3/envs/DAT540/lib/python3.8/site-packages/keras/utils/traceback_utils.py?line=64'>65</a>\u001b[0m \u001b[39mexcept\u001b[39;00m \u001b[39mException\u001b[39;00m \u001b[39mas\u001b[39;00m e:  \u001b[39m# pylint: disable=broad-except\u001b[39;00m\n\u001b[1;32m     <a href='file:///Users/ivarw/miniforge3/envs/DAT540/lib/python3.8/site-packages/keras/utils/traceback_utils.py?line=65'>66</a>\u001b[0m   filtered_tb \u001b[39m=\u001b[39m _process_traceback_frames(e\u001b[39m.\u001b[39m__traceback__)\n\u001b[0;32m---> <a href='file:///Users/ivarw/miniforge3/envs/DAT540/lib/python3.8/site-packages/keras/utils/traceback_utils.py?line=66'>67</a>\u001b[0m   \u001b[39mraise\u001b[39;00m e\u001b[39m.\u001b[39mwith_traceback(filtered_tb) \u001b[39mfrom\u001b[39;00m \u001b[39mNone\u001b[39m\n\u001b[1;32m     <a href='file:///Users/ivarw/miniforge3/envs/DAT540/lib/python3.8/site-packages/keras/utils/traceback_utils.py?line=67'>68</a>\u001b[0m \u001b[39mfinally\u001b[39;00m:\n\u001b[1;32m     <a href='file:///Users/ivarw/miniforge3/envs/DAT540/lib/python3.8/site-packages/keras/utils/traceback_utils.py?line=68'>69</a>\u001b[0m   \u001b[39mdel\u001b[39;00m filtered_tb\n",
      "File \u001b[0;32m~/miniforge3/envs/DAT540/lib/python3.8/site-packages/tensorflow/python/framework/constant_op.py:102\u001b[0m, in \u001b[0;36mconvert_to_eager_tensor\u001b[0;34m(value, ctx, dtype)\u001b[0m\n\u001b[1;32m    <a href='file:///Users/ivarw/miniforge3/envs/DAT540/lib/python3.8/site-packages/tensorflow/python/framework/constant_op.py?line=99'>100</a>\u001b[0m     dtype \u001b[39m=\u001b[39m dtypes\u001b[39m.\u001b[39mas_dtype(dtype)\u001b[39m.\u001b[39mas_datatype_enum\n\u001b[1;32m    <a href='file:///Users/ivarw/miniforge3/envs/DAT540/lib/python3.8/site-packages/tensorflow/python/framework/constant_op.py?line=100'>101</a>\u001b[0m ctx\u001b[39m.\u001b[39mensure_initialized()\n\u001b[0;32m--> <a href='file:///Users/ivarw/miniforge3/envs/DAT540/lib/python3.8/site-packages/tensorflow/python/framework/constant_op.py?line=101'>102</a>\u001b[0m \u001b[39mreturn\u001b[39;00m ops\u001b[39m.\u001b[39;49mEagerTensor(value, ctx\u001b[39m.\u001b[39;49mdevice_name, dtype)\n",
      "\u001b[0;31mValueError\u001b[0m: Failed to convert a NumPy array to a Tensor (Unsupported object type list)."
     ]
    }
   ],
   "source": [
    "num_epochs = 10\n",
    "history = model.fit(xtrain_pad, training_label_seq, epochs=num_epochs, validation_data=(xtest_pad, test_label_seq), verbose=2)"
   ]
  },
  {
   "cell_type": "code",
   "execution_count": 49,
   "metadata": {},
   "outputs": [
    {
     "ename": "NameError",
     "evalue": "name 'history' is not defined",
     "output_type": "error",
     "traceback": [
      "\u001b[0;31m---------------------------------------------------------------------------\u001b[0m",
      "\u001b[0;31mNameError\u001b[0m                                 Traceback (most recent call last)",
      "\u001b[1;32m/Users/ivarw/Dropbox/GitDAT550/Final_Project/1d.ipynb Cell 60'\u001b[0m in \u001b[0;36m<cell line: 9>\u001b[0;34m()\u001b[0m\n\u001b[1;32m      <a href='vscode-notebook-cell:/Users/ivarw/Dropbox/GitDAT550/Final_Project/1d.ipynb#ch0000062?line=5'>6</a>\u001b[0m   plt\u001b[39m.\u001b[39mlegend([string, \u001b[39m'\u001b[39m\u001b[39mval_\u001b[39m\u001b[39m'\u001b[39m\u001b[39m+\u001b[39mstring])\n\u001b[1;32m      <a href='vscode-notebook-cell:/Users/ivarw/Dropbox/GitDAT550/Final_Project/1d.ipynb#ch0000062?line=6'>7</a>\u001b[0m   plt\u001b[39m.\u001b[39mshow()\n\u001b[0;32m----> <a href='vscode-notebook-cell:/Users/ivarw/Dropbox/GitDAT550/Final_Project/1d.ipynb#ch0000062?line=8'>9</a>\u001b[0m graph_plots(history, \u001b[39m\"\u001b[39m\u001b[39maccuracy\u001b[39m\u001b[39m\"\u001b[39m)\n\u001b[1;32m     <a href='vscode-notebook-cell:/Users/ivarw/Dropbox/GitDAT550/Final_Project/1d.ipynb#ch0000062?line=9'>10</a>\u001b[0m graph_plots(history, \u001b[39m\"\u001b[39m\u001b[39mloss\u001b[39m\u001b[39m\"\u001b[39m)\n",
      "\u001b[0;31mNameError\u001b[0m: name 'history' is not defined"
     ]
    }
   ],
   "source": [
    "def graph_plots(history, string):\n",
    "  plt.plot(history.history[string])\n",
    "  plt.plot(history.history['val_'+string])\n",
    "  plt.xlabel(\"Epochs\")\n",
    "  plt.ylabel(string)\n",
    "  plt.legend([string, 'val_'+string])\n",
    "  plt.show()\n",
    "  \n",
    "graph_plots(history, \"accuracy\")\n",
    "graph_plots(history, \"loss\")"
   ]
  },
  {
   "cell_type": "code",
   "execution_count": null,
   "metadata": {},
   "outputs": [],
   "source": []
  }
 ],
 "metadata": {
  "interpreter": {
   "hash": "6e35155524c1f9408bca4749410ef0ff0fb980c2b8ff5cdb8c228ddba1c490ab"
  },
  "kernelspec": {
   "display_name": "Python 3.8.13 ('DAT540')",
   "language": "python",
   "name": "python3"
  },
  "language_info": {
   "codemirror_mode": {
    "name": "ipython",
    "version": 3
   },
   "file_extension": ".py",
   "mimetype": "text/x-python",
   "name": "python",
   "nbconvert_exporter": "python",
   "pygments_lexer": "ipython3",
   "version": "3.8.13"
  },
  "orig_nbformat": 4
 },
 "nbformat": 4,
 "nbformat_minor": 2
}
