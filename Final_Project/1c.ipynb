{
 "cells": [
  {
   "cell_type": "markdown",
   "metadata": {},
   "source": [
    "# 1c) Check whether a tweet is harmful to society\n",
    "- We have a train and test dataset.\n",
    "- This is an supervised learning task because we have labels that define whether a tweet is harmful or not."
   ]
  },
  {
   "cell_type": "code",
   "execution_count": 50,
   "metadata": {},
   "outputs": [],
   "source": [
    "import pandas as pd\n",
    "import re\n",
    "from nltk.corpus import stopwords\n",
    "from nltk.tokenize import word_tokenize\n",
    "from nltk.stem import WordNetLemmatizer\n",
    "from sklearn.naive_bayes import *\n",
    "from sklearn.svm import LinearSVC\n",
    "from sklearn.feature_extraction.text import CountVectorizer, TfidfVectorizer\n",
    "from sklearn.metrics import *\n",
    "from sklearn.model_selection import GridSearchCV\n",
    "import random\n",
    "import matplotlib.pyplot as plt\n",
    "import numpy as np\n",
    "from collections import Counter\n"
   ]
  },
  {
   "cell_type": "markdown",
   "metadata": {},
   "source": [
    "## Data exploration\n",
    "- First, lets explore our data:"
   ]
  },
  {
   "cell_type": "code",
   "execution_count": 51,
   "metadata": {},
   "outputs": [
    {
     "name": "stdout",
     "output_type": "stream",
     "text": [
      "Test shape: (910, 5)\n",
      "Train shape: (3323, 5)\n",
      "Validation shape: (307, 5)\n"
     ]
    },
    {
     "data": {
      "text/html": [
       "<div>\n",
       "<style scoped>\n",
       "    .dataframe tbody tr th:only-of-type {\n",
       "        vertical-align: middle;\n",
       "    }\n",
       "\n",
       "    .dataframe tbody tr th {\n",
       "        vertical-align: top;\n",
       "    }\n",
       "\n",
       "    .dataframe thead th {\n",
       "        text-align: right;\n",
       "    }\n",
       "</style>\n",
       "<table border=\"1\" class=\"dataframe\">\n",
       "  <thead>\n",
       "    <tr style=\"text-align: right;\">\n",
       "      <th></th>\n",
       "      <th>topic</th>\n",
       "      <th>tweet_id</th>\n",
       "      <th>tweet_url</th>\n",
       "      <th>tweet_text</th>\n",
       "      <th>class_label</th>\n",
       "    </tr>\n",
       "  </thead>\n",
       "  <tbody>\n",
       "    <tr>\n",
       "      <th>0</th>\n",
       "      <td>COVID-19</td>\n",
       "      <td>1.359351e+18</td>\n",
       "      <td>http://twitter.com/user/status/135935094335617...</td>\n",
       "      <td>India's gift of 100,000 COVID-19 vaccines arri...</td>\n",
       "      <td>0</td>\n",
       "    </tr>\n",
       "    <tr>\n",
       "      <th>1</th>\n",
       "      <td>COVID-19</td>\n",
       "      <td>1.350166e+18</td>\n",
       "      <td>http://twitter.com/user/status/135016568806166...</td>\n",
       "      <td>Here’s what I’m doing while I wait my turn for...</td>\n",
       "      <td>0</td>\n",
       "    </tr>\n",
       "    <tr>\n",
       "      <th>2</th>\n",
       "      <td>COVID-19</td>\n",
       "      <td>1.369750e+18</td>\n",
       "      <td>http://twitter.com/user/status/136974953915491...</td>\n",
       "      <td>This afternoon, I’m hosting an event with the ...</td>\n",
       "      <td>0</td>\n",
       "    </tr>\n",
       "    <tr>\n",
       "      <th>3</th>\n",
       "      <td>COVID-19</td>\n",
       "      <td>1.350165e+18</td>\n",
       "      <td>http://twitter.com/user/status/135016499568693...</td>\n",
       "      <td>Help shops like mine stay open. Mask up, avoid...</td>\n",
       "      <td>0</td>\n",
       "    </tr>\n",
       "    <tr>\n",
       "      <th>4</th>\n",
       "      <td>COVID-19</td>\n",
       "      <td>1.370008e+18</td>\n",
       "      <td>http://twitter.com/user/status/137000807648978...</td>\n",
       "      <td>As part of the ongoing nationwide vaccination ...</td>\n",
       "      <td>0</td>\n",
       "    </tr>\n",
       "  </tbody>\n",
       "</table>\n",
       "</div>"
      ],
      "text/plain": [
       "      topic      tweet_id                                          tweet_url  \\\n",
       "0  COVID-19  1.359351e+18  http://twitter.com/user/status/135935094335617...   \n",
       "1  COVID-19  1.350166e+18  http://twitter.com/user/status/135016568806166...   \n",
       "2  COVID-19  1.369750e+18  http://twitter.com/user/status/136974953915491...   \n",
       "3  COVID-19  1.350165e+18  http://twitter.com/user/status/135016499568693...   \n",
       "4  COVID-19  1.370008e+18  http://twitter.com/user/status/137000807648978...   \n",
       "\n",
       "                                          tweet_text  class_label  \n",
       "0  India's gift of 100,000 COVID-19 vaccines arri...            0  \n",
       "1  Here’s what I’m doing while I wait my turn for...            0  \n",
       "2  This afternoon, I’m hosting an event with the ...            0  \n",
       "3  Help shops like mine stay open. Mask up, avoid...            0  \n",
       "4  As part of the ongoing nationwide vaccination ...            0  "
      ]
     },
     "execution_count": 51,
     "metadata": {},
     "output_type": "execute_result"
    }
   ],
   "source": [
    "df_test = pd.read_csv('data/1c/CT22_english_1C_harmful_dev_test.tsv', sep='\\t')\n",
    "df_train = pd.read_csv('data/1c/CT22_english_1C_harmful_train.tsv', sep='\\t')\n",
    "df_valid = pd.read_csv('data/1c/CT22_english_1C_harmful_dev.tsv', sep='\\t')\n",
    "\n",
    "print(\"Test shape: {}\\nTrain shape: {}\\nValidation shape: {}\".format(df_test.shape, df_train.shape, df_valid.shape))\n",
    "df_train.head()"
   ]
  },
  {
   "cell_type": "markdown",
   "metadata": {},
   "source": [
    "Comment:\n",
    "- There are 910 tweets in the test data set,\n",
    "- and 3323 in the train data set.\n",
    "- The only useful features for our task are the actual tweets and their labels"
   ]
  },
  {
   "cell_type": "markdown",
   "metadata": {},
   "source": [
    "Checking for inconsistency:"
   ]
  },
  {
   "cell_type": "code",
   "execution_count": 52,
   "metadata": {},
   "outputs": [
    {
     "name": "stdout",
     "output_type": "stream",
     "text": [
      "Unique topics: ['COVID-19']\n",
      "Unique labels: [0 1]\n",
      "Unique topics: ['COVID-19']\n",
      "Unique labels: [0 1]\n",
      "Unique topics: ['COVID-19']\n",
      "Unique labels: [0 1]\n"
     ]
    }
   ],
   "source": [
    "# Train set uniques\n",
    "print(\"Unique topics: {}\".format(df_train['topic'].unique()))\n",
    "print(\"Unique labels: {}\".format(df_train['class_label'].unique()))\n",
    "\n",
    "# Test set uniques\n",
    "print(\"Unique topics: {}\".format(df_test['topic'].unique()))\n",
    "print(\"Unique labels: {}\".format(df_test['class_label'].unique()))\n",
    "\n",
    "# Validation set uniques\n",
    "print(\"Unique topics: {}\".format(df_valid['topic'].unique()))\n",
    "print(\"Unique labels: {}\".format(df_valid['class_label'].unique()))"
   ]
  },
  {
   "cell_type": "code",
   "execution_count": 53,
   "metadata": {},
   "outputs": [
    {
     "name": "stdout",
     "output_type": "stream",
     "text": [
      "<class 'pandas.core.frame.DataFrame'>\n",
      "RangeIndex: 910 entries, 0 to 909\n",
      "Data columns (total 5 columns):\n",
      " #   Column       Non-Null Count  Dtype \n",
      "---  ------       --------------  ----- \n",
      " 0   topic        910 non-null    object\n",
      " 1   tweet_id     910 non-null    int64 \n",
      " 2   tweet_url    910 non-null    object\n",
      " 3   tweet_text   910 non-null    object\n",
      " 4   class_label  910 non-null    int64 \n",
      "dtypes: int64(2), object(3)\n",
      "memory usage: 35.7+ KB\n"
     ]
    }
   ],
   "source": [
    "df_test.info()"
   ]
  },
  {
   "cell_type": "code",
   "execution_count": 54,
   "metadata": {},
   "outputs": [
    {
     "name": "stdout",
     "output_type": "stream",
     "text": [
      "Test NA-values: topic          0\n",
      "tweet_id       0\n",
      "tweet_url      0\n",
      "tweet_text     0\n",
      "class_label    0\n",
      "dtype: int64\n",
      "\n",
      "Train NA-values: topic          0\n",
      "tweet_id       0\n",
      "tweet_url      0\n",
      "tweet_text     0\n",
      "class_label    0\n",
      "dtype: int64\n",
      "Validation NA-values: topic          0\n",
      "tweet_id       0\n",
      "tweet_url      0\n",
      "tweet_text     0\n",
      "class_label    0\n",
      "dtype: int64\n"
     ]
    }
   ],
   "source": [
    "print(\"Test NA-values: {}\\n\".format(df_test.isna().sum()))\n",
    "print(\"Train NA-values: {}\".format(df_train.isna().sum()))\n",
    "print(\"Validation NA-values: {}\".format(df_valid.isna().sum()))"
   ]
  },
  {
   "cell_type": "markdown",
   "metadata": {},
   "source": [
    "Comment: No inconsistencies"
   ]
  },
  {
   "cell_type": "code",
   "execution_count": 55,
   "metadata": {},
   "outputs": [
    {
     "data": {
      "text/plain": [
       "<BarContainer object of 2 artists>"
      ]
     },
     "execution_count": 55,
     "metadata": {},
     "output_type": "execute_result"
    },
    {
     "data": {
      "image/png": "[encoded data removed]",
      "text/plain": [
       "<Figure size 1080x288 with 3 Axes>"
      ]
     },
     "metadata": {
      "needs_background": "light"
     },
     "output_type": "display_data"
    }
   ],
   "source": [
    "fig, (ax1, ax2, ax3) = plt.subplots(1, 3)\n",
    "fig.set_figwidth(15)\n",
    "\n",
    "data = df_test['class_label'].value_counts().to_dict()\n",
    "ax1.set_title('Test Set')\n",
    "ax1.set_xticks([0, 1])\n",
    "ax1.set_xlabel(\"class label\")\n",
    "ax1.set_ylabel(\"label count\")\n",
    "ax1.bar(data.keys(), data.values())\n",
    "\n",
    "data = df_train['class_label'].value_counts().to_dict()\n",
    "ax2.set_title('Train Set')\n",
    "ax2.set_xticks([0, 1])\n",
    "ax2.set_xlabel(\"class label\")\n",
    "ax2.set_ylabel(\"label count\")\n",
    "ax2.bar(data.keys(), data.values())\n",
    "\n",
    "data = df_valid['class_label'].value_counts().to_dict()\n",
    "ax3.set_title('Validation Set')\n",
    "ax3.set_xticks([0, 1])\n",
    "ax3.set_xlabel(\"class label\")\n",
    "ax3.set_ylabel(\"label count\")\n",
    "ax3.bar(data.keys(), data.values())"
   ]
  },
  {
   "cell_type": "code",
   "execution_count": 56,
   "metadata": {},
   "outputs": [
    {
     "name": "stdout",
     "output_type": "stream",
     "text": [
      "0    3031\n",
      "1     292\n",
      "Name: class_label, dtype: int64\n",
      "0    828\n",
      "1     82\n",
      "Name: class_label, dtype: int64\n",
      "0    276\n",
      "1     31\n",
      "Name: class_label, dtype: int64\n"
     ]
    }
   ],
   "source": [
    "print(df_train['class_label'].value_counts())\n",
    "print(df_test['class_label'].value_counts())\n",
    "print(df_valid['class_label'].value_counts())"
   ]
  },
  {
   "cell_type": "markdown",
   "metadata": {},
   "source": [
    "Comment: \n",
    "- We can see that our data is highly imbalanced. \n",
    "- Around 91% of our data has are labeled with 0 (harmful tweets) and only around 9% are labeled with 1. \n",
    "- We have to keep this in mind when designing our models."
   ]
  },
  {
   "cell_type": "markdown",
   "metadata": {},
   "source": [
    "## Preprocessing\n",
    "- To make our data easier to handle by our ML algorithms we need to preprocess it:\n",
    "- The function below removes all special characters, URLs, stopwords, lammatizes words and makes them to lowercase."
   ]
  },
  {
   "cell_type": "code",
   "execution_count": 57,
   "metadata": {},
   "outputs": [],
   "source": [
    "# Removing stop words from: https://www.geeksforgeeks.org/removing-stop-words-nltk-python/\n",
    "\n",
    "def preprocess(df):\n",
    "    processed_text = []\n",
    "    lemmatizer = WordNetLemmatizer()\n",
    "\n",
    "    # URL PATTERN copied from: https://stackoverflow.com/questions/520031/whats-the-cleanest-way-to-extract-urls-from-a-string-using-python\n",
    "    URL_PATTERN = r\"\"\"(?i)\\b((?:https?:(?:/{1,3}|[a-z0-9%])|[a-z0-9.\\-]+[.](?:com|net|org|edu|gov|mil|aero|asia|biz|cat|coop|info|int|jobs|mobi|museum|name|post|pro|tel|travel|xxx|ac|ad|ae|af|ag|ai|al|am|an|ao|aq|ar|as|at|au|aw|ax|az|ba|bb|bd|be|bf|bg|bh|bi|bj|bm|bn|bo|br|bs|bt|bv|bw|by|bz|ca|cc|cd|cf|cg|ch|ci|ck|cl|cm|cn|co|cr|cs|cu|cv|cx|cy|cz|dd|de|dj|dk|dm|do|dz|ec|ee|eg|eh|er|es|et|eu|fi|fj|fk|fm|fo|fr|ga|gb|gd|ge|gf|gg|gh|gi|gl|gm|gn|gp|gq|gr|gs|gt|gu|gw|gy|hk|hm|hn|hr|ht|hu|id|ie|il|im|in|io|iq|ir|is|it|je|jm|jo|jp|ke|kg|kh|ki|km|kn|kp|kr|kw|ky|kz|la|lb|lc|li|lk|lr|ls|lt|lu|lv|ly|ma|mc|md|me|mg|mh|mk|ml|mm|mn|mo|mp|mq|mr|ms|mt|mu|mv|mw|mx|my|mz|na|nc|ne|nf|ng|ni|nl|no|np|nr|nu|nz|om|pa|pe|pf|pg|ph|pk|pl|pm|pn|pr|ps|pt|pw|py|qa|re|ro|rs|ru|rw|sa|sb|sc|sd|se|sg|sh|si|sj|Ja|sk|sl|sm|sn|so|sr|ss|st|su|sv|sx|sy|sz|tc|td|tf|tg|th|tj|tk|tl|tm|tn|to|tp|tr|tt|tv|tw|tz|ua|ug|uk|us|uy|uz|va|vc|ve|vg|vi|vn|vu|wf|ws|ye|yt|yu|za|zm|zw)/)(?:[^\\s()<>{}\\[\\]]+|\\([^\\s()]*?\\([^\\s()]+\\)[^\\s()]*?\\)|\\([^\\s]+?\\))+(?:\\([^\\s()]*?\\([^\\s()]+\\)[^\\s()]*?\\)|\\([^\\s]+?\\)|[^\\s`!()\\[\\]{};:\\'\\\".,<>?«»“”‘’])|(?:(?<!@)[a-z0-9]+(?:[.\\-][a-z0-9]+)*[.](?:com|net|org|edu|gov|mil|aero|asia|biz|cat|coop|info|int|jobs|mobi|museum|name|post|pro|tel|travel|xxx|ac|ad|ae|af|ag|ai|al|am|an|ao|aq|ar|as|at|au|aw|ax|az|ba|bb|bd|be|bf|bg|bh|bi|bj|bm|bn|bo|br|bs|bt|bv|bw|by|bz|ca|cc|cd|cf|cg|ch|ci|ck|cl|cm|cn|co|cr|cs|cu|cv|cx|cy|cz|dd|de|dj|dk|dm|do|dz|ec|ee|eg|eh|er|es|et|eu|fi|fj|fk|fm|fo|fr|ga|gb|gd|ge|gf|gg|gh|gi|gl|gm|gn|gp|gq|gr|gs|gt|gu|gw|gy|hk|hm|hn|hr|ht|hu|id|ie|il|im|in|io|iq|ir|is|it|je|jm|jo|jp|ke|kg|kh|ki|km|kn|kp|kr|kw|ky|kz|la|lb|lc|li|lk|lr|ls|lt|lu|lv|ly|ma|mc|md|me|mg|mh|mk|ml|mm|mn|mo|mp|mq|mr|ms|mt|mu|mv|mw|mx|my|mz|na|nc|ne|nf|ng|ni|nl|no|np|nr|nu|nz|om|pa|pe|pf|pg|ph|pk|pl|pm|pn|pr|ps|pt|pw|py|qa|re|ro|rs|ru|rw|sa|sb|sc|sd|se|sg|sh|si|sj|Ja|sk|sl|sm|sn|so|sr|ss|st|su|sv|sx|sy|sz|tc|td|tf|tg|th|tj|tk|tl|tm|tn|to|tp|tr|tt|tv|tw|tz|ua|ug|uk|us|uy|uz|va|vc|ve|vg|vi|vn|vu|wf|ws|ye|yt|yu|za|zm|zw)\\b/?(?!@)))\"\"\"\n",
    "    STOP_WORDS = set(stopwords.words('english'))\n",
    "\n",
    "    \n",
    "    for tweet in df['tweet_text']:\n",
    "        tweet = re.sub(URL_PATTERN, '', tweet)\n",
    "        tweet = tweet.lower()\n",
    "        tweet = re.sub('\\d', '', tweet) # Remove digits\n",
    "        tweet = re.sub('[^A-Za-z0-9]+', ' ', tweet) # Remove all special charaters\n",
    "        tokens = word_tokenize(tweet)\n",
    "        tweet = [lemmatizer.lemmatize(word) for word in tokens if not word in STOP_WORDS] # Lemmatize and remove stop words\n",
    "        tweet = \" \".join(tweet)\n",
    "        processed_text.append(tweet)\n",
    "        \n",
    "    df['processed_text'] = processed_text \n",
    "\n",
    "preprocess(df_train)\n",
    "preprocess(df_test)\n",
    "preprocess(df_valid)"
   ]
  },
  {
   "cell_type": "markdown",
   "metadata": {},
   "source": [
    "A random tweet before and after:"
   ]
  },
  {
   "cell_type": "code",
   "execution_count": 58,
   "metadata": {},
   "outputs": [
    {
     "name": "stdout",
     "output_type": "stream",
     "text": [
      "Before:\n",
      "Covenant Health: https://t.co/Z0DQg13k5X Some local pharmacies: https://t.co/j4Nq8msJDM And remember, if you can't get an appointment right away, try again soon. Vaccine distribution is still ramping up. Check your eligibility here: https://t.co/QeDLS1Elfs\n",
      "\n",
      "After:\n",
      "covenant health local pharmacy remember get appointment right away try soon vaccine distribution still ramping check eligibility\n"
     ]
    }
   ],
   "source": [
    "index = random.randint(0, len(df_train['tweet_text'].to_list()))\n",
    "\n",
    "print(\"Before:\\n\" + df_train['tweet_text'].to_list()[index])\n",
    "print(\"\\nAfter:\\n\" + df_train['processed_text'].to_list()[index])"
   ]
  },
  {
   "cell_type": "markdown",
   "metadata": {},
   "source": [
    "Most common n words in the train dataset:"
   ]
  },
  {
   "cell_type": "code",
   "execution_count": 59,
   "metadata": {},
   "outputs": [
    {
     "data": {
      "text/plain": [
       "[('vaccine', 4107),\n",
       " ('covid', 2968),\n",
       " ('people', 406),\n",
       " ('get', 392),\n",
       " ('u', 364),\n",
       " ('amp', 340),\n",
       " ('health', 324),\n",
       " ('coronavirus', 312),\n",
       " ('country', 266)]"
      ]
     },
     "execution_count": 59,
     "metadata": {},
     "output_type": "execute_result"
    }
   ],
   "source": [
    "def get_most_common_words(n):\n",
    "    counter = Counter()\n",
    "    for tweet in df_train['processed_text']:\n",
    "        for word in tweet.split():\n",
    "            counter[word] += 1\n",
    "    return counter.most_common(n)\n",
    "    \n",
    "get_most_common_words(9)"
   ]
  },
  {
   "cell_type": "markdown",
   "metadata": {},
   "source": [
    "# Training/Validation\n",
    "- Since we are dealing with an highly imbalanced data set, we will be using Complement Naive Bayes algorithm to train our model, which is specifically designed imbalanced datasets. (https://scikit-learn.org/stable/modules/naive_bayes.html)\n",
    "- Because we are dealing with an imbalanced data set we will be using f1 to validate our results."
   ]
  },
  {
   "cell_type": "code",
   "execution_count": 60,
   "metadata": {},
   "outputs": [],
   "source": [
    "vectorizer = CountVectorizer(stop_words='english')\n",
    "vectorizer.fit(df_train['processed_text'])\n",
    "\n",
    "X_train = vectorizer.transform(df_train['processed_text'])\n",
    "X_valid = vectorizer.transform(df_valid['processed_text'])\n",
    "X_test = vectorizer.transform(df_test['processed_text'])\n",
    "\n",
    "y_train = df_train['class_label'].to_list()\n",
    "y_valid = df_valid['class_label'].to_list()\n",
    "y_test = df_test['class_label'].to_list()\n"
   ]
  },
  {
   "cell_type": "markdown",
   "metadata": {},
   "source": [
    "The different models:"
   ]
  },
  {
   "cell_type": "code",
   "execution_count": 61,
   "metadata": {},
   "outputs": [],
   "source": [
    "gnb = GaussianNB()\n",
    "y_pred_gaussianNB = gnb.fit(X_train.toarray(), y_train).predict(X_valid.toarray())\n",
    "\n",
    "mnb = MultinomialNB()\n",
    "y_pred_multinomialNB = mnb.fit(X_train.toarray(), y_train).predict(X_valid.toarray())\n",
    "\n",
    "cnb = ComplementNB()\n",
    "y_pred_complementNB = cnb.fit(X_train.toarray(), y_train).predict(X_valid.toarray())\n",
    "\n",
    "bnb = BernoulliNB()\n",
    "y_pred_bernoulliNB = bnb.fit(X_train.toarray(), y_train).predict(X_valid.toarray())\n",
    "\n",
    "lsvc = LinearSVC()\n",
    "y_pred_lsvc = lsvc.fit(X_train.toarray(), y_train).predict(X_valid.toarray())"
   ]
  },
  {
   "cell_type": "code",
   "execution_count": 62,
   "metadata": {},
   "outputs": [
    {
     "name": "stdout",
     "output_type": "stream",
     "text": [
      "Gaussian F1-score: 0.27, Accuracy: 0.89\n",
      "Multinomial F1-score: 0.18, Accuracy: 0.91\n",
      "Complement F1-score: 0.32, Accuracy: 0.90\n",
      "Bernoulli F1-score: 0.00, Accuracy: 0.90\n",
      "Linear SVC F1-score: 0.18, Accuracy: 0.88\n"
     ]
    }
   ],
   "source": [
    "print('Gaussian F1-score: {:.2f}, Accuracy: {:.2f}'.format(f1_score(y_valid, y_pred_gaussianNB), accuracy_score(y_valid, y_pred_gaussianNB)))\n",
    "print('Multinomial F1-score: {:.2f}, Accuracy: {:.2f}'.format(f1_score(y_valid, y_pred_multinomialNB), accuracy_score(y_valid, y_pred_multinomialNB)))\n",
    "print('Complement F1-score: {:.2f}, Accuracy: {:.2f}'.format(f1_score(y_valid, y_pred_complementNB), accuracy_score(y_valid, y_pred_complementNB)))\n",
    "print('Bernoulli F1-score: {:.2f}, Accuracy: {:.2f}'.format(f1_score(y_valid, y_pred_bernoulliNB), accuracy_score(y_valid, y_pred_bernoulliNB)))\n",
    "print('Linear SVC F1-score: {:.2f}, Accuracy: {:.2f}'.format(f1_score(y_valid, y_pred_lsvc), accuracy_score(y_valid, y_pred_lsvc)))"
   ]
  },
  {
   "cell_type": "markdown",
   "metadata": {},
   "source": [
    "Comment:\n",
    "- From the output above we see that the f1-scores aren't the best. This is because the algorithm guesses well on the majority, class but not minority.\n",
    "- To fix this problem we will try to oversample our minority class."
   ]
  },
  {
   "cell_type": "markdown",
   "metadata": {},
   "source": [
    "## Balancing the data\n",
    "- For the balancing part it makes most sence to oversample the minority class. \n",
    "- If we would have undersampled the majority class instead, we would have very few samples to train our models with."
   ]
  },
  {
   "cell_type": "code",
   "execution_count": 63,
   "metadata": {},
   "outputs": [
    {
     "data": {
      "text/plain": [
       "<BarContainer object of 2 artists>"
      ]
     },
     "execution_count": 63,
     "metadata": {},
     "output_type": "execute_result"
    },
    {
     "data": {
      "image/png": "[encoded data removed]",
      "text/plain": [
       "<Figure size 360x288 with 1 Axes>"
      ]
     },
     "metadata": {
      "needs_background": "light"
     },
     "output_type": "display_data"
    }
   ],
   "source": [
    "# Inspired by: https://medium.com/analytics-vidhya/undersampling-and-oversampling-an-old-and-a-new-approach-4f984a0e8392\n",
    "\n",
    "def oversample(df):\n",
    "    majority_class = max(df.class_label.value_counts())\n",
    "    df_0 = df[df['class_label'] == 0].sample(majority_class, replace=True)\n",
    "    df_1 = df[df['class_label'] == 1].sample(majority_class, replace=True)\n",
    "    return pd.concat([df_0, df_1], axis=0)\n",
    "\n",
    "def undersample(df):\n",
    "    minority_class = min(df.class_label.value_counts())\n",
    "    df_0 = df[df['class_label'] == 0].sample(minority_class, replace=True)\n",
    "    df_1 = df[df['class_label'] == 1].sample(minority_class, replace=True)\n",
    "    return pd.concat([df_0, df_1], axis=0)\n",
    "    \n",
    "df_train = oversample(df_train)\n",
    "\n",
    "# Plotting the labels:\n",
    "fig, ax = plt.subplots(1, 1)\n",
    "fig.set_figwidth(5)\n",
    "\n",
    "data = df_train['class_label'].value_counts().to_dict()\n",
    "ax.set_title('Train Set')\n",
    "ax.set_xticks([0, 1])\n",
    "ax.set_xlabel(\"class label\")\n",
    "ax.set_ylabel(\"label count\")\n",
    "ax.bar(data.keys(), data.values())"
   ]
  },
  {
   "cell_type": "markdown",
   "metadata": {},
   "source": [
    "Comment:\n",
    "- Now we have a balanced train set.\n",
    "- Let's try test our models again."
   ]
  },
  {
   "cell_type": "code",
   "execution_count": 64,
   "metadata": {},
   "outputs": [],
   "source": [
    "vectorizer = CountVectorizer(stop_words='english')\n",
    "vectorizer.fit(df_train['processed_text'])\n",
    "\n",
    "X_train = vectorizer.transform(df_train['processed_text'])\n",
    "X_valid = vectorizer.transform(df_valid['processed_text'])\n",
    "X_test = vectorizer.transform(df_test['processed_text'])\n",
    "\n",
    "y_train = df_train['class_label'].to_list()"
   ]
  },
  {
   "cell_type": "code",
   "execution_count": 65,
   "metadata": {},
   "outputs": [],
   "source": [
    "gnb = GaussianNB()\n",
    "y_pred_gaussianNB = gnb.fit(X_train.toarray(), y_train).predict(X_valid.toarray())\n",
    "\n",
    "mnb = MultinomialNB()\n",
    "y_pred_multinomialNB = mnb.fit(X_train.toarray(), y_train).predict(X_valid.toarray())\n",
    "\n",
    "cnb = ComplementNB()\n",
    "y_pred_complementNB = cnb.fit(X_train.toarray(), y_train).predict(X_valid.toarray())\n",
    "\n",
    "bnb = BernoulliNB()\n",
    "y_pred_bernoulliNB = bnb.fit(X_train.toarray(), y_train).predict(X_valid.toarray())\n",
    "\n",
    "lsvc = LinearSVC()\n",
    "y_pred_lsvc = lsvc.fit(X_train.toarray(), y_train).predict(X_valid.toarray())"
   ]
  },
  {
   "cell_type": "code",
   "execution_count": 66,
   "metadata": {},
   "outputs": [
    {
     "name": "stdout",
     "output_type": "stream",
     "text": [
      "Gaussian F1-score: 0.26, Accuracy: 0.87\n",
      "Multinomial F1-score: 0.42, Accuracy: 0.85\n",
      "Complement F1-score: 0.42, Accuracy: 0.85\n",
      "Bernoulli F1-score: 0.46, Accuracy: 0.86\n",
      "Linear SVC F1-score: 0.21, Accuracy: 0.86\n"
     ]
    }
   ],
   "source": [
    "print('Gaussian F1-score: {:.2f}, Accuracy: {:.2f}'.format(f1_score(y_valid, y_pred_gaussianNB), accuracy_score(y_valid, y_pred_gaussianNB)))\n",
    "print('Multinomial F1-score: {:.2f}, Accuracy: {:.2f}'.format(f1_score(y_valid, y_pred_multinomialNB), accuracy_score(y_valid, y_pred_multinomialNB)))\n",
    "print('Complement F1-score: {:.2f}, Accuracy: {:.2f}'.format(f1_score(y_valid, y_pred_complementNB), accuracy_score(y_valid, y_pred_complementNB)))\n",
    "print('Bernoulli F1-score: {:.2f}, Accuracy: {:.2f}'.format(f1_score(y_valid, y_pred_bernoulliNB), accuracy_score(y_valid, y_pred_bernoulliNB)))\n",
    "print('Linear SVC F1-score: {:.2f}, Accuracy: {:.2f}'.format(f1_score(y_valid, y_pred_lsvc), accuracy_score(y_valid, y_pred_lsvc)))"
   ]
  },
  {
   "cell_type": "markdown",
   "metadata": {},
   "source": [
    "Comment:\n",
    "- We get somewhat better F1-scores after oversampling.\n",
    "- Lets try to find the best parameters for our models"
   ]
  },
  {
   "cell_type": "markdown",
   "metadata": {},
   "source": [
    "# Hyper-parameter tuning"
   ]
  },
  {
   "cell_type": "code",
   "execution_count": 67,
   "metadata": {},
   "outputs": [],
   "source": [
    "gnb = GridSearchCV(estimator = GaussianNB(), param_grid = [{'var_smoothing': [1e-9, 1e-8, 1e-7, 1e-6, 1e-5]}], scoring='f1')\n",
    "y_pred_gaussianNB = gnb.fit(X_train.toarray(), y_train).predict(X_valid.toarray())\n",
    "\n",
    "mnb = GridSearchCV(estimator = MultinomialNB(), param_grid = [{'alpha': np.arange(1.0e-10, 1, 0.1)}], scoring='f1')\n",
    "y_pred_multinomialNB = mnb.fit(X_train.toarray(), y_train).predict(X_valid.toarray())\n",
    "\n",
    "cnb = GridSearchCV(estimator = ComplementNB(), param_grid = [{'alpha': np.arange(1.0e-10, 1, 0.1)}], scoring='f1')\n",
    "y_pred_complementNB = cnb.fit(X_train.toarray(), y_train).predict(X_valid.toarray())\n",
    "\n",
    "bnb = GridSearchCV(estimator = BernoulliNB(), param_grid = [{'alpha': np.arange(1.0e-10, 1, 0.1)}], scoring='f1')\n",
    "y_pred_bernoulliNB = bnb.fit(X_train.toarray(), y_train).predict(X_valid.toarray())\n",
    "\n",
    "lsvc = GridSearchCV(estimator = LinearSVC(), param_grid = [{'C': [1e-5, 1e-4, 1e-3, 1e-2, 1e-1, 1]}], scoring='f1')\n",
    "y_pred_lsvc = lsvc.fit(X_train.toarray(), y_train).predict(X_valid.toarray())"
   ]
  },
  {
   "cell_type": "code",
   "execution_count": 68,
   "metadata": {},
   "outputs": [
    {
     "name": "stdout",
     "output_type": "stream",
     "text": [
      "Gaussian F1-score: 0.26, Accuracy: 0.87, Best parameter: {'var_smoothing': 1e-09}\n",
      "Multinomial F1-score: 0.24, Accuracy: 0.88, Best parameter: {'alpha': 1e-10}\n",
      "Complement F1-score: 0.24, Accuracy: 0.88, Best parameter: {'alpha': 1e-10}\n",
      "Bernoulli F1-score: 0.24, Accuracy: 0.88, Best parameter: {'alpha': 1e-10}\n",
      "Linear SVC F1-score: 0.21, Accuracy: 0.86, Best parameter: {'C': 1}\n"
     ]
    }
   ],
   "source": [
    "print('Gaussian F1-score: {:.2f}, Accuracy: {:.2f}, Best parameter: {}'.format(f1_score(y_valid, y_pred_gaussianNB), accuracy_score(y_valid, y_pred_gaussianNB), gnb.best_params_))\n",
    "print('Multinomial F1-score: {:.2f}, Accuracy: {:.2f}, Best parameter: {}'.format(f1_score(y_valid, y_pred_multinomialNB), accuracy_score(y_valid, y_pred_multinomialNB), mnb.best_params_))\n",
    "print('Complement F1-score: {:.2f}, Accuracy: {:.2f}, Best parameter: {}'.format(f1_score(y_valid, y_pred_complementNB), accuracy_score(y_valid, y_pred_complementNB), cnb.best_params_))\n",
    "print('Bernoulli F1-score: {:.2f}, Accuracy: {:.2f}, Best parameter: {}'.format(f1_score(y_valid, y_pred_bernoulliNB), accuracy_score(y_valid, y_pred_bernoulliNB), bnb.best_params_))\n",
    "print('Linear SVC F1-score: {:.2f}, Accuracy: {:.2f}, Best parameter: {}'.format(f1_score(y_valid, y_pred_lsvc), accuracy_score(y_valid, y_pred_lsvc), lsvc.best_params_))"
   ]
  },
  {
   "cell_type": "markdown",
   "metadata": {},
   "source": [
    "Comment:\n",
    "- Surprisingly our F1-scores went down after cross validating grid search\n",
    "- MNB and CNB got the best results, but since the CNB got is a variation of MNB that is used for skewed datasets, we will proceed to use MNB to test our model"
   ]
  },
  {
   "cell_type": "markdown",
   "metadata": {},
   "source": [
    "# Testing"
   ]
  },
  {
   "cell_type": "code",
   "execution_count": 69,
   "metadata": {},
   "outputs": [],
   "source": [
    "mnb_final = MultinomialNB(alpha=mnb.best_params_)\n",
    "y_pred_mnb = mnb.fit(X_train.toarray(), y_train).predict(X_test.toarray())"
   ]
  },
  {
   "cell_type": "code",
   "execution_count": 70,
   "metadata": {},
   "outputs": [
    {
     "name": "stdout",
     "output_type": "stream",
     "text": [
      "Best parameter: {'alpha': 1e-10}\n",
      "Multinomial F1-score: 0.28, Accuracy: 0.90\n"
     ]
    }
   ],
   "source": [
    "print(\"Best parameter: {}\".format(mnb.best_params_))\n",
    "print('Multinomial F1-score: {:.2f}, Accuracy: {:.2f}'.format(f1_score(y_test, y_pred_mnb), accuracy_score(y_test, y_pred_mnb)))"
   ]
  }
 ],
 "metadata": {
  "interpreter": {
   "hash": "30f714e597357a060011314c390f095b14bdfc77e179572e10be14d1253a6501"
  },
  "kernelspec": {
   "display_name": "Python 3.10.2 64-bit",
   "language": "python",
   "name": "python3"
  },
  "language_info": {
   "codemirror_mode": {
    "name": "ipython",
    "version": 3
   },
   "file_extension": ".py",
   "mimetype": "text/x-python",
   "name": "python",
   "nbconvert_exporter": "python",
   "pygments_lexer": "ipython3",
   "version": "3.10.2"
  },
  "orig_nbformat": 4
 },
 "nbformat": 4,
 "nbformat_minor": 2
}
