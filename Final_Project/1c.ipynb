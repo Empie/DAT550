{
 "cells": [
  {
   "cell_type": "markdown",
   "metadata": {},
   "source": [
    "# 1c) Check whether a tweet is harmful to society\n",
    "- We have a train and test dataset.\n",
    "- This is an supervised learning task because we have labels that define whether a tweet is harmful or not.\n",
    "- All we need to do is train our algorithmns on based on these labels, and evaluate on the test dataset."
   ]
  },
  {
   "cell_type": "code",
   "execution_count": 226,
   "metadata": {},
   "outputs": [],
   "source": [
    "import pandas as pd\n",
    "import re\n",
    "from nltk.corpus import stopwords\n",
    "from nltk.tokenize import word_tokenize\n",
    "from nltk.stem import WordNetLemmatizer\n",
    "from sklearn.naive_bayes import *\n",
    "from sklearn.feature_extraction.text import CountVectorizer, TfidfVectorizer\n",
    "from sklearn.metrics import *\n",
    "import random\n",
    "import matplotlib.pyplot as plt\n",
    "import numpy as np"
   ]
  },
  {
   "cell_type": "markdown",
   "metadata": {},
   "source": [
    "## Data exploration\n",
    "- First, lets explore our data:"
   ]
  },
  {
   "cell_type": "code",
   "execution_count": 162,
   "metadata": {},
   "outputs": [
    {
     "name": "stdout",
     "output_type": "stream",
     "text": [
      "Test shape: (910, 5)\n",
      "Train shape: (3323, 5)\n"
     ]
    },
    {
     "data": {
      "text/html": [
       "<div>\n",
       "<style scoped>\n",
       "    .dataframe tbody tr th:only-of-type {\n",
       "        vertical-align: middle;\n",
       "    }\n",
       "\n",
       "    .dataframe tbody tr th {\n",
       "        vertical-align: top;\n",
       "    }\n",
       "\n",
       "    .dataframe thead th {\n",
       "        text-align: right;\n",
       "    }\n",
       "</style>\n",
       "<table border=\"1\" class=\"dataframe\">\n",
       "  <thead>\n",
       "    <tr style=\"text-align: right;\">\n",
       "      <th></th>\n",
       "      <th>topic</th>\n",
       "      <th>tweet_id</th>\n",
       "      <th>tweet_url</th>\n",
       "      <th>tweet_text</th>\n",
       "      <th>class_label</th>\n",
       "    </tr>\n",
       "  </thead>\n",
       "  <tbody>\n",
       "    <tr>\n",
       "      <th>0</th>\n",
       "      <td>COVID-19</td>\n",
       "      <td>1.359351e+18</td>\n",
       "      <td>http://twitter.com/user/status/135935094335617...</td>\n",
       "      <td>India's gift of 100,000 COVID-19 vaccines arri...</td>\n",
       "      <td>0</td>\n",
       "    </tr>\n",
       "    <tr>\n",
       "      <th>1</th>\n",
       "      <td>COVID-19</td>\n",
       "      <td>1.350166e+18</td>\n",
       "      <td>http://twitter.com/user/status/135016568806166...</td>\n",
       "      <td>Here’s what I’m doing while I wait my turn for...</td>\n",
       "      <td>0</td>\n",
       "    </tr>\n",
       "    <tr>\n",
       "      <th>2</th>\n",
       "      <td>COVID-19</td>\n",
       "      <td>1.369750e+18</td>\n",
       "      <td>http://twitter.com/user/status/136974953915491...</td>\n",
       "      <td>This afternoon, I’m hosting an event with the ...</td>\n",
       "      <td>0</td>\n",
       "    </tr>\n",
       "    <tr>\n",
       "      <th>3</th>\n",
       "      <td>COVID-19</td>\n",
       "      <td>1.350165e+18</td>\n",
       "      <td>http://twitter.com/user/status/135016499568693...</td>\n",
       "      <td>Help shops like mine stay open. Mask up, avoid...</td>\n",
       "      <td>0</td>\n",
       "    </tr>\n",
       "    <tr>\n",
       "      <th>4</th>\n",
       "      <td>COVID-19</td>\n",
       "      <td>1.370008e+18</td>\n",
       "      <td>http://twitter.com/user/status/137000807648978...</td>\n",
       "      <td>As part of the ongoing nationwide vaccination ...</td>\n",
       "      <td>0</td>\n",
       "    </tr>\n",
       "  </tbody>\n",
       "</table>\n",
       "</div>"
      ],
      "text/plain": [
       "      topic      tweet_id                                          tweet_url  \\\n",
       "0  COVID-19  1.359351e+18  http://twitter.com/user/status/135935094335617...   \n",
       "1  COVID-19  1.350166e+18  http://twitter.com/user/status/135016568806166...   \n",
       "2  COVID-19  1.369750e+18  http://twitter.com/user/status/136974953915491...   \n",
       "3  COVID-19  1.350165e+18  http://twitter.com/user/status/135016499568693...   \n",
       "4  COVID-19  1.370008e+18  http://twitter.com/user/status/137000807648978...   \n",
       "\n",
       "                                          tweet_text  class_label  \n",
       "0  India's gift of 100,000 COVID-19 vaccines arri...            0  \n",
       "1  Here’s what I’m doing while I wait my turn for...            0  \n",
       "2  This afternoon, I’m hosting an event with the ...            0  \n",
       "3  Help shops like mine stay open. Mask up, avoid...            0  \n",
       "4  As part of the ongoing nationwide vaccination ...            0  "
      ]
     },
     "execution_count": 162,
     "metadata": {},
     "output_type": "execute_result"
    }
   ],
   "source": [
    "df_test = pd.read_csv('data/1c/CT22_english_1C_harmful_dev_test.tsv', sep='\\t')\n",
    "df_train = pd.read_csv('data/1c/CT22_english_1C_harmful_train.tsv', sep='\\t')\n",
    "\n",
    "print(\"Test shape: {}\\nTrain shape: {}\".format(df_test.shape, df_train.shape))\n",
    "\n",
    "df_train.head()"
   ]
  },
  {
   "cell_type": "markdown",
   "metadata": {},
   "source": [
    "Comment:\n",
    "- There are 910 tweets in the test data set,\n",
    "- and 3323 in the train data set.\n",
    "- The only useful features for our task are the actual tweets and their labels"
   ]
  },
  {
   "cell_type": "markdown",
   "metadata": {},
   "source": [
    "Checking for inconsistency:"
   ]
  },
  {
   "cell_type": "code",
   "execution_count": 163,
   "metadata": {},
   "outputs": [
    {
     "name": "stdout",
     "output_type": "stream",
     "text": [
      "Unique topics: ['COVID-19']\n",
      "Unique labels: [0 1]\n",
      "Unique topics: ['COVID-19']\n",
      "Unique labels: [0 1]\n"
     ]
    }
   ],
   "source": [
    "# Train set uniques\n",
    "print(\"Unique topics: {}\".format(df_train['topic'].unique()))\n",
    "print(\"Unique labels: {}\".format(df_train['class_label'].unique()))\n",
    "\n",
    "# Test set uniques\n",
    "print(\"Unique topics: {}\".format(df_test['topic'].unique()))\n",
    "print(\"Unique labels: {}\".format(df_test['class_label'].unique()))"
   ]
  },
  {
   "cell_type": "code",
   "execution_count": 164,
   "metadata": {},
   "outputs": [
    {
     "name": "stdout",
     "output_type": "stream",
     "text": [
      "Test NA-values: topic          0\n",
      "tweet_id       0\n",
      "tweet_url      0\n",
      "tweet_text     0\n",
      "class_label    0\n",
      "dtype: int64\n",
      "\n",
      "Train NA-values: topic          0\n",
      "tweet_id       0\n",
      "tweet_url      0\n",
      "tweet_text     0\n",
      "class_label    0\n",
      "dtype: int64\n"
     ]
    }
   ],
   "source": [
    "print(\"Test NA-values: {}\\n\".format(df_test.isna().sum()))\n",
    "print(\"Train NA-values: {}\".format(df_train.isna().sum()))"
   ]
  },
  {
   "cell_type": "markdown",
   "metadata": {},
   "source": [
    "Comment: No inconsistencies"
   ]
  },
  {
   "cell_type": "code",
   "execution_count": 165,
   "metadata": {},
   "outputs": [
    {
     "data": {
      "text/plain": [
       "<BarContainer object of 2 artists>"
      ]
     },
     "execution_count": 165,
     "metadata": {},
     "output_type": "execute_result"
    },
    {
     "data": {
      "image/png": "[encoded data removed]",
      "text/plain": [
       "<Figure size 720x288 with 2 Axes>"
      ]
     },
     "metadata": {
      "needs_background": "light"
     },
     "output_type": "display_data"
    }
   ],
   "source": [
    "fig, (ax1, ax2) = plt.subplots(1, 2)\n",
    "fig.set_figwidth(10)\n",
    "\n",
    "# Train data\n",
    "train_data = df_train['class_label'].value_counts().to_dict()\n",
    "ax1.set_title('Train Data')\n",
    "ax1.set_xticks([0,1])\n",
    "ax1.set_xlabel(\"class label\")\n",
    "ax1.set_ylabel(\"label count\")\n",
    "ax1.bar(train_data.keys(), train_data.values())\n",
    "\n",
    "# Test data\n",
    "test_data = df_test['class_label'].value_counts().to_dict()\n",
    "ax2.set_title('Test Data')\n",
    "ax2.set_xticks([0,1])\n",
    "ax2.set_xlabel(\"class label\")\n",
    "ax2.set_ylabel(\"label count\")\n",
    "ax2.bar(test_data.keys(), test_data.values())"
   ]
  },
  {
   "cell_type": "code",
   "execution_count": 166,
   "metadata": {},
   "outputs": [
    {
     "name": "stdout",
     "output_type": "stream",
     "text": [
      "0    3031\n",
      "1     292\n",
      "Name: class_label, dtype: int64\n",
      "0    828\n",
      "1     82\n",
      "Name: class_label, dtype: int64\n"
     ]
    }
   ],
   "source": [
    "print(df_train['class_label'].value_counts())\n",
    "print(df_test['class_label'].value_counts())"
   ]
  },
  {
   "cell_type": "markdown",
   "metadata": {},
   "source": [
    "Comment: \n",
    "- We can see that our data is highly imbalanced. \n",
    "- Around 91% of our data has are labeled with 0 (harmful tweets) and only around 9% are labeled with 1. \n",
    "- We have to keep this in mind when designing our models."
   ]
  },
  {
   "cell_type": "markdown",
   "metadata": {},
   "source": [
    "## Cleanup\n",
    "To make our data easier to handle by our ML algorithms we need to pre process it:\n",
    "The function below removes all special characters, URLs, stopwords, lammatizes words and makes them to lowercase."
   ]
  },
  {
   "cell_type": "code",
   "execution_count": 167,
   "metadata": {},
   "outputs": [],
   "source": [
    "# Removing stop words from: https://www.geeksforgeeks.org/removing-stop-words-nltk-python/\n",
    "\n",
    "def preprocess(tweets):\n",
    "    processed_list = []\n",
    "    lemmatizer = WordNetLemmatizer()\n",
    "\n",
    "    # URL PATTERN copied from: https://stackoverflow.com/questions/520031/whats-the-cleanest-way-to-extract-urls-from-a-string-using-python\n",
    "    URL_PATTERN = r\"\"\"(?i)\\b((?:https?:(?:/{1,3}|[a-z0-9%])|[a-z0-9.\\-]+[.](?:com|net|org|edu|gov|mil|aero|asia|biz|cat|coop|info|int|jobs|mobi|museum|name|post|pro|tel|travel|xxx|ac|ad|ae|af|ag|ai|al|am|an|ao|aq|ar|as|at|au|aw|ax|az|ba|bb|bd|be|bf|bg|bh|bi|bj|bm|bn|bo|br|bs|bt|bv|bw|by|bz|ca|cc|cd|cf|cg|ch|ci|ck|cl|cm|cn|co|cr|cs|cu|cv|cx|cy|cz|dd|de|dj|dk|dm|do|dz|ec|ee|eg|eh|er|es|et|eu|fi|fj|fk|fm|fo|fr|ga|gb|gd|ge|gf|gg|gh|gi|gl|gm|gn|gp|gq|gr|gs|gt|gu|gw|gy|hk|hm|hn|hr|ht|hu|id|ie|il|im|in|io|iq|ir|is|it|je|jm|jo|jp|ke|kg|kh|ki|km|kn|kp|kr|kw|ky|kz|la|lb|lc|li|lk|lr|ls|lt|lu|lv|ly|ma|mc|md|me|mg|mh|mk|ml|mm|mn|mo|mp|mq|mr|ms|mt|mu|mv|mw|mx|my|mz|na|nc|ne|nf|ng|ni|nl|no|np|nr|nu|nz|om|pa|pe|pf|pg|ph|pk|pl|pm|pn|pr|ps|pt|pw|py|qa|re|ro|rs|ru|rw|sa|sb|sc|sd|se|sg|sh|si|sj|Ja|sk|sl|sm|sn|so|sr|ss|st|su|sv|sx|sy|sz|tc|td|tf|tg|th|tj|tk|tl|tm|tn|to|tp|tr|tt|tv|tw|tz|ua|ug|uk|us|uy|uz|va|vc|ve|vg|vi|vn|vu|wf|ws|ye|yt|yu|za|zm|zw)/)(?:[^\\s()<>{}\\[\\]]+|\\([^\\s()]*?\\([^\\s()]+\\)[^\\s()]*?\\)|\\([^\\s]+?\\))+(?:\\([^\\s()]*?\\([^\\s()]+\\)[^\\s()]*?\\)|\\([^\\s]+?\\)|[^\\s`!()\\[\\]{};:\\'\\\".,<>?«»“”‘’])|(?:(?<!@)[a-z0-9]+(?:[.\\-][a-z0-9]+)*[.](?:com|net|org|edu|gov|mil|aero|asia|biz|cat|coop|info|int|jobs|mobi|museum|name|post|pro|tel|travel|xxx|ac|ad|ae|af|ag|ai|al|am|an|ao|aq|ar|as|at|au|aw|ax|az|ba|bb|bd|be|bf|bg|bh|bi|bj|bm|bn|bo|br|bs|bt|bv|bw|by|bz|ca|cc|cd|cf|cg|ch|ci|ck|cl|cm|cn|co|cr|cs|cu|cv|cx|cy|cz|dd|de|dj|dk|dm|do|dz|ec|ee|eg|eh|er|es|et|eu|fi|fj|fk|fm|fo|fr|ga|gb|gd|ge|gf|gg|gh|gi|gl|gm|gn|gp|gq|gr|gs|gt|gu|gw|gy|hk|hm|hn|hr|ht|hu|id|ie|il|im|in|io|iq|ir|is|it|je|jm|jo|jp|ke|kg|kh|ki|km|kn|kp|kr|kw|ky|kz|la|lb|lc|li|lk|lr|ls|lt|lu|lv|ly|ma|mc|md|me|mg|mh|mk|ml|mm|mn|mo|mp|mq|mr|ms|mt|mu|mv|mw|mx|my|mz|na|nc|ne|nf|ng|ni|nl|no|np|nr|nu|nz|om|pa|pe|pf|pg|ph|pk|pl|pm|pn|pr|ps|pt|pw|py|qa|re|ro|rs|ru|rw|sa|sb|sc|sd|se|sg|sh|si|sj|Ja|sk|sl|sm|sn|so|sr|ss|st|su|sv|sx|sy|sz|tc|td|tf|tg|th|tj|tk|tl|tm|tn|to|tp|tr|tt|tv|tw|tz|ua|ug|uk|us|uy|uz|va|vc|ve|vg|vi|vn|vu|wf|ws|ye|yt|yu|za|zm|zw)\\b/?(?!@)))\"\"\"\n",
    "    STOP_WORDS = set(stopwords.words('english'))\n",
    "\n",
    "    \n",
    "    for tweet in tweets:\n",
    "        tweet = re.sub(URL_PATTERN, '', tweet)\n",
    "        tweet = tweet.lower()\n",
    "        tweet = re.sub('\\d', '', tweet) # Remove digits\n",
    "        tweet = re.sub('[^A-Za-z0-9]+', ' ', tweet) # Remove all special charaters\n",
    "        tokens = word_tokenize(tweet)\n",
    "        tweet = [lemmatizer.lemmatize(word) for word in tokens if not word in STOP_WORDS] # Lemmatize and remove stop words\n",
    "        tweet = \" \".join(tweet)\n",
    "        processed_list.append(tweet)\n",
    "    return processed_list\n",
    "\n",
    "tweets_train = preprocess(df_train['tweet_text'].to_list())\n",
    "tweets_test = preprocess(df_test['tweet_text'].to_list())\n"
   ]
  },
  {
   "cell_type": "markdown",
   "metadata": {},
   "source": [
    "A random tweet before and after:"
   ]
  },
  {
   "cell_type": "code",
   "execution_count": 168,
   "metadata": {},
   "outputs": [
    {
     "name": "stdout",
     "output_type": "stream",
     "text": [
      "Before:\n",
      "BREAKING: Coalition fails in bid to source extra Covid-19 vaccines from EU and UK. In other news, HSE chief executive Paul Reid’s salary increases to €420,103.\n",
      "\n",
      "After:\n",
      "breaking coalition fails bid source extra covid vaccine eu uk news hse chief executive paul reid salary increase\n"
     ]
    }
   ],
   "source": [
    "index = random.randint(0, len(df_train['tweet_text'].to_list()))\n",
    "\n",
    "print(\"Before:\\n\" + df_train['tweet_text'].to_list()[index])\n",
    "print(\"\\nAfter:\\n\" + tweets_train[index])"
   ]
  },
  {
   "cell_type": "markdown",
   "metadata": {},
   "source": [
    "Most common n words in the train data set:"
   ]
  },
  {
   "cell_type": "code",
   "execution_count": 169,
   "metadata": {},
   "outputs": [
    {
     "data": {
      "text/plain": [
       "[('vaccine', 4107),\n",
       " ('covid', 2968),\n",
       " ('people', 406),\n",
       " ('get', 392),\n",
       " ('u', 364),\n",
       " ('amp', 340),\n",
       " ('health', 324),\n",
       " ('coronavirus', 312),\n",
       " ('country', 266)]"
      ]
     },
     "execution_count": 169,
     "metadata": {},
     "output_type": "execute_result"
    }
   ],
   "source": [
    "from collections import Counter\n",
    "\n",
    "def get_most_common(n):\n",
    "    counter = Counter()\n",
    "    for tweet in tweets_train:\n",
    "        for word in tweet.split():\n",
    "            counter[word] += 1\n",
    "    return counter.most_common(n)\n",
    "    \n",
    "get_most_common(9)"
   ]
  },
  {
   "cell_type": "markdown",
   "metadata": {},
   "source": [
    "# Training the algorithmn\n",
    "- Since we are dealing with an highly imbalanced data set, we will be using Complement Naive Bayes algorithm to train our model, which is specifically designed imbalanced datasets. (https://scikit-learn.org/stable/modules/naive_bayes.html)\n",
    "- For evaluation we will use classification report module which outputs accuracy, f1-score and recall."
   ]
  },
  {
   "cell_type": "code",
   "execution_count": 269,
   "metadata": {},
   "outputs": [],
   "source": [
    "vectorizer = CountVectorizer(stop_words='english')\n",
    "vectorizer.fit(tweets_train)\n",
    "\n",
    "X_test = vectorizer.transform(tweets_test)\n",
    "X_train = vectorizer.transform(tweets_train)\n",
    "\n",
    "y_train = df_train['class_label'].to_list()\n",
    "y_test = df_test['class_label'].to_list()\n"
   ]
  },
  {
   "cell_type": "markdown",
   "metadata": {},
   "source": [
    "Naive bayes (with different variations):"
   ]
  },
  {
   "cell_type": "code",
   "execution_count": 270,
   "metadata": {},
   "outputs": [],
   "source": [
    "gnb = GaussianNB()\n",
    "y_pred_guassianNB = gnb.fit(X_train.toarray(), y_train).predict(X_test.toarray())"
   ]
  },
  {
   "cell_type": "code",
   "execution_count": 271,
   "metadata": {},
   "outputs": [],
   "source": [
    "mnb = MultinomialNB()\n",
    "y_pred_multinomialNB = mnb.fit(X_train.toarray(), y_train).predict(X_test.toarray())"
   ]
  },
  {
   "cell_type": "code",
   "execution_count": 272,
   "metadata": {},
   "outputs": [],
   "source": [
    "cnb = ComplementNB()\n",
    "y_pred_complementNB = cnb.fit(X_train.toarray(), y_train).predict(X_test.toarray())"
   ]
  },
  {
   "cell_type": "code",
   "execution_count": 273,
   "metadata": {},
   "outputs": [],
   "source": [
    "bnb = BernoulliNB()\n",
    "y_pred_bernoulliNB = bnb.fit(X_train.toarray(), y_train).predict(X_test.toarray())"
   ]
  },
  {
   "cell_type": "markdown",
   "metadata": {},
   "source": [
    "# Evaluation"
   ]
  },
  {
   "cell_type": "code",
   "execution_count": 274,
   "metadata": {},
   "outputs": [
    {
     "name": "stdout",
     "output_type": "stream",
     "text": [
      "              precision    recall  f1-score   support\n",
      "\n",
      "           0       0.92      0.97      0.94       828\n",
      "           1       0.31      0.15      0.20        82\n",
      "\n",
      "    accuracy                           0.89       910\n",
      "   macro avg       0.61      0.56      0.57       910\n",
      "weighted avg       0.86      0.89      0.88       910\n",
      "\n"
     ]
    }
   ],
   "source": [
    "print(classification_report(y_test, y_pred_guassianNB))"
   ]
  },
  {
   "cell_type": "code",
   "execution_count": 275,
   "metadata": {},
   "outputs": [
    {
     "name": "stdout",
     "output_type": "stream",
     "text": [
      "              precision    recall  f1-score   support\n",
      "\n",
      "           0       0.91      1.00      0.95       828\n",
      "           1       0.56      0.06      0.11        82\n",
      "\n",
      "    accuracy                           0.91       910\n",
      "   macro avg       0.74      0.53      0.53       910\n",
      "weighted avg       0.88      0.91      0.88       910\n",
      "\n"
     ]
    }
   ],
   "source": [
    "print(classification_report(y_test, y_pred_multinomialNB))"
   ]
  },
  {
   "cell_type": "code",
   "execution_count": 276,
   "metadata": {},
   "outputs": [
    {
     "name": "stdout",
     "output_type": "stream",
     "text": [
      "              precision    recall  f1-score   support\n",
      "\n",
      "           0       0.92      0.97      0.95       828\n",
      "           1       0.42      0.20      0.27        82\n",
      "\n",
      "    accuracy                           0.90       910\n",
      "   macro avg       0.67      0.58      0.61       910\n",
      "weighted avg       0.88      0.90      0.89       910\n",
      "\n"
     ]
    }
   ],
   "source": [
    "print(classification_report(y_test, y_pred_complementNB))"
   ]
  },
  {
   "cell_type": "code",
   "execution_count": 277,
   "metadata": {},
   "outputs": [
    {
     "name": "stdout",
     "output_type": "stream",
     "text": [
      "              precision    recall  f1-score   support\n",
      "\n",
      "           0       0.91      1.00      0.95       828\n",
      "           1       0.00      0.00      0.00        82\n",
      "\n",
      "    accuracy                           0.91       910\n",
      "   macro avg       0.45      0.50      0.48       910\n",
      "weighted avg       0.83      0.91      0.87       910\n",
      "\n"
     ]
    }
   ],
   "source": [
    "print(classification_report(y_test, y_pred_bernoulliNB, zero_division=False)) # zero_division is for warning supression."
   ]
  },
  {
   "cell_type": "markdown",
   "metadata": {},
   "source": [
    "Comment:\n",
    "- From the classification reports above we can see that the models are not good for classifying the 1-labels. \n",
    "- Some models have high precision, but low recall or the other way around. This leads to a low f1-score, which is a combination of precision and recall.\n",
    "- We can see that the complementNB model has the best f1-result for 1-labels, which makes because it's designed for skewed data sets.\n",
    "- We will continue to try different parameters on complementNB model to try to improve the results."
   ]
  },
  {
   "cell_type": "code",
   "execution_count": 285,
   "metadata": {},
   "outputs": [
    {
     "name": "stdout",
     "output_type": "stream",
     "text": [
      "Alpha: 0.00, f1-score: 0.20\n",
      "Alpha: 0.10, f1-score: 0.34\n",
      "Alpha: 0.20, f1-score: 0.34\n",
      "Alpha: 0.30, f1-score: 0.37\n",
      "Alpha: 0.40, f1-score: 0.37\n",
      "Alpha: 0.50, f1-score: 0.32\n",
      "Alpha: 0.60, f1-score: 0.34\n",
      "Alpha: 0.70, f1-score: 0.34\n",
      "Alpha: 0.80, f1-score: 0.32\n",
      "Alpha: 0.90, f1-score: 0.30\n",
      "Alpha: 1.00, f1-score: 0.27\n"
     ]
    }
   ],
   "source": [
    "def test_alphas(alphas):\n",
    "    for alpha in alphas:\n",
    "        cnb = ComplementNB(alpha=alpha)\n",
    "        y_pred_complementNB = cnb.fit(X_train.toarray(), y_train).predict(X_test.toarray())\n",
    "        print(\"Alpha: {:.2f}, f1-score: {:.2f}\".format(alpha, f1_score(y_test, y_pred_complementNB))) \n",
    "\n",
    "test_alphas(alphas = np.arange(1.0e-10, 1.1, 0.1))"
   ]
  },
  {
   "cell_type": "code",
   "execution_count": 284,
   "metadata": {},
   "outputs": [
    {
     "name": "stdout",
     "output_type": "stream",
     "text": [
      "              precision    recall  f1-score   support\n",
      "\n",
      "           0       0.94      0.93      0.93       828\n",
      "           1       0.35      0.40      0.38        82\n",
      "\n",
      "    accuracy                           0.88       910\n",
      "   macro avg       0.65      0.66      0.66       910\n",
      "weighted avg       0.89      0.88      0.88       910\n",
      "\n"
     ]
    }
   ],
   "source": [
    "cnb = ComplementNB(alpha=0.35)\n",
    "y_pred_complementNB = cnb.fit(X_train.toarray(), y_train).predict(X_test.toarray())\n",
    "print(classification_report(y_test, y_pred_complementNB))"
   ]
  }
 ],
 "metadata": {
  "interpreter": {
   "hash": "30f714e597357a060011314c390f095b14bdfc77e179572e10be14d1253a6501"
  },
  "kernelspec": {
   "display_name": "Python 3.10.2 64-bit",
   "language": "python",
   "name": "python3"
  },
  "language_info": {
   "codemirror_mode": {
    "name": "ipython",
    "version": 3
   },
   "file_extension": ".py",
   "mimetype": "text/x-python",
   "name": "python",
   "nbconvert_exporter": "python",
   "pygments_lexer": "ipython3",
   "version": "3.10.2"
  },
  "orig_nbformat": 4
 },
 "nbformat": 4,
 "nbformat_minor": 2
}
