{
 "cells": [
  {
   "cell_type": "code",
   "execution_count": 124,
   "metadata": {
    "_cell_guid": "79c7e3d0-c299-4dcb-8224-4455121ee9b0",
    "_uuid": "d629ff2d2480ee46fbb7e2d37f6b5fab8052498a"
   },
   "outputs": [],
   "source": [
    "import pandas as pd\n",
    "import numpy as np"
   ]
  },
  {
   "cell_type": "markdown",
   "metadata": {},
   "source": [
    "### Helper Functions"
   ]
  },
  {
   "cell_type": "code",
   "execution_count": 125,
   "metadata": {},
   "outputs": [],
   "source": [
    "def preprocess_df(df):\n",
    "    for col in df.columns:\n",
    "        if df[col].unique().dtype == \"int64\" or df[col].unique().dtype == \"float64\":\n",
    "            df[col] = df[col].fillna(df[col].median())\n",
    "            if df[col].unique().dtype == \"float64\":\n",
    "                df[col] = df[col].astype('int64')\n",
    "        else:\n",
    "            df[col] = df[col].fillna(\"NA\")\n",
    "            df[col] = df[col].astype('category')\n",
    "            \n",
    "    # Hardcoding numeric to categorical\n",
    "    df[\"MSSubClass\"] = df[\"MSSubClass\"].astype('category')\n",
    "    df[\"OverallQual\"] = df[\"OverallQual\"].astype('category')\n",
    "    df[\"OverallCond\"] = df[\"OverallCond\"].astype('category')\n",
    "    return df\n",
    "    \n",
    "def df_to_numerical(df):\n",
    "    numerical_df = pd.DataFrame()\n",
    "    for col in df.columns:\n",
    "        if df[col].dtype == \"int64\":\n",
    "            numerical_df[col] = df[col]\n",
    "            continue\n",
    "        else:\n",
    "            df[col] = df[col].astype(\"category\")\n",
    "            new_col = '{val}_Cat'.format(val=col)\n",
    "            numerical_df[new_col] = df[col].cat.codes\n",
    "    return numerical_df\n"
   ]
  },
  {
   "cell_type": "markdown",
   "metadata": {},
   "source": [
    "# Random Forest"
   ]
  },
  {
   "cell_type": "markdown",
   "metadata": {},
   "source": [
    "# Decision Tree"
   ]
  },
  {
   "cell_type": "code",
   "execution_count": 126,
   "metadata": {},
   "outputs": [],
   "source": [
    "class DecisionNode():\n",
    "    def __init__(self, feature_idx=None, threshold=None, value=None, true_branch=None, false_branch=None):\n",
    "        self.feature_idx = feature_idx # index of the feature that is used\n",
    "        self.threshold = threshold # threshold value for feature when making the decision\n",
    "        self.value = value # value if the node is a leaf in the tree\n",
    "        self.true_branch = true_branch # the node we go to if decision returns True\n",
    "        self.false_branch = false_branch # the node we go to if decision returns False"
   ]
  },
  {
   "cell_type": "code",
   "execution_count": 127,
   "metadata": {},
   "outputs": [],
   "source": [
    "class DecisionTree():\n",
    "    def __init__(self, min_mse=float('inf'), max_depth=10):\n",
    "        self.root = None # root of this tree\n",
    "        self.min_mse = min_mse # minimum information gain to allow splitting\n",
    "        self.max_depth = max_depth # maximum depth the tree grows to\n",
    "\n",
    "    def fit(self, X, y):\n",
    "        self.root = self.build_tree(X, y)\n",
    "        \n",
    "    def build_tree(self, X, y, current_depth=0):\n",
    "        decision = None\n",
    "        subtrees = None\n",
    "        self.min_mse = self.calculate_MSE(y, np.mean(y))\n",
    "        \n",
    "        df = pd.concat((X, y), axis=1)\n",
    "        n_rows, n_features = X.shape\n",
    "        #print('Nfeatures:',n_features)\n",
    "        if current_depth <= self.max_depth:\n",
    "            max_mse = self.min_mse\n",
    "            for feature_idx in range(n_features):\n",
    "                feature_values = X.iloc[:, feature_idx]\n",
    "                threshold = feature_values.median()\n",
    "                #print(threshold)\n",
    "                X_true, X_false = self.split_by_feature(df, feature_idx, threshold)\n",
    "                if len(X_true) > 0 and len(X_false) > 0:\n",
    "                    y_true = X_true.iloc[:,-1]\n",
    "                    y_false = X_false.iloc[:,-1]\n",
    "                    left_mean = np.mean(y_true)\n",
    "                    right_mean = np.mean(y_false)\n",
    "                    \n",
    "                    res_l = y_true - left_mean\n",
    "                    res_r = y_false - right_mean\n",
    "                    \n",
    "                    r = np.concatenate((res_l, res_r), axis=None)\n",
    "                    r = r**2\n",
    "                    mse = np.mean(r)\n",
    "                    #print(\"mse:\", mse)\n",
    "                    #mse = self.calculate_MSE(y, y_true) + self.calculate_MSE(y, y_false)\n",
    "                    if max_mse > mse:\n",
    "                        max_mse = mse\n",
    "                        decision = {\"feature_idx\":feature_idx, \"threshold\":threshold}\n",
    "                        subtrees = {\"X_true\":X_true.iloc[:,:-1],\n",
    "                                    \"y_true\":y_true,\n",
    "                                    \"X_false\":X_false.iloc[:,:-1],\n",
    "                                    \"y_false\":y_false}\n",
    "            if max_mse < self.min_mse:\n",
    "                true_branch = self.build_tree(subtrees[\"X_true\"], subtrees[\"y_true\"], current_depth+1)\n",
    "                #print(\"building a new branch\")\n",
    "                false_branch = self.build_tree(subtrees[\"X_false\"], subtrees[\"y_false\"], current_depth+1)\n",
    "                return DecisionNode(feature_idx=decision[\"feature_idx\"], threshold=decision[\"threshold\"], true_branch=true_branch, false_branch=false_branch)\n",
    "\n",
    "        return DecisionNode(value=np.mean(y))\n",
    "\n",
    "    def calculate_MSE(self, y, y_pred):\n",
    "        y = np.array(y)\n",
    "        y_pred = np.mean(y_pred)\n",
    "        n = len(y)\n",
    "        return (1/n)*sum((y - y_pred)**2)\n",
    "        \n",
    "    def split_by_feature(self, X, feature_idx, threshold):\n",
    "        X_true = X[X.iloc[:,feature_idx] >= threshold]\n",
    "        X_false = X[X.iloc[:,feature_idx] < threshold]\n",
    "        return X_true, X_false\n",
    "        \n",
    "    def predict_value(self, x, tree=None):\n",
    "        if tree is None:\n",
    "            tree = self.root\n",
    "        if tree.value is not None:\n",
    "            return tree.value\n",
    "        feature_value = x[tree.feature_idx]\n",
    "        branch = tree.false_branch\n",
    "        if feature_value >= tree.threshold:\n",
    "            branch = tree.true_branch\n",
    "        return self.predict_value(x, branch)\n",
    "    \n",
    "    def predict(self, X):\n",
    "        y_pred = []\n",
    "        ids = []\n",
    "        for idx, row in X.iterrows():\n",
    "            y_pred.append(self.predict_value(row, self.root))\n",
    "            ids.append(idx)\n",
    "        return ids, y_pred"
   ]
  },
  {
   "cell_type": "code",
   "execution_count": 128,
   "metadata": {},
   "outputs": [],
   "source": [
    "class RandomForest():\n",
    "    def __init__(self):\n",
    "        self.data = None  # training data set (loaded into memory)\n",
    "        self.trees = []  # decision trees\n",
    "    \n",
    "    def __load_data(self, df):\n",
    "        self.data = df\n",
    "        \n",
    "    def __subsampling(self, train_set, sample_size_ratio):\n",
    "        sample_number = round(len(self.data) * sample_size_ratio)\n",
    "        subsample = train_set.sample(sample_number, replace=True)\n",
    "        return subsample\n",
    "\n",
    "    def build_model(self, train_set, sample_size_ratio, number_of_trees, max_depth=5):\n",
    "        self.__load_data(train_set)\n",
    "        for i in range(number_of_trees):\n",
    "            sample = self.__subsampling(train_set, sample_size_ratio)\n",
    "            #print(\"sample:\\n\",sample.iloc[:,-1])\n",
    "            X = sample.iloc[:,:-1]\n",
    "            y = sample.iloc[:,-1]\n",
    "            tree = DecisionTree(max_depth) # build a tree with sample data and split conditions\n",
    "            tree.fit(X, y)\n",
    "            self.trees.append(tree)\n",
    "\n",
    "    def predict(self, test_set):\n",
    "        rf_predictions = []\n",
    "        for tree in self.trees:\n",
    "            ids, rf_prediction = tree.predict(test_set)\n",
    "            rf_predictions.append(rf_prediction)\n",
    "        for prediction in rf_predictions:\n",
    "            arrays = [np.array(prediction)]\n",
    "        mean_values = [int(np.mean(i)) for i in zip(*arrays)]\n",
    "        return ids, mean_values"
   ]
  },
  {
   "cell_type": "code",
   "execution_count": 129,
   "metadata": {},
   "outputs": [],
   "source": [
    "df = pd.read_csv('housing_price_train.csv', index_col='Id')\n",
    "df = preprocess_df(df)\n",
    "X_test = pd.read_csv('housing_price_test.csv', index_col='Id')\n",
    "X_test = preprocess_df(X_test)\n"
   ]
  },
  {
   "cell_type": "code",
   "execution_count": 130,
   "metadata": {},
   "outputs": [],
   "source": [
    "train_df = df_to_numerical(df)\n",
    "test_df = df_to_numerical(X_test)"
   ]
  },
  {
   "cell_type": "code",
   "execution_count": 131,
   "metadata": {},
   "outputs": [],
   "source": [
    "rf = RandomForest()\n",
    "rf.build_model(train_set = train_df, sample_size_ratio=0.3, number_of_trees=2, max_depth=2)\n",
    "ids, mean_values = rf.predict(test_df)"
   ]
  },
  {
   "cell_type": "code",
   "execution_count": 132,
   "metadata": {},
   "outputs": [],
   "source": [
    "data = {\"Id\":ids, \"SalePrice\":mean_values}\n",
    "output = pd.DataFrame(data).set_index('Id')\n",
    "output.to_csv('samples.csv')"
   ]
  }
 ],
 "metadata": {
  "kernelspec": {
   "display_name": "Python 3 (ipykernel)",
   "language": "python",
   "name": "python3"
  },
  "language_info": {
   "codemirror_mode": {
    "name": "ipython",
    "version": 3
   },
   "file_extension": ".py",
   "mimetype": "text/x-python",
   "name": "python",
   "nbconvert_exporter": "python",
   "pygments_lexer": "ipython3",
   "version": "3.9.7"
  }
 },
 "nbformat": 4,
 "nbformat_minor": 1
}
